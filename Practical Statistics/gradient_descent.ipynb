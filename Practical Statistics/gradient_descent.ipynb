{
 "cells": [
  {
   "cell_type": "markdown",
   "id": "7402d2f0-84f5-4c94-8161-ef35d041346c",
   "metadata": {},
   "source": [
    "## Function that updates the parameters $w$ and $b$ "
   ]
  },
  {
   "cell_type": "code",
   "execution_count": 1,
   "id": "5e77abba-7927-4f70-beda-884dd48dc085",
   "metadata": {},
   "outputs": [],
   "source": [
    "def update_w_and_b(spendings, sales, w,b,alpha):\n",
    "    dl_dw = 0.0\n",
    "    dl_db = 0.0\n",
    "    N = len(spendings)\n",
    "\n",
    "    for i in range(N):\n",
    "        dl_dw += -2*spendings[i]*(sales[i]-(w*spendings[i]+b))\n",
    "        dl_db += -2*(sales[i]-(w*spendings[i] + b))\n",
    "\n",
    "    # update w and b\n",
    "    w = w - (1/float(N)) * dl_dw*alpha\n",
    "    b = b - (1/float(N)) * dl_db*alpha\n",
    "    return w,b"
   ]
  },
  {
   "cell_type": "markdown",
   "id": "41da822c-2104-457e-ac0e-45820457e68d",
   "metadata": {},
   "source": [
    "Average loss computes the mean squared error"
   ]
  },
  {
   "cell_type": "code",
   "execution_count": 3,
   "id": "26252109-6ee4-40e8-8b7c-6567610f3c0e",
   "metadata": {},
   "outputs": [],
   "source": [
    "def avg_loss(spendings, sales, w, b):\n",
    "    N = len(spendings)\n",
    "    total_error = 0.0\n",
    "    for i in range(N):\n",
    "        total_error += (sales[i] - (w*spendings[i]+b))**2\n",
    "\n",
    "    return total_error/float(N)"
   ]
  },
  {
   "cell_type": "markdown",
   "id": "f9b9f3f7-b4e7-45dd-b718-ff6d986aece6",
   "metadata": {},
   "source": [
    "Function that loops over multiple epochs "
   ]
  },
  {
   "cell_type": "code",
   "execution_count": 2,
   "id": "5351d2f6-013f-498e-b9a2-48b2da7c9978",
   "metadata": {},
   "outputs": [],
   "source": [
    "def train(spendings, sales, w, b, alpha, epochs):\n",
    "    for e in range(epochs):\n",
    "        w,b = update_w_and_b(spendings, sales, w, b, alpha)\n",
    "\n",
    "        #log the progress\n",
    "        if e % 400 == 0:\n",
    "            print(\"epoch:\", e, \"loss:\", avg_loss(spendings, sales, w, b))\n",
    "\n",
    "    return w,b"
   ]
  },
  {
   "cell_type": "markdown",
   "id": "67f3394c-2ae4-41bc-87a3-ce3f48cb8469",
   "metadata": {},
   "source": [
    "Finally, once have found the optimal values of parameters w and b, the only missing piece is a function that makes predictions"
   ]
  },
  {
   "cell_type": "code",
   "execution_count": 4,
   "id": "fb1a297e-3fa2-499d-8c69-c1f532858f4a",
   "metadata": {},
   "outputs": [],
   "source": [
    "def predic(x,w,b):\n",
    "    return w*x+b"
   ]
  },
  {
   "cell_type": "code",
   "execution_count": null,
   "id": "66ab0386-cd60-4657-affc-a8cbe1b63847",
   "metadata": {},
   "outputs": [],
   "source": []
  }
 ],
 "metadata": {
  "kernelspec": {
   "display_name": "Python 3 (ipykernel)",
   "language": "python",
   "name": "python3"
  },
  "language_info": {
   "codemirror_mode": {
    "name": "ipython",
    "version": 3
   },
   "file_extension": ".py",
   "mimetype": "text/x-python",
   "name": "python",
   "nbconvert_exporter": "python",
   "pygments_lexer": "ipython3",
   "version": "3.11.7"
  }
 },
 "nbformat": 4,
 "nbformat_minor": 5
}
