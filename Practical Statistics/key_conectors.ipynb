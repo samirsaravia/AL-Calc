{
 "cells": [
  {
   "cell_type": "markdown",
   "id": "9214f5fc-25cd-4250-bee3-b65b1b26494b",
   "metadata": {},
   "source": [
    "## Finding Key Connectors"
   ]
  },
  {
   "cell_type": "code",
   "execution_count": 4,
   "id": "e5d65a6f-2347-4d3b-aba3-9304034611d3",
   "metadata": {},
   "outputs": [],
   "source": [
    "users = [\n",
    "    {\"id\":0, \"name\":\"José\"},\n",
    "    {\"id\":1, \"name\":\"Maria\"},\n",
    "    {\"id\":2, \"name\":\"Pedro\"},\n",
    "    {\"id\":3, \"name\":\"Anna\"},\n",
    "    {\"id\":4, \"name\":\"Carlos\"},\n",
    "    {\"id\":5, \"name\":\"Joana\"},\n",
    "    {\"id\":6, \"name\":\"Marcos\"},\n",
    "    {\"id\":7, \"name\":\"Julia\"},\n",
    "    {\"id\":8, \"name\":\"Joel\"},\n",
    "    {\"id\":9, \"name\":\"Manuela\"},\n",
    "]"
   ]
  },
  {
   "cell_type": "code",
   "execution_count": 5,
   "id": "ffdd69d1-ee6b-45b6-bba3-065169d5b8a5",
   "metadata": {},
   "outputs": [],
   "source": [
    "friendship_pairs = [(0,1),(0,2),(1,2),(1,3),(2,3),(3,4),(4,5),\n",
    "                   (5,6),(5,7),(6,8),(7,8),(8,9)]"
   ]
  },
  {
   "cell_type": "code",
   "execution_count": 6,
   "id": "29bc3f14-5bf4-4bf8-8e6a-b754460021df",
   "metadata": {},
   "outputs": [],
   "source": [
    "# inicia um dicionario com uma lista vazia para cada usuario id\n",
    "friendships = {user[\"id\"]:[] for user in users}"
   ]
  },
  {
   "cell_type": "code",
   "execution_count": 7,
   "id": "56d546d6-3ad5-4ffd-a038-7a162428d040",
   "metadata": {},
   "outputs": [
    {
     "data": {
      "text/plain": [
       "{0: [], 1: [], 2: [], 3: [], 4: [], 5: [], 6: [], 7: [], 8: [], 9: []}"
      ]
     },
     "execution_count": 7,
     "metadata": {},
     "output_type": "execute_result"
    }
   ],
   "source": [
    "friendships"
   ]
  },
  {
   "cell_type": "code",
   "execution_count": 9,
   "id": "8453899b-8e1a-4738-9cf4-a912f27ac183",
   "metadata": {},
   "outputs": [],
   "source": [
    "#loop na lista friendship pairs para popular este\n",
    "for i,j in friendship_pairs:\n",
    "    friendships[i].append(j) # adicione o j como amigo de i\n",
    "    friendships[j].append(i)  # adicione i como amigo de j"
   ]
  },
  {
   "cell_type": "code",
   "execution_count": 10,
   "id": "160c67e9-d7b2-4556-b6a2-1f4b02d0b3c7",
   "metadata": {},
   "outputs": [
    {
     "data": {
      "text/plain": [
       "{0: [1, 2],\n",
       " 1: [0, 2, 3],\n",
       " 2: [0, 1, 3],\n",
       " 3: [1, 2, 4],\n",
       " 4: [3, 5],\n",
       " 5: [4, 6, 7],\n",
       " 6: [5, 8],\n",
       " 7: [5, 8],\n",
       " 8: [6, 7, 9],\n",
       " 9: [8]}"
      ]
     },
     "execution_count": 10,
     "metadata": {},
     "output_type": "execute_result"
    }
   ],
   "source": [
    "friendships"
   ]
  },
  {
   "cell_type": "code",
   "execution_count": 16,
   "id": "745a32c6-690a-40f9-bbdc-98286a75ebc9",
   "metadata": {},
   "outputs": [],
   "source": [
    "def number_of_friends(user):\n",
    "    \"\"\"How many friends does user_have?\"\"\"\n",
    "    user_id = user[\"id\"]\n",
    "    friend_ids = friendships[user_id]\n",
    "    return len(friend_ids)"
   ]
  },
  {
   "cell_type": "code",
   "execution_count": 19,
   "id": "d3883a1f-ea7a-40db-b625-937301b75179",
   "metadata": {},
   "outputs": [
    {
     "data": {
      "text/plain": [
       "24"
      ]
     },
     "execution_count": 19,
     "metadata": {},
     "output_type": "execute_result"
    }
   ],
   "source": [
    "total_connections = sum(number_of_friends(user) for user in users)\n",
    "total_connections"
   ]
  },
  {
   "cell_type": "code",
   "execution_count": 20,
   "id": "82ada4a0-1631-417a-bfb4-bea263b00b9d",
   "metadata": {},
   "outputs": [],
   "source": [
    "num_users = len(users)"
   ]
  },
  {
   "cell_type": "code",
   "execution_count": 22,
   "id": "5de56903-2ba5-4aad-aec1-f7c9dd75d2f1",
   "metadata": {},
   "outputs": [
    {
     "data": {
      "text/plain": [
       "2.4"
      ]
     },
     "execution_count": 22,
     "metadata": {},
     "output_type": "execute_result"
    }
   ],
   "source": [
    "avg_connections = total_connections / num_users\n",
    "avg_connections"
   ]
  },
  {
   "cell_type": "code",
   "execution_count": null,
   "id": "c8b57158-8fca-47e8-956e-56e870ff32a6",
   "metadata": {},
   "outputs": [],
   "source": []
  }
 ],
 "metadata": {
  "kernelspec": {
   "display_name": "Python 3 (ipykernel)",
   "language": "python",
   "name": "python3"
  },
  "language_info": {
   "codemirror_mode": {
    "name": "ipython",
    "version": 3
   },
   "file_extension": ".py",
   "mimetype": "text/x-python",
   "name": "python",
   "nbconvert_exporter": "python",
   "pygments_lexer": "ipython3",
   "version": "3.11.7"
  }
 },
 "nbformat": 4,
 "nbformat_minor": 5
}
