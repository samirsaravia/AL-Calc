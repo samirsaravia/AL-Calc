{
 "cells": [
  {
   "cell_type": "code",
   "execution_count": 1,
   "id": "40a2d264",
   "metadata": {},
   "outputs": [],
   "source": [
    "import numpy as np"
   ]
  },
  {
   "cell_type": "markdown",
   "id": "00de80ee",
   "metadata": {},
   "source": [
    "## Dimensão de Matrizes\n",
    "\n",
    "1-D, 2-D, 3-D. `dtype` é usada para str, float, int ou número complexo.  \n",
    "`.ndim` usada para conhecer a dimensão da matriz."
   ]
  },
  {
   "cell_type": "code",
   "execution_count": 2,
   "id": "afe7b4a9",
   "metadata": {},
   "outputs": [
    {
     "data": {
      "text/plain": [
       "0"
      ]
     },
     "execution_count": 2,
     "metadata": {},
     "output_type": "execute_result"
    }
   ],
   "source": [
    "zero_d = np.array(0)\n",
    "zero_d.ndim"
   ]
  },
  {
   "cell_type": "code",
   "execution_count": 3,
   "id": "9471dc38",
   "metadata": {},
   "outputs": [
    {
     "data": {
      "text/plain": [
       "1"
      ]
     },
     "execution_count": 3,
     "metadata": {},
     "output_type": "execute_result"
    }
   ],
   "source": [
    "one_d =  np.array([0,1])\n",
    "one_d.ndim"
   ]
  },
  {
   "cell_type": "code",
   "execution_count": 4,
   "id": "ef4d217b",
   "metadata": {},
   "outputs": [
    {
     "data": {
      "text/plain": [
       "2"
      ]
     },
     "execution_count": 4,
     "metadata": {},
     "output_type": "execute_result"
    }
   ],
   "source": [
    "two_d =  np.array([[0,1],[2,3]], dtype= int)\n",
    "two_d.ndim"
   ]
  },
  {
   "cell_type": "code",
   "execution_count": 5,
   "id": "331499b7",
   "metadata": {},
   "outputs": [
    {
     "name": "stdout",
     "output_type": "stream",
     "text": [
      "[[0 1]\n",
      " [2 3]]\n"
     ]
    }
   ],
   "source": [
    "print(two_d)"
   ]
  },
  {
   "cell_type": "code",
   "execution_count": 6,
   "id": "1aa3b413",
   "metadata": {},
   "outputs": [
    {
     "data": {
      "text/plain": [
       "3"
      ]
     },
     "execution_count": 6,
     "metadata": {},
     "output_type": "execute_result"
    }
   ],
   "source": [
    "three_d = np.array([[[1,2],[2,3]],[[3,4],[5,6]]], dtype= float)\n",
    "three_d.ndim"
   ]
  },
  {
   "cell_type": "code",
   "execution_count": 7,
   "id": "d9f770c6",
   "metadata": {},
   "outputs": [
    {
     "name": "stdout",
     "output_type": "stream",
     "text": [
      "[[[1. 2.]\n",
      "  [2. 3.]]\n",
      "\n",
      " [[3. 4.]\n",
      "  [5. 6.]]]\n"
     ]
    }
   ],
   "source": [
    "print(three_d)"
   ]
  },
  {
   "cell_type": "markdown",
   "id": "213ac165",
   "metadata": {},
   "source": [
    "## Indexando Matrizes\n",
    "\n",
    "Como nas listas, começa indexando no zero,segundo elemento é 1 e assim por diante...números negativos também é possível indexar.\n",
    "\n",
    "`.shape` para verificar o formato da matriz."
   ]
  },
  {
   "cell_type": "code",
   "execution_count": 8,
   "id": "60d14f8c",
   "metadata": {},
   "outputs": [
    {
     "data": {
      "text/plain": [
       "array([[[ 1,  2,  3],\n",
       "        [ 4,  5,  6]],\n",
       "\n",
       "       [[ 7,  8,  9],\n",
       "        [10, 11, 12]]])"
      ]
     },
     "execution_count": 8,
     "metadata": {},
     "output_type": "execute_result"
    }
   ],
   "source": [
    "exemplo = np.array([\n",
    "    [[1,2,3],[4,5,6]],\n",
    "    [[7,8,9],[10,11,12]]\n",
    "], dtype=int)\n",
    "exemplo"
   ]
  },
  {
   "cell_type": "code",
   "execution_count": 9,
   "id": "04bb005b",
   "metadata": {},
   "outputs": [
    {
     "data": {
      "text/plain": [
       "2"
      ]
     },
     "execution_count": 9,
     "metadata": {},
     "output_type": "execute_result"
    }
   ],
   "source": [
    "exemplo[0][0][1]\n",
    "exemplo[0,0,1]"
   ]
  },
  {
   "cell_type": "code",
   "execution_count": 10,
   "id": "3617f264",
   "metadata": {},
   "outputs": [
    {
     "data": {
      "text/plain": [
       "array([10, 11, 12])"
      ]
     },
     "execution_count": 10,
     "metadata": {},
     "output_type": "execute_result"
    }
   ],
   "source": [
    "exemplo[1][1]\n",
    "exemplo[1,1]"
   ]
  },
  {
   "cell_type": "code",
   "execution_count": 11,
   "id": "8f100809",
   "metadata": {},
   "outputs": [
    {
     "data": {
      "text/plain": [
       "12"
      ]
     },
     "execution_count": 11,
     "metadata": {},
     "output_type": "execute_result"
    }
   ],
   "source": [
    "#negativo\n",
    "exemplo[1,1,-1]\n",
    "exemplo[1][1][-1]"
   ]
  },
  {
   "cell_type": "code",
   "execution_count": 12,
   "id": "c524c49a",
   "metadata": {},
   "outputs": [
    {
     "data": {
      "text/plain": [
       "(2, 2, 3)"
      ]
     },
     "execution_count": 12,
     "metadata": {},
     "output_type": "execute_result"
    }
   ],
   "source": [
    "exemplo.shape"
   ]
  },
  {
   "cell_type": "code",
   "execution_count": 13,
   "id": "28fc131d",
   "metadata": {},
   "outputs": [
    {
     "data": {
      "text/plain": [
       "array([[[[ 1,  2,  3],\n",
       "         [ 4,  5,  6]]],\n",
       "\n",
       "\n",
       "       [[[ 7,  8,  9],\n",
       "         [10, 11, 12]]]])"
      ]
     },
     "execution_count": 13,
     "metadata": {},
     "output_type": "execute_result"
    }
   ],
   "source": [
    "d4 = np.array([\n",
    "    [[\n",
    "        [1,2,3],[4,5,6]\n",
    "    ]],\n",
    "    [[\n",
    "        [7,8,9],[10,11,12]\n",
    "    ]]\n",
    "])\n",
    "\n",
    "d4"
   ]
  },
  {
   "cell_type": "code",
   "execution_count": 14,
   "id": "4f3ded11",
   "metadata": {},
   "outputs": [
    {
     "data": {
      "text/plain": [
       "(2, 1, 2, 3)"
      ]
     },
     "execution_count": 14,
     "metadata": {},
     "output_type": "execute_result"
    }
   ],
   "source": [
    "d4.shape"
   ]
  },
  {
   "cell_type": "markdown",
   "id": "947540c6",
   "metadata": {},
   "source": [
    "## Formatando matrizes\n",
    "\n",
    "Usando a função `nome.reshape()`"
   ]
  },
  {
   "cell_type": "code",
   "execution_count": 15,
   "id": "59786885",
   "metadata": {},
   "outputs": [
    {
     "data": {
      "text/plain": [
       "(2, 3)"
      ]
     },
     "execution_count": 15,
     "metadata": {},
     "output_type": "execute_result"
    }
   ],
   "source": [
    "E = np.array([[1,2,30],[4,5,6]])\n",
    "E.shape"
   ]
  },
  {
   "cell_type": "code",
   "execution_count": 16,
   "id": "7a0e87c6",
   "metadata": {},
   "outputs": [
    {
     "data": {
      "text/plain": [
       "array([[ 1,  2],\n",
       "       [30,  4],\n",
       "       [ 5,  6]])"
      ]
     },
     "execution_count": 16,
     "metadata": {},
     "output_type": "execute_result"
    }
   ],
   "source": [
    "E.reshape(3,2)"
   ]
  },
  {
   "cell_type": "markdown",
   "id": "b043e5b3",
   "metadata": {},
   "source": [
    "Número inpróprios ao refazer a matriz, resulta em erro."
   ]
  },
  {
   "cell_type": "markdown",
   "id": "2f759969",
   "metadata": {},
   "source": []
  },
  {
   "cell_type": "markdown",
   "id": "2305a03f",
   "metadata": {},
   "source": [
    "## Concatenando Matrizes\n",
    "\n",
    "\n",
    "Duas ou mais matrizes podem ser juntadas para formar um conjunto de elementos baseado no número de indexação."
   ]
  },
  {
   "cell_type": "markdown",
   "id": "a7747aa5",
   "metadata": {},
   "source": [
    "### Concatenando 1-D"
   ]
  },
  {
   "cell_type": "code",
   "execution_count": 17,
   "id": "a4bfae71",
   "metadata": {},
   "outputs": [
    {
     "data": {
      "text/plain": [
       "1"
      ]
     },
     "execution_count": 17,
     "metadata": {},
     "output_type": "execute_result"
    }
   ],
   "source": [
    "D11 = np.array([\n",
    "    \"Cloreto de Berílio\",\n",
    "    \"Fluoreto de Berílio\",\n",
    "    \"Oxido de Berílio\",\n",
    "    \"Sulfato de Berílio\"\n",
    "])\n",
    "D11.ndim"
   ]
  },
  {
   "cell_type": "code",
   "execution_count": 18,
   "id": "e704c928",
   "metadata": {},
   "outputs": [
    {
     "data": {
      "text/plain": [
       "1"
      ]
     },
     "execution_count": 18,
     "metadata": {},
     "output_type": "execute_result"
    }
   ],
   "source": [
    "D12 = np.array([\n",
    "    \"BeCl2\",\n",
    "    \"BeF2\",\n",
    "    \"BeO\",\n",
    "    \"BeSO4\"\n",
    "])\n",
    "D12.ndim"
   ]
  },
  {
   "cell_type": "code",
   "execution_count": 19,
   "id": "6f52311c",
   "metadata": {},
   "outputs": [
    {
     "data": {
      "text/plain": [
       "array([['Cloreto de Berílio', 'Fluoreto de Berílio', 'Oxido de Berílio',\n",
       "        'Sulfato de Berílio'],\n",
       "       ['BeCl2', 'BeF2', 'BeO', 'BeSO4']], dtype='<U19')"
      ]
     },
     "execution_count": 19,
     "metadata": {},
     "output_type": "execute_result"
    }
   ],
   "source": [
    "D13 = np.concatenate(([D11],[D12]),axis=0)\n",
    "D13"
   ]
  },
  {
   "cell_type": "code",
   "execution_count": 20,
   "id": "638cda95",
   "metadata": {},
   "outputs": [
    {
     "data": {
      "text/plain": [
       "2"
      ]
     },
     "execution_count": 20,
     "metadata": {},
     "output_type": "execute_result"
    }
   ],
   "source": [
    "D13.ndim"
   ]
  },
  {
   "cell_type": "code",
   "execution_count": 21,
   "id": "02c7faa7",
   "metadata": {},
   "outputs": [
    {
     "name": "stdout",
     "output_type": "stream",
     "text": [
      "[['Cloreto de Berílio' 'Fluoreto de Berílio' 'Oxido de Berílio'\n",
      "  'Sulfato de Berílio']\n",
      " ['BeCl2' 'BeF2' 'BeO' 'BeSO4']]\n"
     ]
    }
   ],
   "source": [
    "print(D13)"
   ]
  },
  {
   "cell_type": "code",
   "execution_count": 22,
   "id": "69dea63a",
   "metadata": {},
   "outputs": [
    {
     "data": {
      "text/plain": [
       "array([['Cloreto de Berílio', 'BeCl2'],\n",
       "       ['Fluoreto de Berílio', 'BeF2'],\n",
       "       ['Oxido de Berílio', 'BeO'],\n",
       "       ['Sulfato de Berílio', 'BeSO4']], dtype='<U19')"
      ]
     },
     "execution_count": 22,
     "metadata": {},
     "output_type": "execute_result"
    }
   ],
   "source": [
    "D133 = np.stack((D11,D12), axis=1)\n",
    "D133"
   ]
  },
  {
   "cell_type": "code",
   "execution_count": 23,
   "id": "f19b588f",
   "metadata": {},
   "outputs": [
    {
     "data": {
      "text/plain": [
       "2"
      ]
     },
     "execution_count": 23,
     "metadata": {},
     "output_type": "execute_result"
    }
   ],
   "source": [
    "D133.ndim"
   ]
  },
  {
   "cell_type": "code",
   "execution_count": 24,
   "id": "09b36c0f",
   "metadata": {},
   "outputs": [
    {
     "data": {
      "text/plain": [
       "array(['Cloreto de Berílio', 'Fluoreto de Berílio', 'Oxido de Berílio',\n",
       "       'Sulfato de Berílio', 'BeCl2', 'BeF2', 'BeO', 'BeSO4'],\n",
       "      dtype='<U19')"
      ]
     },
     "execution_count": 24,
     "metadata": {},
     "output_type": "execute_result"
    }
   ],
   "source": [
    "SD1 = np.hstack((D11,D12))\n",
    "SD1"
   ]
  },
  {
   "cell_type": "code",
   "execution_count": 25,
   "id": "dedb0b0b",
   "metadata": {},
   "outputs": [
    {
     "data": {
      "text/plain": [
       "array([['Cloreto de Berílio', 'Fluoreto de Berílio', 'Oxido de Berílio',\n",
       "        'Sulfato de Berílio'],\n",
       "       ['BeCl2', 'BeF2', 'BeO', 'BeSO4']], dtype='<U19')"
      ]
     },
     "execution_count": 25,
     "metadata": {},
     "output_type": "execute_result"
    }
   ],
   "source": [
    "SD2 = np.vstack((D11,D12))\n",
    "SD2"
   ]
  },
  {
   "cell_type": "code",
   "execution_count": 26,
   "id": "0fcbc855",
   "metadata": {},
   "outputs": [
    {
     "data": {
      "text/plain": [
       "2"
      ]
     },
     "execution_count": 26,
     "metadata": {},
     "output_type": "execute_result"
    }
   ],
   "source": [
    "SD2.ndim"
   ]
  },
  {
   "cell_type": "code",
   "execution_count": 27,
   "id": "23f13567",
   "metadata": {},
   "outputs": [
    {
     "data": {
      "text/plain": [
       "array([[['Cloreto de Berílio', 'BeCl2'],\n",
       "        ['Fluoreto de Berílio', 'BeF2'],\n",
       "        ['Oxido de Berílio', 'BeO'],\n",
       "        ['Sulfato de Berílio', 'BeSO4']]], dtype='<U19')"
      ]
     },
     "execution_count": 27,
     "metadata": {},
     "output_type": "execute_result"
    }
   ],
   "source": [
    "SD3 = np.dstack((D11,D12))\n",
    "SD3"
   ]
  },
  {
   "cell_type": "code",
   "execution_count": 28,
   "id": "a8cd792d",
   "metadata": {},
   "outputs": [
    {
     "data": {
      "text/plain": [
       "3"
      ]
     },
     "execution_count": 28,
     "metadata": {},
     "output_type": "execute_result"
    }
   ],
   "source": [
    "SD3.ndim"
   ]
  },
  {
   "cell_type": "code",
   "execution_count": 29,
   "id": "e3681d75",
   "metadata": {},
   "outputs": [],
   "source": [
    "import csv"
   ]
  },
  {
   "cell_type": "code",
   "execution_count": 30,
   "id": "47800db6",
   "metadata": {},
   "outputs": [
    {
     "name": "stdout",
     "output_type": "stream",
     "text": [
      "[['Número', '1', '2', '3', '4'], [\"H2O'\", '0,094', '0,162', '0,255', '0,436'], ['CHCl3', '0,254', '0,753', '1,827', '5,462']]\n",
      "\n",
      "[['Número' \"H2O'\" 'CHCl3']\n",
      " ['1' '0,094' '0,254']\n",
      " ['2' '0,162' '0,753']\n",
      " ['3' '0,255' '1,827']\n",
      " ['4' '0,436' '5,462']]\n"
     ]
    }
   ],
   "source": [
    "with open('abc - Página1.csv') as file:\n",
    "    reader = csv.reader(file)\n",
    "    rows = list(reader)\n",
    "    print(rows,end=\"\\n\\n\")\n",
    "    a = np.transpose(rows)\n",
    "    print(a)\n"
   ]
  },
  {
   "cell_type": "code",
   "execution_count": 31,
   "id": "6e3ebcd4",
   "metadata": {},
   "outputs": [
    {
     "name": "stdout",
     "output_type": "stream",
     "text": [
      "5\n",
      "3\n"
     ]
    }
   ],
   "source": [
    "print(a.shape[0])\n",
    "print(a.shape[1])"
   ]
  },
  {
   "cell_type": "markdown",
   "id": "27ff354e",
   "metadata": {},
   "source": [
    "## Equação balanceada pelo método de escalonamento\n",
    "\n",
    "Usando numpy para balancear uma equação química, formando um sistema linear de equações.\n",
    "Na equação de combustão do Cicloexanotiol, um sistema de equações é criado. utilizando o método de eleminação Gauss-Jordan.\n",
    "$$C_6H_{12}S+O_2 \\to H_2CO_3+SO_2$$\n",
    "\n",
    "\n",
    "Assumindo que os coeficiente estequiométricos são $X_1,X_2,X_3,X_4$\n",
    "\n",
    "$$x_1(C_6H_{12}S)+x_2(O_2) \\to x_3(H_2CO_3)+x_4(SO_2)$$"
   ]
  },
  {
   "cell_type": "markdown",
   "id": "c5386226",
   "metadata": {},
   "source": [
    "A ordem dos elementos:\n",
    "\n",
    "1. C\n",
    "2. H\n",
    "3. O\n",
    "4. S\n",
    "\n",
    "\n",
    "$$x_1\\begin{pmatrix} 6\\\\12\\\\0\\\\1\\end{pmatrix}+x_2\\begin{pmatrix}0\\\\0\\\\2\\\\0 \\end{pmatrix}=\n",
    "x_3\\begin{pmatrix}1\\\\2\\\\3\\\\0 \\end{pmatrix}+x_4\\begin{pmatrix}0\\\\0\\\\2\\\\1 \\end{pmatrix}$$\n",
    "\n",
    "\n",
    "$C: 6x_1=x_3 \\text{ ou } 6x_1-x_3=0$\n",
    "\n",
    "\n",
    "$H: 12x_1=2x_3$\n",
    "\n",
    "\n",
    "$O: 2x_2=3x_3+2x_4$\n",
    "\n",
    "$S: x_1=x_4$\n",
    "\n",
    "\n",
    "Montando as equações:\n",
    "$$6x_1+0x_2-x_3-0x_4=0$$\n",
    "\n",
    "$$12x_1+0x_2-2x_3-0x_4=0$$\n",
    "\n",
    "$$0x_1+2x_2-3x_3-2x_4=0$$\n",
    "\n",
    "$$x_1+0x_2-0x_3-x_4=0$$\n",
    "\n",
    "\n",
    "$$\\begin{bmatrix}6&0&-1&0\\\\12&0&-2&0\\\\0&2&-3&-2\\\\1&0&0&-1 \\end{bmatrix}$$"
   ]
  },
  {
   "cell_type": "code",
   "execution_count": 32,
   "id": "0146682b",
   "metadata": {},
   "outputs": [],
   "source": [
    "def re(M,v=0):\n",
    "    a,b = M.shape\n",
    "    x,y = 0,0\n",
    "    M1 = []\n",
    "\n",
    "    while x < a and y < b:\n",
    "        #index of largest element in the remainder of column y\n",
    "        k =np.argmax(np.abs(M[x:a,y])) + x\n",
    "        p = np.abs(M[k,y])\n",
    "        if p <= v:\n",
    "            #the column is negligible, zero it out\n",
    "            M[x:a,y] = 0.0\n",
    "            y += 1\n",
    "        else:\n",
    "            M1.append(y)\n",
    "            if x != k:\n",
    "                #exchange x & y rows\n",
    "                M[[x,k],y:b] = M[[k,x],y:b]\n",
    "                #divide row x by the element M[x,y]\n",
    "            M[x,y:b] = M[x, y:b] / M[x,y]\n",
    "\n",
    "            #subtracting multiplies of pivot row from all other rows\n",
    "            for k in range(a):\n",
    "                if k != x:\n",
    "                    M[k, y:b] -= M[k,y] * M[x,y:b]\n",
    "            x += 1\n",
    "            y += 1\n",
    "    return M, M1 # at the indent of while\n",
    "\n",
    "\n"
   ]
  },
  {
   "cell_type": "code",
   "execution_count": 33,
   "id": "2cb9275b",
   "metadata": {},
   "outputs": [
    {
     "data": {
      "text/plain": [
       "array([[ 6.,  0., -1.,  0.],\n",
       "       [12.,  0., -2.,  0.],\n",
       "       [ 0.,  2., -3., -2.],\n",
       "       [ 1.,  0.,  0., -1.]])"
      ]
     },
     "execution_count": 33,
     "metadata": {},
     "output_type": "execute_result"
    }
   ],
   "source": [
    "M =  np.array([\n",
    "    [6,0,-1,0],\n",
    "    [12,0,-2,0],\n",
    "    [0,2,-3,-2],\n",
    "    [1,0,0,-1]\n",
    "],dtype=np.float_)\n",
    "M"
   ]
  },
  {
   "cell_type": "code",
   "execution_count": 34,
   "id": "541ce89f",
   "metadata": {},
   "outputs": [
    {
     "name": "stdout",
     "output_type": "stream",
     "text": [
      "[[  1.   0.   0.  -1.]\n",
      " [  0.   1.   0. -10.]\n",
      " [  0.   0.   1.  -6.]\n",
      " [  0.   0.   0.   0.]]\n"
     ]
    }
   ],
   "source": [
    "Mred, M1 = re(M)\n",
    "print(Mred)"
   ]
  },
  {
   "cell_type": "markdown",
   "id": "71ae769e",
   "metadata": {},
   "source": [
    "$$x_1 -1 = 0$$\n",
    "\n",
    "$$x_2 -10 =0$$\n",
    "\n",
    "$$x_3 - 6 = 0$$\n",
    "\n",
    "$x_1 = 1$\n",
    "\n",
    "$x_2 = 10$\n",
    "\n",
    "$x_3 = 6$\n",
    "\n",
    "$x_4 = x_1$\n",
    "\n",
    "$$1C_6H_{12}S+10(O_2) \\to 6H_2CO_3+1SO_2$$"
   ]
  },
  {
   "cell_type": "markdown",
   "id": "2c170262",
   "metadata": {},
   "source": [
    "## ChemPy\n",
    "\n",
    "Usado para:\n",
    "- calcular massa molar\n",
    "- estequiometria\n",
    "\n",
    "\n",
    "Mostra as funções no formato LaTeX, unicode e .html"
   ]
  },
  {
   "cell_type": "code",
   "execution_count": 35,
   "id": "c9bd341b",
   "metadata": {},
   "outputs": [],
   "source": [
    "from chempy import Substance"
   ]
  },
  {
   "cell_type": "code",
   "execution_count": 36,
   "id": "d051b102",
   "metadata": {},
   "outputs": [],
   "source": [
    "x = Substance.from_formula('HCl')"
   ]
  },
  {
   "cell_type": "code",
   "execution_count": 37,
   "id": "d24c6992",
   "metadata": {},
   "outputs": [
    {
     "data": {
      "text/plain": [
       "36.458000000000006"
      ]
     },
     "execution_count": 37,
     "metadata": {},
     "output_type": "execute_result"
    }
   ],
   "source": [
    "x.mass"
   ]
  },
  {
   "cell_type": "markdown",
   "id": "0dc6b859",
   "metadata": {},
   "source": [
    "### LaTex, Unicode e Html\n",
    "\n",
    "\n",
    "As funções `.unicode_name`  , `.latex_name` e `.html_name` retorna Latex, unicode e .html"
   ]
  },
  {
   "cell_type": "code",
   "execution_count": 38,
   "id": "1c35981b",
   "metadata": {},
   "outputs": [],
   "source": [
    "x1 =  Substance.from_formula('FeSO4')"
   ]
  },
  {
   "cell_type": "code",
   "execution_count": 39,
   "id": "f664fc18",
   "metadata": {},
   "outputs": [
    {
     "data": {
      "text/plain": [
       "'FeSO₄'"
      ]
     },
     "execution_count": 39,
     "metadata": {},
     "output_type": "execute_result"
    }
   ],
   "source": [
    "x1.unicode_name"
   ]
  },
  {
   "cell_type": "code",
   "execution_count": 40,
   "id": "66bb8db7",
   "metadata": {},
   "outputs": [
    {
     "data": {
      "text/plain": [
       "'FeSO_{4}'"
      ]
     },
     "execution_count": 40,
     "metadata": {},
     "output_type": "execute_result"
    }
   ],
   "source": [
    "x1.latex_name"
   ]
  },
  {
   "cell_type": "code",
   "execution_count": 41,
   "id": "22733a0d",
   "metadata": {},
   "outputs": [
    {
     "data": {
      "text/plain": [
       "'FeSO<sub>4</sub>'"
      ]
     },
     "execution_count": 41,
     "metadata": {},
     "output_type": "execute_result"
    }
   ],
   "source": [
    "x1.html_name"
   ]
  },
  {
   "cell_type": "markdown",
   "id": "e07f2aa9",
   "metadata": {},
   "source": [
    "## Balanceando equações\n",
    "\n",
    "Equações químicas podem ser balanceadas baseadas nas funções `balance_stoichiometry({Reactants}, {Products})` e pode ser importado como  `from chempy import balance_stoichiometry`\n",
    "\n",
    "$$2K_3Fe(CN)_6+6H_2SO_4 \\to 3K_2SO_4 + Fe_2(SO_4)_3+12HCN$$"
   ]
  },
  {
   "cell_type": "code",
   "execution_count": 42,
   "id": "a9e98f33",
   "metadata": {},
   "outputs": [],
   "source": [
    "from chempy import balance_stoichiometry"
   ]
  },
  {
   "cell_type": "code",
   "execution_count": 43,
   "id": "b78bc101",
   "metadata": {},
   "outputs": [],
   "source": [
    "R1 = \"K3Fe(CN)6\"\n",
    "R2 = \"H2SO4\"\n",
    "P1 = \"K2SO4\"\n",
    "P2 = \"Fe2(SO4)3\"\n",
    "P3 = \"HCN\""
   ]
  },
  {
   "cell_type": "code",
   "execution_count": 44,
   "id": "7b0cdf0f",
   "metadata": {},
   "outputs": [],
   "source": [
    "reactants, products =  balance_stoichiometry({R1,R2},{P1,P2,P3})"
   ]
  },
  {
   "cell_type": "code",
   "execution_count": 45,
   "id": "0e357db3",
   "metadata": {},
   "outputs": [
    {
     "name": "stdout",
     "output_type": "stream",
     "text": [
      "OrderedDict([('H2SO4', 6), ('K3Fe(CN)6', 2)])\n",
      "OrderedDict([('Fe2(SO4)3', 1), ('HCN', 12), ('K2SO4', 3)])\n"
     ]
    }
   ],
   "source": [
    "print(reactants)\n",
    "print(products)"
   ]
  },
  {
   "cell_type": "code",
   "execution_count": 46,
   "id": "59376382",
   "metadata": {},
   "outputs": [
    {
     "data": {
      "text/plain": [
       "collections.OrderedDict"
      ]
     },
     "execution_count": 46,
     "metadata": {},
     "output_type": "execute_result"
    }
   ],
   "source": [
    "type(reactants)"
   ]
  },
  {
   "cell_type": "markdown",
   "id": "a447f5a3",
   "metadata": {},
   "source": [
    "## Mendeleev\n",
    "\n",
    "\n",
    "Para dados atómicos e iônicos."
   ]
  },
  {
   "cell_type": "code",
   "execution_count": 48,
   "id": "0526d144",
   "metadata": {},
   "outputs": [],
   "source": [
    "from mendeleev import element"
   ]
  },
  {
   "cell_type": "code",
   "execution_count": 51,
   "id": "bfd0d13d",
   "metadata": {},
   "outputs": [
    {
     "data": {
      "text/plain": [
       "8.86"
      ]
     },
     "execution_count": 51,
     "metadata": {},
     "output_type": "execute_result"
    }
   ],
   "source": [
    "element(27).density"
   ]
  },
  {
   "cell_type": "code",
   "execution_count": 52,
   "id": "e3223971",
   "metadata": {},
   "outputs": [
    {
     "data": {
      "text/plain": [
       "25.1"
      ]
     },
     "execution_count": 52,
     "metadata": {},
     "output_type": "execute_result"
    }
   ],
   "source": [
    "element(\"Fe\").molar_heat_capacity"
   ]
  },
  {
   "cell_type": "code",
   "execution_count": 53,
   "id": "22339170",
   "metadata": {},
   "outputs": [
    {
     "data": {
      "text/plain": [
       "[14 Tm=1687.15 Tb=3538.15]"
      ]
     },
     "execution_count": 53,
     "metadata": {},
     "output_type": "execute_result"
    }
   ],
   "source": [
    "element(\"Si\").phase_transitions"
   ]
  },
  {
   "cell_type": "code",
   "execution_count": 57,
   "id": "cb093ae2",
   "metadata": {},
   "outputs": [
    {
     "data": {
      "text/plain": [
       "3.612725"
      ]
     },
     "execution_count": 57,
     "metadata": {},
     "output_type": "execute_result"
    }
   ],
   "source": [
    "element(\"Cl\").electron_affinity"
   ]
  },
  {
   "cell_type": "code",
   "execution_count": 58,
   "id": "04cc5541",
   "metadata": {},
   "outputs": [
    {
     "data": {
      "text/plain": [
       "'Grey brittle metallic transition element. Rather electropositive, combines with some non-metals when heated. Discovered in 1774 by Scheele.'"
      ]
     },
     "execution_count": 58,
     "metadata": {},
     "output_type": "execute_result"
    }
   ],
   "source": [
    "element(\"Mn\").description"
   ]
  },
  {
   "cell_type": "code",
   "execution_count": 59,
   "id": "e408eaf1",
   "metadata": {},
   "outputs": [
    {
     "data": {
      "text/plain": [
       "<ElectronicConfiguration(conf=\"1s2 2s2 2p6 3s2 3p6 4s2 3d10 4p6 5s2 4d10 5p6 4f6 6s2\")>"
      ]
     },
     "execution_count": 59,
     "metadata": {},
     "output_type": "execute_result"
    }
   ],
   "source": [
    "element(\"Sm\").ec"
   ]
  },
  {
   "cell_type": "code",
   "execution_count": 60,
   "id": "33652e38",
   "metadata": {},
   "outputs": [
    {
     "data": {
      "text/plain": [
       "'[Xe] 4f14 5d6 6s2'"
      ]
     },
     "execution_count": 60,
     "metadata": {},
     "output_type": "execute_result"
    }
   ],
   "source": [
    "element(\"Os\").econf"
   ]
  },
  {
   "cell_type": "code",
   "execution_count": 61,
   "id": "760d30fb",
   "metadata": {},
   "outputs": [
    {
     "data": {
      "text/plain": [
       "[-3, 3, 5]"
      ]
     },
     "execution_count": 61,
     "metadata": {},
     "output_type": "execute_result"
    }
   ],
   "source": [
    "element(\"N\").oxistates"
   ]
  },
  {
   "cell_type": "code",
   "execution_count": null,
   "id": "fd03d0cc",
   "metadata": {},
   "outputs": [],
   "source": []
  }
 ],
 "metadata": {
  "kernelspec": {
   "display_name": "Python 3 (ipykernel)",
   "language": "python",
   "name": "python3"
  },
  "language_info": {
   "codemirror_mode": {
    "name": "ipython",
    "version": 3
   },
   "file_extension": ".py",
   "mimetype": "text/x-python",
   "name": "python",
   "nbconvert_exporter": "python",
   "pygments_lexer": "ipython3",
   "version": "3.11.7"
  }
 },
 "nbformat": 4,
 "nbformat_minor": 5
}
