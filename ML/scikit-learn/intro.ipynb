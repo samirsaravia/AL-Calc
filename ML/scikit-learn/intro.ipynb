{
 "cells": [
  {
   "cell_type": "markdown",
   "id": "8e0bc1c6-a006-48c9-b985-8a8aacf4f43d",
   "metadata": {},
   "source": [
    "# Sci-kit Learn\n",
    "\n",
    "> Scikit-learn library requires input of two-dimensional numpy arrays.\n",
    "\n",
    "## Numpy \n",
    "Use of it."
   ]
  },
  {
   "cell_type": "code",
   "execution_count": 1,
   "id": "f18aecf1-c6d0-4741-91ce-0cc38d7d4118",
   "metadata": {},
   "outputs": [],
   "source": [
    "import numpy as np"
   ]
  },
  {
   "cell_type": "code",
   "execution_count": 3,
   "id": "fa36c01f-8173-459e-ba20-e25839f258fe",
   "metadata": {},
   "outputs": [
    {
     "data": {
      "text/plain": [
       "(10,)"
      ]
     },
     "execution_count": 3,
     "metadata": {},
     "output_type": "execute_result"
    }
   ],
   "source": [
    "array_1 = np.arange(10)\n",
    "array_1.shape"
   ]
  },
  {
   "cell_type": "code",
   "execution_count": 5,
   "id": "11e8d18f-dc94-4ce2-9a01-d358553d6c18",
   "metadata": {},
   "outputs": [
    {
     "data": {
      "text/plain": [
       "1"
      ]
     },
     "execution_count": 5,
     "metadata": {},
     "output_type": "execute_result"
    }
   ],
   "source": [
    "# dimension\n",
    "array_1.ndim"
   ]
  },
  {
   "cell_type": "code",
   "execution_count": 8,
   "id": "b438a21a-9e60-42d6-8349-34848bbc0f58",
   "metadata": {},
   "outputs": [
    {
     "data": {
      "text/plain": [
       "array([[0, 1],\n",
       "       [2, 3],\n",
       "       [4, 5],\n",
       "       [6, 7],\n",
       "       [8, 9]])"
      ]
     },
     "execution_count": 8,
     "metadata": {},
     "output_type": "execute_result"
    }
   ],
   "source": [
    "#reshape\n",
    "array_1 = array_1.reshape((5,2))\n",
    "array_1"
   ]
  },
  {
   "cell_type": "code",
   "execution_count": 9,
   "id": "e7acdd7f-2116-4adb-8555-ad545b9a4b17",
   "metadata": {},
   "outputs": [
    {
     "data": {
      "text/plain": [
       "2"
      ]
     },
     "execution_count": 9,
     "metadata": {},
     "output_type": "execute_result"
    }
   ],
   "source": [
    "array_1.ndim"
   ]
  },
  {
   "cell_type": "code",
   "execution_count": 10,
   "id": "75880f08-5c2f-4785-9eaf-91f59a0f4b79",
   "metadata": {},
   "outputs": [
    {
     "data": {
      "text/plain": [
       "array([[ 1,  2],\n",
       "       [ 3,  4],\n",
       "       [ 5,  6],\n",
       "       [ 7,  8],\n",
       "       [ 9, 10]])"
      ]
     },
     "execution_count": 10,
     "metadata": {},
     "output_type": "execute_result"
    }
   ],
   "source": [
    "array_1 + 1"
   ]
  },
  {
   "cell_type": "code",
   "execution_count": 13,
   "id": "6f25e4b8-2cad-4c77-bcaa-3c576158ede3",
   "metadata": {},
   "outputs": [
    {
     "data": {
      "text/plain": [
       "array([ 0,  1,  4,  9, 16, 25, 36, 49, 64, 81])"
      ]
     },
     "execution_count": 13,
     "metadata": {},
     "output_type": "execute_result"
    }
   ],
   "source": [
    "array_2 = np.arange(10)\n",
    "array_2 * array_2"
   ]
  },
  {
   "cell_type": "code",
   "execution_count": 15,
   "id": "f0879215-e8ec-4b68-ad84-d35102cf0a53",
   "metadata": {},
   "outputs": [],
   "source": [
    "array_1 = array_1 + 1"
   ]
  },
  {
   "cell_type": "code",
   "execution_count": 17,
   "id": "6bcac322-ba93-4903-9e96-0fcaafb769b5",
   "metadata": {},
   "outputs": [],
   "source": [
    "array_2 = array_2.reshape((5,2))"
   ]
  },
  {
   "cell_type": "code",
   "execution_count": 18,
   "id": "0950ad0e-3e91-4f57-bf20-9d76fa7f61b9",
   "metadata": {},
   "outputs": [
    {
     "data": {
      "text/plain": [
       "array([[ 1,  3],\n",
       "       [ 5,  7],\n",
       "       [ 9, 11],\n",
       "       [13, 15],\n",
       "       [17, 19]])"
      ]
     },
     "execution_count": 18,
     "metadata": {},
     "output_type": "execute_result"
    }
   ],
   "source": [
    "array_1 + array_2"
   ]
  },
  {
   "cell_type": "markdown",
   "id": "06e16922-3ac1-4bfd-a5b6-3a0462c2993a",
   "metadata": {},
   "source": [
    "> scikit-learn expects np.float arguments in arrays."
   ]
  },
  {
   "cell_type": "code",
   "execution_count": 19,
   "id": "27323f12-9286-4ce7-85ec-b7509f46fb79",
   "metadata": {},
   "outputs": [
    {
     "data": {
      "text/plain": [
       "array([[0., 0.],\n",
       "       [0., 0.],\n",
       "       [0., 0.],\n",
       "       [0., 0.],\n",
       "       [0., 0.]])"
      ]
     },
     "execution_count": 19,
     "metadata": {},
     "output_type": "execute_result"
    }
   ],
   "source": [
    "np.zeros((5,2))"
   ]
  },
  {
   "cell_type": "code",
   "execution_count": 24,
   "id": "70c6e278-e9a7-48ba-aedf-25e8feb1ffd0",
   "metadata": {},
   "outputs": [
    {
     "data": {
      "text/plain": [
       "array([[1, 1],\n",
       "       [1, 1],\n",
       "       [1, 1],\n",
       "       [1, 1],\n",
       "       [1, 1]])"
      ]
     },
     "execution_count": 24,
     "metadata": {},
     "output_type": "execute_result"
    }
   ],
   "source": [
    "np.ones((5,2), dtype=np.int64)"
   ]
  },
  {
   "cell_type": "code",
   "execution_count": 28,
   "id": "984efa45-c96f-47dc-92fb-4490b49515f6",
   "metadata": {},
   "outputs": [
    {
     "data": {
      "text/plain": [
       "array([[0., 0.],\n",
       "       [0., 0.],\n",
       "       [0., 0.],\n",
       "       [0., 0.],\n",
       "       [0., 0.]])"
      ]
     },
     "execution_count": 28,
     "metadata": {},
     "output_type": "execute_result"
    }
   ],
   "source": [
    "# np.empty to allocate memory for an arrat of specific size and dtype\n",
    "np.empty((5,2), dtype= np.float64)"
   ]
  },
  {
   "cell_type": "markdown",
   "id": "cedd4485-774d-4055-b3b0-91c6368ddb51",
   "metadata": {},
   "source": [
    "## indexing"
   ]
  },
  {
   "cell_type": "code",
   "execution_count": 32,
   "id": "93922c34-95fe-4a26-95b3-ceb5497bc91c",
   "metadata": {},
   "outputs": [
    {
     "data": {
      "text/plain": [
       "array([[ 1,  2],\n",
       "       [ 3,  4],\n",
       "       [ 5,  6],\n",
       "       [ 7,  8],\n",
       "       [ 9, 10]])"
      ]
     },
     "execution_count": 32,
     "metadata": {},
     "output_type": "execute_result"
    }
   ],
   "source": [
    "array_1"
   ]
  },
  {
   "cell_type": "code",
   "execution_count": 30,
   "id": "59a00cf0-8f3b-4777-88be-e586a45a2717",
   "metadata": {},
   "outputs": [
    {
     "data": {
      "text/plain": [
       "1"
      ]
     },
     "execution_count": 30,
     "metadata": {},
     "output_type": "execute_result"
    }
   ],
   "source": [
    "array_1[0,0] # look out values, first rown and first column"
   ]
  },
  {
   "cell_type": "code",
   "execution_count": 35,
   "id": "d9d1fd31-ec86-4304-8026-1909e579563e",
   "metadata": {},
   "outputs": [
    {
     "data": {
      "text/plain": [
       "array([1, 2])"
      ]
     },
     "execution_count": 35,
     "metadata": {},
     "output_type": "execute_result"
    }
   ],
   "source": [
    "array_1[0,:]  # first row"
   ]
  },
  {
   "cell_type": "code",
   "execution_count": 36,
   "id": "a8b0f11c-bd6b-4d2d-8558-9221a42adfe1",
   "metadata": {},
   "outputs": [
    {
     "data": {
      "text/plain": [
       "array([1, 3, 5, 7, 9])"
      ]
     },
     "execution_count": 36,
     "metadata": {},
     "output_type": "execute_result"
    }
   ],
   "source": [
    "array_1[:,0]  # first column"
   ]
  },
  {
   "cell_type": "code",
   "execution_count": 45,
   "id": "ca793523-7f9a-4e10-b72e-316f44326f09",
   "metadata": {},
   "outputs": [
    {
     "data": {
      "text/plain": [
       "array([[ 5,  6],\n",
       "       [ 7,  8],\n",
       "       [ 9, 10]])"
      ]
     },
     "execution_count": 45,
     "metadata": {},
     "output_type": "execute_result"
    }
   ],
   "source": [
    "array_1[2:5,:]"
   ]
  },
  {
   "cell_type": "code",
   "execution_count": 46,
   "id": "9de96472-9c7e-4c30-b391-635e87dc82f3",
   "metadata": {},
   "outputs": [
    {
     "data": {
      "text/plain": [
       "array([5, 7, 9])"
      ]
     },
     "execution_count": 46,
     "metadata": {},
     "output_type": "execute_result"
    }
   ],
   "source": [
    "array_1[2:5,0]"
   ]
  },
  {
   "cell_type": "markdown",
   "id": "7c71afa0-68e3-4dfa-a961-45177f28676d",
   "metadata": {},
   "source": [
    "### Boolean matriz"
   ]
  },
  {
   "cell_type": "code",
   "execution_count": 56,
   "id": "5b308099-e029-40c4-a514-2f1f5bc2ab7c",
   "metadata": {},
   "outputs": [
    {
     "data": {
      "text/plain": [
       "array([[ 1,  2],\n",
       "       [ 3,  4],\n",
       "       [ 5,  6],\n",
       "       [ 7,  8],\n",
       "       [ 9, 10]])"
      ]
     },
     "execution_count": 56,
     "metadata": {},
     "output_type": "execute_result"
    }
   ],
   "source": [
    "array_1"
   ]
  },
  {
   "cell_type": "code",
   "execution_count": 52,
   "id": "53f4f7fb-2203-4fcc-ab89-056b8d958f7b",
   "metadata": {},
   "outputs": [
    {
     "data": {
      "text/plain": [
       "array([[False, False],\n",
       "       [False, False],\n",
       "       [False,  True],\n",
       "       [ True,  True],\n",
       "       [ True,  True]])"
      ]
     },
     "execution_count": 52,
     "metadata": {},
     "output_type": "execute_result"
    }
   ],
   "source": [
    "#  mostra valores boolean\n",
    "array_1 > 5"
   ]
  },
  {
   "cell_type": "code",
   "execution_count": 51,
   "id": "db9faa2c-6b04-4750-bd0b-a2a8e2d638ab",
   "metadata": {},
   "outputs": [
    {
     "data": {
      "text/plain": [
       "array([ 6,  7,  8,  9, 10])"
      ]
     },
     "execution_count": 51,
     "metadata": {},
     "output_type": "execute_result"
    }
   ],
   "source": [
    "# colocar em colchete para filtrar matriz boolean, mostra  número\n",
    "array_1[array_1 > 5]"
   ]
  },
  {
   "cell_type": "markdown",
   "id": "44d919ea-193b-48b4-b83d-915ae814c493",
   "metadata": {},
   "source": [
    "### Operações aritméticas"
   ]
  },
  {
   "cell_type": "code",
   "execution_count": 54,
   "id": "3c7bb5bb-1ab8-488e-8b40-f6c9635fed4a",
   "metadata": {},
   "outputs": [
    {
     "data": {
      "text/plain": [
       "55"
      ]
     },
     "execution_count": 54,
     "metadata": {},
     "output_type": "execute_result"
    }
   ],
   "source": [
    "# soma todas as entradas\n",
    "array_1.sum()"
   ]
  },
  {
   "cell_type": "code",
   "execution_count": 55,
   "id": "0ee9ed11-12a9-45c5-96f5-00dc58df2a47",
   "metadata": {},
   "outputs": [
    {
     "data": {
      "text/plain": [
       "array([ 3,  7, 11, 15, 19])"
      ]
     },
     "execution_count": 55,
     "metadata": {},
     "output_type": "execute_result"
    }
   ],
   "source": [
    "# encontra a soma por linha\n",
    "array_1.sum(axis=1)"
   ]
  },
  {
   "cell_type": "code",
   "execution_count": 57,
   "id": "6c2c7f9a-aa83-4578-bea6-94ad6d8d3910",
   "metadata": {},
   "outputs": [
    {
     "data": {
      "text/plain": [
       "array([25, 30])"
      ]
     },
     "execution_count": 57,
     "metadata": {},
     "output_type": "execute_result"
    }
   ],
   "source": [
    "# encontra os resultados por coluna\n",
    "array_1.sum(axis=0)"
   ]
  },
  {
   "cell_type": "code",
   "execution_count": 59,
   "id": "e0e161e9-7cee-4220-9207-ebafc32111f8",
   "metadata": {},
   "outputs": [
    {
     "data": {
      "text/plain": [
       "array([5., 6.])"
      ]
     },
     "execution_count": 59,
     "metadata": {},
     "output_type": "execute_result"
    }
   ],
   "source": [
    "# encontra média por coluna, dtype da média é np.float64\n",
    "array_1.mean(axis=0)"
   ]
  },
  {
   "cell_type": "markdown",
   "id": "d001f1ef-7b8e-4a06-8278-2e67f5c74d9f",
   "metadata": {},
   "source": [
    "### NaN valores"
   ]
  },
  {
   "cell_type": "markdown",
   "id": "cd160d4c-0c48-4b88-933a-bf3c27d5c04a",
   "metadata": {},
   "source": [
    "> scikit-learn não aceita valores `np.nan`"
   ]
  },
  {
   "cell_type": "code",
   "execution_count": 60,
   "id": "4038f6d5-0225-464e-9d9e-154e542b3c19",
   "metadata": {},
   "outputs": [],
   "source": [
    "array_3 = np.array([np.nan, 0,1,2,np.nan])"
   ]
  },
  {
   "cell_type": "code",
   "execution_count": 61,
   "id": "4a029495-ae3b-45ad-a11f-2240e0c7c7da",
   "metadata": {},
   "outputs": [
    {
     "data": {
      "text/plain": [
       "array([nan,  0.,  1.,  2., nan])"
      ]
     },
     "execution_count": 61,
     "metadata": {},
     "output_type": "execute_result"
    }
   ],
   "source": [
    "array_3"
   ]
  },
  {
   "cell_type": "code",
   "execution_count": 62,
   "id": "5ff9b3b0-c5a2-4c5a-99d2-2017f7d2f745",
   "metadata": {},
   "outputs": [
    {
     "data": {
      "text/plain": [
       "array([ True, False, False, False,  True])"
      ]
     },
     "execution_count": 62,
     "metadata": {},
     "output_type": "execute_result"
    }
   ],
   "source": [
    "# encontrar valores NaN \n",
    "np.isnan(array_3)"
   ]
  },
  {
   "cell_type": "code",
   "execution_count": 63,
   "id": "66ae7b91-8879-4861-a73c-30464a556864",
   "metadata": {},
   "outputs": [
    {
     "data": {
      "text/plain": [
       "array([0., 1., 2.])"
      ]
     },
     "execution_count": 63,
     "metadata": {},
     "output_type": "execute_result"
    }
   ],
   "source": [
    "#filtro, negando valores NaN\n",
    "array_3[~np.isnan(array_3)]"
   ]
  },
  {
   "cell_type": "code",
   "execution_count": 65,
   "id": "05cdb91e-04c8-4a7f-9e3e-cc98989db37b",
   "metadata": {},
   "outputs": [],
   "source": [
    "#mudando os NaN para zero (filtro)\n",
    "array_3[np.isnan(array_3)] = 0"
   ]
  },
  {
   "cell_type": "markdown",
   "id": "d9e2d7bb-5f7e-46c5-8745-680487d7b36b",
   "metadata": {},
   "source": [
    "🛑 Scikit-learn accepts only 2D Numpy arrays of real numbers with no missing `np.nan` values, so try to change\n",
    " `np.nan` to some value instead of throwing away data. "
   ]
  },
  {
   "cell_type": "code",
   "execution_count": null,
   "id": "6d5eef29-5da6-439a-a37a-8214dc5e0fa4",
   "metadata": {},
   "outputs": [],
   "source": []
  }
 ],
 "metadata": {
  "kernelspec": {
   "display_name": "Python 3 (ipykernel)",
   "language": "python",
   "name": "python3"
  },
  "language_info": {
   "codemirror_mode": {
    "name": "ipython",
    "version": 3
   },
   "file_extension": ".py",
   "mimetype": "text/x-python",
   "name": "python",
   "nbconvert_exporter": "python",
   "pygments_lexer": "ipython3",
   "version": "3.11.7"
  }
 },
 "nbformat": 4,
 "nbformat_minor": 5
}
