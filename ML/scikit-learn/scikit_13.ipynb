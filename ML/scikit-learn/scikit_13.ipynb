{
 "cells": [
  {
   "cell_type": "markdown",
   "id": "09221f4c-f5f3-40a6-b5ef-d31e7dd61b0b",
   "metadata": {},
   "source": [
    "# Cross Validation e Post-Model workflow\n",
    "(Validação cruzada e fluxo de trabalho pos-modelo)\n",
    "\n",
    "\n",
    "O cross-validation ajuda a validar a performance do modelo de maneira robusta, enquanto o post-model workflow garante que o modelo esteja pronto para produção e continua funcionando bem ao longo do tempo.\n",
    "\n",
    "\n",
    "Ao fazer isso, as vantagens são:\n",
    "\n",
    "- melhor uso dos dados disponíveis\n",
    "- avaliação mais confiável e menos sujeita a variações devido à divisão dos dados\n",
    "\n",
    "Para trabalhar com estes conceitos, será preciso:\n",
    "\n",
    "- carregar as duas colunas do conjunto de dados iris\n",
    "- separar os dados em conjunto de treinamento e teste\n",
    "- utilizar o algoritmo KNN, com 3 e 5 vizinhos.\n",
    "- pontuar ambos algoritmos\n",
    "- selecionar os melhor modelo"
   ]
  },
  {
   "cell_type": "code",
   "execution_count": 1,
   "id": "b49eda36-9db0-427b-92c7-36cec94b6560",
   "metadata": {},
   "outputs": [],
   "source": [
    "from sklearn import datasets"
   ]
  },
  {
   "cell_type": "code",
   "execution_count": 2,
   "id": "4f18e178-827d-4e68-8fc0-d42fb4d561e2",
   "metadata": {},
   "outputs": [],
   "source": [
    "iris = datasets.load_iris()"
   ]
  },
  {
   "cell_type": "code",
   "execution_count": 3,
   "id": "85bdaaf6-507e-40b6-b490-5ea4957d6e3a",
   "metadata": {},
   "outputs": [],
   "source": [
    "X = iris.data[:,2:]\n",
    "y = iris.target"
   ]
  },
  {
   "cell_type": "markdown",
   "id": "cfb35f6c-6b9c-4fab-a626-99db63d3e9e8",
   "metadata": {},
   "source": [
    "Separar os dados em conjunto de teste e treinamento. Usar o estratificação (dividir em partes iguais),  e o `random_state = 7`"
   ]
  },
  {
   "cell_type": "code",
   "execution_count": 4,
   "id": "42aa832b-5203-4539-8a9f-1e156e784436",
   "metadata": {},
   "outputs": [],
   "source": [
    "from sklearn.model_selection import train_test_split"
   ]
  },
  {
   "cell_type": "code",
   "execution_count": 5,
   "id": "852c3e0c-476c-4eb9-acdf-d0ff5e161c15",
   "metadata": {},
   "outputs": [],
   "source": [
    "X_treino, X_teste, y_treino,y_teste = train_test_split(X,y, stratify=y, random_state=7)"
   ]
  },
  {
   "cell_type": "markdown",
   "id": "baa0ec20-f481-4f25-b44e-26933c505796",
   "metadata": {},
   "source": [
    "## Como fazer\n",
    "\n",
    "1. primeiro instancie o algoritmo com dois vizinhos próximos"
   ]
  },
  {
   "cell_type": "code",
   "execution_count": 6,
   "id": "f9695d2d-df22-4fd3-99b4-245fe963b77b",
   "metadata": {},
   "outputs": [],
   "source": [
    "from sklearn.neighbors import KNeighborsClassifier"
   ]
  },
  {
   "cell_type": "code",
   "execution_count": 7,
   "id": "d363b2f5-a3f9-4869-994f-1140b14cd2ec",
   "metadata": {},
   "outputs": [],
   "source": [
    "kn_3 = KNeighborsClassifier(n_neighbors=3)\n",
    "kn_5 = KNeighborsClassifier(n_neighbors=5)"
   ]
  },
  {
   "cell_type": "markdown",
   "id": "90c2f99a-7289-4665-946e-2088561360ab",
   "metadata": {},
   "source": [
    "2. Pontue ambos algoritmos usando `cross_val_score`"
   ]
  },
  {
   "cell_type": "code",
   "execution_count": 8,
   "id": "bcd70738-d48c-49f3-88c5-eb2b2c978202",
   "metadata": {},
   "outputs": [],
   "source": [
    "from sklearn.model_selection import cross_val_score"
   ]
  },
  {
   "cell_type": "code",
   "execution_count": 10,
   "id": "ca82f98a-4bbd-4186-be7d-331f3f33ca94",
   "metadata": {},
   "outputs": [
    {
     "data": {
      "text/plain": [
       "array([0.96428571, 0.92857143, 0.89285714, 1.        ])"
      ]
     },
     "execution_count": 10,
     "metadata": {},
     "output_type": "execute_result"
    }
   ],
   "source": [
    "kn_3_scores = cross_val_score(kn_3, X_treino,y_treino, cv=4)\n",
    "kn_5_scores = cross_val_score(kn_5, X_treino,y_treino, cv=4)\n",
    "kn_3_scores"
   ]
  },
  {
   "cell_type": "code",
   "execution_count": 11,
   "id": "95e48060-cf09-455a-8e9d-bcc034f4a360",
   "metadata": {},
   "outputs": [
    {
     "data": {
      "text/plain": [
       "array([0.96428571, 0.96428571, 0.89285714, 1.        ])"
      ]
     },
     "execution_count": 11,
     "metadata": {},
     "output_type": "execute_result"
    }
   ],
   "source": [
    "kn_5_scores"
   ]
  },
  {
   "cell_type": "markdown",
   "id": "28d3d98b-5b85-40fe-874e-2016d39f2a1b",
   "metadata": {},
   "source": [
    "3. ver a estatística básica, média"
   ]
  },
  {
   "cell_type": "code",
   "execution_count": 12,
   "id": "5702c3fd-6eae-4e53-97a9-57c7f8179639",
   "metadata": {},
   "outputs": [
    {
     "name": "stdout",
     "output_type": "stream",
     "text": [
      "Média: kn3 0.9464285714285714\n",
      "Média: kn5 0.9553571428571429\n"
     ]
    }
   ],
   "source": [
    "print(f\"Média: kn3 {kn_3_scores.mean()}\")\n",
    "print(f\"Média: kn5 {kn_5_scores.mean()}\")"
   ]
  },
  {
   "cell_type": "markdown",
   "id": "12a867ef-1450-4456-9f42-edb7897a9b52",
   "metadata": {},
   "source": [
    "4. ver os desvio padrão"
   ]
  },
  {
   "cell_type": "code",
   "execution_count": 14,
   "id": "40a51753-3eed-41cd-81f0-726f88838c01",
   "metadata": {},
   "outputs": [
    {
     "name": "stdout",
     "output_type": "stream",
     "text": [
      "Desvio padrão: kn3 0.039929785312496226\n",
      "Desvio padrão: kn5 0.03891874056732743\n"
     ]
    }
   ],
   "source": [
    "print(f\"Desvio padrão: kn3 {kn_3_scores.std()}\")\n",
    "print(f\"Desvio padrão: kn5 {kn_5_scores.std()}\")"
   ]
  },
  {
   "cell_type": "markdown",
   "id": "da5a1ba7-ab81-4d1a-a02f-523dad344bd3",
   "metadata": {},
   "source": [
    "Dessa forma, ao olhar para o `kn5` tem um melhor desempenho, sendo o modelo selecionado."
   ]
  },
  {
   "cell_type": "markdown",
   "id": "19468af3-bc65-4970-b254-0ee37c0e7725",
   "metadata": {},
   "source": [
    "## K-fold validação cruzada\n",
    "\n",
    "Para selecionar os melhores modelos, mas da para ver os índices dos desdobramento e ver os dados em quais colunas se encontram. \n",
    "Porque a validação cruzada funciona, da seguinte forma, `cv=4` significa que há 4 desdobramentos, ouseja, (4 matrizes quadradas) os dados são dividos em 4 colunas, sendo que cada coluna tem 4 linhas, o conjuntos de teste estão na diagonal principal, o restante é conjunto para treinamento."
   ]
  },
  {
   "cell_type": "markdown",
   "id": "79b617f6-9be7-44a3-bcb0-ecb0fd16cbd7",
   "metadata": {},
   "source": [
    "1. criar um conjunto de dados pequeno"
   ]
  },
  {
   "cell_type": "code",
   "execution_count": 15,
   "id": "9e103c15-a7d0-4543-bb49-6bf85370f98d",
   "metadata": {},
   "outputs": [],
   "source": [
    "import numpy as np"
   ]
  },
  {
   "cell_type": "code",
   "execution_count": 16,
   "id": "991e9d6a-dce9-49b2-b0f4-c2bcf74c20e8",
   "metadata": {},
   "outputs": [],
   "source": [
    "X = np.array([[1,2],[3,4],[5,6],[7,8],[1,2],[3,4],[5,6],[7,8]])\n",
    "y = np.array([1,2,1,2,1,2,1,2])"
   ]
  },
  {
   "cell_type": "markdown",
   "id": "1b4cf8f9-3ae4-4aa4-8c00-83f5dc40a6d1",
   "metadata": {},
   "source": [
    "2. importar `KFold` e selecionar o número de separação"
   ]
  },
  {
   "cell_type": "code",
   "execution_count": 19,
   "id": "80cfcfff-dd5e-4482-aed8-87fe52542734",
   "metadata": {},
   "outputs": [],
   "source": [
    "from sklearn.model_selection import KFold"
   ]
  },
  {
   "cell_type": "code",
   "execution_count": 20,
   "id": "b993cd2e-c0a5-487b-b87f-73b0f3b27ff7",
   "metadata": {},
   "outputs": [],
   "source": [
    "kf = KFold(n_splits=4)"
   ]
  },
  {
   "cell_type": "markdown",
   "id": "00f56037-6514-4101-a01a-2ac15033fb5a",
   "metadata": {},
   "source": [
    "3. iterar através do gerador e printar os indices"
   ]
  },
  {
   "cell_type": "code",
   "execution_count": 21,
   "id": "ce7fd0f3-7423-4fd2-bd20-0da14c6372ee",
   "metadata": {},
   "outputs": [
    {
     "name": "stdout",
     "output_type": "stream",
     "text": [
      "Rodada: 1: Índice de treino: [2 3 4 5 6 7]  índice de teste: [0 1]\n",
      "Rodada: 2: Índice de treino: [0 1 4 5 6 7]  índice de teste: [2 3]\n",
      "Rodada: 3: Índice de treino: [0 1 2 3 6 7]  índice de teste: [4 5]\n",
      "Rodada: 4: Índice de treino: [0 1 2 3 4 5]  índice de teste: [6 7]\n"
     ]
    }
   ],
   "source": [
    "cc = 1\n",
    "for train_index , teste_index in kf.split(X):\n",
    "    print(f\"Rodada: {cc}: Índice de treino: {train_index}  índice de teste: {teste_index}\")\n",
    "    cc += 1"
   ]
  },
  {
   "cell_type": "code",
   "execution_count": 24,
   "id": "446920e4-025f-4eff-b496-987142d6fc09",
   "metadata": {},
   "outputs": [
    {
     "data": {
      "text/plain": [
       "4"
      ]
     },
     "execution_count": 24,
     "metadata": {},
     "output_type": "execute_result"
    }
   ],
   "source": [
    "#obter o número de separações\n",
    "kf.get_n_splits()"
   ]
  },
  {
   "cell_type": "markdown",
   "id": "61f76260-96d2-4317-9cd8-f2fc8e752d7e",
   "metadata": {},
   "source": [
    "## Tem mais\n",
    "\n",
    "Se é possível ver os dados nos desdobramentos, então da para gerar uma lista"
   ]
  },
  {
   "cell_type": "code",
   "execution_count": 25,
   "id": "4f736b6f-7638-4899-ad92-45e59c0031f4",
   "metadata": {},
   "outputs": [],
   "source": [
    "lista_indices = list(kf.split(X))"
   ]
  },
  {
   "cell_type": "code",
   "execution_count": 26,
   "id": "6f999906-51d9-44b8-969b-4fdd52e3f84a",
   "metadata": {},
   "outputs": [
    {
     "data": {
      "text/plain": [
       "[(array([2, 3, 4, 5, 6, 7]), array([0, 1])),\n",
       " (array([0, 1, 4, 5, 6, 7]), array([2, 3])),\n",
       " (array([0, 1, 2, 3, 6, 7]), array([4, 5])),\n",
       " (array([0, 1, 2, 3, 4, 5]), array([6, 7]))]"
      ]
     },
     "execution_count": 26,
     "metadata": {},
     "output_type": "execute_result"
    }
   ],
   "source": [
    "lista_indices"
   ]
  },
  {
   "cell_type": "code",
   "execution_count": 27,
   "id": "cdd5aef6-4aaf-42c4-9c2d-38c0a1599280",
   "metadata": {},
   "outputs": [],
   "source": [
    "train_indices, test_indices = lista_indices[3]"
   ]
  },
  {
   "cell_type": "code",
   "execution_count": 28,
   "id": "1dc42c7c-893c-45fc-84fb-d43298eaabdd",
   "metadata": {},
   "outputs": [
    {
     "data": {
      "text/plain": [
       "array([[1, 2],\n",
       "       [3, 4],\n",
       "       [5, 6],\n",
       "       [7, 8],\n",
       "       [1, 2],\n",
       "       [3, 4]])"
      ]
     },
     "execution_count": 28,
     "metadata": {},
     "output_type": "execute_result"
    }
   ],
   "source": [
    "X[train_indices]"
   ]
  },
  {
   "cell_type": "code",
   "execution_count": 29,
   "id": "6a0d0533-e2e8-497b-9339-c14cea11b882",
   "metadata": {},
   "outputs": [
    {
     "data": {
      "text/plain": [
       "array([1, 2, 1, 2, 1, 2])"
      ]
     },
     "execution_count": 29,
     "metadata": {},
     "output_type": "execute_result"
    }
   ],
   "source": [
    "y[train_indices]"
   ]
  },
  {
   "cell_type": "code",
   "execution_count": 30,
   "id": "669b94ae-6aec-4431-8ada-bac9282dee8e",
   "metadata": {},
   "outputs": [
    {
     "data": {
      "text/plain": [
       "array([[5, 6],\n",
       "       [7, 8]])"
      ]
     },
     "execution_count": 30,
     "metadata": {},
     "output_type": "execute_result"
    }
   ],
   "source": [
    "# ver os dados para teste\n",
    "X[test_indices]"
   ]
  },
  {
   "cell_type": "code",
   "execution_count": 31,
   "id": "0d6db1a9-9ebe-4c0e-ad6a-b1f2de69277f",
   "metadata": {},
   "outputs": [
    {
     "data": {
      "text/plain": [
       "array([1, 2])"
      ]
     },
     "execution_count": 31,
     "metadata": {},
     "output_type": "execute_result"
    }
   ],
   "source": [
    "y[test_indices]"
   ]
  },
  {
   "cell_type": "markdown",
   "id": "9088f71f-45e1-4325-8bfb-3a51331d7ff2",
   "metadata": {},
   "source": [
    "## Validação cruzada balanceada\n",
    "\n",
    "É muito importante usar o `stratify` na validação cruzada, os subconjuntos do conjunto de dados são versões pequenas do conjunto total.\n",
    "\n",
    "1. criar um conjunto de dados"
   ]
  },
  {
   "cell_type": "code",
   "execution_count": 32,
   "id": "f32dc33c-2b56-46f5-bbb4-392ed1695e8c",
   "metadata": {},
   "outputs": [],
   "source": [
    "import numpy as np"
   ]
  },
  {
   "cell_type": "code",
   "execution_count": 33,
   "id": "e4b190fd-b5b4-4e90-9c62-6c88eded9d54",
   "metadata": {},
   "outputs": [],
   "source": [
    "X = np.array([[1,2],[3,4],[5,6],[7,8],[1,2],[3,4],[5,6],[7,8]])\n",
    "y = np.array([1,1,1,1,2,2,2,2])"
   ]
  },
  {
   "cell_type": "markdown",
   "id": "aa436c4e-9307-43c4-9bb3-63a629490102",
   "metadata": {},
   "source": [
    "1. se configurar para 4 desdobramentos no conjunto de dados, cada um dos desdobramento terá um só valor para ser o alvo, e para isso é necessário usar o `StratifiedKFold`"
   ]
  },
  {
   "cell_type": "code",
   "execution_count": 34,
   "id": "e408006e-81a2-4c7f-809f-97fb523120a9",
   "metadata": {},
   "outputs": [],
   "source": [
    "from sklearn.model_selection import StratifiedKFold"
   ]
  },
  {
   "cell_type": "code",
   "execution_count": 35,
   "id": "eecd5275-2293-4c83-9626-f0f05e40de1c",
   "metadata": {},
   "outputs": [],
   "source": [
    "skf = StratifiedKFold(n_splits=4)"
   ]
  },
  {
   "cell_type": "markdown",
   "id": "bcd4e0c8-c9c1-447f-8caf-6f94d675c531",
   "metadata": {},
   "source": [
    "2. ver os indices de cada desdobramento"
   ]
  },
  {
   "cell_type": "code",
   "execution_count": 36,
   "id": "1c285582-2af3-4d43-be3b-7476ddaa2321",
   "metadata": {},
   "outputs": [
    {
     "name": "stdout",
     "output_type": "stream",
     "text": [
      "Rodada:1 : indices de treinamento: [1 2 3 5 6 7], indices de teste: [0 4]\n",
      "Rodada:2 : indices de treinamento: [0 2 3 4 6 7], indices de teste: [1 5]\n",
      "Rodada:3 : indices de treinamento: [0 1 3 4 5 7], indices de teste: [2 6]\n",
      "Rodada:4 : indices de treinamento: [0 1 2 4 5 6], indices de teste: [3 7]\n"
     ]
    }
   ],
   "source": [
    "cc = 1\n",
    "for train_in, test_in in skf.split(X,y):\n",
    "    print(f\"Rodada:{cc} : indices de treinamento: {train_in}, indices de teste: {test_in}\")\n",
    "    cc += 1"
   ]
  },
  {
   "cell_type": "markdown",
   "id": "cee49968-d661-455f-adcc-e3a5d65d0f44",
   "metadata": {},
   "source": [
    "Também é possível usar `StratifiedShuffleSplit` para reordenar a estratificação do desdobramento. "
   ]
  },
  {
   "cell_type": "code",
   "execution_count": 37,
   "id": "07c21c68-913e-4914-999e-f493dd5fafe9",
   "metadata": {},
   "outputs": [],
   "source": [
    "from sklearn.model_selection import StratifiedShuffleSplit"
   ]
  },
  {
   "cell_type": "code",
   "execution_count": 38,
   "id": "39f5abb7-114b-4843-a22d-bcbad63b0640",
   "metadata": {},
   "outputs": [],
   "source": [
    "sss = StratifiedShuffleSplit(n_splits=5, test_size=0.25)"
   ]
  },
  {
   "cell_type": "code",
   "execution_count": 39,
   "id": "38445fd9-a796-4c86-82a1-088d5b926d6d",
   "metadata": {},
   "outputs": [
    {
     "name": "stdout",
     "output_type": "stream",
     "text": [
      "Rodada: 1, indices de treinamento :[0 4 1 7 5 2], indices de teste: [6 3]\n",
      "Rodada: 2, indices de treinamento :[1 0 5 4 7 3], indices de teste: [2 6]\n",
      "Rodada: 3, indices de treinamento :[0 5 3 7 6 2], indices de teste: [1 4]\n",
      "Rodada: 4, indices de treinamento :[5 4 2 7 3 0], indices de teste: [6 1]\n",
      "Rodada: 5, indices de treinamento :[1 5 4 0 7 3], indices de teste: [2 6]\n"
     ]
    }
   ],
   "source": [
    "cc = 1\n",
    "for train_index, test_index in sss.split(X,y):\n",
    "    print(f\"Rodada: {cc}, indices de treinamento :{train_index}, indices de teste: {test_index}\")\n",
    "    cc += 1"
   ]
  },
  {
   "cell_type": "markdown",
   "id": "08d87982-b542-40d4-af43-03db8e90dbf2",
   "metadata": {},
   "source": [
    "## Validação cruzada com ShuffleSplit\n",
    "\n",
    "`ShuffleSplit` é um das técnicas de validação cruzada. Esta técnica pega uma exemplo simples de dados para um número específico de iterações.\n",
    "\n",
    "\n",
    "1. criar um conjunto de dados. Metados dos dados seram o 'exemplo simples de dados'  para estimar a média e ver que tão perto está da média. Gerar uma distribuição  de um exemplo para conjunto de dados, com uma média de 1000 e um desvio padrão de 10"
   ]
  },
  {
   "cell_type": "code",
   "execution_count": 40,
   "id": "d0d6272f-6bef-4cda-81c7-22e8e65b8348",
   "metadata": {},
   "outputs": [],
   "source": [
    "%matplotlib inline\n",
    "\n",
    "import numpy as np\n",
    "media_verdadeira = 1000\n",
    "desvio_verdadeiro = 10\n",
    "N =  1000\n",
    "dataset = np.random.normal(loc=media_verdadeira, scale=desvio_verdadeiro, size=N)"
   ]
  },
  {
   "cell_type": "code",
   "execution_count": 41,
   "id": "9887b5f1-18ae-46c3-91d1-4dc4b831b0b8",
   "metadata": {},
   "outputs": [
    {
     "data": {
      "image/png": "[encoded data removed]",
      "text/plain": [
       "<Figure size 1000x700 with 1 Axes>"
      ]
     },
     "metadata": {},
     "output_type": "display_data"
    }
   ],
   "source": [
    "import matplotlib.pyplot as plt\n",
    "\n",
    "f,ax = plt.subplots(figsize=(10,7))\n",
    "ax.hist(dataset, color=\"k\", alpha=.65, histtype=\"stepfilled\", bins=50)\n",
    "ax.set_title(\"Histogram do conjunto de dados\")\n",
    "plt.show()"
   ]
  },
  {
   "cell_type": "markdown",
   "id": "71150fb2-3df5-4bd9-8ac9-2f47d60324b0",
   "metadata": {},
   "source": [
    "2. estimar a média da metade do conjunto de dados"
   ]
  },
  {
   "cell_type": "code",
   "execution_count": 52,
   "id": "76dc638e-c78f-4897-a19a-c7177b204117",
   "metadata": {},
   "outputs": [
    {
     "data": {
      "text/plain": [
       "1000.1034629472394"
      ]
     },
     "execution_count": 52,
     "metadata": {},
     "output_type": "execute_result"
    }
   ],
   "source": [
    "holdout_set = dataset[:500]\n",
    "fitting_set = dataset[500:]\n",
    "estimate = fitting_set[:np.int64(N/2)].mean()\n",
    "estimate"
   ]
  },
  {
   "cell_type": "markdown",
   "id": "e8f2f8a4-2819-4c83-8502-8351e0cce584",
   "metadata": {},
   "source": [
    "3. também pode calcular  a média do conjunto de dados completo"
   ]
  },
  {
   "cell_type": "code",
   "execution_count": 54,
   "id": "55361560-d414-4d7e-92a0-5924b68aa38a",
   "metadata": {},
   "outputs": [
    {
     "data": {
      "text/plain": [
       "999.9055146213298"
      ]
     },
     "execution_count": 54,
     "metadata": {},
     "output_type": "execute_result"
    }
   ],
   "source": [
    "data_mean = dataset.mean()\n",
    "data_mean"
   ]
  },
  {
   "cell_type": "markdown",
   "id": "78aa0154-f389-4d68-adb1-82ecb6daaba3",
   "metadata": {},
   "source": [
    "Para observar o comportamento do `ShuffleSplit` crie um gráfico"
   ]
  },
  {
   "cell_type": "code",
   "execution_count": 55,
   "id": "2f56baf0-3321-499f-8a90-7da33249c1e1",
   "metadata": {},
   "outputs": [],
   "source": [
    "from sklearn.model_selection import ShuffleSplit\n",
    "shufle_split = ShuffleSplit(n_splits=100, test_size=.5, random_state=0)"
   ]
  },
  {
   "cell_type": "code",
   "execution_count": 57,
   "id": "0029d78d-8c4e-4d6f-9b40-b8481a346aac",
   "metadata": {},
   "outputs": [
    {
     "data": {
      "image/png": "[encoded data removed]",
      "text/plain": [
       "<Figure size 1000x500 with 1 Axes>"
      ]
     },
     "metadata": {},
     "output_type": "display_data"
    }
   ],
   "source": [
    "mean_p = []\n",
    "estima_distancia = []\n",
    "for train_index, not_used_index in shufle_split.split(fitting_set):\n",
    "    mean_p.append(fitting_set[train_index].mean())\n",
    "    shuf_estimate = np.mean(mean_p)\n",
    "    estima_distancia.append(np.abs(shuf_estimate - dataset.mean()))\n",
    "plt.figure(figsize = (10,5))\n",
    "plt.plot(estima_distancia)\n",
    "plt.show()"
   ]
  },
  {
   "cell_type": "code",
   "execution_count": null,
   "id": "ebb6c802-3bba-4f9f-b1d3-470cd5f2a221",
   "metadata": {},
   "outputs": [],
   "source": []
  }
 ],
 "metadata": {
  "kernelspec": {
   "display_name": "Python 3 (ipykernel)",
   "language": "python",
   "name": "python3"
  },
  "language_info": {
   "codemirror_mode": {
    "name": "ipython",
    "version": 3
   },
   "file_extension": ".py",
   "mimetype": "text/x-python",
   "name": "python",
   "nbconvert_exporter": "python",
   "pygments_lexer": "ipython3",
   "version": "3.12.2"
  }
 },
 "nbformat": 4,
 "nbformat_minor": 5
}
