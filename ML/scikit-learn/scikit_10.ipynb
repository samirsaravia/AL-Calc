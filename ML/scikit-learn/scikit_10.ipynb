{
 "cells": [
  {
   "cell_type": "markdown",
   "id": "f79d3dc3-859f-4d22-8b16-b953e70b1344",
   "metadata": {},
   "source": [
    "# Regressão Logistica\n",
    "\n",
    "A regressão logistica é um método de classificação.\n",
    "\n",
    "## Pimas\n",
    "Um conjunto de dados sobre diabetes, pelo nome \"Pimas Indians diabetes dataset\"\n",
    "Kahn,Michael. Diabetes. UCI Machine Learning Repository. https://doi.org/10.24432/C5T59G."
   ]
  },
  {
   "cell_type": "code",
   "execution_count": 1,
   "id": "262a463b-f75d-4c42-92a8-b96b114ebd16",
   "metadata": {},
   "outputs": [],
   "source": [
    "import pandas as pd\n",
    "import matplotlib.pyplot as plt"
   ]
  },
  {
   "cell_type": "code",
   "execution_count": 2,
   "id": "26e719e6-a561-4bde-9a4c-25a127b4cab7",
   "metadata": {},
   "outputs": [],
   "source": [
    "column_names = ['gravida',\n",
    "               'glucose',\n",
    "               'pressao',\n",
    "               'pele_mm',\n",
    "               'insulina',\n",
    "               'bmi',\n",
    "               'pedigree_func',\n",
    "               'idade',\n",
    "               'target']"
   ]
  },
  {
   "cell_type": "code",
   "execution_count": 3,
   "id": "8f5ff68e-c457-40df-9df4-c2e63031817d",
   "metadata": {},
   "outputs": [],
   "source": [
    "features_names = column_names[:-1]"
   ]
  },
  {
   "cell_type": "code",
   "execution_count": 4,
   "id": "3a1823c1-1b79-449a-8468-369fd086a096",
   "metadata": {},
   "outputs": [],
   "source": [
    "all_data = pd.read_csv(\"diabetes.csv\")"
   ]
  },
  {
   "cell_type": "code",
   "execution_count": 5,
   "id": "b05065b8-4424-476a-8ce5-613723cb60ed",
   "metadata": {},
   "outputs": [],
   "source": [
    "all_data.columns = column_names"
   ]
  },
  {
   "cell_type": "code",
   "execution_count": 6,
   "id": "bf311033-ccd9-4bc1-a559-3a7bd572126c",
   "metadata": {},
   "outputs": [
    {
     "data": {
      "text/html": [
       "<div>\n",
       "<style scoped>\n",
       "    .dataframe tbody tr th:only-of-type {\n",
       "        vertical-align: middle;\n",
       "    }\n",
       "\n",
       "    .dataframe tbody tr th {\n",
       "        vertical-align: top;\n",
       "    }\n",
       "\n",
       "    .dataframe thead th {\n",
       "        text-align: right;\n",
       "    }\n",
       "</style>\n",
       "<table border=\"1\" class=\"dataframe\">\n",
       "  <thead>\n",
       "    <tr style=\"text-align: right;\">\n",
       "      <th></th>\n",
       "      <th>gravida</th>\n",
       "      <th>glucose</th>\n",
       "      <th>pressao</th>\n",
       "      <th>pele_mm</th>\n",
       "      <th>insulina</th>\n",
       "      <th>bmi</th>\n",
       "      <th>pedigree_func</th>\n",
       "      <th>idade</th>\n",
       "      <th>target</th>\n",
       "    </tr>\n",
       "  </thead>\n",
       "  <tbody>\n",
       "    <tr>\n",
       "      <th>0</th>\n",
       "      <td>6</td>\n",
       "      <td>148</td>\n",
       "      <td>72</td>\n",
       "      <td>35</td>\n",
       "      <td>0</td>\n",
       "      <td>33.6</td>\n",
       "      <td>0.627</td>\n",
       "      <td>50</td>\n",
       "      <td>1</td>\n",
       "    </tr>\n",
       "    <tr>\n",
       "      <th>1</th>\n",
       "      <td>1</td>\n",
       "      <td>85</td>\n",
       "      <td>66</td>\n",
       "      <td>29</td>\n",
       "      <td>0</td>\n",
       "      <td>26.6</td>\n",
       "      <td>0.351</td>\n",
       "      <td>31</td>\n",
       "      <td>0</td>\n",
       "    </tr>\n",
       "    <tr>\n",
       "      <th>2</th>\n",
       "      <td>8</td>\n",
       "      <td>183</td>\n",
       "      <td>64</td>\n",
       "      <td>0</td>\n",
       "      <td>0</td>\n",
       "      <td>23.3</td>\n",
       "      <td>0.672</td>\n",
       "      <td>32</td>\n",
       "      <td>1</td>\n",
       "    </tr>\n",
       "  </tbody>\n",
       "</table>\n",
       "</div>"
      ],
      "text/plain": [
       "   gravida  glucose  pressao  pele_mm  insulina   bmi  pedigree_func  idade  \\\n",
       "0        6      148       72       35         0  33.6          0.627     50   \n",
       "1        1       85       66       29         0  26.6          0.351     31   \n",
       "2        8      183       64        0         0  23.3          0.672     32   \n",
       "\n",
       "   target  \n",
       "0       1  \n",
       "1       0  \n",
       "2       1  "
      ]
     },
     "execution_count": 6,
     "metadata": {},
     "output_type": "execute_result"
    }
   ],
   "source": [
    "all_data.head(3)"
   ]
  },
  {
   "cell_type": "code",
   "execution_count": 7,
   "id": "937573e1-d545-44cb-ad25-66cab3025b27",
   "metadata": {},
   "outputs": [
    {
     "data": {
      "text/html": [
       "<div>\n",
       "<style scoped>\n",
       "    .dataframe tbody tr th:only-of-type {\n",
       "        vertical-align: middle;\n",
       "    }\n",
       "\n",
       "    .dataframe tbody tr th {\n",
       "        vertical-align: top;\n",
       "    }\n",
       "\n",
       "    .dataframe thead th {\n",
       "        text-align: right;\n",
       "    }\n",
       "</style>\n",
       "<table border=\"1\" class=\"dataframe\">\n",
       "  <thead>\n",
       "    <tr style=\"text-align: right;\">\n",
       "      <th></th>\n",
       "      <th>gravida</th>\n",
       "      <th>glucose</th>\n",
       "      <th>pressao</th>\n",
       "      <th>pele_mm</th>\n",
       "      <th>insulina</th>\n",
       "      <th>bmi</th>\n",
       "      <th>pedigree_func</th>\n",
       "      <th>idade</th>\n",
       "      <th>target</th>\n",
       "    </tr>\n",
       "  </thead>\n",
       "  <tbody>\n",
       "    <tr>\n",
       "      <th>count</th>\n",
       "      <td>768.000000</td>\n",
       "      <td>768.000000</td>\n",
       "      <td>768.000000</td>\n",
       "      <td>768.000000</td>\n",
       "      <td>768.000000</td>\n",
       "      <td>768.000000</td>\n",
       "      <td>768.000000</td>\n",
       "      <td>768.000000</td>\n",
       "      <td>768.000000</td>\n",
       "    </tr>\n",
       "    <tr>\n",
       "      <th>mean</th>\n",
       "      <td>3.845052</td>\n",
       "      <td>120.894531</td>\n",
       "      <td>69.105469</td>\n",
       "      <td>20.536458</td>\n",
       "      <td>79.799479</td>\n",
       "      <td>31.992578</td>\n",
       "      <td>0.471876</td>\n",
       "      <td>33.240885</td>\n",
       "      <td>0.348958</td>\n",
       "    </tr>\n",
       "    <tr>\n",
       "      <th>std</th>\n",
       "      <td>3.369578</td>\n",
       "      <td>31.972618</td>\n",
       "      <td>19.355807</td>\n",
       "      <td>15.952218</td>\n",
       "      <td>115.244002</td>\n",
       "      <td>7.884160</td>\n",
       "      <td>0.331329</td>\n",
       "      <td>11.760232</td>\n",
       "      <td>0.476951</td>\n",
       "    </tr>\n",
       "    <tr>\n",
       "      <th>min</th>\n",
       "      <td>0.000000</td>\n",
       "      <td>0.000000</td>\n",
       "      <td>0.000000</td>\n",
       "      <td>0.000000</td>\n",
       "      <td>0.000000</td>\n",
       "      <td>0.000000</td>\n",
       "      <td>0.078000</td>\n",
       "      <td>21.000000</td>\n",
       "      <td>0.000000</td>\n",
       "    </tr>\n",
       "    <tr>\n",
       "      <th>25%</th>\n",
       "      <td>1.000000</td>\n",
       "      <td>99.000000</td>\n",
       "      <td>62.000000</td>\n",
       "      <td>0.000000</td>\n",
       "      <td>0.000000</td>\n",
       "      <td>27.300000</td>\n",
       "      <td>0.243750</td>\n",
       "      <td>24.000000</td>\n",
       "      <td>0.000000</td>\n",
       "    </tr>\n",
       "    <tr>\n",
       "      <th>50%</th>\n",
       "      <td>3.000000</td>\n",
       "      <td>117.000000</td>\n",
       "      <td>72.000000</td>\n",
       "      <td>23.000000</td>\n",
       "      <td>30.500000</td>\n",
       "      <td>32.000000</td>\n",
       "      <td>0.372500</td>\n",
       "      <td>29.000000</td>\n",
       "      <td>0.000000</td>\n",
       "    </tr>\n",
       "    <tr>\n",
       "      <th>75%</th>\n",
       "      <td>6.000000</td>\n",
       "      <td>140.250000</td>\n",
       "      <td>80.000000</td>\n",
       "      <td>32.000000</td>\n",
       "      <td>127.250000</td>\n",
       "      <td>36.600000</td>\n",
       "      <td>0.626250</td>\n",
       "      <td>41.000000</td>\n",
       "      <td>1.000000</td>\n",
       "    </tr>\n",
       "    <tr>\n",
       "      <th>max</th>\n",
       "      <td>17.000000</td>\n",
       "      <td>199.000000</td>\n",
       "      <td>122.000000</td>\n",
       "      <td>99.000000</td>\n",
       "      <td>846.000000</td>\n",
       "      <td>67.100000</td>\n",
       "      <td>2.420000</td>\n",
       "      <td>81.000000</td>\n",
       "      <td>1.000000</td>\n",
       "    </tr>\n",
       "  </tbody>\n",
       "</table>\n",
       "</div>"
      ],
      "text/plain": [
       "          gravida     glucose     pressao     pele_mm    insulina         bmi  \\\n",
       "count  768.000000  768.000000  768.000000  768.000000  768.000000  768.000000   \n",
       "mean     3.845052  120.894531   69.105469   20.536458   79.799479   31.992578   \n",
       "std      3.369578   31.972618   19.355807   15.952218  115.244002    7.884160   \n",
       "min      0.000000    0.000000    0.000000    0.000000    0.000000    0.000000   \n",
       "25%      1.000000   99.000000   62.000000    0.000000    0.000000   27.300000   \n",
       "50%      3.000000  117.000000   72.000000   23.000000   30.500000   32.000000   \n",
       "75%      6.000000  140.250000   80.000000   32.000000  127.250000   36.600000   \n",
       "max     17.000000  199.000000  122.000000   99.000000  846.000000   67.100000   \n",
       "\n",
       "       pedigree_func       idade      target  \n",
       "count     768.000000  768.000000  768.000000  \n",
       "mean        0.471876   33.240885    0.348958  \n",
       "std         0.331329   11.760232    0.476951  \n",
       "min         0.078000   21.000000    0.000000  \n",
       "25%         0.243750   24.000000    0.000000  \n",
       "50%         0.372500   29.000000    0.000000  \n",
       "75%         0.626250   41.000000    1.000000  \n",
       "max         2.420000   81.000000    1.000000  "
      ]
     },
     "execution_count": 7,
     "metadata": {},
     "output_type": "execute_result"
    }
   ],
   "source": [
    "all_data.describe()"
   ]
  },
  {
   "cell_type": "markdown",
   "id": "796a42e8-f2bc-47c6-9b7e-0f065570e21e",
   "metadata": {},
   "source": [
    "- É possível a pele_mm ser zero?\n",
    "- é possível o nível de insulina ser zero?\n",
    "- glucose zero, pressão sanguínea zero, pele em mm zero, nível de insulina zero, são caracteristicas impossíveis num ser humano"
   ]
  },
  {
   "cell_type": "code",
   "execution_count": 8,
   "id": "d00c76c3-300e-4a9d-869a-4634dd8bcfd2",
   "metadata": {},
   "outputs": [
    {
     "data": {
      "image/png": "[encoded data removed]",
      "text/plain": [
       "<Figure size 640x480 with 1 Axes>"
      ]
     },
     "metadata": {},
     "output_type": "display_data"
    }
   ],
   "source": [
    "# visualizando histograma da variável \"gravida\"\n",
    "%matplotlib inline\n",
    "all_data.gravida.hist(bins=50)\n",
    "plt.show()"
   ]
  },
  {
   "cell_type": "code",
   "execution_count": 9,
   "id": "8f960e77-c13e-4610-af33-f0e8394b558d",
   "metadata": {},
   "outputs": [
    {
     "data": {
      "image/png": "[encoded data removed]",
      "text/plain": [
       "<Figure size 1500x900 with 9 Axes>"
      ]
     },
     "metadata": {},
     "output_type": "display_data"
    }
   ],
   "source": [
    "#visualizando tudo\n",
    "all_data.hist(figsize=(15,9), bins=50)\n",
    "plt.show()"
   ]
  },
  {
   "cell_type": "markdown",
   "id": "54516657-1216-4cc3-abc9-3e45d0c9706a",
   "metadata": {},
   "source": [
    "> Pressão e bmi parecem ter uma distribuição normal, tirando anomalia dos zeros"
   ]
  },
  {
   "cell_type": "code",
   "execution_count": 10,
   "id": "40109b35-46d1-4a8c-8056-386df33e44b4",
   "metadata": {},
   "outputs": [
    {
     "data": {
      "text/plain": [
       "target\n",
       "0    500\n",
       "1    268\n",
       "Name: count, dtype: int64"
      ]
     },
     "execution_count": 10,
     "metadata": {},
     "output_type": "execute_result"
    }
   ],
   "source": [
    "all_data.target.value_counts()"
   ]
  },
  {
   "cell_type": "code",
   "execution_count": 11,
   "id": "a7c651d1-b48c-4864-928d-fb89dde346ca",
   "metadata": {},
   "outputs": [
    {
     "data": {
      "text/plain": [
       "(768, 9)"
      ]
     },
     "execution_count": 11,
     "metadata": {},
     "output_type": "execute_result"
    }
   ],
   "source": [
    "all_data.shape"
   ]
  },
  {
   "cell_type": "markdown",
   "id": "cf0809bb-6d31-4a27-a554-7b9a61a6de55",
   "metadata": {},
   "source": [
    "## Machine Learning com Regressão Logistica\n",
    "\n",
    "- Carregar os dados em matrizes, selecionando X e y como alvos para trabalhar.\n",
    "- Separar os dados em dados de treinamento e dados para teste\n",
    "- Treinar a classificador para regressão logistica no conjunto de treinamento\n",
    "- Testar o desempenho do classificador no conjunto teste"
   ]
  },
  {
   "cell_type": "code",
   "execution_count": 12,
   "id": "5a62fe29-9cd9-46ac-afba-5587945e04ff",
   "metadata": {},
   "outputs": [],
   "source": [
    "import pandas as pd\n",
    "import numpy as np\n"
   ]
  },
  {
   "cell_type": "code",
   "execution_count": 13,
   "id": "b170d9ba-4c3f-4f8a-9144-1569bb372037",
   "metadata": {},
   "outputs": [],
   "source": [
    "X = all_data[features_names]\n",
    "y = all_data['target']"
   ]
  },
  {
   "cell_type": "markdown",
   "id": "88e94455-8870-4c13-a263-48e01b6fddea",
   "metadata": {},
   "source": [
    "### Separando conjustos para teste e treinamento"
   ]
  },
  {
   "cell_type": "code",
   "execution_count": 14,
   "id": "b2897d61-b1a0-41a8-83f4-37dbf466fe1e",
   "metadata": {},
   "outputs": [],
   "source": [
    "from sklearn.model_selection import train_test_split"
   ]
  },
  {
   "cell_type": "code",
   "execution_count": 15,
   "id": "29c30312-34e6-4d16-90a3-6cbe01c80ec7",
   "metadata": {},
   "outputs": [],
   "source": [
    "X_treino, X_teste, y_treino, y_teste = train_test_split(X,y,test_size=0.2, random_state=7, stratify=y)"
   ]
  },
  {
   "cell_type": "markdown",
   "id": "36e74189-47f8-4f89-acef-6a890f669e76",
   "metadata": {},
   "source": [
    "Ao usar o `stratify` estamos separando a mesma quantidade de 1 e 0 do conjunto y, tanto para teste como para treinamento\n",
    "\n",
    "### Treinando A regressão logistica"
   ]
  },
  {
   "cell_type": "code",
   "execution_count": 16,
   "id": "2e232612-3fcc-47b5-82d6-a0622c5d97b4",
   "metadata": {},
   "outputs": [],
   "source": [
    "from sklearn.linear_model import LogisticRegression"
   ]
  },
  {
   "cell_type": "code",
   "execution_count": 17,
   "id": "3e238cde-7cae-449a-b98d-2947d8791097",
   "metadata": {},
   "outputs": [
    {
     "name": "stderr",
     "output_type": "stream",
     "text": [
      "/home/io/anaconda3/envs/notebook/lib/python3.12/site-packages/sklearn/linear_model/_logistic.py:469: ConvergenceWarning: lbfgs failed to converge (status=1):\n",
      "STOP: TOTAL NO. of ITERATIONS REACHED LIMIT.\n",
      "\n",
      "Increase the number of iterations (max_iter) or scale the data as shown in:\n",
      "    https://scikit-learn.org/stable/modules/preprocessing.html\n",
      "Please also refer to the documentation for alternative solver options:\n",
      "    https://scikit-learn.org/stable/modules/linear_model.html#logistic-regression\n",
      "  n_iter_i = _check_optimize_result(\n"
     ]
    },
    {
     "data": {
      "text/html": [
       "<style>#sk-container-id-1 {\n",
       "  /* Definition of color scheme common for light and dark mode */\n",
       "  --sklearn-color-text: black;\n",
       "  --sklearn-color-line: gray;\n",
       "  /* Definition of color scheme for unfitted estimators */\n",
       "  --sklearn-color-unfitted-level-0: #fff5e6;\n",
       "  --sklearn-color-unfitted-level-1: #f6e4d2;\n",
       "  --sklearn-color-unfitted-level-2: #ffe0b3;\n",
       "  --sklearn-color-unfitted-level-3: chocolate;\n",
       "  /* Definition of color scheme for fitted estimators */\n",
       "  --sklearn-color-fitted-level-0: #f0f8ff;\n",
       "  --sklearn-color-fitted-level-1: #d4ebff;\n",
       "  --sklearn-color-fitted-level-2: #b3dbfd;\n",
       "  --sklearn-color-fitted-level-3: cornflowerblue;\n",
       "\n",
       "  /* Specific color for light theme */\n",
       "  --sklearn-color-text-on-default-background: var(--sg-text-color, var(--theme-code-foreground, var(--jp-content-font-color1, black)));\n",
       "  --sklearn-color-background: var(--sg-background-color, var(--theme-background, var(--jp-layout-color0, white)));\n",
       "  --sklearn-color-border-box: var(--sg-text-color, var(--theme-code-foreground, var(--jp-content-font-color1, black)));\n",
       "  --sklearn-color-icon: #696969;\n",
       "\n",
       "  @media (prefers-color-scheme: dark) {\n",
       "    /* Redefinition of color scheme for dark theme */\n",
       "    --sklearn-color-text-on-default-background: var(--sg-text-color, var(--theme-code-foreground, var(--jp-content-font-color1, white)));\n",
       "    --sklearn-color-background: var(--sg-background-color, var(--theme-background, var(--jp-layout-color0, #111)));\n",
       "    --sklearn-color-border-box: var(--sg-text-color, var(--theme-code-foreground, var(--jp-content-font-color1, white)));\n",
       "    --sklearn-color-icon: #878787;\n",
       "  }\n",
       "}\n",
       "\n",
       "#sk-container-id-1 {\n",
       "  color: var(--sklearn-color-text);\n",
       "}\n",
       "\n",
       "#sk-container-id-1 pre {\n",
       "  padding: 0;\n",
       "}\n",
       "\n",
       "#sk-container-id-1 input.sk-hidden--visually {\n",
       "  border: 0;\n",
       "  clip: rect(1px 1px 1px 1px);\n",
       "  clip: rect(1px, 1px, 1px, 1px);\n",
       "  height: 1px;\n",
       "  margin: -1px;\n",
       "  overflow: hidden;\n",
       "  padding: 0;\n",
       "  position: absolute;\n",
       "  width: 1px;\n",
       "}\n",
       "\n",
       "#sk-container-id-1 div.sk-dashed-wrapped {\n",
       "  border: 1px dashed var(--sklearn-color-line);\n",
       "  margin: 0 0.4em 0.5em 0.4em;\n",
       "  box-sizing: border-box;\n",
       "  padding-bottom: 0.4em;\n",
       "  background-color: var(--sklearn-color-background);\n",
       "}\n",
       "\n",
       "#sk-container-id-1 div.sk-container {\n",
       "  /* jupyter's `normalize.less` sets `[hidden] { display: none; }`\n",
       "     but bootstrap.min.css set `[hidden] { display: none !important; }`\n",
       "     so we also need the `!important` here to be able to override the\n",
       "     default hidden behavior on the sphinx rendered scikit-learn.org.\n",
       "     See: https://github.com/scikit-learn/scikit-learn/issues/21755 */\n",
       "  display: inline-block !important;\n",
       "  position: relative;\n",
       "}\n",
       "\n",
       "#sk-container-id-1 div.sk-text-repr-fallback {\n",
       "  display: none;\n",
       "}\n",
       "\n",
       "div.sk-parallel-item,\n",
       "div.sk-serial,\n",
       "div.sk-item {\n",
       "  /* draw centered vertical line to link estimators */\n",
       "  background-image: linear-gradient(var(--sklearn-color-text-on-default-background), var(--sklearn-color-text-on-default-background));\n",
       "  background-size: 2px 100%;\n",
       "  background-repeat: no-repeat;\n",
       "  background-position: center center;\n",
       "}\n",
       "\n",
       "/* Parallel-specific style estimator block */\n",
       "\n",
       "#sk-container-id-1 div.sk-parallel-item::after {\n",
       "  content: \"\";\n",
       "  width: 100%;\n",
       "  border-bottom: 2px solid var(--sklearn-color-text-on-default-background);\n",
       "  flex-grow: 1;\n",
       "}\n",
       "\n",
       "#sk-container-id-1 div.sk-parallel {\n",
       "  display: flex;\n",
       "  align-items: stretch;\n",
       "  justify-content: center;\n",
       "  background-color: var(--sklearn-color-background);\n",
       "  position: relative;\n",
       "}\n",
       "\n",
       "#sk-container-id-1 div.sk-parallel-item {\n",
       "  display: flex;\n",
       "  flex-direction: column;\n",
       "}\n",
       "\n",
       "#sk-container-id-1 div.sk-parallel-item:first-child::after {\n",
       "  align-self: flex-end;\n",
       "  width: 50%;\n",
       "}\n",
       "\n",
       "#sk-container-id-1 div.sk-parallel-item:last-child::after {\n",
       "  align-self: flex-start;\n",
       "  width: 50%;\n",
       "}\n",
       "\n",
       "#sk-container-id-1 div.sk-parallel-item:only-child::after {\n",
       "  width: 0;\n",
       "}\n",
       "\n",
       "/* Serial-specific style estimator block */\n",
       "\n",
       "#sk-container-id-1 div.sk-serial {\n",
       "  display: flex;\n",
       "  flex-direction: column;\n",
       "  align-items: center;\n",
       "  background-color: var(--sklearn-color-background);\n",
       "  padding-right: 1em;\n",
       "  padding-left: 1em;\n",
       "}\n",
       "\n",
       "\n",
       "/* Toggleable style: style used for estimator/Pipeline/ColumnTransformer box that is\n",
       "clickable and can be expanded/collapsed.\n",
       "- Pipeline and ColumnTransformer use this feature and define the default style\n",
       "- Estimators will overwrite some part of the style using the `sk-estimator` class\n",
       "*/\n",
       "\n",
       "/* Pipeline and ColumnTransformer style (default) */\n",
       "\n",
       "#sk-container-id-1 div.sk-toggleable {\n",
       "  /* Default theme specific background. It is overwritten whether we have a\n",
       "  specific estimator or a Pipeline/ColumnTransformer */\n",
       "  background-color: var(--sklearn-color-background);\n",
       "}\n",
       "\n",
       "/* Toggleable label */\n",
       "#sk-container-id-1 label.sk-toggleable__label {\n",
       "  cursor: pointer;\n",
       "  display: block;\n",
       "  width: 100%;\n",
       "  margin-bottom: 0;\n",
       "  padding: 0.5em;\n",
       "  box-sizing: border-box;\n",
       "  text-align: center;\n",
       "}\n",
       "\n",
       "#sk-container-id-1 label.sk-toggleable__label-arrow:before {\n",
       "  /* Arrow on the left of the label */\n",
       "  content: \"▸\";\n",
       "  float: left;\n",
       "  margin-right: 0.25em;\n",
       "  color: var(--sklearn-color-icon);\n",
       "}\n",
       "\n",
       "#sk-container-id-1 label.sk-toggleable__label-arrow:hover:before {\n",
       "  color: var(--sklearn-color-text);\n",
       "}\n",
       "\n",
       "/* Toggleable content - dropdown */\n",
       "\n",
       "#sk-container-id-1 div.sk-toggleable__content {\n",
       "  max-height: 0;\n",
       "  max-width: 0;\n",
       "  overflow: hidden;\n",
       "  text-align: left;\n",
       "  /* unfitted */\n",
       "  background-color: var(--sklearn-color-unfitted-level-0);\n",
       "}\n",
       "\n",
       "#sk-container-id-1 div.sk-toggleable__content.fitted {\n",
       "  /* fitted */\n",
       "  background-color: var(--sklearn-color-fitted-level-0);\n",
       "}\n",
       "\n",
       "#sk-container-id-1 div.sk-toggleable__content pre {\n",
       "  margin: 0.2em;\n",
       "  border-radius: 0.25em;\n",
       "  color: var(--sklearn-color-text);\n",
       "  /* unfitted */\n",
       "  background-color: var(--sklearn-color-unfitted-level-0);\n",
       "}\n",
       "\n",
       "#sk-container-id-1 div.sk-toggleable__content.fitted pre {\n",
       "  /* unfitted */\n",
       "  background-color: var(--sklearn-color-fitted-level-0);\n",
       "}\n",
       "\n",
       "#sk-container-id-1 input.sk-toggleable__control:checked~div.sk-toggleable__content {\n",
       "  /* Expand drop-down */\n",
       "  max-height: 200px;\n",
       "  max-width: 100%;\n",
       "  overflow: auto;\n",
       "}\n",
       "\n",
       "#sk-container-id-1 input.sk-toggleable__control:checked~label.sk-toggleable__label-arrow:before {\n",
       "  content: \"▾\";\n",
       "}\n",
       "\n",
       "/* Pipeline/ColumnTransformer-specific style */\n",
       "\n",
       "#sk-container-id-1 div.sk-label input.sk-toggleable__control:checked~label.sk-toggleable__label {\n",
       "  color: var(--sklearn-color-text);\n",
       "  background-color: var(--sklearn-color-unfitted-level-2);\n",
       "}\n",
       "\n",
       "#sk-container-id-1 div.sk-label.fitted input.sk-toggleable__control:checked~label.sk-toggleable__label {\n",
       "  background-color: var(--sklearn-color-fitted-level-2);\n",
       "}\n",
       "\n",
       "/* Estimator-specific style */\n",
       "\n",
       "/* Colorize estimator box */\n",
       "#sk-container-id-1 div.sk-estimator input.sk-toggleable__control:checked~label.sk-toggleable__label {\n",
       "  /* unfitted */\n",
       "  background-color: var(--sklearn-color-unfitted-level-2);\n",
       "}\n",
       "\n",
       "#sk-container-id-1 div.sk-estimator.fitted input.sk-toggleable__control:checked~label.sk-toggleable__label {\n",
       "  /* fitted */\n",
       "  background-color: var(--sklearn-color-fitted-level-2);\n",
       "}\n",
       "\n",
       "#sk-container-id-1 div.sk-label label.sk-toggleable__label,\n",
       "#sk-container-id-1 div.sk-label label {\n",
       "  /* The background is the default theme color */\n",
       "  color: var(--sklearn-color-text-on-default-background);\n",
       "}\n",
       "\n",
       "/* On hover, darken the color of the background */\n",
       "#sk-container-id-1 div.sk-label:hover label.sk-toggleable__label {\n",
       "  color: var(--sklearn-color-text);\n",
       "  background-color: var(--sklearn-color-unfitted-level-2);\n",
       "}\n",
       "\n",
       "/* Label box, darken color on hover, fitted */\n",
       "#sk-container-id-1 div.sk-label.fitted:hover label.sk-toggleable__label.fitted {\n",
       "  color: var(--sklearn-color-text);\n",
       "  background-color: var(--sklearn-color-fitted-level-2);\n",
       "}\n",
       "\n",
       "/* Estimator label */\n",
       "\n",
       "#sk-container-id-1 div.sk-label label {\n",
       "  font-family: monospace;\n",
       "  font-weight: bold;\n",
       "  display: inline-block;\n",
       "  line-height: 1.2em;\n",
       "}\n",
       "\n",
       "#sk-container-id-1 div.sk-label-container {\n",
       "  text-align: center;\n",
       "}\n",
       "\n",
       "/* Estimator-specific */\n",
       "#sk-container-id-1 div.sk-estimator {\n",
       "  font-family: monospace;\n",
       "  border: 1px dotted var(--sklearn-color-border-box);\n",
       "  border-radius: 0.25em;\n",
       "  box-sizing: border-box;\n",
       "  margin-bottom: 0.5em;\n",
       "  /* unfitted */\n",
       "  background-color: var(--sklearn-color-unfitted-level-0);\n",
       "}\n",
       "\n",
       "#sk-container-id-1 div.sk-estimator.fitted {\n",
       "  /* fitted */\n",
       "  background-color: var(--sklearn-color-fitted-level-0);\n",
       "}\n",
       "\n",
       "/* on hover */\n",
       "#sk-container-id-1 div.sk-estimator:hover {\n",
       "  /* unfitted */\n",
       "  background-color: var(--sklearn-color-unfitted-level-2);\n",
       "}\n",
       "\n",
       "#sk-container-id-1 div.sk-estimator.fitted:hover {\n",
       "  /* fitted */\n",
       "  background-color: var(--sklearn-color-fitted-level-2);\n",
       "}\n",
       "\n",
       "/* Specification for estimator info (e.g. \"i\" and \"?\") */\n",
       "\n",
       "/* Common style for \"i\" and \"?\" */\n",
       "\n",
       ".sk-estimator-doc-link,\n",
       "a:link.sk-estimator-doc-link,\n",
       "a:visited.sk-estimator-doc-link {\n",
       "  float: right;\n",
       "  font-size: smaller;\n",
       "  line-height: 1em;\n",
       "  font-family: monospace;\n",
       "  background-color: var(--sklearn-color-background);\n",
       "  border-radius: 1em;\n",
       "  height: 1em;\n",
       "  width: 1em;\n",
       "  text-decoration: none !important;\n",
       "  margin-left: 1ex;\n",
       "  /* unfitted */\n",
       "  border: var(--sklearn-color-unfitted-level-1) 1pt solid;\n",
       "  color: var(--sklearn-color-unfitted-level-1);\n",
       "}\n",
       "\n",
       ".sk-estimator-doc-link.fitted,\n",
       "a:link.sk-estimator-doc-link.fitted,\n",
       "a:visited.sk-estimator-doc-link.fitted {\n",
       "  /* fitted */\n",
       "  border: var(--sklearn-color-fitted-level-1) 1pt solid;\n",
       "  color: var(--sklearn-color-fitted-level-1);\n",
       "}\n",
       "\n",
       "/* On hover */\n",
       "div.sk-estimator:hover .sk-estimator-doc-link:hover,\n",
       ".sk-estimator-doc-link:hover,\n",
       "div.sk-label-container:hover .sk-estimator-doc-link:hover,\n",
       ".sk-estimator-doc-link:hover {\n",
       "  /* unfitted */\n",
       "  background-color: var(--sklearn-color-unfitted-level-3);\n",
       "  color: var(--sklearn-color-background);\n",
       "  text-decoration: none;\n",
       "}\n",
       "\n",
       "div.sk-estimator.fitted:hover .sk-estimator-doc-link.fitted:hover,\n",
       ".sk-estimator-doc-link.fitted:hover,\n",
       "div.sk-label-container:hover .sk-estimator-doc-link.fitted:hover,\n",
       ".sk-estimator-doc-link.fitted:hover {\n",
       "  /* fitted */\n",
       "  background-color: var(--sklearn-color-fitted-level-3);\n",
       "  color: var(--sklearn-color-background);\n",
       "  text-decoration: none;\n",
       "}\n",
       "\n",
       "/* Span, style for the box shown on hovering the info icon */\n",
       ".sk-estimator-doc-link span {\n",
       "  display: none;\n",
       "  z-index: 9999;\n",
       "  position: relative;\n",
       "  font-weight: normal;\n",
       "  right: .2ex;\n",
       "  padding: .5ex;\n",
       "  margin: .5ex;\n",
       "  width: min-content;\n",
       "  min-width: 20ex;\n",
       "  max-width: 50ex;\n",
       "  color: var(--sklearn-color-text);\n",
       "  box-shadow: 2pt 2pt 4pt #999;\n",
       "  /* unfitted */\n",
       "  background: var(--sklearn-color-unfitted-level-0);\n",
       "  border: .5pt solid var(--sklearn-color-unfitted-level-3);\n",
       "}\n",
       "\n",
       ".sk-estimator-doc-link.fitted span {\n",
       "  /* fitted */\n",
       "  background: var(--sklearn-color-fitted-level-0);\n",
       "  border: var(--sklearn-color-fitted-level-3);\n",
       "}\n",
       "\n",
       ".sk-estimator-doc-link:hover span {\n",
       "  display: block;\n",
       "}\n",
       "\n",
       "/* \"?\"-specific style due to the `<a>` HTML tag */\n",
       "\n",
       "#sk-container-id-1 a.estimator_doc_link {\n",
       "  float: right;\n",
       "  font-size: 1rem;\n",
       "  line-height: 1em;\n",
       "  font-family: monospace;\n",
       "  background-color: var(--sklearn-color-background);\n",
       "  border-radius: 1rem;\n",
       "  height: 1rem;\n",
       "  width: 1rem;\n",
       "  text-decoration: none;\n",
       "  /* unfitted */\n",
       "  color: var(--sklearn-color-unfitted-level-1);\n",
       "  border: var(--sklearn-color-unfitted-level-1) 1pt solid;\n",
       "}\n",
       "\n",
       "#sk-container-id-1 a.estimator_doc_link.fitted {\n",
       "  /* fitted */\n",
       "  border: var(--sklearn-color-fitted-level-1) 1pt solid;\n",
       "  color: var(--sklearn-color-fitted-level-1);\n",
       "}\n",
       "\n",
       "/* On hover */\n",
       "#sk-container-id-1 a.estimator_doc_link:hover {\n",
       "  /* unfitted */\n",
       "  background-color: var(--sklearn-color-unfitted-level-3);\n",
       "  color: var(--sklearn-color-background);\n",
       "  text-decoration: none;\n",
       "}\n",
       "\n",
       "#sk-container-id-1 a.estimator_doc_link.fitted:hover {\n",
       "  /* fitted */\n",
       "  background-color: var(--sklearn-color-fitted-level-3);\n",
       "}\n",
       "</style><div id=\"sk-container-id-1\" class=\"sk-top-container\"><div class=\"sk-text-repr-fallback\"><pre>LogisticRegression()</pre><b>In a Jupyter environment, please rerun this cell to show the HTML representation or trust the notebook. <br />On GitHub, the HTML representation is unable to render, please try loading this page with nbviewer.org.</b></div><div class=\"sk-container\" hidden><div class=\"sk-item\"><div class=\"sk-estimator fitted sk-toggleable\"><input class=\"sk-toggleable__control sk-hidden--visually\" id=\"sk-estimator-id-1\" type=\"checkbox\" checked><label for=\"sk-estimator-id-1\" class=\"sk-toggleable__label fitted sk-toggleable__label-arrow fitted\">&nbsp;&nbsp;LogisticRegression<a class=\"sk-estimator-doc-link fitted\" rel=\"noreferrer\" target=\"_blank\" href=\"https://scikit-learn.org/1.4/modules/generated/sklearn.linear_model.LogisticRegression.html\">?<span>Documentation for LogisticRegression</span></a><span class=\"sk-estimator-doc-link fitted\">i<span>Fitted</span></span></label><div class=\"sk-toggleable__content fitted\"><pre>LogisticRegression()</pre></div> </div></div></div></div>"
      ],
      "text/plain": [
       "LogisticRegression()"
      ]
     },
     "execution_count": 17,
     "metadata": {},
     "output_type": "execute_result"
    }
   ],
   "source": [
    "lr = LogisticRegression()\n",
    "lr.fit(X_treino, y_treino)"
   ]
  },
  {
   "cell_type": "code",
   "execution_count": 18,
   "id": "b4d1cae2-e552-45ef-b134-ba3de59f117f",
   "metadata": {},
   "outputs": [],
   "source": [
    "# fazendo uma previsão\n",
    "y_prev = lr.predict(X_teste)"
   ]
  },
  {
   "cell_type": "markdown",
   "id": "490b01de-821b-40dd-9085-77bd509407f0",
   "metadata": {},
   "source": [
    "### Pontuando a regressão"
   ]
  },
  {
   "cell_type": "code",
   "execution_count": 19,
   "id": "5fc44f70-9643-4fe8-8772-7308ca127510",
   "metadata": {},
   "outputs": [],
   "source": [
    "from sklearn.metrics import accuracy_score"
   ]
  },
  {
   "cell_type": "code",
   "execution_count": 20,
   "id": "99fdf37b-faff-4adb-b25a-ab949a5bfb6c",
   "metadata": {},
   "outputs": [
    {
     "data": {
      "text/plain": [
       "0.7857142857142857"
      ]
     },
     "execution_count": 20,
     "metadata": {},
     "output_type": "execute_result"
    }
   ],
   "source": [
    "accuracy_score(y_teste, y_prev)"
   ]
  },
  {
   "cell_type": "markdown",
   "id": "54a4a86a-a42f-4a05-927a-3ce7ba9e701c",
   "metadata": {},
   "source": [
    "## Examinando erros da regressão logistica com uma matriz confusa"
   ]
  },
  {
   "cell_type": "code",
   "execution_count": 21,
   "id": "c31d96cb-ccba-46f1-8e6c-f8fcdd21b225",
   "metadata": {},
   "outputs": [],
   "source": [
    "from sklearn.metrics import confusion_matrix"
   ]
  },
  {
   "cell_type": "code",
   "execution_count": 22,
   "id": "b3543082-4e0a-4bc7-97d5-8d43fc3bf73a",
   "metadata": {},
   "outputs": [
    {
     "data": {
      "text/plain": [
       "array([[33, 21],\n",
       "       [12, 88]])"
      ]
     },
     "execution_count": 22,
     "metadata": {},
     "output_type": "execute_result"
    }
   ],
   "source": [
    "confusion_matrix(y_teste, y_prev, labels=[1,0])"
   ]
  },
  {
   "attachments": {
    "58fe05df-21a0-41e2-9c49-85b2488f11d6.png": {
     "image/png": "[encoded data removed]"
    }
   },
   "cell_type": "markdown",
   "id": "931ba94a-8c91-4131-a65e-5e7c0cb87aaa",
   "metadata": {},
   "source": [
    "![Screenshot from 2024-06-12 17-43-29.png](attachment:58fe05df-21a0-41e2-9c49-85b2488f11d6.png)"
   ]
  },
  {
   "attachments": {
    "6a9144ca-d39f-4580-a4b5-95c6399beef3.png": {
     "image/png": "[encoded data removed]"
    }
   },
   "cell_type": "markdown",
   "id": "2eda90b5-f094-47f6-963a-b5ba54ed6442",
   "metadata": {},
   "source": [
    "![Screenshot from 2024-06-12 17-46-55.png](attachment:6a9144ca-d39f-4580-a4b5-95c6399beef3.png)"
   ]
  },
  {
   "cell_type": "markdown",
   "id": "e19e9d56-c47c-4fcc-a061-dc3a8edb99db",
   "metadata": {},
   "source": [
    "## Variando a classificação do limite na regressão logistica\n",
    "\n",
    "Para minimizar o número de pessoas que foram mandadas para casa tendo diabetes."
   ]
  },
  {
   "cell_type": "code",
   "execution_count": 23,
   "id": "68a724ce-5a1e-45ac-906b-ce29c2ff60ab",
   "metadata": {},
   "outputs": [],
   "source": [
    "y_prev_proba = lr.predict_proba(X_teste)"
   ]
  },
  {
   "cell_type": "code",
   "execution_count": 24,
   "id": "9b5ae9ff-0ba8-454b-9d6b-b8d99ddeeb56",
   "metadata": {},
   "outputs": [
    {
     "data": {
      "text/plain": [
       "array([[0.90584173, 0.09415827],\n",
       "       [0.8944779 , 0.1055221 ],\n",
       "       [0.87787394, 0.12212606],\n",
       "       [0.82382687, 0.17617313],\n",
       "       [0.82168939, 0.17831061]])"
      ]
     },
     "execution_count": 24,
     "metadata": {},
     "output_type": "execute_result"
    }
   ],
   "source": [
    "y_prev_proba[:5]"
   ]
  },
  {
   "cell_type": "code",
   "execution_count": 25,
   "id": "2bcaf6c4-7213-42bc-a7a5-e3c14342dbe6",
   "metadata": {},
   "outputs": [
    {
     "data": {
      "image/png": "[encoded data removed]",
      "text/plain": [
       "<Figure size 640x480 with 1 Axes>"
      ]
     },
     "metadata": {},
     "output_type": "display_data"
    }
   ],
   "source": [
    "# visualizar um histograma do resultado positivo (1)\n",
    "pd.Series(y_prev_proba[:,1]).hist(bins=20)\n",
    "plt.show()"
   ]
  },
  {
   "cell_type": "code",
   "execution_count": 26,
   "id": "d48ef4d6-de2d-4de6-8665-351c8a04cf44",
   "metadata": {},
   "outputs": [
    {
     "data": {
      "image/png": "[encoded data removed]",
      "text/plain": [
       "<Figure size 640x480 with 1 Axes>"
      ]
     },
     "metadata": {},
     "output_type": "display_data"
    }
   ],
   "source": [
    "all_data['target'].hist()\n",
    "plt.show()"
   ]
  },
  {
   "cell_type": "markdown",
   "id": "ab730d36-c936-4c18-8719-592ec3a26fc6",
   "metadata": {},
   "source": [
    "A continuação será feito o seguinte: \n",
    "\n",
    "- Usar a função `y_pred_proba()`\n",
    "- usar a função `binarize` para especificar limites\n",
    "- Olhar a matriz que será gerada pelos limites"
   ]
  },
  {
   "cell_type": "code",
   "execution_count": 27,
   "id": "bc5a5a9f-0296-4770-a967-b9026bc64603",
   "metadata": {},
   "outputs": [],
   "source": [
    "from sklearn.preprocessing import binarize"
   ]
  },
  {
   "cell_type": "code",
   "execution_count": 28,
   "id": "0460626f-23c9-41e0-b7cc-458d55947fc5",
   "metadata": {},
   "outputs": [
    {
     "data": {
      "text/plain": [
       "array([[0.90584173, 0.09415827],\n",
       "       [0.8944779 , 0.1055221 ]])"
      ]
     },
     "execution_count": 28,
     "metadata": {},
     "output_type": "execute_result"
    }
   ],
   "source": [
    "y_prev_proba[:2]"
   ]
  },
  {
   "cell_type": "code",
   "execution_count": 29,
   "id": "a7fa232c-b490-4b6b-9380-4a1351762af8",
   "metadata": {},
   "outputs": [
    {
     "data": {
      "text/plain": [
       "array([0., 0., 0., 0., 0., 0., 0., 0., 0., 1., 0., 1., 0., 0., 1., 0., 1.,\n",
       "       0., 0., 0., 1., 1., 0., 0., 1., 0., 0., 0., 0., 1., 1., 1., 0., 0.,\n",
       "       1., 0., 0., 1., 0., 0., 0., 0., 0., 0., 0., 0., 0., 1., 0., 0., 0.,\n",
       "       1., 0., 0., 0., 0., 1., 0., 0., 0., 1., 0., 0., 0., 0., 0., 0., 1.,\n",
       "       0., 1., 1., 0., 0., 1., 0., 1., 1., 0., 0., 0., 1., 1., 0., 0., 0.,\n",
       "       0., 1., 0., 1., 0., 0., 0., 0., 0., 0., 1., 1., 1., 0., 1., 0., 0.,\n",
       "       0., 0., 0., 0., 0., 0., 0., 0., 0., 0., 0., 1., 1., 1., 0., 0., 0.,\n",
       "       0., 1., 0., 1., 1., 0., 0., 0., 1., 1., 0., 0., 0., 1., 0., 0., 1.,\n",
       "       0., 0., 1., 1., 0., 1., 0., 0., 0., 0., 0., 0., 0., 0., 0., 1., 0.,\n",
       "       1.])"
      ]
     },
     "execution_count": 29,
     "metadata": {},
     "output_type": "execute_result"
    }
   ],
   "source": [
    "y_prev_padrao = binarize(y_prev_proba, threshold=0.5)\n",
    "y_prev_padrao[:,1]"
   ]
  },
  {
   "cell_type": "markdown",
   "id": "7cfa8d12-a730-4528-9178-e7d27d5590ab",
   "metadata": {},
   "source": [
    "Binarize vai converter os valores para 1 ao todos aqueles dados que são acima de 0.5, e zero para aqueles menos de 0.5"
   ]
  },
  {
   "cell_type": "code",
   "execution_count": 30,
   "id": "c5c2ce32-d2f1-452b-a075-4be85b8eb43d",
   "metadata": {},
   "outputs": [
    {
     "data": {
      "text/plain": [
       "array([[33, 21],\n",
       "       [12, 88]])"
      ]
     },
     "execution_count": 30,
     "metadata": {},
     "output_type": "execute_result"
    }
   ],
   "source": [
    "confusion_matrix(y_teste, y_prev_padrao[:,1], labels=[1,0])"
   ]
  },
  {
   "cell_type": "code",
   "execution_count": 31,
   "id": "b2ee1115-9371-4d78-a70c-8dbf3942630f",
   "metadata": {},
   "outputs": [
    {
     "data": {
      "text/plain": [
       "array([[47,  7],\n",
       "       [42, 58]])"
      ]
     },
     "execution_count": 31,
     "metadata": {},
     "output_type": "execute_result"
    }
   ],
   "source": [
    "y_pred_low = binarize(y_prev_proba, threshold=0.2)\n",
    "confusion_matrix(y_teste, y_pred_low[:,1], labels=[1,0])"
   ]
  },
  {
   "cell_type": "markdown",
   "id": "3e9d00b3-15ad-4c36-805e-88b1c09f555d",
   "metadata": {},
   "source": [
    "Para medir a precisão do teste quando é zero. Olhe a segunda coluna da matriz confusa \\[7,58\n",
    "], para medir a precisão 58/(58+7), aprox. 0.89 de precisão, e isso é chamado do **valor previsto negativo**"
   ]
  },
  {
   "cell_type": "code",
   "execution_count": 32,
   "id": "369b46c8-8869-448a-9707-46b150629e0c",
   "metadata": {},
   "outputs": [],
   "source": [
    "from __future__ import division"
   ]
  },
  {
   "cell_type": "code",
   "execution_count": 33,
   "id": "2f70165a-efac-4365-be5c-a6d9e0377e7b",
   "metadata": {},
   "outputs": [],
   "source": [
    "def npv_func(th):\n",
    "    y_pred_low = binarize(y_prev_proba, threshold=th)\n",
    "    segunda_coluna = confusion_matrix(y_teste, y_pred_low[:,1], labels=[1,0])[:,1]\n",
    "    npv = segunda_coluna[1]/ segunda_coluna.sum()\n",
    "    return npv"
   ]
  },
  {
   "cell_type": "code",
   "execution_count": 34,
   "id": "2ccfea21-deaf-492b-8eef-67d6e57b5db2",
   "metadata": {},
   "outputs": [
    {
     "data": {
      "text/plain": [
       "0.8923076923076924"
      ]
     },
     "execution_count": 34,
     "metadata": {},
     "output_type": "execute_result"
    }
   ],
   "source": [
    "npv_func(0.2)"
   ]
  },
  {
   "cell_type": "code",
   "execution_count": 35,
   "id": "93027327-7f6a-441b-a832-53d909e00b5e",
   "metadata": {},
   "outputs": [
    {
     "name": "stderr",
     "output_type": "stream",
     "text": [
      "/tmp/ipykernel_21089/167935952.py:4: RuntimeWarning: invalid value encountered in scalar divide\n",
      "  npv = segunda_coluna[1]/ segunda_coluna.sum()\n"
     ]
    },
    {
     "data": {
      "image/png": "[encoded data removed]",
      "text/plain": [
       "<Figure size 640x480 with 1 Axes>"
      ]
     },
     "metadata": {},
     "output_type": "display_data"
    }
   ],
   "source": [
    "#visualizar\n",
    "ths = np.arange(0,1,0.05)\n",
    "npvs = []\n",
    "for th in np.arange(0,1.00,0.05):\n",
    "    npvs.append(npv_func(th))\n",
    "plt.plot(ths, npvs)\n",
    "plt.show()"
   ]
  },
  {
   "cell_type": "markdown",
   "id": "774d1350-e60e-45f5-a580-c73d510c43bc",
   "metadata": {
    "jp-MarkdownHeadingCollapsed": true
   },
   "source": [
    "## Receiver operating characteristics (ROC) analysis\n",
    "\n",
    "### Sensividade\n",
    "\n",
    "Valor previsto negativo é uma função matemática das céluas da matriz confusa.\n",
    "\n",
    "$$sensitivo = \\frac{\\text{positivo verdadeiro}}{\\text{positivo verdadeiro + falso negativo}}$$"
   ]
  },
  {
   "cell_type": "markdown",
   "id": "39817172-bc13-4d10-ac1b-3249321cd7e7",
   "metadata": {},
   "source": [
    "## Calcular o TPR ou sensibilidade\n",
    "\n",
    "Scikit-learn tem funções para calcular a sensibilidade ou TPR para a regressão logistica dando a probabilidade de um vetor da classe positiva"
   ]
  },
  {
   "cell_type": "code",
   "execution_count": 36,
   "id": "52e1d14a-11da-448b-9804-fa74605c02f1",
   "metadata": {},
   "outputs": [],
   "source": [
    "from sklearn.metrics import roc_curve\n",
    "fpr, tpr, ths = roc_curve(y_teste, y_prev_proba[:,1])"
   ]
  },
  {
   "cell_type": "markdown",
   "id": "165ed686-e358-4fba-abd5-579312de4930",
   "metadata": {},
   "source": [
    "A classe `roc_curve()` gerou 3 tuplas de matrizes\n",
    "\n",
    "- A matriz TPR (tpr)\n",
    "- A matriz FPR (fpr)\n",
    "- Um conjunto de limites para calcular o TPR e FPR (ths)\n",
    "\n",
    "Para isso trabalha-se no FPR (false positive rate - taxa de falsos positivos) que descreve a taxa de alarmes falsos.\n",
    "\n",
    "$$FPR= \\frac{\\text{falso positivo}}{\\text{falso positivo + negativo verdadeiro}}$$"
   ]
  },
  {
   "cell_type": "code",
   "execution_count": 37,
   "id": "fcc71d6d-1e92-4502-bf75-c7bf78bba032",
   "metadata": {},
   "outputs": [
    {
     "data": {
      "image/png": "[encoded data removed]",
      "text/plain": [
       "<Figure size 640x480 with 1 Axes>"
      ]
     },
     "metadata": {},
     "output_type": "display_data"
    }
   ],
   "source": [
    "# visualizar a sensibilidade\n",
    "plt.plot(ths,tpr)\n",
    "plt.show()"
   ]
  },
  {
   "cell_type": "markdown",
   "id": "89f6fa5a-8237-4db6-9317-8da313a4d012",
   "metadata": {},
   "source": [
    "Enquanto menor o limite (threshold) melhor a sensibilidade (senstitivity). Testar  a matriz confusa com um limite de 0.1"
   ]
  },
  {
   "cell_type": "code",
   "execution_count": 38,
   "id": "febf8abc-087a-43be-af2b-5714ad450393",
   "metadata": {},
   "outputs": [
    {
     "data": {
      "text/plain": [
       "array([[54,  0],\n",
       "       [56, 44]])"
      ]
     },
     "execution_count": 38,
     "metadata": {},
     "output_type": "execute_result"
    }
   ],
   "source": [
    "y_prev_th = binarize(y_prev_proba, threshold=0.121)\n",
    "confusion_matrix(y_teste, y_prev_th[:,1], labels=[1,0])"
   ]
  },
  {
   "cell_type": "code",
   "execution_count": 39,
   "id": "025bc1c3-d769-47ce-90ff-62819b0468bf",
   "metadata": {},
   "outputs": [
    {
     "data": {
      "text/plain": [
       "0.33"
      ]
     },
     "execution_count": 39,
     "metadata": {},
     "output_type": "execute_result"
    }
   ],
   "source": [
    "33/(67+33)"
   ]
  },
  {
   "cell_type": "code",
   "execution_count": 40,
   "id": "033c3099-069f-4cab-805f-c7c1a60070d2",
   "metadata": {},
   "outputs": [
    {
     "data": {
      "image/png": "[encoded data removed]",
      "text/plain": [
       "<Figure size 640x480 with 1 Axes>"
      ]
     },
     "metadata": {},
     "output_type": "display_data"
    }
   ],
   "source": [
    "# visualizar o ROC\n",
    "plt.plot(fpr, tpr)\n",
    "plt.show()"
   ]
  },
  {
   "cell_type": "markdown",
   "id": "71029de7-df75-4d1d-87f7-1fd4eb305157",
   "metadata": {},
   "source": [
    "O ROC é uma plotagem das falsas alarmes (FPR) no eixo x e o TPR(quem verdadeiramente tem a doença) no eixo y."
   ]
  },
  {
   "cell_type": "markdown",
   "id": "a7c766fe-2288-405c-bc14-b06d5faa6ffd",
   "metadata": {},
   "source": [
    "## AUC (area under the curve - área abaixo da curva)"
   ]
  },
  {
   "cell_type": "code",
   "execution_count": 41,
   "id": "10d9ff37-4dc1-4447-8a8a-5352f560c526",
   "metadata": {},
   "outputs": [],
   "source": [
    "from sklearn.metrics import auc"
   ]
  },
  {
   "cell_type": "code",
   "execution_count": 42,
   "id": "4029ee13-937d-466a-a502-c2835dd5ed7a",
   "metadata": {},
   "outputs": [
    {
     "data": {
      "text/plain": [
       "0.8464814814814814"
      ]
     },
     "execution_count": 42,
     "metadata": {},
     "output_type": "execute_result"
    }
   ],
   "source": [
    "auc(fpr, tpr)"
   ]
  },
  {
   "cell_type": "markdown",
   "id": "1be884bc-cd34-4af2-a551-4c587a32bbd5",
   "metadata": {},
   "source": [
    "## Conjunto de Dados De cáncer de mama\n",
    "\n",
    "Wolberg,William, Mangasarian,Olvi, Street,Nick, and Street,W.. (1995). Breast Cancer Wisconsin (Diagnostic). UCI Machine Learning Repository. https://doi.org/10.24432/C5DW2B."
   ]
  },
  {
   "cell_type": "code",
   "execution_count": 43,
   "id": "dc27c19e-69cf-4369-9d4c-4243dbf30b15",
   "metadata": {},
   "outputs": [],
   "source": [
    "df = pd.read_csv(\"breast_cancer.csv\")"
   ]
  },
  {
   "cell_type": "code",
   "execution_count": 44,
   "id": "1a4ea8bc-6db9-4588-88c6-be7253d72d83",
   "metadata": {},
   "outputs": [],
   "source": [
    "column_names = [\"id\",\n",
    "                \"diagnostico\",\n",
    "                \"radio\",\n",
    "                \"textura\",\n",
    "                \"perimetro\",\n",
    "                \"area\",\n",
    "                \"suavidade\",\n",
    "                \"compactacao\",\n",
    "                \"concavidade\",\n",
    "                \"pontos concavos\",\n",
    "                \"simetria\"\n",
    "               ]"
   ]
  },
  {
   "cell_type": "code",
   "execution_count": 45,
   "id": "189e4b0c-313f-4e37-925c-6084e998ca13",
   "metadata": {},
   "outputs": [
    {
     "data": {
      "text/html": [
       "<div>\n",
       "<style scoped>\n",
       "    .dataframe tbody tr th:only-of-type {\n",
       "        vertical-align: middle;\n",
       "    }\n",
       "\n",
       "    .dataframe tbody tr th {\n",
       "        vertical-align: top;\n",
       "    }\n",
       "\n",
       "    .dataframe thead th {\n",
       "        text-align: right;\n",
       "    }\n",
       "</style>\n",
       "<table border=\"1\" class=\"dataframe\">\n",
       "  <thead>\n",
       "    <tr style=\"text-align: right;\">\n",
       "      <th></th>\n",
       "      <th>id</th>\n",
       "      <th>diagnostico</th>\n",
       "      <th>radio</th>\n",
       "      <th>textura</th>\n",
       "      <th>perimetro</th>\n",
       "      <th>area</th>\n",
       "      <th>suavidade</th>\n",
       "      <th>compactacao</th>\n",
       "      <th>concavidade</th>\n",
       "      <th>pontos concavos</th>\n",
       "      <th>simetria</th>\n",
       "    </tr>\n",
       "  </thead>\n",
       "  <tbody>\n",
       "    <tr>\n",
       "      <th>0</th>\n",
       "      <td>842302</td>\n",
       "      <td>M</td>\n",
       "      <td>17.99</td>\n",
       "      <td>10.38</td>\n",
       "      <td>122.8</td>\n",
       "      <td>1001.0</td>\n",
       "      <td>0.11840</td>\n",
       "      <td>0.27760</td>\n",
       "      <td>0.3001</td>\n",
       "      <td>0.14710</td>\n",
       "      <td>0.2419</td>\n",
       "    </tr>\n",
       "    <tr>\n",
       "      <th>1</th>\n",
       "      <td>842517</td>\n",
       "      <td>M</td>\n",
       "      <td>20.57</td>\n",
       "      <td>17.77</td>\n",
       "      <td>132.9</td>\n",
       "      <td>1326.0</td>\n",
       "      <td>0.08474</td>\n",
       "      <td>0.07864</td>\n",
       "      <td>0.0869</td>\n",
       "      <td>0.07017</td>\n",
       "      <td>0.1812</td>\n",
       "    </tr>\n",
       "    <tr>\n",
       "      <th>2</th>\n",
       "      <td>84300903</td>\n",
       "      <td>M</td>\n",
       "      <td>19.69</td>\n",
       "      <td>21.25</td>\n",
       "      <td>130.0</td>\n",
       "      <td>1203.0</td>\n",
       "      <td>0.10960</td>\n",
       "      <td>0.15990</td>\n",
       "      <td>0.1974</td>\n",
       "      <td>0.12790</td>\n",
       "      <td>0.2069</td>\n",
       "    </tr>\n",
       "  </tbody>\n",
       "</table>\n",
       "</div>"
      ],
      "text/plain": [
       "         id diagnostico  radio  textura  perimetro    area  suavidade  \\\n",
       "0    842302           M  17.99    10.38      122.8  1001.0    0.11840   \n",
       "1    842517           M  20.57    17.77      132.9  1326.0    0.08474   \n",
       "2  84300903           M  19.69    21.25      130.0  1203.0    0.10960   \n",
       "\n",
       "   compactacao  concavidade  pontos concavos  simetria  \n",
       "0      0.27760       0.3001          0.14710    0.2419  \n",
       "1      0.07864       0.0869          0.07017    0.1812  \n",
       "2      0.15990       0.1974          0.12790    0.2069  "
      ]
     },
     "execution_count": 45,
     "metadata": {},
     "output_type": "execute_result"
    }
   ],
   "source": [
    "cancer_data = df.iloc[:,0:11].copy()\n",
    "cancer_data.columns = column_names\n",
    "cancer_data.head(3)"
   ]
  },
  {
   "cell_type": "code",
   "execution_count": 46,
   "id": "ef88651e-7972-48af-90c6-b151aed6be0d",
   "metadata": {},
   "outputs": [
    {
     "data": {
      "text/plain": [
       "id                   int64\n",
       "diagnostico         object\n",
       "radio              float64\n",
       "textura            float64\n",
       "perimetro          float64\n",
       "area               float64\n",
       "suavidade          float64\n",
       "compactacao        float64\n",
       "concavidade        float64\n",
       "pontos concavos    float64\n",
       "simetria           float64\n",
       "dtype: object"
      ]
     },
     "execution_count": 46,
     "metadata": {},
     "output_type": "execute_result"
    }
   ],
   "source": [
    "cancer_data.dtypes"
   ]
  },
  {
   "cell_type": "code",
   "execution_count": 47,
   "id": "59247d56-b34c-4e48-b39e-9111f7ebe72b",
   "metadata": {},
   "outputs": [],
   "source": [
    "# convertendo o diagnostico em número 1 e 0 (1=benigno ; 0=maligno)\n",
    "cancer_data[\"diagnostico\"] = np.where(cancer_data[\"diagnostico\"] == \"B\", \"1\",\"0\")\n",
    "cancer_data[\"diagnostico\"] = cancer_data[\"diagnostico\"].astype(np.int64)"
   ]
  },
  {
   "cell_type": "code",
   "execution_count": 48,
   "id": "4f68a1e2-7925-49ee-96a9-d7b16b015c7b",
   "metadata": {},
   "outputs": [
    {
     "data": {
      "text/html": [
       "<div>\n",
       "<style scoped>\n",
       "    .dataframe tbody tr th:only-of-type {\n",
       "        vertical-align: middle;\n",
       "    }\n",
       "\n",
       "    .dataframe tbody tr th {\n",
       "        vertical-align: top;\n",
       "    }\n",
       "\n",
       "    .dataframe thead th {\n",
       "        text-align: right;\n",
       "    }\n",
       "</style>\n",
       "<table border=\"1\" class=\"dataframe\">\n",
       "  <thead>\n",
       "    <tr style=\"text-align: right;\">\n",
       "      <th></th>\n",
       "      <th>id</th>\n",
       "      <th>diagnostico</th>\n",
       "      <th>radio</th>\n",
       "      <th>textura</th>\n",
       "      <th>perimetro</th>\n",
       "      <th>area</th>\n",
       "      <th>suavidade</th>\n",
       "      <th>compactacao</th>\n",
       "      <th>concavidade</th>\n",
       "      <th>pontos concavos</th>\n",
       "      <th>simetria</th>\n",
       "    </tr>\n",
       "  </thead>\n",
       "  <tbody>\n",
       "    <tr>\n",
       "      <th>0</th>\n",
       "      <td>842302</td>\n",
       "      <td>0</td>\n",
       "      <td>17.99</td>\n",
       "      <td>10.38</td>\n",
       "      <td>122.8</td>\n",
       "      <td>1001.0</td>\n",
       "      <td>0.11840</td>\n",
       "      <td>0.27760</td>\n",
       "      <td>0.3001</td>\n",
       "      <td>0.14710</td>\n",
       "      <td>0.2419</td>\n",
       "    </tr>\n",
       "    <tr>\n",
       "      <th>1</th>\n",
       "      <td>842517</td>\n",
       "      <td>0</td>\n",
       "      <td>20.57</td>\n",
       "      <td>17.77</td>\n",
       "      <td>132.9</td>\n",
       "      <td>1326.0</td>\n",
       "      <td>0.08474</td>\n",
       "      <td>0.07864</td>\n",
       "      <td>0.0869</td>\n",
       "      <td>0.07017</td>\n",
       "      <td>0.1812</td>\n",
       "    </tr>\n",
       "    <tr>\n",
       "      <th>2</th>\n",
       "      <td>84300903</td>\n",
       "      <td>0</td>\n",
       "      <td>19.69</td>\n",
       "      <td>21.25</td>\n",
       "      <td>130.0</td>\n",
       "      <td>1203.0</td>\n",
       "      <td>0.10960</td>\n",
       "      <td>0.15990</td>\n",
       "      <td>0.1974</td>\n",
       "      <td>0.12790</td>\n",
       "      <td>0.2069</td>\n",
       "    </tr>\n",
       "  </tbody>\n",
       "</table>\n",
       "</div>"
      ],
      "text/plain": [
       "         id  diagnostico  radio  textura  perimetro    area  suavidade  \\\n",
       "0    842302            0  17.99    10.38      122.8  1001.0    0.11840   \n",
       "1    842517            0  20.57    17.77      132.9  1326.0    0.08474   \n",
       "2  84300903            0  19.69    21.25      130.0  1203.0    0.10960   \n",
       "\n",
       "   compactacao  concavidade  pontos concavos  simetria  \n",
       "0      0.27760       0.3001          0.14710    0.2419  \n",
       "1      0.07864       0.0869          0.07017    0.1812  \n",
       "2      0.15990       0.1974          0.12790    0.2069  "
      ]
     },
     "execution_count": 48,
     "metadata": {},
     "output_type": "execute_result"
    }
   ],
   "source": [
    "cancer_data.head(3)"
   ]
  },
  {
   "cell_type": "code",
   "execution_count": 49,
   "id": "ecdf6cc9-434e-460a-914b-f0056a3c2372",
   "metadata": {},
   "outputs": [
    {
     "data": {
      "text/plain": [
       "diagnostico\n",
       "1    357\n",
       "0    212\n",
       "Name: count, dtype: int64"
      ]
     },
     "execution_count": 49,
     "metadata": {},
     "output_type": "execute_result"
    }
   ],
   "source": [
    "cancer_data[\"diagnostico\"].value_counts()"
   ]
  },
  {
   "cell_type": "code",
   "execution_count": 50,
   "id": "0b50b634-d912-4b56-9237-749b793e6f4e",
   "metadata": {},
   "outputs": [
    {
     "data": {
      "text/plain": [
       "id                   int64\n",
       "diagnostico          int64\n",
       "radio              float64\n",
       "textura            float64\n",
       "perimetro          float64\n",
       "area               float64\n",
       "suavidade          float64\n",
       "compactacao        float64\n",
       "concavidade        float64\n",
       "pontos concavos    float64\n",
       "simetria           float64\n",
       "dtype: object"
      ]
     },
     "execution_count": 50,
     "metadata": {},
     "output_type": "execute_result"
    }
   ],
   "source": [
    "cancer_data.dtypes"
   ]
  },
  {
   "cell_type": "code",
   "execution_count": 51,
   "id": "83e941a3-6295-40f9-8245-a36c8dd0bf4b",
   "metadata": {},
   "outputs": [],
   "source": [
    "X = cancer_data\n",
    "y2 = cancer_data.diagnostico"
   ]
  },
  {
   "cell_type": "markdown",
   "id": "1b117606-b4b4-4b86-9995-904579f70e15",
   "metadata": {},
   "source": [
    "Separar os dados em conjunto de dados de treinamento e conjunto de dados para teste"
   ]
  },
  {
   "cell_type": "code",
   "execution_count": 52,
   "id": "7a28df8c-006a-490d-bcd7-79c4d39ff3bb",
   "metadata": {},
   "outputs": [],
   "source": [
    "from sklearn.model_selection import train_test_split"
   ]
  },
  {
   "cell_type": "code",
   "execution_count": 53,
   "id": "dcb2c43e-0136-43eb-80aa-3da43bbfa714",
   "metadata": {},
   "outputs": [],
   "source": [
    "X_trein, X_test, y_trein, y_test = train_test_split(X, y2, test_size=0.2, random_state=7, stratify=y2)"
   ]
  },
  {
   "cell_type": "markdown",
   "id": "6d93be59-ee65-44da-b79f-996a0ceb30df",
   "metadata": {},
   "source": [
    "Treinar e preveer a regressão logistica, e usar o método `predict_proba()`"
   ]
  },
  {
   "cell_type": "code",
   "execution_count": 54,
   "id": "338bc6d3-d87a-4b58-8767-81b2b199ed1c",
   "metadata": {},
   "outputs": [],
   "source": [
    "from sklearn.linear_model import LogisticRegression"
   ]
  },
  {
   "cell_type": "code",
   "execution_count": 55,
   "id": "761c8c4d-4a84-482b-85e1-83b0e070a462",
   "metadata": {},
   "outputs": [],
   "source": [
    "lr = LogisticRegression()\n",
    "lr.fit(X_trein, y_trein)\n",
    "y_pred_proba = lr.predict_proba(X_test)"
   ]
  },
  {
   "cell_type": "markdown",
   "id": "b70f941f-6eb0-4723-879f-6ade119b6a94",
   "metadata": {},
   "source": [
    "Desenhando a curva ROC e calcular o área em baixo deste"
   ]
  },
  {
   "cell_type": "code",
   "execution_count": 56,
   "id": "f14d1868-b043-46f5-9565-2f1fbe031287",
   "metadata": {},
   "outputs": [],
   "source": [
    "from sklearn.metrics import roc_auc_score, roc_curve, auc"
   ]
  },
  {
   "cell_type": "code",
   "execution_count": 57,
   "id": "b5b24bcb-e981-476d-bc0e-fc997cb5f6ba",
   "metadata": {},
   "outputs": [],
   "source": [
    "fpr ,tpr, ths = roc_curve(y_test, y_pred_proba[:,1])"
   ]
  },
  {
   "cell_type": "code",
   "execution_count": 58,
   "id": "57633b17-f683-4fe2-a50f-3aed4f1bffb5",
   "metadata": {},
   "outputs": [
    {
     "data": {
      "image/png": "[encoded data removed]",
      "text/plain": [
       "<Figure size 640x480 with 1 Axes>"
      ]
     },
     "metadata": {},
     "output_type": "display_data"
    }
   ],
   "source": [
    "auc_score = auc(fpr,tpr)\n",
    "plt.plot(fpr, tpr, label=f\"AUC score: {str(auc_score)}\")\n",
    "plt.xlabel(\"fpr\", fontsize='15')\n",
    "plt.ylabel(\"tpr\", fontsize='15')\n",
    "plt.legend(loc=\"best\")\n",
    "plt.show()"
   ]
  },
  {
   "cell_type": "markdown",
   "id": "255af52a-5187-466d-8eaf-44384fce8765",
   "metadata": {},
   "source": [
    "Dessa forma o classificador desempenha bem."
   ]
  }
 ],
 "metadata": {
  "kernelspec": {
   "display_name": "Python 3 (ipykernel)",
   "language": "python",
   "name": "python3"
  },
  "language_info": {
   "codemirror_mode": {
    "name": "ipython",
    "version": 3
   },
   "file_extension": ".py",
   "mimetype": "text/x-python",
   "name": "python",
   "nbconvert_exporter": "python",
   "pygments_lexer": "ipython3",
   "version": "3.12.2"
  }
 },
 "nbformat": 4,
 "nbformat_minor": 5
}
