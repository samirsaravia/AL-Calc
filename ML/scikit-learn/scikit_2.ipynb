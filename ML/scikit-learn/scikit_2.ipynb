{
 "cells": [
  {
   "cell_type": "markdown",
   "id": "e7840780-4c0d-47d8-9e0f-926b7e7e98ee",
   "metadata": {},
   "source": [
    "## K-Nearest Neighbors (KNN)\n",
    "\n",
    "\"K-vizinhos próximos\""
   ]
  },
  {
   "cell_type": "markdown",
   "id": "ff424d83-ca84-4184-993e-d6cec85b67cd",
   "metadata": {},
   "source": [
    "1. importar o modelo, e separar balanceadamente"
   ]
  },
  {
   "cell_type": "code",
   "execution_count": null,
   "id": "75327696-2031-4814-a816-057d2e7165a7",
   "metadata": {},
   "outputs": [],
   "source": [
    "from sklearn.neighbors import KNeighborsClassifier\n",
    "from sklearn.model_selection import train_test_split\n",
    "from sklearn.datasets import load_iris"
   ]
  },
  {
   "cell_type": "code",
   "execution_count": null,
   "id": "714898b3-f0ab-4363-9df2-4edfc7b1985c",
   "metadata": {},
   "outputs": [],
   "source": [
    "iris = load_iris()\n",
    "iris.keys()"
   ]
  },
  {
   "cell_type": "code",
   "execution_count": null,
   "id": "fd32aee3-6750-417f-8bce-0db65d077245",
   "metadata": {},
   "outputs": [],
   "source": [
    "X = iris.data[:,:2]\n",
    "y = iris.target"
   ]
  },
  {
   "cell_type": "code",
   "execution_count": null,
   "id": "71448abc-8c16-4b0f-99e7-1bcabdfb2580",
   "metadata": {},
   "outputs": [],
   "source": [
    "X_train, X_test, y_train, y_test = train_test_split(X, y ,stratify=y, random_state=0)"
   ]
  },
  {
   "cell_type": "markdown",
   "id": "0c446fe6-2fc9-4448-af90-858b6c0dfe60",
   "metadata": {},
   "source": [
    "2. Construir dois diferentes modelos KNN, variando o parâmetro `n_neighbors`\n",
    "\n",
    "> Usar '10' no cross_validation é comúm na comunidade de machine learning, especialmente em competições"
   ]
  },
  {
   "cell_type": "code",
   "execution_count": null,
   "id": "30b82fdf-9d07-4be0-868e-60c60def69f8",
   "metadata": {},
   "outputs": [],
   "source": [
    "from sklearn.model_selection import cross_val_score\n",
    "knn_3_clf = KNeighborsClassifier(n_neighbors=3)\n",
    "knn_5_clf = KNeighborsClassifier(n_neighbors=5)\n",
    "\n",
    "knn_3_scores = cross_val_score(knn_3_clf, X_train, y_train, cv=10)\n",
    "knn_5_scores = cross_val_score(knn_5_clf, X_train, y_train, cv=10)"
   ]
  },
  {
   "cell_type": "markdown",
   "id": "5e2e1fe5-5c52-4e80-904f-bea86410de0c",
   "metadata": {},
   "source": [
    "3. Pontuar e mostrar as pontuações"
   ]
  },
  {
   "cell_type": "code",
   "execution_count": null,
   "id": "c82bd513-e4e7-4ba6-8e05-f919d7c1722a",
   "metadata": {},
   "outputs": [],
   "source": [
    "print(f\"KNN 3 média: {knn_3_scores.mean()}\")\n",
    "print(f\"KNN 3 desvio padrão: {knn_3_scores.std()}\")\n",
    "print()\n",
    "print(f\"KNN 5 média: {knn_5_scores.mean()}\")\n",
    "print(f\"KNN 5 desvio padrão: {knn_5_scores.std()}\")"
   ]
  },
  {
   "cell_type": "markdown",
   "id": "f7e423cd-5d1c-4a21-b029-02a39b794bc0",
   "metadata": {},
   "source": [
    "## MAIS\n",
    "\n",
    "Usar loop para ver o desempenho das funções"
   ]
  },
  {
   "cell_type": "code",
   "execution_count": null,
   "id": "779af3e6-b0f6-453d-860e-845e6e108bcd",
   "metadata": {},
   "outputs": [],
   "source": [
    "all_scores = []\n",
    "for c_vizinho in range(3,9,1):\n",
    "    knn_clf = KNeighborsClassifier(n_neighbors=c_vizinho)\n",
    "    all_scores.append((c_vizinho, cross_val_score(knn_clf, X_train, y_train, cv=10).mean()))\n",
    "sorted(all_scores, key=lambda x:x[1], reverse=True)"
   ]
  },
  {
   "cell_type": "markdown",
   "id": "ef0b76ce-9488-41b8-9928-614136cbc1cd",
   "metadata": {},
   "source": [
    "## O propósito de Scikit-Learn\n",
    "\n",
    "O scikit-learn permitiu selecionar um modelo que funciona relativamente rápido. Testamos SVC, regressão logistica, e KNN. Através de cross-validation, pode-se selecionar o modelo com maior desempenho. Depois de selecionar o melhor modelo, será otimizado. Isto poupa tempo, recursos, incluindo energia mental."
   ]
  },
  {
   "cell_type": "markdown",
   "id": "da47ad83-6c73-425d-868c-feb6f9bd8bd5",
   "metadata": {},
   "source": [
    "## Adicional\n",
    "\n",
    "Na classificação, a variável-alvo é uma de várias categorias, e deve haver mais de uma instância de cada categoria. Na regressão, só pode haver uma instância de cada variável-alvo, uma vez que o único requisito é que o alvo seja um número real."
   ]
  },
  {
   "cell_type": "markdown",
   "id": "7846a182-bfa9-441d-a44e-ab992b14a10a",
   "metadata": {},
   "source": [
    "1. Carregar iris o modulo datasets"
   ]
  },
  {
   "cell_type": "code",
   "execution_count": null,
   "id": "a7a8af4d-1165-4abd-a4b0-e262c98493c0",
   "metadata": {},
   "outputs": [],
   "source": [
    "import numpy as np\n",
    "import pandas as pd\n",
    "from sklearn import datasets"
   ]
  },
  {
   "cell_type": "markdown",
   "id": "ff4488dc-2250-4e1d-ba68-120eb0fbcf7f",
   "metadata": {},
   "source": [
    "2. Será considerado somente o target 0 e 1, correspondendo a 'Setosa' e 'Versicolor'. Usar `iris.target < 2` para filtrar este"
   ]
  },
  {
   "cell_type": "code",
   "execution_count": null,
   "id": "8fa58db0-4dc9-44cd-821a-f831ff4b1dc4",
   "metadata": {},
   "outputs": [],
   "source": [
    "X = iris.data[iris.target < 2]\n",
    "y = iris.target[iris.target < 2]"
   ]
  },
  {
   "cell_type": "code",
   "execution_count": null,
   "id": "39b85aaa-31a2-4586-aac7-a5aa84f7e8ca",
   "metadata": {},
   "outputs": [],
   "source": [
    "from sklearn.model_selection import train_test_split\n",
    "from sklearn.metrics import accuracy_score"
   ]
  },
  {
   "cell_type": "markdown",
   "id": "92f32d0f-643d-4098-8740-7ee36884038e",
   "metadata": {},
   "source": [
    "3. Importar `train_test_split` e aplicar"
   ]
  },
  {
   "cell_type": "code",
   "execution_count": null,
   "id": "ec349ce3-4207-427d-82d2-2ae61384e714",
   "metadata": {},
   "outputs": [],
   "source": [
    "X_train, X_test, y_train, y_test = train_test_split(X, y, stratify=y, random_state=7)"
   ]
  },
  {
   "cell_type": "markdown",
   "id": "54933730-44d0-4e04-bd10-2f22b129814a",
   "metadata": {},
   "source": [
    "4. Preparar e rodar SVC e utilizar cross-validation"
   ]
  },
  {
   "cell_type": "code",
   "execution_count": null,
   "id": "d1a8a891-30ae-46db-8384-b5e42aa5e4ab",
   "metadata": {},
   "outputs": [],
   "source": [
    "from sklearn.svm import SVC\n",
    "from sklearn.metrics import accuracy_score"
   ]
  },
  {
   "cell_type": "code",
   "execution_count": null,
   "id": "8efb30c5-7112-4c08-9477-090a318428be",
   "metadata": {},
   "outputs": [],
   "source": [
    "svc_clf = SVC(kernel='linear').fit(X_train, y_train)\n",
    "svc_scores = cross_val_score(svc_clf, X_train, y_train, cv=4)"
   ]
  },
  {
   "cell_type": "markdown",
   "id": "ae757e49-f1ee-49a4-83e6-d7dcea9055cb",
   "metadata": {},
   "source": [
    "5. Média"
   ]
  },
  {
   "cell_type": "code",
   "execution_count": null,
   "id": "f9d1f1ee-3dfa-474f-8496-7f291012dee5",
   "metadata": {},
   "outputs": [],
   "source": [
    "svc_scores.mean()"
   ]
  },
  {
   "cell_type": "markdown",
   "id": "f4ffe949-1e1e-44d2-bfcd-2a43172304c3",
   "metadata": {},
   "source": [
    "6. Fazer o mesmo com o SVR (support vector regression), encontra-se em `sklearn.svm`"
   ]
  },
  {
   "cell_type": "code",
   "execution_count": null,
   "id": "4290462d-ee19-42e2-98cc-0de6c142d642",
   "metadata": {},
   "outputs": [],
   "source": [
    "from sklearn.svm import SVR"
   ]
  },
  {
   "cell_type": "code",
   "execution_count": null,
   "id": "2f9630e8-47b0-42cd-9690-ce6f2ec9db5e",
   "metadata": {},
   "outputs": [],
   "source": [
    "svr_clf = SVR(kernel= 'linear').fit(X_train, y_train)\n",
    "svr_scores = cross_val_score(svr_clf, X_train, y_train, cv=4)"
   ]
  },
  {
   "cell_type": "code",
   "execution_count": null,
   "id": "e3e875ce-8b45-4f28-bb90-b34a086103ce",
   "metadata": {},
   "outputs": [],
   "source": [
    "svr_scores.mean()"
   ]
  },
  {
   "cell_type": "markdown",
   "id": "a7d48906-2bff-4243-944d-c6f21afea44f",
   "metadata": {},
   "source": [
    "## Fazer um marcador\n",
    "\n",
    "Para isso precisa:\n",
    "\n",
    "- uma função que compare `y_test` com `y_pred` as previsões.\n",
    "- para determinar se uma pontuação é boa ou ruim"
   ]
  },
  {
   "cell_type": "code",
   "execution_count": null,
   "id": "e2c94a18-614c-4e0c-9a20-770019d90354",
   "metadata": {},
   "outputs": [],
   "source": [
    "from sklearn.metrics import make_scorer"
   ]
  },
  {
   "cell_type": "code",
   "execution_count": null,
   "id": "92e1ccd0-fdc1-4fd2-af95-d66a8cde344f",
   "metadata": {},
   "outputs": [],
   "source": [
    "# so funciona para este exemplo com o target 0 e 1\n",
    "def for_scorer(y_test, orig_y_pred):\n",
    "    y_pred = np.rint(orig_y_pred).astype(np.int64) # arredonda a previsao \n",
    "    return accuracy_score(y_test, y_pred)"
   ]
  },
  {
   "cell_type": "markdown",
   "id": "ee0f6a0a-9838-4393-b250-1fd264920151",
   "metadata": {},
   "source": [
    "o `np.rint` arredonda a previsão to o inteiro mais próximo. O método `astype` muda o tipo de previsão para um tipo inteiro\n",
    "\n",
    "7. Detemrinar se uma pontuação alta é bom ou não."
   ]
  },
  {
   "cell_type": "code",
   "execution_count": null,
   "id": "b557f8f9-0a6a-49b6-81dc-dc824d35a239",
   "metadata": {},
   "outputs": [],
   "source": [
    "svr_to_class_scorer = make_scorer(for_scorer, greater_is_better=True)"
   ]
  },
  {
   "cell_type": "markdown",
   "id": "3b2b03f8-5aac-45a6-bc5a-63430969a4a0",
   "metadata": {},
   "source": [
    "8. cross-validation"
   ]
  },
  {
   "cell_type": "code",
   "execution_count": null,
   "id": "8543ab1a-c42a-4a51-ac2d-5480fcc28908",
   "metadata": {},
   "outputs": [],
   "source": [
    "svr_scores = cross_val_score(svr_clf, X_train, y_train, cv=4, scoring=svr_to_class_scorer)"
   ]
  },
  {
   "cell_type": "code",
   "execution_count": null,
   "id": "b88ff2b5-f696-4517-bf61-015bfb9b4e84",
   "metadata": {},
   "outputs": [],
   "source": [
    "svr_scores.mean()"
   ]
  },
  {
   "cell_type": "markdown",
   "id": "80d30a8a-d8b3-47bf-a320-80ad5a035be7",
   "metadata": {},
   "source": [
    "## Linear e Não Linear"
   ]
  },
  {
   "cell_type": "code",
   "execution_count": null,
   "id": "349dc00b-dfbc-4e0b-8e41-f4e9d9a88306",
   "metadata": {},
   "outputs": [],
   "source": [
    "from sklearn.svm import SVC\n",
    "svc_poly_clf = SVC(kernel='poly', degree=3).fit(X_train, y_train)"
   ]
  },
  {
   "cell_type": "code",
   "execution_count": null,
   "id": "d0097b11-3673-4b48-8e79-0d912a6eb519",
   "metadata": {},
   "outputs": [],
   "source": [
    "svc_poly_scores = cross_val_score(svc_clf, X_train, y_train, cv=4)\n",
    "svc_poly_scores.mean()"
   ]
  }
 ],
 "metadata": {
  "kernelspec": {
   "display_name": "Python 3 (ipykernel)",
   "language": "python",
   "name": "python3"
  },
  "language_info": {
   "codemirror_mode": {
    "name": "ipython",
    "version": 3
   },
   "file_extension": ".py",
   "mimetype": "text/x-python",
   "name": "python",
   "nbconvert_exporter": "python",
   "pygments_lexer": "ipython3",
   "version": "3.12.2"
  }
 },
 "nbformat": 4,
 "nbformat_minor": 5
}
