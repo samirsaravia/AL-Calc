{
 "cells": [
  {
   "cell_type": "code",
   "execution_count": 1,
   "id": "3ae69e99",
   "metadata": {},
   "outputs": [],
   "source": [
    "import sympy as smp\n",
    "from sympy import *"
   ]
  },
  {
   "cell_type": "code",
   "execution_count": 5,
   "id": "c17d7cd7",
   "metadata": {},
   "outputs": [],
   "source": [
    "smp.init_printing(\"mathjax\")"
   ]
  },
  {
   "cell_type": "code",
   "execution_count": 6,
   "id": "9b46ce86",
   "metadata": {},
   "outputs": [],
   "source": [
    "x, y = smp.symbols(\"x y\")"
   ]
  },
  {
   "cell_type": "code",
   "execution_count": 7,
   "id": "fd3ca288",
   "metadata": {},
   "outputs": [],
   "source": [
    "f = x**2 + y"
   ]
  },
  {
   "cell_type": "code",
   "execution_count": 8,
   "id": "6a1d458e",
   "metadata": {},
   "outputs": [
    {
     "data": {
      "image/png": "[encoded data removed]",
      "text/latex": [
       "$\\displaystyle x^{2} + y$"
      ],
      "text/plain": [
       " 2    \n",
       "x  + y"
      ]
     },
     "execution_count": 8,
     "metadata": {},
     "output_type": "execute_result"
    }
   ],
   "source": [
    "f"
   ]
  },
  {
   "cell_type": "code",
   "execution_count": 9,
   "id": "094f7b22",
   "metadata": {},
   "outputs": [
    {
     "data": {
      "image/png": "[encoded data removed]",
      "text/latex": [
       "$\\displaystyle y + 25$"
      ],
      "text/plain": [
       "y + 25"
      ]
     },
     "execution_count": 9,
     "metadata": {},
     "output_type": "execute_result"
    }
   ],
   "source": [
    "f.subs(x, 5)  # substitui x"
   ]
  },
  {
   "cell_type": "code",
   "execution_count": 10,
   "id": "bd28fab9",
   "metadata": {},
   "outputs": [
    {
     "data": {
      "image/png": "[encoded data removed]",
      "text/latex": [
       "$\\displaystyle e^{x}$"
      ],
      "text/plain": [
       " x\n",
       "ℯ "
      ]
     },
     "execution_count": 10,
     "metadata": {},
     "output_type": "execute_result"
    }
   ],
   "source": [
    "smp.exp(x)"
   ]
  },
  {
   "cell_type": "code",
   "execution_count": 13,
   "id": "fe96648a",
   "metadata": {},
   "outputs": [
    {
     "data": {
      "image/png": "[encoded data removed]",
      "text/latex": [
       "$\\displaystyle \\frac{\\log{\\left(x \\right)}}{\\log{\\left(10 \\right)}}$"
      ],
      "text/plain": [
       " log(x)\n",
       "───────\n",
       "log(10)"
      ]
     },
     "execution_count": 13,
     "metadata": {},
     "output_type": "execute_result"
    }
   ],
   "source": [
    "smp.log(x,10)"
   ]
  },
  {
   "cell_type": "code",
   "execution_count": 14,
   "id": "3f4d2e68",
   "metadata": {},
   "outputs": [
    {
     "data": {
      "image/png": "[encoded data removed]",
      "text/latex": [
       "$\\displaystyle x^{1.5}$"
      ],
      "text/plain": [
       " 1.5\n",
       "x   "
      ]
     },
     "execution_count": 14,
     "metadata": {},
     "output_type": "execute_result"
    }
   ],
   "source": [
    "x**(3/2)"
   ]
  },
  {
   "cell_type": "code",
   "execution_count": 15,
   "id": "4f4f0385",
   "metadata": {},
   "outputs": [
    {
     "data": {
      "image/png": "[encoded data removed]",
      "text/latex": [
       "$\\displaystyle x^{\\frac{3}{2}}$"
      ],
      "text/plain": [
       " 3/2\n",
       "x   "
      ]
     },
     "execution_count": 15,
     "metadata": {},
     "output_type": "execute_result"
    }
   ],
   "source": [
    "x**(smp.Rational(3,2))  # this keeps as a fraction"
   ]
  },
  {
   "cell_type": "markdown",
   "id": "332e607d",
   "metadata": {},
   "source": [
    "## Limits"
   ]
  },
  {
   "cell_type": "markdown",
   "id": "c4e3fc8a",
   "metadata": {},
   "source": [
    "$\\lim_{x\\to \\pi} \\sin(x/2 + \\sin(x))$"
   ]
  },
  {
   "cell_type": "code",
   "execution_count": null,
   "id": "c66ec23e",
   "metadata": {},
   "outputs": [],
   "source": []
  }
 ],
 "metadata": {
  "kernelspec": {
   "display_name": "Python 3 (ipykernel)",
   "language": "python",
   "name": "python3"
  },
  "language_info": {
   "codemirror_mode": {
    "name": "ipython",
    "version": 3
   },
   "file_extension": ".py",
   "mimetype": "text/x-python",
   "name": "python",
   "nbconvert_exporter": "python",
   "pygments_lexer": "ipython3",
   "version": "3.11.7"
  }
 },
 "nbformat": 4,
 "nbformat_minor": 5
}
