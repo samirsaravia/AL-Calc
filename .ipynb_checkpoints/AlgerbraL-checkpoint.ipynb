{
 "cells": [
  {
   "cell_type": "code",
   "execution_count": 1,
   "id": "e935f599-79c9-474e-b940-29e1ee1ea5e1",
   "metadata": {},
   "outputs": [],
   "source": [
    "import numpy as np"
   ]
  },
  {
   "cell_type": "code",
   "execution_count": 4,
   "id": "929f73cd-040c-4cfe-bc02-5b5dd48daab8",
   "metadata": {},
   "outputs": [
    {
     "name": "stdout",
     "output_type": "stream",
     "text": [
      "[27 37]\n"
     ]
    }
   ],
   "source": [
    "vt = np.array([27, 37])  # vetor com duas dimensões\n",
    "print(vt)"
   ]
  },
  {
   "cell_type": "code",
   "execution_count": 5,
   "id": "77cbacd4-30f1-467d-9765-5953017636c5",
   "metadata": {},
   "outputs": [
    {
     "data": {
      "text/plain": [
       "numpy.ndarray"
      ]
     },
     "execution_count": 5,
     "metadata": {},
     "output_type": "execute_result"
    }
   ],
   "source": [
    "type(vt)"
   ]
  },
  {
   "cell_type": "code",
   "execution_count": 7,
   "id": "7e6688da-247b-4e92-896b-3700e6e8e413",
   "metadata": {},
   "outputs": [
    {
     "data": {
      "text/plain": [
       "array([[1, 2, 3],\n",
       "       [4, 5, 6],\n",
       "       [7, 8, 9]])"
      ]
     },
     "execution_count": 7,
     "metadata": {},
     "output_type": "execute_result"
    }
   ],
   "source": [
    "A = np.array([[1,2,3],[4,5,6],[7,8,9]])\n",
    "A"
   ]
  },
  {
   "cell_type": "code",
   "execution_count": 10,
   "id": "5c4fc67a-e9d1-4f6e-9135-1b5828b05789",
   "metadata": {},
   "outputs": [
    {
     "data": {
      "text/plain": [
       "matrix([[1, 2, 3],\n",
       "        [4, 5, 6],\n",
       "        [7, 8, 9]])"
      ]
     },
     "execution_count": 10,
     "metadata": {},
     "output_type": "execute_result"
    }
   ],
   "source": [
    "B = np.matrix(([1,2,3],[4,5,6],[7,8,9]))\n",
    "B"
   ]
  },
  {
   "cell_type": "markdown",
   "id": "c347a6db-69e6-4af3-bb6f-df74d68e7c5e",
   "metadata": {},
   "source": [
    "A variável da matriz pode possuir o tipo array ou matrix. Com ambos os tipos podemos fazer as operações."
   ]
  },
  {
   "cell_type": "code",
   "execution_count": 11,
   "id": "b8ee3d28-14c2-47cd-b4fd-d6bd471c2c18",
   "metadata": {},
   "outputs": [
    {
     "data": {
      "text/plain": [
       "array([[1, 2, 4],\n",
       "       [4, 5, 6],\n",
       "       [6, 7, 8]])"
      ]
     },
     "execution_count": 11,
     "metadata": {},
     "output_type": "execute_result"
    }
   ],
   "source": [
    "A1 = np.array([[1,2,4],[4,5,6],[6,7,8]])\n",
    "A1"
   ]
  },
  {
   "cell_type": "code",
   "execution_count": 14,
   "id": "5df91f01-5410-4491-87be-4e96a072610b",
   "metadata": {},
   "outputs": [
    {
     "data": {
      "text/plain": [
       "matrix([[1, 2, 4],\n",
       "        [4, 5, 6],\n",
       "        [6, 7, 8]])"
      ]
     },
     "execution_count": 14,
     "metadata": {},
     "output_type": "execute_result"
    }
   ],
   "source": [
    "A1 = np.matrix(A1)   # transformando o vetor multidimensional em matrix\n",
    "A1"
   ]
  },
  {
   "cell_type": "code",
   "execution_count": 15,
   "id": "fe6749b1-a141-4a1f-95d6-dc31d78a225e",
   "metadata": {},
   "outputs": [
    {
     "data": {
      "text/plain": [
       "numpy.matrix"
      ]
     },
     "execution_count": 15,
     "metadata": {},
     "output_type": "execute_result"
    }
   ],
   "source": [
    "type(A1)"
   ]
  },
  {
   "cell_type": "markdown",
   "id": "76916a33-4a03-45c7-8b31-c207dfeea947",
   "metadata": {},
   "source": [
    "## Matriz Diagonal"
   ]
  },
  {
   "cell_type": "markdown",
   "id": "8fffa9c0-e48a-4d11-84cf-2f6571df5ca4",
   "metadata": {},
   "source": [
    "Uma matriz quadrada é dita diagonal quando todos os elementos fora da diagonal principal forem nulos."
   ]
  },
  {
   "cell_type": "code",
   "execution_count": 17,
   "id": "7e46d187-3158-44e0-8c23-e1e5198ef1ba",
   "metadata": {},
   "outputs": [],
   "source": [
    "C = np.diag([1,2,3,4,5,6])"
   ]
  },
  {
   "cell_type": "code",
   "execution_count": 19,
   "id": "dfebc7ed-4b86-48ae-b171-e46cc5b400b0",
   "metadata": {},
   "outputs": [
    {
     "data": {
      "text/plain": [
       "matrix([[1, 0, 0, 0, 0, 0],\n",
       "        [0, 2, 0, 0, 0, 0],\n",
       "        [0, 0, 3, 0, 0, 0],\n",
       "        [0, 0, 0, 4, 0, 0],\n",
       "        [0, 0, 0, 0, 5, 0],\n",
       "        [0, 0, 0, 0, 0, 6]])"
      ]
     },
     "execution_count": 19,
     "metadata": {},
     "output_type": "execute_result"
    }
   ],
   "source": [
    "C = np.matrix(C)\n",
    "C"
   ]
  },
  {
   "cell_type": "markdown",
   "id": "3b856a81-f2f9-4a17-9a9a-5763a7e1cedf",
   "metadata": {},
   "source": [
    "Matrix linha"
   ]
  },
  {
   "cell_type": "code",
   "execution_count": 21,
   "id": "f282c497-a25f-4258-a87f-0acae078ef13",
   "metadata": {},
   "outputs": [
    {
     "data": {
      "text/plain": [
       "array([[2, 3, 4]])"
      ]
     },
     "execution_count": 21,
     "metadata": {},
     "output_type": "execute_result"
    }
   ],
   "source": [
    "B = np.array([[2,3,4]])    #deve-se colocar um conjunto a mais de colchetes ou parênteses\n",
    "B"
   ]
  },
  {
   "cell_type": "markdown",
   "id": "bac41d65-82c7-445d-a716-1e127a0eb383",
   "metadata": {},
   "source": [
    "Matriz coluna"
   ]
  },
  {
   "cell_type": "code",
   "execution_count": 23,
   "id": "e368ab9e-8277-4c6f-8dae-76a2ee1fafb1",
   "metadata": {},
   "outputs": [
    {
     "data": {
      "text/plain": [
       "array([[2],\n",
       "       [3],\n",
       "       [4]])"
      ]
     },
     "execution_count": 23,
     "metadata": {},
     "output_type": "execute_result"
    }
   ],
   "source": [
    "C = np.array([[2],[3],[4]])\n",
    "C"
   ]
  },
  {
   "cell_type": "code",
   "execution_count": 25,
   "id": "3e0bc275-1553-4736-a36b-69a870f8be83",
   "metadata": {},
   "outputs": [
    {
     "data": {
      "text/plain": [
       "array([[1],\n",
       "       [2],\n",
       "       [3],\n",
       "       [4]])"
      ]
     },
     "execution_count": 25,
     "metadata": {},
     "output_type": "execute_result"
    }
   ],
   "source": [
    "D = np.transpose([[1,2,3,4]])\n",
    "D"
   ]
  },
  {
   "cell_type": "markdown",
   "id": "1e5405a2-c573-4ec8-8c43-e1e730956a3e",
   "metadata": {},
   "source": [
    "## Matriz nula"
   ]
  },
  {
   "cell_type": "code",
   "execution_count": 27,
   "id": "78f81dd0-fa7d-4726-89ba-4d15764602f0",
   "metadata": {},
   "outputs": [
    {
     "data": {
      "text/plain": [
       "array([[0., 0., 0., 0., 0.],\n",
       "       [0., 0., 0., 0., 0.],\n",
       "       [0., 0., 0., 0., 0.],\n",
       "       [0., 0., 0., 0., 0.],\n",
       "       [0., 0., 0., 0., 0.]])"
      ]
     },
     "execution_count": 27,
     "metadata": {},
     "output_type": "execute_result"
    }
   ],
   "source": [
    "np.zeros([5,5])"
   ]
  },
  {
   "cell_type": "code",
   "execution_count": 28,
   "id": "352a1b95-edca-45e8-9367-541221c174c4",
   "metadata": {},
   "outputs": [
    {
     "data": {
      "text/plain": [
       "array([[0., 0., 0., 0.],\n",
       "       [0., 0., 0., 0.],\n",
       "       [0., 0., 0., 0.],\n",
       "       [0., 0., 0., 0.]])"
      ]
     },
     "execution_count": 28,
     "metadata": {},
     "output_type": "execute_result"
    }
   ],
   "source": [
    "np.zeros((4,4))"
   ]
  },
  {
   "cell_type": "markdown",
   "id": "4ade655c-ec84-4cf6-9bd4-58d38187af7e",
   "metadata": {},
   "source": [
    "## Matriz identidade"
   ]
  },
  {
   "cell_type": "markdown",
   "id": "6dd6dc3b-fc50-4187-8f38-497498c270c9",
   "metadata": {},
   "source": [
    "Matriz identidade ajuda  a solucionar problemas de sistemas de equações lineares. Matriz linear é aquele em que a diagonal principal possui todos os valores iguais a 1 e os demais iguais a zero."
   ]
  },
  {
   "cell_type": "code",
   "execution_count": 30,
   "id": "9ecff0d1-6ef2-42bd-8270-c26d1c574a36",
   "metadata": {},
   "outputs": [
    {
     "data": {
      "text/plain": [
       "array([[1., 0., 0., 0.],\n",
       "       [0., 1., 0., 0.],\n",
       "       [0., 0., 1., 0.],\n",
       "       [0., 0., 0., 1.]])"
      ]
     },
     "execution_count": 30,
     "metadata": {},
     "output_type": "execute_result"
    }
   ],
   "source": [
    "MI = np.identity(4)\n",
    "MI"
   ]
  },
  {
   "cell_type": "markdown",
   "id": "88037350-c29b-49fa-891b-4bc2cbc5f1b2",
   "metadata": {},
   "source": [
    "## Matriz Transposta"
   ]
  },
  {
   "cell_type": "markdown",
   "id": "3c189962-ff01-41cc-9ed0-bbaff61b4555",
   "metadata": {},
   "source": [
    "A transposta de uma matriz A, troca-see ordenadamente as linhas por colunas ou vice-versa.\n",
    "A **transposição não altera a diagonal principal da matriz**"
   ]
  },
  {
   "cell_type": "code",
   "execution_count": 34,
   "id": "dfa09e25-565d-4008-9351-c58b0db92abc",
   "metadata": {},
   "outputs": [
    {
     "data": {
      "text/plain": [
       "array([[1, 2, 3],\n",
       "       [3, 4, 9],\n",
       "       [5, 6, 7]])"
      ]
     },
     "execution_count": 34,
     "metadata": {},
     "output_type": "execute_result"
    }
   ],
   "source": [
    "S = np.array([[1,2,3],[3,4,9],[5,6,7]])\n",
    "S"
   ]
  },
  {
   "cell_type": "code",
   "execution_count": 38,
   "id": "bc38314b-b9c9-4ad9-82d3-605ae28b4b70",
   "metadata": {},
   "outputs": [
    {
     "data": {
      "text/plain": [
       "array([[1, 3, 5],\n",
       "       [2, 4, 6],\n",
       "       [3, 9, 7]])"
      ]
     },
     "execution_count": 38,
     "metadata": {},
     "output_type": "execute_result"
    }
   ],
   "source": [
    "S1 = np.transpose(S)\n",
    "S1"
   ]
  },
  {
   "cell_type": "markdown",
   "id": "908b3b2f-4283-4cf6-96ec-39db89c9eec7",
   "metadata": {},
   "source": [
    "É possível utilizar o método `.T` para criar a transposta"
   ]
  },
  {
   "cell_type": "code",
   "execution_count": 36,
   "id": "88f8588a-421c-42f0-9ad4-8dd412043088",
   "metadata": {},
   "outputs": [
    {
     "data": {
      "text/plain": [
       "array([[1, 3, 5],\n",
       "       [2, 4, 6],\n",
       "       [3, 9, 7]])"
      ]
     },
     "execution_count": 36,
     "metadata": {},
     "output_type": "execute_result"
    }
   ],
   "source": [
    "S.T"
   ]
  },
  {
   "cell_type": "code",
   "execution_count": 39,
   "id": "9bc50601-5bd1-4f5b-bca5-53b18c83b476",
   "metadata": {},
   "outputs": [
    {
     "data": {
      "text/plain": [
       "array([[ True, False, False],\n",
       "       [False,  True, False],\n",
       "       [False, False,  True]])"
      ]
     },
     "execution_count": 39,
     "metadata": {},
     "output_type": "execute_result"
    }
   ],
   "source": [
    "S == S1"
   ]
  },
  {
   "cell_type": "code",
   "execution_count": 40,
   "id": "25b1746b-5584-410c-a7bd-6bce1527f69f",
   "metadata": {},
   "outputs": [
    {
     "data": {
      "text/plain": [
       "array([[ True,  True,  True],\n",
       "       [ True,  True,  True],\n",
       "       [ True,  True,  True]])"
      ]
     },
     "execution_count": 40,
     "metadata": {},
     "output_type": "execute_result"
    }
   ],
   "source": [
    "(S+S1).T == S.T + S1.T"
   ]
  },
  {
   "cell_type": "code",
   "execution_count": 41,
   "id": "207173df-3391-4e2f-abc5-21d6aff2258a",
   "metadata": {},
   "outputs": [
    {
     "data": {
      "text/plain": [
       "array([[ True,  True,  True],\n",
       "       [ True,  True,  True],\n",
       "       [ True,  True,  True]])"
      ]
     },
     "execution_count": 41,
     "metadata": {},
     "output_type": "execute_result"
    }
   ],
   "source": [
    "(S.T).T == S"
   ]
  },
  {
   "cell_type": "code",
   "execution_count": 42,
   "id": "6d4b9798-d1da-42f2-9ac4-1019dcea3887",
   "metadata": {},
   "outputs": [
    {
     "data": {
      "text/plain": [
       "array([[ True,  True,  True],\n",
       "       [ True,  True,  True],\n",
       "       [ True,  True,  True]])"
      ]
     },
     "execution_count": 42,
     "metadata": {},
     "output_type": "execute_result"
    }
   ],
   "source": [
    "(10*S).T == 10*S.T"
   ]
  },
  {
   "cell_type": "code",
   "execution_count": 44,
   "id": "615e71cb-880c-4487-9960-ce517b2d99fa",
   "metadata": {},
   "outputs": [
    {
     "data": {
      "text/plain": [
       "array([[ True,  True,  True],\n",
       "       [ True,  True,  True],\n",
       "       [ True,  True,  True]])"
      ]
     },
     "execution_count": 44,
     "metadata": {},
     "output_type": "execute_result"
    }
   ],
   "source": [
    "(S*S1).T == S.T * S1.T"
   ]
  },
  {
   "cell_type": "code",
   "execution_count": null,
   "id": "00e9991b-c068-4003-a4fe-0b1dd2312aa2",
   "metadata": {},
   "outputs": [],
   "source": []
  }
 ],
 "metadata": {
  "kernelspec": {
   "display_name": "Python 3 (ipykernel)",
   "language": "python",
   "name": "python3"
  },
  "language_info": {
   "codemirror_mode": {
    "name": "ipython",
    "version": 3
   },
   "file_extension": ".py",
   "mimetype": "text/x-python",
   "name": "python",
   "nbconvert_exporter": "python",
   "pygments_lexer": "ipython3",
   "version": "3.11.7"
  }
 },
 "nbformat": 4,
 "nbformat_minor": 5
}
