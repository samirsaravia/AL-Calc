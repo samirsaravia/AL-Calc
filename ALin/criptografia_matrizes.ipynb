{
 "cells": [
  {
   "cell_type": "markdown",
   "id": "e47d7682-2555-44ab-897d-3aa269afee11",
   "metadata": {},
   "source": [
    "# Criptografia de Mensagens\n",
    "\n",
    "Codificar e decodificar mensagens usando matrizes, basicamente uma matriz quadrada A e de sua inversa para fazermos a criptografia."
   ]
  },
  {
   "cell_type": "code",
   "execution_count": 1,
   "id": "1d3a86c7-2fa3-429d-b20f-056343c7aa4b",
   "metadata": {},
   "outputs": [],
   "source": [
    "import numpy as np"
   ]
  },
  {
   "cell_type": "code",
   "execution_count": 2,
   "id": "cb8108e2-bb71-4753-ac27-101f47952287",
   "metadata": {},
   "outputs": [
    {
     "data": {
      "text/plain": [
       "array([[-2. ,  1. ],\n",
       "       [ 1.5, -0.5]])"
      ]
     },
     "execution_count": 2,
     "metadata": {},
     "output_type": "execute_result"
    }
   ],
   "source": [
    "C = np.array(([1,2],[3,4]))\n",
    "D = np.linalg.inv(C)\n",
    "D"
   ]
  },
  {
   "cell_type": "code",
   "execution_count": 11,
   "id": "d5269a48-2d8b-4591-b040-ace2f01afe04",
   "metadata": {},
   "outputs": [],
   "source": [
    "#dicionário para referencia dos números com as letras\n",
    "cod = {\n",
    "    1:'A',2:'B',3:'C',4:'D',5:'E',6:'F',7:'G',8:'H',9:'I',10:'J',11:'L',12:'K',13:'M',\n",
    "    14:'N',15:'O',16:'P',17:'Q',18:'R',19:'S',20:'T',21:'U',22:'V',23:'W',24:'X',25:'Y',26:'Z',27:'-',28:',',29:'_'\n",
    "}"
   ]
  },
  {
   "cell_type": "code",
   "execution_count": 12,
   "id": "a9778355-06f3-4d2b-8a1d-762cff6387d8",
   "metadata": {},
   "outputs": [],
   "source": [
    "def texto2numero(texto):\n",
    "    nu = []\n",
    "    if (len(texto)%2 != 0):\n",
    "        texto = texto+'_'\n",
    "        print('É preciso adicionar \"_\" pra completar a matriz')\n",
    "    for ii in texto:\n",
    "        for j in cod:\n",
    "            if (cod[j]==ii):\n",
    "                nu.append(j)\n",
    "    return nu"
   ]
  },
  {
   "cell_type": "code",
   "execution_count": 13,
   "id": "538c851e-d264-4b4c-8c5d-c6e41a0a9a22",
   "metadata": {},
   "outputs": [],
   "source": [
    "def numero2texto(num):\n",
    "    tex = ''\n",
    "    for i in num:\n",
    "        tex = tex + str(cod[round(i)])\n",
    "    return tex"
   ]
  },
  {
   "cell_type": "code",
   "execution_count": 42,
   "id": "97df4625-dc6e-4b86-8fb2-88f76bb77aa2",
   "metadata": {},
   "outputs": [
    {
     "name": "stdout",
     "output_type": "stream",
     "text": [
      "É preciso adicionar \"_\" pra completar a matriz\n"
     ]
    }
   ],
   "source": [
    "texto = \"SERA_QUE_FUNCIONA_MESMO\"\n",
    "VT = texto2numero(texto)\n",
    "MT =  np.array(VT)\n",
    "MSG = MT.reshape(2,int(MT.size/2))\n",
    "MC = C.dot(MSG)\n",
    "MD = D.dot(MC)\n",
    "msg_d = MD.reshape(1,MD.size)"
   ]
  },
  {
   "cell_type": "code",
   "execution_count": 44,
   "id": "fb1d3981-72dc-4d8e-96ef-565379466686",
   "metadata": {},
   "outputs": [
    {
     "name": "stdout",
     "output_type": "stream",
     "text": [
      "[19, 5, 18, 1, 29, 17, 21, 5, 29, 6, 21, 14, 3, 9, 15, 14, 1, 29, 13, 5, 19, 13, 15, 29]\n"
     ]
    }
   ],
   "source": [
    "# vetor\n",
    "print(VT)"
   ]
  },
  {
   "cell_type": "code",
   "execution_count": 46,
   "id": "448aaf94-780b-4510-bc09-909bbd4399d1",
   "metadata": {},
   "outputs": [
    {
     "data": {
      "text/plain": [
       "array([19,  5, 18,  1, 29, 17, 21,  5, 29,  6, 21, 14,  3,  9, 15, 14,  1,\n",
       "       29, 13,  5, 19, 13, 15, 29])"
      ]
     },
     "execution_count": 46,
     "metadata": {},
     "output_type": "execute_result"
    }
   ],
   "source": [
    "# convertido à matriz\n",
    "MT"
   ]
  },
  {
   "cell_type": "code",
   "execution_count": 49,
   "id": "2e26ec70-83bd-4a45-b433-007606439ff6",
   "metadata": {},
   "outputs": [
    {
     "data": {
      "text/plain": [
       "(2, 12)"
      ]
     },
     "execution_count": 49,
     "metadata": {},
     "output_type": "execute_result"
    }
   ],
   "source": [
    "# matriz de 2x12\n",
    "MSG.shape"
   ]
  },
  {
   "cell_type": "code",
   "execution_count": 52,
   "id": "01bf6b9f-8acd-4c8a-93c4-139cca14df3d",
   "metadata": {},
   "outputs": [
    {
     "data": {
      "text/plain": [
       "array([[ 25,  23,  48,  29,  31,  75,  47,  15,  67,  32,  51,  72],\n",
       "       [ 69,  51, 114,  59,  91, 167, 115,  35, 163,  70, 123, 158]])"
      ]
     },
     "execution_count": 52,
     "metadata": {},
     "output_type": "execute_result"
    }
   ],
   "source": [
    "# mesnagem criptografada\n",
    "MC"
   ]
  },
  {
   "cell_type": "code",
   "execution_count": 53,
   "id": "1ca9d13a-4e2c-4d76-b537-0cfd76d2842a",
   "metadata": {},
   "outputs": [
    {
     "data": {
      "text/plain": [
       "array([[19.,  5., 18.,  1., 29., 17., 21.,  5., 29.,  6., 21., 14.],\n",
       "       [ 3.,  9., 15., 14.,  1., 29., 13.,  5., 19., 13., 15., 29.]])"
      ]
     },
     "execution_count": 53,
     "metadata": {},
     "output_type": "execute_result"
    }
   ],
   "source": [
    "# mensagem decriptografada\n",
    "MD "
   ]
  },
  {
   "cell_type": "code",
   "execution_count": 58,
   "id": "1a6322cc-5253-4c45-9bd1-3a07567eb9bd",
   "metadata": {},
   "outputs": [
    {
     "data": {
      "text/plain": [
       "array([[19.,  5., 18.,  1., 29., 17., 21.,  5., 29.,  6., 21., 14.,  3.,\n",
       "         9., 15., 14.,  1., 29., 13.,  5., 19., 13., 15., 29.]])"
      ]
     },
     "execution_count": 58,
     "metadata": {},
     "output_type": "execute_result"
    }
   ],
   "source": [
    "# mensagem decriptografada remodelada à matriz de 1x\n",
    "msg_d"
   ]
  },
  {
   "cell_type": "code",
   "execution_count": 80,
   "id": "42e3b625-b207-462b-ac9f-180c2e44c888",
   "metadata": {},
   "outputs": [
    {
     "data": {
      "text/plain": [
       "True"
      ]
     },
     "execution_count": 80,
     "metadata": {},
     "output_type": "execute_result"
    }
   ],
   "source": [
    "msg_d[0,0] == MT[0]"
   ]
  },
  {
   "cell_type": "code",
   "execution_count": 73,
   "id": "581fbaf1-031e-40bc-9589-9708a372e8ce",
   "metadata": {},
   "outputs": [
    {
     "name": "stdout",
     "output_type": "stream",
     "text": [
      "[19.  5. 18.  1. 29. 17. 21.  5. 29.  6. 21. 14.  3.  9. 15. 14.  1. 29.\n",
      " 13.  5. 19. 13. 15. 29.]\n"
     ]
    }
   ],
   "source": [
    "print(msg_d[0])"
   ]
  }
 ],
 "metadata": {
  "kernelspec": {
   "display_name": "Python 3 (ipykernel)",
   "language": "python",
   "name": "python3"
  },
  "language_info": {
   "codemirror_mode": {
    "name": "ipython",
    "version": 3
   },
   "file_extension": ".py",
   "mimetype": "text/x-python",
   "name": "python",
   "nbconvert_exporter": "python",
   "pygments_lexer": "ipython3",
   "version": "3.11.7"
  }
 },
 "nbformat": 4,
 "nbformat_minor": 5
}
