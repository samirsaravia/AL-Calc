{
 "cells": [
  {
   "cell_type": "markdown",
   "id": "cae9514a",
   "metadata": {},
   "source": [
    "## Matriz Cofatores de A\n",
    "\n",
    "Dada uma matriz $A$ lembrando que  o cofator $\\Delta_{ij}$ do elemento $a_{ij}$ da matriz A é $$\\Delta_{ij}= (-1)^{i+j}\\det A_{ij}$$\n",
    "\n",
    "Onde $A_{ij}$ é a submatriz de $A$ obtid extraindo a i-ésima linha e a j-ésima coluna de $A$, com estes cofactores podemos formar uma nova matriz denominada de **matriz dos cofatores de A**\n",
    "\n",
    "Notação: $$\\overline{A}$$\n"
   ]
  },
  {
   "cell_type": "markdown",
   "id": "5d0b9d52",
   "metadata": {},
   "source": [
    "## Matriz Adjunta\n",
    "\n",
    "Definição: Dada uma matriz quadrada de A, chamaremos de **matriz adjunta de A** a transposta da matriz dos cofatores de A. $$\\text{Adj }A= (\\overline{A})^T$$"
   ]
  },
  {
   "cell_type": "code",
   "execution_count": 1,
   "id": "444949d6",
   "metadata": {},
   "outputs": [],
   "source": [
    "import sympy as sym"
   ]
  },
  {
   "cell_type": "code",
   "execution_count": 2,
   "id": "74914ab5",
   "metadata": {},
   "outputs": [
    {
     "data": {
      "text/latex": [
       "$\\displaystyle \\left[\\begin{matrix}2 & 1 & 0\\\\-3 & 1 & 4\\\\1 & 6 & 5\\end{matrix}\\right]$"
      ],
      "text/plain": [
       "Matrix([\n",
       "[ 2, 1, 0],\n",
       "[-3, 1, 4],\n",
       "[ 1, 6, 5]])"
      ]
     },
     "execution_count": 2,
     "metadata": {},
     "output_type": "execute_result"
    }
   ],
   "source": [
    "A =  sym.Matrix([[2,1,0],[-3,1,4],[1,6,5]])\n",
    "A"
   ]
  },
  {
   "cell_type": "code",
   "execution_count": 3,
   "id": "e0c72a46",
   "metadata": {},
   "outputs": [
    {
     "data": {
      "text/latex": [
       "$\\displaystyle -19$"
      ],
      "text/plain": [
       "-19"
      ]
     },
     "execution_count": 3,
     "metadata": {},
     "output_type": "execute_result"
    }
   ],
   "source": [
    "A.det()"
   ]
  },
  {
   "cell_type": "code",
   "execution_count": 4,
   "id": "7a226198",
   "metadata": {},
   "outputs": [
    {
     "data": {
      "text/latex": [
       "$\\displaystyle \\left[\\begin{matrix}-19 & -5 & 4\\\\19 & 10 & -8\\\\-19 & -11 & 5\\end{matrix}\\right]$"
      ],
      "text/plain": [
       "Matrix([\n",
       "[-19,  -5,  4],\n",
       "[ 19,  10, -8],\n",
       "[-19, -11,  5]])"
      ]
     },
     "execution_count": 4,
     "metadata": {},
     "output_type": "execute_result"
    }
   ],
   "source": [
    "A.cofactorMatrix().T"
   ]
  },
  {
   "cell_type": "code",
   "execution_count": 5,
   "id": "474aafa5",
   "metadata": {},
   "outputs": [
    {
     "data": {
      "text/latex": [
       "$\\displaystyle 361$"
      ],
      "text/plain": [
       "361"
      ]
     },
     "execution_count": 5,
     "metadata": {},
     "output_type": "execute_result"
    }
   ],
   "source": [
    "(A.cofactorMatrix()).det()"
   ]
  },
  {
   "cell_type": "markdown",
   "id": "c65084b2",
   "metadata": {},
   "source": [
    "## Teorema\n",
    "\n",
    "Seja $A_n$ uma matriz quadrada, então $$A(\\overline{A})^=A(\\text{adj }A) = (\\det A)Im$$"
   ]
  },
  {
   "cell_type": "markdown",
   "id": "e7a13146",
   "metadata": {},
   "source": [
    "## Teorema\n",
    "\n",
    "Uma matriz quadrada $A$ admite uma inversa se e somente se $\\det A \\neq 0$. Neste caso \n",
    "$$A^{-1}= \\frac{1}{\\det A} (\\text{ adj })$$\n",
    "\n"
   ]
  },
  {
   "cell_type": "code",
   "execution_count": null,
   "id": "6e072a3f",
   "metadata": {},
   "outputs": [],
   "source": []
  },
  {
   "cell_type": "code",
   "execution_count": null,
   "id": "420dfa33",
   "metadata": {},
   "outputs": [],
   "source": []
  }
 ],
 "metadata": {
  "kernelspec": {
   "display_name": "Python 3 (ipykernel)",
   "language": "python",
   "name": "python3"
  },
  "language_info": {
   "codemirror_mode": {
    "name": "ipython",
    "version": 3
   },
   "file_extension": ".py",
   "mimetype": "text/x-python",
   "name": "python",
   "nbconvert_exporter": "python",
   "pygments_lexer": "ipython3",
   "version": "3.11.7"
  }
 },
 "nbformat": 4,
 "nbformat_minor": 5
}
