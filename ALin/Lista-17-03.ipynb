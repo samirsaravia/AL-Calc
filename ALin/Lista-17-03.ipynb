{
 "cells": [
  {
   "cell_type": "markdown",
   "id": "70e1ba53",
   "metadata": {},
   "source": [
    "# 1.4 Exercícios"
   ]
  },
  {
   "cell_type": "code",
   "execution_count": 1,
   "id": "f3505495",
   "metadata": {},
   "outputs": [],
   "source": [
    "import sympy as sym"
   ]
  },
  {
   "cell_type": "markdown",
   "id": "102040ca",
   "metadata": {},
   "source": [
    "# 1"
   ]
  },
  {
   "cell_type": "code",
   "execution_count": 2,
   "id": "97c157ad",
   "metadata": {},
   "outputs": [
    {
     "data": {
      "text/latex": [
       "$\\displaystyle \\left[\\begin{matrix}1 & 2 & 3\\\\2 & 1 & -1\\end{matrix}\\right]$"
      ],
      "text/plain": [
       "Matrix([\n",
       "[1, 2,  3],\n",
       "[2, 1, -1]])"
      ]
     },
     "execution_count": 2,
     "metadata": {},
     "output_type": "execute_result"
    }
   ],
   "source": [
    "A = sym.Matrix([[1,2,3],[2,1,-1]])\n",
    "A"
   ]
  },
  {
   "cell_type": "code",
   "execution_count": 3,
   "id": "3b1af435",
   "metadata": {},
   "outputs": [
    {
     "data": {
      "text/latex": [
       "$\\displaystyle \\left[\\begin{matrix}-2 & 0 & 1\\\\3 & 0 & 1\\end{matrix}\\right]$"
      ],
      "text/plain": [
       "Matrix([\n",
       "[-2, 0, 1],\n",
       "[ 3, 0, 1]])"
      ]
     },
     "execution_count": 3,
     "metadata": {},
     "output_type": "execute_result"
    }
   ],
   "source": [
    "B = sym.Matrix([[-2,0,1],[3,0,1]])\n",
    "B"
   ]
  },
  {
   "cell_type": "code",
   "execution_count": 4,
   "id": "43a4c23d",
   "metadata": {},
   "outputs": [
    {
     "data": {
      "text/latex": [
       "$\\displaystyle \\left[\\begin{matrix}-1\\\\2\\\\4\\end{matrix}\\right]$"
      ],
      "text/plain": [
       "Matrix([\n",
       "[-1],\n",
       "[ 2],\n",
       "[ 4]])"
      ]
     },
     "execution_count": 4,
     "metadata": {},
     "output_type": "execute_result"
    }
   ],
   "source": [
    "C = sym.Matrix([[-1],[2],[4]])\n",
    "C"
   ]
  },
  {
   "cell_type": "code",
   "execution_count": 5,
   "id": "e28bdda2",
   "metadata": {},
   "outputs": [
    {
     "data": {
      "text/latex": [
       "$\\displaystyle \\left[\\begin{matrix}2 & -1\\end{matrix}\\right]$"
      ],
      "text/plain": [
       "Matrix([[2, -1]])"
      ]
     },
     "execution_count": 5,
     "metadata": {},
     "output_type": "execute_result"
    }
   ],
   "source": [
    "D = sym.Matrix([[2,-1]])\n",
    "D"
   ]
  },
  {
   "cell_type": "markdown",
   "id": "93b13970",
   "metadata": {},
   "source": [
    "### A+B"
   ]
  },
  {
   "cell_type": "code",
   "execution_count": 6,
   "id": "170270be",
   "metadata": {},
   "outputs": [
    {
     "data": {
      "text/latex": [
       "$\\displaystyle \\left[\\begin{matrix}-1 & 2 & 4\\\\5 & 1 & 0\\end{matrix}\\right]$"
      ],
      "text/plain": [
       "Matrix([\n",
       "[-1, 2, 4],\n",
       "[ 5, 1, 0]])"
      ]
     },
     "execution_count": 6,
     "metadata": {},
     "output_type": "execute_result"
    }
   ],
   "source": [
    "A+B"
   ]
  },
  {
   "cell_type": "markdown",
   "id": "e0c809f6",
   "metadata": {},
   "source": [
    "A+B\n",
    "\n",
    "$$\\begin{bmatrix} 1-2&2+0&3+1 \\\\ 2+3&1+0&-1+1\\end{bmatrix}$$\n",
    "\n",
    "$$\\begin{bmatrix} -1&2&4 \\\\ 5&1&0\\end{bmatrix}$$\n"
   ]
  },
  {
   "cell_type": "markdown",
   "id": "edb871d0",
   "metadata": {},
   "source": [
    "### AxC"
   ]
  },
  {
   "cell_type": "code",
   "execution_count": 7,
   "id": "d8458f37",
   "metadata": {},
   "outputs": [
    {
     "data": {
      "text/latex": [
       "$\\displaystyle \\left[\\begin{matrix}15\\\\-4\\end{matrix}\\right]$"
      ],
      "text/plain": [
       "Matrix([\n",
       "[15],\n",
       "[-4]])"
      ]
     },
     "execution_count": 7,
     "metadata": {},
     "output_type": "execute_result"
    }
   ],
   "source": [
    "A*C"
   ]
  },
  {
   "cell_type": "markdown",
   "id": "489afd02",
   "metadata": {},
   "source": [
    "AxC = $\\begin{bmatrix} 1 & 2 & 3 \\\\ 2&1&-1\\end{bmatrix} x \n",
    "\\begin{bmatrix} -1\\\\2\\\\4 \\end{bmatrix}$\n",
    "\n",
    "$$\\begin{bmatrix} -1+4+12\\\\-2+2-4 \\end{bmatrix}$$\n",
    "\n",
    "$$\\begin{bmatrix} 15\\\\-4 \\end{bmatrix}$$"
   ]
  },
  {
   "cell_type": "markdown",
   "id": "1d91d220",
   "metadata": {},
   "source": [
    "### BxC"
   ]
  },
  {
   "cell_type": "code",
   "execution_count": 8,
   "id": "db5acbce",
   "metadata": {},
   "outputs": [
    {
     "data": {
      "text/latex": [
       "$\\displaystyle \\left[\\begin{matrix}6\\\\1\\end{matrix}\\right]$"
      ],
      "text/plain": [
       "Matrix([\n",
       "[6],\n",
       "[1]])"
      ]
     },
     "execution_count": 8,
     "metadata": {},
     "output_type": "execute_result"
    }
   ],
   "source": [
    "B*C"
   ]
  },
  {
   "cell_type": "markdown",
   "id": "fbd77e8b",
   "metadata": {},
   "source": [
    "$B\\times C$ = $\\begin{bmatrix} -2&0&1\\\\3&0&1 \\end{bmatrix} \\times  \\begin{bmatrix} -1\\\\2\\\\4 \\end{bmatrix}$\n",
    "\n",
    "$$\\begin{bmatrix} 2+0+4\\\\-3+0+4 \\end{bmatrix}$$\n",
    "\n",
    "$$\\begin{bmatrix} 6\\\\1 \\end{bmatrix}$$"
   ]
  },
  {
   "cell_type": "markdown",
   "id": "ec491ddc",
   "metadata": {},
   "source": [
    "### CxD"
   ]
  },
  {
   "cell_type": "code",
   "execution_count": 9,
   "id": "835dbaa0",
   "metadata": {},
   "outputs": [
    {
     "data": {
      "text/latex": [
       "$\\displaystyle \\left[\\begin{matrix}-2 & 1\\\\4 & -2\\\\8 & -4\\end{matrix}\\right]$"
      ],
      "text/plain": [
       "Matrix([\n",
       "[-2,  1],\n",
       "[ 4, -2],\n",
       "[ 8, -4]])"
      ]
     },
     "execution_count": 9,
     "metadata": {},
     "output_type": "execute_result"
    }
   ],
   "source": [
    "C*D"
   ]
  },
  {
   "cell_type": "markdown",
   "id": "b964ad65",
   "metadata": {},
   "source": [
    "$C\\times D  = \\begin{bmatrix} -1\\\\2\\\\4 \\end{bmatrix} \\times \\begin{bmatrix} 2&-1\\end{bmatrix}$\n",
    "\n",
    "$$\\begin{bmatrix} -2&1\\\\4&-2\\\\8&-4 \\end{bmatrix}$$"
   ]
  },
  {
   "cell_type": "markdown",
   "id": "ba9e2119",
   "metadata": {},
   "source": [
    "### DxA"
   ]
  },
  {
   "cell_type": "code",
   "execution_count": 10,
   "id": "0cf2265e",
   "metadata": {},
   "outputs": [
    {
     "data": {
      "text/latex": [
       "$\\displaystyle \\left[\\begin{matrix}0 & 3 & 7\\end{matrix}\\right]$"
      ],
      "text/plain": [
       "Matrix([[0, 3, 7]])"
      ]
     },
     "execution_count": 10,
     "metadata": {},
     "output_type": "execute_result"
    }
   ],
   "source": [
    "D*A"
   ]
  },
  {
   "cell_type": "markdown",
   "id": "5db1c061",
   "metadata": {},
   "source": [
    "$D\\times A$ = $\\begin{bmatrix} 2&-1 \\end{bmatrix} \\times  \\begin{bmatrix} 1&2&3\\\\2&1&-1 \\end{bmatrix}$\n",
    "\n",
    "$$\\begin{bmatrix} 2-2&4-1&6+1 \\end{bmatrix}$$\n",
    "\n",
    "\n",
    "$$\\begin{bmatrix} 0&3&7\\end{bmatrix}$$"
   ]
  },
  {
   "cell_type": "markdown",
   "id": "319bdcc4",
   "metadata": {},
   "source": [
    "### DxB"
   ]
  },
  {
   "cell_type": "code",
   "execution_count": 11,
   "id": "21d42859",
   "metadata": {},
   "outputs": [
    {
     "data": {
      "text/latex": [
       "$\\displaystyle \\left[\\begin{matrix}-7 & 0 & 1\\end{matrix}\\right]$"
      ],
      "text/plain": [
       "Matrix([[-7, 0, 1]])"
      ]
     },
     "execution_count": 11,
     "metadata": {},
     "output_type": "execute_result"
    }
   ],
   "source": [
    "D*B"
   ]
  },
  {
   "cell_type": "markdown",
   "id": "38b59805",
   "metadata": {},
   "source": [
    "$D\\times B$ = $\\begin{bmatrix} 2&-1 \\end{bmatrix} \\times  \\begin{bmatrix} -2&0&1\\\\3&0&1 \\end{bmatrix}$\n",
    "\n",
    "$$\\begin{bmatrix} -4-3&0&2-1 \\end{bmatrix}$$\n",
    "\n",
    "\n",
    "$$\\begin{bmatrix} -7&0&1\\end{bmatrix}$$"
   ]
  },
  {
   "cell_type": "markdown",
   "id": "3ee248b2",
   "metadata": {},
   "source": [
    "### -A"
   ]
  },
  {
   "cell_type": "code",
   "execution_count": 12,
   "id": "47d72a63",
   "metadata": {},
   "outputs": [
    {
     "data": {
      "text/latex": [
       "$\\displaystyle \\left[\\begin{matrix}-1 & -2 & -3\\\\-2 & -1 & 1\\end{matrix}\\right]$"
      ],
      "text/plain": [
       "Matrix([\n",
       "[-1, -2, -3],\n",
       "[-2, -1,  1]])"
      ]
     },
     "execution_count": 12,
     "metadata": {},
     "output_type": "execute_result"
    }
   ],
   "source": [
    "-A"
   ]
  },
  {
   "cell_type": "markdown",
   "id": "913dc4bd",
   "metadata": {},
   "source": [
    "$A= \\begin{bmatrix} 1&2&3\\\\2&1&-1 \\end{bmatrix}$\n",
    "\n",
    "$$-A = \\begin{bmatrix} -1&-2&-3\\\\-2&-1&1 \\end{bmatrix}$$"
   ]
  },
  {
   "cell_type": "markdown",
   "id": "c2782f62",
   "metadata": {},
   "source": [
    "### -D"
   ]
  },
  {
   "cell_type": "code",
   "execution_count": 13,
   "id": "d84bee8c",
   "metadata": {},
   "outputs": [
    {
     "data": {
      "text/latex": [
       "$\\displaystyle \\left[\\begin{matrix}-2 & 1\\end{matrix}\\right]$"
      ],
      "text/plain": [
       "Matrix([[-2, 1]])"
      ]
     },
     "execution_count": 13,
     "metadata": {},
     "output_type": "execute_result"
    }
   ],
   "source": [
    "-D"
   ]
  },
  {
   "cell_type": "markdown",
   "id": "e6c7a837",
   "metadata": {},
   "source": [
    "$D= \\begin{bmatrix} -2&1 \\end{bmatrix}$\n",
    "\n",
    "$$-D = \\begin{bmatrix} 2&-1 \\end{bmatrix}$$"
   ]
  },
  {
   "cell_type": "markdown",
   "id": "a606cb2a",
   "metadata": {},
   "source": [
    "## 2\n",
    "\n",
    "\n",
    "Seja $A1= \\begin{bmatrix}2&x^2\\\\2x-1&0 \\end{bmatrix}$.Se A1'=A1 então x="
   ]
  },
  {
   "cell_type": "code",
   "execution_count": 17,
   "id": "89ea0d90",
   "metadata": {},
   "outputs": [
    {
     "data": {
      "text/latex": [
       "$\\displaystyle \\left[\\begin{matrix}2 & x^{2}\\\\2 x - 1 & 0\\end{matrix}\\right]$"
      ],
      "text/plain": [
       "Matrix([\n",
       "[      2, x**2],\n",
       "[2*x - 1,    0]])"
      ]
     },
     "execution_count": 17,
     "metadata": {},
     "output_type": "execute_result"
    }
   ],
   "source": [
    "x =  sym.symbols(\"x\")\n",
    "A = sym.Matrix([[2,x**2],[2*x-1,0]])\n",
    "A"
   ]
  },
  {
   "cell_type": "code",
   "execution_count": 22,
   "id": "0e579cd9",
   "metadata": {},
   "outputs": [
    {
     "data": {
      "text/latex": [
       "$\\displaystyle \\left[\\begin{matrix}2 & 2 x - 1\\\\x^{2} & 0\\end{matrix}\\right]$"
      ],
      "text/plain": [
       "Matrix([\n",
       "[   2, 2*x - 1],\n",
       "[x**2,       0]])"
      ]
     },
     "execution_count": 22,
     "metadata": {},
     "output_type": "execute_result"
    }
   ],
   "source": [
    "A.T"
   ]
  },
  {
   "cell_type": "code",
   "execution_count": 25,
   "id": "6ce51636",
   "metadata": {},
   "outputs": [
    {
     "data": {
      "text/plain": [
       "[1]"
      ]
     },
     "execution_count": 25,
     "metadata": {},
     "output_type": "execute_result"
    }
   ],
   "source": [
    "sym.solve(-x**2+2*x-1,x)"
   ]
  },
  {
   "cell_type": "code",
   "execution_count": 26,
   "id": "b56f070d",
   "metadata": {},
   "outputs": [],
   "source": [
    "def bhaskara(a,b,c):\n",
    "    delta = (b*b) - (4*a*c)\n",
    "    if delta < 0 :\n",
    "        return \"Não tem raizes reais\"\n",
    "    elif delta == 0:\n",
    "        x = -b / (2*a)\n",
    "        return x\n",
    "    else:\n",
    "        raiz = sqrt(delta)\n",
    "        x1 = (-b + raiz)/(2*a)\n",
    "        x2 = (-b - raiz)/(2*a)\n",
    "        return [x1, x2]"
   ]
  },
  {
   "cell_type": "code",
   "execution_count": 27,
   "id": "c21b61d0",
   "metadata": {},
   "outputs": [
    {
     "data": {
      "text/plain": [
       "1.0"
      ]
     },
     "execution_count": 27,
     "metadata": {},
     "output_type": "execute_result"
    }
   ],
   "source": [
    "bhaskara(-1,2,-1)"
   ]
  },
  {
   "cell_type": "code",
   "execution_count": 29,
   "id": "4c6e8224",
   "metadata": {},
   "outputs": [],
   "source": [
    "A= A.subs(x,1)"
   ]
  },
  {
   "cell_type": "code",
   "execution_count": 30,
   "id": "c915e73c",
   "metadata": {},
   "outputs": [
    {
     "data": {
      "text/plain": [
       "True"
      ]
     },
     "execution_count": 30,
     "metadata": {},
     "output_type": "execute_result"
    }
   ],
   "source": [
    "A==A.T"
   ]
  },
  {
   "cell_type": "markdown",
   "id": "61d94b40",
   "metadata": {},
   "source": [
    "## 3\n",
    "\n",
    "Se A1 é uma matriz simétrica, então $A-A^T= $"
   ]
  },
  {
   "cell_type": "code",
   "execution_count": 31,
   "id": "f956ac0f",
   "metadata": {},
   "outputs": [
    {
     "data": {
      "text/latex": [
       "$\\displaystyle \\left[\\begin{matrix}2 & 1\\\\1 & 0\\end{matrix}\\right]$"
      ],
      "text/plain": [
       "Matrix([\n",
       "[2, 1],\n",
       "[1, 0]])"
      ]
     },
     "execution_count": 31,
     "metadata": {},
     "output_type": "execute_result"
    }
   ],
   "source": [
    "A"
   ]
  },
  {
   "cell_type": "code",
   "execution_count": 32,
   "id": "464469ce",
   "metadata": {},
   "outputs": [
    {
     "data": {
      "text/latex": [
       "$\\displaystyle \\left[\\begin{matrix}2 & 1\\\\1 & 0\\end{matrix}\\right]$"
      ],
      "text/plain": [
       "Matrix([\n",
       "[2, 1],\n",
       "[1, 0]])"
      ]
     },
     "execution_count": 32,
     "metadata": {},
     "output_type": "execute_result"
    }
   ],
   "source": [
    "A.T"
   ]
  },
  {
   "cell_type": "code",
   "execution_count": 33,
   "id": "f5eaef29",
   "metadata": {},
   "outputs": [
    {
     "data": {
      "text/latex": [
       "$\\displaystyle \\left[\\begin{matrix}0 & 0\\\\0 & 0\\end{matrix}\\right]$"
      ],
      "text/plain": [
       "Matrix([\n",
       "[0, 0],\n",
       "[0, 0]])"
      ]
     },
     "execution_count": 33,
     "metadata": {},
     "output_type": "execute_result"
    }
   ],
   "source": [
    "A-A.T"
   ]
  },
  {
   "cell_type": "code",
   "execution_count": 36,
   "id": "cf05b627",
   "metadata": {},
   "outputs": [
    {
     "data": {
      "text/plain": [
       "True"
      ]
     },
     "execution_count": 36,
     "metadata": {},
     "output_type": "execute_result"
    }
   ],
   "source": [
    "A-A.T == sym.zeros(2)"
   ]
  },
  {
   "cell_type": "markdown",
   "id": "af269d85",
   "metadata": {},
   "source": [
    "## 4\n",
    "\n",
    "Se A é uma matriz triangular superior, então $A^t$ é ...."
   ]
  },
  {
   "cell_type": "code",
   "execution_count": 49,
   "id": "6b2403b2",
   "metadata": {},
   "outputs": [
    {
     "data": {
      "text/latex": [
       "$\\displaystyle \\left[\\begin{matrix}2 & 1\\\\0 & 0\\end{matrix}\\right]$"
      ],
      "text/plain": [
       "Matrix([\n",
       "[2, 1],\n",
       "[0, 0]])"
      ]
     },
     "execution_count": 49,
     "metadata": {},
     "output_type": "execute_result"
    }
   ],
   "source": [
    "A[2-1,1-1]=0\n",
    "A  # triangular superior"
   ]
  },
  {
   "cell_type": "code",
   "execution_count": 50,
   "id": "4019b74a",
   "metadata": {},
   "outputs": [
    {
     "data": {
      "text/latex": [
       "$\\displaystyle \\left[\\begin{matrix}2 & 0\\\\1 & 0\\end{matrix}\\right]$"
      ],
      "text/plain": [
       "Matrix([\n",
       "[2, 0],\n",
       "[1, 0]])"
      ]
     },
     "execution_count": 50,
     "metadata": {},
     "output_type": "execute_result"
    }
   ],
   "source": [
    "A.T"
   ]
  },
  {
   "cell_type": "markdown",
   "id": "2d31f58e",
   "metadata": {},
   "source": [
    "Se A é uma matriz triangular superior, $A^T$ é uma matriz **triangular inferior**"
   ]
  },
  {
   "cell_type": "markdown",
   "id": "ed6f774e",
   "metadata": {},
   "source": [
    "## 5 \n",
    "\n",
    "Se A é uma matriz diagonal, então $A^T$"
   ]
  },
  {
   "cell_type": "code",
   "execution_count": 52,
   "id": "65bd676d",
   "metadata": {},
   "outputs": [
    {
     "data": {
      "text/latex": [
       "$\\displaystyle \\left[\\begin{matrix}1 & 0 & 0\\\\0 & 2 & 0\\\\0 & 0 & 3\\end{matrix}\\right]$"
      ],
      "text/plain": [
       "Matrix([\n",
       "[1, 0, 0],\n",
       "[0, 2, 0],\n",
       "[0, 0, 3]])"
      ]
     },
     "execution_count": 52,
     "metadata": {},
     "output_type": "execute_result"
    }
   ],
   "source": [
    "B = sym.diag(1,2,3)\n",
    "B"
   ]
  },
  {
   "cell_type": "code",
   "execution_count": 53,
   "id": "fc48c05a",
   "metadata": {},
   "outputs": [
    {
     "data": {
      "text/latex": [
       "$\\displaystyle \\left[\\begin{matrix}1 & 0 & 0\\\\0 & 2 & 0\\\\0 & 0 & 3\\end{matrix}\\right]$"
      ],
      "text/plain": [
       "Matrix([\n",
       "[1, 0, 0],\n",
       "[0, 2, 0],\n",
       "[0, 0, 3]])"
      ]
     },
     "execution_count": 53,
     "metadata": {},
     "output_type": "execute_result"
    }
   ],
   "source": [
    "B.T"
   ]
  },
  {
   "cell_type": "markdown",
   "id": "133bcf4e",
   "metadata": {},
   "source": [
    "$A^T$ também é uma matriz diagonal"
   ]
  },
  {
   "cell_type": "markdown",
   "id": "f9acd7b7",
   "metadata": {},
   "source": [
    "## 6\n",
    "\n",
    "Verdadeiro ou falso\n",
    "* $(-A)^T = -(A^T)$\n",
    "* $(A+B)^T=B^T+ A^T$\n",
    "* Se $AB=0$, então A = 0 ou B=0\n",
    "* $(K_1A)(K_2B) = (K_1K_2)AB$\n",
    "* $(-A)(-B)=-(AB)$\n",
    "* Se A e B são matrizes simétricas então AB=BA\n",
    "* Se $A \\times B=0$ então $B \\times A=0$\n",
    "\n",
    "* Se podemos efetuar o produto $A \\times A$, então A é uma matriz quadrada"
   ]
  },
  {
   "cell_type": "markdown",
   "id": "8b4e826f",
   "metadata": {},
   "source": [
    "$$(-A)^T=-(A^T)$$ (verdadeiro)"
   ]
  },
  {
   "cell_type": "code",
   "execution_count": 62,
   "id": "795709f1",
   "metadata": {},
   "outputs": [
    {
     "data": {
      "text/latex": [
       "$\\displaystyle \\left[\\begin{matrix}1 & 2 & 3\\\\4 & 5 & 6\\\\7 & 8 & 9\\end{matrix}\\right]$"
      ],
      "text/plain": [
       "Matrix([\n",
       "[1, 2, 3],\n",
       "[4, 5, 6],\n",
       "[7, 8, 9]])"
      ]
     },
     "execution_count": 62,
     "metadata": {},
     "output_type": "execute_result"
    }
   ],
   "source": [
    "E = sym.Matrix([[1,2,3],[4,5,6],[7,8,9]])\n",
    "E"
   ]
  },
  {
   "cell_type": "code",
   "execution_count": 64,
   "id": "2612d7d0",
   "metadata": {},
   "outputs": [
    {
     "data": {
      "text/latex": [
       "$\\displaystyle \\left[\\begin{matrix}-1 & -4 & -7\\\\-2 & -5 & -8\\\\-3 & -6 & -9\\end{matrix}\\right]$"
      ],
      "text/plain": [
       "Matrix([\n",
       "[-1, -4, -7],\n",
       "[-2, -5, -8],\n",
       "[-3, -6, -9]])"
      ]
     },
     "execution_count": 64,
     "metadata": {},
     "output_type": "execute_result"
    }
   ],
   "source": [
    "(-E).T"
   ]
  },
  {
   "cell_type": "code",
   "execution_count": 67,
   "id": "5858e868",
   "metadata": {},
   "outputs": [
    {
     "data": {
      "text/plain": [
       "True"
      ]
     },
     "execution_count": 67,
     "metadata": {},
     "output_type": "execute_result"
    }
   ],
   "source": [
    "(-E).T == -(E.T)"
   ]
  },
  {
   "cell_type": "code",
   "execution_count": 69,
   "id": "d77f5eba",
   "metadata": {},
   "outputs": [
    {
     "data": {
      "text/latex": [
       "$\\displaystyle \\left[\\begin{matrix}2 & 2 & 3\\\\4 & 7 & 6\\\\7 & 8 & 12\\end{matrix}\\right]$"
      ],
      "text/plain": [
       "Matrix([\n",
       "[2, 2,  3],\n",
       "[4, 7,  6],\n",
       "[7, 8, 12]])"
      ]
     },
     "execution_count": 69,
     "metadata": {},
     "output_type": "execute_result"
    }
   ],
   "source": [
    "E+B"
   ]
  },
  {
   "cell_type": "code",
   "execution_count": 70,
   "id": "faed3de9",
   "metadata": {},
   "outputs": [
    {
     "data": {
      "text/latex": [
       "$\\displaystyle \\left[\\begin{matrix}2 & 4 & 7\\\\2 & 7 & 8\\\\3 & 6 & 12\\end{matrix}\\right]$"
      ],
      "text/plain": [
       "Matrix([\n",
       "[2, 4,  7],\n",
       "[2, 7,  8],\n",
       "[3, 6, 12]])"
      ]
     },
     "execution_count": 70,
     "metadata": {},
     "output_type": "execute_result"
    }
   ],
   "source": [
    "(E+B).T"
   ]
  },
  {
   "cell_type": "code",
   "execution_count": 71,
   "id": "5cbf4b51",
   "metadata": {},
   "outputs": [
    {
     "data": {
      "text/plain": [
       "True"
      ]
     },
     "execution_count": 71,
     "metadata": {},
     "output_type": "execute_result"
    }
   ],
   "source": [
    "(E+B).T == E.T+B.T"
   ]
  },
  {
   "cell_type": "markdown",
   "id": "0db6b388",
   "metadata": {},
   "source": [
    "$$(A+B)^T=B^T+A^T$$\n",
    "(verdadeiro)"
   ]
  },
  {
   "cell_type": "code",
   "execution_count": 73,
   "id": "2e738bf9",
   "metadata": {},
   "outputs": [
    {
     "data": {
      "text/latex": [
       "$\\displaystyle \\left[\\begin{matrix}2 & 4 & 7\\\\2 & 7 & 8\\\\3 & 6 & 12\\end{matrix}\\right]$"
      ],
      "text/plain": [
       "Matrix([\n",
       "[2, 4,  7],\n",
       "[2, 7,  8],\n",
       "[3, 6, 12]])"
      ]
     },
     "execution_count": 73,
     "metadata": {},
     "output_type": "execute_result"
    }
   ],
   "source": [
    "(E+B).T"
   ]
  },
  {
   "cell_type": "code",
   "execution_count": 74,
   "id": "ab48c319",
   "metadata": {},
   "outputs": [
    {
     "data": {
      "text/plain": [
       "True"
      ]
     },
     "execution_count": 74,
     "metadata": {},
     "output_type": "execute_result"
    }
   ],
   "source": [
    "(E+B).T==B.T+E.T"
   ]
  },
  {
   "cell_type": "markdown",
   "id": "92135892",
   "metadata": {},
   "source": [
    "$$AB=0 ; A=0 \\text{ ou } B=0$$\n",
    "(verdadeiro)"
   ]
  },
  {
   "cell_type": "code",
   "execution_count": 76,
   "id": "22743a77",
   "metadata": {},
   "outputs": [
    {
     "data": {
      "text/latex": [
       "$\\displaystyle \\left[\\begin{matrix}0 & 0 & 0\\\\0 & 0 & 0\\\\0 & 0 & 0\\end{matrix}\\right]$"
      ],
      "text/plain": [
       "Matrix([\n",
       "[0, 0, 0],\n",
       "[0, 0, 0],\n",
       "[0, 0, 0]])"
      ]
     },
     "execution_count": 76,
     "metadata": {},
     "output_type": "execute_result"
    }
   ],
   "source": [
    "E*sym.zeros(3)"
   ]
  },
  {
   "cell_type": "markdown",
   "id": "c1029131",
   "metadata": {},
   "source": [
    "$$(k_1A)(k_2B)==(k_1k_2)AB$$\n",
    "(verdadeiro)"
   ]
  },
  {
   "cell_type": "code",
   "execution_count": 77,
   "id": "325a7d80",
   "metadata": {},
   "outputs": [],
   "source": [
    "k1, k2 = sym.symbols(\"k1 k2\")"
   ]
  },
  {
   "cell_type": "code",
   "execution_count": 80,
   "id": "4be7828b",
   "metadata": {},
   "outputs": [
    {
     "data": {
      "text/latex": [
       "$\\displaystyle \\left[\\begin{matrix}k_{1} k_{2} & 4 k_{1} k_{2} & 9 k_{1} k_{2}\\\\4 k_{1} k_{2} & 10 k_{1} k_{2} & 18 k_{1} k_{2}\\\\7 k_{1} k_{2} & 16 k_{1} k_{2} & 27 k_{1} k_{2}\\end{matrix}\\right]$"
      ],
      "text/plain": [
       "Matrix([\n",
       "[  k1*k2,  4*k1*k2,  9*k1*k2],\n",
       "[4*k1*k2, 10*k1*k2, 18*k1*k2],\n",
       "[7*k1*k2, 16*k1*k2, 27*k1*k2]])"
      ]
     },
     "execution_count": 80,
     "metadata": {},
     "output_type": "execute_result"
    }
   ],
   "source": [
    "(k1*E)*(k2*B)"
   ]
  },
  {
   "cell_type": "code",
   "execution_count": 81,
   "id": "9a12b5bd",
   "metadata": {},
   "outputs": [
    {
     "data": {
      "text/latex": [
       "$\\displaystyle \\left[\\begin{matrix}k_{1} k_{2} & 4 k_{1} k_{2} & 9 k_{1} k_{2}\\\\4 k_{1} k_{2} & 10 k_{1} k_{2} & 18 k_{1} k_{2}\\\\7 k_{1} k_{2} & 16 k_{1} k_{2} & 27 k_{1} k_{2}\\end{matrix}\\right]$"
      ],
      "text/plain": [
       "Matrix([\n",
       "[  k1*k2,  4*k1*k2,  9*k1*k2],\n",
       "[4*k1*k2, 10*k1*k2, 18*k1*k2],\n",
       "[7*k1*k2, 16*k1*k2, 27*k1*k2]])"
      ]
     },
     "execution_count": 81,
     "metadata": {},
     "output_type": "execute_result"
    }
   ],
   "source": [
    "(k1*k2)*E*B"
   ]
  },
  {
   "cell_type": "code",
   "execution_count": 84,
   "id": "773c98b1",
   "metadata": {},
   "outputs": [
    {
     "data": {
      "text/plain": [
       "True"
      ]
     },
     "execution_count": 84,
     "metadata": {},
     "output_type": "execute_result"
    }
   ],
   "source": [
    "(k1*E)*(k2*B)==(k1*k2)*E*B"
   ]
  },
  {
   "cell_type": "markdown",
   "id": "c1a33ab2",
   "metadata": {},
   "source": [
    "$$(-A)(-B)=-(AB)$$\n",
    "(falso)"
   ]
  },
  {
   "cell_type": "code",
   "execution_count": 85,
   "id": "e3e5482b",
   "metadata": {},
   "outputs": [
    {
     "data": {
      "text/latex": [
       "$\\displaystyle \\left[\\begin{matrix}1 & 4 & 9\\\\4 & 10 & 18\\\\7 & 16 & 27\\end{matrix}\\right]$"
      ],
      "text/plain": [
       "Matrix([\n",
       "[1,  4,  9],\n",
       "[4, 10, 18],\n",
       "[7, 16, 27]])"
      ]
     },
     "execution_count": 85,
     "metadata": {},
     "output_type": "execute_result"
    }
   ],
   "source": [
    "(-E)*(-B)"
   ]
  },
  {
   "cell_type": "code",
   "execution_count": 86,
   "id": "485312f5",
   "metadata": {},
   "outputs": [
    {
     "data": {
      "text/latex": [
       "$\\displaystyle \\left[\\begin{matrix}-1 & -4 & -9\\\\-4 & -10 & -18\\\\-7 & -16 & -27\\end{matrix}\\right]$"
      ],
      "text/plain": [
       "Matrix([\n",
       "[-1,  -4,  -9],\n",
       "[-4, -10, -18],\n",
       "[-7, -16, -27]])"
      ]
     },
     "execution_count": 86,
     "metadata": {},
     "output_type": "execute_result"
    }
   ],
   "source": [
    "-(E*B)"
   ]
  },
  {
   "cell_type": "code",
   "execution_count": 87,
   "id": "5040d00d",
   "metadata": {},
   "outputs": [
    {
     "data": {
      "text/plain": [
       "False"
      ]
     },
     "execution_count": 87,
     "metadata": {},
     "output_type": "execute_result"
    }
   ],
   "source": [
    "(-E)*(-B)==-(E*B)"
   ]
  },
  {
   "cell_type": "markdown",
   "id": "61cea6d0",
   "metadata": {},
   "source": [
    "Matrizes simétricas\n",
    "$$AB=BA$$ \n",
    "(falso)"
   ]
  },
  {
   "cell_type": "code",
   "execution_count": 89,
   "id": "e944364e",
   "metadata": {},
   "outputs": [
    {
     "data": {
      "text/latex": [
       "$\\displaystyle \\left[\\begin{matrix}1 & 2 & 3\\\\2 & 5 & 6\\\\3 & 6 & 9\\end{matrix}\\right]$"
      ],
      "text/plain": [
       "Matrix([\n",
       "[1, 2, 3],\n",
       "[2, 5, 6],\n",
       "[3, 6, 9]])"
      ]
     },
     "execution_count": 89,
     "metadata": {},
     "output_type": "execute_result"
    }
   ],
   "source": [
    "S1 = sym.Matrix([[1,2,3],[2,5,6],[3,6,9]])\n",
    "S1"
   ]
  },
  {
   "cell_type": "code",
   "execution_count": 91,
   "id": "179bbd3e",
   "metadata": {},
   "outputs": [
    {
     "data": {
      "text/plain": [
       "True"
      ]
     },
     "execution_count": 91,
     "metadata": {},
     "output_type": "execute_result"
    }
   ],
   "source": [
    "S1.is_symmetric()"
   ]
  },
  {
   "cell_type": "code",
   "execution_count": 94,
   "id": "aa6aad51",
   "metadata": {},
   "outputs": [
    {
     "data": {
      "text/latex": [
       "$\\displaystyle \\left[\\begin{matrix}4 & 5 & 6\\\\5 & 7 & 8\\\\6 & 8 & 2\\end{matrix}\\right]$"
      ],
      "text/plain": [
       "Matrix([\n",
       "[4, 5, 6],\n",
       "[5, 7, 8],\n",
       "[6, 8, 2]])"
      ]
     },
     "execution_count": 94,
     "metadata": {},
     "output_type": "execute_result"
    }
   ],
   "source": [
    "S2 = sym.Matrix([[4,5,6],[5,7,8],[6,8,2]])\n",
    "S2"
   ]
  },
  {
   "cell_type": "code",
   "execution_count": 95,
   "id": "7d1e8e26",
   "metadata": {},
   "outputs": [
    {
     "data": {
      "text/plain": [
       "True"
      ]
     },
     "execution_count": 95,
     "metadata": {},
     "output_type": "execute_result"
    }
   ],
   "source": [
    "S2.is_symmetric()"
   ]
  },
  {
   "cell_type": "code",
   "execution_count": 96,
   "id": "01c727af",
   "metadata": {},
   "outputs": [
    {
     "data": {
      "text/plain": [
       "False"
      ]
     },
     "execution_count": 96,
     "metadata": {},
     "output_type": "execute_result"
    }
   ],
   "source": [
    "S1*S2==S2*S1"
   ]
  },
  {
   "cell_type": "markdown",
   "id": "73e6febc",
   "metadata": {},
   "source": [
    "AxA então A é matriz quadrada\n",
    "\n",
    "(verdadeiro)"
   ]
  },
  {
   "cell_type": "code",
   "execution_count": 107,
   "id": "28f505eb",
   "metadata": {},
   "outputs": [
    {
     "data": {
      "text/plain": [
       "(3, 3)"
      ]
     },
     "execution_count": 107,
     "metadata": {},
     "output_type": "execute_result"
    }
   ],
   "source": [
    "E.shape"
   ]
  },
  {
   "cell_type": "code",
   "execution_count": 108,
   "id": "95a43836",
   "metadata": {},
   "outputs": [
    {
     "data": {
      "text/latex": [
       "$\\displaystyle \\left[\\begin{matrix}30 & 36 & 42\\\\66 & 81 & 96\\\\102 & 126 & 150\\end{matrix}\\right]$"
      ],
      "text/plain": [
       "Matrix([\n",
       "[ 30,  36,  42],\n",
       "[ 66,  81,  96],\n",
       "[102, 126, 150]])"
      ]
     },
     "execution_count": 108,
     "metadata": {},
     "output_type": "execute_result"
    }
   ],
   "source": [
    "E*E"
   ]
  },
  {
   "cell_type": "code",
   "execution_count": 109,
   "id": "b7afbaa0",
   "metadata": {},
   "outputs": [
    {
     "data": {
      "text/plain": [
       "(3, 1)"
      ]
     },
     "execution_count": 109,
     "metadata": {},
     "output_type": "execute_result"
    }
   ],
   "source": [
    "C.shape"
   ]
  },
  {
   "cell_type": "code",
   "execution_count": 112,
   "id": "c79a4585",
   "metadata": {},
   "outputs": [],
   "source": [
    "#C x C   #erro"
   ]
  },
  {
   "cell_type": "markdown",
   "id": "5cfc87e9",
   "metadata": {},
   "source": [
    "## 7\n",
    "Se $A^2 = A \\cdot A$, então $\\begin{bmatrix} -2&1\\\\3&2 \\end{bmatrix}^2$"
   ]
  },
  {
   "cell_type": "code",
   "execution_count": 115,
   "id": "30a2a9f0",
   "metadata": {},
   "outputs": [
    {
     "data": {
      "text/latex": [
       "$\\displaystyle \\left[\\begin{matrix}7 & 0\\\\0 & 7\\end{matrix}\\right]$"
      ],
      "text/plain": [
       "Matrix([\n",
       "[7, 0],\n",
       "[0, 7]])"
      ]
     },
     "execution_count": 115,
     "metadata": {},
     "output_type": "execute_result"
    }
   ],
   "source": [
    "W = sym.Matrix([[-2,1],[3,2]])\n",
    "W**2"
   ]
  },
  {
   "cell_type": "code",
   "execution_count": 116,
   "id": "503c5a5e",
   "metadata": {},
   "outputs": [
    {
     "data": {
      "text/latex": [
       "$\\displaystyle \\left[\\begin{matrix}7 & 0\\\\0 & 7\\end{matrix}\\right]$"
      ],
      "text/plain": [
       "Matrix([\n",
       "[7, 0],\n",
       "[0, 7]])"
      ]
     },
     "execution_count": 116,
     "metadata": {},
     "output_type": "execute_result"
    }
   ],
   "source": [
    "W*W"
   ]
  },
  {
   "cell_type": "markdown",
   "id": "9a1c6258",
   "metadata": {},
   "source": [
    "## 8\n",
    "Se A é uma matriz triangular superior, então $A^2$ é...\n",
    "\n",
    "(Matriz triangular superior)"
   ]
  },
  {
   "cell_type": "code",
   "execution_count": 127,
   "id": "a0ea022c",
   "metadata": {},
   "outputs": [
    {
     "data": {
      "text/latex": [
       "$\\displaystyle \\left[\\begin{matrix}2 & 1\\\\0 & 0\\end{matrix}\\right]$"
      ],
      "text/plain": [
       "Matrix([\n",
       "[2, 1],\n",
       "[0, 0]])"
      ]
     },
     "execution_count": 127,
     "metadata": {},
     "output_type": "execute_result"
    }
   ],
   "source": [
    "A"
   ]
  },
  {
   "cell_type": "code",
   "execution_count": 128,
   "id": "3313ff61",
   "metadata": {},
   "outputs": [
    {
     "data": {
      "text/latex": [
       "$\\displaystyle \\left[\\begin{matrix}4 & 2\\\\0 & 0\\end{matrix}\\right]$"
      ],
      "text/plain": [
       "Matrix([\n",
       "[4, 2],\n",
       "[0, 0]])"
      ]
     },
     "execution_count": 128,
     "metadata": {},
     "output_type": "execute_result"
    }
   ],
   "source": [
    "A**2"
   ]
  },
  {
   "cell_type": "code",
   "execution_count": 129,
   "id": "348c5c08",
   "metadata": {},
   "outputs": [
    {
     "data": {
      "text/latex": [
       "$\\displaystyle \\left[\\begin{matrix}4 & 2\\\\0 & 0\\end{matrix}\\right]$"
      ],
      "text/plain": [
       "Matrix([\n",
       "[4, 2],\n",
       "[0, 0]])"
      ]
     },
     "execution_count": 129,
     "metadata": {},
     "output_type": "execute_result"
    }
   ],
   "source": [
    "A*A"
   ]
  },
  {
   "cell_type": "markdown",
   "id": "00d2bf4f",
   "metadata": {},
   "source": [
    "## 9 \n",
    "\n",
    "Ache x,y,z,w se $\\begin{bmatrix}x&y\\\\z&w \\end{bmatrix} \\begin{bmatrix}2&3\\\\3&4 \\end{bmatrix} = \\begin{bmatrix} 1&0\\\\0&1\\end{bmatrix}$"
   ]
  },
  {
   "cell_type": "markdown",
   "id": "ecf01fd6",
   "metadata": {},
   "source": [
    "$$x+2=1$$\n",
    "$$y+2=0$$\n",
    "$$z+3=0$$\n",
    "$$w+4=1$$"
   ]
  },
  {
   "cell_type": "code",
   "execution_count": 155,
   "id": "02a3f0c5",
   "metadata": {},
   "outputs": [],
   "source": [
    "x,y,w,z = sym.symbols('x y w z')"
   ]
  },
  {
   "cell_type": "code",
   "execution_count": 157,
   "id": "def6901a",
   "metadata": {},
   "outputs": [],
   "source": [
    "S4= sym.Matrix([[2,3],[3,4]])\n",
    "S3 =  sym.Matrix([[x,y],[z,w]])"
   ]
  },
  {
   "cell_type": "code",
   "execution_count": 160,
   "id": "26cec2b7",
   "metadata": {},
   "outputs": [
    {
     "data": {
      "text/latex": [
       "$\\displaystyle \\left[\\begin{matrix}2 x + 3 y & 3 x + 4 y\\\\3 w + 2 z & 4 w + 3 z\\end{matrix}\\right]$"
      ],
      "text/plain": [
       "Matrix([\n",
       "[2*x + 3*y, 3*x + 4*y],\n",
       "[3*w + 2*z, 4*w + 3*z]])"
      ]
     },
     "execution_count": 160,
     "metadata": {},
     "output_type": "execute_result"
    }
   ],
   "source": [
    "S5 = S3*S4\n",
    "S5"
   ]
  },
  {
   "cell_type": "markdown",
   "id": "4bb23509",
   "metadata": {},
   "source": [
    "$$\\begin{cases}\n",
    "2x+3y=1\\\\\n",
    "3x+4y=0\\\\\n",
    "3w+2z =0\\\\\n",
    "4w+3z=1\n",
    "\\end{cases}$$"
   ]
  },
  {
   "cell_type": "code",
   "execution_count": 162,
   "id": "f12b888c",
   "metadata": {},
   "outputs": [
    {
     "data": {
      "text/plain": [
       "{x: -4, y: 3}"
      ]
     },
     "execution_count": 162,
     "metadata": {},
     "output_type": "execute_result"
    }
   ],
   "source": [
    "system = sym.Matrix([[2,3,1],[3,4,0]])\n",
    "sym.solve_linear_system(system, x, y)"
   ]
  },
  {
   "cell_type": "code",
   "execution_count": 163,
   "id": "27d4b3db",
   "metadata": {},
   "outputs": [
    {
     "data": {
      "text/plain": [
       "{w: -2, z: 3}"
      ]
     },
     "execution_count": 163,
     "metadata": {},
     "output_type": "execute_result"
    }
   ],
   "source": [
    "systema1 = sym.Matrix([[3,2,0],[4,3,1]])\n",
    "sym.solve_linear_system(systema1,w,z)"
   ]
  },
  {
   "cell_type": "code",
   "execution_count": 164,
   "id": "c1cd2db2",
   "metadata": {},
   "outputs": [
    {
     "data": {
      "text/latex": [
       "$\\displaystyle \\left[\\begin{matrix}-4 & 3\\\\3 & -2\\end{matrix}\\right]$"
      ],
      "text/plain": [
       "Matrix([\n",
       "[-4,  3],\n",
       "[ 3, -2]])"
      ]
     },
     "execution_count": 164,
     "metadata": {},
     "output_type": "execute_result"
    }
   ],
   "source": [
    "S4.inv()"
   ]
  },
  {
   "cell_type": "markdown",
   "id": "4495e057",
   "metadata": {},
   "source": [
    "## 10\n",
    "\n",
    "Dadas as $A=\\begin{bmatrix}1&-3&2\\\\2&1&-3\\\\4&-3&-1 \\end{bmatrix}$ $B=\\begin{bmatrix} 1&4&1&0\\\\2&1&1&1\\\\1&-2&1&2 \\end{bmatrix}$  $C=\\begin{bmatrix}2&1&-1&-2\\\\3&-2&-1&-1\\\\2&-5&-1&0 \\end{bmatrix}$\n",
    "\n",
    "\n",
    "AB=AC"
   ]
  },
  {
   "cell_type": "code",
   "execution_count": 175,
   "id": "3a64ebe7",
   "metadata": {},
   "outputs": [
    {
     "data": {
      "text/latex": [
       "$\\displaystyle \\left[\\begin{matrix}1 & -3 & 2\\\\2 & 1 & -3\\\\4 & -3 & -1\\end{matrix}\\right]$"
      ],
      "text/plain": [
       "Matrix([\n",
       "[1, -3,  2],\n",
       "[2,  1, -3],\n",
       "[4, -3, -1]])"
      ]
     },
     "execution_count": 175,
     "metadata": {},
     "output_type": "execute_result"
    }
   ],
   "source": [
    "A1 = sym.Matrix([[1,-3,2],[2,1,-3],[4,-3,-1]])\n",
    "A1"
   ]
  },
  {
   "cell_type": "code",
   "execution_count": 176,
   "id": "194354d2",
   "metadata": {},
   "outputs": [
    {
     "data": {
      "text/latex": [
       "$\\displaystyle \\left[\\begin{matrix}1 & 4 & 1 & 0\\\\2 & 1 & 1 & 1\\\\1 & -2 & 1 & 2\\end{matrix}\\right]$"
      ],
      "text/plain": [
       "Matrix([\n",
       "[1,  4, 1, 0],\n",
       "[2,  1, 1, 1],\n",
       "[1, -2, 1, 2]])"
      ]
     },
     "execution_count": 176,
     "metadata": {},
     "output_type": "execute_result"
    }
   ],
   "source": [
    "B1 = sym.Matrix([[1,4,1,0],[2,1,1,1],[1,-2,1,2]])\n",
    "B1"
   ]
  },
  {
   "cell_type": "code",
   "execution_count": 177,
   "id": "a38b62cb",
   "metadata": {},
   "outputs": [
    {
     "data": {
      "text/latex": [
       "$\\displaystyle \\left[\\begin{matrix}2 & 1 & -1 & -2\\\\3 & -2 & -1 & -1\\\\2 & -5 & -1 & 0\\end{matrix}\\right]$"
      ],
      "text/plain": [
       "Matrix([\n",
       "[2,  1, -1, -2],\n",
       "[3, -2, -1, -1],\n",
       "[2, -5, -1,  0]])"
      ]
     },
     "execution_count": 177,
     "metadata": {},
     "output_type": "execute_result"
    }
   ],
   "source": [
    "C1 = sym.Matrix([[2,1,-1,-2],[3,-2,-1,-1],[2,-5,-1,0]])\n",
    "C1"
   ]
  },
  {
   "cell_type": "code",
   "execution_count": 178,
   "id": "3016be3a",
   "metadata": {},
   "outputs": [
    {
     "data": {
      "text/latex": [
       "$\\displaystyle \\left[\\begin{matrix}-3 & -3 & 0 & 1\\\\1 & 15 & 0 & -5\\\\-3 & 15 & 0 & -5\\end{matrix}\\right]$"
      ],
      "text/plain": [
       "Matrix([\n",
       "[-3, -3, 0,  1],\n",
       "[ 1, 15, 0, -5],\n",
       "[-3, 15, 0, -5]])"
      ]
     },
     "execution_count": 178,
     "metadata": {},
     "output_type": "execute_result"
    }
   ],
   "source": [
    "A1*B1"
   ]
  },
  {
   "cell_type": "code",
   "execution_count": 179,
   "id": "19750ac0",
   "metadata": {},
   "outputs": [
    {
     "data": {
      "text/latex": [
       "$\\displaystyle \\left[\\begin{matrix}-3 & -3 & 0 & 1\\\\1 & 15 & 0 & -5\\\\-3 & 15 & 0 & -5\\end{matrix}\\right]$"
      ],
      "text/plain": [
       "Matrix([\n",
       "[-3, -3, 0,  1],\n",
       "[ 1, 15, 0, -5],\n",
       "[-3, 15, 0, -5]])"
      ]
     },
     "execution_count": 179,
     "metadata": {},
     "output_type": "execute_result"
    }
   ],
   "source": [
    "A1*C1"
   ]
  },
  {
   "cell_type": "code",
   "execution_count": 180,
   "id": "85336194",
   "metadata": {},
   "outputs": [
    {
     "data": {
      "text/plain": [
       "True"
      ]
     },
     "execution_count": 180,
     "metadata": {},
     "output_type": "execute_result"
    }
   ],
   "source": [
    "A1*B1 == A1*C1"
   ]
  },
  {
   "cell_type": "markdown",
   "id": "6469ee3b",
   "metadata": {},
   "source": [
    "## 13"
   ]
  },
  {
   "cell_type": "code",
   "execution_count": 193,
   "id": "0495c260",
   "metadata": {},
   "outputs": [],
   "source": [
    "A3 = sym.Matrix([[2,-3,-5],[-1,4,5],[1,-3,-4]])\n",
    "B3 = sym.Matrix([[-1,3,5],[1,-3,-5],[-1,3,5]])\n",
    "C3 = sym.Matrix([[2,-2,-4],[-1,3,4],[1,-2,-3]])"
   ]
  },
  {
   "cell_type": "code",
   "execution_count": 195,
   "id": "c38ba41b",
   "metadata": {},
   "outputs": [
    {
     "data": {
      "text/plain": [
       "True"
      ]
     },
     "execution_count": 195,
     "metadata": {},
     "output_type": "execute_result"
    }
   ],
   "source": [
    "A3*B3 == B3*A3"
   ]
  },
  {
   "cell_type": "code",
   "execution_count": 196,
   "id": "9ce925ce",
   "metadata": {},
   "outputs": [
    {
     "data": {
      "text/latex": [
       "$\\displaystyle \\left[\\begin{matrix}0 & 0 & 0\\\\0 & 0 & 0\\\\0 & 0 & 0\\end{matrix}\\right]$"
      ],
      "text/plain": [
       "Matrix([\n",
       "[0, 0, 0],\n",
       "[0, 0, 0],\n",
       "[0, 0, 0]])"
      ]
     },
     "execution_count": 196,
     "metadata": {},
     "output_type": "execute_result"
    }
   ],
   "source": [
    "A3*B3"
   ]
  },
  {
   "cell_type": "code",
   "execution_count": 198,
   "id": "2327d6a6",
   "metadata": {},
   "outputs": [
    {
     "data": {
      "text/plain": [
       "True"
      ]
     },
     "execution_count": 198,
     "metadata": {},
     "output_type": "execute_result"
    }
   ],
   "source": [
    "A3*C3 == A3"
   ]
  },
  {
   "cell_type": "code",
   "execution_count": 199,
   "id": "c23eb890",
   "metadata": {},
   "outputs": [
    {
     "data": {
      "text/plain": [
       "True"
      ]
     },
     "execution_count": 199,
     "metadata": {},
     "output_type": "execute_result"
    }
   ],
   "source": [
    "C3*A3 == C3"
   ]
  },
  {
   "cell_type": "code",
   "execution_count": 200,
   "id": "e15f99fb",
   "metadata": {},
   "outputs": [
    {
     "data": {
      "text/latex": [
       "$\\displaystyle \\left[\\begin{matrix}0 & 0 & 0\\\\0 & 0 & 0\\\\0 & 0 & 0\\end{matrix}\\right]$"
      ],
      "text/plain": [
       "Matrix([\n",
       "[0, 0, 0],\n",
       "[0, 0, 0],\n",
       "[0, 0, 0]])"
      ]
     },
     "execution_count": 200,
     "metadata": {},
     "output_type": "execute_result"
    }
   ],
   "source": [
    "A3*B3*C3"
   ]
  },
  {
   "cell_type": "code",
   "execution_count": 201,
   "id": "c8e564d0",
   "metadata": {},
   "outputs": [
    {
     "data": {
      "text/latex": [
       "$\\displaystyle \\left[\\begin{matrix}0 & 0 & 0\\\\0 & 0 & 0\\\\0 & 0 & 0\\end{matrix}\\right]$"
      ],
      "text/plain": [
       "Matrix([\n",
       "[0, 0, 0],\n",
       "[0, 0, 0],\n",
       "[0, 0, 0]])"
      ]
     },
     "execution_count": 201,
     "metadata": {},
     "output_type": "execute_result"
    }
   ],
   "source": [
    "C3*B3*A3"
   ]
  },
  {
   "cell_type": "code",
   "execution_count": 205,
   "id": "b6539279",
   "metadata": {},
   "outputs": [
    {
     "data": {
      "text/plain": [
       "True"
      ]
     },
     "execution_count": 205,
     "metadata": {},
     "output_type": "execute_result"
    }
   ],
   "source": [
    "A3**2 - B3**2 == (A3-B3)*(A3+B3)"
   ]
  },
  {
   "cell_type": "markdown",
   "id": "0eb8effe",
   "metadata": {},
   "source": [
    "## 14\n",
    "\n",
    "Se $A= \\begin{bmatrix}3&-2\\\\-4&3 \\end{bmatrix}$  ache B, de modo que $B^2=A$"
   ]
  },
  {
   "cell_type": "code",
   "execution_count": 215,
   "id": "b33446b0",
   "metadata": {},
   "outputs": [],
   "source": [
    "A4 = sym.Matrix([[3,-2],[-4,3]])"
   ]
  },
  {
   "cell_type": "code",
   "execution_count": 217,
   "id": "0b50f5f1",
   "metadata": {},
   "outputs": [],
   "source": [
    "a,b,c,d = sym.symbols(\"a b c d\")"
   ]
  },
  {
   "cell_type": "code",
   "execution_count": 218,
   "id": "b0e2c057",
   "metadata": {},
   "outputs": [
    {
     "data": {
      "text/latex": [
       "$\\displaystyle \\left[\\begin{matrix}a & b\\\\c & d\\end{matrix}\\right]$"
      ],
      "text/plain": [
       "Matrix([\n",
       "[a, b],\n",
       "[c, d]])"
      ]
     },
     "execution_count": 218,
     "metadata": {},
     "output_type": "execute_result"
    }
   ],
   "source": [
    "B4 = sym.Matrix([[a,b],[c,d]])\n",
    "B4"
   ]
  },
  {
   "cell_type": "code",
   "execution_count": 220,
   "id": "3e4202f7",
   "metadata": {},
   "outputs": [
    {
     "data": {
      "text/latex": [
       "$\\displaystyle \\left[\\begin{matrix}a^{2} + b c & a b + b d\\\\a c + c d & b c + d^{2}\\end{matrix}\\right]$"
      ],
      "text/plain": [
       "Matrix([\n",
       "[a**2 + b*c,  a*b + b*d],\n",
       "[ a*c + c*d, b*c + d**2]])"
      ]
     },
     "execution_count": 220,
     "metadata": {},
     "output_type": "execute_result"
    }
   ],
   "source": [
    "B4**2"
   ]
  },
  {
   "cell_type": "code",
   "execution_count": 222,
   "id": "26a99fe7",
   "metadata": {},
   "outputs": [
    {
     "data": {
      "text/latex": [
       "$\\displaystyle \\left[\\begin{matrix}a^{2} + b c & a b + b d\\\\a c + c d & b c + d^{2}\\end{matrix}\\right]$"
      ],
      "text/plain": [
       "Matrix([\n",
       "[a**2 + b*c,  a*b + b*d],\n",
       "[ a*c + c*d, b*c + d**2]])"
      ]
     },
     "execution_count": 222,
     "metadata": {},
     "output_type": "execute_result"
    }
   ],
   "source": [
    "R1 = sym.Matrix([[a**2+(b*c),(a*b)+(b*d)],[(a*c)+(c*d),(b*c)+d**2]])\n",
    "R1"
   ]
  },
  {
   "cell_type": "code",
   "execution_count": null,
   "id": "5496083d",
   "metadata": {},
   "outputs": [],
   "source": []
  }
 ],
 "metadata": {
  "kernelspec": {
   "display_name": "Python 3 (ipykernel)",
   "language": "python",
   "name": "python3"
  },
  "language_info": {
   "codemirror_mode": {
    "name": "ipython",
    "version": 3
   },
   "file_extension": ".py",
   "mimetype": "text/x-python",
   "name": "python",
   "nbconvert_exporter": "python",
   "pygments_lexer": "ipython3",
   "version": "3.11.7"
  }
 },
 "nbformat": 4,
 "nbformat_minor": 5
}
