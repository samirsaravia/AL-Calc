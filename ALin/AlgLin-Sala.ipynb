{
 "cells": [
  {
   "cell_type": "code",
   "execution_count": 1,
   "id": "2692ee86",
   "metadata": {},
   "outputs": [],
   "source": [
    "import sympy as sym\n",
    "import numpy as np"
   ]
  },
  {
   "cell_type": "code",
   "execution_count": 2,
   "id": "4bf27a4d",
   "metadata": {},
   "outputs": [],
   "source": [
    "sym.init_printing(\"mathjax\")"
   ]
  },
  {
   "cell_type": "code",
   "execution_count": 75,
   "id": "f6c60a0b",
   "metadata": {},
   "outputs": [],
   "source": [
    "a11 , a12, a13,a21, a22, a23, a31, a32 ,a33= sym.symbols(\"a11 a12 a13 a21 a22 a23 a31 a32 a33\")"
   ]
  },
  {
   "cell_type": "code",
   "execution_count": 8,
   "id": "ec5fbeac",
   "metadata": {},
   "outputs": [
    {
     "data": {
      "text/latex": [
       "$\\displaystyle \\left[\\begin{matrix}a_{11} & a_{12}\\\\a_{21} & a_{22}\\\\a_{31} & a_{32}\\end{matrix}\\right]$"
      ],
      "text/plain": [
       "⎡a₁₁  a₁₂⎤\n",
       "⎢        ⎥\n",
       "⎢a₂₁  a₂₂⎥\n",
       "⎢        ⎥\n",
       "⎣a₃₁  a₃₂⎦"
      ]
     },
     "execution_count": 8,
     "metadata": {},
     "output_type": "execute_result"
    }
   ],
   "source": [
    "A= sym.Matrix([[a11, a12],[a21, a22],[a31, a32]])\n",
    "A"
   ]
  },
  {
   "cell_type": "code",
   "execution_count": 73,
   "id": "d2b8673d",
   "metadata": {},
   "outputs": [],
   "source": [
    "b11 ,b12, b13,b21 ,b22, b23, b31, b32, b33 = sym.symbols(\"b11 b12 b13 b21 b22 b23 b31 b32 b33\")"
   ]
  },
  {
   "cell_type": "code",
   "execution_count": 15,
   "id": "66acb152",
   "metadata": {},
   "outputs": [
    {
     "data": {
      "text/latex": [
       "$\\displaystyle \\left[\\begin{matrix}b_{11} & b_{12}\\\\b_{21} & b_{22}\\end{matrix}\\right]$"
      ],
      "text/plain": [
       "⎡b₁₁  b₁₂⎤\n",
       "⎢        ⎥\n",
       "⎣b₂₁  b₂₂⎦"
      ]
     },
     "execution_count": 15,
     "metadata": {},
     "output_type": "execute_result"
    }
   ],
   "source": [
    "B = sym.Matrix([[b11, b12],[b21,b22]])\n",
    "B"
   ]
  },
  {
   "cell_type": "code",
   "execution_count": 16,
   "id": "4e3c72c2",
   "metadata": {},
   "outputs": [
    {
     "data": {
      "text/latex": [
       "$\\displaystyle \\left[\\begin{matrix}a_{11} b_{11} + a_{12} b_{21} & a_{11} b_{12} + a_{12} b_{22}\\\\a_{21} b_{11} + a_{22} b_{21} & a_{21} b_{12} + a_{22} b_{22}\\\\a_{31} b_{11} + a_{32} b_{21} & a_{31} b_{12} + a_{32} b_{22}\\end{matrix}\\right]$"
      ],
      "text/plain": [
       "⎡a₁₁⋅b₁₁ + a₁₂⋅b₂₁  a₁₁⋅b₁₂ + a₁₂⋅b₂₂⎤\n",
       "⎢                                    ⎥\n",
       "⎢a₂₁⋅b₁₁ + a₂₂⋅b₂₁  a₂₁⋅b₁₂ + a₂₂⋅b₂₂⎥\n",
       "⎢                                    ⎥\n",
       "⎣a₃₁⋅b₁₁ + a₃₂⋅b₂₁  a₃₁⋅b₁₂ + a₃₂⋅b₂₂⎦"
      ]
     },
     "execution_count": 16,
     "metadata": {},
     "output_type": "execute_result"
    }
   ],
   "source": [
    "C = A*B\n",
    "C"
   ]
  },
  {
   "cell_type": "code",
   "execution_count": 14,
   "id": "1a5e69af",
   "metadata": {},
   "outputs": [
    {
     "data": {
      "image/png": "[encoded data removed]",
      "text/latex": [
       "$\\displaystyle \\left( 3, \\  2\\right)$"
      ],
      "text/plain": [
       "(3, 2)"
      ]
     },
     "execution_count": 14,
     "metadata": {},
     "output_type": "execute_result"
    }
   ],
   "source": [
    "C.shape"
   ]
  },
  {
   "cell_type": "code",
   "execution_count": 25,
   "id": "b6a80909",
   "metadata": {},
   "outputs": [
    {
     "data": {
      "text/latex": [
       "$\\displaystyle \\left[\\begin{matrix}2 & -1 & 7 & 0\\\\0 & 2 & 0 & -4\\\\1 & 3 & 2 & 0\\\\5 & -3 & 1 & 1\\end{matrix}\\right]$"
      ],
      "text/plain": [
       "⎡2  -1  7  0 ⎤\n",
       "⎢            ⎥\n",
       "⎢0  2   0  -4⎥\n",
       "⎢            ⎥\n",
       "⎢1  3   2  0 ⎥\n",
       "⎢            ⎥\n",
       "⎣5  -3  1  1 ⎦"
      ]
     },
     "execution_count": 25,
     "metadata": {},
     "output_type": "execute_result"
    }
   ],
   "source": [
    "A1 = sym.Matrix([[2,-1,7,0],[0,2,0,-4],[1,3,2,0],[5,-3,1,1]])\n",
    "A1"
   ]
  },
  {
   "cell_type": "code",
   "execution_count": 22,
   "id": "d3b67c10",
   "metadata": {},
   "outputs": [
    {
     "data": {
      "text/latex": [
       "$\\displaystyle \\left[\\begin{matrix}2 & 7\\\\8 & 2\\\\0 & -1\\\\5 & 3\\end{matrix}\\right]$"
      ],
      "text/plain": [
       "⎡2  7 ⎤\n",
       "⎢     ⎥\n",
       "⎢8  2 ⎥\n",
       "⎢     ⎥\n",
       "⎢0  -1⎥\n",
       "⎢     ⎥\n",
       "⎣5  3 ⎦"
      ]
     },
     "execution_count": 22,
     "metadata": {},
     "output_type": "execute_result"
    }
   ],
   "source": [
    "B1 = sym.Matrix([[2,7],[8,2],[0,-1],[5,3]])\n",
    "B1"
   ]
  },
  {
   "cell_type": "code",
   "execution_count": 23,
   "id": "ee5a450d",
   "metadata": {},
   "outputs": [
    {
     "data": {
      "text/latex": [
       "$\\displaystyle \\left[\\begin{matrix}-4 & 5\\\\-4 & -8\\\\26 & 11\\\\-9 & 31\\end{matrix}\\right]$"
      ],
      "text/plain": [
       "⎡-4  5 ⎤\n",
       "⎢      ⎥\n",
       "⎢-4  -8⎥\n",
       "⎢      ⎥\n",
       "⎢26  11⎥\n",
       "⎢      ⎥\n",
       "⎣-9  31⎦"
      ]
     },
     "execution_count": 23,
     "metadata": {},
     "output_type": "execute_result"
    }
   ],
   "source": [
    "C1 = A1*B1\n",
    "C1"
   ]
  },
  {
   "cell_type": "code",
   "execution_count": 28,
   "id": "f9b406d3",
   "metadata": {},
   "outputs": [],
   "source": [
    "#B1*A1   #isso da erro"
   ]
  },
  {
   "cell_type": "code",
   "execution_count": 29,
   "id": "93296e5c",
   "metadata": {},
   "outputs": [
    {
     "data": {
      "text/latex": [
       "$\\displaystyle \\left[\\begin{matrix}2 & 3\\\\5 & 1\\end{matrix}\\right]$"
      ],
      "text/plain": [
       "⎡2  3⎤\n",
       "⎢    ⎥\n",
       "⎣5  1⎦"
      ]
     },
     "execution_count": 29,
     "metadata": {},
     "output_type": "execute_result"
    }
   ],
   "source": [
    "A3 =  sym.Matrix([[2,3],[5,1]])\n",
    "A3"
   ]
  },
  {
   "cell_type": "code",
   "execution_count": 30,
   "id": "69c9e38c",
   "metadata": {},
   "outputs": [
    {
     "data": {
      "text/latex": [
       "$\\displaystyle \\left[\\begin{matrix}- \\frac{1}{13} & \\frac{3}{13}\\\\\\frac{5}{13} & - \\frac{2}{13}\\end{matrix}\\right]$"
      ],
      "text/plain": [
       "⎡-1/13  3/13 ⎤\n",
       "⎢            ⎥\n",
       "⎣5/13   -2/13⎦"
      ]
     },
     "execution_count": 30,
     "metadata": {},
     "output_type": "execute_result"
    }
   ],
   "source": [
    "A3**(-1)"
   ]
  },
  {
   "cell_type": "code",
   "execution_count": 32,
   "id": "746d243f",
   "metadata": {},
   "outputs": [
    {
     "data": {
      "text/latex": [
       "$\\displaystyle \\left[\\begin{matrix}b_{11} & b_{12}\\\\b_{21} & b_{22}\\end{matrix}\\right]$"
      ],
      "text/plain": [
       "⎡b₁₁  b₁₂⎤\n",
       "⎢        ⎥\n",
       "⎣b₂₁  b₂₂⎦"
      ]
     },
     "execution_count": 32,
     "metadata": {},
     "output_type": "execute_result"
    }
   ],
   "source": [
    "B"
   ]
  },
  {
   "cell_type": "code",
   "execution_count": 33,
   "id": "8ecf4152",
   "metadata": {},
   "outputs": [
    {
     "data": {
      "text/latex": [
       "$\\displaystyle \\left[\\begin{matrix}b_{11} & b_{21}\\\\b_{12} & b_{22}\\end{matrix}\\right]$"
      ],
      "text/plain": [
       "⎡b₁₁  b₂₁⎤\n",
       "⎢        ⎥\n",
       "⎣b₁₂  b₂₂⎦"
      ]
     },
     "execution_count": 33,
     "metadata": {},
     "output_type": "execute_result"
    }
   ],
   "source": [
    "B.T"
   ]
  },
  {
   "cell_type": "markdown",
   "id": "7fa851db",
   "metadata": {},
   "source": [
    "$$\\big(B^T\\big)^{-1} = \\big(B^{-1}\\big)^T$$"
   ]
  },
  {
   "cell_type": "code",
   "execution_count": 36,
   "id": "76a6570d",
   "metadata": {},
   "outputs": [
    {
     "data": {
      "text/latex": [
       "$\\displaystyle \\left[\\begin{matrix}\\frac{b_{22}}{b_{11} b_{22} - b_{12} b_{21}} & - \\frac{b_{21}}{b_{11} b_{22} - b_{12} b_{21}}\\\\- \\frac{b_{12}}{b_{11} b_{22} - b_{12} b_{21}} & \\frac{b_{11}}{b_{11} b_{22} - b_{12} b_{21}}\\end{matrix}\\right]$"
      ],
      "text/plain": [
       "⎡       b₂₂               -b₂₁       ⎤\n",
       "⎢─────────────────  ─────────────────⎥\n",
       "⎢b₁₁⋅b₂₂ - b₁₂⋅b₂₁  b₁₁⋅b₂₂ - b₁₂⋅b₂₁⎥\n",
       "⎢                                    ⎥\n",
       "⎢      -b₁₂                b₁₁       ⎥\n",
       "⎢─────────────────  ─────────────────⎥\n",
       "⎣b₁₁⋅b₂₂ - b₁₂⋅b₂₁  b₁₁⋅b₂₂ - b₁₂⋅b₂₁⎦"
      ]
     },
     "execution_count": 36,
     "metadata": {},
     "output_type": "execute_result"
    }
   ],
   "source": [
    "(B.T).inv()"
   ]
  },
  {
   "cell_type": "code",
   "execution_count": 37,
   "id": "6fe754f4",
   "metadata": {},
   "outputs": [
    {
     "data": {
      "text/latex": [
       "$\\displaystyle \\left[\\begin{matrix}\\frac{b_{22}}{b_{11} b_{22} - b_{12} b_{21}} & - \\frac{b_{21}}{b_{11} b_{22} - b_{12} b_{21}}\\\\- \\frac{b_{12}}{b_{11} b_{22} - b_{12} b_{21}} & \\frac{b_{11}}{b_{11} b_{22} - b_{12} b_{21}}\\end{matrix}\\right]$"
      ],
      "text/plain": [
       "⎡       b₂₂               -b₂₁       ⎤\n",
       "⎢─────────────────  ─────────────────⎥\n",
       "⎢b₁₁⋅b₂₂ - b₁₂⋅b₂₁  b₁₁⋅b₂₂ - b₁₂⋅b₂₁⎥\n",
       "⎢                                    ⎥\n",
       "⎢      -b₁₂                b₁₁       ⎥\n",
       "⎢─────────────────  ─────────────────⎥\n",
       "⎣b₁₁⋅b₂₂ - b₁₂⋅b₂₁  b₁₁⋅b₂₂ - b₁₂⋅b₂₁⎦"
      ]
     },
     "execution_count": 37,
     "metadata": {},
     "output_type": "execute_result"
    }
   ],
   "source": [
    "(B.inv()).T"
   ]
  },
  {
   "cell_type": "code",
   "execution_count": 38,
   "id": "8d110f6c",
   "metadata": {},
   "outputs": [
    {
     "data": {
      "text/plain": [
       "True"
      ]
     },
     "execution_count": 38,
     "metadata": {},
     "output_type": "execute_result"
    }
   ],
   "source": [
    "(B.T).inv() == (B.inv()).T"
   ]
  },
  {
   "cell_type": "code",
   "execution_count": 45,
   "id": "68ed0b36",
   "metadata": {},
   "outputs": [
    {
     "data": {
      "text/latex": [
       "$\\displaystyle \\left[\\begin{matrix}2 & 3\\\\5 & 1\\end{matrix}\\right]$"
      ],
      "text/plain": [
       "⎡2  3⎤\n",
       "⎢    ⎥\n",
       "⎣5  1⎦"
      ]
     },
     "execution_count": 45,
     "metadata": {},
     "output_type": "execute_result"
    }
   ],
   "source": [
    "A3"
   ]
  },
  {
   "cell_type": "code",
   "execution_count": 49,
   "id": "c400c427",
   "metadata": {},
   "outputs": [
    {
     "data": {
      "text/latex": [
       "$\\displaystyle \\left[\\begin{matrix}83 & 66\\\\110 & 61\\end{matrix}\\right]$"
      ],
      "text/plain": [
       "⎡83   66⎤\n",
       "⎢       ⎥\n",
       "⎣110  61⎦"
      ]
     },
     "execution_count": 49,
     "metadata": {},
     "output_type": "execute_result"
    }
   ],
   "source": [
    "A3**3"
   ]
  },
  {
   "cell_type": "code",
   "execution_count": 48,
   "id": "69434d2e",
   "metadata": {},
   "outputs": [
    {
     "data": {
      "text/latex": [
       "$\\displaystyle \\left[\\begin{matrix}83 & 66\\\\110 & 61\\end{matrix}\\right]$"
      ],
      "text/plain": [
       "⎡83   66⎤\n",
       "⎢       ⎥\n",
       "⎣110  61⎦"
      ]
     },
     "execution_count": 48,
     "metadata": {},
     "output_type": "execute_result"
    }
   ],
   "source": [
    "A3*A3*A3"
   ]
  },
  {
   "cell_type": "markdown",
   "id": "ad6d58ef",
   "metadata": {},
   "source": [
    "$$A = \\big(A^{-1}\\big)^{-1}$$"
   ]
  },
  {
   "cell_type": "code",
   "execution_count": 52,
   "id": "a5c13987",
   "metadata": {},
   "outputs": [
    {
     "data": {
      "text/plain": [
       "True"
      ]
     },
     "execution_count": 52,
     "metadata": {},
     "output_type": "execute_result"
    }
   ],
   "source": [
    "A3 == A3.inv().inv()"
   ]
  },
  {
   "cell_type": "markdown",
   "id": "71166436",
   "metadata": {},
   "source": [
    "$$(A^n)^{-1} = (A^{-1})^n$$"
   ]
  },
  {
   "cell_type": "code",
   "execution_count": 56,
   "id": "4566a1b9",
   "metadata": {},
   "outputs": [
    {
     "data": {
      "text/latex": [
       "$\\displaystyle \\left[\\begin{matrix}- \\frac{61}{2197} & \\frac{66}{2197}\\\\\\frac{110}{2197} & - \\frac{83}{2197}\\end{matrix}\\right]$"
      ],
      "text/plain": [
       "⎡-61    66 ⎤\n",
       "⎢────  ────⎥\n",
       "⎢2197  2197⎥\n",
       "⎢          ⎥\n",
       "⎢110   -83 ⎥\n",
       "⎢────  ────⎥\n",
       "⎣2197  2197⎦"
      ]
     },
     "execution_count": 56,
     "metadata": {},
     "output_type": "execute_result"
    }
   ],
   "source": [
    "(A3**3).inv()"
   ]
  },
  {
   "cell_type": "code",
   "execution_count": 58,
   "id": "1d50daf4",
   "metadata": {},
   "outputs": [
    {
     "data": {
      "text/latex": [
       "$\\displaystyle \\left[\\begin{matrix}- \\frac{61}{2197} & \\frac{66}{2197}\\\\\\frac{110}{2197} & - \\frac{83}{2197}\\end{matrix}\\right]$"
      ],
      "text/plain": [
       "⎡-61    66 ⎤\n",
       "⎢────  ────⎥\n",
       "⎢2197  2197⎥\n",
       "⎢          ⎥\n",
       "⎢110   -83 ⎥\n",
       "⎢────  ────⎥\n",
       "⎣2197  2197⎦"
      ]
     },
     "execution_count": 58,
     "metadata": {},
     "output_type": "execute_result"
    }
   ],
   "source": [
    "(A3.inv())**3"
   ]
  },
  {
   "cell_type": "code",
   "execution_count": 59,
   "id": "b3d339ed",
   "metadata": {},
   "outputs": [
    {
     "data": {
      "text/plain": [
       "True"
      ]
     },
     "execution_count": 59,
     "metadata": {},
     "output_type": "execute_result"
    }
   ],
   "source": [
    "(A3**3).inv() == (A3.inv())**3"
   ]
  },
  {
   "cell_type": "code",
   "execution_count": 62,
   "id": "cb918298",
   "metadata": {},
   "outputs": [
    {
     "data": {
      "text/latex": [
       "$\\displaystyle \\left[\\begin{matrix}6 & 0 & 0\\\\0 & 5 & 0\\\\0 & 0 & 7\\end{matrix}\\right]$"
      ],
      "text/plain": [
       "⎡6  0  0⎤\n",
       "⎢       ⎥\n",
       "⎢0  5  0⎥\n",
       "⎢       ⎥\n",
       "⎣0  0  7⎦"
      ]
     },
     "execution_count": 62,
     "metadata": {},
     "output_type": "execute_result"
    }
   ],
   "source": [
    "C1 = sym.diag(6,5,7)\n",
    "C1"
   ]
  },
  {
   "cell_type": "code",
   "execution_count": 63,
   "id": "974b0b80",
   "metadata": {},
   "outputs": [
    {
     "data": {
      "text/latex": [
       "$\\displaystyle \\left[\\begin{matrix}6 & 0 & 0\\\\0 & 5 & 0\\\\0 & 0 & 7\\end{matrix}\\right]$"
      ],
      "text/plain": [
       "⎡6  0  0⎤\n",
       "⎢       ⎥\n",
       "⎢0  5  0⎥\n",
       "⎢       ⎥\n",
       "⎣0  0  7⎦"
      ]
     },
     "execution_count": 63,
     "metadata": {},
     "output_type": "execute_result"
    }
   ],
   "source": [
    "C1.T"
   ]
  },
  {
   "cell_type": "code",
   "execution_count": 64,
   "id": "ed706300",
   "metadata": {},
   "outputs": [
    {
     "data": {
      "text/plain": [
       "True"
      ]
     },
     "execution_count": 64,
     "metadata": {},
     "output_type": "execute_result"
    }
   ],
   "source": [
    "C1 == C1.T"
   ]
  },
  {
   "cell_type": "markdown",
   "id": "f22e691a",
   "metadata": {},
   "source": [
    "### Simétrica\n",
    "\n",
    "$$A = A^T$$"
   ]
  },
  {
   "cell_type": "markdown",
   "id": "31d40202",
   "metadata": {},
   "source": [
    "### Antisimétrica\n",
    "\n",
    "$$A= -A^T$$"
   ]
  },
  {
   "cell_type": "markdown",
   "id": "a01410fb",
   "metadata": {},
   "source": [
    "### Matriz ortogonal\n",
    "\n",
    "$$A^{-1} = A^T$$"
   ]
  },
  {
   "cell_type": "markdown",
   "id": "fc9efe4e",
   "metadata": {},
   "source": [
    "### Matriz 3x3"
   ]
  },
  {
   "cell_type": "code",
   "execution_count": 70,
   "id": "3672ef2a",
   "metadata": {},
   "outputs": [
    {
     "data": {
      "text/latex": [
       "$\\displaystyle \\left[\\begin{matrix}1 & -1 & 2\\\\3 & 0 & 5\\\\4 & 1 & 2\\end{matrix}\\right]$"
      ],
      "text/plain": [
       "⎡1  -1  2⎤\n",
       "⎢        ⎥\n",
       "⎢3  0   5⎥\n",
       "⎢        ⎥\n",
       "⎣4  1   2⎦"
      ]
     },
     "execution_count": 70,
     "metadata": {},
     "output_type": "execute_result"
    }
   ],
   "source": [
    "C33 = sym.Matrix([[1,-1,2],[3,0,5],[4,1,2]])\n",
    "C33"
   ]
  },
  {
   "cell_type": "code",
   "execution_count": 71,
   "id": "d5804b9b",
   "metadata": {},
   "outputs": [
    {
     "data": {
      "text/latex": [
       "$\\displaystyle \\left[\\begin{matrix}\\frac{5}{13} & - \\frac{4}{13} & \\frac{5}{13}\\\\- \\frac{14}{13} & \\frac{6}{13} & - \\frac{1}{13}\\\\- \\frac{3}{13} & \\frac{5}{13} & - \\frac{3}{13}\\end{matrix}\\right]$"
      ],
      "text/plain": [
       "⎡5/13   -4/13  5/13 ⎤\n",
       "⎢                   ⎥\n",
       "⎢-14                ⎥\n",
       "⎢────   6/13   -1/13⎥\n",
       "⎢ 13                ⎥\n",
       "⎢                   ⎥\n",
       "⎣-3/13  5/13   -3/13⎦"
      ]
     },
     "execution_count": 71,
     "metadata": {},
     "output_type": "execute_result"
    }
   ],
   "source": [
    "C33.inv() "
   ]
  },
  {
   "cell_type": "code",
   "execution_count": 76,
   "id": "498d908e",
   "metadata": {},
   "outputs": [
    {
     "data": {
      "text/latex": [
       "$\\displaystyle \\left[\\begin{matrix}a_{11} & a_{12} & a_{13}\\\\a_{21} & a_{22} & a_{23}\\\\a_{31} & a_{32} & a_{33}\\end{matrix}\\right]$"
      ],
      "text/plain": [
       "⎡a₁₁  a₁₂  a₁₃⎤\n",
       "⎢             ⎥\n",
       "⎢a₂₁  a₂₂  a₂₃⎥\n",
       "⎢             ⎥\n",
       "⎣a₃₁  a₃₂  a₃₃⎦"
      ]
     },
     "execution_count": 76,
     "metadata": {},
     "output_type": "execute_result"
    }
   ],
   "source": [
    "M1 = sym.Matrix([[a11,a12,a13],[a21,a22,a23],[a31,a32,a33]])\n",
    "M1"
   ]
  },
  {
   "cell_type": "code",
   "execution_count": 77,
   "id": "821c1f78",
   "metadata": {},
   "outputs": [
    {
     "data": {
      "text/latex": [
       "$\\displaystyle \\left[\\begin{matrix}\\frac{a_{22} a_{33} - a_{23} a_{32}}{a_{11} a_{22} a_{33} - a_{11} a_{23} a_{32} - a_{12} a_{21} a_{33} + a_{12} a_{23} a_{31} + a_{13} a_{21} a_{32} - a_{13} a_{22} a_{31}} & \\frac{- a_{12} a_{33} + a_{13} a_{32}}{a_{11} a_{22} a_{33} - a_{11} a_{23} a_{32} - a_{12} a_{21} a_{33} + a_{12} a_{23} a_{31} + a_{13} a_{21} a_{32} - a_{13} a_{22} a_{31}} & \\frac{a_{12} a_{23} - a_{13} a_{22}}{a_{11} a_{22} a_{33} - a_{11} a_{23} a_{32} - a_{12} a_{21} a_{33} + a_{12} a_{23} a_{31} + a_{13} a_{21} a_{32} - a_{13} a_{22} a_{31}}\\\\\\frac{- a_{21} a_{33} + a_{23} a_{31}}{a_{11} a_{22} a_{33} - a_{11} a_{23} a_{32} - a_{12} a_{21} a_{33} + a_{12} a_{23} a_{31} + a_{13} a_{21} a_{32} - a_{13} a_{22} a_{31}} & \\frac{a_{11} a_{33} - a_{13} a_{31}}{a_{11} a_{22} a_{33} - a_{11} a_{23} a_{32} - a_{12} a_{21} a_{33} + a_{12} a_{23} a_{31} + a_{13} a_{21} a_{32} - a_{13} a_{22} a_{31}} & \\frac{- a_{11} a_{23} + a_{13} a_{21}}{a_{11} a_{22} a_{33} - a_{11} a_{23} a_{32} - a_{12} a_{21} a_{33} + a_{12} a_{23} a_{31} + a_{13} a_{21} a_{32} - a_{13} a_{22} a_{31}}\\\\\\frac{a_{21} a_{32} - a_{22} a_{31}}{a_{11} a_{22} a_{33} - a_{11} a_{23} a_{32} - a_{12} a_{21} a_{33} + a_{12} a_{23} a_{31} + a_{13} a_{21} a_{32} - a_{13} a_{22} a_{31}} & \\frac{- a_{11} a_{32} + a_{12} a_{31}}{a_{11} a_{22} a_{33} - a_{11} a_{23} a_{32} - a_{12} a_{21} a_{33} + a_{12} a_{23} a_{31} + a_{13} a_{21} a_{32} - a_{13} a_{22} a_{31}} & \\frac{a_{11} a_{22} - a_{12} a_{21}}{a_{11} a_{22} a_{33} - a_{11} a_{23} a_{32} - a_{12} a_{21} a_{33} + a_{12} a_{23} a_{31} + a_{13} a_{21} a_{32} - a_{13} a_{22} a_{31}}\\end{matrix}\\right]$"
      ],
      "text/plain": [
       "⎡                                a₂₂⋅a₃₃ - a₂₃⋅a₃₂                            \n",
       "⎢─────────────────────────────────────────────────────────────────────────────\n",
       "⎢a₁₁⋅a₂₂⋅a₃₃ - a₁₁⋅a₂₃⋅a₃₂ - a₁₂⋅a₂₁⋅a₃₃ + a₁₂⋅a₂₃⋅a₃₁ + a₁₃⋅a₂₁⋅a₃₂ - a₁₃⋅a₂₂\n",
       "⎢                                                                             \n",
       "⎢                                -a₂₁⋅a₃₃ + a₂₃⋅a₃₁                           \n",
       "⎢─────────────────────────────────────────────────────────────────────────────\n",
       "⎢a₁₁⋅a₂₂⋅a₃₃ - a₁₁⋅a₂₃⋅a₃₂ - a₁₂⋅a₂₁⋅a₃₃ + a₁₂⋅a₂₃⋅a₃₁ + a₁₃⋅a₂₁⋅a₃₂ - a₁₃⋅a₂₂\n",
       "⎢                                                                             \n",
       "⎢                                a₂₁⋅a₃₂ - a₂₂⋅a₃₁                            \n",
       "⎢─────────────────────────────────────────────────────────────────────────────\n",
       "⎣a₁₁⋅a₂₂⋅a₃₃ - a₁₁⋅a₂₃⋅a₃₂ - a₁₂⋅a₂₁⋅a₃₃ + a₁₂⋅a₂₃⋅a₃₁ + a₁₃⋅a₂₁⋅a₃₂ - a₁₃⋅a₂₂\n",
       "\n",
       "                                      -a₁₂⋅a₃₃ + a₁₃⋅a₃₂                      \n",
       "────  ────────────────────────────────────────────────────────────────────────\n",
       "⋅a₃₁  a₁₁⋅a₂₂⋅a₃₃ - a₁₁⋅a₂₃⋅a₃₂ - a₁₂⋅a₂₁⋅a₃₃ + a₁₂⋅a₂₃⋅a₃₁ + a₁₃⋅a₂₁⋅a₃₂ - a₁\n",
       "                                                                              \n",
       "                                      a₁₁⋅a₃₃ - a₁₃⋅a₃₁                       \n",
       "────  ────────────────────────────────────────────────────────────────────────\n",
       "⋅a₃₁  a₁₁⋅a₂₂⋅a₃₃ - a₁₁⋅a₂₃⋅a₃₂ - a₁₂⋅a₂₁⋅a₃₃ + a₁₂⋅a₂₃⋅a₃₁ + a₁₃⋅a₂₁⋅a₃₂ - a₁\n",
       "                                                                              \n",
       "                                      -a₁₁⋅a₃₂ + a₁₂⋅a₃₁                      \n",
       "────  ────────────────────────────────────────────────────────────────────────\n",
       "⋅a₃₁  a₁₁⋅a₂₂⋅a₃₃ - a₁₁⋅a₂₃⋅a₃₂ - a₁₂⋅a₂₁⋅a₃₃ + a₁₂⋅a₂₃⋅a₃₁ + a₁₃⋅a₂₁⋅a₃₂ - a₁\n",
       "\n",
       "                                           a₁₂⋅a₂₃ - a₁₃⋅a₂₂                  \n",
       "─────────  ───────────────────────────────────────────────────────────────────\n",
       "₃⋅a₂₂⋅a₃₁  a₁₁⋅a₂₂⋅a₃₃ - a₁₁⋅a₂₃⋅a₃₂ - a₁₂⋅a₂₁⋅a₃₃ + a₁₂⋅a₂₃⋅a₃₁ + a₁₃⋅a₂₁⋅a₃₂\n",
       "                                                                              \n",
       "                                           -a₁₁⋅a₂₃ + a₁₃⋅a₂₁                 \n",
       "─────────  ───────────────────────────────────────────────────────────────────\n",
       "₃⋅a₂₂⋅a₃₁  a₁₁⋅a₂₂⋅a₃₃ - a₁₁⋅a₂₃⋅a₃₂ - a₁₂⋅a₂₁⋅a₃₃ + a₁₂⋅a₂₃⋅a₃₁ + a₁₃⋅a₂₁⋅a₃₂\n",
       "                                                                              \n",
       "                                           a₁₁⋅a₂₂ - a₁₂⋅a₂₁                  \n",
       "─────────  ───────────────────────────────────────────────────────────────────\n",
       "₃⋅a₂₂⋅a₃₁  a₁₁⋅a₂₂⋅a₃₃ - a₁₁⋅a₂₃⋅a₃₂ - a₁₂⋅a₂₁⋅a₃₃ + a₁₂⋅a₂₃⋅a₃₁ + a₁₃⋅a₂₁⋅a₃₂\n",
       "\n",
       "              ⎤\n",
       "──────────────⎥\n",
       " - a₁₃⋅a₂₂⋅a₃₁⎥\n",
       "              ⎥\n",
       "              ⎥\n",
       "──────────────⎥\n",
       " - a₁₃⋅a₂₂⋅a₃₁⎥\n",
       "              ⎥\n",
       "              ⎥\n",
       "──────────────⎥\n",
       " - a₁₃⋅a₂₂⋅a₃₁⎦"
      ]
     },
     "execution_count": 77,
     "metadata": {},
     "output_type": "execute_result"
    }
   ],
   "source": [
    "M1.inv()"
   ]
  },
  {
   "cell_type": "code",
   "execution_count": 80,
   "id": "5b2ec962",
   "metadata": {},
   "outputs": [],
   "source": [
    "?M1.rref"
   ]
  },
  {
   "cell_type": "code",
   "execution_count": null,
   "id": "14288c7b",
   "metadata": {},
   "outputs": [],
   "source": []
  }
 ],
 "metadata": {
  "kernelspec": {
   "display_name": "Python 3 (ipykernel)",
   "language": "python",
   "name": "python3"
  },
  "language_info": {
   "codemirror_mode": {
    "name": "ipython",
    "version": 3
   },
   "file_extension": ".py",
   "mimetype": "text/x-python",
   "name": "python",
   "nbconvert_exporter": "python",
   "pygments_lexer": "ipython3",
   "version": "3.11.7"
  }
 },
 "nbformat": 4,
 "nbformat_minor": 5
}
