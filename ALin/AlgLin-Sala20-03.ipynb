{
 "cells": [
  {
   "cell_type": "code",
   "execution_count": 6,
   "id": "73a00bc7",
   "metadata": {},
   "outputs": [],
   "source": [
    "import sympy as sym\n",
    "from sympy import pprint"
   ]
  },
  {
   "cell_type": "code",
   "execution_count": 2,
   "id": "c80d9383",
   "metadata": {},
   "outputs": [],
   "source": [
    "sym.init_printing(\"mathjax\")"
   ]
  },
  {
   "cell_type": "code",
   "execution_count": 10,
   "id": "b593e421",
   "metadata": {},
   "outputs": [
    {
     "data": {
      "text/latex": [
       "$\\displaystyle \\left[\\begin{matrix}1 & 2 & 3\\\\2 & 5 & 3\\\\1 & 0 & 8\\end{matrix}\\right]$"
      ],
      "text/plain": [
       "⎡1  2  3⎤\n",
       "⎢       ⎥\n",
       "⎢2  5  3⎥\n",
       "⎢       ⎥\n",
       "⎣1  0  8⎦"
      ]
     },
     "execution_count": 10,
     "metadata": {},
     "output_type": "execute_result"
    }
   ],
   "source": [
    "A = sym.Matrix([[1,2,3],[2,5,3],[1,0,8]])\n",
    "A"
   ]
  },
  {
   "cell_type": "code",
   "execution_count": 12,
   "id": "9d80a97a",
   "metadata": {},
   "outputs": [
    {
     "data": {
      "text/latex": [
       "$\\displaystyle \\left[\\begin{matrix}-40 & 16 & 9\\\\13 & -5 & -3\\\\5 & -2 & -1\\end{matrix}\\right]$"
      ],
      "text/plain": [
       "⎡-40  16  9 ⎤\n",
       "⎢           ⎥\n",
       "⎢13   -5  -3⎥\n",
       "⎢           ⎥\n",
       "⎣ 5   -2  -1⎦"
      ]
     },
     "execution_count": 12,
     "metadata": {},
     "output_type": "execute_result"
    }
   ],
   "source": [
    "A.inv()"
   ]
  },
  {
   "cell_type": "code",
   "execution_count": 13,
   "id": "157ec1e6",
   "metadata": {},
   "outputs": [
    {
     "data": {
      "text/latex": [
       "$\\displaystyle \\left[\\begin{matrix}1 & 0 & 0\\\\0 & 1 & 0\\\\0 & 0 & 1\\end{matrix}\\right]$"
      ],
      "text/plain": [
       "⎡1  0  0⎤\n",
       "⎢       ⎥\n",
       "⎢0  1  0⎥\n",
       "⎢       ⎥\n",
       "⎣0  0  1⎦"
      ]
     },
     "execution_count": 13,
     "metadata": {},
     "output_type": "execute_result"
    }
   ],
   "source": [
    "A*A.inv()"
   ]
  },
  {
   "cell_type": "code",
   "execution_count": 16,
   "id": "60a18724",
   "metadata": {},
   "outputs": [],
   "source": [
    "a11,a12,a21,a22 = sym.symbols(\"a11 a12 a21 a22\")\n",
    "A = sym.Matrix([[a11,a12],[a21,a22]])"
   ]
  },
  {
   "cell_type": "code",
   "execution_count": 18,
   "id": "e9e1c105",
   "metadata": {},
   "outputs": [
    {
     "data": {
      "image/png": "[encoded data removed]",
      "text/latex": [
       "$\\displaystyle a_{11} a_{22} - a_{12} a_{21}$"
      ],
      "text/plain": [
       "a₁₁⋅a₂₂ - a₁₂⋅a₂₁"
      ]
     },
     "execution_count": 18,
     "metadata": {},
     "output_type": "execute_result"
    }
   ],
   "source": [
    "A.det()"
   ]
  },
  {
   "cell_type": "code",
   "execution_count": 19,
   "id": "e3b9649a",
   "metadata": {},
   "outputs": [],
   "source": [
    "?sym.laplace_transform"
   ]
  },
  {
   "cell_type": "code",
   "execution_count": 23,
   "id": "4ca2f579",
   "metadata": {},
   "outputs": [
    {
     "data": {
      "image/png": "[encoded data removed]",
      "text/latex": [
       "$\\displaystyle 0$"
      ],
      "text/plain": [
       "0"
      ]
     },
     "execution_count": 23,
     "metadata": {},
     "output_type": "execute_result"
    }
   ],
   "source": [
    "B = sym.Matrix([[1,2,4],[4,5,6],[1,2,4]])\n",
    "B.det()"
   ]
  },
  {
   "cell_type": "code",
   "execution_count": 22,
   "id": "1d428625",
   "metadata": {},
   "outputs": [
    {
     "data": {
      "image/png": "[encoded data removed]",
      "text/latex": [
       "$\\displaystyle 0$"
      ],
      "text/plain": [
       "0"
      ]
     },
     "execution_count": 22,
     "metadata": {},
     "output_type": "execute_result"
    }
   ],
   "source": [
    "C = sym.Matrix([[1,2,3],[3,4,5],[0,0,0]])\n",
    "C.det()"
   ]
  },
  {
   "cell_type": "code",
   "execution_count": 31,
   "id": "f9667c25",
   "metadata": {},
   "outputs": [
    {
     "ename": "NonInvertibleMatrixError",
     "evalue": "Matrix det == 0; not invertible.",
     "output_type": "error",
     "traceback": [
      "\u001b[0;31m---------------------------------------------------------------------------\u001b[0m",
      "\u001b[0;31mNonInvertibleMatrixError\u001b[0m                  Traceback (most recent call last)",
      "Cell \u001b[0;32mIn[31], line 1\u001b[0m\n\u001b[0;32m----> 1\u001b[0m C\u001b[38;5;241m.\u001b[39minv()\n",
      "File \u001b[0;32m~/anaconda3/lib/python3.11/site-packages/sympy/matrices/matrices.py:2177\u001b[0m, in \u001b[0;36mMatrixBase.inv\u001b[0;34m(self, method, iszerofunc, try_block_diag)\u001b[0m\n\u001b[1;32m   2176\u001b[0m \u001b[38;5;28;01mdef\u001b[39;00m \u001b[38;5;21minv\u001b[39m(\u001b[38;5;28mself\u001b[39m, method\u001b[38;5;241m=\u001b[39m\u001b[38;5;28;01mNone\u001b[39;00m, iszerofunc\u001b[38;5;241m=\u001b[39m_iszero, try_block_diag\u001b[38;5;241m=\u001b[39m\u001b[38;5;28;01mFalse\u001b[39;00m):\n\u001b[0;32m-> 2177\u001b[0m     \u001b[38;5;28;01mreturn\u001b[39;00m _inv(\u001b[38;5;28mself\u001b[39m, method\u001b[38;5;241m=\u001b[39mmethod, iszerofunc\u001b[38;5;241m=\u001b[39miszerofunc,\n\u001b[1;32m   2178\u001b[0m             try_block_diag\u001b[38;5;241m=\u001b[39mtry_block_diag)\n",
      "File \u001b[0;32m~/anaconda3/lib/python3.11/site-packages/sympy/matrices/inverse.py:459\u001b[0m, in \u001b[0;36m_inv\u001b[0;34m(M, method, iszerofunc, try_block_diag)\u001b[0m\n\u001b[1;32m    456\u001b[0m     \u001b[38;5;28;01mreturn\u001b[39;00m diag(\u001b[38;5;241m*\u001b[39mr)\n\u001b[1;32m    458\u001b[0m \u001b[38;5;28;01mif\u001b[39;00m method \u001b[38;5;241m==\u001b[39m \u001b[38;5;124m\"\u001b[39m\u001b[38;5;124mGE\u001b[39m\u001b[38;5;124m\"\u001b[39m:\n\u001b[0;32m--> 459\u001b[0m     rv \u001b[38;5;241m=\u001b[39m M\u001b[38;5;241m.\u001b[39minverse_GE(iszerofunc\u001b[38;5;241m=\u001b[39miszerofunc)\n\u001b[1;32m    460\u001b[0m \u001b[38;5;28;01melif\u001b[39;00m method \u001b[38;5;241m==\u001b[39m \u001b[38;5;124m\"\u001b[39m\u001b[38;5;124mLU\u001b[39m\u001b[38;5;124m\"\u001b[39m:\n\u001b[1;32m    461\u001b[0m     rv \u001b[38;5;241m=\u001b[39m M\u001b[38;5;241m.\u001b[39minverse_LU(iszerofunc\u001b[38;5;241m=\u001b[39miszerofunc)\n",
      "File \u001b[0;32m~/anaconda3/lib/python3.11/site-packages/sympy/matrices/matrices.py:2162\u001b[0m, in \u001b[0;36mMatrixBase.inverse_GE\u001b[0;34m(self, iszerofunc)\u001b[0m\n\u001b[1;32m   2161\u001b[0m \u001b[38;5;28;01mdef\u001b[39;00m \u001b[38;5;21minverse_GE\u001b[39m(\u001b[38;5;28mself\u001b[39m, iszerofunc\u001b[38;5;241m=\u001b[39m_iszero):\n\u001b[0;32m-> 2162\u001b[0m     \u001b[38;5;28;01mreturn\u001b[39;00m _inv_GE(\u001b[38;5;28mself\u001b[39m, iszerofunc\u001b[38;5;241m=\u001b[39miszerofunc)\n",
      "File \u001b[0;32m~/anaconda3/lib/python3.11/site-packages/sympy/matrices/inverse.py:245\u001b[0m, in \u001b[0;36m_inv_GE\u001b[0;34m(M, iszerofunc)\u001b[0m\n\u001b[1;32m    242\u001b[0m red \u001b[38;5;241m=\u001b[39m big\u001b[38;5;241m.\u001b[39mrref(iszerofunc\u001b[38;5;241m=\u001b[39miszerofunc, simplify\u001b[38;5;241m=\u001b[39m\u001b[38;5;28;01mTrue\u001b[39;00m)[\u001b[38;5;241m0\u001b[39m]\n\u001b[1;32m    244\u001b[0m \u001b[38;5;28;01mif\u001b[39;00m \u001b[38;5;28many\u001b[39m(iszerofunc(red[j, j]) \u001b[38;5;28;01mfor\u001b[39;00m j \u001b[38;5;129;01min\u001b[39;00m \u001b[38;5;28mrange\u001b[39m(red\u001b[38;5;241m.\u001b[39mrows)):\n\u001b[0;32m--> 245\u001b[0m     \u001b[38;5;28;01mraise\u001b[39;00m NonInvertibleMatrixError(\u001b[38;5;124m\"\u001b[39m\u001b[38;5;124mMatrix det == 0; not invertible.\u001b[39m\u001b[38;5;124m\"\u001b[39m)\n\u001b[1;32m    247\u001b[0m \u001b[38;5;28;01mreturn\u001b[39;00m M\u001b[38;5;241m.\u001b[39m_new(red[:, big\u001b[38;5;241m.\u001b[39mrows:])\n",
      "\u001b[0;31mNonInvertibleMatrixError\u001b[0m: Matrix det == 0; not invertible."
     ]
    }
   ],
   "source": [
    "C.inv()"
   ]
  },
  {
   "cell_type": "code",
   "execution_count": 25,
   "id": "bb1d9ad0",
   "metadata": {},
   "outputs": [
    {
     "data": {
      "text/latex": [
       "$\\displaystyle \\left[\\begin{matrix}1 & 0 & 0 & 0 & 0\\\\0 & 2 & 0 & 0 & 0\\\\0 & 0 & 3 & 0 & 0\\\\0 & 0 & 0 & 4 & 0\\\\0 & 0 & 0 & 0 & 5\\end{matrix}\\right]$"
      ],
      "text/plain": [
       "⎡1  0  0  0  0⎤\n",
       "⎢             ⎥\n",
       "⎢0  2  0  0  0⎥\n",
       "⎢             ⎥\n",
       "⎢0  0  3  0  0⎥\n",
       "⎢             ⎥\n",
       "⎢0  0  0  4  0⎥\n",
       "⎢             ⎥\n",
       "⎣0  0  0  0  5⎦"
      ]
     },
     "execution_count": 25,
     "metadata": {},
     "output_type": "execute_result"
    }
   ],
   "source": [
    "D = sym.diag(1,2,3,4,5)\n",
    "D"
   ]
  },
  {
   "cell_type": "code",
   "execution_count": 26,
   "id": "0b6ca4c1",
   "metadata": {},
   "outputs": [
    {
     "data": {
      "image/png": "[encoded data removed]",
      "text/latex": [
       "$\\displaystyle 120$"
      ],
      "text/plain": [
       "120"
      ]
     },
     "execution_count": 26,
     "metadata": {},
     "output_type": "execute_result"
    }
   ],
   "source": [
    "D.det()"
   ]
  },
  {
   "cell_type": "code",
   "execution_count": 28,
   "id": "cf170add",
   "metadata": {},
   "outputs": [],
   "source": [
    "D = sym.Matrix([[2,2,4],[4,5,6],[1,2,4]])\n",
    "E = sym.Matrix([[1,2,4],[4,5,6],[2,2,4]])"
   ]
  },
  {
   "cell_type": "code",
   "execution_count": 29,
   "id": "d5b2a041",
   "metadata": {},
   "outputs": [
    {
     "data": {
      "image/png": "[encoded data removed]",
      "text/latex": [
       "$\\displaystyle 8$"
      ],
      "text/plain": [
       "8"
      ]
     },
     "execution_count": 29,
     "metadata": {},
     "output_type": "execute_result"
    }
   ],
   "source": [
    "D.det()"
   ]
  },
  {
   "cell_type": "code",
   "execution_count": 30,
   "id": "c3147b0b",
   "metadata": {},
   "outputs": [
    {
     "data": {
      "image/png": "[encoded data removed]",
      "text/latex": [
       "$\\displaystyle -8$"
      ],
      "text/plain": [
       "-8"
      ]
     },
     "execution_count": 30,
     "metadata": {},
     "output_type": "execute_result"
    }
   ],
   "source": [
    "E.det()"
   ]
  },
  {
   "cell_type": "code",
   "execution_count": 34,
   "id": "6b797143",
   "metadata": {},
   "outputs": [],
   "source": [
    "S1 = sym.diag(2,7,-(sym.pi),sym.sqrt(3),-10)"
   ]
  },
  {
   "cell_type": "code",
   "execution_count": 35,
   "id": "c4a5b88d",
   "metadata": {},
   "outputs": [
    {
     "data": {
      "text/latex": [
       "$\\displaystyle \\left[\\begin{matrix}\\frac{1}{2} & 0 & 0 & 0 & 0\\\\0 & \\frac{1}{7} & 0 & 0 & 0\\\\0 & 0 & - \\frac{1}{\\pi} & 0 & 0\\\\0 & 0 & 0 & \\frac{\\sqrt{3}}{3} & 0\\\\0 & 0 & 0 & 0 & - \\frac{1}{10}\\end{matrix}\\right]$"
      ],
      "text/plain": [
       "⎡1/2   0    0   0     0  ⎤\n",
       "⎢                        ⎥\n",
       "⎢ 0   1/7   0   0     0  ⎥\n",
       "⎢                        ⎥\n",
       "⎢          -1            ⎥\n",
       "⎢ 0    0   ───  0     0  ⎥\n",
       "⎢           π            ⎥\n",
       "⎢                        ⎥\n",
       "⎢               √3       ⎥\n",
       "⎢ 0    0    0   ──    0  ⎥\n",
       "⎢               3        ⎥\n",
       "⎢                        ⎥\n",
       "⎣ 0    0    0   0   -1/10⎦"
      ]
     },
     "execution_count": 35,
     "metadata": {},
     "output_type": "execute_result"
    }
   ],
   "source": [
    "S1.inv()"
   ]
  },
  {
   "cell_type": "markdown",
   "id": "ade954e2",
   "metadata": {},
   "source": [
    "$$A_n \\det(KA)= K^n \\det A$$\n",
    "\n",
    "\n",
    "Isso é quando é multiplicado a matriz toda, ou seja, a matriz vezes o escalar."
   ]
  },
  {
   "cell_type": "code",
   "execution_count": null,
   "id": "96f3fd48",
   "metadata": {},
   "outputs": [],
   "source": []
  }
 ],
 "metadata": {
  "kernelspec": {
   "display_name": "Python 3 (ipykernel)",
   "language": "python",
   "name": "python3"
  },
  "language_info": {
   "codemirror_mode": {
    "name": "ipython",
    "version": 3
   },
   "file_extension": ".py",
   "mimetype": "text/x-python",
   "name": "python",
   "nbconvert_exporter": "python",
   "pygments_lexer": "ipython3",
   "version": "3.11.7"
  }
 },
 "nbformat": 4,
 "nbformat_minor": 5
}
