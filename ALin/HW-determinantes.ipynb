{
 "cells": [
  {
   "cell_type": "markdown",
   "id": "a097896c",
   "metadata": {},
   "source": [
    "# Lista de Exercícios sobre Determinantes"
   ]
  },
  {
   "cell_type": "markdown",
   "id": "a3097f58",
   "metadata": {},
   "source": [
    "## 3\n",
    "\n",
    "Calcule $\\det \\begin{bmatrix} 2&0&-1\\\\ 3&0&2 \\\\ 4&-3&7\\end{bmatrix}$\n",
    "\n",
    "- Pela definição\n",
    "- em relação à segunda coluna, usando o desenvolvimento de Laplace"
   ]
  },
  {
   "cell_type": "code",
   "execution_count": 1,
   "id": "d648ca98",
   "metadata": {},
   "outputs": [],
   "source": [
    "import sympy as sym"
   ]
  },
  {
   "cell_type": "code",
   "execution_count": 2,
   "id": "ad1b823a",
   "metadata": {},
   "outputs": [
    {
     "data": {
      "text/latex": [
       "$\\displaystyle \\left[\\begin{matrix}2 & 0 & -1\\\\3 & 0 & 2\\\\4 & -3 & 7\\end{matrix}\\right]$"
      ],
      "text/plain": [
       "Matrix([\n",
       "[2,  0, -1],\n",
       "[3,  0,  2],\n",
       "[4, -3,  7]])"
      ]
     },
     "execution_count": 2,
     "metadata": {},
     "output_type": "execute_result"
    }
   ],
   "source": [
    "A1 = sym.Matrix([[2,0,-1],[3,0,2],[4,-3,7]])\n",
    "A1"
   ]
  },
  {
   "cell_type": "code",
   "execution_count": 3,
   "id": "0ce1f3b5",
   "metadata": {},
   "outputs": [
    {
     "data": {
      "text/latex": [
       "$\\displaystyle 21$"
      ],
      "text/plain": [
       "21"
      ]
     },
     "execution_count": 3,
     "metadata": {},
     "output_type": "execute_result"
    }
   ],
   "source": [
    "A1.det()"
   ]
  },
  {
   "cell_type": "markdown",
   "id": "647bd460",
   "metadata": {},
   "source": [
    "$$\\begin{bmatrix} 2&0&-1& \\vdots &2&0 \\\\ 3&0&2&\\vdots&3&0 \\\\4&-3&7&\\vdots&4&-3\\end{bmatrix}$$\n",
    "\n",
    "$$0+0+9+0+12-0 = 21$$"
   ]
  },
  {
   "cell_type": "markdown",
   "id": "90cdfca9",
   "metadata": {},
   "source": [
    "Laplace\n",
    "\n",
    "\n",
    "$$(-1)^{3+2}\\times (-3) \\det \\begin{bmatrix}2&-1\\\\3&2  \\end{bmatrix}$$\n",
    "\n",
    "$$-1 \\times (-3)((2\\times 2) - (-1 \\times 3))$$\n",
    "\n",
    "$$-1(-3)\\times 7= 21$$"
   ]
  },
  {
   "cell_type": "markdown",
   "id": "bd6f9966",
   "metadata": {},
   "source": [
    "## 4\n",
    "\n",
    "Dadas as matrizes $A=\\begin{bmatrix} 1&2\\\\1&0 \\end{bmatrix}$ e $B=\\begin{bmatrix} 3&-1\\\\0&1 \\end{bmatrix}$, calcule:\n",
    "\n",
    "- $\\det A + \\det B$\n",
    "- $\\det(A+B)$"
   ]
  },
  {
   "cell_type": "code",
   "execution_count": 4,
   "id": "27d5318b",
   "metadata": {},
   "outputs": [],
   "source": [
    "A2 = sym.Matrix([[1,2],[1,0]])\n",
    "B2 = sym.Matrix([[3,-1],[0,1]])"
   ]
  },
  {
   "cell_type": "code",
   "execution_count": 5,
   "id": "999b9a5e",
   "metadata": {},
   "outputs": [
    {
     "data": {
      "text/latex": [
       "$\\displaystyle \\left[\\begin{matrix}1 & 2\\\\1 & 0\\end{matrix}\\right]$"
      ],
      "text/plain": [
       "Matrix([\n",
       "[1, 2],\n",
       "[1, 0]])"
      ]
     },
     "execution_count": 5,
     "metadata": {},
     "output_type": "execute_result"
    }
   ],
   "source": [
    "A2"
   ]
  },
  {
   "cell_type": "code",
   "execution_count": 6,
   "id": "9d7c429e",
   "metadata": {},
   "outputs": [
    {
     "data": {
      "text/latex": [
       "$\\displaystyle \\left[\\begin{matrix}3 & -1\\\\0 & 1\\end{matrix}\\right]$"
      ],
      "text/plain": [
       "Matrix([\n",
       "[3, -1],\n",
       "[0,  1]])"
      ]
     },
     "execution_count": 6,
     "metadata": {},
     "output_type": "execute_result"
    }
   ],
   "source": [
    "B2"
   ]
  },
  {
   "cell_type": "code",
   "execution_count": 7,
   "id": "5abff024",
   "metadata": {},
   "outputs": [
    {
     "data": {
      "text/plain": [
       "False"
      ]
     },
     "execution_count": 7,
     "metadata": {},
     "output_type": "execute_result"
    }
   ],
   "source": [
    "A2.det() + B2.det() == (A2+B2).det()"
   ]
  },
  {
   "cell_type": "code",
   "execution_count": 8,
   "id": "dfeb0b19",
   "metadata": {},
   "outputs": [
    {
     "data": {
      "text/latex": [
       "$\\displaystyle 1$"
      ],
      "text/plain": [
       "1"
      ]
     },
     "execution_count": 8,
     "metadata": {},
     "output_type": "execute_result"
    }
   ],
   "source": [
    "A2.det()+B2.det()"
   ]
  },
  {
   "cell_type": "code",
   "execution_count": 9,
   "id": "402d9a54",
   "metadata": {},
   "outputs": [
    {
     "data": {
      "text/latex": [
       "$\\displaystyle 3$"
      ],
      "text/plain": [
       "3"
      ]
     },
     "execution_count": 9,
     "metadata": {},
     "output_type": "execute_result"
    }
   ],
   "source": [
    "(A2+B2).det()"
   ]
  },
  {
   "cell_type": "markdown",
   "id": "245e33cf",
   "metadata": {},
   "source": [
    "Det A\n",
    "$$(1\\times 0) - (2\\times 1) = -2$$\n",
    "\n",
    "\n",
    "Det B\n",
    "\n",
    "$$(3\\times 1) - (-1 \\times 0 )=3$$\n",
    "\n",
    "\n",
    "Det A + Det B\n",
    "$$-2+3=1$$"
   ]
  },
  {
   "cell_type": "markdown",
   "id": "445f8bad",
   "metadata": {},
   "source": [
    "Det (A+B)\n",
    "\n",
    "$$\\begin{bmatrix} 1+3 & 2-1\\\\1+0&0+1 \\end{bmatrix}$$\n",
    "\n",
    "$$\\begin{bmatrix} 4&1\\\\1&1 \\end{bmatrix}$$\n",
    "\n",
    "\n",
    "Det \n",
    "$$(4\\times 1) - (1 \\times 1) = 3$$"
   ]
  },
  {
   "cell_type": "markdown",
   "id": "984a2bb3",
   "metadata": {},
   "source": [
    "## 5\n",
    "\n",
    "Sejam A e B matrizes do tipo $n\\times n$. Verifique se as colocações abaixo são verdadeiras ou falsas.\n",
    "- $\\det(AB) = \\det(BA)$\n",
    "- $\\det(A^T)=\\det A$\n",
    "- $\\det(2A) = 2 \\det A$\n",
    "- $\\det(A^2) = (\\det A)^2$\n",
    "- $\\det A_{ij} < \\det A$\n",
    "- Se A é uma matriz 3x3, então $a_{11}\\Delta_{11}+a_{12}\\Delta_{12}+a_{13}\\Delta_{13 }= a_{21}\\Delta_{21}+a_{22}\\Delta_{22}+a_{23}\\Delta_{23}$"
   ]
  },
  {
   "cell_type": "code",
   "execution_count": 10,
   "id": "fe5e3d7f",
   "metadata": {},
   "outputs": [],
   "source": [
    "a11,a12,a21,a22 ,b11,b12,b21,b22 = sym.symbols(\"a11 a12 a21 a22 b11 b12 b21 b22\")"
   ]
  },
  {
   "cell_type": "code",
   "execution_count": 11,
   "id": "a9c13969",
   "metadata": {},
   "outputs": [
    {
     "data": {
      "text/latex": [
       "$\\displaystyle \\left[\\begin{matrix}a_{11} & a_{12}\\\\a_{21} & a_{22}\\end{matrix}\\right]$"
      ],
      "text/plain": [
       "Matrix([\n",
       "[a11, a12],\n",
       "[a21, a22]])"
      ]
     },
     "execution_count": 11,
     "metadata": {},
     "output_type": "execute_result"
    }
   ],
   "source": [
    "A5 = sym.Matrix([[a11,a12],[a21,a22]])\n",
    "A5"
   ]
  },
  {
   "cell_type": "code",
   "execution_count": 12,
   "id": "eece0a97",
   "metadata": {},
   "outputs": [
    {
     "data": {
      "text/latex": [
       "$\\displaystyle \\left[\\begin{matrix}b_{11} & b_{12}\\\\b_{21} & b_{22}\\end{matrix}\\right]$"
      ],
      "text/plain": [
       "Matrix([\n",
       "[b11, b12],\n",
       "[b21, b22]])"
      ]
     },
     "execution_count": 12,
     "metadata": {},
     "output_type": "execute_result"
    }
   ],
   "source": [
    "B5 = sym.Matrix([[b11,b12],[b21,b22]])\n",
    "B5"
   ]
  },
  {
   "cell_type": "markdown",
   "id": "a7acc77b",
   "metadata": {},
   "source": [
    "$$\\det(AB)=\\det(BA)$$"
   ]
  },
  {
   "cell_type": "code",
   "execution_count": 13,
   "id": "25117ddd",
   "metadata": {},
   "outputs": [
    {
     "data": {
      "text/plain": [
       "True"
      ]
     },
     "execution_count": 13,
     "metadata": {},
     "output_type": "execute_result"
    }
   ],
   "source": [
    "(A5*B5).det() == (B5*A5).det()"
   ]
  },
  {
   "cell_type": "markdown",
   "id": "021f08bf",
   "metadata": {},
   "source": [
    "Resposta: Verdadeiro"
   ]
  },
  {
   "cell_type": "markdown",
   "id": "da36d4a4",
   "metadata": {},
   "source": [
    "$$\\det(A^T)=\\det A$$"
   ]
  },
  {
   "cell_type": "code",
   "execution_count": 14,
   "id": "5cecfb42",
   "metadata": {},
   "outputs": [
    {
     "data": {
      "text/plain": [
       "True"
      ]
     },
     "execution_count": 14,
     "metadata": {},
     "output_type": "execute_result"
    }
   ],
   "source": [
    "(A5.T).det() == A5.det()"
   ]
  },
  {
   "cell_type": "markdown",
   "id": "20f610f1",
   "metadata": {},
   "source": [
    "Resposta: Verdadeiro"
   ]
  },
  {
   "cell_type": "markdown",
   "id": "0fb1a9bb",
   "metadata": {},
   "source": [
    "$$\\det (2A) = 2 \\det A$$"
   ]
  },
  {
   "cell_type": "code",
   "execution_count": 15,
   "id": "f0079a21",
   "metadata": {},
   "outputs": [
    {
     "data": {
      "text/plain": [
       "False"
      ]
     },
     "execution_count": 15,
     "metadata": {},
     "output_type": "execute_result"
    }
   ],
   "source": [
    "(2*A5).det() == 2*A5.det()"
   ]
  },
  {
   "cell_type": "code",
   "execution_count": 16,
   "id": "29e46198",
   "metadata": {},
   "outputs": [
    {
     "data": {
      "text/latex": [
       "$\\displaystyle 4 a_{11} a_{22} - 4 a_{12} a_{21}$"
      ],
      "text/plain": [
       "4*a11*a22 - 4*a12*a21"
      ]
     },
     "execution_count": 16,
     "metadata": {},
     "output_type": "execute_result"
    }
   ],
   "source": [
    "(2*A5).det()"
   ]
  },
  {
   "cell_type": "code",
   "execution_count": 17,
   "id": "04fb3995",
   "metadata": {},
   "outputs": [
    {
     "data": {
      "text/latex": [
       "$\\displaystyle 2 a_{11} a_{22} - 2 a_{12} a_{21}$"
      ],
      "text/plain": [
       "2*a11*a22 - 2*a12*a21"
      ]
     },
     "execution_count": 17,
     "metadata": {},
     "output_type": "execute_result"
    }
   ],
   "source": [
    "2*(A5.det())"
   ]
  },
  {
   "cell_type": "markdown",
   "id": "addad742",
   "metadata": {},
   "source": [
    "Resposta: Falso"
   ]
  },
  {
   "cell_type": "markdown",
   "id": "43b005a3",
   "metadata": {},
   "source": [
    "$$\\det (A^2) = (\\det A)^2$$"
   ]
  },
  {
   "cell_type": "code",
   "execution_count": 18,
   "id": "f8e77868",
   "metadata": {},
   "outputs": [
    {
     "data": {
      "text/latex": [
       "$\\displaystyle a_{11}^{2} a_{22}^{2} - 2 a_{11} a_{12} a_{21} a_{22} + a_{12}^{2} a_{21}^{2}$"
      ],
      "text/plain": [
       "a11**2*a22**2 - 2*a11*a12*a21*a22 + a12**2*a21**2"
      ]
     },
     "execution_count": 18,
     "metadata": {},
     "output_type": "execute_result"
    }
   ],
   "source": [
    "C1 =(A5**2).det()\n",
    "C1"
   ]
  },
  {
   "cell_type": "code",
   "execution_count": 19,
   "id": "6eb89e6d",
   "metadata": {},
   "outputs": [
    {
     "data": {
      "text/latex": [
       "$\\displaystyle \\left(a_{11} a_{22} - a_{12} a_{21}\\right)^{2}$"
      ],
      "text/plain": [
       "(a11*a22 - a12*a21)**2"
      ]
     },
     "execution_count": 19,
     "metadata": {},
     "output_type": "execute_result"
    }
   ],
   "source": [
    "C2 = (A5.det())**2\n",
    "C2"
   ]
  },
  {
   "cell_type": "code",
   "execution_count": 20,
   "id": "e911e86a",
   "metadata": {},
   "outputs": [
    {
     "data": {
      "text/latex": [
       "$\\displaystyle a_{11}^{2} a_{22}^{2} - 2 a_{11} a_{12} a_{21} a_{22} + a_{12}^{2} a_{21}^{2}$"
      ],
      "text/plain": [
       "a11**2*a22**2 - 2*a11*a12*a21*a22 + a12**2*a21**2"
      ]
     },
     "execution_count": 20,
     "metadata": {},
     "output_type": "execute_result"
    }
   ],
   "source": [
    "sym.expand(C2)"
   ]
  },
  {
   "cell_type": "code",
   "execution_count": 21,
   "id": "5b096f28",
   "metadata": {},
   "outputs": [
    {
     "data": {
      "text/plain": [
       "True"
      ]
     },
     "execution_count": 21,
     "metadata": {},
     "output_type": "execute_result"
    }
   ],
   "source": [
    "C1 == sym.expand(C2)"
   ]
  },
  {
   "cell_type": "markdown",
   "id": "1a34333e",
   "metadata": {},
   "source": [
    "Resposta : Verdadeiro"
   ]
  },
  {
   "cell_type": "markdown",
   "id": "b588e36b",
   "metadata": {},
   "source": [
    "$$\\det A_{ij} < \\det A$$"
   ]
  },
  {
   "cell_type": "code",
   "execution_count": null,
   "id": "83b9ad12",
   "metadata": {},
   "outputs": [],
   "source": []
  },
  {
   "cell_type": "markdown",
   "id": "dac74937",
   "metadata": {},
   "source": [
    "Se $A$ é uma matriz de 3x3, então:\n",
    "\n",
    "\n",
    "$a_{11}\\Delta_{11}+a_{12}\\Delta_{12}+a_{13}\\Delta_{13 }= a_{21}\\Delta_{21}+a_{22}\\Delta_{22}+a_{23}\\Delta_{23}$"
   ]
  },
  {
   "cell_type": "code",
   "execution_count": null,
   "id": "979a9bcd",
   "metadata": {},
   "outputs": [],
   "source": []
  },
  {
   "cell_type": "markdown",
   "id": "2b9cbb64",
   "metadata": {},
   "source": [
    "## 6\n",
    "\n",
    "\n",
    "Dada  $A = \\begin{bmatrix}2&3&1&-2\\\\5&3&1&4\\\\0&1&2&2\\\\3&-1&-2&4 \\end{bmatrix}$  \n",
    "\n",
    "\n",
    "Calcule:\n",
    "- $A_{23}$\n",
    "- $|A_{23}|$\n",
    "- $\\Delta_{23}$\n",
    "- $\\det A$"
   ]
  },
  {
   "cell_type": "code",
   "execution_count": null,
   "id": "9489f24a",
   "metadata": {},
   "outputs": [],
   "source": []
  },
  {
   "cell_type": "markdown",
   "id": "2e72e602",
   "metadata": {},
   "source": [
    "## 8\n",
    "\n",
    "Calcule $\\det A$ onde A:\n",
    "\n",
    "a) $\\begin{bmatrix}3&-1&5&0\\\\0&2&0&1\\\\2&0&-1&3\\\\1&1&2&0 \\end{bmatrix}$\n",
    "\n",
    "\n",
    "\n",
    "b) $\\begin{bmatrix}3&0&0&0&0\\\\19&18&0&0&0\\\\-6&\\pi&-5&0&0\\\\4&\\sqrt2&\\sqrt3&0&0\\\\8&3&5&6&-1\\end{bmatrix}$\n",
    "\n",
    "\n",
    "c) $\\begin{bmatrix}i&3&2&-i\\\\3&-i&1&i\\\\2&1&-1&0\\\\-i&i&0&1 \\end{bmatrix}$"
   ]
  },
  {
   "cell_type": "markdown",
   "id": "b418428c",
   "metadata": {},
   "source": [
    "a) $$\\begin{bmatrix}3&-1&5&0\\\\0&2&0&1\\\\2&0&-1&3\\\\1&1&2&0 \\end{bmatrix}$$"
   ]
  },
  {
   "cell_type": "code",
   "execution_count": 22,
   "id": "dc40aa2a",
   "metadata": {},
   "outputs": [
    {
     "data": {
      "text/latex": [
       "$\\displaystyle \\left[\\begin{matrix}3 & -1 & 5 & 0\\\\0 & 2 & 0 & 1\\\\2 & 0 & -1 & 3\\\\1 & 1 & 2 & 0\\end{matrix}\\right]$"
      ],
      "text/plain": [
       "Matrix([\n",
       "[3, -1,  5, 0],\n",
       "[0,  2,  0, 1],\n",
       "[2,  0, -1, 3],\n",
       "[1,  1,  2, 0]])"
      ]
     },
     "execution_count": 22,
     "metadata": {},
     "output_type": "execute_result"
    }
   ],
   "source": [
    "A8 = sym.Matrix([[3,-1,5,0],[0,2,0,1],[2,0,-1,3],[1,1,2,0]])\n",
    "A8"
   ]
  },
  {
   "cell_type": "code",
   "execution_count": 23,
   "id": "1d4b1d81",
   "metadata": {},
   "outputs": [
    {
     "data": {
      "text/latex": [
       "$\\displaystyle 12$"
      ],
      "text/plain": [
       "12"
      ]
     },
     "execution_count": 23,
     "metadata": {},
     "output_type": "execute_result"
    }
   ],
   "source": [
    "A8.det()"
   ]
  },
  {
   "cell_type": "markdown",
   "id": "6462134d",
   "metadata": {},
   "source": [
    "$$\\sum_{j=1}^n(-1)^{2+j}a_{2j}$$\n",
    "\n",
    "\n",
    "$$(-1)^{2+2}2\\det\\begin{bmatrix}3&5&0\\\\2&-1&3\\\\1&2&0 \\end{bmatrix} + (-1)^{2+4}1 \\det \\begin{bmatrix}3&-1&5\\\\2&0&-1\\\\1&1&2 \\end{bmatrix} =$$ \n",
    "\n",
    "\n",
    "$$2\\bigg((-1)^{2+3}3\\det\\begin{bmatrix}3&5\\\\1&2\\end{bmatrix}\\bigg)+1\\bigg((-1)^{1+2}-1 \\det\\begin{bmatrix}2&-1\\\\1&2 \\end{bmatrix} + (-1)^{3+2}1\\det \\begin{bmatrix} 3&5\\\\2&-1\\end{bmatrix}  \\bigg)=$$\n",
    "\n",
    "\n",
    "$$2(-3(6-5))+(-1(-1)(4+1)+ -1 (-3-10)=$$\n",
    "\n",
    "\n",
    "$$2(-3)+5+13 = -6+5+13 =12$$"
   ]
  },
  {
   "cell_type": "markdown",
   "id": "5b42c23b",
   "metadata": {},
   "source": [
    "Resposta: 12"
   ]
  },
  {
   "cell_type": "markdown",
   "id": "8d8d23fa",
   "metadata": {},
   "source": [
    "b) $$\\begin{bmatrix}3&0&0&0&0\\\\19&18&0&0&0\\\\-6&\\pi&-5&0&0\\\\4&\\sqrt2&\\sqrt3&0&0\\\\8&3&5&6&-1\\end{bmatrix}$$"
   ]
  },
  {
   "cell_type": "code",
   "execution_count": 24,
   "id": "2983cbfe",
   "metadata": {},
   "outputs": [
    {
     "data": {
      "text/plain": [
       "0"
      ]
     },
     "execution_count": 24,
     "metadata": {},
     "output_type": "execute_result"
    }
   ],
   "source": [
    "3*18*-5*0*-1"
   ]
  },
  {
   "cell_type": "code",
   "execution_count": 25,
   "id": "b2aac9a8",
   "metadata": {},
   "outputs": [
    {
     "data": {
      "text/latex": [
       "$\\displaystyle 0$"
      ],
      "text/plain": [
       "0"
      ]
     },
     "execution_count": 25,
     "metadata": {},
     "output_type": "execute_result"
    }
   ],
   "source": [
    "sym.diag(3,18,-5,0,-1).det()"
   ]
  },
  {
   "cell_type": "markdown",
   "id": "bebe838a",
   "metadata": {},
   "source": [
    "c) $$\\begin{bmatrix}i&3&2&-i\\\\3&-i&1&i\\\\2&1&-1&0\\\\-i&i&0&1 \\end{bmatrix}$$"
   ]
  },
  {
   "cell_type": "code",
   "execution_count": 26,
   "id": "f3e8992f",
   "metadata": {},
   "outputs": [
    {
     "data": {
      "text/latex": [
       "$\\displaystyle \\left[\\begin{matrix}i & 3 & 2 & - i\\\\3 & - i & 1 & i\\\\2 & 1 & -1 & 0\\\\- i & i & 0 & 1\\end{matrix}\\right]$"
      ],
      "text/plain": [
       "Matrix([\n",
       "[ i,  3,  2, -i],\n",
       "[ 3, -i,  1,  i],\n",
       "[ 2,  1, -1,  0],\n",
       "[-i,  i,  0,  1]])"
      ]
     },
     "execution_count": 26,
     "metadata": {},
     "output_type": "execute_result"
    }
   ],
   "source": [
    "i= sym.symbols(\"i\")\n",
    "A81 = sym.Matrix([[i,3,2,-i],[3,-i,1,i],[2,1,-1,0],[-i,i,0,1]])\n",
    "A81"
   ]
  },
  {
   "cell_type": "code",
   "execution_count": 27,
   "id": "9a71cc1b",
   "metadata": {},
   "outputs": [
    {
     "data": {
      "text/latex": [
       "$\\displaystyle 16 i^{2} + 3 i + 21$"
      ],
      "text/plain": [
       "16*i**2 + 3*i + 21"
      ]
     },
     "execution_count": 27,
     "metadata": {},
     "output_type": "execute_result"
    }
   ],
   "source": [
    "A81.det()"
   ]
  },
  {
   "cell_type": "code",
   "execution_count": 28,
   "id": "78b79f83",
   "metadata": {},
   "outputs": [
    {
     "data": {
      "text/plain": [
       "[-3/32 - sqrt(1335)*I/32, -3/32 + sqrt(1335)*I/32]"
      ]
     },
     "execution_count": 28,
     "metadata": {},
     "output_type": "execute_result"
    }
   ],
   "source": [
    "sym.solve(A81.det(),i)"
   ]
  },
  {
   "cell_type": "code",
   "execution_count": 29,
   "id": "4cab9fb6",
   "metadata": {},
   "outputs": [
    {
     "data": {
      "text/latex": [
       "$\\displaystyle \\left[\\begin{matrix}i & 3 & 2 & - i\\\\3 & - i & 1 & i\\\\2 & 1 & -1 & 0\\\\- i & i & 0 & 1\\end{matrix}\\right]$"
      ],
      "text/plain": [
       "Matrix([\n",
       "[ i,  3,  2, -i],\n",
       "[ 3, -i,  1,  i],\n",
       "[ 2,  1, -1,  0],\n",
       "[-i,  i,  0,  1]])"
      ]
     },
     "execution_count": 29,
     "metadata": {},
     "output_type": "execute_result"
    }
   ],
   "source": [
    "A81.T"
   ]
  },
  {
   "cell_type": "code",
   "execution_count": null,
   "id": "fb1bb3d8",
   "metadata": {},
   "outputs": [],
   "source": []
  }
 ],
 "metadata": {
  "kernelspec": {
   "display_name": "Python 3 (ipykernel)",
   "language": "python",
   "name": "python3"
  },
  "language_info": {
   "codemirror_mode": {
    "name": "ipython",
    "version": 3
   },
   "file_extension": ".py",
   "mimetype": "text/x-python",
   "name": "python",
   "nbconvert_exporter": "python",
   "pygments_lexer": "ipython3",
   "version": "3.11.7"
  }
 },
 "nbformat": 4,
 "nbformat_minor": 5
}
