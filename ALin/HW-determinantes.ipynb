{
 "cells": [
  {
   "cell_type": "markdown",
   "id": "a097896c",
   "metadata": {},
   "source": [
    "# Lista de Exercícios sobre Determinantes"
   ]
  },
  {
   "cell_type": "markdown",
   "id": "a3097f58",
   "metadata": {},
   "source": [
    "## 3\n",
    "\n",
    "Calcule $\\det \\begin{bmatrix} 2&0&-1\\\\ 3&0&2 \\\\ 4&-3&7\\end{bmatrix}$\n",
    "\n",
    "- Pela definição\n",
    "- em relação à segunda coluna, usando o desenvolvimento de Laplace"
   ]
  },
  {
   "cell_type": "code",
   "execution_count": 1,
   "id": "d648ca98",
   "metadata": {},
   "outputs": [],
   "source": [
    "import sympy as sym"
   ]
  },
  {
   "cell_type": "code",
   "execution_count": 2,
   "id": "ad1b823a",
   "metadata": {},
   "outputs": [
    {
     "data": {
      "text/latex": [
       "$\\displaystyle \\left[\\begin{matrix}2 & 0 & -1\\\\3 & 0 & 2\\\\4 & -3 & 7\\end{matrix}\\right]$"
      ],
      "text/plain": [
       "Matrix([\n",
       "[2,  0, -1],\n",
       "[3,  0,  2],\n",
       "[4, -3,  7]])"
      ]
     },
     "execution_count": 2,
     "metadata": {},
     "output_type": "execute_result"
    }
   ],
   "source": [
    "A1 = sym.Matrix([[2,0,-1],[3,0,2],[4,-3,7]])\n",
    "A1"
   ]
  },
  {
   "cell_type": "code",
   "execution_count": 3,
   "id": "0ce1f3b5",
   "metadata": {},
   "outputs": [
    {
     "data": {
      "text/latex": [
       "$\\displaystyle 21$"
      ],
      "text/plain": [
       "21"
      ]
     },
     "execution_count": 3,
     "metadata": {},
     "output_type": "execute_result"
    }
   ],
   "source": [
    "A1.det()"
   ]
  },
  {
   "cell_type": "markdown",
   "id": "647bd460",
   "metadata": {},
   "source": [
    "$$\\begin{bmatrix} 2&0&-1& \\vdots &2&0 \\\\ 3&0&2&\\vdots&3&0 \\\\4&-3&7&\\vdots&4&-3\\end{bmatrix}$$\n",
    "\n",
    "$$0+0+9+0+12-0 = 21$$"
   ]
  },
  {
   "cell_type": "markdown",
   "id": "90cdfca9",
   "metadata": {},
   "source": [
    "Laplace\n",
    "\n",
    "\n",
    "$$(-1)^{3+2}\\times (-3) \\det \\begin{bmatrix}2&-1\\\\3&2  \\end{bmatrix}$$\n",
    "\n",
    "$$-1 \\times (-3)((2\\times 2) - (-1 \\times 3))$$\n",
    "\n",
    "$$-1(-3)\\times 7= 21$$"
   ]
  },
  {
   "cell_type": "markdown",
   "id": "bd6f9966",
   "metadata": {},
   "source": [
    "## 4\n",
    "\n",
    "Dadas as matrizes $A=\\begin{bmatrix} 1&2\\\\1&0 \\end{bmatrix}$ e $B=\\begin{bmatrix} 3&-1\\\\0&1 \\end{bmatrix}$, calcule:\n",
    "\n",
    "- $\\det A + \\det B$\n",
    "- $\\det(A+B)$"
   ]
  },
  {
   "cell_type": "code",
   "execution_count": 4,
   "id": "27d5318b",
   "metadata": {},
   "outputs": [],
   "source": [
    "A2 = sym.Matrix([[1,2],[1,0]])\n",
    "B2 = sym.Matrix([[3,-1],[0,1]])"
   ]
  },
  {
   "cell_type": "code",
   "execution_count": 5,
   "id": "999b9a5e",
   "metadata": {},
   "outputs": [
    {
     "data": {
      "text/latex": [
       "$\\displaystyle \\left[\\begin{matrix}1 & 2\\\\1 & 0\\end{matrix}\\right]$"
      ],
      "text/plain": [
       "Matrix([\n",
       "[1, 2],\n",
       "[1, 0]])"
      ]
     },
     "execution_count": 5,
     "metadata": {},
     "output_type": "execute_result"
    }
   ],
   "source": [
    "A2"
   ]
  },
  {
   "cell_type": "code",
   "execution_count": 6,
   "id": "9d7c429e",
   "metadata": {},
   "outputs": [
    {
     "data": {
      "text/latex": [
       "$\\displaystyle \\left[\\begin{matrix}3 & -1\\\\0 & 1\\end{matrix}\\right]$"
      ],
      "text/plain": [
       "Matrix([\n",
       "[3, -1],\n",
       "[0,  1]])"
      ]
     },
     "execution_count": 6,
     "metadata": {},
     "output_type": "execute_result"
    }
   ],
   "source": [
    "B2"
   ]
  },
  {
   "cell_type": "code",
   "execution_count": 7,
   "id": "5abff024",
   "metadata": {},
   "outputs": [
    {
     "data": {
      "text/plain": [
       "False"
      ]
     },
     "execution_count": 7,
     "metadata": {},
     "output_type": "execute_result"
    }
   ],
   "source": [
    "A2.det() + B2.det() == (A2+B2).det()"
   ]
  },
  {
   "cell_type": "code",
   "execution_count": 8,
   "id": "dfeb0b19",
   "metadata": {},
   "outputs": [
    {
     "data": {
      "text/latex": [
       "$\\displaystyle 1$"
      ],
      "text/plain": [
       "1"
      ]
     },
     "execution_count": 8,
     "metadata": {},
     "output_type": "execute_result"
    }
   ],
   "source": [
    "A2.det()+B2.det()"
   ]
  },
  {
   "cell_type": "code",
   "execution_count": 9,
   "id": "402d9a54",
   "metadata": {},
   "outputs": [
    {
     "data": {
      "text/latex": [
       "$\\displaystyle 3$"
      ],
      "text/plain": [
       "3"
      ]
     },
     "execution_count": 9,
     "metadata": {},
     "output_type": "execute_result"
    }
   ],
   "source": [
    "(A2+B2).det()"
   ]
  },
  {
   "cell_type": "markdown",
   "id": "245e33cf",
   "metadata": {},
   "source": [
    "Det A\n",
    "$$(1\\times 0) - (2\\times 1) = -2$$\n",
    "\n",
    "\n",
    "Det B\n",
    "\n",
    "$$(3\\times 1) - (-1 \\times 0 )=3$$\n",
    "\n",
    "\n",
    "Det A + Det B\n",
    "$$-2+3=1$$"
   ]
  },
  {
   "cell_type": "markdown",
   "id": "445f8bad",
   "metadata": {},
   "source": [
    "Det (A+B)\n",
    "\n",
    "$$\\begin{bmatrix} 1+3 & 2-1\\\\1+0&0+1 \\end{bmatrix}$$\n",
    "\n",
    "$$\\begin{bmatrix} 4&1\\\\1&1 \\end{bmatrix}$$\n",
    "\n",
    "\n",
    "Det \n",
    "$$(4\\times 1) - (1 \\times 1) = 3$$"
   ]
  },
  {
   "cell_type": "markdown",
   "id": "984a2bb3",
   "metadata": {},
   "source": [
    "## 5\n",
    "\n",
    "Sejam A e B matrizes do tipo $n\\times n$. Verifique se as colocações abaixo são verdadeiras ou falsas.\n",
    "- $\\det(AB) = \\det(BA)$\n",
    "- $\\det(A^T)=\\det A$\n",
    "- $\\det(2A) = 2 \\det A$\n",
    "- $\\det(A^2) = (\\det A)^2$\n",
    "- $\\det A_{ij} < \\det A$\n",
    "- Se A é uma matriz 3x3, então $a_{11}\\Delta_{11}+a_{12}\\Delta_{12}+a_{13}\\Delta_{13 }= a_{21}\\Delta_{21}+a_{22}\\Delta_{22}+a_{23}\\Delta_{23}$"
   ]
  },
  {
   "cell_type": "code",
   "execution_count": 10,
   "id": "fe5e3d7f",
   "metadata": {},
   "outputs": [],
   "source": [
    "a11,a12,a21,a22 ,b11,b12,b21,b22 = sym.symbols(\"a11 a12 a21 a22 b11 b12 b21 b22\")"
   ]
  },
  {
   "cell_type": "code",
   "execution_count": 11,
   "id": "a9c13969",
   "metadata": {},
   "outputs": [
    {
     "data": {
      "text/latex": [
       "$\\displaystyle \\left[\\begin{matrix}a_{11} & a_{12}\\\\a_{21} & a_{22}\\end{matrix}\\right]$"
      ],
      "text/plain": [
       "Matrix([\n",
       "[a11, a12],\n",
       "[a21, a22]])"
      ]
     },
     "execution_count": 11,
     "metadata": {},
     "output_type": "execute_result"
    }
   ],
   "source": [
    "A5 = sym.Matrix([[a11,a12],[a21,a22]])\n",
    "A5"
   ]
  },
  {
   "cell_type": "code",
   "execution_count": 12,
   "id": "eece0a97",
   "metadata": {},
   "outputs": [
    {
     "data": {
      "text/latex": [
       "$\\displaystyle \\left[\\begin{matrix}b_{11} & b_{12}\\\\b_{21} & b_{22}\\end{matrix}\\right]$"
      ],
      "text/plain": [
       "Matrix([\n",
       "[b11, b12],\n",
       "[b21, b22]])"
      ]
     },
     "execution_count": 12,
     "metadata": {},
     "output_type": "execute_result"
    }
   ],
   "source": [
    "B5 = sym.Matrix([[b11,b12],[b21,b22]])\n",
    "B5"
   ]
  },
  {
   "cell_type": "markdown",
   "id": "a7acc77b",
   "metadata": {},
   "source": [
    "$$\\det(AB)=\\det(BA)$$"
   ]
  },
  {
   "cell_type": "code",
   "execution_count": 13,
   "id": "25117ddd",
   "metadata": {},
   "outputs": [
    {
     "data": {
      "text/plain": [
       "True"
      ]
     },
     "execution_count": 13,
     "metadata": {},
     "output_type": "execute_result"
    }
   ],
   "source": [
    "(A5*B5).det() == (B5*A5).det()"
   ]
  },
  {
   "cell_type": "markdown",
   "id": "021f08bf",
   "metadata": {},
   "source": [
    "Resposta: Verdadeiro"
   ]
  },
  {
   "cell_type": "markdown",
   "id": "da36d4a4",
   "metadata": {},
   "source": [
    "$$\\det(A^T)=\\det A$$"
   ]
  },
  {
   "cell_type": "code",
   "execution_count": 14,
   "id": "5cecfb42",
   "metadata": {},
   "outputs": [
    {
     "data": {
      "text/plain": [
       "True"
      ]
     },
     "execution_count": 14,
     "metadata": {},
     "output_type": "execute_result"
    }
   ],
   "source": [
    "(A5.T).det() == A5.det()"
   ]
  },
  {
   "cell_type": "markdown",
   "id": "20f610f1",
   "metadata": {},
   "source": [
    "Resposta: Verdadeiro"
   ]
  },
  {
   "cell_type": "markdown",
   "id": "0fb1a9bb",
   "metadata": {},
   "source": [
    "$$\\det (2A) = 2 \\det A$$"
   ]
  },
  {
   "cell_type": "code",
   "execution_count": 15,
   "id": "f0079a21",
   "metadata": {},
   "outputs": [
    {
     "data": {
      "text/plain": [
       "False"
      ]
     },
     "execution_count": 15,
     "metadata": {},
     "output_type": "execute_result"
    }
   ],
   "source": [
    "(2*A5).det() == 2*A5.det()"
   ]
  },
  {
   "cell_type": "code",
   "execution_count": 16,
   "id": "29e46198",
   "metadata": {},
   "outputs": [
    {
     "data": {
      "text/latex": [
       "$\\displaystyle 4 a_{11} a_{22} - 4 a_{12} a_{21}$"
      ],
      "text/plain": [
       "4*a11*a22 - 4*a12*a21"
      ]
     },
     "execution_count": 16,
     "metadata": {},
     "output_type": "execute_result"
    }
   ],
   "source": [
    "(2*A5).det()"
   ]
  },
  {
   "cell_type": "code",
   "execution_count": 17,
   "id": "04fb3995",
   "metadata": {},
   "outputs": [
    {
     "data": {
      "text/latex": [
       "$\\displaystyle 2 a_{11} a_{22} - 2 a_{12} a_{21}$"
      ],
      "text/plain": [
       "2*a11*a22 - 2*a12*a21"
      ]
     },
     "execution_count": 17,
     "metadata": {},
     "output_type": "execute_result"
    }
   ],
   "source": [
    "2*(A5.det())"
   ]
  },
  {
   "cell_type": "markdown",
   "id": "addad742",
   "metadata": {},
   "source": [
    "Resposta: Falso"
   ]
  },
  {
   "cell_type": "markdown",
   "id": "43b005a3",
   "metadata": {},
   "source": [
    "$$\\det (A^2) = (\\det A)^2$$"
   ]
  },
  {
   "cell_type": "code",
   "execution_count": 18,
   "id": "f8e77868",
   "metadata": {},
   "outputs": [
    {
     "data": {
      "text/latex": [
       "$\\displaystyle a_{11}^{2} a_{22}^{2} - 2 a_{11} a_{12} a_{21} a_{22} + a_{12}^{2} a_{21}^{2}$"
      ],
      "text/plain": [
       "a11**2*a22**2 - 2*a11*a12*a21*a22 + a12**2*a21**2"
      ]
     },
     "execution_count": 18,
     "metadata": {},
     "output_type": "execute_result"
    }
   ],
   "source": [
    "C1 =(A5**2).det()\n",
    "C1"
   ]
  },
  {
   "cell_type": "code",
   "execution_count": 19,
   "id": "6eb89e6d",
   "metadata": {},
   "outputs": [
    {
     "data": {
      "text/latex": [
       "$\\displaystyle \\left(a_{11} a_{22} - a_{12} a_{21}\\right)^{2}$"
      ],
      "text/plain": [
       "(a11*a22 - a12*a21)**2"
      ]
     },
     "execution_count": 19,
     "metadata": {},
     "output_type": "execute_result"
    }
   ],
   "source": [
    "C2 = (A5.det())**2\n",
    "C2"
   ]
  },
  {
   "cell_type": "code",
   "execution_count": 20,
   "id": "e911e86a",
   "metadata": {},
   "outputs": [
    {
     "data": {
      "text/latex": [
       "$\\displaystyle a_{11}^{2} a_{22}^{2} - 2 a_{11} a_{12} a_{21} a_{22} + a_{12}^{2} a_{21}^{2}$"
      ],
      "text/plain": [
       "a11**2*a22**2 - 2*a11*a12*a21*a22 + a12**2*a21**2"
      ]
     },
     "execution_count": 20,
     "metadata": {},
     "output_type": "execute_result"
    }
   ],
   "source": [
    "sym.expand(C2)"
   ]
  },
  {
   "cell_type": "code",
   "execution_count": 21,
   "id": "5b096f28",
   "metadata": {},
   "outputs": [
    {
     "data": {
      "text/plain": [
       "True"
      ]
     },
     "execution_count": 21,
     "metadata": {},
     "output_type": "execute_result"
    }
   ],
   "source": [
    "C1 == sym.expand(C2)"
   ]
  },
  {
   "cell_type": "markdown",
   "id": "1a34333e",
   "metadata": {},
   "source": [
    "Resposta : Verdadeiro"
   ]
  },
  {
   "cell_type": "markdown",
   "id": "b588e36b",
   "metadata": {},
   "source": [
    "$$\\det A_{ij} < \\det A$$"
   ]
  },
  {
   "cell_type": "code",
   "execution_count": null,
   "id": "83b9ad12",
   "metadata": {},
   "outputs": [],
   "source": []
  },
  {
   "cell_type": "markdown",
   "id": "dac74937",
   "metadata": {},
   "source": [
    "Se $A$ é uma matriz de 3x3, então:\n",
    "\n",
    "\n",
    "$a_{11}\\Delta_{11}+a_{12}\\Delta_{12}+a_{13}\\Delta_{13 }= a_{21}\\Delta_{21}+a_{22}\\Delta_{22}+a_{23}\\Delta_{23}$"
   ]
  },
  {
   "cell_type": "code",
   "execution_count": null,
   "id": "979a9bcd",
   "metadata": {},
   "outputs": [],
   "source": []
  },
  {
   "cell_type": "markdown",
   "id": "2b9cbb64",
   "metadata": {},
   "source": [
    "## 6\n",
    "\n",
    "\n",
    "Dada  $A = \\begin{bmatrix}2&3&1&-2\\\\5&3&1&4\\\\0&1&2&2\\\\3&-1&-2&4 \\end{bmatrix}$  \n",
    "\n",
    "\n",
    "Calcule:\n",
    "- $A_{23}$\n",
    "- $|A_{23}|$\n",
    "- $\\Delta_{23}$\n",
    "- $\\det A$"
   ]
  },
  {
   "cell_type": "code",
   "execution_count": null,
   "id": "9489f24a",
   "metadata": {},
   "outputs": [],
   "source": []
  },
  {
   "cell_type": "markdown",
   "id": "2e72e602",
   "metadata": {},
   "source": [
    "## 8\n",
    "\n",
    "Calcule $\\det A$ onde A:\n",
    "\n",
    "a) $\\begin{bmatrix}3&-1&5&0\\\\0&2&0&1\\\\2&0&-1&3\\\\1&1&2&0 \\end{bmatrix}$\n",
    "\n",
    "\n",
    "\n",
    "b) $\\begin{bmatrix}3&0&0&0&0\\\\19&18&0&0&0\\\\-6&\\pi&-5&0&0\\\\4&\\sqrt2&\\sqrt3&0&0\\\\8&3&5&6&-1\\end{bmatrix}$\n",
    "\n",
    "\n",
    "c) $\\begin{bmatrix}i&3&2&-i\\\\3&-i&1&i\\\\2&1&-1&0\\\\-i&i&0&1 \\end{bmatrix}$"
   ]
  },
  {
   "cell_type": "markdown",
   "id": "b418428c",
   "metadata": {},
   "source": [
    "a) $$\\begin{bmatrix}3&-1&5&0\\\\0&2&0&1\\\\2&0&-1&3\\\\1&1&2&0 \\end{bmatrix}$$"
   ]
  },
  {
   "cell_type": "code",
   "execution_count": 22,
   "id": "dc40aa2a",
   "metadata": {},
   "outputs": [
    {
     "data": {
      "text/latex": [
       "$\\displaystyle \\left[\\begin{matrix}3 & -1 & 5 & 0\\\\0 & 2 & 0 & 1\\\\2 & 0 & -1 & 3\\\\1 & 1 & 2 & 0\\end{matrix}\\right]$"
      ],
      "text/plain": [
       "Matrix([\n",
       "[3, -1,  5, 0],\n",
       "[0,  2,  0, 1],\n",
       "[2,  0, -1, 3],\n",
       "[1,  1,  2, 0]])"
      ]
     },
     "execution_count": 22,
     "metadata": {},
     "output_type": "execute_result"
    }
   ],
   "source": [
    "A8 = sym.Matrix([[3,-1,5,0],[0,2,0,1],[2,0,-1,3],[1,1,2,0]])\n",
    "A8"
   ]
  },
  {
   "cell_type": "code",
   "execution_count": 23,
   "id": "1d4b1d81",
   "metadata": {},
   "outputs": [
    {
     "data": {
      "text/latex": [
       "$\\displaystyle 12$"
      ],
      "text/plain": [
       "12"
      ]
     },
     "execution_count": 23,
     "metadata": {},
     "output_type": "execute_result"
    }
   ],
   "source": [
    "A8.det()"
   ]
  },
  {
   "cell_type": "markdown",
   "id": "6462134d",
   "metadata": {},
   "source": [
    "$$\\sum_{j=1}^n(-1)^{2+j}a_{2j}$$\n",
    "\n",
    "\n",
    "$$(-1)^{2+2}2\\det\\begin{bmatrix}3&5&0\\\\2&-1&3\\\\1&2&0 \\end{bmatrix} + (-1)^{2+4}1 \\det \\begin{bmatrix}3&-1&5\\\\2&0&-1\\\\1&1&2 \\end{bmatrix} =$$ \n",
    "\n",
    "\n",
    "$$2\\bigg((-1)^{2+3}3\\det\\begin{bmatrix}3&5\\\\1&2\\end{bmatrix}\\bigg)+1\\bigg((-1)^{1+2}-1 \\det\\begin{bmatrix}2&-1\\\\1&2 \\end{bmatrix} + (-1)^{3+2}1\\det \\begin{bmatrix} 3&5\\\\2&-1\\end{bmatrix}  \\bigg)=$$\n",
    "\n",
    "\n",
    "$$2(-3(6-5))+(-1(-1)(4+1)+ -1 (-3-10)=$$\n",
    "\n",
    "\n",
    "$$2(-3)+5+13 = -6+5+13 =12$$"
   ]
  },
  {
   "cell_type": "markdown",
   "id": "5b42c23b",
   "metadata": {},
   "source": [
    "Resposta: 12"
   ]
  },
  {
   "cell_type": "markdown",
   "id": "8d8d23fa",
   "metadata": {},
   "source": [
    "b) $$\\begin{bmatrix}3&0&0&0&0\\\\19&18&0&0&0\\\\-6&\\pi&-5&0&0\\\\4&\\sqrt2&\\sqrt3&0&0\\\\8&3&5&6&-1\\end{bmatrix}$$"
   ]
  },
  {
   "cell_type": "code",
   "execution_count": 24,
   "id": "2983cbfe",
   "metadata": {},
   "outputs": [
    {
     "data": {
      "text/plain": [
       "0"
      ]
     },
     "execution_count": 24,
     "metadata": {},
     "output_type": "execute_result"
    }
   ],
   "source": [
    "3*18*-5*0*-1"
   ]
  },
  {
   "cell_type": "code",
   "execution_count": 25,
   "id": "b2aac9a8",
   "metadata": {},
   "outputs": [
    {
     "data": {
      "text/latex": [
       "$\\displaystyle 0$"
      ],
      "text/plain": [
       "0"
      ]
     },
     "execution_count": 25,
     "metadata": {},
     "output_type": "execute_result"
    }
   ],
   "source": [
    "sym.diag(3,18,-5,0,-1).det()"
   ]
  },
  {
   "cell_type": "markdown",
   "id": "bebe838a",
   "metadata": {},
   "source": [
    "c) $$\\begin{bmatrix}i&3&2&-i\\\\3&-i&1&i\\\\2&1&-1&0\\\\-i&i&0&1 \\end{bmatrix}$$"
   ]
  },
  {
   "cell_type": "code",
   "execution_count": 26,
   "id": "f3e8992f",
   "metadata": {},
   "outputs": [
    {
     "data": {
      "text/latex": [
       "$\\displaystyle \\left[\\begin{matrix}i & 3 & 2 & - i\\\\3 & - i & 1 & i\\\\2 & 1 & -1 & 0\\\\- i & i & 0 & 1\\end{matrix}\\right]$"
      ],
      "text/plain": [
       "Matrix([\n",
       "[ i,  3,  2, -i],\n",
       "[ 3, -i,  1,  i],\n",
       "[ 2,  1, -1,  0],\n",
       "[-i,  i,  0,  1]])"
      ]
     },
     "execution_count": 26,
     "metadata": {},
     "output_type": "execute_result"
    }
   ],
   "source": [
    "i= sym.symbols(\"i\")\n",
    "A81 = sym.Matrix([[i,3,2,-i],[3,-i,1,i],[2,1,-1,0],[-i,i,0,1]])\n",
    "A81"
   ]
  },
  {
   "cell_type": "code",
   "execution_count": 27,
   "id": "9a71cc1b",
   "metadata": {},
   "outputs": [
    {
     "data": {
      "text/latex": [
       "$\\displaystyle 16 i^{2} + 3 i + 21$"
      ],
      "text/plain": [
       "16*i**2 + 3*i + 21"
      ]
     },
     "execution_count": 27,
     "metadata": {},
     "output_type": "execute_result"
    }
   ],
   "source": [
    "A81.det()"
   ]
  },
  {
   "cell_type": "code",
   "execution_count": 28,
   "id": "78b79f83",
   "metadata": {},
   "outputs": [
    {
     "data": {
      "text/plain": [
       "[-3/32 - sqrt(1335)*I/32, -3/32 + sqrt(1335)*I/32]"
      ]
     },
     "execution_count": 28,
     "metadata": {},
     "output_type": "execute_result"
    }
   ],
   "source": [
    "sym.solve(A81.det(),i)"
   ]
  },
  {
   "cell_type": "code",
   "execution_count": 29,
   "id": "4cab9fb6",
   "metadata": {},
   "outputs": [
    {
     "data": {
      "text/latex": [
       "$\\displaystyle \\left[\\begin{matrix}i & 3 & 2 & - i\\\\3 & - i & 1 & i\\\\2 & 1 & -1 & 0\\\\- i & i & 0 & 1\\end{matrix}\\right]$"
      ],
      "text/plain": [
       "Matrix([\n",
       "[ i,  3,  2, -i],\n",
       "[ 3, -i,  1,  i],\n",
       "[ 2,  1, -1,  0],\n",
       "[-i,  i,  0,  1]])"
      ]
     },
     "execution_count": 29,
     "metadata": {},
     "output_type": "execute_result"
    }
   ],
   "source": [
    "A81.T"
   ]
  },
  {
   "cell_type": "markdown",
   "id": "ee861dd0-093b-4155-bc17-d62d3faf76b7",
   "metadata": {
    "jp-MarkdownHeadingCollapsed": true
   },
   "source": [
    "## 9\n",
    "\n",
    "Encontre $A^{-1}$, onde:\n",
    "\n",
    "a)\n",
    "$A= \\begin{bmatrix}4&-1&2&-2\\\\3&-1&0&0\\\\2&3&1&0\\\\0&7&1&1 \\end{bmatrix}$\n",
    "\n",
    "b)\n",
    "$A= \\begin{bmatrix}0&-i&-2&i\\\\1&-1&i&1 \\\\0&-1&1&-i \\\\1&1&1&0 \\end{bmatrix}$\n",
    "\n",
    "c)\n",
    "$A= \\begin{bmatrix} 1&0&x \\\\1&1&x^2\\\\2&2&x^2\\end{bmatrix}$"
   ]
  },
  {
   "cell_type": "markdown",
   "id": "18027f4f-ff44-4342-ad87-9e9c11971b95",
   "metadata": {},
   "source": [
    "a)\n",
    "$$A= \\begin{bmatrix}4&-1&2&-2\\\\3&-1&0&0\\\\2&3&1&0\\\\0&7&1&1 \\end{bmatrix}$$"
   ]
  },
  {
   "cell_type": "code",
   "execution_count": 31,
   "id": "a8e2ab76-1677-475c-adf7-d884f0c07050",
   "metadata": {},
   "outputs": [
    {
     "data": {
      "text/latex": [
       "$\\displaystyle 1$"
      ],
      "text/plain": [
       "1"
      ]
     },
     "execution_count": 31,
     "metadata": {},
     "output_type": "execute_result"
    }
   ],
   "source": [
    "A9 = sym.Matrix([[4,-1,2,-2],[3,-1,0,0],[2,3,1,0],[0,7,1,1]])\n",
    "A9.det()"
   ]
  },
  {
   "cell_type": "markdown",
   "id": "5dea5d63-1760-470a-a8c2-563ac8844e5d",
   "metadata": {},
   "source": [
    "$$A= \\begin{bmatrix}4&-1&2&-2\\\\3&-1&0&0\\\\2&3&1&0\\\\0&7&1&1 \\end{bmatrix}L2*-1+L1$$\n",
    "\n",
    "$$A= \\begin{bmatrix}1&0&2&-2\\\\3&-1&0&0\\\\2&3&1&0\\\\0&7&1&1 \\end{bmatrix}L4(2)+L1$$\n",
    "\n",
    "$$A= \\begin{bmatrix}1&14&4&0\\\\3&-1&0&0\\\\2&3&1&0\\\\0&7&1&1 \\end{bmatrix}$$\n",
    "\n",
    "$$A=(-1)^{4+4} 1 \\det\\begin{bmatrix}1&14&4\\\\3&-1&0\\\\2&3&1\\end{bmatrix}$$\n",
    "\n",
    "$$A=1 \\bigg((-1)^{1+3} 4 \\det\\begin{bmatrix}3&-1\\\\2&3\\end{bmatrix}+(-1)^{3+3} 1 \\det \\begin{bmatrix}1&14\\\\3&-1\\end{bmatrix}\\bigg)$$\n",
    "\n",
    "$$A=1\\bigg(4(11) + 1(-43) \\bigg)$$\n",
    "\n",
    "$$A=1\\bigg(44 - 43 \\bigg)$$\n",
    "$$\\det A=1$$"
   ]
  },
  {
   "cell_type": "code",
   "execution_count": 32,
   "id": "e1437363-fdf2-4ac3-9f62-50729c43fe79",
   "metadata": {},
   "outputs": [
    {
     "data": {
      "text/latex": [
       "$\\displaystyle \\left[\\begin{matrix}-1 & -1 & 4 & -2\\\\-3 & -4 & 12 & -6\\\\11 & 14 & -43 & 22\\\\10 & 14 & -41 & 21\\end{matrix}\\right]$"
      ],
      "text/plain": [
       "Matrix([\n",
       "[-1, -1,   4, -2],\n",
       "[-3, -4,  12, -6],\n",
       "[11, 14, -43, 22],\n",
       "[10, 14, -41, 21]])"
      ]
     },
     "execution_count": 32,
     "metadata": {},
     "output_type": "execute_result"
    }
   ],
   "source": [
    "A9.inv()"
   ]
  },
  {
   "cell_type": "markdown",
   "id": "4c72b88d-8ba0-4f84-860c-e538a4609c81",
   "metadata": {},
   "source": [
    "$$A= \\begin{bmatrix}0&-i&-2&i\\\\1&-1&i&1 \\\\0&-1&1&-i \\\\1&1&1&0 \\end{bmatrix}$$"
   ]
  },
  {
   "cell_type": "code",
   "execution_count": 34,
   "id": "b17605dc-1319-425b-a109-c83eca491ac6",
   "metadata": {},
   "outputs": [
    {
     "data": {
      "text/latex": [
       "$\\displaystyle \\left[\\begin{matrix}0 & i & -2 & i\\\\1 & -1 & i & 1\\\\0 & -1 & 1 & - i\\\\1 & 1 & 1 & 0\\end{matrix}\\right]$"
      ],
      "text/plain": [
       "Matrix([\n",
       "[0,  i, -2,  i],\n",
       "[1, -1,  i,  1],\n",
       "[0, -1,  1, -i],\n",
       "[1,  1,  1,  0]])"
      ]
     },
     "execution_count": 34,
     "metadata": {},
     "output_type": "execute_result"
    }
   ],
   "source": [
    "i = sym.symbols(\"i\")\n",
    "A92 = sym.Matrix([[0,i,-2,i],[1,-1,i,1],[0,-1,1,-i],[1,1,1,0]])\n",
    "A92"
   ]
  },
  {
   "cell_type": "code",
   "execution_count": 35,
   "id": "e8f4866c-9be0-4bea-b154-1776f5d701a2",
   "metadata": {},
   "outputs": [
    {
     "data": {
      "text/latex": [
       "$\\displaystyle i^{3} - 2 i^{2} - 2$"
      ],
      "text/plain": [
       "i**3 - 2*i**2 - 2"
      ]
     },
     "execution_count": 35,
     "metadata": {},
     "output_type": "execute_result"
    }
   ],
   "source": [
    "A92.det()"
   ]
  },
  {
   "cell_type": "markdown",
   "id": "3abfd464-73e6-4488-b151-9f5fe26c9fb2",
   "metadata": {},
   "source": [
    "$$(-1)^{1+4}i \\det \\begin{bmatrix}1&-1&i\\\\0&-1&1\\\\1&1&1 \\end{bmatrix} +\n",
    "(-1)^{2+4}1 \\det \\begin{bmatrix} 0&i&-2\\\\0&-1&1\\\\1&1&1\\end{bmatrix} + \n",
    "(-1)^{3+4}-i \\det \\begin{bmatrix}0&i&-2\\\\1&-1&i\\\\1&1&1 \\end{bmatrix}$$\n",
    "\n",
    "$$-i\\bigg((-1)^{1+1}1 \\det \\begin{bmatrix}-1&1\\\\1&1 \\end{bmatrix}+ (-1)^{3+1} \\det \\begin{bmatrix}-1&i\\\\-1&1 \\end{bmatrix}\\bigg)\n",
    "+1\\bigg((-1)^{3+1} \\det \\begin{bmatrix}i&-2\\\\-1&1 \\end{bmatrix}\\bigg)+\n",
    "i\\bigg((-1)^{2+1} \\det\\begin{bmatrix}i&-2\\\\1&1 \\end{bmatrix}+(-1)^{3+1}\\det\\begin{bmatrix}i&-2\\\\-1&i \\end{bmatrix}\\bigg)$$\n",
    "\n",
    "$$-i\\bigg(1(-2)+1(-1+i)\\bigg)+1\\bigg(1(i-2)\\bigg)+i\\bigg(-1(i+2)+1(i^2-2)\\bigg)$$\n",
    "\n",
    "$$-i(-2-1+i)+i-2+i(-i-2+i^2-2)$$\n",
    "\n",
    "$$2i+i-i^2+i-2-i^2-2i+i^3-2i$$\n",
    "\n",
    "$$i^3-2i^2-2$$"
   ]
  },
  {
   "cell_type": "markdown",
   "id": "0d309bc5-65ed-48f7-9676-6e362a2c021c",
   "metadata": {},
   "source": [
    "$A= \\begin{bmatrix} 1&0&x \\\\1&1&x^2\\\\2&2&x^2\\end{bmatrix}$"
   ]
  },
  {
   "cell_type": "code",
   "execution_count": 38,
   "id": "5326a255-c21e-48e7-8af2-aca950f37031",
   "metadata": {},
   "outputs": [
    {
     "data": {
      "text/latex": [
       "$\\displaystyle \\left[\\begin{matrix}1 & 0 & x\\\\1 & 1 & x^{2}\\\\2 & 2 & x^{2}\\end{matrix}\\right]$"
      ],
      "text/plain": [
       "Matrix([\n",
       "[1, 0,    x],\n",
       "[1, 1, x**2],\n",
       "[2, 2, x**2]])"
      ]
     },
     "execution_count": 38,
     "metadata": {},
     "output_type": "execute_result"
    }
   ],
   "source": [
    "x = sym.symbols(\"x\")\n",
    "A93 = sym.Matrix([[1,0,x],[1,1,x**2],[2,2,x**2]])\n",
    "A93"
   ]
  },
  {
   "cell_type": "code",
   "execution_count": 40,
   "id": "711803f6-84fa-44fe-a9d3-3d5912be7c3e",
   "metadata": {},
   "outputs": [
    {
     "data": {
      "text/latex": [
       "$\\displaystyle - x^{2}$"
      ],
      "text/plain": [
       "-x**2"
      ]
     },
     "execution_count": 40,
     "metadata": {},
     "output_type": "execute_result"
    }
   ],
   "source": [
    "A93.det()"
   ]
  },
  {
   "cell_type": "code",
   "execution_count": 41,
   "id": "89b0dac7-5be6-4b31-9b11-1e419dec63d0",
   "metadata": {},
   "outputs": [
    {
     "data": {
      "text/latex": [
       "$\\displaystyle \\left[\\begin{matrix}1 & - \\frac{2}{x} & \\frac{1}{x}\\\\-1 & -1 + \\frac{2}{x} & 1 - \\frac{1}{x}\\\\0 & \\frac{2}{x^{2}} & - \\frac{1}{x^{2}}\\end{matrix}\\right]$"
      ],
      "text/plain": [
       "Matrix([\n",
       "[ 1,     -2/x,     1/x],\n",
       "[-1, -1 + 2/x, 1 - 1/x],\n",
       "[ 0,   2/x**2, -1/x**2]])"
      ]
     },
     "execution_count": 41,
     "metadata": {},
     "output_type": "execute_result"
    }
   ],
   "source": [
    "A93.inv()"
   ]
  },
  {
   "cell_type": "markdown",
   "id": "374b2b25-8c24-4e18-9a50-d03e2675551f",
   "metadata": {},
   "source": [
    "## 10\n",
    "\n",
    "Se A ou B é uma matriz não inversível, então $A\\cdot B$, não é, prove isto sem usar determinantes."
   ]
  },
  {
   "cell_type": "code",
   "execution_count": 44,
   "id": "334176c7-5780-42af-a2e5-c79c7bda88d0",
   "metadata": {},
   "outputs": [
    {
     "data": {
      "text/latex": [
       "$\\displaystyle \\left[\\begin{matrix}1 & 0 & 0\\\\0 & 2 & 0\\\\0 & 0 & 0\\end{matrix}\\right]$"
      ],
      "text/plain": [
       "Matrix([\n",
       "[1, 0, 0],\n",
       "[0, 2, 0],\n",
       "[0, 0, 0]])"
      ]
     },
     "execution_count": 44,
     "metadata": {},
     "output_type": "execute_result"
    }
   ],
   "source": [
    "A10 = sym.diag(1,2,0)\n",
    "A10"
   ]
  },
  {
   "cell_type": "code",
   "execution_count": 46,
   "id": "fd31137e-1b79-4b45-b635-5c066f6cf375",
   "metadata": {},
   "outputs": [
    {
     "data": {
      "text/latex": [
       "$\\displaystyle \\left[\\begin{matrix}57 & 78 & 72\\\\78 & 41 & 9\\\\72 & 9 & 85\\end{matrix}\\right]$"
      ],
      "text/plain": [
       "Matrix([\n",
       "[57, 78, 72],\n",
       "[78, 41,  9],\n",
       "[72,  9, 85]])"
      ]
     },
     "execution_count": 46,
     "metadata": {},
     "output_type": "execute_result"
    }
   ],
   "source": [
    "B10 = sym.randMatrix(3, symmetric=True)\n",
    "B10"
   ]
  },
  {
   "cell_type": "code",
   "execution_count": 49,
   "id": "96876640-bd03-448a-b8f6-1c1925c3b401",
   "metadata": {},
   "outputs": [
    {
     "data": {
      "text/latex": [
       "$\\displaystyle \\left[\\begin{matrix}57 & 78 & 72\\\\156 & 82 & 18\\\\0 & 0 & 0\\end{matrix}\\right]$"
      ],
      "text/plain": [
       "Matrix([\n",
       "[ 57, 78, 72],\n",
       "[156, 82, 18],\n",
       "[  0,  0,  0]])"
      ]
     },
     "execution_count": 49,
     "metadata": {},
     "output_type": "execute_result"
    }
   ],
   "source": [
    "(A10*B10)"
   ]
  },
  {
   "cell_type": "markdown",
   "id": "0bfe0feb-b3e2-4a91-bae9-762098dde28a",
   "metadata": {},
   "source": [
    "## 12\n",
    "\n",
    "Dada a Matrix $$A=\\begin{bmatrix} 2&1&-3\\\\0&2&1\\\\5&1&3\\end{bmatrix}$$, calcule:\n",
    "- Adj de A\n",
    "- det A\n",
    "- $A^{-1}$"
   ]
  },
  {
   "cell_type": "code",
   "execution_count": 75,
   "id": "0657dde7-c5dc-4824-9447-8ad887d86862",
   "metadata": {},
   "outputs": [
    {
     "data": {
      "text/latex": [
       "$\\displaystyle \\left[\\begin{matrix}2 & 1 & -3\\\\0 & 2 & 1\\\\5 & 1 & 3\\end{matrix}\\right]$"
      ],
      "text/plain": [
       "Matrix([\n",
       "[2, 1, -3],\n",
       "[0, 2,  1],\n",
       "[5, 1,  3]])"
      ]
     },
     "execution_count": 75,
     "metadata": {},
     "output_type": "execute_result"
    }
   ],
   "source": [
    "A12 = sym.Matrix([[2,1,-3],[0,2,1],[5,1,3]])\n",
    "A12"
   ]
  },
  {
   "cell_type": "code",
   "execution_count": 84,
   "id": "e8298732-b4e8-4da2-8c36-c8508846f74d",
   "metadata": {},
   "outputs": [
    {
     "data": {
      "text/latex": [
       "$\\displaystyle \\left[\\begin{matrix}5 & 5 & -10\\\\-6 & 21 & 3\\\\7 & -2 & 4\\end{matrix}\\right]$"
      ],
      "text/plain": [
       "Matrix([\n",
       "[ 5,  5, -10],\n",
       "[-6, 21,   3],\n",
       "[ 7, -2,   4]])"
      ]
     },
     "execution_count": 84,
     "metadata": {},
     "output_type": "execute_result"
    }
   ],
   "source": [
    "# cofatores da Matriz\n",
    "A12co= A12.cofactor_matrix()\n",
    "A12co"
   ]
  },
  {
   "cell_type": "markdown",
   "id": "c4ef9c0d-0e66-4eec-99fa-0340bc2b0a9a",
   "metadata": {},
   "source": [
    "Cofatores de A\n",
    "\n",
    "$$\\Delta_{11}=(-1)^{1+1}\\det\\begin{bmatrix}2&1\\\\1&3 \\end{bmatrix}=1(6-1)=5$$\n",
    "\n",
    "$$\\Delta_{12} = (-1)^{1+2}\\det\\begin{bmatrix}0&1\\\\5&3 \\end{bmatrix}=-1(0-5)=5$$\n",
    "\n",
    "$$\\Delta_{13} = (-1)^{1+3}\\det\\begin{bmatrix}0&2\\\\5&1 \\end{bmatrix}=1(0-10)=-10$$\n",
    "\n",
    "$$\\Delta_{21} = (-1)^{2+1}\\det\\begin{bmatrix}1&-3\\\\1&3 \\end{bmatrix}=-1(3+3)=-6$$\n",
    "\n",
    "$$\\Delta_{22} = (-1)^{2+2}\\det\\begin{bmatrix}2&-3\\\\5&3 \\end{bmatrix}=1(6+15)=21$$\n",
    "\n",
    "$$\\Delta_{23} = (-1)^{2+3}\\det\\begin{bmatrix}2&1\\\\5&1 \\end{bmatrix}=-1(2-5)=3$$\n",
    "\n",
    "$$\\Delta_{31} = (-1)^{3+1}\\det\\begin{bmatrix}1&-3\\\\2&1 \\end{bmatrix}=1(1+6)=7$$\n",
    "\n",
    "$$\\Delta_{32} = (-1)^{3+2}\\det\\begin{bmatrix}2&-3\\\\0&1 \\end{bmatrix}=-1(2-0)=-2$$\n",
    "\n",
    "$$\\Delta_{33} = (-1)^{3+3}\\det\\begin{bmatrix}2&1\\\\0&2 \\end{bmatrix}=1(4-0)=4$$"
   ]
  },
  {
   "cell_type": "code",
   "execution_count": 83,
   "id": "398c7777-4490-4641-8bb1-a17e8902506b",
   "metadata": {},
   "outputs": [
    {
     "data": {
      "text/latex": [
       "$\\displaystyle \\left[\\begin{matrix}5 & -6 & 7\\\\5 & 21 & -2\\\\-10 & 3 & 4\\end{matrix}\\right]$"
      ],
      "text/plain": [
       "Matrix([\n",
       "[  5, -6,  7],\n",
       "[  5, 21, -2],\n",
       "[-10,  3,  4]])"
      ]
     },
     "execution_count": 83,
     "metadata": {},
     "output_type": "execute_result"
    }
   ],
   "source": [
    "# adjunta\n",
    "A12co.T"
   ]
  },
  {
   "cell_type": "code",
   "execution_count": 85,
   "id": "2e8a5a2e-618e-455f-b6b2-f4a0b9546247",
   "metadata": {},
   "outputs": [
    {
     "data": {
      "text/latex": [
       "$\\displaystyle 45$"
      ],
      "text/plain": [
       "45"
      ]
     },
     "execution_count": 85,
     "metadata": {},
     "output_type": "execute_result"
    }
   ],
   "source": [
    "A12.det()"
   ]
  },
  {
   "cell_type": "markdown",
   "id": "38ee0591-e745-4bdf-afbd-532a05042a9a",
   "metadata": {},
   "source": [
    "Determinante\n",
    "\n",
    "$$(-1)^{1+1}2\\begin{bmatrix}2&1\\\\1&3 \\end{bmatrix}+\n",
    "(-1)^{3+1}5\\begin{bmatrix} 1&-3\\\\2&1\\end{bmatrix}$$\n",
    "\n",
    "$$2(6-1)+5(1+6)=10+35=45$$"
   ]
  },
  {
   "cell_type": "code",
   "execution_count": 86,
   "id": "9d42d0c5-4736-4b58-803f-45cd74c9944b",
   "metadata": {},
   "outputs": [
    {
     "data": {
      "text/latex": [
       "$\\displaystyle \\left[\\begin{matrix}\\frac{1}{9} & - \\frac{2}{15} & \\frac{7}{45}\\\\\\frac{1}{9} & \\frac{7}{15} & - \\frac{2}{45}\\\\- \\frac{2}{9} & \\frac{1}{15} & \\frac{4}{45}\\end{matrix}\\right]$"
      ],
      "text/plain": [
       "Matrix([\n",
       "[ 1/9, -2/15,  7/45],\n",
       "[ 1/9,  7/15, -2/45],\n",
       "[-2/9,  1/15,  4/45]])"
      ]
     },
     "execution_count": 86,
     "metadata": {},
     "output_type": "execute_result"
    }
   ],
   "source": [
    "A12.inv()"
   ]
  },
  {
   "cell_type": "markdown",
   "id": "aad118d7-6d31-490e-acff-5662fc2e8e0d",
   "metadata": {},
   "source": [
    "## 13\n",
    "\n",
    "Mostre que $$\\det\\begin{bmatrix} 1&1&1\\\\a&b&c\\\\a^2&b^2&c^2\\end{bmatrix}= (a-b)(b-c)(c-a)$$"
   ]
  },
  {
   "cell_type": "code",
   "execution_count": 87,
   "id": "fc9e2c6f-77c1-4a84-b99d-ec595ffc81f4",
   "metadata": {},
   "outputs": [],
   "source": [
    "a,b,c = sym.symbols(\"a b c\")"
   ]
  },
  {
   "cell_type": "code",
   "execution_count": 89,
   "id": "d215faa1-e5d8-4445-b67e-72524c6784f4",
   "metadata": {},
   "outputs": [
    {
     "data": {
      "text/latex": [
       "$\\displaystyle \\left[\\begin{matrix}1 & 1 & 1\\\\a & b & c\\\\a^{2} & b^{2} & c^{2}\\end{matrix}\\right]$"
      ],
      "text/plain": [
       "Matrix([\n",
       "[   1,    1,    1],\n",
       "[   a,    b,    c],\n",
       "[a**2, b**2, c**2]])"
      ]
     },
     "execution_count": 89,
     "metadata": {},
     "output_type": "execute_result"
    }
   ],
   "source": [
    "A13 = sym.Matrix([[1,1,1],[a,b,c],[a**2,b**2,c**2]])\n",
    "A13"
   ]
  },
  {
   "cell_type": "code",
   "execution_count": 93,
   "id": "8d37321d-fbe9-41e1-86ff-5cfabf05af50",
   "metadata": {},
   "outputs": [
    {
     "data": {
      "text/latex": [
       "$\\displaystyle - \\left(a - b\\right) \\left(a - c\\right) \\left(b - c\\right)$"
      ],
      "text/plain": [
       "-(a - b)*(a - c)*(b - c)"
      ]
     },
     "execution_count": 93,
     "metadata": {},
     "output_type": "execute_result"
    }
   ],
   "source": [
    "sym.factor(A13.det())"
   ]
  },
  {
   "cell_type": "markdown",
   "id": "6661bd05-1f0b-4ac1-81b8-2681c844de73",
   "metadata": {},
   "source": [
    "$$(-1)^{1+1}\\begin{bmatrix}b&c\\\\b^2&c^2 \\end{bmatrix}+\n",
    "(-1)^{1+2}\\begin{bmatrix} a&c\\\\a^2&c^2\\end{bmatrix}+\n",
    "(-1)^{1+3}\\begin{bmatrix} a&b\\\\a^2&b^2\\end{bmatrix}$$"
   ]
  },
  {
   "cell_type": "markdown",
   "id": "1b348cbc-42fd-4509-967e-626b8a612226",
   "metadata": {},
   "source": [
    "$$1(bc^2-b^2c)-1(ac^2-a^2c)+1(ab^2-a^2b)$$\n",
    "\n",
    "$$bc^2-b^2c-ac^2+a^2c+ab^2-a^2b$$\n",
    "\n",
    "$$-(a-b)(a-c)(b-c)$$"
   ]
  },
  {
   "cell_type": "code",
   "execution_count": 98,
   "id": "c4f62a61-14e2-4a36-a54c-4c19349a78b5",
   "metadata": {},
   "outputs": [],
   "source": [
    "S= (a-b)*(b-c)*(c-a)"
   ]
  },
  {
   "cell_type": "code",
   "execution_count": 100,
   "id": "01644840-dbc6-40fa-87f5-fe4ac4e5624b",
   "metadata": {},
   "outputs": [
    {
     "data": {
      "text/latex": [
       "$\\displaystyle - \\left(a - b\\right) \\left(a - c\\right) \\left(b - c\\right)$"
      ],
      "text/plain": [
       "-(a - b)*(a - c)*(b - c)"
      ]
     },
     "execution_count": 100,
     "metadata": {},
     "output_type": "execute_result"
    }
   ],
   "source": [
    "sym.factor(S)"
   ]
  },
  {
   "cell_type": "code",
   "execution_count": 105,
   "id": "67b95c00-0cd7-4a53-b5c6-7b7140fcb324",
   "metadata": {},
   "outputs": [
    {
     "data": {
      "text/latex": [
       "$\\displaystyle - \\left(a - b\\right) \\left(a - c\\right) \\left(b - c\\right)$"
      ],
      "text/plain": [
       "-(a - b)*(a - c)*(b - c)"
      ]
     },
     "execution_count": 105,
     "metadata": {},
     "output_type": "execute_result"
    }
   ],
   "source": [
    "sym.factor(b*c**2-b**2*c-a*c**2+a**2*c+a*b**2-a**2*b)"
   ]
  },
  {
   "cell_type": "markdown",
   "id": "8ed4358c-a360-43d2-996d-64aaa0898770",
   "metadata": {},
   "source": [
    "## 16\n",
    "\n",
    "Resolva o sistema usando a regra de Cramer"
   ]
  }
 ],
 "metadata": {
  "kernelspec": {
   "display_name": "Python 3 (ipykernel)",
   "language": "python",
   "name": "python3"
  },
  "language_info": {
   "codemirror_mode": {
    "name": "ipython",
    "version": 3
   },
   "file_extension": ".py",
   "mimetype": "text/x-python",
   "name": "python",
   "nbconvert_exporter": "python",
   "pygments_lexer": "ipython3",
   "version": "3.11.7"
  }
 },
 "nbformat": 4,
 "nbformat_minor": 5
}
