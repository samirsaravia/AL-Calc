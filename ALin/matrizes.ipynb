{
 "cells": [
  {
   "cell_type": "markdown",
   "id": "a96a77e2-62c3-4785-b1ea-78ad93d6bba9",
   "metadata": {},
   "source": [
    "# Sympy vs Numpy"
   ]
  },
  {
   "cell_type": "markdown",
   "id": "43ce914b-7fbc-45aa-859e-97e279969e25",
   "metadata": {},
   "source": [
    "## Sympy"
   ]
  },
  {
   "cell_type": "code",
   "execution_count": 1,
   "id": "4c6d39dc-1aaf-41dd-a2c2-1f3765f7ecc4",
   "metadata": {},
   "outputs": [],
   "source": [
    "import sympy as sym"
   ]
  },
  {
   "cell_type": "code",
   "execution_count": 2,
   "id": "7d41fc1b-6bf4-43c8-ac6c-3056620ccc4a",
   "metadata": {},
   "outputs": [
    {
     "data": {
      "text/latex": [
       "$\\displaystyle \\left[\\begin{matrix}1 & 2 & 3\\\\2 & 3 & 4\\\\6 & 7 & 8\\end{matrix}\\right]$"
      ],
      "text/plain": [
       "⎡1  2  3⎤\n",
       "⎢       ⎥\n",
       "⎢2  3  4⎥\n",
       "⎢       ⎥\n",
       "⎣6  7  8⎦"
      ]
     },
     "execution_count": 2,
     "metadata": {},
     "output_type": "execute_result"
    }
   ],
   "source": [
    "sym.init_printing(\"mathjax\")\n",
    "sym.Matrix([[1,2,3],[2,3,4],[6,7,8]])"
   ]
  },
  {
   "cell_type": "markdown",
   "id": "c770d9ca-2eeb-40a4-bb29-24093d85eade",
   "metadata": {},
   "source": [
    "### Identidade"
   ]
  },
  {
   "cell_type": "code",
   "execution_count": 3,
   "id": "71ecf278-b22d-40dd-8d98-276d8c81dd16",
   "metadata": {},
   "outputs": [
    {
     "data": {
      "text/latex": [
       "$\\displaystyle \\left[\\begin{matrix}1 & 0 & 0\\\\0 & 1 & 0\\\\0 & 0 & 1\\end{matrix}\\right]$"
      ],
      "text/plain": [
       "⎡1  0  0⎤\n",
       "⎢       ⎥\n",
       "⎢0  1  0⎥\n",
       "⎢       ⎥\n",
       "⎣0  0  1⎦"
      ]
     },
     "execution_count": 3,
     "metadata": {},
     "output_type": "execute_result"
    }
   ],
   "source": [
    "sym.eye(3)"
   ]
  },
  {
   "cell_type": "code",
   "execution_count": 4,
   "id": "ead56451-b576-4553-8446-b13e5557f69d",
   "metadata": {},
   "outputs": [
    {
     "data": {
      "text/plain": [
       "sympy.matrices.dense.MutableDenseMatrix"
      ]
     },
     "execution_count": 4,
     "metadata": {},
     "output_type": "execute_result"
    }
   ],
   "source": [
    "type(sym.eye(3))"
   ]
  },
  {
   "cell_type": "markdown",
   "id": "75762d18-b174-4aee-ad0a-fb3a1e3775a1",
   "metadata": {},
   "source": [
    "### Traço"
   ]
  },
  {
   "cell_type": "markdown",
   "id": "80a84deb-91c4-4e27-a0bd-3dfc31507359",
   "metadata": {},
   "source": [
    "Soma dos elementos da diagonal principal"
   ]
  },
  {
   "cell_type": "code",
   "execution_count": 5,
   "id": "19beaa5a-5bd6-4dc1-8e80-83d9f86f7732",
   "metadata": {},
   "outputs": [
    {
     "data": {
      "image/png": "[encoded data removed]",
      "text/latex": [
       "$\\displaystyle 3$"
      ],
      "text/plain": [
       "3"
      ]
     },
     "execution_count": 5,
     "metadata": {},
     "output_type": "execute_result"
    }
   ],
   "source": [
    "sym.eye(3).trace()"
   ]
  },
  {
   "cell_type": "markdown",
   "id": "46c42c54-8dd5-4df8-9425-ab5997e47ca8",
   "metadata": {},
   "source": [
    "### Nula"
   ]
  },
  {
   "cell_type": "code",
   "execution_count": 6,
   "id": "fbe6773b-b6b0-41b9-9107-40ce77d58ed6",
   "metadata": {},
   "outputs": [
    {
     "data": {
      "text/latex": [
       "$\\displaystyle \\left[\\begin{matrix}0 & 0 & 0\\\\0 & 0 & 0\\\\0 & 0 & 0\\end{matrix}\\right]$"
      ],
      "text/plain": [
       "⎡0  0  0⎤\n",
       "⎢       ⎥\n",
       "⎢0  0  0⎥\n",
       "⎢       ⎥\n",
       "⎣0  0  0⎦"
      ]
     },
     "execution_count": 6,
     "metadata": {},
     "output_type": "execute_result"
    }
   ],
   "source": [
    "sym.zeros(3)"
   ]
  },
  {
   "cell_type": "code",
   "execution_count": 7,
   "id": "bd439224-3416-4f59-843e-145f894637e3",
   "metadata": {},
   "outputs": [
    {
     "data": {
      "text/plain": [
       "sympy.matrices.dense.MutableDenseMatrix"
      ]
     },
     "execution_count": 7,
     "metadata": {},
     "output_type": "execute_result"
    }
   ],
   "source": [
    "type(sym.zeros(3))"
   ]
  },
  {
   "cell_type": "markdown",
   "id": "09491ec1-3f49-413a-a933-85b489b9bc3d",
   "metadata": {},
   "source": [
    "### Diagonal"
   ]
  },
  {
   "cell_type": "code",
   "execution_count": 8,
   "id": "67efbcac-6442-4a33-b6b1-02cf769a8fe5",
   "metadata": {},
   "outputs": [
    {
     "data": {
      "text/latex": [
       "$\\displaystyle \\left[\\begin{matrix}2 & 0 & 0 & 0\\\\0 & 3 & 0 & 0\\\\0 & 0 & 4 & 0\\\\0 & 0 & 0 & 5\\end{matrix}\\right]$"
      ],
      "text/plain": [
       "⎡2  0  0  0⎤\n",
       "⎢          ⎥\n",
       "⎢0  3  0  0⎥\n",
       "⎢          ⎥\n",
       "⎢0  0  4  0⎥\n",
       "⎢          ⎥\n",
       "⎣0  0  0  5⎦"
      ]
     },
     "execution_count": 8,
     "metadata": {},
     "output_type": "execute_result"
    }
   ],
   "source": [
    "A = sym.diag(2,3,4,5)\n",
    "A"
   ]
  },
  {
   "cell_type": "code",
   "execution_count": 9,
   "id": "eef535a0-9757-4845-83a9-0636986e488d",
   "metadata": {},
   "outputs": [
    {
     "data": {
      "image/png": "[encoded data removed]",
      "text/latex": [
       "$\\displaystyle 3$"
      ],
      "text/plain": [
       "3"
      ]
     },
     "execution_count": 9,
     "metadata": {},
     "output_type": "execute_result"
    }
   ],
   "source": [
    "A[2-1,2-1]"
   ]
  },
  {
   "cell_type": "markdown",
   "id": "32a008ee-0997-4d6e-805f-28467d57b319",
   "metadata": {},
   "source": [
    "### Operações"
   ]
  },
  {
   "cell_type": "code",
   "execution_count": 10,
   "id": "9a8ea1e7-b6cd-4d9a-a8fa-f33b25845e70",
   "metadata": {},
   "outputs": [],
   "source": [
    "a11, a12 , a21, a22, b11, b12, b21 ,b22 = sym.symbols(\"a11 a12 a21 a22 b11 b12 b21 b22\")\n",
    "A = sym.Matrix([[a11, a12],[a21,a22]])\n",
    "B = sym.Matrix([[b11, b12],[b21,b22]])\n",
    "C = sym.eye(2)\n",
    "D = sym.zeros(2)"
   ]
  },
  {
   "cell_type": "code",
   "execution_count": 11,
   "id": "bf7adeb6-2670-459f-b81d-c7902790a940",
   "metadata": {},
   "outputs": [
    {
     "data": {
      "text/latex": [
       "$\\displaystyle \\left[\\begin{matrix}a_{11} & a_{12}\\\\a_{21} & a_{22}\\end{matrix}\\right]$"
      ],
      "text/plain": [
       "⎡a₁₁  a₁₂⎤\n",
       "⎢        ⎥\n",
       "⎣a₂₁  a₂₂⎦"
      ]
     },
     "execution_count": 11,
     "metadata": {},
     "output_type": "execute_result"
    }
   ],
   "source": [
    "A"
   ]
  },
  {
   "cell_type": "code",
   "execution_count": 12,
   "id": "413dfc13-2932-4966-807b-2f37f7eb7301",
   "metadata": {},
   "outputs": [
    {
     "data": {
      "text/latex": [
       "$\\displaystyle \\left[\\begin{matrix}b_{11} & b_{12}\\\\b_{21} & b_{22}\\end{matrix}\\right]$"
      ],
      "text/plain": [
       "⎡b₁₁  b₁₂⎤\n",
       "⎢        ⎥\n",
       "⎣b₂₁  b₂₂⎦"
      ]
     },
     "execution_count": 12,
     "metadata": {},
     "output_type": "execute_result"
    }
   ],
   "source": [
    "B"
   ]
  },
  {
   "cell_type": "code",
   "execution_count": 13,
   "id": "8070ca75-3efb-4ca4-9b5b-edaebe162fdb",
   "metadata": {},
   "outputs": [
    {
     "data": {
      "text/latex": [
       "$\\displaystyle \\left[\\begin{matrix}1 & 0\\\\0 & 1\\end{matrix}\\right]$"
      ],
      "text/plain": [
       "⎡1  0⎤\n",
       "⎢    ⎥\n",
       "⎣0  1⎦"
      ]
     },
     "execution_count": 13,
     "metadata": {},
     "output_type": "execute_result"
    }
   ],
   "source": [
    "C #I_n"
   ]
  },
  {
   "cell_type": "code",
   "execution_count": 14,
   "id": "683faa0b-93f2-40cb-9438-5014b2a3b144",
   "metadata": {},
   "outputs": [
    {
     "data": {
      "text/latex": [
       "$\\displaystyle \\left[\\begin{matrix}0 & 0\\\\0 & 0\\end{matrix}\\right]$"
      ],
      "text/plain": [
       "⎡0  0⎤\n",
       "⎢    ⎥\n",
       "⎣0  0⎦"
      ]
     },
     "execution_count": 14,
     "metadata": {},
     "output_type": "execute_result"
    }
   ],
   "source": [
    "D  # nula"
   ]
  },
  {
   "cell_type": "markdown",
   "id": "8f606459-e138-4f75-b623-94e92d625589",
   "metadata": {},
   "source": [
    "### Associativa"
   ]
  },
  {
   "cell_type": "code",
   "execution_count": 15,
   "id": "a82738fe-e0a0-420a-91b7-463a56a41852",
   "metadata": {},
   "outputs": [
    {
     "data": {
      "text/latex": [
       "$\\displaystyle \\left[\\begin{matrix}a_{11} + b_{11} & a_{12} + b_{12}\\\\a_{21} + b_{21} & a_{22} + b_{22}\\end{matrix}\\right]$"
      ],
      "text/plain": [
       "⎡a₁₁ + b₁₁  a₁₂ + b₁₂⎤\n",
       "⎢                    ⎥\n",
       "⎣a₂₁ + b₂₁  a₂₂ + b₂₂⎦"
      ]
     },
     "execution_count": 15,
     "metadata": {},
     "output_type": "execute_result"
    }
   ],
   "source": [
    "A+B"
   ]
  },
  {
   "cell_type": "code",
   "execution_count": 16,
   "id": "80ff125d-492d-4c42-98f0-dcd0d138afbb",
   "metadata": {},
   "outputs": [
    {
     "data": {
      "text/latex": [
       "$\\displaystyle \\left[\\begin{matrix}b_{11} + 1 & b_{12}\\\\b_{21} & b_{22} + 1\\end{matrix}\\right]$"
      ],
      "text/plain": [
       "⎡b₁₁ + 1    b₁₂  ⎤\n",
       "⎢                ⎥\n",
       "⎣  b₂₁    b₂₂ + 1⎦"
      ]
     },
     "execution_count": 16,
     "metadata": {},
     "output_type": "execute_result"
    }
   ],
   "source": [
    "B + C"
   ]
  },
  {
   "cell_type": "code",
   "execution_count": 17,
   "id": "bf1b9786-517f-4c99-80da-d9e2cab0cba0",
   "metadata": {},
   "outputs": [
    {
     "data": {
      "text/plain": [
       "True"
      ]
     },
     "execution_count": 17,
     "metadata": {},
     "output_type": "execute_result"
    }
   ],
   "source": [
    "(A + B) + C == A + (B + C)"
   ]
  },
  {
   "cell_type": "markdown",
   "id": "4dab253e-4107-4f5e-98d8-126bcb11cc0f",
   "metadata": {},
   "source": [
    "### Comutativa"
   ]
  },
  {
   "cell_type": "code",
   "execution_count": 18,
   "id": "e4e2fbe9-d764-44cc-87f7-5a1d7a9a3be4",
   "metadata": {},
   "outputs": [
    {
     "data": {
      "text/plain": [
       "True"
      ]
     },
     "execution_count": 18,
     "metadata": {},
     "output_type": "execute_result"
    }
   ],
   "source": [
    "A + B == B + A"
   ]
  },
  {
   "cell_type": "markdown",
   "id": "b13f8f83-1deb-42d5-8e48-11a723d6e565",
   "metadata": {},
   "source": [
    "### Existência de elemento neutro"
   ]
  },
  {
   "cell_type": "code",
   "execution_count": 19,
   "id": "9039ca79-0cc3-4b24-90f1-3ac00159a97f",
   "metadata": {},
   "outputs": [
    {
     "data": {
      "text/latex": [
       "$\\displaystyle \\left[\\begin{matrix}- a_{11} & - a_{12}\\\\- a_{21} & - a_{22}\\end{matrix}\\right]$"
      ],
      "text/plain": [
       "⎡-a₁₁  -a₁₂⎤\n",
       "⎢          ⎥\n",
       "⎣-a₂₁  -a₂₂⎦"
      ]
     },
     "execution_count": 19,
     "metadata": {},
     "output_type": "execute_result"
    }
   ],
   "source": [
    "-A"
   ]
  },
  {
   "cell_type": "code",
   "execution_count": 20,
   "id": "b79418e6-5c5c-45cc-9a26-f078d997dcb4",
   "metadata": {},
   "outputs": [
    {
     "data": {
      "text/latex": [
       "$\\displaystyle \\left[\\begin{matrix}0 & 0\\\\0 & 0\\end{matrix}\\right]$"
      ],
      "text/plain": [
       "⎡0  0⎤\n",
       "⎢    ⎥\n",
       "⎣0  0⎦"
      ]
     },
     "execution_count": 20,
     "metadata": {},
     "output_type": "execute_result"
    }
   ],
   "source": [
    "D"
   ]
  },
  {
   "cell_type": "code",
   "execution_count": 21,
   "id": "7338dc34-584e-4572-9143-c71becd5cf0d",
   "metadata": {},
   "outputs": [
    {
     "data": {
      "text/plain": [
       "True"
      ]
     },
     "execution_count": 21,
     "metadata": {},
     "output_type": "execute_result"
    }
   ],
   "source": [
    "A - A == D"
   ]
  },
  {
   "cell_type": "markdown",
   "id": "79a874b2-e769-47a3-8a38-1e7661b134aa",
   "metadata": {},
   "source": [
    "### Escalar"
   ]
  },
  {
   "cell_type": "code",
   "execution_count": 22,
   "id": "1b1c018c-487f-4a5b-95f0-992e92c377a5",
   "metadata": {},
   "outputs": [],
   "source": [
    "α, β = sym.symbols(\"α β\")   # escalares"
   ]
  },
  {
   "cell_type": "code",
   "execution_count": 23,
   "id": "f30fd68f-73f1-496b-a7ec-b684f69fb618",
   "metadata": {},
   "outputs": [
    {
     "data": {
      "text/latex": [
       "$\\displaystyle \\left[\\begin{matrix}a_{11} α β & a_{12} α β\\\\a_{21} α β & a_{22} α β\\end{matrix}\\right]$"
      ],
      "text/plain": [
       "⎡a₁₁⋅α⋅β  a₁₂⋅α⋅β⎤\n",
       "⎢                ⎥\n",
       "⎣a₂₁⋅α⋅β  a₂₂⋅α⋅β⎦"
      ]
     },
     "execution_count": 23,
     "metadata": {},
     "output_type": "execute_result"
    }
   ],
   "source": [
    "α * (β * A)"
   ]
  },
  {
   "cell_type": "code",
   "execution_count": 24,
   "id": "2c942028-95e9-49d1-9243-d7955f23069b",
   "metadata": {},
   "outputs": [
    {
     "data": {
      "text/plain": [
       "True"
      ]
     },
     "execution_count": 24,
     "metadata": {},
     "output_type": "execute_result"
    }
   ],
   "source": [
    "α *(β*A) == (α * β) * A"
   ]
  },
  {
   "cell_type": "code",
   "execution_count": 25,
   "id": "87adb63c-4192-44ae-8d17-8ef1390a1d4b",
   "metadata": {},
   "outputs": [
    {
     "data": {
      "text/plain": [
       "False"
      ]
     },
     "execution_count": 25,
     "metadata": {},
     "output_type": "execute_result"
    }
   ],
   "source": [
    "(α + β) * A == (α*A) + (β*A)"
   ]
  },
  {
   "cell_type": "code",
   "execution_count": 26,
   "id": "87d9808b-9f06-4bb7-8f84-42c6aa6027e7",
   "metadata": {},
   "outputs": [
    {
     "data": {
      "text/latex": [
       "$\\displaystyle \\left[\\begin{matrix}a_{11} \\left(α + β\\right) & a_{12} \\left(α + β\\right)\\\\a_{21} \\left(α + β\\right) & a_{22} \\left(α + β\\right)\\end{matrix}\\right]$"
      ],
      "text/plain": [
       "⎡a₁₁⋅(α + β)  a₁₂⋅(α + β)⎤\n",
       "⎢                        ⎥\n",
       "⎣a₂₁⋅(α + β)  a₂₂⋅(α + β)⎦"
      ]
     },
     "execution_count": 26,
     "metadata": {},
     "output_type": "execute_result"
    }
   ],
   "source": [
    "(α + β) * A"
   ]
  },
  {
   "cell_type": "code",
   "execution_count": 27,
   "id": "4ea48da2-ce7d-461b-888a-cbe929c697fb",
   "metadata": {},
   "outputs": [
    {
     "data": {
      "text/latex": [
       "$\\displaystyle \\left[\\begin{matrix}a_{11} α + a_{11} β & a_{12} α + a_{12} β\\\\a_{21} α + a_{21} β & a_{22} α + a_{22} β\\end{matrix}\\right]$"
      ],
      "text/plain": [
       "⎡a₁₁⋅α + a₁₁⋅β  a₁₂⋅α + a₁₂⋅β⎤\n",
       "⎢                            ⎥\n",
       "⎣a₂₁⋅α + a₂₁⋅β  a₂₂⋅α + a₂₂⋅β⎦"
      ]
     },
     "execution_count": 27,
     "metadata": {},
     "output_type": "execute_result"
    }
   ],
   "source": [
    "(α*A) + (β*A)"
   ]
  },
  {
   "cell_type": "code",
   "execution_count": 28,
   "id": "0553b7eb-82fd-495b-a821-e8e27a0b3b08",
   "metadata": {},
   "outputs": [
    {
     "data": {
      "text/plain": [
       "False"
      ]
     },
     "execution_count": 28,
     "metadata": {},
     "output_type": "execute_result"
    }
   ],
   "source": [
    "α * (A+B) == α*A + α*B"
   ]
  },
  {
   "cell_type": "code",
   "execution_count": 29,
   "id": "2fe69f56-0c64-4671-925d-9dccd39c761e",
   "metadata": {},
   "outputs": [
    {
     "data": {
      "text/plain": [
       "True"
      ]
     },
     "execution_count": 29,
     "metadata": {},
     "output_type": "execute_result"
    }
   ],
   "source": [
    "1*A == A"
   ]
  },
  {
   "cell_type": "markdown",
   "id": "690e6e74-9d0b-4ddb-be37-b053b71cc4c0",
   "metadata": {},
   "source": [
    "### Produto de uma matriz"
   ]
  },
  {
   "cell_type": "code",
   "execution_count": 30,
   "id": "97b78a96-e248-4b0b-a98d-a2b3e347f78a",
   "metadata": {},
   "outputs": [
    {
     "data": {
      "image/png": "[encoded data removed]",
      "text/latex": [
       "$\\displaystyle \\left( 2, \\  2\\right)$"
      ],
      "text/plain": [
       "(2, 2)"
      ]
     },
     "execution_count": 30,
     "metadata": {},
     "output_type": "execute_result"
    }
   ],
   "source": [
    "A.shape"
   ]
  },
  {
   "cell_type": "code",
   "execution_count": 31,
   "id": "bd1f029d-5d60-4a26-9c72-2477ae5a6a1b",
   "metadata": {},
   "outputs": [
    {
     "data": {
      "text/latex": [
       "$\\displaystyle \\left[\\begin{matrix}a_{11} & a_{12}\\\\a_{21} & a_{22}\\end{matrix}\\right]$"
      ],
      "text/plain": [
       "⎡a₁₁  a₁₂⎤\n",
       "⎢        ⎥\n",
       "⎣a₂₁  a₂₂⎦"
      ]
     },
     "execution_count": 31,
     "metadata": {},
     "output_type": "execute_result"
    }
   ],
   "source": [
    "A"
   ]
  },
  {
   "cell_type": "code",
   "execution_count": 32,
   "id": "934cda65-6aee-418c-bd6e-1f2a17eb8f8a",
   "metadata": {},
   "outputs": [
    {
     "data": {
      "text/latex": [
       "$\\displaystyle \\left[\\begin{matrix}1 & 2 & 3\\\\4 & 5 & 6\\end{matrix}\\right]$"
      ],
      "text/plain": [
       "⎡1  2  3⎤\n",
       "⎢       ⎥\n",
       "⎣4  5  6⎦"
      ]
     },
     "execution_count": 32,
     "metadata": {},
     "output_type": "execute_result"
    }
   ],
   "source": [
    "A23 = sym.Matrix([[1,2,3],[4,5,6]])\n",
    "A23"
   ]
  },
  {
   "cell_type": "code",
   "execution_count": 33,
   "id": "12a416ba-defc-483b-a0bb-398069e70295",
   "metadata": {},
   "outputs": [
    {
     "data": {
      "image/png": "[encoded data removed]",
      "text/latex": [
       "$\\displaystyle \\left( 2, \\  3\\right)$"
      ],
      "text/plain": [
       "(2, 3)"
      ]
     },
     "execution_count": 33,
     "metadata": {},
     "output_type": "execute_result"
    }
   ],
   "source": [
    "A23.shape"
   ]
  },
  {
   "cell_type": "code",
   "execution_count": 34,
   "id": "cd1de07b-ccbb-4f90-89c6-9a72aa16f03b",
   "metadata": {},
   "outputs": [
    {
     "data": {
      "text/latex": [
       "$\\displaystyle \\left[\\begin{matrix}a_{11} + 4 a_{12} & 2 a_{11} + 5 a_{12} & 3 a_{11} + 6 a_{12}\\\\a_{21} + 4 a_{22} & 2 a_{21} + 5 a_{22} & 3 a_{21} + 6 a_{22}\\end{matrix}\\right]$"
      ],
      "text/plain": [
       "⎡a₁₁ + 4⋅a₁₂  2⋅a₁₁ + 5⋅a₁₂  3⋅a₁₁ + 6⋅a₁₂⎤\n",
       "⎢                                         ⎥\n",
       "⎣a₂₁ + 4⋅a₂₂  2⋅a₂₁ + 5⋅a₂₂  3⋅a₂₁ + 6⋅a₂₂⎦"
      ]
     },
     "execution_count": 34,
     "metadata": {},
     "output_type": "execute_result"
    }
   ],
   "source": [
    "M = A * A23\n",
    "M"
   ]
  },
  {
   "cell_type": "code",
   "execution_count": 35,
   "id": "8a1bb13d-c36e-4293-b6d5-1b5b14530e49",
   "metadata": {},
   "outputs": [
    {
     "data": {
      "image/png": "[encoded data removed]",
      "text/latex": [
       "$\\displaystyle \\left( 2, \\  3\\right)$"
      ],
      "text/plain": [
       "(2, 3)"
      ]
     },
     "execution_count": 35,
     "metadata": {},
     "output_type": "execute_result"
    }
   ],
   "source": [
    "M.shape"
   ]
  },
  {
   "cell_type": "code",
   "execution_count": 36,
   "id": "306d210d-e55a-413b-9b63-be6004c6eeea",
   "metadata": {},
   "outputs": [],
   "source": [
    "def multiplicaM(*A):\n",
    "    armazem = []\n",
    "    for i in range(len(A)):\n",
    "        if i == 0:\n",
    "            armazem.append(A[0].shape)\n",
    "        else:\n",
    "            if A[i].shape[0] == armazem[-1][1]:\n",
    "                print(f\"{i}º com o {i+1}º Pode\")\n",
    "                armazem.append(A[i].shape)\n",
    "            else:\n",
    "                print(f\"{i}º com o {i+1} Não pode\")\n",
    "                armazem.append(A[i].shape)"
   ]
  },
  {
   "cell_type": "code",
   "execution_count": 37,
   "id": "72b44275-d199-44fc-8466-56a44d1758eb",
   "metadata": {},
   "outputs": [
    {
     "name": "stdout",
     "output_type": "stream",
     "text": [
      "1º com o 2º Pode\n",
      "2º com o 3 Não pode\n"
     ]
    }
   ],
   "source": [
    "multiplicaM(A,A23,B)"
   ]
  },
  {
   "cell_type": "code",
   "execution_count": 38,
   "id": "bf150c8e-acfc-42bd-ac94-9eb98e164e3a",
   "metadata": {},
   "outputs": [
    {
     "data": {
      "text/latex": [
       "$\\displaystyle \\left[\\begin{matrix}1 & 0\\\\0 & 1\\end{matrix}\\right]$"
      ],
      "text/plain": [
       "⎡1  0⎤\n",
       "⎢    ⎥\n",
       "⎣0  1⎦"
      ]
     },
     "execution_count": 38,
     "metadata": {},
     "output_type": "execute_result"
    }
   ],
   "source": [
    "E = sym.eye(2)\n",
    "E"
   ]
  },
  {
   "cell_type": "code",
   "execution_count": 39,
   "id": "c74d4e32-cf84-4c1b-9d87-0324bf007c5f",
   "metadata": {},
   "outputs": [
    {
     "data": {
      "text/plain": [
       "True"
      ]
     },
     "execution_count": 39,
     "metadata": {},
     "output_type": "execute_result"
    }
   ],
   "source": [
    "A* E == A"
   ]
  },
  {
   "cell_type": "code",
   "execution_count": 40,
   "id": "05252c0e-42ff-4e21-a63a-acf7d0984647",
   "metadata": {},
   "outputs": [
    {
     "data": {
      "text/plain": [
       "True"
      ]
     },
     "execution_count": 40,
     "metadata": {},
     "output_type": "execute_result"
    }
   ],
   "source": [
    "E*A == A"
   ]
  },
  {
   "cell_type": "markdown",
   "id": "ebe2ac74-5dbe-4b0e-bc87-34ed4560eef1",
   "metadata": {},
   "source": [
    "### Inversa"
   ]
  },
  {
   "cell_type": "code",
   "execution_count": 41,
   "id": "a1dec1c0-33cc-4c7a-931d-f88d6f7c2a4b",
   "metadata": {},
   "outputs": [
    {
     "data": {
      "text/latex": [
       "$\\displaystyle \\left[\\begin{matrix}\\frac{a_{22}}{a_{11} a_{22} - a_{12} a_{21}} & - \\frac{a_{12}}{a_{11} a_{22} - a_{12} a_{21}}\\\\- \\frac{a_{21}}{a_{11} a_{22} - a_{12} a_{21}} & \\frac{a_{11}}{a_{11} a_{22} - a_{12} a_{21}}\\end{matrix}\\right]$"
      ],
      "text/plain": [
       "⎡       a₂₂               -a₁₂       ⎤\n",
       "⎢─────────────────  ─────────────────⎥\n",
       "⎢a₁₁⋅a₂₂ - a₁₂⋅a₂₁  a₁₁⋅a₂₂ - a₁₂⋅a₂₁⎥\n",
       "⎢                                    ⎥\n",
       "⎢      -a₂₁                a₁₁       ⎥\n",
       "⎢─────────────────  ─────────────────⎥\n",
       "⎣a₁₁⋅a₂₂ - a₁₂⋅a₂₁  a₁₁⋅a₂₂ - a₁₂⋅a₂₁⎦"
      ]
     },
     "execution_count": 41,
     "metadata": {},
     "output_type": "execute_result"
    }
   ],
   "source": [
    "A**(-1)"
   ]
  },
  {
   "cell_type": "code",
   "execution_count": 42,
   "id": "1153627b-60a1-4892-967e-eacb95bafc40",
   "metadata": {},
   "outputs": [
    {
     "data": {
      "text/latex": [
       "$\\displaystyle \\left[\\begin{matrix}\\frac{a_{22}}{a_{11} a_{22} - a_{12} a_{21}} & - \\frac{a_{12}}{a_{11} a_{22} - a_{12} a_{21}}\\\\- \\frac{a_{21}}{a_{11} a_{22} - a_{12} a_{21}} & \\frac{a_{11}}{a_{11} a_{22} - a_{12} a_{21}}\\end{matrix}\\right]$"
      ],
      "text/plain": [
       "⎡       a₂₂               -a₁₂       ⎤\n",
       "⎢─────────────────  ─────────────────⎥\n",
       "⎢a₁₁⋅a₂₂ - a₁₂⋅a₂₁  a₁₁⋅a₂₂ - a₁₂⋅a₂₁⎥\n",
       "⎢                                    ⎥\n",
       "⎢      -a₂₁                a₁₁       ⎥\n",
       "⎢─────────────────  ─────────────────⎥\n",
       "⎣a₁₁⋅a₂₂ - a₁₂⋅a₂₁  a₁₁⋅a₂₂ - a₁₂⋅a₂₁⎦"
      ]
     },
     "execution_count": 42,
     "metadata": {},
     "output_type": "execute_result"
    }
   ],
   "source": [
    "A.inv()"
   ]
  },
  {
   "cell_type": "code",
   "execution_count": 43,
   "id": "671ec9eb-bbf1-42d3-954b-7c3730c0541c",
   "metadata": {},
   "outputs": [
    {
     "data": {
      "text/plain": [
       "True"
      ]
     },
     "execution_count": 43,
     "metadata": {},
     "output_type": "execute_result"
    }
   ],
   "source": [
    "A*A**(-1) == A**(-1)*A"
   ]
  },
  {
   "cell_type": "markdown",
   "id": "85398db3-0ae3-4e6f-a80f-de74b739882d",
   "metadata": {},
   "source": [
    "### Transposta"
   ]
  },
  {
   "cell_type": "code",
   "execution_count": 44,
   "id": "3d3eed24-b1b2-4f0f-87e9-2e5a31ac2e57",
   "metadata": {},
   "outputs": [
    {
     "data": {
      "text/latex": [
       "$\\displaystyle \\left[\\begin{matrix}a_{11} & a_{12}\\\\a_{21} & a_{22}\\end{matrix}\\right]$"
      ],
      "text/plain": [
       "⎡a₁₁  a₁₂⎤\n",
       "⎢        ⎥\n",
       "⎣a₂₁  a₂₂⎦"
      ]
     },
     "execution_count": 44,
     "metadata": {},
     "output_type": "execute_result"
    }
   ],
   "source": [
    "A"
   ]
  },
  {
   "cell_type": "code",
   "execution_count": 45,
   "id": "ff448e49-48a2-4be6-9348-5f1a60bb6f88",
   "metadata": {},
   "outputs": [
    {
     "data": {
      "text/latex": [
       "$\\displaystyle \\left[\\begin{matrix}a_{11} & a_{21}\\\\a_{12} & a_{22}\\end{matrix}\\right]$"
      ],
      "text/plain": [
       "⎡a₁₁  a₂₁⎤\n",
       "⎢        ⎥\n",
       "⎣a₁₂  a₂₂⎦"
      ]
     },
     "execution_count": 45,
     "metadata": {},
     "output_type": "execute_result"
    }
   ],
   "source": [
    "A.T   # um jeito"
   ]
  },
  {
   "cell_type": "code",
   "execution_count": 46,
   "id": "8c1d10ac-9543-4aad-ab12-50e93e3a4ecd",
   "metadata": {},
   "outputs": [
    {
     "data": {
      "text/latex": [
       "$\\displaystyle \\left[\\begin{matrix}a_{11} & a_{21}\\\\a_{12} & a_{22}\\end{matrix}\\right]$"
      ],
      "text/plain": [
       "⎡a₁₁  a₂₁⎤\n",
       "⎢        ⎥\n",
       "⎣a₁₂  a₂₂⎦"
      ]
     },
     "execution_count": 46,
     "metadata": {},
     "output_type": "execute_result"
    }
   ],
   "source": [
    "A.transpose()  # outro jeito"
   ]
  },
  {
   "cell_type": "markdown",
   "id": "de0695a8",
   "metadata": {},
   "source": [
    "### Propriedades da Matriz Transposta"
   ]
  },
  {
   "cell_type": "code",
   "execution_count": 47,
   "id": "80d510f9",
   "metadata": {},
   "outputs": [
    {
     "data": {
      "text/plain": [
       "True"
      ]
     },
     "execution_count": 47,
     "metadata": {},
     "output_type": "execute_result"
    }
   ],
   "source": [
    "(A+B).T == A.T + B.T"
   ]
  },
  {
   "cell_type": "code",
   "execution_count": 48,
   "id": "9e0d8cde",
   "metadata": {},
   "outputs": [
    {
     "data": {
      "text/plain": [
       "True"
      ]
     },
     "execution_count": 48,
     "metadata": {},
     "output_type": "execute_result"
    }
   ],
   "source": [
    "(α*A).T == α*A.T"
   ]
  },
  {
   "cell_type": "code",
   "execution_count": 49,
   "id": "81c8b580",
   "metadata": {},
   "outputs": [
    {
     "data": {
      "text/plain": [
       "True"
      ]
     },
     "execution_count": 49,
     "metadata": {},
     "output_type": "execute_result"
    }
   ],
   "source": [
    "(A.T).T == A"
   ]
  },
  {
   "cell_type": "code",
   "execution_count": 50,
   "id": "ab3864b1",
   "metadata": {},
   "outputs": [
    {
     "data": {
      "text/plain": [
       "True"
      ]
     },
     "execution_count": 50,
     "metadata": {},
     "output_type": "execute_result"
    }
   ],
   "source": [
    "(A*B).T == B.T*A.T"
   ]
  },
  {
   "cell_type": "markdown",
   "id": "14f20462",
   "metadata": {},
   "source": [
    "**Teorema**\n",
    "\n",
    "Se uma matriz A é inversível, então $A^T$ também é inversível e \n",
    "$$(A^T)^{-1}+(A^{-1})^T$$"
   ]
  },
  {
   "cell_type": "code",
   "execution_count": 51,
   "id": "0a72fbe7",
   "metadata": {},
   "outputs": [
    {
     "data": {
      "text/latex": [
       "$\\displaystyle \\left[\\begin{matrix}1 & 0\\\\0 & 1\\end{matrix}\\right]$"
      ],
      "text/plain": [
       "⎡1  0⎤\n",
       "⎢    ⎥\n",
       "⎣0  1⎦"
      ]
     },
     "execution_count": 51,
     "metadata": {},
     "output_type": "execute_result"
    }
   ],
   "source": [
    "A**0"
   ]
  },
  {
   "cell_type": "code",
   "execution_count": 52,
   "id": "75ea2a54",
   "metadata": {},
   "outputs": [
    {
     "data": {
      "text/plain": [
       "True"
      ]
     },
     "execution_count": 52,
     "metadata": {},
     "output_type": "execute_result"
    }
   ],
   "source": [
    "A**0 == sym.eye(2)"
   ]
  },
  {
   "cell_type": "markdown",
   "id": "9ca0848e",
   "metadata": {},
   "source": [
    "**Teorema**\n",
    "\n",
    "\n",
    "Se A é uma matriz quadrada e r e s são números inteiros, então \n",
    "\n",
    "$$A^rA^s= A^{r+s}$$\n",
    "\n",
    "\n",
    "$$(A^r)^s = A^{rs}$$"
   ]
  },
  {
   "cell_type": "markdown",
   "id": "b5f0d0db",
   "metadata": {},
   "source": [
    "**Teorema**\n",
    "\n",
    "Se A é uma matriz inversível,então:\n",
    "\n",
    "- $A^{-1}$ é inversível e $(A^{-1})^{-1}=A$\n",
    "- $A^n$ é inversível e $(A^n)^{-1} = (A^{-1})^n$\n",
    "Para n = 0,1,2,...\n",
    "\n",
    "- para qualquer escalar não nulo $k$, a matriz $kA$ é inversível e $$(kA)^{-1} = \\frac1kA^{-1}$$"
   ]
  },
  {
   "cell_type": "markdown",
   "id": "7aeabfe3",
   "metadata": {},
   "source": [
    "O produto de uma matriz quadrada A pela sua transposta $A^T$ é uma matriz *simétrica*."
   ]
  },
  {
   "cell_type": "code",
   "execution_count": 53,
   "id": "5a05a30a",
   "metadata": {},
   "outputs": [
    {
     "data": {
      "text/latex": [
       "$\\displaystyle \\left[\\begin{matrix}1 & 2 & 3\\\\2 & 3 & 4\\\\10 & 7 & 8\\end{matrix}\\right]$"
      ],
      "text/plain": [
       "⎡1   2  3⎤\n",
       "⎢        ⎥\n",
       "⎢2   3  4⎥\n",
       "⎢        ⎥\n",
       "⎣10  7  8⎦"
      ]
     },
     "execution_count": 53,
     "metadata": {},
     "output_type": "execute_result"
    }
   ],
   "source": [
    "A1 = sym.Matrix([[1,2,3],[2,3,4],[10,7,8]])\n",
    "A1"
   ]
  },
  {
   "cell_type": "code",
   "execution_count": 54,
   "id": "c166c092",
   "metadata": {},
   "outputs": [
    {
     "data": {
      "text/latex": [
       "$\\displaystyle \\left[\\begin{matrix}14 & 20 & 48\\\\20 & 29 & 73\\\\48 & 73 & 213\\end{matrix}\\right]$"
      ],
      "text/plain": [
       "⎡14  20  48 ⎤\n",
       "⎢           ⎥\n",
       "⎢20  29  73 ⎥\n",
       "⎢           ⎥\n",
       "⎣48  73  213⎦"
      ]
     },
     "execution_count": 54,
     "metadata": {},
     "output_type": "execute_result"
    }
   ],
   "source": [
    "A1 * A1.T "
   ]
  },
  {
   "cell_type": "markdown",
   "id": "ef2f93b2",
   "metadata": {},
   "source": [
    "**Teorema**\n",
    "\n",
    "Se A e B são matrizes simétricas de mesma ordem e $k$ é um escalar qualquer, então:\n",
    "\n",
    "- $A^T$ é simétrica\n",
    "- $A+B  \\text{ e } A-B$ são simétricas\n",
    "- $kA$ é simétrica"
   ]
  },
  {
   "cell_type": "markdown",
   "id": "6ceda7b4",
   "metadata": {},
   "source": [
    "### Matriz Ortogonal\n",
    "\n",
    "Uma matriz $M$ cuja inversa coincide com a transposta é denominada matriz ortogonal, ou seja, $$M^{-1} = M^T$$  ou\n",
    "\n",
    "\n",
    "$$MM^T=M^TM=I$$"
   ]
  },
  {
   "cell_type": "code",
   "execution_count": 55,
   "id": "f9504224",
   "metadata": {},
   "outputs": [
    {
     "data": {
      "text/latex": [
       "$\\displaystyle \\left[\\begin{matrix}14 & 20 & 48\\\\20 & 29 & 73\\\\48 & 73 & 213\\end{matrix}\\right]$"
      ],
      "text/plain": [
       "⎡14  20  48 ⎤\n",
       "⎢           ⎥\n",
       "⎢20  29  73 ⎥\n",
       "⎢           ⎥\n",
       "⎣48  73  213⎦"
      ]
     },
     "execution_count": 55,
     "metadata": {},
     "output_type": "execute_result"
    }
   ],
   "source": [
    "A1*A1.T"
   ]
  },
  {
   "cell_type": "code",
   "execution_count": 56,
   "id": "119b6d58",
   "metadata": {},
   "outputs": [
    {
     "data": {
      "text/latex": [
       "$\\displaystyle \\left[\\begin{matrix}1 & - \\frac{5}{4} & \\frac{1}{4}\\\\-6 & \\frac{11}{2} & - \\frac{1}{2}\\\\4 & - \\frac{13}{4} & \\frac{1}{4}\\end{matrix}\\right]$"
      ],
      "text/plain": [
       "⎡1   -5/4   1/4 ⎤\n",
       "⎢               ⎥\n",
       "⎢-6  11/2   -1/2⎥\n",
       "⎢               ⎥\n",
       "⎣4   -13/4  1/4 ⎦"
      ]
     },
     "execution_count": 56,
     "metadata": {},
     "output_type": "execute_result"
    }
   ],
   "source": [
    "A1.inv()"
   ]
  },
  {
   "cell_type": "markdown",
   "id": "9fc4ecc2",
   "metadata": {},
   "source": [
    "### Determinante\n",
    "\n",
    "Lembrar que determinante só de matrizes quadradas!"
   ]
  },
  {
   "cell_type": "code",
   "execution_count": 57,
   "id": "8103e8ed",
   "metadata": {},
   "outputs": [
    {
     "data": {
      "text/latex": [
       "$\\displaystyle \\left[\\begin{matrix}a_{11} & a_{12}\\\\a_{21} & a_{22}\\end{matrix}\\right]$"
      ],
      "text/plain": [
       "⎡a₁₁  a₁₂⎤\n",
       "⎢        ⎥\n",
       "⎣a₂₁  a₂₂⎦"
      ]
     },
     "execution_count": 57,
     "metadata": {},
     "output_type": "execute_result"
    }
   ],
   "source": [
    "A"
   ]
  },
  {
   "cell_type": "code",
   "execution_count": 58,
   "id": "013561d1",
   "metadata": {},
   "outputs": [
    {
     "data": {
      "image/png": "[encoded data removed]",
      "text/latex": [
       "$\\displaystyle a_{11} a_{22} - a_{12} a_{21}$"
      ],
      "text/plain": [
       "a₁₁⋅a₂₂ - a₁₂⋅a₂₁"
      ]
     },
     "execution_count": 58,
     "metadata": {},
     "output_type": "execute_result"
    }
   ],
   "source": [
    "A.det()"
   ]
  },
  {
   "cell_type": "code",
   "execution_count": 59,
   "id": "5334b02d",
   "metadata": {},
   "outputs": [
    {
     "data": {
      "text/latex": [
       "$\\displaystyle \\left[\\begin{matrix}a & b & c\\\\d & e & f\\\\g & h & i\\end{matrix}\\right]$"
      ],
      "text/plain": [
       "⎡a  b  c⎤\n",
       "⎢       ⎥\n",
       "⎢d  e  f⎥\n",
       "⎢       ⎥\n",
       "⎣g  h  i⎦"
      ]
     },
     "execution_count": 59,
     "metadata": {},
     "output_type": "execute_result"
    }
   ],
   "source": [
    "a,b,c,d,e,f,g,h,i = sym.symbols(\"a b c d e f g h i\")\n",
    "A2 = sym.Matrix([[a,b,c],[d,e,f],[g,h,i]])\n",
    "A2"
   ]
  },
  {
   "cell_type": "code",
   "execution_count": 60,
   "id": "7dfc7aa5",
   "metadata": {},
   "outputs": [
    {
     "data": {
      "image/png": "[encoded data removed]",
      "text/latex": [
       "$\\displaystyle a e i - a f h - b d i + b f g + c d h - c e g$"
      ],
      "text/plain": [
       "a⋅e⋅i - a⋅f⋅h - b⋅d⋅i + b⋅f⋅g + c⋅d⋅h - c⋅e⋅g"
      ]
     },
     "execution_count": 60,
     "metadata": {},
     "output_type": "execute_result"
    }
   ],
   "source": [
    "A2.det()"
   ]
  },
  {
   "cell_type": "markdown",
   "id": "8ad58313",
   "metadata": {},
   "source": [
    "#### Laplace\n",
    "\n",
    "Permite calcular o determinante de modo recursivo, isto é, o determinante de uma matriz de ordem n é dado em termos do determinante de uma matriz de ordem $n-1$\n",
    "\n",
    "\n",
    "O determinante de $A_{ij}$ chama-se **menor** associado ao elemento $a_{ij}$. O número chama-se **cofator** do elemento $a_{ij}$\n",
    "\n",
    "$$(-1)^{i+j}\\det A_{ij}$$"
   ]
  },
  {
   "cell_type": "markdown",
   "id": "6f1f3504",
   "metadata": {},
   "source": [
    "O **determinante** da matriz A de ordem $n$ é definido por \n",
    "$$\\det A=\\sum_{j=1}^n(-1)^{1+j}a_{1j} \\det A_{1j}$$"
   ]
  },
  {
   "cell_type": "markdown",
   "id": "f57b2a4f",
   "metadata": {},
   "source": [
    "**Teorema**\n",
    "\n",
    "\n",
    "Seja $A$ uma  matriz quadrada.\n",
    "\n",
    "- Se A tem uma linha ou uma coluna de zeros, então $\\det A =0$\n",
    "- $\\det A = \\det A^T$\n",
    "- Se $A$ tem duas linhas ou duas colunas iguais, então $\\det A=0$\n",
    "- Se $A$ tem duas linhas proporcionais ou duas colunas proporcionais, então $\\det A=0$"
   ]
  },
  {
   "cell_type": "markdown",
   "id": "3018635d",
   "metadata": {},
   "source": [
    "**Teorema**\n",
    "\n",
    "Se $A$ é uma matriz triangular (superior, inferior, ou diagonal) de ordem $n$, então $\\det A$ é o **produto** dos elementos da **diagonal** principal da matriz, ou seja: $$\\det A = a_{11}\\times a_{22}...a_{nn}$$"
   ]
  },
  {
   "cell_type": "markdown",
   "id": "6e96f2f9",
   "metadata": {},
   "source": [
    "Em geral, $\\det A + \\det B \\neq \\det (A+B)$\n",
    "\n",
    "Uma matriz quadrada $A$ é **singular** quando seu determinante é nulo, $\\det A=0$. Uma matriz quadrada $A$ é **não singular** se $\\det A \\neq 0$\n",
    "\n",
    "Uma matriz quadrada $A$ é inversível se, e somente se, $\\det A \\neq 0$"
   ]
  },
  {
   "cell_type": "markdown",
   "id": "83bf3ccc",
   "metadata": {},
   "source": [
    "Se $A$ é uma matriz quadrada inversível, então $$\\det (A^{-1})=\\frac{1}{\\det A}$$"
   ]
  },
  {
   "cell_type": "markdown",
   "id": "bbe97047",
   "metadata": {},
   "source": [
    "### Matriz Cofatores de A\n",
    "\n",
    "Data uma matriz $A$ lembrando que o cofator $\\Delta_{ij}$ do elemento $a_{ij}$ da matriz $A$ é $$\\Delta_{ij}=(-1)^{i+j} \\det A_{ij}$$\n",
    "\n",
    "\n",
    "Onde $A_{ij}$ é a submatriz de $A$ obtida extraindo a i-ésima coluna de $A$, com estes cofatores podemos formar uma nova matriz denominada de **matriz dos cofatores de A**\n",
    "\n",
    "Notação: $$\\overline{A}$$"
   ]
  },
  {
   "cell_type": "code",
   "execution_count": 63,
   "id": "72ee6d6d",
   "metadata": {},
   "outputs": [
    {
     "data": {
      "text/latex": [
       "$\\displaystyle \\left[\\begin{matrix}a_{11} & a_{12}\\\\a_{21} & a_{22}\\end{matrix}\\right]$"
      ],
      "text/plain": [
       "⎡a₁₁  a₁₂⎤\n",
       "⎢        ⎥\n",
       "⎣a₂₁  a₂₂⎦"
      ]
     },
     "execution_count": 63,
     "metadata": {},
     "output_type": "execute_result"
    }
   ],
   "source": [
    "A"
   ]
  },
  {
   "cell_type": "code",
   "execution_count": 62,
   "id": "eb09e21e",
   "metadata": {},
   "outputs": [
    {
     "data": {
      "text/latex": [
       "$\\displaystyle \\left[\\begin{matrix}a_{22} & - a_{21}\\\\- a_{12} & a_{11}\\end{matrix}\\right]$"
      ],
      "text/plain": [
       "⎡a₂₂   -a₂₁⎤\n",
       "⎢          ⎥\n",
       "⎣-a₁₂  a₁₁ ⎦"
      ]
     },
     "execution_count": 62,
     "metadata": {},
     "output_type": "execute_result"
    }
   ],
   "source": [
    "A.cofactorMatrix()"
   ]
  },
  {
   "cell_type": "markdown",
   "id": "668f0e61",
   "metadata": {},
   "source": [
    "### Matriz Adjunta\n",
    "\n",
    "Dada uma matriz quadradad de $A$, chama-se de **matriz adjunta de A** a transposta da matriz dos cofatores de $A$.\n",
    "\n",
    "$$\\text{Adj } A=(\\overline{A})^T$$"
   ]
  },
  {
   "cell_type": "markdown",
   "id": "dee37d4e",
   "metadata": {},
   "source": [
    "### Teorema\n",
    "\n",
    "Seja $A_n$ uma matriz quadrada, então $$A(\\overline{A})= A(\\text{ adj } A) = (\\det A)Im$$"
   ]
  },
  {
   "cell_type": "markdown",
   "id": "ccdfa282",
   "metadata": {},
   "source": [
    "**OBs** pelo teorema anterior, se $A(\\overline A)^T$ é uma matriz diagonal"
   ]
  },
  {
   "cell_type": "code",
   "execution_count": 65,
   "id": "12116448",
   "metadata": {},
   "outputs": [
    {
     "data": {
      "text/latex": [
       "$\\displaystyle \\left[\\begin{matrix}a_{11} & a_{12}\\\\a_{21} & a_{22}\\end{matrix}\\right]$"
      ],
      "text/plain": [
       "⎡a₁₁  a₁₂⎤\n",
       "⎢        ⎥\n",
       "⎣a₂₁  a₂₂⎦"
      ]
     },
     "execution_count": 65,
     "metadata": {},
     "output_type": "execute_result"
    }
   ],
   "source": [
    "A"
   ]
  },
  {
   "cell_type": "code",
   "execution_count": 66,
   "id": "2ab45c17",
   "metadata": {},
   "outputs": [
    {
     "data": {
      "text/latex": [
       "$\\displaystyle \\left[\\begin{matrix}a_{11} a_{22} - a_{12} a_{21} & 0\\\\0 & a_{11} a_{22} - a_{12} a_{21}\\end{matrix}\\right]$"
      ],
      "text/plain": [
       "⎡a₁₁⋅a₂₂ - a₁₂⋅a₂₁          0        ⎤\n",
       "⎢                                    ⎥\n",
       "⎣        0          a₁₁⋅a₂₂ - a₁₂⋅a₂₁⎦"
      ]
     },
     "execution_count": 66,
     "metadata": {},
     "output_type": "execute_result"
    }
   ],
   "source": [
    "A*A.cofactorMatrix().T"
   ]
  },
  {
   "cell_type": "markdown",
   "id": "1933ca0b",
   "metadata": {},
   "source": [
    "### Teorema\n",
    "\n",
    "Uma matriz quadrada $A$ admite uma inversa **se e somente se** $\\det A \\neq 0$.  Neste caso $$A^{-1}=\\frac{1}{\\det A}(\\text{ adj })$$"
   ]
  },
  {
   "cell_type": "markdown",
   "id": "99645208-0f34-4ed5-8251-0b15890e5945",
   "metadata": {},
   "source": [
    "### Forma escada\n",
    "\n",
    "Uma matriz mxn é linha reduzida a forma escada se:\n",
    "\n",
    "- O primeiro elemento não nulo de uma linha não nula é 1\n",
    "- Cada coluna que contém o primeiro elemento não nulo de alguma linha tem todos os seus outros elementos iguais a zero\n",
    "- Toda linha nula ocorre abaixo de todas as linhas não nulas (isto é, daquelas que possuem pelo menos um elemento não nulo)\n",
    "- Se a linha 1 ...R são as linhas não nulas e se o primeiro elemento não nulo da linha i ocorre n coluna $K_i$, então $K_1<K_2 < K_3...< K_R$"
   ]
  },
  {
   "cell_type": "markdown",
   "id": "f9ea41a1-a7ae-4621-a816-bc3cc915af1a",
   "metadata": {},
   "source": [
    "### Teorema\n",
    "\n",
    "\n",
    "Toda matriz $A_{mxn}$ é linha equivalente a uma matriz linha reduzida à forma escada"
   ]
  },
  {
   "cell_type": "markdown",
   "id": "32852131-4a90-4c28-a88d-5624d964985e",
   "metadata": {},
   "source": [
    "O **posto** de A, denotado por P, é o número de linhas não nulas. A **nulidade** de A é número de colunas menos o posto $n-p$.\n",
    "\n",
    "Um sistema de equações de n incógnitas admite solução,se, e somente se o ponto d"
   ]
  },
  {
   "cell_type": "markdown",
   "id": "d0bcbdf8",
   "metadata": {},
   "source": [
    "### Sistemas Lineares\n",
    "\n",
    "Uma equação linear nas $n$ variáveis $x_1,x_2,...x_n$ é uma equação que pode ser expresa na forma $$a_1x_1+a_2x_2+...+a_nx_n=b$$\n",
    "\n",
    "$a_1,a_2,a_n$ são constantes reais. As variáveis são chamadas de **incógnitas**\n",
    "\n",
    "\n",
    "Um sistema de $m$ equações lineares nas $n$ variáveis, tem a forma:\n",
    "$$\\begin{cases} a_{11}x_1+a_{12}x_2+...+a_{1n}x_n= b_1 \\\\ a_{21}x_1+a_{22}x_2+...+a_{2n}x_n = b_2\\\\ \\vdots \\\\ a_{m1}x_1 + a_{m2}x_2+...+a_{mn}x_n = b_n\\end{cases}$$\n",
    "\n",
    "\n",
    "O conjunto de todas as soluções do sistemas é chamado de **conjunto-solução**\n",
    "\n",
    "\n",
    "Um sistema linear é:\n",
    "- **possível** quando admite solução, ou seja, quando tem raízes. \n",
    "    - Ele pode ser **determinado** quando admite uma única solução\n",
    "    - Pode ser **indeterminado** quando admite mais de uma solução (infinitas soluções)\n",
    "- **impossível** quando naõ admite soluções\n",
    "\n",
    "\n",
    "Sistemas são **equivalentes** quando admitem as mesmas soluções, e indicamos por $S_1 \\sim S_2$\n",
    "\n",
    "\n",
    "Reescrevendo um sistema linear em forma matricial\n",
    "$$Ax=b$$\n",
    "$$A = \\begin{pmatrix} a_{11}&a_{12}&\\dots &a_{1n}\\\\a_{21}&a_{22}&\\dots&a_{2n}\\\\ \\vdots&&\\ddots&\\vdots\\\\ a_{m1}&a_{m2}&\\dots&a_{mn}\\end{pmatrix}$$\n",
    "\n",
    "\n",
    "$$x= \\begin{pmatrix}x_1\\\\x_2\\\\ \\vdots\\\\x_n \\end{pmatrix}$$\n",
    "\n",
    "\n",
    "$$b= \\begin{pmatrix}b_1\\\\b_2\\\\ \\vdots\\\\b_m \\end{pmatrix}$$"
   ]
  },
  {
   "cell_type": "markdown",
   "id": "6eaa2e7a",
   "metadata": {},
   "source": [
    "Um sistema linear se transforma em um sistema equivalente quando se efetuam as seguintes operações elementares:\n",
    "- permutação de duas equações\n",
    "- multiplicação de uma equação por um número diferente de zero\n",
    "- substituição de uma equação por sua soma com outra equação previamente multiplicada por um número real diferente de zero."
   ]
  }
 ],
 "metadata": {
  "kernelspec": {
   "display_name": "Python 3 (ipykernel)",
   "language": "python",
   "name": "python3"
  },
  "language_info": {
   "codemirror_mode": {
    "name": "ipython",
    "version": 3
   },
   "file_extension": ".py",
   "mimetype": "text/x-python",
   "name": "python",
   "nbconvert_exporter": "python",
   "pygments_lexer": "ipython3",
   "version": "3.11.7"
  }
 },
 "nbformat": 4,
 "nbformat_minor": 5
}
