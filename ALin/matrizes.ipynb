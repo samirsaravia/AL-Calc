{
 "cells": [
  {
   "cell_type": "markdown",
   "id": "a96a77e2-62c3-4785-b1ea-78ad93d6bba9",
   "metadata": {},
   "source": [
    "# Sympy vs Numpy"
   ]
  },
  {
   "cell_type": "markdown",
   "id": "43ce914b-7fbc-45aa-859e-97e279969e25",
   "metadata": {},
   "source": [
    "## Sympy"
   ]
  },
  {
   "cell_type": "code",
   "execution_count": 1,
   "id": "4c6d39dc-1aaf-41dd-a2c2-1f3765f7ecc4",
   "metadata": {},
   "outputs": [],
   "source": [
    "import sympy as sym"
   ]
  },
  {
   "cell_type": "code",
   "execution_count": 2,
   "id": "7d41fc1b-6bf4-43c8-ac6c-3056620ccc4a",
   "metadata": {},
   "outputs": [
    {
     "data": {
      "text/latex": [
       "$\\displaystyle \\left[\\begin{matrix}1 & 2 & 3\\\\2 & 3 & 4\\\\6 & 7 & 8\\end{matrix}\\right]$"
      ],
      "text/plain": [
       "⎡1  2  3⎤\n",
       "⎢       ⎥\n",
       "⎢2  3  4⎥\n",
       "⎢       ⎥\n",
       "⎣6  7  8⎦"
      ]
     },
     "execution_count": 2,
     "metadata": {},
     "output_type": "execute_result"
    }
   ],
   "source": [
    "sym.init_printing(\"mathjax\")\n",
    "sym.Matrix([[1,2,3],[2,3,4],[6,7,8]])"
   ]
  },
  {
   "cell_type": "markdown",
   "id": "c770d9ca-2eeb-40a4-bb29-24093d85eade",
   "metadata": {},
   "source": [
    "### Identidade"
   ]
  },
  {
   "cell_type": "code",
   "execution_count": 3,
   "id": "71ecf278-b22d-40dd-8d98-276d8c81dd16",
   "metadata": {},
   "outputs": [
    {
     "data": {
      "text/latex": [
       "$\\displaystyle \\left[\\begin{matrix}1 & 0 & 0\\\\0 & 1 & 0\\\\0 & 0 & 1\\end{matrix}\\right]$"
      ],
      "text/plain": [
       "⎡1  0  0⎤\n",
       "⎢       ⎥\n",
       "⎢0  1  0⎥\n",
       "⎢       ⎥\n",
       "⎣0  0  1⎦"
      ]
     },
     "execution_count": 3,
     "metadata": {},
     "output_type": "execute_result"
    }
   ],
   "source": [
    "sym.eye(3)"
   ]
  },
  {
   "cell_type": "code",
   "execution_count": 4,
   "id": "ead56451-b576-4553-8446-b13e5557f69d",
   "metadata": {},
   "outputs": [
    {
     "data": {
      "text/plain": [
       "sympy.matrices.dense.MutableDenseMatrix"
      ]
     },
     "execution_count": 4,
     "metadata": {},
     "output_type": "execute_result"
    }
   ],
   "source": [
    "type(sym.eye(3))"
   ]
  },
  {
   "cell_type": "markdown",
   "id": "75762d18-b174-4aee-ad0a-fb3a1e3775a1",
   "metadata": {},
   "source": [
    "### Traço"
   ]
  },
  {
   "cell_type": "markdown",
   "id": "80a84deb-91c4-4e27-a0bd-3dfc31507359",
   "metadata": {},
   "source": [
    "Soma dos elementos da diagonal principal"
   ]
  },
  {
   "cell_type": "code",
   "execution_count": 67,
   "id": "19beaa5a-5bd6-4dc1-8e80-83d9f86f7732",
   "metadata": {},
   "outputs": [
    {
     "data": {
      "image/png": "[encoded data removed]",
      "text/latex": [
       "$\\displaystyle 3$"
      ],
      "text/plain": [
       "3"
      ]
     },
     "execution_count": 67,
     "metadata": {},
     "output_type": "execute_result"
    }
   ],
   "source": [
    "sym.eye(3).trace()"
   ]
  },
  {
   "cell_type": "markdown",
   "id": "46c42c54-8dd5-4df8-9425-ab5997e47ca8",
   "metadata": {},
   "source": [
    "### Nula"
   ]
  },
  {
   "cell_type": "code",
   "execution_count": 5,
   "id": "fbe6773b-b6b0-41b9-9107-40ce77d58ed6",
   "metadata": {},
   "outputs": [
    {
     "data": {
      "text/latex": [
       "$\\displaystyle \\left[\\begin{matrix}0 & 0 & 0\\\\0 & 0 & 0\\\\0 & 0 & 0\\end{matrix}\\right]$"
      ],
      "text/plain": [
       "⎡0  0  0⎤\n",
       "⎢       ⎥\n",
       "⎢0  0  0⎥\n",
       "⎢       ⎥\n",
       "⎣0  0  0⎦"
      ]
     },
     "execution_count": 5,
     "metadata": {},
     "output_type": "execute_result"
    }
   ],
   "source": [
    "sym.zeros(3)"
   ]
  },
  {
   "cell_type": "code",
   "execution_count": 6,
   "id": "bd439224-3416-4f59-843e-145f894637e3",
   "metadata": {},
   "outputs": [
    {
     "data": {
      "text/plain": [
       "sympy.matrices.dense.MutableDenseMatrix"
      ]
     },
     "execution_count": 6,
     "metadata": {},
     "output_type": "execute_result"
    }
   ],
   "source": [
    "type(sym.zeros(3))"
   ]
  },
  {
   "cell_type": "markdown",
   "id": "09491ec1-3f49-413a-a933-85b489b9bc3d",
   "metadata": {},
   "source": [
    "### Diagonal"
   ]
  },
  {
   "cell_type": "code",
   "execution_count": 7,
   "id": "67efbcac-6442-4a33-b6b1-02cf769a8fe5",
   "metadata": {},
   "outputs": [
    {
     "data": {
      "text/latex": [
       "$\\displaystyle \\left[\\begin{matrix}2 & 0 & 0 & 0\\\\0 & 3 & 0 & 0\\\\0 & 0 & 4 & 0\\\\0 & 0 & 0 & 5\\end{matrix}\\right]$"
      ],
      "text/plain": [
       "⎡2  0  0  0⎤\n",
       "⎢          ⎥\n",
       "⎢0  3  0  0⎥\n",
       "⎢          ⎥\n",
       "⎢0  0  4  0⎥\n",
       "⎢          ⎥\n",
       "⎣0  0  0  5⎦"
      ]
     },
     "execution_count": 7,
     "metadata": {},
     "output_type": "execute_result"
    }
   ],
   "source": [
    "A = sym.diag(2,3,4,5)\n",
    "A"
   ]
  },
  {
   "cell_type": "code",
   "execution_count": 8,
   "id": "eef535a0-9757-4845-83a9-0636986e488d",
   "metadata": {},
   "outputs": [
    {
     "data": {
      "image/png": "[encoded data removed]",
      "text/latex": [
       "$\\displaystyle 3$"
      ],
      "text/plain": [
       "3"
      ]
     },
     "execution_count": 8,
     "metadata": {},
     "output_type": "execute_result"
    }
   ],
   "source": [
    "A[2-1,2-1]"
   ]
  },
  {
   "cell_type": "markdown",
   "id": "32a008ee-0997-4d6e-805f-28467d57b319",
   "metadata": {},
   "source": [
    "### Operações"
   ]
  },
  {
   "cell_type": "code",
   "execution_count": 9,
   "id": "9a8ea1e7-b6cd-4d9a-a8fa-f33b25845e70",
   "metadata": {},
   "outputs": [],
   "source": [
    "a11, a12 , a21, a22, b11, b12, b21 ,b22 = sym.symbols(\"a11 a12 a21 a22 b11 b12 b21 b22\")\n",
    "A = sym.Matrix([[a11, a12],[a21,a22]])\n",
    "B = sym.Matrix([[b11, b12],[b21,b22]])\n",
    "C = sym.eye(2)\n",
    "D = sym.zeros(2)"
   ]
  },
  {
   "cell_type": "code",
   "execution_count": 10,
   "id": "bf7adeb6-2670-459f-b81d-c7902790a940",
   "metadata": {},
   "outputs": [
    {
     "data": {
      "text/latex": [
       "$\\displaystyle \\left[\\begin{matrix}a_{11} & a_{12}\\\\a_{21} & a_{22}\\end{matrix}\\right]$"
      ],
      "text/plain": [
       "⎡a₁₁  a₁₂⎤\n",
       "⎢        ⎥\n",
       "⎣a₂₁  a₂₂⎦"
      ]
     },
     "execution_count": 10,
     "metadata": {},
     "output_type": "execute_result"
    }
   ],
   "source": [
    "A"
   ]
  },
  {
   "cell_type": "code",
   "execution_count": 11,
   "id": "413dfc13-2932-4966-807b-2f37f7eb7301",
   "metadata": {},
   "outputs": [
    {
     "data": {
      "text/latex": [
       "$\\displaystyle \\left[\\begin{matrix}b_{11} & b_{12}\\\\b_{21} & b_{22}\\end{matrix}\\right]$"
      ],
      "text/plain": [
       "⎡b₁₁  b₁₂⎤\n",
       "⎢        ⎥\n",
       "⎣b₂₁  b₂₂⎦"
      ]
     },
     "execution_count": 11,
     "metadata": {},
     "output_type": "execute_result"
    }
   ],
   "source": [
    "B"
   ]
  },
  {
   "cell_type": "code",
   "execution_count": 12,
   "id": "8070ca75-3efb-4ca4-9b5b-edaebe162fdb",
   "metadata": {},
   "outputs": [
    {
     "data": {
      "text/latex": [
       "$\\displaystyle \\left[\\begin{matrix}1 & 0\\\\0 & 1\\end{matrix}\\right]$"
      ],
      "text/plain": [
       "⎡1  0⎤\n",
       "⎢    ⎥\n",
       "⎣0  1⎦"
      ]
     },
     "execution_count": 12,
     "metadata": {},
     "output_type": "execute_result"
    }
   ],
   "source": [
    "C #I_n"
   ]
  },
  {
   "cell_type": "code",
   "execution_count": 13,
   "id": "683faa0b-93f2-40cb-9438-5014b2a3b144",
   "metadata": {},
   "outputs": [
    {
     "data": {
      "text/latex": [
       "$\\displaystyle \\left[\\begin{matrix}0 & 0\\\\0 & 0\\end{matrix}\\right]$"
      ],
      "text/plain": [
       "⎡0  0⎤\n",
       "⎢    ⎥\n",
       "⎣0  0⎦"
      ]
     },
     "execution_count": 13,
     "metadata": {},
     "output_type": "execute_result"
    }
   ],
   "source": [
    "D  # nula"
   ]
  },
  {
   "cell_type": "markdown",
   "id": "8f606459-e138-4f75-b623-94e92d625589",
   "metadata": {},
   "source": [
    "### Associativa"
   ]
  },
  {
   "cell_type": "code",
   "execution_count": 14,
   "id": "a82738fe-e0a0-420a-91b7-463a56a41852",
   "metadata": {},
   "outputs": [
    {
     "data": {
      "text/latex": [
       "$\\displaystyle \\left[\\begin{matrix}a_{11} + b_{11} & a_{12} + b_{12}\\\\a_{21} + b_{21} & a_{22} + b_{22}\\end{matrix}\\right]$"
      ],
      "text/plain": [
       "⎡a₁₁ + b₁₁  a₁₂ + b₁₂⎤\n",
       "⎢                    ⎥\n",
       "⎣a₂₁ + b₂₁  a₂₂ + b₂₂⎦"
      ]
     },
     "execution_count": 14,
     "metadata": {},
     "output_type": "execute_result"
    }
   ],
   "source": [
    "A+B"
   ]
  },
  {
   "cell_type": "code",
   "execution_count": 15,
   "id": "80ff125d-492d-4c42-98f0-dcd0d138afbb",
   "metadata": {},
   "outputs": [
    {
     "data": {
      "text/latex": [
       "$\\displaystyle \\left[\\begin{matrix}b_{11} + 1 & b_{12}\\\\b_{21} & b_{22} + 1\\end{matrix}\\right]$"
      ],
      "text/plain": [
       "⎡b₁₁ + 1    b₁₂  ⎤\n",
       "⎢                ⎥\n",
       "⎣  b₂₁    b₂₂ + 1⎦"
      ]
     },
     "execution_count": 15,
     "metadata": {},
     "output_type": "execute_result"
    }
   ],
   "source": [
    "B + C"
   ]
  },
  {
   "cell_type": "code",
   "execution_count": 16,
   "id": "bf1b9786-517f-4c99-80da-d9e2cab0cba0",
   "metadata": {},
   "outputs": [
    {
     "data": {
      "text/plain": [
       "True"
      ]
     },
     "execution_count": 16,
     "metadata": {},
     "output_type": "execute_result"
    }
   ],
   "source": [
    "(A + B) + C == A + (B + C)"
   ]
  },
  {
   "cell_type": "markdown",
   "id": "4dab253e-4107-4f5e-98d8-126bcb11cc0f",
   "metadata": {},
   "source": [
    "### Comutativa"
   ]
  },
  {
   "cell_type": "code",
   "execution_count": 17,
   "id": "e4e2fbe9-d764-44cc-87f7-5a1d7a9a3be4",
   "metadata": {},
   "outputs": [
    {
     "data": {
      "text/plain": [
       "True"
      ]
     },
     "execution_count": 17,
     "metadata": {},
     "output_type": "execute_result"
    }
   ],
   "source": [
    "A + B == B + A"
   ]
  },
  {
   "cell_type": "markdown",
   "id": "b13f8f83-1deb-42d5-8e48-11a723d6e565",
   "metadata": {},
   "source": [
    "### Existência de elemento neutro"
   ]
  },
  {
   "cell_type": "code",
   "execution_count": 18,
   "id": "9039ca79-0cc3-4b24-90f1-3ac00159a97f",
   "metadata": {},
   "outputs": [
    {
     "data": {
      "text/latex": [
       "$\\displaystyle \\left[\\begin{matrix}- a_{11} & - a_{12}\\\\- a_{21} & - a_{22}\\end{matrix}\\right]$"
      ],
      "text/plain": [
       "⎡-a₁₁  -a₁₂⎤\n",
       "⎢          ⎥\n",
       "⎣-a₂₁  -a₂₂⎦"
      ]
     },
     "execution_count": 18,
     "metadata": {},
     "output_type": "execute_result"
    }
   ],
   "source": [
    "-A"
   ]
  },
  {
   "cell_type": "code",
   "execution_count": 19,
   "id": "b79418e6-5c5c-45cc-9a26-f078d997dcb4",
   "metadata": {},
   "outputs": [
    {
     "data": {
      "text/latex": [
       "$\\displaystyle \\left[\\begin{matrix}0 & 0\\\\0 & 0\\end{matrix}\\right]$"
      ],
      "text/plain": [
       "⎡0  0⎤\n",
       "⎢    ⎥\n",
       "⎣0  0⎦"
      ]
     },
     "execution_count": 19,
     "metadata": {},
     "output_type": "execute_result"
    }
   ],
   "source": [
    "D"
   ]
  },
  {
   "cell_type": "code",
   "execution_count": 20,
   "id": "7338dc34-584e-4572-9143-c71becd5cf0d",
   "metadata": {},
   "outputs": [
    {
     "data": {
      "text/plain": [
       "True"
      ]
     },
     "execution_count": 20,
     "metadata": {},
     "output_type": "execute_result"
    }
   ],
   "source": [
    "A - A == D"
   ]
  },
  {
   "cell_type": "markdown",
   "id": "79a874b2-e769-47a3-8a38-1e7661b134aa",
   "metadata": {},
   "source": [
    "### Escalar"
   ]
  },
  {
   "cell_type": "code",
   "execution_count": 21,
   "id": "1b1c018c-487f-4a5b-95f0-992e92c377a5",
   "metadata": {},
   "outputs": [],
   "source": [
    "α, β = sym.symbols(\"α β\")   # escalares"
   ]
  },
  {
   "cell_type": "code",
   "execution_count": 22,
   "id": "f30fd68f-73f1-496b-a7ec-b684f69fb618",
   "metadata": {},
   "outputs": [
    {
     "data": {
      "text/latex": [
       "$\\displaystyle \\left[\\begin{matrix}a_{11} α β & a_{12} α β\\\\a_{21} α β & a_{22} α β\\end{matrix}\\right]$"
      ],
      "text/plain": [
       "⎡a₁₁⋅α⋅β  a₁₂⋅α⋅β⎤\n",
       "⎢                ⎥\n",
       "⎣a₂₁⋅α⋅β  a₂₂⋅α⋅β⎦"
      ]
     },
     "execution_count": 22,
     "metadata": {},
     "output_type": "execute_result"
    }
   ],
   "source": [
    "α * (β * A)"
   ]
  },
  {
   "cell_type": "code",
   "execution_count": 23,
   "id": "2c942028-95e9-49d1-9243-d7955f23069b",
   "metadata": {},
   "outputs": [
    {
     "data": {
      "text/plain": [
       "True"
      ]
     },
     "execution_count": 23,
     "metadata": {},
     "output_type": "execute_result"
    }
   ],
   "source": [
    "α *(β*A) == (α * β) * A"
   ]
  },
  {
   "cell_type": "code",
   "execution_count": 24,
   "id": "87adb63c-4192-44ae-8d17-8ef1390a1d4b",
   "metadata": {},
   "outputs": [
    {
     "data": {
      "text/plain": [
       "False"
      ]
     },
     "execution_count": 24,
     "metadata": {},
     "output_type": "execute_result"
    }
   ],
   "source": [
    "(α + β) * A == (α*A) + (β*A)"
   ]
  },
  {
   "cell_type": "code",
   "execution_count": 25,
   "id": "87d9808b-9f06-4bb7-8f84-42c6aa6027e7",
   "metadata": {},
   "outputs": [
    {
     "data": {
      "text/latex": [
       "$\\displaystyle \\left[\\begin{matrix}a_{11} \\left(α + β\\right) & a_{12} \\left(α + β\\right)\\\\a_{21} \\left(α + β\\right) & a_{22} \\left(α + β\\right)\\end{matrix}\\right]$"
      ],
      "text/plain": [
       "⎡a₁₁⋅(α + β)  a₁₂⋅(α + β)⎤\n",
       "⎢                        ⎥\n",
       "⎣a₂₁⋅(α + β)  a₂₂⋅(α + β)⎦"
      ]
     },
     "execution_count": 25,
     "metadata": {},
     "output_type": "execute_result"
    }
   ],
   "source": [
    "(α + β) * A"
   ]
  },
  {
   "cell_type": "code",
   "execution_count": 26,
   "id": "4ea48da2-ce7d-461b-888a-cbe929c697fb",
   "metadata": {},
   "outputs": [
    {
     "data": {
      "text/latex": [
       "$\\displaystyle \\left[\\begin{matrix}a_{11} α + a_{11} β & a_{12} α + a_{12} β\\\\a_{21} α + a_{21} β & a_{22} α + a_{22} β\\end{matrix}\\right]$"
      ],
      "text/plain": [
       "⎡a₁₁⋅α + a₁₁⋅β  a₁₂⋅α + a₁₂⋅β⎤\n",
       "⎢                            ⎥\n",
       "⎣a₂₁⋅α + a₂₁⋅β  a₂₂⋅α + a₂₂⋅β⎦"
      ]
     },
     "execution_count": 26,
     "metadata": {},
     "output_type": "execute_result"
    }
   ],
   "source": [
    "(α*A) + (β*A)"
   ]
  },
  {
   "cell_type": "code",
   "execution_count": 27,
   "id": "0553b7eb-82fd-495b-a821-e8e27a0b3b08",
   "metadata": {},
   "outputs": [
    {
     "data": {
      "text/plain": [
       "False"
      ]
     },
     "execution_count": 27,
     "metadata": {},
     "output_type": "execute_result"
    }
   ],
   "source": [
    "α * (A+B) == α*A + α*B"
   ]
  },
  {
   "cell_type": "code",
   "execution_count": 28,
   "id": "2fe69f56-0c64-4671-925d-9dccd39c761e",
   "metadata": {},
   "outputs": [
    {
     "data": {
      "text/plain": [
       "True"
      ]
     },
     "execution_count": 28,
     "metadata": {},
     "output_type": "execute_result"
    }
   ],
   "source": [
    "1*A == A"
   ]
  },
  {
   "cell_type": "markdown",
   "id": "690e6e74-9d0b-4ddb-be37-b053b71cc4c0",
   "metadata": {},
   "source": [
    "### Produto de uma matriz"
   ]
  },
  {
   "cell_type": "code",
   "execution_count": 29,
   "id": "97b78a96-e248-4b0b-a98d-a2b3e347f78a",
   "metadata": {},
   "outputs": [
    {
     "data": {
      "image/png": "[encoded data removed]",
      "text/latex": [
       "$\\displaystyle \\left( 2, \\  2\\right)$"
      ],
      "text/plain": [
       "(2, 2)"
      ]
     },
     "execution_count": 29,
     "metadata": {},
     "output_type": "execute_result"
    }
   ],
   "source": [
    "A.shape"
   ]
  },
  {
   "cell_type": "code",
   "execution_count": 30,
   "id": "bd1f029d-5d60-4a26-9c72-2477ae5a6a1b",
   "metadata": {},
   "outputs": [
    {
     "data": {
      "text/latex": [
       "$\\displaystyle \\left[\\begin{matrix}a_{11} & a_{12}\\\\a_{21} & a_{22}\\end{matrix}\\right]$"
      ],
      "text/plain": [
       "⎡a₁₁  a₁₂⎤\n",
       "⎢        ⎥\n",
       "⎣a₂₁  a₂₂⎦"
      ]
     },
     "execution_count": 30,
     "metadata": {},
     "output_type": "execute_result"
    }
   ],
   "source": [
    "A"
   ]
  },
  {
   "cell_type": "code",
   "execution_count": 31,
   "id": "934cda65-6aee-418c-bd6e-1f2a17eb8f8a",
   "metadata": {},
   "outputs": [
    {
     "data": {
      "text/latex": [
       "$\\displaystyle \\left[\\begin{matrix}1 & 2 & 3\\\\4 & 5 & 6\\end{matrix}\\right]$"
      ],
      "text/plain": [
       "⎡1  2  3⎤\n",
       "⎢       ⎥\n",
       "⎣4  5  6⎦"
      ]
     },
     "execution_count": 31,
     "metadata": {},
     "output_type": "execute_result"
    }
   ],
   "source": [
    "A23 = sym.Matrix([[1,2,3],[4,5,6]])\n",
    "A23"
   ]
  },
  {
   "cell_type": "code",
   "execution_count": 32,
   "id": "12a416ba-defc-483b-a0bb-398069e70295",
   "metadata": {},
   "outputs": [
    {
     "data": {
      "image/png": "[encoded data removed]",
      "text/latex": [
       "$\\displaystyle \\left( 2, \\  3\\right)$"
      ],
      "text/plain": [
       "(2, 3)"
      ]
     },
     "execution_count": 32,
     "metadata": {},
     "output_type": "execute_result"
    }
   ],
   "source": [
    "A23.shape"
   ]
  },
  {
   "cell_type": "code",
   "execution_count": 33,
   "id": "cd1de07b-ccbb-4f90-89c6-9a72aa16f03b",
   "metadata": {},
   "outputs": [
    {
     "data": {
      "text/latex": [
       "$\\displaystyle \\left[\\begin{matrix}a_{11} + 4 a_{12} & 2 a_{11} + 5 a_{12} & 3 a_{11} + 6 a_{12}\\\\a_{21} + 4 a_{22} & 2 a_{21} + 5 a_{22} & 3 a_{21} + 6 a_{22}\\end{matrix}\\right]$"
      ],
      "text/plain": [
       "⎡a₁₁ + 4⋅a₁₂  2⋅a₁₁ + 5⋅a₁₂  3⋅a₁₁ + 6⋅a₁₂⎤\n",
       "⎢                                         ⎥\n",
       "⎣a₂₁ + 4⋅a₂₂  2⋅a₂₁ + 5⋅a₂₂  3⋅a₂₁ + 6⋅a₂₂⎦"
      ]
     },
     "execution_count": 33,
     "metadata": {},
     "output_type": "execute_result"
    }
   ],
   "source": [
    "M = A * A23\n",
    "M"
   ]
  },
  {
   "cell_type": "code",
   "execution_count": 34,
   "id": "8a1bb13d-c36e-4293-b6d5-1b5b14530e49",
   "metadata": {},
   "outputs": [
    {
     "data": {
      "image/png": "[encoded data removed]",
      "text/latex": [
       "$\\displaystyle \\left( 2, \\  3\\right)$"
      ],
      "text/plain": [
       "(2, 3)"
      ]
     },
     "execution_count": 34,
     "metadata": {},
     "output_type": "execute_result"
    }
   ],
   "source": [
    "M.shape"
   ]
  },
  {
   "cell_type": "code",
   "execution_count": 35,
   "id": "306d210d-e55a-413b-9b63-be6004c6eeea",
   "metadata": {},
   "outputs": [],
   "source": [
    "def multiplicaM(*A):\n",
    "    armazem = []\n",
    "    for i in range(len(A)):\n",
    "        if i == 0:\n",
    "            armazem.append(A[0].shape)\n",
    "        else:\n",
    "            if A[i].shape[0] == armazem[-1][1]:\n",
    "                print(f\"{i}º com o {i+1}º Pode\")\n",
    "                armazem.append(A[i].shape)\n",
    "            else:\n",
    "                print(f\"{i}º com o {i+1} Não pode\")\n",
    "                armazem.append(A[i].shape)"
   ]
  },
  {
   "cell_type": "code",
   "execution_count": 36,
   "id": "72b44275-d199-44fc-8466-56a44d1758eb",
   "metadata": {},
   "outputs": [
    {
     "name": "stdout",
     "output_type": "stream",
     "text": [
      "1º com o 2º Pode\n",
      "2º com o 3 Não pode\n"
     ]
    }
   ],
   "source": [
    "multiplicaM(A,A23,B)"
   ]
  },
  {
   "cell_type": "code",
   "execution_count": 39,
   "id": "bf150c8e-acfc-42bd-ac94-9eb98e164e3a",
   "metadata": {},
   "outputs": [
    {
     "data": {
      "text/latex": [
       "$\\displaystyle \\left[\\begin{matrix}1 & 0\\\\0 & 1\\end{matrix}\\right]$"
      ],
      "text/plain": [
       "⎡1  0⎤\n",
       "⎢    ⎥\n",
       "⎣0  1⎦"
      ]
     },
     "execution_count": 39,
     "metadata": {},
     "output_type": "execute_result"
    }
   ],
   "source": [
    "E = sym.eye(2)\n",
    "E"
   ]
  },
  {
   "cell_type": "code",
   "execution_count": 40,
   "id": "c74d4e32-cf84-4c1b-9d87-0324bf007c5f",
   "metadata": {},
   "outputs": [
    {
     "data": {
      "text/plain": [
       "True"
      ]
     },
     "execution_count": 40,
     "metadata": {},
     "output_type": "execute_result"
    }
   ],
   "source": [
    "A* E == A"
   ]
  },
  {
   "cell_type": "code",
   "execution_count": 41,
   "id": "05252c0e-42ff-4e21-a63a-acf7d0984647",
   "metadata": {},
   "outputs": [
    {
     "data": {
      "text/plain": [
       "True"
      ]
     },
     "execution_count": 41,
     "metadata": {},
     "output_type": "execute_result"
    }
   ],
   "source": [
    "E*A == A"
   ]
  },
  {
   "cell_type": "markdown",
   "id": "ebe2ac74-5dbe-4b0e-bc87-34ed4560eef1",
   "metadata": {},
   "source": [
    "### Inversa"
   ]
  },
  {
   "cell_type": "code",
   "execution_count": 60,
   "id": "a1dec1c0-33cc-4c7a-931d-f88d6f7c2a4b",
   "metadata": {},
   "outputs": [
    {
     "data": {
      "text/latex": [
       "$\\displaystyle \\left[\\begin{matrix}\\frac{a_{22}}{a_{11} a_{22} - a_{12} a_{21}} & - \\frac{a_{12}}{a_{11} a_{22} - a_{12} a_{21}}\\\\- \\frac{a_{21}}{a_{11} a_{22} - a_{12} a_{21}} & \\frac{a_{11}}{a_{11} a_{22} - a_{12} a_{21}}\\end{matrix}\\right]$"
      ],
      "text/plain": [
       "⎡       a₂₂               -a₁₂       ⎤\n",
       "⎢─────────────────  ─────────────────⎥\n",
       "⎢a₁₁⋅a₂₂ - a₁₂⋅a₂₁  a₁₁⋅a₂₂ - a₁₂⋅a₂₁⎥\n",
       "⎢                                    ⎥\n",
       "⎢      -a₂₁                a₁₁       ⎥\n",
       "⎢─────────────────  ─────────────────⎥\n",
       "⎣a₁₁⋅a₂₂ - a₁₂⋅a₂₁  a₁₁⋅a₂₂ - a₁₂⋅a₂₁⎦"
      ]
     },
     "execution_count": 60,
     "metadata": {},
     "output_type": "execute_result"
    }
   ],
   "source": [
    "A**(-1)"
   ]
  },
  {
   "cell_type": "code",
   "execution_count": 61,
   "id": "1153627b-60a1-4892-967e-eacb95bafc40",
   "metadata": {},
   "outputs": [
    {
     "data": {
      "text/latex": [
       "$\\displaystyle \\left[\\begin{matrix}\\frac{a_{22}}{a_{11} a_{22} - a_{12} a_{21}} & - \\frac{a_{12}}{a_{11} a_{22} - a_{12} a_{21}}\\\\- \\frac{a_{21}}{a_{11} a_{22} - a_{12} a_{21}} & \\frac{a_{11}}{a_{11} a_{22} - a_{12} a_{21}}\\end{matrix}\\right]$"
      ],
      "text/plain": [
       "⎡       a₂₂               -a₁₂       ⎤\n",
       "⎢─────────────────  ─────────────────⎥\n",
       "⎢a₁₁⋅a₂₂ - a₁₂⋅a₂₁  a₁₁⋅a₂₂ - a₁₂⋅a₂₁⎥\n",
       "⎢                                    ⎥\n",
       "⎢      -a₂₁                a₁₁       ⎥\n",
       "⎢─────────────────  ─────────────────⎥\n",
       "⎣a₁₁⋅a₂₂ - a₁₂⋅a₂₁  a₁₁⋅a₂₂ - a₁₂⋅a₂₁⎦"
      ]
     },
     "execution_count": 61,
     "metadata": {},
     "output_type": "execute_result"
    }
   ],
   "source": [
    "A.inv()"
   ]
  },
  {
   "cell_type": "code",
   "execution_count": 63,
   "id": "671ec9eb-bbf1-42d3-954b-7c3730c0541c",
   "metadata": {},
   "outputs": [
    {
     "data": {
      "text/plain": [
       "True"
      ]
     },
     "execution_count": 63,
     "metadata": {},
     "output_type": "execute_result"
    }
   ],
   "source": [
    "A*A**(-1) == A**(-1)*A"
   ]
  },
  {
   "cell_type": "markdown",
   "id": "85398db3-0ae3-4e6f-a80f-de74b739882d",
   "metadata": {},
   "source": [
    "### Transposta"
   ]
  },
  {
   "cell_type": "code",
   "execution_count": 71,
   "id": "3d3eed24-b1b2-4f0f-87e9-2e5a31ac2e57",
   "metadata": {},
   "outputs": [
    {
     "data": {
      "text/latex": [
       "$\\displaystyle \\left[\\begin{matrix}a_{11} & a_{12}\\\\a_{21} & a_{22}\\end{matrix}\\right]$"
      ],
      "text/plain": [
       "⎡a₁₁  a₁₂⎤\n",
       "⎢        ⎥\n",
       "⎣a₂₁  a₂₂⎦"
      ]
     },
     "execution_count": 71,
     "metadata": {},
     "output_type": "execute_result"
    }
   ],
   "source": [
    "A"
   ]
  },
  {
   "cell_type": "code",
   "execution_count": 74,
   "id": "ff448e49-48a2-4be6-9348-5f1a60bb6f88",
   "metadata": {},
   "outputs": [
    {
     "data": {
      "text/latex": [
       "$\\displaystyle \\left[\\begin{matrix}a_{11} & a_{21}\\\\a_{12} & a_{22}\\end{matrix}\\right]$"
      ],
      "text/plain": [
       "⎡a₁₁  a₂₁⎤\n",
       "⎢        ⎥\n",
       "⎣a₁₂  a₂₂⎦"
      ]
     },
     "execution_count": 74,
     "metadata": {},
     "output_type": "execute_result"
    }
   ],
   "source": [
    "A.T   # um jeito"
   ]
  },
  {
   "cell_type": "code",
   "execution_count": 75,
   "id": "8c1d10ac-9543-4aad-ab12-50e93e3a4ecd",
   "metadata": {},
   "outputs": [
    {
     "data": {
      "text/latex": [
       "$\\displaystyle \\left[\\begin{matrix}a_{11} & a_{21}\\\\a_{12} & a_{22}\\end{matrix}\\right]$"
      ],
      "text/plain": [
       "⎡a₁₁  a₂₁⎤\n",
       "⎢        ⎥\n",
       "⎣a₁₂  a₂₂⎦"
      ]
     },
     "execution_count": 75,
     "metadata": {},
     "output_type": "execute_result"
    }
   ],
   "source": [
    "A.transpose()  # outro jeito"
   ]
  },
  {
   "cell_type": "code",
   "execution_count": null,
   "id": "f3f73df5-db8d-409b-bb3b-2ff576645582",
   "metadata": {},
   "outputs": [],
   "source": []
  }
 ],
 "metadata": {
  "kernelspec": {
   "display_name": "Python 3 (ipykernel)",
   "language": "python",
   "name": "python3"
  },
  "language_info": {
   "codemirror_mode": {
    "name": "ipython",
    "version": 3
   },
   "file_extension": ".py",
   "mimetype": "text/x-python",
   "name": "python",
   "nbconvert_exporter": "python",
   "pygments_lexer": "ipython3",
   "version": "3.11.7"
  }
 },
 "nbformat": 4,
 "nbformat_minor": 5
}
