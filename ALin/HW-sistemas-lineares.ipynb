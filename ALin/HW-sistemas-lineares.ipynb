{
 "cells": [
  {
   "cell_type": "code",
   "execution_count": 56,
   "id": "7ce7f3a0-fa66-4333-87e4-63ffe8f7e676",
   "metadata": {},
   "outputs": [],
   "source": [
    "import sympy as sym\n",
    "from sympy.abc import x,y,z,k\n",
    "sym.init_printing('mathjax')"
   ]
  },
  {
   "cell_type": "markdown",
   "id": "ccb8c95f-3e00-4d4f-b79f-8e5dbcf86ee6",
   "metadata": {},
   "source": [
    "# 1\n",
    "\n",
    "Resolva o sistema de equções, escrevendo as matrizes ampliadas, associadas aos novos sistemas\n",
    "\n",
    "$$\\begin{cases} 2x-y+3z=11\\\\4x-3y+2z=0\\\\x+y+z=6\\\\3x+y+z=4\\end{cases}$$"
   ]
  },
  {
   "cell_type": "code",
   "execution_count": 5,
   "id": "58b9ed46-bb07-46e9-a0e0-aa8c77afa4e2",
   "metadata": {},
   "outputs": [],
   "source": [
    "eq1x = sym.Eq(2*x-y+3*z,11)\n",
    "eq1y = sym.Eq(4*x-3*y+2*z,0)\n",
    "eq1z = sym.Eq(x+y+z,6)\n",
    "eq1w = sym.Eq(3*x+y+z, 4)"
   ]
  },
  {
   "cell_type": "code",
   "execution_count": 6,
   "id": "9279da59-eab6-4026-88d6-dd2122e029df",
   "metadata": {},
   "outputs": [
    {
     "data": {
      "image/png": "[encoded data removed]",
      "text/latex": [
       "$\\displaystyle \\left\\{\\left( -1, \\  2, \\  5\\right)\\right\\}$"
      ],
      "text/plain": [
       "{(-1, 2, 5)}"
      ]
     },
     "execution_count": 6,
     "metadata": {},
     "output_type": "execute_result"
    }
   ],
   "source": [
    "sym.linsolve([eq1x,eq1w,eq1y,eq1z],x,y,z)"
   ]
  },
  {
   "cell_type": "markdown",
   "id": "6a2c299b-38e3-43c1-be7b-d2ef00923042",
   "metadata": {},
   "source": [
    "$$\\begin{bmatrix}2&-1&3&11\\\\4&-3&2&0\\\\1&1&1&6\\\\3&1&1&4 \\end{bmatrix}\\begin{bmatrix}L3 (-3)+L1\\\\L3(-2)+L2\\\\\\\\L3(-1)+L4 \\end{bmatrix}$$\n",
    "\n",
    "$$\\begin{bmatrix}-1&-4&0&-7\\\\2&-5&0&-12\\\\1&1&1&6\\\\2&0&0&-2 \\end{bmatrix}L4(1/2) \\begin{bmatrix}L4+L1\\\\L4(-2)+L2\\\\L4(-1)+L3\\\\\\\\ \\end{bmatrix}$$\n",
    "\n",
    "\n",
    "$$\\begin{bmatrix}0&-4&0&-8\\\\0&-5&0&-10\\\\0&1&1&7\\\\1&0&0&-1 \\end{bmatrix} \n",
    "\\begin{cases} \n",
    "y=2\\\\y+z=7\\\\x=-1\n",
    "\\end{cases} \\begin{cases}y=2\\\\z=5\\\\x=-1 \\end{cases}$$"
   ]
  },
  {
   "cell_type": "code",
   "execution_count": 36,
   "id": "1d733d91-ea8b-472a-a6cb-264d824b7d22",
   "metadata": {},
   "outputs": [
    {
     "data": {
      "text/latex": [
       "$\\displaystyle \\left( \\left[\\begin{matrix}-1\\\\2\\\\5\\end{matrix}\\right], \\  \\left[\\begin{matrix}\\end{matrix}\\right]\\right)$"
      ],
      "text/plain": [
       "⎛⎡-1⎤    ⎞\n",
       "⎜⎢  ⎥    ⎟\n",
       "⎜⎢2 ⎥, []⎟\n",
       "⎜⎢  ⎥    ⎟\n",
       "⎝⎣5 ⎦    ⎠"
      ]
     },
     "execution_count": 36,
     "metadata": {},
     "output_type": "execute_result"
    }
   ],
   "source": [
    "A2 = sym.Matrix([[2,-1,3],[4,-3,2],[1,1,1],[3,1,1]])\n",
    "A21 = sym.Matrix([11,0,6,4])\n",
    "A2.gauss_jordan_solve(A21)"
   ]
  },
  {
   "cell_type": "markdown",
   "id": "7c7b63ee-6856-473c-859e-429d187ad94d",
   "metadata": {},
   "source": [
    "# 2\n",
    "\n",
    "Descreva todas as possíveis matrizes 2x2, que estão na forma escada reduzida por linhas."
   ]
  },
  {
   "cell_type": "code",
   "execution_count": null,
   "id": "e9103746-b55a-4032-bd6d-afedd3ea2ae5",
   "metadata": {},
   "outputs": [],
   "source": []
  },
  {
   "cell_type": "markdown",
   "id": "c371b002-b6b1-499b-8649-662a5dac6092",
   "metadata": {},
   "source": [
    "# 3\n",
    "\n",
    "Reduza as matrizes à forma escada reduzida por linhas.\n",
    "\n",
    "$$a) \\begin{bmatrix}1&-2&3&-1\\\\2&-1&2&3\\\\3&1&2&3 \\end{bmatrix}$$\n",
    "\n",
    "$$b) \\begin{bmatrix}0&1&3&-2\\\\2&1&-4&3\\\\2&3&2&-1 \\end{bmatrix}$$\n",
    "\n",
    "$$c) \\begin{bmatrix}0&2&2\\\\1&1&3\\\\3&-4&2\\\\2&-3&1 \\end{bmatrix}$$"
   ]
  },
  {
   "cell_type": "markdown",
   "id": "7155eef5-9a88-47e4-822d-443a62dd620e",
   "metadata": {},
   "source": [
    "$a) \\begin{bmatrix}1&-2&3&-1\\\\2&-1&2&3\\\\3&1&2&3 \\end{bmatrix}$"
   ]
  },
  {
   "cell_type": "code",
   "execution_count": 27,
   "id": "a7bea9dd-aa00-41a3-9739-64f57e9c03ef",
   "metadata": {},
   "outputs": [],
   "source": [
    "A3 = sym.Matrix([[1,-2,3],[2,-1,2],[3,1,2]])\n",
    "A31 = sym.Matrix([-1,3,3])"
   ]
  },
  {
   "cell_type": "code",
   "execution_count": 28,
   "id": "b52f807a-458d-4166-84e7-b7bf28b0939a",
   "metadata": {},
   "outputs": [
    {
     "data": {
      "text/latex": [
       "$\\displaystyle \\left( \\left[\\begin{matrix}\\frac{22}{7}\\\\- \\frac{11}{7}\\\\- \\frac{17}{7}\\end{matrix}\\right], \\  \\left[\\begin{matrix}\\end{matrix}\\right]\\right)$"
      ],
      "text/plain": [
       "⎛⎡22/7 ⎤    ⎞\n",
       "⎜⎢     ⎥    ⎟\n",
       "⎜⎢-11/7⎥, []⎟\n",
       "⎜⎢     ⎥    ⎟\n",
       "⎝⎣-17/7⎦    ⎠"
      ]
     },
     "execution_count": 28,
     "metadata": {},
     "output_type": "execute_result"
    }
   ],
   "source": [
    "A3.gauss_jordan_solve(A31)"
   ]
  },
  {
   "cell_type": "code",
   "execution_count": 31,
   "id": "e6cdbc22-aeea-4899-8c3e-14a8e6dde5c8",
   "metadata": {},
   "outputs": [
    {
     "data": {
      "text/latex": [
       "$\\displaystyle \\left[\\begin{matrix}1 & 0 & 0 & \\frac{22}{7}\\\\0 & 1 & 0 & - \\frac{11}{7}\\\\0 & 0 & 1 & - \\frac{17}{7}\\end{matrix}\\right]$"
      ],
      "text/plain": [
       "⎡1  0  0  22/7 ⎤\n",
       "⎢              ⎥\n",
       "⎢0  1  0  -11/7⎥\n",
       "⎢              ⎥\n",
       "⎣0  0  1  -17/7⎦"
      ]
     },
     "execution_count": 31,
     "metadata": {},
     "output_type": "execute_result"
    }
   ],
   "source": [
    "sym.eye(3).col_insert(3,sym.Matrix([sym.Rational(22,7),sym.Rational(-11,7),sym.Rational(-17,7)]))"
   ]
  },
  {
   "cell_type": "markdown",
   "id": "088ff5e4-9854-4f19-b928-31c21fc51f04",
   "metadata": {},
   "source": [
    "Resposta\n",
    "$$\\begin{bmatrix} \n",
    "1&-2&3&-1\\\\\n",
    "2&-1&2&3\\\\\n",
    "3&1&2&3\n",
    "\\end{bmatrix} \\begin{bmatrix}L1(-2)+L2\\\\ L1(-3)+L3\\end{bmatrix}$$\n",
    "\n",
    "$$\\begin{bmatrix} \n",
    "1&-2&3&-1\\\\0&3&-4&5\\\\0&7&-7&6\n",
    "\\end{bmatrix} L2(1/3)$$\n",
    "\n",
    "$$\\begin{bmatrix}\n",
    "1&-2&3&-1\\\\0&1&-4/3&5/3\\\\0&7&-7&6\n",
    "\\end{bmatrix} \\begin{bmatrix}L2(2)\\\\L2(-7) \\end{bmatrix}$$\n",
    "\n",
    "$$\\begin{bmatrix} \n",
    "1&0&1/3&7/3\\\\\n",
    "0&1&-4/3&5/3\\\\\n",
    "0&0&7/3&-17/3\n",
    "\\end{bmatrix}L3(3/7)$$\n",
    "\n",
    "$$\\begin{bmatrix} \n",
    "1&0&1/3&7/3\\\\\n",
    "0&1&-4/3&5/3\\\\\n",
    "0&0&1&-17/7\n",
    "\\end{bmatrix} \\begin{bmatrix}L3(4/3)+L2\\\\L3(-1/3)+L1 \\end{bmatrix}$$\n",
    "\n",
    "$$\\begin{bmatrix} \n",
    "1&0&0&22/7\\\\\n",
    "0&1&0&-11/7\\\\\n",
    "0&0&1&-17/7\n",
    "\\end{bmatrix}$$"
   ]
  },
  {
   "cell_type": "markdown",
   "id": "5c2057c5-6463-4421-af9b-54fd8ab5a252",
   "metadata": {},
   "source": [
    "$b) \\begin{bmatrix}0&1&3&-2\\\\2&1&-4&3\\\\2&3&2&-1 \\end{bmatrix}$"
   ]
  },
  {
   "cell_type": "code",
   "execution_count": 34,
   "id": "00eb0c39-a731-4e22-b4e1-a9aaed19bd0f",
   "metadata": {},
   "outputs": [],
   "source": [
    "B3 = sym.Matrix([[0,1,3],[2,1,-4],[2,3,2]])\n",
    "B31 = sym.Matrix([-2,3,-1])"
   ]
  },
  {
   "cell_type": "code",
   "execution_count": 35,
   "id": "4c8ada41-5006-4230-8742-2b3f54edde0c",
   "metadata": {},
   "outputs": [
    {
     "data": {
      "text/latex": [
       "$\\displaystyle \\left( \\left[\\begin{matrix}\\frac{7 \\tau_{0}}{2} + \\frac{5}{2}\\\\- 3 \\tau_{0} - 2\\\\\\tau_{0}\\end{matrix}\\right], \\  \\left[\\begin{matrix}\\tau_{0}\\end{matrix}\\right]\\right)$"
      ],
      "text/plain": [
       "⎛⎡7⋅τ₀   5 ⎤      ⎞\n",
       "⎜⎢──── + ─ ⎥      ⎟\n",
       "⎜⎢ 2     2 ⎥      ⎟\n",
       "⎜⎢         ⎥, [τ₀]⎟\n",
       "⎜⎢-3⋅τ₀ - 2⎥      ⎟\n",
       "⎜⎢         ⎥      ⎟\n",
       "⎝⎣   τ₀    ⎦      ⎠"
      ]
     },
     "execution_count": 35,
     "metadata": {},
     "output_type": "execute_result"
    }
   ],
   "source": [
    "B3.gauss_jordan_solve(B31)"
   ]
  },
  {
   "cell_type": "markdown",
   "id": "35dab4ee-4bd2-4e46-8dc0-935853d39983",
   "metadata": {},
   "source": [
    "$c) \\begin{bmatrix}0&2&2\\\\1&1&3\\\\3&-4&2\\\\2&-3&1 \\end{bmatrix}$"
   ]
  },
  {
   "cell_type": "code",
   "execution_count": null,
   "id": "1f2de91d-9b76-499e-8852-7ecf55432e19",
   "metadata": {},
   "outputs": [],
   "source": []
  },
  {
   "cell_type": "markdown",
   "id": "981d507d-9d37-4497-89b3-d224e59673d6",
   "metadata": {},
   "source": [
    "# 4\n",
    "\n",
    "Calcule o posto e a nulidade das matrizes da questão 3"
   ]
  },
  {
   "cell_type": "code",
   "execution_count": null,
   "id": "9fcc07d6-6ecc-48be-9da2-b7dc5769ad94",
   "metadata": {},
   "outputs": [],
   "source": []
  },
  {
   "cell_type": "markdown",
   "id": "89913e08-506e-40d6-9715-444bd4fd39e6",
   "metadata": {},
   "source": [
    "# 5\n",
    "\n",
    "Dado o sistema $\\begin{cases} 3x&+5y&&=1\\\\2x&&+z&=3\\\\5x&+y&+z&=0\\end{cases}$\n",
    "\n",
    "Escreva a matriz ampliada, associada ao sistema e reduza à forma escada reduzida por linhas, para resolver o sistema original."
   ]
  },
  {
   "cell_type": "code",
   "execution_count": 50,
   "id": "751346b6-b246-4af6-bd19-b251117e33ad",
   "metadata": {},
   "outputs": [
    {
     "data": {
      "text/latex": [
       "$\\displaystyle \\left( \\left[\\begin{matrix}- \\frac{4}{3}\\\\1\\\\\\frac{17}{3}\\end{matrix}\\right], \\  \\left[\\begin{matrix}\\end{matrix}\\right]\\right)$"
      ],
      "text/plain": [
       "⎛⎡-4/3⎤    ⎞\n",
       "⎜⎢    ⎥    ⎟\n",
       "⎜⎢ 1  ⎥, []⎟\n",
       "⎜⎢    ⎥    ⎟\n",
       "⎝⎣17/3⎦    ⎠"
      ]
     },
     "execution_count": 50,
     "metadata": {},
     "output_type": "execute_result"
    }
   ],
   "source": [
    "M5 = sym.Matrix([[3,5,0],[2,0,1],[5,1,1]])\n",
    "M51= sym.Matrix([1,3,0])\n",
    "M5.gauss_jordan_solve(M51)"
   ]
  },
  {
   "cell_type": "code",
   "execution_count": 54,
   "id": "7f728184-6e05-4f67-85d6-610e4a561839",
   "metadata": {},
   "outputs": [
    {
     "data": {
      "text/latex": [
       "$\\displaystyle \\left[\\begin{matrix}1 & 0 & 0 & - \\frac{4}{3}\\\\0 & 1 & 0 & 1\\\\0 & 0 & 1 & \\frac{17}{3}\\end{matrix}\\right]$"
      ],
      "text/plain": [
       "⎡1  0  0  -4/3⎤\n",
       "⎢             ⎥\n",
       "⎢0  1  0   1  ⎥\n",
       "⎢             ⎥\n",
       "⎣0  0  1  17/3⎦"
      ]
     },
     "execution_count": 54,
     "metadata": {},
     "output_type": "execute_result"
    }
   ],
   "source": [
    "sym.eye(3).col_insert(3,sym.Matrix([sym.Rational(-4,3),1,sym.Rational(17,3)]))"
   ]
  },
  {
   "cell_type": "markdown",
   "id": "0705c685-9147-41a5-b5ef-811d11cda0a2",
   "metadata": {},
   "source": [
    "# 6\n",
    "\n",
    "Determine k, para que o sistema admita solução.\n",
    "\n",
    "$$\\begin{cases}-4x+3y=2\\\\5x-4y=0\\\\2x-y=k \\end{cases}$$"
   ]
  },
  {
   "cell_type": "code",
   "execution_count": 61,
   "id": "98b53d7d-d664-4c61-99af-55c1a9f3a958",
   "metadata": {},
   "outputs": [
    {
     "data": {
      "image/png": "[encoded data removed]",
      "text/latex": [
       "$\\displaystyle \\left\\{\\left( -8, \\  -10, \\  -6\\right)\\right\\}$"
      ],
      "text/plain": [
       "{(-8, -10, -6)}"
      ]
     },
     "execution_count": 61,
     "metadata": {},
     "output_type": "execute_result"
    }
   ],
   "source": [
    "M6x = sym.Eq(-4*x+3*y,2)\n",
    "M6y = sym.Eq(5*x-4*y,0)\n",
    "M6z = sym.Eq(2*x-y,k)\n",
    "sym.linsolve([M6x,M6y,M6z],x,y,k)"
   ]
  },
  {
   "cell_type": "code",
   "execution_count": null,
   "id": "c37832ef-f446-4886-aadf-87fa6474bf51",
   "metadata": {},
   "outputs": [],
   "source": []
  },
  {
   "cell_type": "markdown",
   "id": "9171a215-d616-424d-a600-93c2f5b1972d",
   "metadata": {},
   "source": [
    "# 7\n",
    "\n",
    "Encontre todas as soluções do sistema\n",
    "\n",
    "\n",
    "$$\\begin{cases}x_1&+3x_2&+2x_3&+3x_4&-7x_5&=14\\\\\n",
    "2x_1&+6x_2&+x_3&-2x_4&+5x_5&=-2\\\\\n",
    "x_1&+3x_2&-x_3&&+2x_5&=-1\\end{cases}$$"
   ]
  },
  {
   "cell_type": "code",
   "execution_count": null,
   "id": "e4a998b8-22c9-4da1-9037-211182ba9bc9",
   "metadata": {},
   "outputs": [],
   "source": []
  },
  {
   "cell_type": "markdown",
   "id": "3ac5aad4-d8c9-474c-9035-cfa0abdd3f0a",
   "metadata": {},
   "source": [
    "# 10\n",
    "\n",
    "$x_1+2x_2-x_3+3x_4=1$"
   ]
  },
  {
   "cell_type": "code",
   "execution_count": null,
   "id": "2e370c7a-bb33-47f8-9a9b-add0f30a489a",
   "metadata": {},
   "outputs": [],
   "source": []
  },
  {
   "cell_type": "markdown",
   "id": "6a526b1e-a6e2-453d-ac77-1a28c49e2e67",
   "metadata": {},
   "source": [
    "# 11\n",
    "\n",
    "$$\\begin{cases}x+y+z=4\\\\ 2x+5y-2z=3\\end{cases}$$"
   ]
  },
  {
   "cell_type": "code",
   "execution_count": null,
   "id": "eca3e43a-e77c-4d51-9db1-91d086f46137",
   "metadata": {},
   "outputs": [],
   "source": []
  },
  {
   "cell_type": "markdown",
   "id": "acaf1ab0-7204-489e-97da-d5d033e1dff0",
   "metadata": {},
   "source": [
    "# 12\n",
    "\n",
    "$$\\begin{cases}x+y+z=4\\\\\n",
    "2x+5y-2z=3 \\\\\n",
    "x+7y-7z=5\\end{cases}$$"
   ]
  },
  {
   "cell_type": "code",
   "execution_count": null,
   "id": "1560c0d5-e727-4902-84cd-98a0bbb076ac",
   "metadata": {},
   "outputs": [],
   "source": []
  },
  {
   "cell_type": "markdown",
   "id": "c3bbf581-397f-4bf5-8fa4-68389c797812",
   "metadata": {},
   "source": [
    "# 13\n",
    "\n",
    "$$\\begin{cases}\n",
    "x-2y+3z=0\\\\\n",
    "2x+5y+6z=0\n",
    "\\end{cases}$$"
   ]
  },
  {
   "cell_type": "code",
   "execution_count": null,
   "id": "61a54aa4-d5c0-4299-9196-d332f73175c7",
   "metadata": {},
   "outputs": [],
   "source": []
  },
  {
   "cell_type": "markdown",
   "id": "1ca29d5b-db92-4e41-8f33-0f4617d846ad",
   "metadata": {},
   "source": [
    "# 14\n",
    "\n",
    "$$\\begin{cases}\n",
    "x_1+x_2+x_3+x_4=0\\\\\n",
    "x_1+x_2+x_3-x_4=4\\\\\n",
    "x_1+x_2-x_3+x_4=-4\\\\\n",
    "x_1-x_2+x_3+x_4=2\n",
    "\\end{cases}$$"
   ]
  },
  {
   "cell_type": "code",
   "execution_count": null,
   "id": "50ff48b8-40d5-4d4d-a231-fa26adb6120a",
   "metadata": {},
   "outputs": [],
   "source": []
  },
  {
   "cell_type": "markdown",
   "id": "752681a7-896d-42ba-88d0-355aa05b642e",
   "metadata": {},
   "source": [
    "# 15\n",
    "\n",
    "$$\\begin{cases}\n",
    "x+2y+3z=0\\\\\n",
    "2x+y+3z=0\\\\\n",
    "3x+2y+z=0\n",
    "\\end{cases}$$"
   ]
  },
  {
   "cell_type": "code",
   "execution_count": null,
   "id": "0fa33f6e-8447-4947-978b-9004a28818f8",
   "metadata": {},
   "outputs": [],
   "source": []
  },
  {
   "cell_type": "markdown",
   "id": "0a2912f4-8c9a-4042-8cbc-29da86f33532",
   "metadata": {},
   "source": [
    "# 16\n",
    "\n",
    "$$\\begin{cases}\n",
    "3x+2y-4z=1\\\\\n",
    "x-y+z=3\\\\\n",
    "x-y-3z=-3\\\\\n",
    "3x+3y-5z=0\\\\\n",
    "-x+y+z=1\n",
    "\\end{cases}$$"
   ]
  },
  {
   "cell_type": "code",
   "execution_count": null,
   "id": "1ae3a097-1712-4739-bd95-2c98de30e1ec",
   "metadata": {},
   "outputs": [],
   "source": []
  },
  {
   "cell_type": "markdown",
   "id": "98d1fa5b-fa6c-431c-b666-0a9da95ee358",
   "metadata": {},
   "source": [
    "# 23\n",
    "\n",
    "Faça o balanceamento das reações:\n",
    "\n",
    "\n",
    "$a) N_2O_5 \\to NO_2+O_2$ (Decomposição térmica do $N_2O_5$)\n",
    "\n",
    "$b) HF+SiO_2\\to SiF_4+H_2O$  (Dissolução do vidro em HF)\n",
    "\n",
    "$c) (NH_4)_2CO_3 \\to NH_3+H_2O+CO_2$"
   ]
  },
  {
   "cell_type": "code",
   "execution_count": null,
   "id": "229ac156-aa76-4079-90f8-290a56673a7f",
   "metadata": {},
   "outputs": [],
   "source": []
  },
  {
   "cell_type": "markdown",
   "id": "539e306c-5edf-4e65-98ec-85e13ff61048",
   "metadata": {},
   "source": [
    "# 24\n",
    "\n",
    "Dado o sistema linear\n",
    "\n",
    "$$\\begin{cases}\n",
    "3x&+5y&+12z&-w&=-3\\\\\n",
    "x&+y&+4z&-w&=-6\\\\\n",
    "&+2y&+2z&+w&=5\n",
    "\\end{cases}$$\n",
    "\n",
    "\n",
    "a) Discuta a solução do sistema\n",
    "\n",
    "b) acrescente a equação 2z+kw=9 a este sistema, encontre um valor de k que tome o so"
   ]
  },
  {
   "cell_type": "code",
   "execution_count": null,
   "id": "42353ea2-7859-41c9-8410-eb818eea828c",
   "metadata": {},
   "outputs": [],
   "source": []
  }
 ],
 "metadata": {
  "kernelspec": {
   "display_name": "Python 3 (ipykernel)",
   "language": "python",
   "name": "python3"
  },
  "language_info": {
   "codemirror_mode": {
    "name": "ipython",
    "version": 3
   },
   "file_extension": ".py",
   "mimetype": "text/x-python",
   "name": "python",
   "nbconvert_exporter": "python",
   "pygments_lexer": "ipython3",
   "version": "3.11.7"
  }
 },
 "nbformat": 4,
 "nbformat_minor": 5
}
