{
 "cells": [
  {
   "cell_type": "markdown",
   "id": "ccb8c95f-3e00-4d4f-b79f-8e5dbcf86ee6",
   "metadata": {},
   "source": [
    "# 1\n",
    "\n",
    "Resolva o sistema de equções, escrevendo as matrizes ampliadas, associadas aos novos sistemas"
   ]
  }
 ],
 "metadata": {
  "kernelspec": {
   "display_name": "Python 3 (ipykernel)",
   "language": "python",
   "name": "python3"
  },
  "language_info": {
   "codemirror_mode": {
    "name": "ipython",
    "version": 3
   },
   "file_extension": ".py",
   "mimetype": "text/x-python",
   "name": "python",
   "nbconvert_exporter": "python",
   "pygments_lexer": "ipython3",
   "version": "3.11.7"
  }
 },
 "nbformat": 4,
 "nbformat_minor": 5
}
