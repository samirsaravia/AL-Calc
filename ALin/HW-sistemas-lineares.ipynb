{
 "cells": [
  {
   "cell_type": "markdown",
   "id": "ccb8c95f-3e00-4d4f-b79f-8e5dbcf86ee6",
   "metadata": {},
   "source": [
    "# 1\n",
    "\n",
    "Resolva o sistema de equções, escrevendo as matrizes ampliadas, associadas aos novos sistemas\n",
    "\n",
    "$$\\begin{cases} 2x-y+3z=11\\\\4x-3y+2z=0\\\\x+y+z=6\\\\3x+y+z=4\\end{cases}$$"
   ]
  },
  {
   "cell_type": "code",
   "execution_count": null,
   "id": "58b9ed46-bb07-46e9-a0e0-aa8c77afa4e2",
   "metadata": {},
   "outputs": [],
   "source": []
  },
  {
   "cell_type": "markdown",
   "id": "7c7b63ee-6856-473c-859e-429d187ad94d",
   "metadata": {},
   "source": [
    "# 2\n",
    "\n",
    "Descreva todas as possíveis matrizes 2x2, que estão na forma escada reduzida por linhas."
   ]
  },
  {
   "cell_type": "code",
   "execution_count": null,
   "id": "e9103746-b55a-4032-bd6d-afedd3ea2ae5",
   "metadata": {},
   "outputs": [],
   "source": []
  },
  {
   "cell_type": "markdown",
   "id": "c371b002-b6b1-499b-8649-662a5dac6092",
   "metadata": {},
   "source": [
    "# 3\n",
    "\n",
    "Reduza as matrizes à forma escada reduzida por linhas.\n",
    "\n",
    "$$a) \\begin{bmatrix}1&-2&3&-1\\\\2&-1&2&3\\\\3&1&2&3 \\end{bmatrix}$$\n",
    "\n",
    "$$b) \\begin{bmatrix}0&1&3&-2\\\\2&1&-4&3\\\\2&3&2&-1 \\end{bmatrix}$$\n",
    "\n",
    "$$c) \\begin{bmatrix}0&2&2\\\\1&1&3\\\\3&-4&2\\\\2&-3&1 \\end{bmatrix}$$"
   ]
  },
  {
   "cell_type": "code",
   "execution_count": null,
   "id": "a7bea9dd-aa00-41a3-9739-64f57e9c03ef",
   "metadata": {},
   "outputs": [],
   "source": []
  },
  {
   "cell_type": "markdown",
   "id": "981d507d-9d37-4497-89b3-d224e59673d6",
   "metadata": {},
   "source": [
    "# 4\n",
    "\n",
    "Calcule o posto e a nulidade das matrizes da questão 3"
   ]
  },
  {
   "cell_type": "code",
   "execution_count": null,
   "id": "9fcc07d6-6ecc-48be-9da2-b7dc5769ad94",
   "metadata": {},
   "outputs": [],
   "source": []
  },
  {
   "cell_type": "markdown",
   "id": "89913e08-506e-40d6-9715-444bd4fd39e6",
   "metadata": {},
   "source": [
    "# 5\n",
    "\n",
    "Dado o sistema $\\begin{cases} 3x&+5y&&=1\\\\2x&&+z&=3\\\\5x&+y&+z&=0\\end{cases}$\n",
    "\n",
    "Escreva a matriz ampliada, associada ao sistema e reduza à forma escada reduzida por linhas, para resolver o sistema original."
   ]
  },
  {
   "cell_type": "code",
   "execution_count": null,
   "id": "751346b6-b246-4af6-bd19-b251117e33ad",
   "metadata": {},
   "outputs": [],
   "source": []
  },
  {
   "cell_type": "markdown",
   "id": "0705c685-9147-41a5-b5ef-811d11cda0a2",
   "metadata": {},
   "source": [
    "# 6\n",
    "\n",
    "Determine k, para que o sistema admita solução.\n",
    "\n",
    "$$\\begin{cases}-4x+3y=2\\\\5x-4y=0\\\\2x-y=k \\end{cases}$$"
   ]
  },
  {
   "cell_type": "code",
   "execution_count": null,
   "id": "98b53d7d-d664-4c61-99af-55c1a9f3a958",
   "metadata": {},
   "outputs": [],
   "source": []
  },
  {
   "cell_type": "markdown",
   "id": "9171a215-d616-424d-a600-93c2f5b1972d",
   "metadata": {},
   "source": [
    "# 7\n",
    "\n",
    "Encontre todas as soluções do sistema\n",
    "\n",
    "\n",
    "$$\\begin{cases}x_1&+3x_2&+2x_3&+3x_4&-7x_5&=14\\\\\n",
    "2x_1&+6x_2&+x_3&-2x_4&+5x_5&=-2\\\\\n",
    "x_1&+3x_2&-x_3&&+2x_5&=-1\\end{cases}$$"
   ]
  },
  {
   "cell_type": "code",
   "execution_count": null,
   "id": "e4a998b8-22c9-4da1-9037-211182ba9bc9",
   "metadata": {},
   "outputs": [],
   "source": []
  },
  {
   "cell_type": "markdown",
   "id": "3ac5aad4-d8c9-474c-9035-cfa0abdd3f0a",
   "metadata": {},
   "source": [
    "# 10\n",
    "\n",
    "$x_1+2x_2-x_3+3x_4=1$"
   ]
  },
  {
   "cell_type": "code",
   "execution_count": null,
   "id": "2e370c7a-bb33-47f8-9a9b-add0f30a489a",
   "metadata": {},
   "outputs": [],
   "source": []
  },
  {
   "cell_type": "markdown",
   "id": "6a526b1e-a6e2-453d-ac77-1a28c49e2e67",
   "metadata": {},
   "source": [
    "# 11\n",
    "\n",
    "$$\\begin{cases}x+y+z=4\\\\ 2x+5y-2z=3\\end{cases}$$"
   ]
  },
  {
   "cell_type": "code",
   "execution_count": null,
   "id": "eca3e43a-e77c-4d51-9db1-91d086f46137",
   "metadata": {},
   "outputs": [],
   "source": []
  },
  {
   "cell_type": "markdown",
   "id": "acaf1ab0-7204-489e-97da-d5d033e1dff0",
   "metadata": {},
   "source": [
    "# 12\n",
    "\n",
    "$$\\begin{cases}x+y+z=4\\\\\n",
    "2x+5y-2z=3 \\\\\n",
    "x+7y-7z=5\\end{cases}$$"
   ]
  },
  {
   "cell_type": "code",
   "execution_count": null,
   "id": "1560c0d5-e727-4902-84cd-98a0bbb076ac",
   "metadata": {},
   "outputs": [],
   "source": []
  },
  {
   "cell_type": "markdown",
   "id": "c3bbf581-397f-4bf5-8fa4-68389c797812",
   "metadata": {},
   "source": [
    "# 13\n",
    "\n",
    "$$\\begin{cases}\n",
    "x-2y+3z=0\\\\\n",
    "2x+5y+6z=0\n",
    "\\end{cases}$$"
   ]
  },
  {
   "cell_type": "code",
   "execution_count": null,
   "id": "61a54aa4-d5c0-4299-9196-d332f73175c7",
   "metadata": {},
   "outputs": [],
   "source": []
  },
  {
   "cell_type": "markdown",
   "id": "1ca29d5b-db92-4e41-8f33-0f4617d846ad",
   "metadata": {},
   "source": [
    "# 14\n",
    "\n",
    "$$\\begin{cases}\n",
    "x_1+x_2+x_3+x_4=0\\\\\n",
    "x_1+x_2+x_3-x_4=4\\\\\n",
    "x_1+x_2-x_3+x_4=-4\\\\\n",
    "x_1-x_2+x_3+x_4=2\n",
    "\\end{cases}$$"
   ]
  },
  {
   "cell_type": "code",
   "execution_count": null,
   "id": "50ff48b8-40d5-4d4d-a231-fa26adb6120a",
   "metadata": {},
   "outputs": [],
   "source": []
  },
  {
   "cell_type": "markdown",
   "id": "752681a7-896d-42ba-88d0-355aa05b642e",
   "metadata": {},
   "source": [
    "# 15\n",
    "\n",
    "$$\\begin{cases}\n",
    "x+2y+3z=0\\\\\n",
    "2x+y+3z=0\\\\\n",
    "3x+2y+z=0\n",
    "\\end{cases}$$"
   ]
  },
  {
   "cell_type": "code",
   "execution_count": null,
   "id": "0fa33f6e-8447-4947-978b-9004a28818f8",
   "metadata": {},
   "outputs": [],
   "source": []
  },
  {
   "cell_type": "markdown",
   "id": "0a2912f4-8c9a-4042-8cbc-29da86f33532",
   "metadata": {},
   "source": [
    "# 16\n",
    "\n",
    "$$\\begin{cases}\n",
    "3x+2y-4z=1\\\\\n",
    "x-y+z=3\\\\\n",
    "x-y-3z=-3\\\\\n",
    "3x+3y-5z=0\\\\\n",
    "-x+y+z=1\n",
    "\\end{cases}$$"
   ]
  },
  {
   "cell_type": "code",
   "execution_count": null,
   "id": "1ae3a097-1712-4739-bd95-2c98de30e1ec",
   "metadata": {},
   "outputs": [],
   "source": []
  },
  {
   "cell_type": "markdown",
   "id": "98d1fa5b-fa6c-431c-b666-0a9da95ee358",
   "metadata": {},
   "source": [
    "# 23\n",
    "\n",
    "Faça o balanceamento das reações:\n",
    "\n",
    "\n",
    "$a) N_2O_5 \\to NO_2+O_2$ (Decomposição térmica do $N_2O_5$)\n",
    "\n",
    "$b) HF+SiO_2\\to SiF_4+H_2O$  (Dissolução do vidro em HF)\n",
    "\n",
    "$c) (NH_4)_2CO_3 \\to NH_3+H_2O+CO_2$"
   ]
  },
  {
   "cell_type": "code",
   "execution_count": null,
   "id": "229ac156-aa76-4079-90f8-290a56673a7f",
   "metadata": {},
   "outputs": [],
   "source": []
  },
  {
   "cell_type": "markdown",
   "id": "539e306c-5edf-4e65-98ec-85e13ff61048",
   "metadata": {},
   "source": [
    "# 24\n",
    "\n",
    "Dado o sistema linear\n",
    "\n",
    "$$\\begin{cases}\n",
    "3x&+5y&+12z&-w&=-3\\\\\n",
    "x&+y&+4z&-w&=-6\\\\\n",
    "&+2y&+2z&+w&=5\n",
    "\\end{cases}$$\n",
    "\n",
    "\n",
    "a) Discuta a solução do sistema\n",
    "\n",
    "b) acrescente a equação 2z+kw=9 a este sistema, encontre um valor de k que tome o so"
   ]
  },
  {
   "cell_type": "code",
   "execution_count": null,
   "id": "42353ea2-7859-41c9-8410-eb818eea828c",
   "metadata": {},
   "outputs": [],
   "source": []
  }
 ],
 "metadata": {
  "kernelspec": {
   "display_name": "Python 3 (ipykernel)",
   "language": "python",
   "name": "python3"
  },
  "language_info": {
   "codemirror_mode": {
    "name": "ipython",
    "version": 3
   },
   "file_extension": ".py",
   "mimetype": "text/x-python",
   "name": "python",
   "nbconvert_exporter": "python",
   "pygments_lexer": "ipython3",
   "version": "3.12.2"
  }
 },
 "nbformat": 4,
 "nbformat_minor": 5
}
