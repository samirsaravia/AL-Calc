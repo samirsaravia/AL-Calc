{
 "cells": [
  {
   "cell_type": "code",
   "execution_count": 1,
   "id": "7ce7f3a0-fa66-4333-87e4-63ffe8f7e676",
   "metadata": {},
   "outputs": [],
   "source": [
    "import sympy as sym\n",
    "from sympy.abc import x,y,z,k\n",
    "sym.init_printing('mathjax')"
   ]
  },
  {
   "cell_type": "markdown",
   "id": "ccb8c95f-3e00-4d4f-b79f-8e5dbcf86ee6",
   "metadata": {},
   "source": [
    "# 1\n",
    "\n",
    "Resolva o sistema de equções, escrevendo as matrizes ampliadas, associadas aos novos sistemas\n",
    "\n",
    "$$\\begin{cases} 2x-y+3z=11\\\\4x-3y+2z=0\\\\x+y+z=6\\\\3x+y+z=4\\end{cases}$$"
   ]
  },
  {
   "cell_type": "code",
   "execution_count": 2,
   "id": "58b9ed46-bb07-46e9-a0e0-aa8c77afa4e2",
   "metadata": {},
   "outputs": [],
   "source": [
    "eq1x = sym.Eq(2*x-y+3*z,11)\n",
    "eq1y = sym.Eq(4*x-3*y+2*z,0)\n",
    "eq1z = sym.Eq(x+y+z,6)\n",
    "eq1w = sym.Eq(3*x+y+z, 4)"
   ]
  },
  {
   "cell_type": "code",
   "execution_count": 3,
   "id": "9279da59-eab6-4026-88d6-dd2122e029df",
   "metadata": {},
   "outputs": [
    {
     "data": {
      "image/png": "[encoded data removed]",
      "text/latex": [
       "$\\displaystyle \\left\\{\\left( -1, \\  2, \\  5\\right)\\right\\}$"
      ],
      "text/plain": [
       "{(-1, 2, 5)}"
      ]
     },
     "execution_count": 3,
     "metadata": {},
     "output_type": "execute_result"
    }
   ],
   "source": [
    "sym.linsolve([eq1x,eq1w,eq1y,eq1z],x,y,z)"
   ]
  },
  {
   "cell_type": "markdown",
   "id": "6a2c299b-38e3-43c1-be7b-d2ef00923042",
   "metadata": {},
   "source": [
    "$$\\begin{bmatrix}2&-1&3&11\\\\4&-3&2&0\\\\1&1&1&6\\\\3&1&1&4 \\end{bmatrix}\\begin{bmatrix}L3 (-3)+L1\\\\L3(-2)+L2\\\\\\\\L3(-1)+L4 \\end{bmatrix}$$\n",
    "\n",
    "$$\\begin{bmatrix}-1&-4&0&-7\\\\2&-5&0&-12\\\\1&1&1&6\\\\2&0&0&-2 \\end{bmatrix}L4(1/2) \\begin{bmatrix}L4+L1\\\\L4(-2)+L2\\\\L4(-1)+L3\\\\\\\\ \\end{bmatrix}$$\n",
    "\n",
    "\n",
    "$$\\begin{bmatrix}0&-4&0&-8\\\\0&-5&0&-10\\\\0&1&1&7\\\\1&0&0&-1 \\end{bmatrix} \n",
    "\\begin{cases} \n",
    "y=2\\\\y+z=7\\\\x=-1\n",
    "\\end{cases} \\begin{cases}y=2\\\\z=5\\\\x=-1 \\end{cases}$$"
   ]
  },
  {
   "cell_type": "code",
   "execution_count": 4,
   "id": "1d733d91-ea8b-472a-a6cb-264d824b7d22",
   "metadata": {},
   "outputs": [
    {
     "data": {
      "text/latex": [
       "$\\displaystyle \\left( \\left[\\begin{matrix}-1\\\\2\\\\5\\end{matrix}\\right], \\  \\left[\\begin{matrix}\\end{matrix}\\right]\\right)$"
      ],
      "text/plain": [
       "⎛⎡-1⎤    ⎞\n",
       "⎜⎢  ⎥    ⎟\n",
       "⎜⎢2 ⎥, []⎟\n",
       "⎜⎢  ⎥    ⎟\n",
       "⎝⎣5 ⎦    ⎠"
      ]
     },
     "execution_count": 4,
     "metadata": {},
     "output_type": "execute_result"
    }
   ],
   "source": [
    "A2 = sym.Matrix([[2,-1,3],[4,-3,2],[1,1,1],[3,1,1]])\n",
    "A21 = sym.Matrix([11,0,6,4])\n",
    "A2.gauss_jordan_solve(A21)"
   ]
  },
  {
   "cell_type": "markdown",
   "id": "7c7b63ee-6856-473c-859e-429d187ad94d",
   "metadata": {},
   "source": [
    "# 2\n",
    "\n",
    "Descreva todas as possíveis matrizes 2x2, que estão na forma escada reduzida por linhas."
   ]
  },
  {
   "cell_type": "code",
   "execution_count": null,
   "id": "e9103746-b55a-4032-bd6d-afedd3ea2ae5",
   "metadata": {},
   "outputs": [],
   "source": []
  },
  {
   "cell_type": "markdown",
   "id": "c371b002-b6b1-499b-8649-662a5dac6092",
   "metadata": {},
   "source": [
    "# 3\n",
    "\n",
    "Reduza as matrizes à forma escada reduzida por linhas.\n",
    "\n",
    "$$a) \\begin{bmatrix}1&-2&3&-1\\\\2&-1&2&3\\\\3&1&2&3 \\end{bmatrix}$$\n",
    "\n",
    "$$b) \\begin{bmatrix}0&1&3&-2\\\\2&1&-4&3\\\\2&3&2&-1 \\end{bmatrix}$$\n",
    "\n",
    "$$c) \\begin{bmatrix}0&2&2\\\\1&1&3\\\\3&-4&2\\\\2&-3&1 \\end{bmatrix}$$"
   ]
  },
  {
   "cell_type": "markdown",
   "id": "7155eef5-9a88-47e4-822d-443a62dd620e",
   "metadata": {},
   "source": [
    "$a) \\begin{bmatrix}1&-2&3&-1\\\\2&-1&2&3\\\\3&1&2&3 \\end{bmatrix}$"
   ]
  },
  {
   "cell_type": "code",
   "execution_count": 5,
   "id": "a7bea9dd-aa00-41a3-9739-64f57e9c03ef",
   "metadata": {},
   "outputs": [],
   "source": [
    "A3 = sym.Matrix([[1,-2,3],[2,-1,2],[3,1,2]])\n",
    "A31 = sym.Matrix([-1,3,3])"
   ]
  },
  {
   "cell_type": "code",
   "execution_count": 6,
   "id": "b52f807a-458d-4166-84e7-b7bf28b0939a",
   "metadata": {},
   "outputs": [
    {
     "data": {
      "text/latex": [
       "$\\displaystyle \\left( \\left[\\begin{matrix}\\frac{22}{7}\\\\- \\frac{11}{7}\\\\- \\frac{17}{7}\\end{matrix}\\right], \\  \\left[\\begin{matrix}\\end{matrix}\\right]\\right)$"
      ],
      "text/plain": [
       "⎛⎡22/7 ⎤    ⎞\n",
       "⎜⎢     ⎥    ⎟\n",
       "⎜⎢-11/7⎥, []⎟\n",
       "⎜⎢     ⎥    ⎟\n",
       "⎝⎣-17/7⎦    ⎠"
      ]
     },
     "execution_count": 6,
     "metadata": {},
     "output_type": "execute_result"
    }
   ],
   "source": [
    "A3.gauss_jordan_solve(A31)"
   ]
  },
  {
   "cell_type": "code",
   "execution_count": 7,
   "id": "e6cdbc22-aeea-4899-8c3e-14a8e6dde5c8",
   "metadata": {},
   "outputs": [
    {
     "data": {
      "text/latex": [
       "$\\displaystyle \\left[\\begin{matrix}1 & 0 & 0 & \\frac{22}{7}\\\\0 & 1 & 0 & - \\frac{11}{7}\\\\0 & 0 & 1 & - \\frac{17}{7}\\end{matrix}\\right]$"
      ],
      "text/plain": [
       "⎡1  0  0  22/7 ⎤\n",
       "⎢              ⎥\n",
       "⎢0  1  0  -11/7⎥\n",
       "⎢              ⎥\n",
       "⎣0  0  1  -17/7⎦"
      ]
     },
     "execution_count": 7,
     "metadata": {},
     "output_type": "execute_result"
    }
   ],
   "source": [
    "sym.eye(3).col_insert(3,sym.Matrix([sym.Rational(22,7),sym.Rational(-11,7),sym.Rational(-17,7)]))"
   ]
  },
  {
   "cell_type": "markdown",
   "id": "088ff5e4-9854-4f19-b928-31c21fc51f04",
   "metadata": {},
   "source": [
    "Resposta\n",
    "$$\\begin{bmatrix} \n",
    "1&-2&3&-1\\\\\n",
    "2&-1&2&3\\\\\n",
    "3&1&2&3\n",
    "\\end{bmatrix} \\begin{bmatrix}L1(-2)+L2\\\\ L1(-3)+L3\\end{bmatrix}$$\n",
    "\n",
    "$$\\begin{bmatrix} \n",
    "1&-2&3&-1\\\\0&3&-4&5\\\\0&7&-7&6\n",
    "\\end{bmatrix} L2(1/3)$$\n",
    "\n",
    "$$\\begin{bmatrix}\n",
    "1&-2&3&-1\\\\0&1&-4/3&5/3\\\\0&7&-7&6\n",
    "\\end{bmatrix} \\begin{bmatrix}L2(2)\\\\L2(-7) \\end{bmatrix}$$\n",
    "\n",
    "$$\\begin{bmatrix} \n",
    "1&0&1/3&7/3\\\\\n",
    "0&1&-4/3&5/3\\\\\n",
    "0&0&7/3&-17/3\n",
    "\\end{bmatrix}L3(3/7)$$\n",
    "\n",
    "$$\\begin{bmatrix} \n",
    "1&0&1/3&7/3\\\\\n",
    "0&1&-4/3&5/3\\\\\n",
    "0&0&1&-17/7\n",
    "\\end{bmatrix} \\begin{bmatrix}L3(4/3)+L2\\\\L3(-1/3)+L1 \\end{bmatrix}$$\n",
    "\n",
    "$$\\begin{bmatrix} \n",
    "1&0&0&22/7\\\\\n",
    "0&1&0&-11/7\\\\\n",
    "0&0&1&-17/7\n",
    "\\end{bmatrix}$$"
   ]
  },
  {
   "cell_type": "markdown",
   "id": "5c2057c5-6463-4421-af9b-54fd8ab5a252",
   "metadata": {},
   "source": [
    "$b) \\begin{bmatrix}0&1&3&-2\\\\2&1&-4&3\\\\2&3&2&-1 \\end{bmatrix}$"
   ]
  },
  {
   "cell_type": "code",
   "execution_count": 8,
   "id": "00eb0c39-a731-4e22-b4e1-a9aaed19bd0f",
   "metadata": {},
   "outputs": [],
   "source": [
    "B3 = sym.Matrix([[0,1,3],[2,1,-4],[2,3,2]])\n",
    "B31 = sym.Matrix([-2,3,-1])"
   ]
  },
  {
   "cell_type": "code",
   "execution_count": 9,
   "id": "4c8ada41-5006-4230-8742-2b3f54edde0c",
   "metadata": {},
   "outputs": [
    {
     "data": {
      "text/latex": [
       "$\\displaystyle \\left( \\left[\\begin{matrix}\\frac{7 \\tau_{0}}{2} + \\frac{5}{2}\\\\- 3 \\tau_{0} - 2\\\\\\tau_{0}\\end{matrix}\\right], \\  \\left[\\begin{matrix}\\tau_{0}\\end{matrix}\\right]\\right)$"
      ],
      "text/plain": [
       "⎛⎡7⋅τ₀   5 ⎤      ⎞\n",
       "⎜⎢──── + ─ ⎥      ⎟\n",
       "⎜⎢ 2     2 ⎥      ⎟\n",
       "⎜⎢         ⎥, [τ₀]⎟\n",
       "⎜⎢-3⋅τ₀ - 2⎥      ⎟\n",
       "⎜⎢         ⎥      ⎟\n",
       "⎝⎣   τ₀    ⎦      ⎠"
      ]
     },
     "execution_count": 9,
     "metadata": {},
     "output_type": "execute_result"
    }
   ],
   "source": [
    "B3.gauss_jordan_solve(B31)"
   ]
  },
  {
   "cell_type": "code",
   "execution_count": 17,
   "id": "5ac6f30e-4700-4386-9ec1-fc665229c1cd",
   "metadata": {},
   "outputs": [
    {
     "data": {
      "text/latex": [
       "$\\displaystyle \\left[\\begin{matrix}1 & 0 & 0 & \\frac{7 z}{2} + \\frac{5}{2}\\\\0 & 1 & 0 & - 3 z - 2\\\\0 & 0 & 1 & z\\end{matrix}\\right]$"
      ],
      "text/plain": [
       "⎡         7⋅z   5 ⎤\n",
       "⎢1  0  0  ─── + ─ ⎥\n",
       "⎢          2    2 ⎥\n",
       "⎢                 ⎥\n",
       "⎢0  1  0  -3⋅z - 2⎥\n",
       "⎢                 ⎥\n",
       "⎣0  0  1     z    ⎦"
      ]
     },
     "execution_count": 17,
     "metadata": {},
     "output_type": "execute_result"
    }
   ],
   "source": [
    "sym.eye(3).col_insert(3,sym.Matrix([(7*z/2)+(sym.Rational(5,2)),-3*z-2,z]))"
   ]
  },
  {
   "cell_type": "markdown",
   "id": "35dab4ee-4bd2-4e46-8dc0-935853d39983",
   "metadata": {},
   "source": [
    "$c) \\begin{bmatrix}0&2&2\\\\1&1&3\\\\3&-4&2\\\\2&-3&1 \\end{bmatrix}$"
   ]
  },
  {
   "cell_type": "code",
   "execution_count": 13,
   "id": "1f2de91d-9b76-499e-8852-7ecf55432e19",
   "metadata": {},
   "outputs": [],
   "source": [
    "C3 = sym.Matrix([[0,2],[1,1],[3,-4],[2,-3]])\n",
    "C31 = sym.Matrix([2,3,2,1])"
   ]
  },
  {
   "cell_type": "code",
   "execution_count": 14,
   "id": "cc4b408e-3a4c-4c64-9f56-a8aceab32081",
   "metadata": {},
   "outputs": [
    {
     "data": {
      "text/latex": [
       "$\\displaystyle \\left( \\left[\\begin{matrix}2\\\\1\\end{matrix}\\right], \\  \\left[\\begin{matrix}\\end{matrix}\\right]\\right)$"
      ],
      "text/plain": [
       "⎛⎡2⎤    ⎞\n",
       "⎜⎢ ⎥, []⎟\n",
       "⎝⎣1⎦    ⎠"
      ]
     },
     "execution_count": 14,
     "metadata": {},
     "output_type": "execute_result"
    }
   ],
   "source": [
    "C3.gauss_jordan_solve(C31)"
   ]
  },
  {
   "cell_type": "code",
   "execution_count": 19,
   "id": "a00bd70d-7d47-4115-8328-a6bc83430920",
   "metadata": {},
   "outputs": [
    {
     "data": {
      "text/latex": [
       "$\\displaystyle \\left[\\begin{matrix}1 & 0 & 2\\\\0 & 1 & 1\\end{matrix}\\right]$"
      ],
      "text/plain": [
       "⎡1  0  2⎤\n",
       "⎢       ⎥\n",
       "⎣0  1  1⎦"
      ]
     },
     "execution_count": 19,
     "metadata": {},
     "output_type": "execute_result"
    }
   ],
   "source": [
    "sym.eye(2).col_insert(2,sym.Matrix([2,1]))"
   ]
  },
  {
   "cell_type": "markdown",
   "id": "981d507d-9d37-4497-89b3-d224e59673d6",
   "metadata": {},
   "source": [
    "# 4\n",
    "\n",
    "Calcule o posto e a nulidade das matrizes da questão 3"
   ]
  },
  {
   "cell_type": "markdown",
   "id": "2009e140-e3f1-4f24-8be9-e3cf97ac74cb",
   "metadata": {},
   "source": [
    "a) posto = 3\n",
    "   nulidade = 4-3 = 1\n",
    "\n",
    "\n",
    "b) posto = 3\n",
    "   nulidade = 4-3 = 1\n",
    "\n",
    "\n",
    "c) posto = 2\n",
    "   nulidade = 3-2 = 1"
   ]
  },
  {
   "cell_type": "markdown",
   "id": "89913e08-506e-40d6-9715-444bd4fd39e6",
   "metadata": {},
   "source": [
    "# 5\n",
    "\n",
    "Dado o sistema $\\begin{cases} 3x&+5y&&=1\\\\2x&&+z&=3\\\\5x&+y&+z&=0\\end{cases}$\n",
    "\n",
    "Escreva a matriz ampliada, associada ao sistema e reduza à forma escada reduzida por linhas, para resolver o sistema original."
   ]
  },
  {
   "cell_type": "code",
   "execution_count": 10,
   "id": "751346b6-b246-4af6-bd19-b251117e33ad",
   "metadata": {},
   "outputs": [
    {
     "data": {
      "text/latex": [
       "$\\displaystyle \\left( \\left[\\begin{matrix}- \\frac{4}{3}\\\\1\\\\\\frac{17}{3}\\end{matrix}\\right], \\  \\left[\\begin{matrix}\\end{matrix}\\right]\\right)$"
      ],
      "text/plain": [
       "⎛⎡-4/3⎤    ⎞\n",
       "⎜⎢    ⎥    ⎟\n",
       "⎜⎢ 1  ⎥, []⎟\n",
       "⎜⎢    ⎥    ⎟\n",
       "⎝⎣17/3⎦    ⎠"
      ]
     },
     "execution_count": 10,
     "metadata": {},
     "output_type": "execute_result"
    }
   ],
   "source": [
    "M5 = sym.Matrix([[3,5,0],[2,0,1],[5,1,1]])\n",
    "M51= sym.Matrix([1,3,0])\n",
    "M5.gauss_jordan_solve(M51)"
   ]
  },
  {
   "cell_type": "code",
   "execution_count": 11,
   "id": "7f728184-6e05-4f67-85d6-610e4a561839",
   "metadata": {},
   "outputs": [
    {
     "data": {
      "text/latex": [
       "$\\displaystyle \\left[\\begin{matrix}1 & 0 & 0 & - \\frac{4}{3}\\\\0 & 1 & 0 & 1\\\\0 & 0 & 1 & \\frac{17}{3}\\end{matrix}\\right]$"
      ],
      "text/plain": [
       "⎡1  0  0  -4/3⎤\n",
       "⎢             ⎥\n",
       "⎢0  1  0   1  ⎥\n",
       "⎢             ⎥\n",
       "⎣0  0  1  17/3⎦"
      ]
     },
     "execution_count": 11,
     "metadata": {},
     "output_type": "execute_result"
    }
   ],
   "source": [
    "sym.eye(3).col_insert(3,sym.Matrix([sym.Rational(-4,3),1,sym.Rational(17,3)]))"
   ]
  },
  {
   "cell_type": "markdown",
   "id": "0705c685-9147-41a5-b5ef-811d11cda0a2",
   "metadata": {},
   "source": [
    "# 6\n",
    "\n",
    "Determine k, para que o sistema admita solução.\n",
    "\n",
    "$$\\begin{cases}-4x+3y=2\\\\5x-4y=0\\\\2x-y=k \\end{cases}$$"
   ]
  },
  {
   "cell_type": "code",
   "execution_count": 12,
   "id": "98b53d7d-d664-4c61-99af-55c1a9f3a958",
   "metadata": {},
   "outputs": [
    {
     "data": {
      "image/png": "[encoded data removed]",
      "text/latex": [
       "$\\displaystyle \\left\\{\\left( -8, \\  -10, \\  -6\\right)\\right\\}$"
      ],
      "text/plain": [
       "{(-8, -10, -6)}"
      ]
     },
     "execution_count": 12,
     "metadata": {},
     "output_type": "execute_result"
    }
   ],
   "source": [
    "M6x = sym.Eq(-4*x+3*y,2)\n",
    "M6y = sym.Eq(5*x-4*y,0)\n",
    "M6z = sym.Eq(2*x-y,k)\n",
    "sym.linsolve([M6x,M6y,M6z],x,y,k)"
   ]
  },
  {
   "cell_type": "markdown",
   "id": "29432cd5-bad3-44a5-8c83-2e2e5cad8da7",
   "metadata": {},
   "source": [
    "Resposta:\n",
    "\n",
    "\n",
    "$x=-8$\n",
    "\n",
    "$y = -10$\n",
    "\n",
    "$k=-6$"
   ]
  },
  {
   "cell_type": "markdown",
   "id": "9171a215-d616-424d-a600-93c2f5b1972d",
   "metadata": {},
   "source": [
    "# 7\n",
    "\n",
    "Encontre todas as soluções do sistema\n",
    "\n",
    "\n",
    "$$\\begin{cases}x_1&+3x_2&+2x_3&+3x_4&-7x_5&=14\\\\\n",
    "2x_1&+6x_2&+x_3&-2x_4&+5x_5&=-2\\\\\n",
    "x_1&+3x_2&-x_3&&+2x_5&=-1\\end{cases}$$"
   ]
  },
  {
   "cell_type": "code",
   "execution_count": null,
   "id": "e4a998b8-22c9-4da1-9037-211182ba9bc9",
   "metadata": {},
   "outputs": [],
   "source": []
  },
  {
   "cell_type": "markdown",
   "id": "3ac5aad4-d8c9-474c-9035-cfa0abdd3f0a",
   "metadata": {},
   "source": [
    "# 10\n",
    "\n",
    "$x_1+2x_2-x_3+3x_4=1$"
   ]
  },
  {
   "cell_type": "code",
   "execution_count": null,
   "id": "2e370c7a-bb33-47f8-9a9b-add0f30a489a",
   "metadata": {},
   "outputs": [],
   "source": []
  },
  {
   "cell_type": "markdown",
   "id": "6a526b1e-a6e2-453d-ac77-1a28c49e2e67",
   "metadata": {},
   "source": [
    "# 11\n",
    "\n",
    "$$\\begin{cases}x+y+z=4\\\\ 2x+5y-2z=3\\end{cases}$$"
   ]
  },
  {
   "cell_type": "code",
   "execution_count": 24,
   "id": "eca3e43a-e77c-4d51-9db1-91d086f46137",
   "metadata": {},
   "outputs": [
    {
     "data": {
      "text/latex": [
       "$\\displaystyle \\left( \\left[\\begin{matrix}\\frac{17}{3} - \\frac{7 \\tau_{0}}{3}\\\\\\frac{4 \\tau_{0}}{3} - \\frac{5}{3}\\\\\\tau_{0}\\end{matrix}\\right], \\  \\left[\\begin{matrix}\\tau_{0}\\end{matrix}\\right]\\right)$"
      ],
      "text/plain": [
       "⎛⎡17   7⋅τ₀⎤      ⎞\n",
       "⎜⎢── - ────⎥      ⎟\n",
       "⎜⎢3     3  ⎥      ⎟\n",
       "⎜⎢         ⎥      ⎟\n",
       "⎜⎢4⋅τ₀   5 ⎥, [τ₀]⎟\n",
       "⎜⎢──── - ─ ⎥      ⎟\n",
       "⎜⎢ 3     3 ⎥      ⎟\n",
       "⎜⎢         ⎥      ⎟\n",
       "⎝⎣   τ₀    ⎦      ⎠"
      ]
     },
     "execution_count": 24,
     "metadata": {},
     "output_type": "execute_result"
    }
   ],
   "source": [
    "A11 = sym.Matrix([[1,1,1],[2,5,-2]])\n",
    "A11_1 = sym.Matrix([4,3])\n",
    "A11.gauss_jordan_solve(A11_1)"
   ]
  },
  {
   "cell_type": "code",
   "execution_count": 25,
   "id": "53a35733-777a-4478-90c8-5ad5c8e3cad5",
   "metadata": {},
   "outputs": [],
   "source": [
    "Aa = sym.Eq(x+y+z,4)\n",
    "Ab = sym.Eq(2*x+5*y-2*z,3)"
   ]
  },
  {
   "cell_type": "code",
   "execution_count": 26,
   "id": "625cae2e-d38a-49eb-8df5-4ce046b79117",
   "metadata": {},
   "outputs": [
    {
     "data": {
      "image/png": "[encoded data removed]",
      "text/latex": [
       "$\\displaystyle \\left\\{\\left( \\frac{17}{3} - \\frac{7 z}{3}, \\  \\frac{4 z}{3} - \\frac{5}{3}, \\  z\\right)\\right\\}$"
      ],
      "text/plain": [
       "⎧⎛17   7⋅z  4⋅z   5   ⎞⎫\n",
       "⎨⎜── - ───, ─── - ─, z⎟⎬\n",
       "⎩⎝3     3    3    3   ⎠⎭"
      ]
     },
     "execution_count": 26,
     "metadata": {},
     "output_type": "execute_result"
    }
   ],
   "source": [
    "sym.linsolve([Aa,Ab],x,y,z)"
   ]
  },
  {
   "cell_type": "markdown",
   "id": "acaf1ab0-7204-489e-97da-d5d033e1dff0",
   "metadata": {},
   "source": [
    "# 12\n",
    "\n",
    "$$\\begin{cases}x+y+z=4\\\\\n",
    "2x+5y-2z=3 \\\\\n",
    "x+7y-7z=5\\end{cases}$$"
   ]
  },
  {
   "cell_type": "code",
   "execution_count": 27,
   "id": "1560c0d5-e727-4902-84cd-98a0bbb076ac",
   "metadata": {},
   "outputs": [],
   "source": [
    "A12a = sym.Eq(x+y+z,4)\n",
    "A12b = sym.Eq(2*x+5*y-2*z,3)\n",
    "A12c = sym.Eq(x+7*y-7*z,5)"
   ]
  },
  {
   "cell_type": "code",
   "execution_count": 28,
   "id": "57c364f4-95b0-42f1-bc2d-dae31ee69dbf",
   "metadata": {},
   "outputs": [
    {
     "data": {
      "image/png": "[encoded data removed]",
      "text/latex": [
       "$\\displaystyle \\emptyset$"
      ],
      "text/plain": [
       "∅"
      ]
     },
     "execution_count": 28,
     "metadata": {},
     "output_type": "execute_result"
    }
   ],
   "source": [
    "sym.linsolve([A12a,A12b,A12c],x,y,z)"
   ]
  },
  {
   "cell_type": "markdown",
   "id": "caef94d9-492f-4bf3-adb0-e94d7b7ae4ea",
   "metadata": {},
   "source": [
    "$$\\begin{bmatrix} \n",
    "1&1&1&4\\\\\n",
    "2&5&-2&3\\\\\n",
    "1&7&-7&5\n",
    "\\end{bmatrix}\\begin{bmatrix}L1(-2)+L2\\\\L1(-1)+L3 \\end{bmatrix}$$\n",
    "\n",
    "$$\\begin{bmatrix}\n",
    "1&1&1&4\\\\\n",
    "0&3&-4&-5\\\\\n",
    "0&6&-8&1\n",
    "\\end{bmatrix}\\begin{bmatrix} L2(\\frac13)\\end{bmatrix}$$\n",
    "\n",
    "$$\\begin{bmatrix} \n",
    "1&1&1&4\\\\\n",
    "0&0&-4/3&-5/3\\\\\n",
    "0&6&-8&1\n",
    "\\end{bmatrix}\\begin{bmatrix} L2(-1)+L1\\\\L2(-6)+L3\\end{bmatrix}$$\n",
    "\n",
    "\n",
    "$$\\begin{bmatrix} \n",
    "1&0&7/3&17/3\\\\\n",
    "0&1&-4/3&-5/3\\\\\n",
    "0&0&0&11\n",
    "\\end{bmatrix}$$\n",
    "\n",
    "$$0\\neq 11$$"
   ]
  },
  {
   "cell_type": "markdown",
   "id": "c3bbf581-397f-4bf5-8fa4-68389c797812",
   "metadata": {},
   "source": [
    "# 13\n",
    "\n",
    "$$\\begin{cases}\n",
    "x-2y+3z=0\\\\\n",
    "2x+5y+6z=0\n",
    "\\end{cases}$$"
   ]
  },
  {
   "cell_type": "code",
   "execution_count": 31,
   "id": "61a54aa4-d5c0-4299-9196-d332f73175c7",
   "metadata": {},
   "outputs": [
    {
     "data": {
      "image/png": "[encoded data removed]",
      "text/latex": [
       "$\\displaystyle \\left\\{\\left( - \\frac{27 z}{4} - \\frac{5}{4}, \\  \\frac{3 z}{2} + \\frac{1}{2}, \\  z\\right)\\right\\}$"
      ],
      "text/plain": [
       "⎧⎛  27⋅z   5  3⋅z   1   ⎞⎫\n",
       "⎨⎜- ──── - ─, ─── + ─, z⎟⎬\n",
       "⎩⎝   4     4   2    2   ⎠⎭"
      ]
     },
     "execution_count": 31,
     "metadata": {},
     "output_type": "execute_result"
    }
   ],
   "source": [
    "A13 = sym.Eq(1-2*y+3*z,0)\n",
    "B13 = sym.Eq(2*x+5*y+6*z,0)\n",
    "sym.linsolve([A13,B13],x,y,z)"
   ]
  },
  {
   "cell_type": "markdown",
   "id": "1ca29d5b-db92-4e41-8f33-0f4617d846ad",
   "metadata": {},
   "source": [
    "# 14\n",
    "\n",
    "$$\\begin{cases}\n",
    "x_1+x_2+x_3+x_4=0\\\\\n",
    "x_1+x_2+x_3-x_4=4\\\\\n",
    "x_1+x_2-x_3+x_4=-4\\\\\n",
    "x_1-x_2+x_3+x_4=2\n",
    "\\end{cases}$$"
   ]
  },
  {
   "cell_type": "code",
   "execution_count": 32,
   "id": "50ff48b8-40d5-4d4d-a231-fa26adb6120a",
   "metadata": {},
   "outputs": [
    {
     "data": {
      "image/png": "[encoded data removed]",
      "text/latex": [
       "$\\displaystyle \\left\\{\\left( 1, \\  -1, \\  2, \\  -2\\right)\\right\\}$"
      ],
      "text/plain": [
       "{(1, -1, 2, -2)}"
      ]
     },
     "execution_count": 32,
     "metadata": {},
     "output_type": "execute_result"
    }
   ],
   "source": [
    "A14 = sym.Eq(x+y+z+k,0)\n",
    "B14 = sym.Eq(x+y+z-k,4)\n",
    "C14 = sym.Eq(x+y-z+k,-4)\n",
    "D14 = sym.Eq(x-y+z+k,2)\n",
    "sym.linsolve([A14,B14,C14,D14],x,y,z,k)"
   ]
  },
  {
   "cell_type": "markdown",
   "id": "deadce54-0a99-4aa0-b8e8-853511e8293e",
   "metadata": {},
   "source": [
    "Resposta: $x_1=2 ; x_2=-1 ; x_3=2 ; x_4=-2$"
   ]
  },
  {
   "cell_type": "markdown",
   "id": "752681a7-896d-42ba-88d0-355aa05b642e",
   "metadata": {},
   "source": [
    "# 15\n",
    "\n",
    "$$\\begin{cases}\n",
    "x+2y+3z=0\\\\\n",
    "2x+y+3z=0\\\\\n",
    "3x+2y+z=0\n",
    "\\end{cases}$$"
   ]
  },
  {
   "cell_type": "code",
   "execution_count": 33,
   "id": "0fa33f6e-8447-4947-978b-9004a28818f8",
   "metadata": {},
   "outputs": [
    {
     "data": {
      "image/png": "[encoded data removed]",
      "text/latex": [
       "$\\displaystyle \\left\\{\\left( 0, \\  0, \\  0\\right)\\right\\}$"
      ],
      "text/plain": [
       "{(0, 0, 0)}"
      ]
     },
     "execution_count": 33,
     "metadata": {},
     "output_type": "execute_result"
    }
   ],
   "source": [
    "A15 = sym.Eq(x+2*y+3*z,0)\n",
    "B15 = sym.Eq(2*x+y+3*z,0)\n",
    "C15 = sym.Eq(3*x+2*y+z,0)\n",
    "sym.linsolve([A15,B15,C15],x,y,z)"
   ]
  },
  {
   "cell_type": "markdown",
   "id": "0a2912f4-8c9a-4042-8cbc-29da86f33532",
   "metadata": {},
   "source": [
    "# 16\n",
    "\n",
    "$$\\begin{cases}\n",
    "3x+2y-4z=1\\\\\n",
    "x-y+z=3\\\\\n",
    "x-y-3z=-3\\\\\n",
    "3x+3y-5z=0\\\\\n",
    "-x+y+z=1\n",
    "\\end{cases}$$"
   ]
  },
  {
   "cell_type": "code",
   "execution_count": null,
   "id": "1ae3a097-1712-4739-bd95-2c98de30e1ec",
   "metadata": {},
   "outputs": [],
   "source": []
  },
  {
   "cell_type": "markdown",
   "id": "98d1fa5b-fa6c-431c-b666-0a9da95ee358",
   "metadata": {},
   "source": [
    "# 23\n",
    "\n",
    "Faça o balanceamento das reações:\n",
    "\n",
    "\n",
    "$a) N_2O_5 \\to NO_2+O_2$ (Decomposição térmica do $N_2O_5$)\n",
    "\n",
    "$b) HF+SiO_2\\to SiF_4+H_2O$  (Dissolução do vidro em HF)\n",
    "\n",
    "$c) (NH_4)_2CO_3 \\to NH_3+H_2O+CO_2$"
   ]
  },
  {
   "cell_type": "code",
   "execution_count": 34,
   "id": "229ac156-aa76-4079-90f8-290a56673a7f",
   "metadata": {},
   "outputs": [
    {
     "data": {
      "image/png": "[encoded data removed]",
      "text/latex": [
       "$\\displaystyle \\left\\{\\left( - 2 z, \\  - 4 z, \\  z\\right)\\right\\}$"
      ],
      "text/plain": [
       "{(-2⋅z, -4⋅z, z)}"
      ]
     },
     "execution_count": 34,
     "metadata": {},
     "output_type": "execute_result"
    }
   ],
   "source": [
    "# a)\n",
    "A23 = sym.Eq(5*x-2*y+2*z,0)\n",
    "B23 = sym.Eq(2*x-y,0)\n",
    "sym.linsolve([A23,B23],x,y,z)"
   ]
  },
  {
   "cell_type": "markdown",
   "id": "de4fd87f-992a-423f-a016-175493602132",
   "metadata": {},
   "source": [
    "Resposta:\n",
    "a) $2N_2O_5\\to 4NO_2+O_2$"
   ]
  },
  {
   "cell_type": "code",
   "execution_count": 36,
   "id": "99174fab-b96c-4ff4-a5bf-e9f11feb81f8",
   "metadata": {},
   "outputs": [
    {
     "data": {
      "image/png": "[encoded data removed]",
      "text/latex": [
       "$\\displaystyle \\left\\{\\left( 2 k, \\  \\frac{k}{2}, \\  \\frac{k}{2}, \\  k\\right)\\right\\}$"
      ],
      "text/plain": [
       "⎧⎛     k  k   ⎞⎫\n",
       "⎨⎜2⋅k, ─, ─, k⎟⎬\n",
       "⎩⎝     2  2   ⎠⎭"
      ]
     },
     "execution_count": 36,
     "metadata": {},
     "output_type": "execute_result"
    }
   ],
   "source": [
    "# b)\n",
    "Aa23 = sym.Eq(x-2*k,0)\n",
    "Ab23 = sym.Eq(x-4*z,0)\n",
    "Ac23 = sym.Eq(y-z,0)\n",
    "Ad23 = sym.Eq(2*y-k,0)\n",
    "sym.linsolve([Aa23,Ab23,Ac23,Ad23],x,y,z,k)"
   ]
  },
  {
   "cell_type": "markdown",
   "id": "553ec4e2-0a25-47b6-8fb6-ab10cc8f58ac",
   "metadata": {},
   "source": [
    "Resposta:\n",
    "b) $4HF+SiO_2 \\to SiF_4+2H_2O$"
   ]
  },
  {
   "cell_type": "code",
   "execution_count": 37,
   "id": "d8d42d14-0178-4653-8291-6af089ef7483",
   "metadata": {},
   "outputs": [
    {
     "data": {
      "image/png": "[encoded data removed]",
      "text/latex": [
       "$\\displaystyle \\left\\{\\left( k, \\  2 k, \\  k, \\  k\\right)\\right\\}$"
      ],
      "text/plain": [
       "{(k, 2⋅k, k, k)}"
      ]
     },
     "execution_count": 37,
     "metadata": {},
     "output_type": "execute_result"
    }
   ],
   "source": [
    "C23 = sym.Eq(2*x-y,0)  # N\n",
    "C23a = sym.Eq(8*x-3*y-2*z,0)  # H\n",
    "C23b = sym.Eq(x-k,0)  # C\n",
    "C23c = sym.Eq(3*x-z-2*k,0) # O\n",
    "sym.linsolve([C23,C23a,C23b,C23c],x,y,z,k)"
   ]
  },
  {
   "cell_type": "markdown",
   "id": "bbd6254a-8b8b-447a-bb92-3c9b1ca553e2",
   "metadata": {},
   "source": [
    "Resposta: c) $(NH_4)_2CO_3 \\to 2NH_3+H_2O+CO_2$"
   ]
  },
  {
   "cell_type": "markdown",
   "id": "539e306c-5edf-4e65-98ec-85e13ff61048",
   "metadata": {},
   "source": [
    "# 24\n",
    "\n",
    "Dado o sistema linear\n",
    "\n",
    "$$\\begin{cases}\n",
    "3x&+5y&+12z&-w&=-3\\\\\n",
    "x&+y&+4z&-w&=-6\\\\\n",
    "&+2y&+2z&+w&=5\n",
    "\\end{cases}$$\n",
    "\n",
    "\n",
    "a) Discuta a solução do sistema\n",
    "\n",
    "b) acrescente a equação 2z+kw=9 a este sistema, encontre um valor de k que tome o so"
   ]
  },
  {
   "cell_type": "code",
   "execution_count": null,
   "id": "42353ea2-7859-41c9-8410-eb818eea828c",
   "metadata": {},
   "outputs": [],
   "source": []
  }
 ],
 "metadata": {
  "kernelspec": {
   "display_name": "Python 3 (ipykernel)",
   "language": "python",
   "name": "python3"
  },
  "language_info": {
   "codemirror_mode": {
    "name": "ipython",
    "version": 3
   },
   "file_extension": ".py",
   "mimetype": "text/x-python",
   "name": "python",
   "nbconvert_exporter": "python",
   "pygments_lexer": "ipython3",
   "version": "3.11.7"
  }
 },
 "nbformat": 4,
 "nbformat_minor": 5
}
