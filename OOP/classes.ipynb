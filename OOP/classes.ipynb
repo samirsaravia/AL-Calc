{
 "cells": [
  {
   "cell_type": "markdown",
   "id": "a196abfb-54ce-4c72-bbf5-d479a0d982d7",
   "metadata": {},
   "source": [
    "## Classes, Objects and Instantiation\n",
    "\n",
    "**Class**\n",
    "\n",
    "Code that defines what an object will remember (its data or state) and the things that it will be able to do (its functions or behavior)"
   ]
  },
  {
   "cell_type": "code",
   "execution_count": 5,
   "id": "d29c16c6-9bd5-49fd-b983-d7885bbe3cdc",
   "metadata": {},
   "outputs": [],
   "source": [
    "# Como é uma classe\n",
    "\n",
    "class LightSwitch():\n",
    "    def __init__(self):\n",
    "        self.switchIsOn = False\n",
    "        \n",
    "    def turnOn(self):\n",
    "        # ligar\n",
    "        self.switchIsOn = True\n",
    "\n",
    "    def turnOff(self):\n",
    "        # desligar\n",
    "        self.switchIsOn = False\n",
    "\n",
    "    def show(self):\n",
    "        print(self.switchIsOn)"
   ]
  },
  {
   "cell_type": "markdown",
   "id": "e8077e38-4b04-4fb3-a729-656952568907",
   "metadata": {},
   "source": [
    "**Instantiation**\n",
    "\n",
    "the process of creating an object from a class"
   ]
  },
  {
   "cell_type": "code",
   "execution_count": 6,
   "id": "e9189b84-8079-4831-91a3-4721a76cbbd9",
   "metadata": {},
   "outputs": [],
   "source": [
    "oLightSwitch = LightSwitch()"
   ]
  },
  {
   "cell_type": "code",
   "execution_count": 7,
   "id": "b8ee3123-c8f9-4963-8842-25feae8063af",
   "metadata": {},
   "outputs": [
    {
     "name": "stdout",
     "output_type": "stream",
     "text": [
      "False\n"
     ]
    }
   ],
   "source": [
    "oLightSwitch.show()"
   ]
  },
  {
   "cell_type": "code",
   "execution_count": 8,
   "id": "b6e781a7-5bd2-4495-9622-26947af12ab7",
   "metadata": {},
   "outputs": [
    {
     "name": "stdout",
     "output_type": "stream",
     "text": [
      "True\n"
     ]
    }
   ],
   "source": [
    "oLightSwitch.turnOn()\n",
    "oLightSwitch.show()"
   ]
  },
  {
   "cell_type": "markdown",
   "id": "ad2c02ca-55cf-4ef8-b23c-d96963a9a186",
   "metadata": {},
   "source": [
    "## DimmerSwitch"
   ]
  },
  {
   "cell_type": "code",
   "execution_count": 9,
   "id": "52c1993a-6e7d-4afe-8ead-bf110bb0bb12",
   "metadata": {},
   "outputs": [],
   "source": [
    "class DimmerSwitch():\n",
    "    def __init__(self):\n",
    "        self.switchIsOn = False\n",
    "        self.brightness = False\n",
    "\n",
    "    def turnOn(self):\n",
    "        self.switchIsOn = True\n",
    "\n",
    "    def turnOff(self):\n",
    "        self.switchIsOn = False\n",
    "\n",
    "    def raiseLevel(self):\n",
    "        if self.brightness < 10:\n",
    "            self.brightness = self.brightness + 1\n",
    "    def lowerLevel(self):\n",
    "        if self.brightness > 0:\n",
    "            self.brightness = self.brightness - 1\n",
    "\n",
    "    def show(self):\n",
    "        print(\"Switch is on? : \", self.switchIsOn)\n",
    "        print(\"Brightness is: \", self.brightness)"
   ]
  },
  {
   "cell_type": "code",
   "execution_count": 10,
   "id": "b40599f8-aa0c-40c5-a207-50d49d1291a4",
   "metadata": {},
   "outputs": [],
   "source": [
    "oDimmerSwitch = DimmerSwitch()"
   ]
  },
  {
   "cell_type": "code",
   "execution_count": 22,
   "id": "22d03c14-518b-4ce3-970f-46f7fe05ba25",
   "metadata": {},
   "outputs": [
    {
     "name": "stdout",
     "output_type": "stream",
     "text": [
      "Switch is on? :  False\n",
      "Brightness is:  10\n"
     ]
    }
   ],
   "source": [
    "oDimmerSwitch.raiseLevel()\n",
    "oDimmerSwitch.show()"
   ]
  },
  {
   "cell_type": "code",
   "execution_count": 23,
   "id": "2c3685cb-0b4e-4262-aff8-8bade38d0b3b",
   "metadata": {},
   "outputs": [
    {
     "name": "stdout",
     "output_type": "stream",
     "text": [
      "Switch is on? :  False\n",
      "Brightness is:  9\n"
     ]
    }
   ],
   "source": [
    "oDimmerSwitch.lowerLevel()\n",
    "oDimmerSwitch.show()"
   ]
  },
  {
   "cell_type": "code",
   "execution_count": 24,
   "id": "8d8e1522-6d50-436c-b415-53af169c9c9b",
   "metadata": {},
   "outputs": [
    {
     "name": "stdout",
     "output_type": "stream",
     "text": [
      "Switch is on? :  True\n",
      "Brightness is:  9\n"
     ]
    }
   ],
   "source": [
    "oDimmerSwitch.turnOn()\n",
    "oDimmerSwitch.show()"
   ]
  },
  {
   "cell_type": "markdown",
   "id": "fd4c8dd8-5826-4e8c-821c-d79388602fd6",
   "metadata": {},
   "source": [
    "## TV remote\n"
   ]
  },
  {
   "cell_type": "code",
   "execution_count": 60,
   "id": "a1aedc05-8252-4aad-bfe5-76f745ed6e65",
   "metadata": {},
   "outputs": [],
   "source": [
    "#classe tv\n",
    "\n",
    "class TV():\n",
    "    def __init__(self):\n",
    "        self.isOn = False\n",
    "        self.isMuted = False\n",
    "        self.channelList = [2,4,5,6,7,11,20,36,44]\n",
    "        self.nChannels = len(self.channelList)\n",
    "        self.channelIndex = 0\n",
    "        self.Volume_minimum = 0\n",
    "        self.Volume_maximum = 10\n",
    "        self.volume = self.Volume_minimum\n",
    "\n",
    "    def power(self):\n",
    "        self.isOn = not self.isOn  # toggle\n",
    "\n",
    "    def volumeUp(self):\n",
    "        if not self.isOn:\n",
    "            return\n",
    "        if self.isMuted:\n",
    "            self.isMuted = False\n",
    "        if self.volume < self.Volume_maximum:\n",
    "            self.volume = self.volume + 1\n",
    "\n",
    "    def volumeDown(self):\n",
    "        if not self.isOn:\n",
    "            return\n",
    "        if self.isMuted:\n",
    "            self.isMuted = False\n",
    "        if self.volume > self.Volume_minimum:\n",
    "            self.volume = self.volume - 1\n",
    "\n",
    "    def channelUp(self):\n",
    "        if not self.isOn:\n",
    "            return\n",
    "        self.channelIndex = self.channelIndex + 1\n",
    "        if self.channelIndex > self.nChannels:\n",
    "            self.channelIndex = 0\n",
    "\n",
    "    def channelDown(self):\n",
    "        if not self.isOn:\n",
    "            return\n",
    "        self.channelIndex = self.channelIndex - 1\n",
    "        if self.channelIndex < 0:\n",
    "            self.channelIndex = self.nChannels - 1\n",
    "\n",
    "    def mute(self):\n",
    "        if not self.isOn:\n",
    "            return\n",
    "        self.isMuted = not self.isMuted\n",
    "\n",
    "    def setChannel(self, newChannel):\n",
    "        if newChannel in self.channelList:\n",
    "            self.channelIndex = self.channelList.index(newChannel)  \n",
    "            # se o novo canal não estiver na lista de canais, fazer nada\n",
    "\n",
    "    def showInfo(self):\n",
    "        print()\n",
    "        print(\"TV status\")\n",
    "        if self.isOn:\n",
    "            print(\"       Tv is: ON\")\n",
    "            print(\"       Channel is:\", self.channelList[self.channelIndex])\n",
    "            if self.isMuted:\n",
    "                print(\"    Volume is: \", self.volume, \"(sound is muted)\")\n",
    "            else:\n",
    "                print(\"    Volume is:\", self.volume)\n",
    "        else:\n",
    "            print(\"        TV is: OFF\")"
   ]
  },
  {
   "cell_type": "code",
   "execution_count": 65,
   "id": "54069544-af55-4cd1-9db4-016a50190465",
   "metadata": {},
   "outputs": [],
   "source": [
    "oTV = TV()"
   ]
  },
  {
   "cell_type": "code",
   "execution_count": 66,
   "id": "f802905c-480e-4eee-9429-24639149a3da",
   "metadata": {},
   "outputs": [
    {
     "name": "stdout",
     "output_type": "stream",
     "text": [
      "\n",
      "TV status\n",
      "       Tv is: ON\n",
      "       Channel is: 2\n",
      "    Volume is: 0\n"
     ]
    }
   ],
   "source": [
    "oTV.power()\n",
    "oTV.showInfo()"
   ]
  },
  {
   "cell_type": "code",
   "execution_count": 71,
   "id": "fc37630f-bae8-4a22-a6bd-75ffb7d4bcca",
   "metadata": {},
   "outputs": [
    {
     "name": "stdout",
     "output_type": "stream",
     "text": [
      "\n",
      "TV status\n",
      "       Tv is: ON\n",
      "       Channel is: 2\n",
      "    Volume is: 5\n"
     ]
    }
   ],
   "source": [
    "oTV.volumeUp()\n",
    "oTV.showInfo()"
   ]
  },
  {
   "cell_type": "code",
   "execution_count": 72,
   "id": "259f0487-fe30-4067-be39-e3e2d156fab1",
   "metadata": {},
   "outputs": [
    {
     "name": "stdout",
     "output_type": "stream",
     "text": [
      "\n",
      "TV status\n",
      "       Tv is: ON\n",
      "       Channel is: 2\n",
      "    Volume is: 4\n"
     ]
    }
   ],
   "source": [
    "oTV.volumeDown()\n",
    "oTV.showInfo()"
   ]
  },
  {
   "cell_type": "code",
   "execution_count": 76,
   "id": "4b736089-11d7-463f-8a33-16266343c44e",
   "metadata": {},
   "outputs": [
    {
     "name": "stdout",
     "output_type": "stream",
     "text": [
      "\n",
      "TV status\n",
      "       Tv is: ON\n",
      "       Channel is: 11\n",
      "    Volume is: 4\n"
     ]
    }
   ],
   "source": [
    "oTV.channelDown()\n",
    "oTV.showInfo()"
   ]
  },
  {
   "cell_type": "code",
   "execution_count": 77,
   "id": "f30a6a17-77b9-443a-81de-1742fd87cb9f",
   "metadata": {},
   "outputs": [
    {
     "name": "stdout",
     "output_type": "stream",
     "text": [
      "\n",
      "TV status\n",
      "       Tv is: ON\n",
      "       Channel is: 11\n",
      "    Volume is: 4\n"
     ]
    }
   ],
   "source": [
    "oTV.setChannel(16)\n",
    "oTV.showInfo()"
   ]
  },
  {
   "cell_type": "code",
   "execution_count": 79,
   "id": "f3036aeb-eb59-4d09-bbc2-81dee5902b42",
   "metadata": {},
   "outputs": [
    {
     "name": "stdout",
     "output_type": "stream",
     "text": [
      "\n",
      "TV status\n",
      "        TV is: OFF\n"
     ]
    }
   ],
   "source": [
    "oTV.power()\n",
    "oTV.showInfo()"
   ]
  },
  {
   "cell_type": "code",
   "execution_count": 80,
   "id": "3a136714-cd19-4d55-80e4-6d7bd797df78",
   "metadata": {},
   "outputs": [
    {
     "name": "stdout",
     "output_type": "stream",
     "text": [
      "\n",
      "TV status\n",
      "        TV is: OFF\n"
     ]
    }
   ],
   "source": [
    "oTV.showInfo()"
   ]
  },
  {
   "cell_type": "code",
   "execution_count": 81,
   "id": "bdbe7e23-183e-45bf-99c3-3a27b262defe",
   "metadata": {},
   "outputs": [],
   "source": [
    "tvFulano = TV()"
   ]
  },
  {
   "cell_type": "code",
   "execution_count": 82,
   "id": "9a415dd6-a6ab-4103-930c-6b14f66ad163",
   "metadata": {},
   "outputs": [],
   "source": [
    "tvSulgano = TV()"
   ]
  },
  {
   "cell_type": "code",
   "execution_count": 88,
   "id": "ec90374d-fb26-4a77-8849-8bdebe8148f8",
   "metadata": {},
   "outputs": [
    {
     "name": "stdout",
     "output_type": "stream",
     "text": [
      "\n",
      "TV status\n",
      "       Tv is: ON\n",
      "       Channel is: 2\n",
      "    Volume is: 0\n"
     ]
    }
   ],
   "source": [
    "# tv dele ta ligada\n",
    "tvFulano.power()\n",
    "tvFulano.showInfo()"
   ]
  },
  {
   "cell_type": "code",
   "execution_count": 89,
   "id": "633f8efb-90db-4ddb-87cd-f96658cb3375",
   "metadata": {},
   "outputs": [
    {
     "name": "stdout",
     "output_type": "stream",
     "text": [
      "\n",
      "TV status\n",
      "        TV is: OFF\n"
     ]
    }
   ],
   "source": [
    "# tv dele ta desligada\n",
    "tvSulgano.showInfo()"
   ]
  }
 ],
 "metadata": {
  "kernelspec": {
   "display_name": "Python 3 (ipykernel)",
   "language": "python",
   "name": "python3"
  },
  "language_info": {
   "codemirror_mode": {
    "name": "ipython",
    "version": 3
   },
   "file_extension": ".py",
   "mimetype": "text/x-python",
   "name": "python",
   "nbconvert_exporter": "python",
   "pygments_lexer": "ipython3",
   "version": "3.12.2"
  }
 },
 "nbformat": 4,
 "nbformat_minor": 5
}
