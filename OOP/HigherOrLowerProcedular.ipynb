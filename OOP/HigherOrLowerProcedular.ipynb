{
 "cells": [
  {
   "cell_type": "code",
   "execution_count": 1,
   "id": "146416a8-82ca-4251-9c49-32fdf2103927",
   "metadata": {},
   "outputs": [],
   "source": [
    "# higher or lower\n",
    "import random"
   ]
  },
  {
   "cell_type": "code",
   "execution_count": 2,
   "id": "d028e4eb-6c25-4345-9dfc-b1174d7609e6",
   "metadata": {},
   "outputs": [],
   "source": [
    "# card constants\n",
    "SUIT_TUPLE = (\"Spades\",\"Hearts\",\"Clubs\",\"Diamonds\")\n",
    "RANK_TUPLE = (\"Ace\", \"2\", \"3\",\"4\",\"5\",\"6\",\"7\",\"8\",\"9\",\"10\",\"Jack\", \"Queen\", \"King\")"
   ]
  },
  {
   "cell_type": "code",
   "execution_count": 3,
   "id": "c769c1c8-ed1b-4ac1-9303-ce4eb98b8701",
   "metadata": {},
   "outputs": [],
   "source": [
    "NCARDS = 8"
   ]
  },
  {
   "cell_type": "code",
   "execution_count": 4,
   "id": "fa50d2f7-0b2c-4167-ba08-3bd7ce470405",
   "metadata": {},
   "outputs": [],
   "source": [
    "# Passin a deck and this function returns a random card from the deck\n",
    "def getCard(deckList):\n",
    "    thisCard = deckList.pop()\n",
    "    return thisCard"
   ]
  },
  {
   "cell_type": "code",
   "execution_count": 5,
   "id": "0b375162-5029-4bf1-90fa-fef94273b32b",
   "metadata": {},
   "outputs": [],
   "source": [
    "# pass in a deck and this function returns a shuffled copy of the deck\n",
    "def shuffle(deckList):\n",
    "    deckListOut = deckList.copy()\n",
    "    random.shuffle(deckListOut)\n",
    "    return deckListOut"
   ]
  },
  {
   "cell_type": "code",
   "execution_count": 6,
   "id": "8f6bfb19-a400-4a9d-9adf-d16bb01bbc1a",
   "metadata": {},
   "outputs": [
    {
     "name": "stdout",
     "output_type": "stream",
     "text": [
      "Welcome to Higher or Lower\n",
      "You have to choose whether the next card to be shown will be higher or lower than the current card\n",
      "Getting it right adds 20 points, get it wrong and you lose 15 points\n",
      "You ave 50 points to start\n",
      "\n"
     ]
    }
   ],
   "source": [
    "# main code\n",
    "print(\"Welcome to Higher or Lower\")\n",
    "print(\"You have to choose whether the next card to be shown will be higher or lower than the current card\")\n",
    "print(\"Getting it right adds 20 points, get it wrong and you lose 15 points\")\n",
    "print(\"You ave 50 points to start\")\n",
    "print()"
   ]
  },
  {
   "cell_type": "code",
   "execution_count": 7,
   "id": "1b6df658-ce10-4492-b892-991bcbff52fc",
   "metadata": {},
   "outputs": [],
   "source": [
    "startingDeckList = []"
   ]
  },
  {
   "cell_type": "code",
   "execution_count": 8,
   "id": "19015fa1-709c-400e-ba6e-ce9d18250fa7",
   "metadata": {},
   "outputs": [],
   "source": [
    "for suit in SUIT_TUPLE:\n",
    "    for thisValue, rank in enumerate(RANK_TUPLE):\n",
    "        cardDict = {\"rank\": rank, \"suit\": suit, \"value\": thisValue+1}\n",
    "        startingDeckList.append(cardDict)"
   ]
  },
  {
   "cell_type": "code",
   "execution_count": 9,
   "id": "ab78b5a8-30ef-46f8-b84b-b5d981490db4",
   "metadata": {},
   "outputs": [],
   "source": [
    "score = 50"
   ]
  },
  {
   "cell_type": "code",
   "execution_count": 10,
   "id": "9e291398-e17f-4a4f-a00f-adcf48eead35",
   "metadata": {},
   "outputs": [
    {
     "name": "stdout",
     "output_type": "stream",
     "text": [
      "\n",
      "starting card is: Jack of Spades\n",
      "\n"
     ]
    },
    {
     "name": "stdin",
     "output_type": "stream",
     "text": [
      "Will the next card be higher or lower tha the Jack of Spades? (enter h or l): l\n"
     ]
    },
    {
     "name": "stdout",
     "output_type": "stream",
     "text": [
      "next card is: 6 of Diamonds\n",
      "You got it right\n",
      "Your score is : 70\n",
      "\n"
     ]
    },
    {
     "name": "stdin",
     "output_type": "stream",
     "text": [
      "Will the next card be higher or lower tha the 6 of Spades? (enter h or l): h\n"
     ]
    },
    {
     "name": "stdout",
     "output_type": "stream",
     "text": [
      "next card is: 3 of Hearts\n",
      "Sorry, it was not higher\n",
      "Your score is : 55\n",
      "\n"
     ]
    },
    {
     "name": "stdin",
     "output_type": "stream",
     "text": [
      "Will the next card be higher or lower tha the 3 of Spades? (enter h or l): h\n"
     ]
    },
    {
     "name": "stdout",
     "output_type": "stream",
     "text": [
      "next card is: Queen of Spades\n",
      "You got it right, it was higher \n",
      "Your score is : 75\n",
      "\n"
     ]
    },
    {
     "name": "stdin",
     "output_type": "stream",
     "text": [
      "Will the next card be higher or lower tha the Queen of Spades? (enter h or l): l\n"
     ]
    },
    {
     "name": "stdout",
     "output_type": "stream",
     "text": [
      "next card is: 2 of Spades\n",
      "You got it right\n",
      "Your score is : 95\n",
      "\n"
     ]
    },
    {
     "name": "stdin",
     "output_type": "stream",
     "text": [
      "Will the next card be higher or lower tha the 2 of Spades? (enter h or l): h\n"
     ]
    },
    {
     "name": "stdout",
     "output_type": "stream",
     "text": [
      "next card is: Jack of Diamonds\n",
      "You got it right, it was higher \n",
      "Your score is : 115\n",
      "\n"
     ]
    },
    {
     "name": "stdin",
     "output_type": "stream",
     "text": [
      "Will the next card be higher or lower tha the Jack of Spades? (enter h or l): l\n"
     ]
    },
    {
     "name": "stdout",
     "output_type": "stream",
     "text": [
      "next card is: 2 of Hearts\n",
      "You got it right\n",
      "Your score is : 135\n",
      "\n"
     ]
    },
    {
     "name": "stdin",
     "output_type": "stream",
     "text": [
      "Will the next card be higher or lower tha the 2 of Spades? (enter h or l): h\n"
     ]
    },
    {
     "name": "stdout",
     "output_type": "stream",
     "text": [
      "next card is: 3 of Clubs\n",
      "You got it right, it was higher \n",
      "Your score is : 155\n",
      "\n"
     ]
    },
    {
     "name": "stdin",
     "output_type": "stream",
     "text": [
      "Will the next card be higher or lower tha the 3 of Spades? (enter h or l): h\n"
     ]
    },
    {
     "name": "stdout",
     "output_type": "stream",
     "text": [
      "next card is: 8 of Hearts\n",
      "You got it right, it was higher \n",
      "Your score is : 175\n",
      "\n"
     ]
    },
    {
     "name": "stdin",
     "output_type": "stream",
     "text": [
      "To play again, press ENTER, or 'q' to quit: q\n"
     ]
    }
   ],
   "source": [
    "while True:\n",
    "    print()\n",
    "    gameDeckList = shuffle(startingDeckList)\n",
    "    currentCardDict = getCard(gameDeckList)\n",
    "    currentCardRank = currentCardDict[\"rank\"]\n",
    "    currentCardValue = currentCardDict[\"value\"]\n",
    "    currentCardSuit = currentCardDict[\"suit\"]\n",
    "    print(f\"starting card is: {currentCardRank} of {currentCardSuit}\")\n",
    "    print()\n",
    "    for cardNumber in range(0, NCARDS):\n",
    "        answer = input(f\"Will the next card be higher or lower tha the {currentCardRank} of {currentCardSuit}? (enter h or l):\")\n",
    "        answer =  answer.casefold() # force lowercase\n",
    "        nextCardDict = getCard(gameDeckList)\n",
    "        nextCardRank = nextCardDict[\"rank\"]\n",
    "        nextCardSuit = nextCardDict[\"suit\"]\n",
    "        nextCardValue = nextCardDict[\"value\"]\n",
    "        print(f\"next card is: {nextCardRank} of {nextCardSuit}\")\n",
    "\n",
    "\n",
    "        if answer == \"h\":\n",
    "            if nextCardValue > currentCardValue:\n",
    "                print(\"You got it right, it was higher \")\n",
    "                score += 20\n",
    "            else:\n",
    "                print(\"Sorry, it was not higher\")\n",
    "                score -= 15\n",
    "        elif answer == \"l\":\n",
    "            if nextCardValue < currentCardValue:\n",
    "                print(\"You got it right\")\n",
    "                score += 20\n",
    "            else:\n",
    "                print(\"Sorry, it was not lower\")\n",
    "                score -= 15\n",
    "        print(f\"Your score is : {score}\")\n",
    "        print()\n",
    "        currentCardRank = nextCardRank\n",
    "        currentCardValue = nextCardValue\n",
    "    goAgain = input(\"To play again, press ENTER, or 'q' to quit:\").lower()\n",
    "    if goAgain == 'q':\n",
    "        break\n",
    "    print(\"Ok bye\")"
   ]
  },
  {
   "cell_type": "code",
   "execution_count": null,
   "id": "54f29868-07e4-470f-9cf4-87e3ee632805",
   "metadata": {},
   "outputs": [],
   "source": []
  }
 ],
 "metadata": {
  "kernelspec": {
   "display_name": "Python 3 (ipykernel)",
   "language": "python",
   "name": "python3"
  },
  "language_info": {
   "codemirror_mode": {
    "name": "ipython",
    "version": 3
   },
   "file_extension": ".py",
   "mimetype": "text/x-python",
   "name": "python",
   "nbconvert_exporter": "python",
   "pygments_lexer": "ipython3",
   "version": "3.12.2"
  }
 },
 "nbformat": 4,
 "nbformat_minor": 5
}
