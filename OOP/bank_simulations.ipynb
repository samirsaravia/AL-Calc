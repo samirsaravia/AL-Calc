{
 "cells": [
  {
   "cell_type": "markdown",
   "id": "ef5e2abf-1cc3-46cd-a5c9-93c2f31cb81a",
   "metadata": {},
   "source": [
    "## Bank simulation with one account"
   ]
  },
  {
   "cell_type": "code",
   "execution_count": 1,
   "id": "0bcfe60f-485f-422f-8251-4e6a47bb84f0",
   "metadata": {},
   "outputs": [],
   "source": [
    "accountName = \"Fulano\"\n",
    "accountBalance = 100\n",
    "accountPassword = \"sopa\""
   ]
  },
  {
   "cell_type": "code",
   "execution_count": 4,
   "id": "6ce11847-cc1e-4397-a006-14a7883ce030",
   "metadata": {},
   "outputs": [
    {
     "name": "stdout",
     "output_type": "stream",
     "text": [
      "\n",
      "Press b to get the balance\n",
      "Press d to make a deposit\n",
      "Press w to make a withdrawal\n",
      "Press s to show the account\n",
      "Press q to quit\n",
      "\n"
     ]
    },
    {
     "name": "stdin",
     "output_type": "stream",
     "text": [
      "what do you want to do?  w\n"
     ]
    },
    {
     "name": "stdout",
     "output_type": "stream",
     "text": [
      "\n",
      "Withdraw:\n"
     ]
    },
    {
     "name": "stdin",
     "output_type": "stream",
     "text": [
      "Please enter the amount to withdraw:  102\n",
      "Please enter the password:  sopa\n"
     ]
    },
    {
     "name": "stdout",
     "output_type": "stream",
     "text": [
      "You cannot withdraw more than you have in your account\n",
      "Done\n",
      "\n",
      "Press b to get the balance\n",
      "Press d to make a deposit\n",
      "Press w to make a withdrawal\n",
      "Press s to show the account\n",
      "Press q to quit\n",
      "\n"
     ]
    },
    {
     "name": "stdin",
     "output_type": "stream",
     "text": [
      "what do you want to do?  w\n"
     ]
    },
    {
     "name": "stdout",
     "output_type": "stream",
     "text": [
      "\n",
      "Withdraw:\n"
     ]
    },
    {
     "name": "stdin",
     "output_type": "stream",
     "text": [
      "Please enter the amount to withdraw:  90\n",
      "Please enter the password:  soup\n"
     ]
    },
    {
     "name": "stdout",
     "output_type": "stream",
     "text": [
      "Incorrect password\n",
      "Done\n",
      "\n",
      "Press b to get the balance\n",
      "Press d to make a deposit\n",
      "Press w to make a withdrawal\n",
      "Press s to show the account\n",
      "Press q to quit\n",
      "\n"
     ]
    },
    {
     "name": "stdin",
     "output_type": "stream",
     "text": [
      "what do you want to do?  w\n"
     ]
    },
    {
     "name": "stdout",
     "output_type": "stream",
     "text": [
      "\n",
      "Withdraw:\n"
     ]
    },
    {
     "name": "stdin",
     "output_type": "stream",
     "text": [
      "Please enter the amount to withdraw:  90\n",
      "Please enter the password:  sopa\n"
     ]
    },
    {
     "name": "stdout",
     "output_type": "stream",
     "text": [
      "Your new balance is:  10\n",
      "Done\n",
      "\n",
      "Press b to get the balance\n",
      "Press d to make a deposit\n",
      "Press w to make a withdrawal\n",
      "Press s to show the account\n",
      "Press q to quit\n",
      "\n"
     ]
    },
    {
     "name": "stdin",
     "output_type": "stream",
     "text": [
      "what do you want to do?  d\n"
     ]
    },
    {
     "name": "stdout",
     "output_type": "stream",
     "text": [
      "\n",
      "Deposit: \n"
     ]
    },
    {
     "name": "stdin",
     "output_type": "stream",
     "text": [
      "Please enter an amount to deposit:  510\n",
      "Please enter the password: sopa\n"
     ]
    },
    {
     "name": "stdout",
     "output_type": "stream",
     "text": [
      "Your new balance is: 520\n",
      "Done\n",
      "\n",
      "Press b to get the balance\n",
      "Press d to make a deposit\n",
      "Press w to make a withdrawal\n",
      "Press s to show the account\n",
      "Press q to quit\n",
      "\n"
     ]
    },
    {
     "name": "stdin",
     "output_type": "stream",
     "text": [
      "what do you want to do?  s\n"
     ]
    },
    {
     "name": "stdout",
     "output_type": "stream",
     "text": [
      "\n",
      "Show:\n",
      "     Name:  Fulano\n",
      "     Balance:  520\n",
      "     Password:  sopa\n",
      "Done\n",
      "\n",
      "Press b to get the balance\n",
      "Press d to make a deposit\n",
      "Press w to make a withdrawal\n",
      "Press s to show the account\n",
      "Press q to quit\n",
      "\n"
     ]
    },
    {
     "name": "stdin",
     "output_type": "stream",
     "text": [
      "what do you want to do?  b\n"
     ]
    },
    {
     "name": "stdout",
     "output_type": "stream",
     "text": [
      "\n",
      "Get balance: \n"
     ]
    },
    {
     "name": "stdin",
     "output_type": "stream",
     "text": [
      "Please entre the password:  sopa\n"
     ]
    },
    {
     "name": "stdout",
     "output_type": "stream",
     "text": [
      "Your balance is: 520\n",
      "Done\n",
      "\n",
      "Press b to get the balance\n",
      "Press d to make a deposit\n",
      "Press w to make a withdrawal\n",
      "Press s to show the account\n",
      "Press q to quit\n",
      "\n"
     ]
    },
    {
     "name": "stdin",
     "output_type": "stream",
     "text": [
      "what do you want to do?  q\n"
     ]
    },
    {
     "name": "stdout",
     "output_type": "stream",
     "text": [
      "\n"
     ]
    }
   ],
   "source": [
    "while True:\n",
    "    print()\n",
    "    print(\"Press b to get the balance\")\n",
    "    print(\"Press d to make a deposit\")\n",
    "    print(\"Press w to make a withdrawal\")\n",
    "    print(\"Press s to show the account\")\n",
    "    print(\"Press q to quit\")\n",
    "    print()\n",
    "\n",
    "    action = input(\"what do you want to do? \")\n",
    "    action = action.lower()\n",
    "    action = action[0]\n",
    "    print()\n",
    "\n",
    "    if action == \"b\":\n",
    "        print(\"Get balance: \")\n",
    "        userPassword = input(\"Please entre the password: \")\n",
    "        if userPassword != accountPassword:\n",
    "            print(\"Incorrect password\")\n",
    "        else:\n",
    "            print(f\"Your balance is: {accountBalance}\")\n",
    "    elif action == \"d\":\n",
    "        print(\"Deposit: \")\n",
    "        userDepositAmount = input(\"Please enter an amount to deposit: \")\n",
    "        userDepositAmount = int(userDepositAmount)\n",
    "        userPassword = input(\"Please enter the password:\")\n",
    "        if userDepositAmount < 0:\n",
    "            print(\"You cannot deposit a negative amount\")\n",
    "        elif userPassword != accountPassword:\n",
    "            print(\"Incorrect password\")\n",
    "        else:\n",
    "            accountBalance = accountBalance + userDepositAmount\n",
    "            print(f\"Your new balance is: {accountBalance}\")\n",
    "    elif action == \"s\":\n",
    "        print(\"Show:\")\n",
    "        print(\"     Name: \", accountName)\n",
    "        print(\"     Balance: \",accountBalance)\n",
    "        print(\"     Password: \",accountPassword)\n",
    "    elif action == \"q\":\n",
    "        break\n",
    "    elif action == \"w\":\n",
    "        print(\"Withdraw:\")\n",
    "        userWithdrawAmount = input(\"Please enter the amount to withdraw: \")\n",
    "        userWithdrawAmount = int(userWithdrawAmount)\n",
    "        userPassword = input(\"Please enter the password: \")\n",
    "        if userWithdrawAmount < 0:\n",
    "            print(\"You cannot withdraw a negative amount\")\n",
    "        elif userPassword != accountPassword:\n",
    "            print(\"Incorrect password\")\n",
    "        elif userWithdrawAmount > accountBalance:\n",
    "            print(\"You cannot withdraw more than you have in your account\")\n",
    "        else:\n",
    "            accountBalance = accountBalance - userWithdrawAmount\n",
    "            print(\"Your new balance is: \", accountBalance)\n",
    "print(\"Done\")"
   ]
  },
  {
   "cell_type": "markdown",
   "id": "58379027-d13c-4bbe-8c39-37e10c2c435f",
   "metadata": {},
   "source": [
    "## Bank Single Account with Functions"
   ]
  },
  {
   "cell_type": "code",
   "execution_count": 5,
   "id": "aa3f0439-5ff1-45f1-97ac-9c4a2c3db200",
   "metadata": {},
   "outputs": [],
   "source": [
    "accountName = \"\"\n",
    "accountBalance = 0\n",
    "accountPassword = \"\""
   ]
  },
  {
   "cell_type": "code",
   "execution_count": 18,
   "id": "80064f50-1bcc-4618-9fbf-9625911acad2",
   "metadata": {},
   "outputs": [],
   "source": [
    "def newAccount(name, balance, password):\n",
    "    global accountName, accountBalance, accountPassword\n",
    "    accountName = name\n",
    "    accountBalance = balance\n",
    "    accountPassword = password"
   ]
  },
  {
   "cell_type": "code",
   "execution_count": 7,
   "id": "015db2c6-a959-4841-95d9-24f8df7065e4",
   "metadata": {},
   "outputs": [],
   "source": [
    "def show():\n",
    "    global accountName,accountBalance,accountPassword\n",
    "    print(\"        Name:\",accountName)\n",
    "    print(\"        Balance:\", accountBalance)\n",
    "    print(\"        Password:\", accountPassword)\n",
    "    print()"
   ]
  },
  {
   "cell_type": "code",
   "execution_count": 8,
   "id": "8fd9ffd1-8f73-4d57-bd77-01abba0ec516",
   "metadata": {},
   "outputs": [],
   "source": [
    "def getBalance(password):\n",
    "    global accountBalance, accountName, accountPassword\n",
    "    if password != accountPassword:\n",
    "        print(\"Incorrect password\")\n",
    "        return None\n",
    "    return accountBalance"
   ]
  },
  {
   "cell_type": "code",
   "execution_count": 9,
   "id": "4ec8f0b7-999c-4084-b3a3-a939344335e4",
   "metadata": {},
   "outputs": [],
   "source": [
    "def deposit(amountDeposit, password):\n",
    "    global accountBalance,accountName, accountPassword\n",
    "    if amountDeposit < 0:\n",
    "        print(\"You cannot depiost a negative amount\")\n",
    "        return None\n",
    "    if password != accountPassword:\n",
    "        return None\n",
    "    accountBalance = accountBalance + amountDeposit\n",
    "    return accountBalance"
   ]
  },
  {
   "cell_type": "code",
   "execution_count": 10,
   "id": "3e9b0c82-9e57-447b-bee8-55602989f596",
   "metadata": {},
   "outputs": [],
   "source": [
    "def witdraw(amountWithdraw, password):\n",
    "    global accountBalance, accountName, accountPassword\n",
    "    if amountWithdraw < 0:\n",
    "        print(\"You cannot withdraw a negative amount\")\n",
    "        return None\n",
    "    if password != accountPassword:\n",
    "        print(\"Incorrect password\")\n",
    "        return None\n",
    "    if amountWithdraw > accountBalance:\n",
    "        print(\"You cannot withdraw more than you have in your account\")\n",
    "        return None\n",
    "    accountBalance = accountBalance - amountWithdraw\n",
    "    return accountBalance"
   ]
  },
  {
   "cell_type": "code",
   "execution_count": 19,
   "id": "f9bd2a01-81a2-4511-ac5d-04054b35ca0e",
   "metadata": {},
   "outputs": [],
   "source": [
    "#create an account\n",
    "newAccount(\"Joe\", 100, \"sopa\")"
   ]
  },
  {
   "cell_type": "code",
   "execution_count": 21,
   "id": "c7f8e227-3d95-480d-972e-eb65a407b7ca",
   "metadata": {},
   "outputs": [
    {
     "name": "stdout",
     "output_type": "stream",
     "text": [
      "\n",
      "Press b to get the balance\n",
      "Press d to make a deposit\n",
      "Press w to make a withdraw\n",
      "Press s to show the account\n",
      "Press q to quit\n",
      "\n"
     ]
    },
    {
     "name": "stdin",
     "output_type": "stream",
     "text": [
      "What do you want to do: w\n"
     ]
    },
    {
     "name": "stdout",
     "output_type": "stream",
     "text": [
      "\n",
      "Withdraw\n"
     ]
    },
    {
     "name": "stdin",
     "output_type": "stream",
     "text": [
      "please entre amount to withdraw: 102\n",
      "Please enter password: sopa\n"
     ]
    },
    {
     "name": "stdout",
     "output_type": "stream",
     "text": [
      "You cannot withdraw more than you have in your account\n",
      "Done\n",
      "\n",
      "Press b to get the balance\n",
      "Press d to make a deposit\n",
      "Press w to make a withdraw\n",
      "Press s to show the account\n",
      "Press q to quit\n",
      "\n"
     ]
    },
    {
     "name": "stdin",
     "output_type": "stream",
     "text": [
      "What do you want to do: w\n"
     ]
    },
    {
     "name": "stdout",
     "output_type": "stream",
     "text": [
      "\n",
      "Withdraw\n"
     ]
    },
    {
     "name": "stdin",
     "output_type": "stream",
     "text": [
      "please entre amount to withdraw: 95\n",
      "Please enter password: sopa\n"
     ]
    },
    {
     "name": "stdout",
     "output_type": "stream",
     "text": [
      "Your new balance is: 5\n",
      "Done\n",
      "\n",
      "Press b to get the balance\n",
      "Press d to make a deposit\n",
      "Press w to make a withdraw\n",
      "Press s to show the account\n",
      "Press q to quit\n",
      "\n"
     ]
    },
    {
     "name": "stdin",
     "output_type": "stream",
     "text": [
      "What do you want to do: q\n"
     ]
    },
    {
     "name": "stdout",
     "output_type": "stream",
     "text": [
      "\n"
     ]
    }
   ],
   "source": [
    "while True:\n",
    "    print()\n",
    "    print(\"Press b to get the balance\")\n",
    "    print(\"Press d to make a deposit\")\n",
    "    print(\"Press w to make a withdraw\")\n",
    "    print(\"Press s to show the account\")\n",
    "    print(\"Press q to quit\")\n",
    "    print()\n",
    "\n",
    "    action = input(\"What do you want to do:\")\n",
    "    action = action.lower()\n",
    "    action = action[0]   # to take on just first letter\n",
    "    print()\n",
    "\n",
    "    if action == \"b\":\n",
    "        print(\"Get balance\")\n",
    "        userPass = input(\"Please enter the password: \")\n",
    "        theBalance = getBalance(userPass)\n",
    "        if theBalance is not None:\n",
    "            print(\"Your balance is: \", theBalance)\n",
    "    elif action == \"d\":\n",
    "        print(\"Deposit\")\n",
    "        userDepositAmount = input(\"Please enter amount to deposit: \")\n",
    "        userDepositAmount = int(userDepositAmount)\n",
    "        userPassword = input(\"Please enter the password: \")\n",
    "        newBalance = deposit(userDepositAmount, userPassword)\n",
    "        if newBalance is not None:\n",
    "            print(\"your new balance is: \", newBalance)\n",
    "    elif action == \"w\":\n",
    "        print(\"Withdraw\")\n",
    "        userWithdrawAmount = input(\"please entre amount to withdraw:\")\n",
    "        userWithdrawAmount = int(userWithdrawAmount)\n",
    "        userPassword = input(\"Please enter password:\")\n",
    "        newBalance = witdraw(userWithdrawAmount, userPassword)\n",
    "        if newBalance is not None:\n",
    "            print(\"Your new balance is:\", newBalance)\n",
    "    elif action == \"q\":\n",
    "        break\n",
    "    elif action == \"s\":\n",
    "        show()\n",
    "    print(\"Done\")"
   ]
  },
  {
   "cell_type": "markdown",
   "id": "1b1deddd-584b-4c3c-bc3e-195251310dd9",
   "metadata": {},
   "source": [
    "## Bank Multiple-Account using lists"
   ]
  },
  {
   "cell_type": "code",
   "execution_count": 23,
   "id": "54a1d9d1-1efa-46f9-bd39-4761bdce6ea7",
   "metadata": {},
   "outputs": [],
   "source": [
    "accountNameList = []\n",
    "accountBalanceList = []\n",
    "accountPasswordList = []"
   ]
  },
  {
   "cell_type": "code",
   "execution_count": 24,
   "id": "2deac094-d81f-47f8-bc6a-a841bd29d770",
   "metadata": {},
   "outputs": [],
   "source": [
    "def nwAccount(name, balance, password):\n",
    "    global accountNameList,accountBalanceList, accountPasswordList\n",
    "    accountNameList.append(name)\n",
    "    accountBalanceList.append(balance)\n",
    "    accountPasswordList.append(password)"
   ]
  },
  {
   "cell_type": "code",
   "execution_count": 25,
   "id": "7661881e-ddc0-42e5-a358-b7ccbb505a23",
   "metadata": {},
   "outputs": [],
   "source": [
    "def show(accountNumber):\n",
    "    global accountNameList, accountBalanceList, accountPasswordList\n",
    "    print(\"Account\", accountNumber)\n",
    "    print(\"         Name\", accountNameList[accountNumber])\n",
    "    print(\"         Balance\", accountBalanceList[accountNumber])\n",
    "    print(\"         Password\", accountPasswordList[accountNumber])\n",
    "    print()"
   ]
  },
  {
   "cell_type": "code",
   "execution_count": 26,
   "id": "df495e6b-0fb6-461f-b642-685884954d8b",
   "metadata": {},
   "outputs": [],
   "source": [
    "def getBalance(accountNumber, password):\n",
    "    global accountBalanceList, accountNameList, accountPasswordList\n",
    "    if password != accountPasswordList[accountNumber]:\n",
    "        print(\"Incorrect password\")\n",
    "        return None\n",
    "    return accountBalanceList[accountNumber]"
   ]
  },
  {
   "cell_type": "code",
   "execution_count": 27,
   "id": "20a4fe89-28f0-4a58-bbaf-c423f287cd34",
   "metadata": {},
   "outputs": [],
   "source": [
    "def withdraw(accountNumber, amountWithdraw, password):\n",
    "    global accountBalanceList, accountNameList, accountPasswordList\n",
    "    if amountWithdraw > accountBalanceList[accountNumber]:\n",
    "        print(\"You cannot withdraw more than you have in your account\")\n",
    "        return None\n",
    "    if password != accountPasswordList[accountNumber]:\n",
    "        print(\"Your password is incorrect\")\n",
    "        return None\n",
    "    accountBalanceList[accountNumber] = accountBalanceList[accountNumber] - amountWithdraw\n",
    "    return accountBalanceList[accountNumber]"
   ]
  },
  {
   "cell_type": "code",
   "execution_count": 28,
   "id": "73bddeee-71ce-4d70-abc4-125f1763caae",
   "metadata": {},
   "outputs": [],
   "source": [
    "def deposit(accountNumber, amountDeposit, password):\n",
    "    global accountBalanceList, accountNameList, accountPasswordList\n",
    "    if amountDeposit < 0:\n",
    "        print(\"You cannot deposit negative values\")\n",
    "        return None\n",
    "    if password != accountPasswordList[accountNumber]:\n",
    "        print(\"Your password is incorrect\")\n",
    "        return None\n",
    "    accountBalanceList[accountNumber] = accountBalanceList[accountNumber] + amountDeposit\n",
    "    return accountBalanceList[accountNumber]"
   ]
  },
  {
   "cell_type": "code",
   "execution_count": 30,
   "id": "5727fe7a-37c9-4c2a-9374-6dd396bed61c",
   "metadata": {},
   "outputs": [
    {
     "name": "stdout",
     "output_type": "stream",
     "text": [
      "O número de conta do José é: 1\n"
     ]
    }
   ],
   "source": [
    "print(\"O número de conta do José é:\", len(accountNameList))\n",
    "nwAccount(\"José\", 100, \"sopa\")"
   ]
  },
  {
   "cell_type": "code",
   "execution_count": 31,
   "id": "49f114e1-856f-458b-b54d-829fd541b0a5",
   "metadata": {},
   "outputs": [
    {
     "name": "stdout",
     "output_type": "stream",
     "text": [
      "O número de conta da Maria é: 2\n"
     ]
    }
   ],
   "source": [
    "print(\"O número de conta da Maria é:\", len(accountNameList))\n",
    "nwAccount(\"Maria\", 102121, \"nuts\")"
   ]
  },
  {
   "cell_type": "code",
   "execution_count": 34,
   "id": "f97a3aec-b7d4-45b1-a017-a4882d567513",
   "metadata": {},
   "outputs": [
    {
     "name": "stdout",
     "output_type": "stream",
     "text": [
      "\n",
      "Press b to get the balance\n",
      "Press d to make a deposit\n",
      "Press w to make a withdraw\n",
      "Press s to show the account\n",
      "Press q to quit\n",
      "\n"
     ]
    },
    {
     "name": "stdin",
     "output_type": "stream",
     "text": [
      "What do you to do?: s\n"
     ]
    },
    {
     "name": "stdout",
     "output_type": "stream",
     "text": [
      "\n",
      "Show Details\n"
     ]
    },
    {
     "name": "stdin",
     "output_type": "stream",
     "text": [
      "Please enter your account number: 0\n"
     ]
    },
    {
     "name": "stdout",
     "output_type": "stream",
     "text": [
      "Account 0\n",
      "         Name Joe\n",
      "         Balance 100\n",
      "         Password sopa\n",
      "\n",
      "\n",
      "Press b to get the balance\n",
      "Press d to make a deposit\n",
      "Press w to make a withdraw\n",
      "Press s to show the account\n",
      "Press q to quit\n",
      "\n"
     ]
    },
    {
     "name": "stdin",
     "output_type": "stream",
     "text": [
      "What do you to do?: s\n"
     ]
    },
    {
     "name": "stdout",
     "output_type": "stream",
     "text": [
      "\n",
      "Show Details\n"
     ]
    },
    {
     "name": "stdin",
     "output_type": "stream",
     "text": [
      "Please enter your account number: 1\n"
     ]
    },
    {
     "name": "stdout",
     "output_type": "stream",
     "text": [
      "Account 1\n",
      "         Name José\n",
      "         Balance 110\n",
      "         Password sopa\n",
      "\n",
      "\n",
      "Press b to get the balance\n",
      "Press d to make a deposit\n",
      "Press w to make a withdraw\n",
      "Press s to show the account\n",
      "Press q to quit\n",
      "\n"
     ]
    },
    {
     "name": "stdin",
     "output_type": "stream",
     "text": [
      "What do you to do?: s\n"
     ]
    },
    {
     "name": "stdout",
     "output_type": "stream",
     "text": [
      "\n",
      "Show Details\n"
     ]
    },
    {
     "name": "stdin",
     "output_type": "stream",
     "text": [
      "Please enter your account number: 2\n"
     ]
    },
    {
     "name": "stdout",
     "output_type": "stream",
     "text": [
      "Account 2\n",
      "         Name Maria\n",
      "         Balance 102121\n",
      "         Password nuts\n",
      "\n",
      "\n",
      "Press b to get the balance\n",
      "Press d to make a deposit\n",
      "Press w to make a withdraw\n",
      "Press s to show the account\n",
      "Press q to quit\n",
      "\n"
     ]
    },
    {
     "name": "stdin",
     "output_type": "stream",
     "text": [
      "What do you to do?: a\n"
     ]
    },
    {
     "name": "stdout",
     "output_type": "stream",
     "text": [
      "\n",
      "\n",
      "Press b to get the balance\n",
      "Press d to make a deposit\n",
      "Press w to make a withdraw\n",
      "Press s to show the account\n",
      "Press q to quit\n",
      "\n"
     ]
    },
    {
     "name": "stdin",
     "output_type": "stream",
     "text": [
      "What do you to do?: q\n"
     ]
    },
    {
     "name": "stdout",
     "output_type": "stream",
     "text": [
      "\n",
      "Done\n"
     ]
    }
   ],
   "source": [
    "while True:\n",
    "    print()\n",
    "    print(\"Press b to get the balance\")\n",
    "    print(\"Press d to make a deposit\")\n",
    "    print(\"Press w to make a withdraw\")\n",
    "    print(\"Press s to show the account\")\n",
    "    print(\"Press q to quit\")\n",
    "    print()\n",
    "\n",
    "    action = input(\"What do you to do?:\")\n",
    "    action = action.lower()\n",
    "    action = action[0]\n",
    "    print()\n",
    "\n",
    "    if action == \"b\":\n",
    "        print(\"Get balance\")\n",
    "        userAccountNumber = input(\"Please enter your account number:\")\n",
    "        userAccountNumber = int(userAccountNumber)\n",
    "        userPassword = input(\"Please enter your password: \")\n",
    "        theBalance = getBalance(userAccountNumber, userPassword)\n",
    "        if theBalance is not None:\n",
    "            print(\"Your balance is,\", theBalance)\n",
    "    if action == \"d\":\n",
    "        print(\"Deposit\")\n",
    "        userAccountNumber = input(\"Please entre your account number:\")\n",
    "        userAccountNumber = int(userAccountNumber)\n",
    "        amountDeposit = input(\"Enter the amount to deposit:\")\n",
    "        amountDeposit = int(amountDeposit)\n",
    "        userPassword = input(\"Please entre your password:\")\n",
    "        userDeposit = deposit(userAccountNumber, amountDeposit,userPassword)\n",
    "        if userDeposit is not None:\n",
    "            print(\"Your balance is,\", userDeposit)\n",
    "    if action == \"w\":\n",
    "        print(\"Withdrawal\")\n",
    "        userAccountNumber = input(\"Please entre your account number:\")\n",
    "        userAccountNumber = int(userAccountNumber)\n",
    "        amountWithdraw = input(\"Please enter the amount to withdraw:\")\n",
    "        amountWithdraw = int(amountWithdraw)\n",
    "        userPassword = input(\"Enter your password:\")\n",
    "        userWithdraw = withdraw(userAccountNumber, amountWithdraw, userPassword)\n",
    "        if userWithdraw is not None:\n",
    "            print(\"Your balance is,\", userWithdraw)\n",
    "    if action == \"s\":\n",
    "        print(\"Show Details\")\n",
    "        userAccountNumber = input(\"Please enter your account number:\")\n",
    "        userAccountNumber = int(userAccountNumber)\n",
    "        showDetails = show(userAccountNumber)\n",
    "    if action == \"q\":\n",
    "        break\n",
    "print(\"Done\")"
   ]
  },
  {
   "cell_type": "markdown",
   "id": "d2a3500c-cbfb-48a9-b19a-68e8bd5269d1",
   "metadata": {},
   "source": [
    "## Bank Muliple-account using Dictionaries"
   ]
  },
  {
   "cell_type": "markdown",
   "id": "6545c113-ac4d-41e7-84e9-b1ab0d703793",
   "metadata": {},
   "source": [
    "Use a different approach to structure the data\n",
    "\n",
    "```python\n",
    "{\"name\": <someName>, \"password\":<somePassword>, \"balance\":<balance>}\n",
    "```"
   ]
  },
  {
   "cell_type": "code",
   "execution_count": 37,
   "id": "95143f9d-90bf-4963-b299-0f499f07c0d9",
   "metadata": {},
   "outputs": [],
   "source": [
    "accountListdic = []"
   ]
  },
  {
   "cell_type": "code",
   "execution_count": 36,
   "id": "0ac23591-3e35-4c1c-8272-a0670ced2df2",
   "metadata": {},
   "outputs": [],
   "source": [
    "def newAccountd(aName, aBalance, aPassword):\n",
    "    global accountListdic\n",
    "    newAccountDict = {\"name\":aName, \"password\":aPassword, \"balance\":aBalance}\n",
    "    accountListdic.append(newAccountDict)"
   ]
  },
  {
   "cell_type": "code",
   "execution_count": 38,
   "id": "06745b12-4708-48a0-b271-6b4b6e4b66c6",
   "metadata": {},
   "outputs": [],
   "source": [
    "def show(accountNumber):\n",
    "    global accountListdic\n",
    "    print(\"Acount: \", accountNumber)\n",
    "    thisAccountDict = accountListdic[accountNumber]\n",
    "    print(\"         Name,\", thisAccountDict[\"name\"])\n",
    "    print(\"         Balance,\", thisAccountDict[\"balance\"])\n",
    "    print(\"         Password,\" , thisAccountDict[\"password\"])\n",
    "    print()"
   ]
  },
  {
   "cell_type": "code",
   "execution_count": 39,
   "id": "2f3f4189-01a0-4ac3-bb59-98800112c756",
   "metadata": {},
   "outputs": [],
   "source": [
    "def getBalance(accountNumber, password):\n",
    "    global accountListdic\n",
    "    thisAccountDict = accountListdic[accountNumber]\n",
    "    if password != thisAccountDict[\"password\"]:\n",
    "        print(\"Incorrect password\")\n",
    "        return None\n",
    "    return thisAccountDict[\"balance\"]"
   ]
  },
  {
   "cell_type": "code",
   "execution_count": 40,
   "id": "c75a3769-92a5-4b9f-8957-8adb1e40fc27",
   "metadata": {},
   "outputs": [],
   "source": [
    "def deposit(accountNumber, password, amountDeposit):\n",
    "    global accountListdic\n",
    "    thisAccountDict = accountListdic[accountNumber]\n",
    "    depositamount = amountDeposit\n",
    "    if depositamount < 0:\n",
    "        print(\"You cannot deposit negative values\")\n",
    "        return None\n",
    "    if password != thisAccountDict[\"password\"]:\n",
    "        print(\"Incorrect password\")\n",
    "        return None\n",
    "    thisAccountDict[\"balance\"] += amountDeposit\n",
    "    return thisAccountDict[\"balance\"]"
   ]
  },
  {
   "cell_type": "code",
   "execution_count": 44,
   "id": "20ed8489-702e-401e-8e60-915387946fd8",
   "metadata": {},
   "outputs": [],
   "source": [
    "def withdraw(accountNumber, password, amountWithdraw):\n",
    "    global accountListdic\n",
    "    thisAccountDict = accountListdic[accountNumber]\n",
    "    drawAmount = amountWithdraw\n",
    "    if drawAmount > thisAccountDict[\"balance\"]:\n",
    "        print(\"You cannot withdraw that amount\")\n",
    "        return None\n",
    "    if password != thisAccountDict[\"password\"]:\n",
    "        print(\"Incorrect password\")\n",
    "        return None\n",
    "    thisAccountDict[\"balance\"] -= amountWithdraw\n",
    "    return thisAccountDict[\"balance\"]"
   ]
  },
  {
   "cell_type": "code",
   "execution_count": 46,
   "id": "daa7b42d-1914-4b09-97fd-5550339b422c",
   "metadata": {},
   "outputs": [
    {
     "name": "stdout",
     "output_type": "stream",
     "text": [
      "Luis' is account number:  0\n"
     ]
    }
   ],
   "source": [
    "print(\"Luis' is account number: \" ,len(accountListdic))\n",
    "newAccountd(\"José\", 99, \"ze123\")"
   ]
  },
  {
   "cell_type": "code",
   "execution_count": 47,
   "id": "df46bad2-66df-4667-a3d2-ab3d4977bf34",
   "metadata": {},
   "outputs": [
    {
     "name": "stdout",
     "output_type": "stream",
     "text": [
      "Rosa's is account number: 1\n"
     ]
    }
   ],
   "source": [
    "print(\"Rosa's is account number:\", len(accountListdic))\n",
    "newAccountd(\"Rosa\", 999, \"zinha2024\")"
   ]
  },
  {
   "cell_type": "code",
   "execution_count": 48,
   "id": "9e9f56bf-41fb-44dc-a6d1-d1ecf6779386",
   "metadata": {},
   "outputs": [
    {
     "name": "stdout",
     "output_type": "stream",
     "text": [
      "\n",
      "Press b to get the balance\n",
      "Press d to make a deposit\n",
      "Press w to make a withdraw\n",
      "Press s to show the account\n",
      "Press n to create a new account\n",
      "Press q to quit\n",
      "\n"
     ]
    },
    {
     "name": "stdin",
     "output_type": "stream",
     "text": [
      "What do you to do?: b\n"
     ]
    },
    {
     "name": "stdout",
     "output_type": "stream",
     "text": [
      "\n",
      "Balance\n"
     ]
    },
    {
     "name": "stdin",
     "output_type": "stream",
     "text": [
      "Please enter your account number: 0\n",
      "Please enter your password: ze123\n"
     ]
    },
    {
     "name": "stdout",
     "output_type": "stream",
     "text": [
      "Your balance is: 99\n",
      "\n",
      "Press b to get the balance\n",
      "Press d to make a deposit\n",
      "Press w to make a withdraw\n",
      "Press s to show the account\n",
      "Press n to create a new account\n",
      "Press q to quit\n",
      "\n"
     ]
    },
    {
     "name": "stdin",
     "output_type": "stream",
     "text": [
      "What do you to do?: b\n"
     ]
    },
    {
     "name": "stdout",
     "output_type": "stream",
     "text": [
      "\n",
      "Balance\n"
     ]
    },
    {
     "name": "stdin",
     "output_type": "stream",
     "text": [
      "Please enter your account number: 1\n",
      "Please enter your password: zinha2024\n"
     ]
    },
    {
     "name": "stdout",
     "output_type": "stream",
     "text": [
      "Your balance is: 999\n",
      "\n",
      "Press b to get the balance\n",
      "Press d to make a deposit\n",
      "Press w to make a withdraw\n",
      "Press s to show the account\n",
      "Press n to create a new account\n",
      "Press q to quit\n",
      "\n"
     ]
    },
    {
     "name": "stdin",
     "output_type": "stream",
     "text": [
      "What do you to do?: d\n"
     ]
    },
    {
     "name": "stdout",
     "output_type": "stream",
     "text": [
      "\n",
      "Deposit\n"
     ]
    },
    {
     "name": "stdin",
     "output_type": "stream",
     "text": [
      "Please enter your account number: 0\n",
      "Please enter the amount to deposit 1000\n",
      "Please enter your password: ze123\n"
     ]
    },
    {
     "name": "stdout",
     "output_type": "stream",
     "text": [
      "Your new balance is, 1099\n",
      "\n",
      "Press b to get the balance\n",
      "Press d to make a deposit\n",
      "Press w to make a withdraw\n",
      "Press s to show the account\n",
      "Press n to create a new account\n",
      "Press q to quit\n",
      "\n"
     ]
    },
    {
     "name": "stdin",
     "output_type": "stream",
     "text": [
      "What do you to do?: w\n"
     ]
    },
    {
     "name": "stdout",
     "output_type": "stream",
     "text": [
      "\n",
      "Withdraw\n"
     ]
    },
    {
     "name": "stdin",
     "output_type": "stream",
     "text": [
      "Please enter your account number: 1\n",
      "Please enter the amount to withdraw: 1000\n",
      "Please enter your password: zinha2024\n"
     ]
    },
    {
     "name": "stdout",
     "output_type": "stream",
     "text": [
      "You cannot withdraw that amount\n",
      "\n",
      "Press b to get the balance\n",
      "Press d to make a deposit\n",
      "Press w to make a withdraw\n",
      "Press s to show the account\n",
      "Press n to create a new account\n",
      "Press q to quit\n",
      "\n"
     ]
    },
    {
     "name": "stdin",
     "output_type": "stream",
     "text": [
      "What do you to do?: w\n"
     ]
    },
    {
     "name": "stdout",
     "output_type": "stream",
     "text": [
      "\n",
      "Withdraw\n"
     ]
    },
    {
     "name": "stdin",
     "output_type": "stream",
     "text": [
      "Please enter your account number: 1\n",
      "Please enter the amount to withdraw: 100\n",
      "Please enter your password: zinha2024\n"
     ]
    },
    {
     "name": "stdout",
     "output_type": "stream",
     "text": [
      "Your new balance is  899\n",
      "\n",
      "Press b to get the balance\n",
      "Press d to make a deposit\n",
      "Press w to make a withdraw\n",
      "Press s to show the account\n",
      "Press n to create a new account\n",
      "Press q to quit\n",
      "\n"
     ]
    },
    {
     "name": "stdin",
     "output_type": "stream",
     "text": [
      "What do you to do?: s\n"
     ]
    },
    {
     "name": "stdout",
     "output_type": "stream",
     "text": [
      "\n",
      "Balance\n"
     ]
    },
    {
     "name": "stdin",
     "output_type": "stream",
     "text": [
      "Please enter your account number: 1\n"
     ]
    },
    {
     "name": "stdout",
     "output_type": "stream",
     "text": [
      "Acount:  1\n",
      "         Name, Rosa\n",
      "         Balance, 899\n",
      "         Password, zinha2024\n",
      "\n",
      "\n",
      "Press b to get the balance\n",
      "Press d to make a deposit\n",
      "Press w to make a withdraw\n",
      "Press s to show the account\n",
      "Press n to create a new account\n",
      "Press q to quit\n",
      "\n"
     ]
    },
    {
     "name": "stdin",
     "output_type": "stream",
     "text": [
      "What do you to do?: n\n"
     ]
    },
    {
     "name": "stdout",
     "output_type": "stream",
     "text": [
      "\n"
     ]
    },
    {
     "name": "stdin",
     "output_type": "stream",
     "text": [
      "What is your name: Paulo\n",
      "What is the amount of your initial deposit: 100000\n",
      "Create your password: tiopaulozica\n"
     ]
    },
    {
     "name": "stdout",
     "output_type": "stream",
     "text": [
      "Your new account number is: 2\n",
      "\n",
      "Press b to get the balance\n",
      "Press d to make a deposit\n",
      "Press w to make a withdraw\n",
      "Press s to show the account\n",
      "Press n to create a new account\n",
      "Press q to quit\n",
      "\n"
     ]
    },
    {
     "name": "stdin",
     "output_type": "stream",
     "text": [
      "What do you to do?: s\n"
     ]
    },
    {
     "name": "stdout",
     "output_type": "stream",
     "text": [
      "\n",
      "Balance\n"
     ]
    },
    {
     "name": "stdin",
     "output_type": "stream",
     "text": [
      "Please enter your account number: 2\n"
     ]
    },
    {
     "name": "stdout",
     "output_type": "stream",
     "text": [
      "Acount:  2\n",
      "         Name, Paulo\n",
      "         Balance, 100000\n",
      "         Password, tiopaulozica\n",
      "\n",
      "\n",
      "Press b to get the balance\n",
      "Press d to make a deposit\n",
      "Press w to make a withdraw\n",
      "Press s to show the account\n",
      "Press n to create a new account\n",
      "Press q to quit\n",
      "\n"
     ]
    },
    {
     "name": "stdin",
     "output_type": "stream",
     "text": [
      "What do you to do?: q\n"
     ]
    },
    {
     "name": "stdout",
     "output_type": "stream",
     "text": [
      "\n",
      "Done\n"
     ]
    }
   ],
   "source": [
    "while True:\n",
    "    print()\n",
    "    print(\"Press b to get the balance\")\n",
    "    print(\"Press d to make a deposit\")\n",
    "    print(\"Press w to make a withdraw\")\n",
    "    print(\"Press s to show the account\")\n",
    "    print(\"Press n to create a new account\")\n",
    "    print(\"Press q to quit\")\n",
    "    print()\n",
    "\n",
    "    action = input(\"What do you to do?:\")\n",
    "    action = action.lower()\n",
    "    action = action[0]\n",
    "    print()\n",
    "\n",
    "    if action == \"b\":\n",
    "        print(\"Balance\")\n",
    "        userAccountNumber = input(\"Please enter your account number:\")\n",
    "        userAccountNumber = int(userAccountNumber)\n",
    "        userPassword = input(\"Please enter your password:\")\n",
    "        theBalance = getBalance(userAccountNumber, userPassword)\n",
    "        if theBalance is not None:\n",
    "            print(\"Your balance is:\", theBalance)\n",
    "    elif action == \"d\":\n",
    "        print(\"Deposit\")\n",
    "        userAccountNumber = input(\"Please enter your account number:\")\n",
    "        userAccountNumber = int(userAccountNumber)\n",
    "        amountDeposit = input(\"Please enter the amount to deposit\")\n",
    "        amountDeposit = int(amountDeposit)\n",
    "        userPassword = input(\"Please enter your password:\")\n",
    "        newBalance = deposit(userAccountNumber,userPassword, amountDeposit)\n",
    "        if newBalance is not None:\n",
    "            print(\"Your new balance is,\", newBalance)\n",
    "    elif action == \"n\":\n",
    "        userName = input(\"What is your name:\")\n",
    "        userStartingAmount = input(\"What is the amount of your initial deposit:\")\n",
    "        userStartingAmount = int(userStartingAmount)\n",
    "        userPassword = input(\"Create your password:\")\n",
    "        userAccountNumber = len(accountListdic)\n",
    "        newAccountd(userName,userStartingAmount,userPassword)\n",
    "        print(\"Your new account number is:\", userAccountNumber)\n",
    "    elif action == \"s\":\n",
    "        print(\"Balance\")\n",
    "        userAccountNumber = input(\"Please enter your account number:\")\n",
    "        userAccountNumber = int(userAccountNumber)\n",
    "        show(userAccountNumber)\n",
    "    elif action == \"w\":\n",
    "        print(\"Withdraw\")\n",
    "        userAccountNumber = input(\"Please enter your account number:\")\n",
    "        userAccountNumber = int(userAccountNumber)\n",
    "        amountWithdraw = input(\"Please enter the amount to withdraw:\")\n",
    "        amountWithdraw = int(amountWithdraw)\n",
    "        userPassword = input(\"Please enter your password:\")\n",
    "        newBalance = withdraw(userAccountNumber, userPassword, amountWithdraw)\n",
    "        if newBalance is not None:\n",
    "            print(\"Your new balance is \", newBalance)\n",
    "    elif action == \"q\":\n",
    "        break\n",
    "print(\"Done\")"
   ]
  },
  {
   "cell_type": "markdown",
   "id": "763c099c-a403-446c-840e-fb6fa9eca375",
   "metadata": {},
   "source": [
    "## Common Problems\n",
    "\n",
    "All the data the functions operate on is stored one or more global variables. For the following reasons, using lots of global data with procedural programming is bad coding practice:\n",
    "\n",
    "- Functions that uses global cannot be easily be reused in a different program.\n",
    "- Functions written to use global data often have access to too much data."
   ]
  },
  {
   "cell_type": "markdown",
   "id": "76eb6f85-94d3-4160-b822-c21d85b104af",
   "metadata": {},
   "source": [
    "# Object-Oriented Solution"
   ]
  },
  {
   "cell_type": "code",
   "execution_count": 56,
   "id": "ca304848-8433-4473-9bf3-ca4a6bab7669",
   "metadata": {},
   "outputs": [],
   "source": [
    "# Classe\n",
    "class Account():\n",
    "    def __init__(self, name, balance, password):\n",
    "        self.name = name\n",
    "        self.balance = int(balance)\n",
    "        self.password = password\n",
    "\n",
    "    def deposit(self, amountDeposit, password):\n",
    "        if password != self.password:\n",
    "            print(\"Incorrect password\")\n",
    "            return None\n",
    "        if amountDeposit < 0:\n",
    "            print(\"You cannot deposit a negative amount\")\n",
    "            return None\n",
    "        self.balance = self.balance + amountDeposit\n",
    "        return self.balance\n",
    "\n",
    "    def withdraw(self, amountWithdraw, password):\n",
    "        if password != self.password:\n",
    "            print(\"Incorrect password\")\n",
    "            return None\n",
    "        if amountWithdraw < 0:\n",
    "            print(\"You cannot withdraw a negative amount\")\n",
    "            return None\n",
    "        if amountWithdraw > self.balance:\n",
    "            print(\"You cannot withdraw more than you have in your account\")\n",
    "            return None\n",
    "        self.balance = self.balance - amountWithdraw\n",
    "        return self.balance\n",
    "\n",
    "    def getBalance(self, password):\n",
    "        if password != self.password:\n",
    "            print(\"Incorrect password\")\n",
    "            return None\n",
    "        return self.balance\n",
    "\n",
    "    def show(self):\n",
    "        print(\"    Name,\", self.name)\n",
    "        print(\"    Balance,\" , self.balance)\n",
    "        print(\"    Password,\" , self.password)\n",
    "        print()"
   ]
  },
  {
   "cell_type": "code",
   "execution_count": 57,
   "id": "4e262332-0fa9-4308-b60a-b0bba4bd419b",
   "metadata": {},
   "outputs": [],
   "source": [
    "newUser = Account(\"Pedro\", 1600, \"dinho\")"
   ]
  },
  {
   "cell_type": "code",
   "execution_count": 58,
   "id": "de85b5de-b98c-4751-8f08-52af10c5add8",
   "metadata": {},
   "outputs": [
    {
     "name": "stdout",
     "output_type": "stream",
     "text": [
      "    Name, Pedro\n",
      "    Balance, 1600\n",
      "    Password, dinho\n",
      "\n"
     ]
    }
   ],
   "source": [
    "newUser.show()"
   ]
  },
  {
   "cell_type": "code",
   "execution_count": 59,
   "id": "fe141c6a-6fb4-4a1e-8c9a-48c6019140fc",
   "metadata": {},
   "outputs": [
    {
     "data": {
      "text/plain": [
       "2200"
      ]
     },
     "execution_count": 59,
     "metadata": {},
     "output_type": "execute_result"
    }
   ],
   "source": [
    "newUser.deposit(600, \"dinho\")"
   ]
  },
  {
   "cell_type": "code",
   "execution_count": 60,
   "id": "00902b67-edfc-4be9-821c-2bb04ff1434e",
   "metadata": {},
   "outputs": [
    {
     "data": {
      "text/plain": [
       "2200"
      ]
     },
     "execution_count": 60,
     "metadata": {},
     "output_type": "execute_result"
    }
   ],
   "source": [
    "newUser.getBalance(\"dinho\")"
   ]
  },
  {
   "cell_type": "code",
   "execution_count": 61,
   "id": "6bb14e7e-9268-4cb0-b97b-dd9486d9b2e6",
   "metadata": {},
   "outputs": [
    {
     "data": {
      "text/plain": [
       "1210"
      ]
     },
     "execution_count": 61,
     "metadata": {},
     "output_type": "execute_result"
    }
   ],
   "source": [
    "# para jogar no tigrinho\n",
    "newUser.withdraw(990, \"dinho\")"
   ]
  },
  {
   "cell_type": "code",
   "execution_count": 62,
   "id": "1d7fe6d8-d04b-4549-9476-c3293794d2ba",
   "metadata": {},
   "outputs": [
    {
     "name": "stdout",
     "output_type": "stream",
     "text": [
      "    Name, Pedro\n",
      "    Balance, 1210\n",
      "    Password, dinho\n",
      "\n"
     ]
    }
   ],
   "source": [
    "newUser.show()"
   ]
  }
 ],
 "metadata": {
  "kernelspec": {
   "display_name": "Python 3 (ipykernel)",
   "language": "python",
   "name": "python3"
  },
  "language_info": {
   "codemirror_mode": {
    "name": "ipython",
    "version": 3
   },
   "file_extension": ".py",
   "mimetype": "text/x-python",
   "name": "python",
   "nbconvert_exporter": "python",
   "pygments_lexer": "ipython3",
   "version": "3.12.2"
  }
 },
 "nbformat": 4,
 "nbformat_minor": 5
}
