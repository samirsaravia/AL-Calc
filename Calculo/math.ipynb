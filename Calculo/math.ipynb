{
 "cells": [
  {
   "cell_type": "code",
   "execution_count": 1,
   "id": "3112f8f6",
   "metadata": {},
   "outputs": [],
   "source": [
    "import sympy as sym\n",
    "from sympy import *"
   ]
  },
  {
   "cell_type": "code",
   "execution_count": 2,
   "id": "5c0a4b94",
   "metadata": {},
   "outputs": [],
   "source": [
    "x, y = sym.symbols(\"x y\")"
   ]
  },
  {
   "cell_type": "code",
   "execution_count": 3,
   "id": "46cc76df",
   "metadata": {},
   "outputs": [],
   "source": [
    "f = x**2 + y"
   ]
  },
  {
   "cell_type": "code",
   "execution_count": 4,
   "id": "10f60406",
   "metadata": {},
   "outputs": [
    {
     "data": {
      "text/latex": [
       "$\\displaystyle y + 100$"
      ],
      "text/plain": [
       "y + 100"
      ]
     },
     "execution_count": 4,
     "metadata": {},
     "output_type": "execute_result"
    }
   ],
   "source": [
    "f.subs(x, 10)"
   ]
  },
  {
   "cell_type": "code",
   "execution_count": 5,
   "id": "62d7eb3d",
   "metadata": {},
   "outputs": [
    {
     "data": {
      "text/latex": [
       "$\\displaystyle \\sin{\\left(x \\right)}$"
      ],
      "text/plain": [
       "sin(x)"
      ]
     },
     "execution_count": 5,
     "metadata": {},
     "output_type": "execute_result"
    }
   ],
   "source": [
    "sym.sin(x)"
   ]
  },
  {
   "cell_type": "code",
   "execution_count": 6,
   "id": "ea7ed283",
   "metadata": {},
   "outputs": [
    {
     "data": {
      "text/latex": [
       "$\\displaystyle e^{x}$"
      ],
      "text/plain": [
       "exp(x)"
      ]
     },
     "execution_count": 6,
     "metadata": {},
     "output_type": "execute_result"
    }
   ],
   "source": [
    "sym.exp(x)"
   ]
  },
  {
   "cell_type": "code",
   "execution_count": 7,
   "id": "826c7f83",
   "metadata": {},
   "outputs": [
    {
     "data": {
      "text/latex": [
       "$\\displaystyle x^{4.5}$"
      ],
      "text/plain": [
       "x**4.5"
      ]
     },
     "execution_count": 7,
     "metadata": {},
     "output_type": "execute_result"
    }
   ],
   "source": [
    "x ** (9/2)"
   ]
  },
  {
   "cell_type": "code",
   "execution_count": 69,
   "id": "f0727b55",
   "metadata": {},
   "outputs": [
    {
     "data": {
      "text/latex": [
       "$\\displaystyle x^{\\frac{9}{2}}$"
      ],
      "text/plain": [
       "x**(9/2)"
      ]
     },
     "execution_count": 69,
     "metadata": {},
     "output_type": "execute_result"
    }
   ],
   "source": [
    "x**(sym.Rational(9,2))"
   ]
  },
  {
   "cell_type": "code",
   "execution_count": 78,
   "id": "be655e10",
   "metadata": {},
   "outputs": [
    {
     "data": {
      "text/latex": [
       "$\\displaystyle \\log{\\left(4 \\right)}$"
      ],
      "text/plain": [
       "log(4)"
      ]
     },
     "execution_count": 78,
     "metadata": {},
     "output_type": "execute_result"
    }
   ],
   "source": [
    "sym.log(4)"
   ]
  },
  {
   "cell_type": "markdown",
   "id": "e7ccd4f5",
   "metadata": {},
   "source": [
    "## Limites"
   ]
  },
  {
   "cell_type": "markdown",
   "id": "73c7c481",
   "metadata": {},
   "source": [
    "$$\\lim_{x\\to \\pi} \\sin(x/2 + \\sin(x)) $$"
   ]
  },
  {
   "cell_type": "code",
   "execution_count": 9,
   "id": "7362aae6",
   "metadata": {},
   "outputs": [
    {
     "data": {
      "text/latex": [
       "$\\displaystyle 1$"
      ],
      "text/plain": [
       "1"
      ]
     },
     "execution_count": 9,
     "metadata": {},
     "output_type": "execute_result"
    }
   ],
   "source": [
    "sym.limit(sym.sin(x/2 + sym.sin(x)),x, sym.pi)"
   ]
  },
  {
   "cell_type": "markdown",
   "id": "e930c9e6",
   "metadata": {},
   "source": [
    "$$ \\lim_{x\\to 0^+} \\frac{2e^{1/x}}{e^{1/x}+1}$$"
   ]
  },
  {
   "cell_type": "code",
   "execution_count": 13,
   "id": "a632e7d4",
   "metadata": {},
   "outputs": [
    {
     "data": {
      "text/latex": [
       "$\\displaystyle 2$"
      ],
      "text/plain": [
       "2"
      ]
     },
     "execution_count": 13,
     "metadata": {},
     "output_type": "execute_result"
    }
   ],
   "source": [
    "sym.limit(2*sym.exp(1/x) / (sym.exp(1/x)+1),x,0, dir=\"+\")"
   ]
  },
  {
   "cell_type": "markdown",
   "id": "6b7940f3",
   "metadata": {},
   "source": [
    "\n",
    "$$ \\lim_{x\\to 0^-} \\frac{2e^{1/x}}{e^{1/x}+1}$$"
   ]
  },
  {
   "cell_type": "code",
   "execution_count": 14,
   "id": "8e9c0ece",
   "metadata": {},
   "outputs": [
    {
     "data": {
      "text/latex": [
       "$\\displaystyle 0$"
      ],
      "text/plain": [
       "0"
      ]
     },
     "execution_count": 14,
     "metadata": {},
     "output_type": "execute_result"
    }
   ],
   "source": [
    "sym.limit(2*sym.exp(1/x) / (sym.exp(1/x)+1),x,0, dir=\"-\")"
   ]
  },
  {
   "cell_type": "markdown",
   "id": "96b43634",
   "metadata": {},
   "source": [
    "$$\\lim_{x\\to\\infty} \\frac{\\cos(x) - 1}{x}$$"
   ]
  },
  {
   "cell_type": "code",
   "execution_count": 16,
   "id": "6629dfea",
   "metadata": {},
   "outputs": [
    {
     "data": {
      "text/latex": [
       "$\\displaystyle 0$"
      ],
      "text/plain": [
       "0"
      ]
     },
     "execution_count": 16,
     "metadata": {},
     "output_type": "execute_result"
    }
   ],
   "source": [
    "sym.limit((sym.cos(x)-1 )/ x, x, sym.oo)"
   ]
  },
  {
   "cell_type": "markdown",
   "id": "ba1f258f",
   "metadata": {},
   "source": [
    "## Derivadas"
   ]
  },
  {
   "cell_type": "markdown",
   "id": "2bcc298a",
   "metadata": {},
   "source": [
    "$$\\frac{d}{dx}\\bigg( \\frac{1+\\sin(x)}{1-\\cos(x)} \\bigg)^2$$"
   ]
  },
  {
   "cell_type": "code",
   "execution_count": 19,
   "id": "2072bce5",
   "metadata": {},
   "outputs": [
    {
     "data": {
      "text/latex": [
       "$\\displaystyle \\frac{2 \\left(\\sin{\\left(x \\right)} + 1\\right) \\cos{\\left(x \\right)}}{\\left(1 - \\cos{\\left(x \\right)}\\right)^{2}} - \\frac{2 \\left(\\sin{\\left(x \\right)} + 1\\right)^{2} \\sin{\\left(x \\right)}}{\\left(1 - \\cos{\\left(x \\right)}\\right)^{3}}$"
      ],
      "text/plain": [
       "2*(sin(x) + 1)*cos(x)/(1 - cos(x))**2 - 2*(sin(x) + 1)**2*sin(x)/(1 - cos(x))**3"
      ]
     },
     "execution_count": 19,
     "metadata": {},
     "output_type": "execute_result"
    }
   ],
   "source": [
    "sym.diff(((1 + sym.sin(x))/ (1-sym.cos(x)))**2,x)"
   ]
  },
  {
   "cell_type": "markdown",
   "id": "95ed223a",
   "metadata": {},
   "source": [
    "$$\\frac{d}{dx}\\bigg(\\log_5(x)\\bigg)^{x/2}$$"
   ]
  },
  {
   "cell_type": "code",
   "execution_count": 25,
   "id": "0b80e3e8",
   "metadata": {},
   "outputs": [
    {
     "data": {
      "text/latex": [
       "$\\displaystyle \\left(\\frac{\\log{\\left(x \\right)}}{\\log{\\left(5 \\right)}}\\right)^{\\frac{x}{2}} \\left(\\frac{\\log{\\left(\\frac{\\log{\\left(x \\right)}}{\\log{\\left(5 \\right)}} \\right)}}{2} + \\frac{1}{2 \\log{\\left(x \\right)}}\\right)$"
      ],
      "text/plain": [
       "(log(x)/log(5))**(x/2)*(log(log(x)/log(5))/2 + 1/(2*log(x)))"
      ]
     },
     "execution_count": 25,
     "metadata": {},
     "output_type": "execute_result"
    }
   ],
   "source": [
    "sym.diff(sym.log(x, 5)**(x/2),x)"
   ]
  },
  {
   "cell_type": "markdown",
   "id": "272e5127",
   "metadata": {},
   "source": [
    "$$\\frac{d}{dx}f(x + g(x))$$"
   ]
  },
  {
   "cell_type": "code",
   "execution_count": 29,
   "id": "b109b973",
   "metadata": {},
   "outputs": [],
   "source": [
    "f, g = sym.symbols(\"f g\", cls=sym.Function)   # tem que definir que f e g são funções\n",
    "g = g(x)\n",
    "f = f(x + g)"
   ]
  },
  {
   "cell_type": "code",
   "execution_count": 30,
   "id": "59523464",
   "metadata": {},
   "outputs": [
    {
     "data": {
      "text/latex": [
       "$\\displaystyle \\left(\\frac{d}{d x} g{\\left(x \\right)} + 1\\right) \\left. \\frac{d}{d \\xi_{1}} f{\\left(\\xi_{1} \\right)} \\right|_{\\substack{ \\xi_{1}=x + g{\\left(x \\right)} }}$"
      ],
      "text/plain": [
       "(Derivative(g(x), x) + 1)*Subs(Derivative(f(_xi_1), _xi_1), _xi_1, x + g(x))"
      ]
     },
     "execution_count": 30,
     "metadata": {},
     "output_type": "execute_result"
    }
   ],
   "source": [
    "sym.diff(f, x)"
   ]
  },
  {
   "cell_type": "markdown",
   "id": "1d151a76",
   "metadata": {},
   "source": [
    "## AntiDerivadas"
   ]
  },
  {
   "cell_type": "markdown",
   "id": "8904d2a7",
   "metadata": {},
   "source": [
    "$$\\int \\csc(x) \\cot(x)dx$$"
   ]
  },
  {
   "cell_type": "code",
   "execution_count": 33,
   "id": "0bade63d",
   "metadata": {},
   "outputs": [
    {
     "data": {
      "text/latex": [
       "$\\displaystyle - \\frac{1}{\\sin{\\left(x \\right)}}$"
      ],
      "text/plain": [
       "-1/sin(x)"
      ]
     },
     "execution_count": 33,
     "metadata": {},
     "output_type": "execute_result"
    }
   ],
   "source": [
    "sym.integrate(sym.csc(x)*sym.cot(x),x)"
   ]
  },
  {
   "cell_type": "markdown",
   "id": "470daa73",
   "metadata": {},
   "source": [
    "$$\\int 4\\sec(3x)\\tan(3x)dx$$"
   ]
  },
  {
   "cell_type": "code",
   "execution_count": 35,
   "id": "dfb95483",
   "metadata": {},
   "outputs": [
    {
     "data": {
      "text/latex": [
       "$\\displaystyle \\frac{1}{3 \\cos{\\left(3 x \\right)}}$"
      ],
      "text/plain": [
       "1/(3*cos(3*x))"
      ]
     },
     "execution_count": 35,
     "metadata": {},
     "output_type": "execute_result"
    }
   ],
   "source": [
    "sym.integrate(sym.sec(3*x)*sym.tan(3*x),x)"
   ]
  },
  {
   "cell_type": "markdown",
   "id": "7dc4faf0",
   "metadata": {},
   "source": [
    "$$\\int\\bigg(\\frac{2}{\\sqrt{1-x^2}} - \\frac{1}{x^{1/4}}\\bigg)dx$$"
   ]
  },
  {
   "cell_type": "code",
   "execution_count": 37,
   "id": "2c5b90bb",
   "metadata": {},
   "outputs": [
    {
     "data": {
      "text/latex": [
       "$\\displaystyle \\frac{2}{\\sqrt{1 - x^{2}}} - \\frac{1}{\\sqrt[4]{x}}$"
      ],
      "text/plain": [
       "2/sqrt(1 - x**2) - 1/x**(1/4)"
      ]
     },
     "execution_count": 37,
     "metadata": {},
     "output_type": "execute_result"
    }
   ],
   "source": [
    "(2/sym.sqrt(1-x**2)) - (1/x**sym.Rational(1,4))"
   ]
  },
  {
   "cell_type": "code",
   "execution_count": 38,
   "id": "5f1f922d",
   "metadata": {},
   "outputs": [
    {
     "data": {
      "text/latex": [
       "$\\displaystyle - \\frac{4 x^{\\frac{3}{4}}}{3} + 2 \\operatorname{asin}{\\left(x \\right)}$"
      ],
      "text/plain": [
       "-4*x**(3/4)/3 + 2*asin(x)"
      ]
     },
     "execution_count": 38,
     "metadata": {},
     "output_type": "execute_result"
    }
   ],
   "source": [
    "sym.integrate((2/sym.sqrt(1-x**2)) - (1/x**sym.Rational(1,4)),x)"
   ]
  },
  {
   "cell_type": "code",
   "execution_count": 41,
   "id": "b0543ed9",
   "metadata": {},
   "outputs": [
    {
     "data": {
      "text/latex": [
       "$\\displaystyle \\frac{x^{3}}{3}$"
      ],
      "text/plain": [
       "x**3/3"
      ]
     },
     "execution_count": 41,
     "metadata": {},
     "output_type": "execute_result"
    }
   ],
   "source": [
    "sym.integrate(x**2)"
   ]
  },
  {
   "cell_type": "markdown",
   "id": "926dae0e",
   "metadata": {},
   "source": [
    "### Resolvendo problemas"
   ]
  },
  {
   "cell_type": "markdown",
   "id": "f7e6302a",
   "metadata": {},
   "source": [
    "1. Dado $\\frac{dy}{dx} = 8x+\\csc^2(x)$ com $y(\\pi/2) = - 7$, resolva para $y(x)$ "
   ]
  },
  {
   "cell_type": "code",
   "execution_count": 59,
   "id": "5d537534",
   "metadata": {},
   "outputs": [
    {
     "data": {
      "text/latex": [
       "$\\displaystyle 4 x^{2} - \\frac{\\cos{\\left(x \\right)}}{\\sin{\\left(x \\right)}}$"
      ],
      "text/plain": [
       "4*x**2 - cos(x)/sin(x)"
      ]
     },
     "execution_count": 59,
     "metadata": {},
     "output_type": "execute_result"
    }
   ],
   "source": [
    "integral = sym.integrate(8*x + sym.csc(x)**2,x)\n",
    "integral"
   ]
  },
  {
   "cell_type": "code",
   "execution_count": 60,
   "id": "8e22b21b",
   "metadata": {},
   "outputs": [
    {
     "data": {
      "text/latex": [
       "$\\displaystyle - \\pi^{2} - 7$"
      ],
      "text/plain": [
       "-pi**2 - 7"
      ]
     },
     "execution_count": 60,
     "metadata": {},
     "output_type": "execute_result"
    }
   ],
   "source": [
    "C = -(integral.subs(x, sym.pi/2)) - 7\n",
    "C"
   ]
  },
  {
   "cell_type": "code",
   "execution_count": 61,
   "id": "10407d2e",
   "metadata": {},
   "outputs": [
    {
     "data": {
      "text/latex": [
       "$\\displaystyle 4 x^{2} - \\pi^{2} - 7 - \\frac{\\cos{\\left(x \\right)}}{\\sin{\\left(x \\right)}}$"
      ],
      "text/plain": [
       "4*x**2 - pi**2 - 7 - cos(x)/sin(x)"
      ]
     },
     "execution_count": 61,
     "metadata": {},
     "output_type": "execute_result"
    }
   ],
   "source": [
    "y = integral + C\n",
    "y  # answer"
   ]
  },
  {
   "cell_type": "code",
   "execution_count": 62,
   "id": "11136608",
   "metadata": {},
   "outputs": [
    {
     "data": {
      "text/latex": [
       "$\\displaystyle -7$"
      ],
      "text/plain": [
       "-7"
      ]
     },
     "execution_count": 62,
     "metadata": {},
     "output_type": "execute_result"
    }
   ],
   "source": [
    "y.subs(x, sym.pi/2)"
   ]
  },
  {
   "cell_type": "markdown",
   "id": "865a0c63",
   "metadata": {},
   "source": [
    "### Antiderivadas mais complicadas"
   ]
  },
  {
   "cell_type": "markdown",
   "id": "dd455393",
   "metadata": {},
   "source": [
    "$$\\int \\frac{\\big(1+\\sqrt x\\big)^{1/3}}{\\sqrt x}dx$$"
   ]
  },
  {
   "cell_type": "code",
   "execution_count": 67,
   "id": "0487f589",
   "metadata": {},
   "outputs": [
    {
     "data": {
      "text/latex": [
       "$\\displaystyle \\frac{3 \\sqrt{x} \\sqrt[3]{\\sqrt{x} + 1}}{2} + \\frac{3 \\sqrt[3]{\\sqrt{x} + 1}}{2}$"
      ],
      "text/plain": [
       "3*sqrt(x)*(sqrt(x) + 1)**(1/3)/2 + 3*(sqrt(x) + 1)**(1/3)/2"
      ]
     },
     "execution_count": 67,
     "metadata": {},
     "output_type": "execute_result"
    }
   ],
   "source": [
    "sym.integrate((1+sym.sqrt(x))**(sym.Rational(1,3))/sym.sqrt(x),x)"
   ]
  },
  {
   "cell_type": "markdown",
   "id": "e6414f38",
   "metadata": {},
   "source": [
    "$$\\int x(1-x^2)^{1/4}dx$$"
   ]
  },
  {
   "cell_type": "code",
   "execution_count": 71,
   "id": "c8f000b4",
   "metadata": {},
   "outputs": [
    {
     "data": {
      "text/latex": [
       "$\\displaystyle \\frac{2 x^{2} \\sqrt[4]{1 - x^{2}}}{5} - \\frac{2 \\sqrt[4]{1 - x^{2}}}{5}$"
      ],
      "text/plain": [
       "2*x**2*(1 - x**2)**(1/4)/5 - 2*(1 - x**2)**(1/4)/5"
      ]
     },
     "execution_count": 71,
     "metadata": {},
     "output_type": "execute_result"
    }
   ],
   "source": [
    "sym.integrate(x*(1-x**2)**(sym.Rational(1,4)),x)"
   ]
  },
  {
   "cell_type": "markdown",
   "id": "8f824a85",
   "metadata": {},
   "source": [
    "$$\\int \\frac{(2x - 1)\\cos\\big({\\sqrt{3 (2x - 1)^2 + 6}\\big)}}{\\sqrt{3(2x -1)^2 + 6}}dx$$"
   ]
  },
  {
   "cell_type": "code",
   "execution_count": 74,
   "id": "1bb2271f",
   "metadata": {},
   "outputs": [
    {
     "data": {
      "text/latex": [
       "$\\displaystyle \\frac{\\sin{\\left(\\sqrt{3 \\left(2 x - 1\\right)^{2} + 6} \\right)}}{6}$"
      ],
      "text/plain": [
       "sin(sqrt(3*(2*x - 1)**2 + 6))/6"
      ]
     },
     "execution_count": 74,
     "metadata": {},
     "output_type": "execute_result"
    }
   ],
   "source": [
    "sym.integrate(((2*x - 1)*sym.cos(sym.sqrt(3*(2*x-1)**2 + 6)))/(sym.sqrt(3*(2*x -1)**2 + 6)),x)"
   ]
  },
  {
   "cell_type": "markdown",
   "id": "7f16d03a",
   "metadata": {},
   "source": [
    "## Integrais definidos"
   ]
  },
  {
   "cell_type": "markdown",
   "id": "8212948d",
   "metadata": {},
   "source": [
    "$$\\int_{0}^{\\ln(4)} \\frac{e^x dt}{\\sqrt{e^{2x} + 9}}$$"
   ]
  },
  {
   "cell_type": "code",
   "execution_count": 81,
   "id": "16a83332",
   "metadata": {},
   "outputs": [
    {
     "data": {
      "text/latex": [
       "$\\displaystyle - \\operatorname{asinh}{\\left(\\frac{1}{3} \\right)} + \\operatorname{asinh}{\\left(\\frac{4}{3} \\right)}$"
      ],
      "text/plain": [
       "-asinh(1/3) + asinh(4/3)"
      ]
     },
     "execution_count": 81,
     "metadata": {},
     "output_type": "execute_result"
    }
   ],
   "source": [
    "sym.integrate(sym.exp(x) / sym.sqrt(sym.exp(2*x) + 9),(x, 0, sym.log(4)))"
   ]
  },
  {
   "cell_type": "markdown",
   "id": "bf4f0479",
   "metadata": {},
   "source": [
    "$$\\int_1^t x^{10}e^x dx$$"
   ]
  },
  {
   "cell_type": "code",
   "execution_count": 82,
   "id": "a0ed751d",
   "metadata": {},
   "outputs": [],
   "source": [
    "t = sym.symbols(\"t\")"
   ]
  },
  {
   "cell_type": "code",
   "execution_count": 83,
   "id": "165dc5d2",
   "metadata": {},
   "outputs": [
    {
     "data": {
      "text/latex": [
       "$\\displaystyle \\left(t^{10} - 10 t^{9} + 90 t^{8} - 720 t^{7} + 5040 t^{6} - 30240 t^{5} + 151200 t^{4} - 604800 t^{3} + 1814400 t^{2} - 3628800 t + 3628800\\right) e^{t} - 1334961 e$"
      ],
      "text/plain": [
       "(t**10 - 10*t**9 + 90*t**8 - 720*t**7 + 5040*t**6 - 30240*t**5 + 151200*t**4 - 604800*t**3 + 1814400*t**2 - 3628800*t + 3628800)*exp(t) - 1334961*E"
      ]
     },
     "execution_count": 83,
     "metadata": {},
     "output_type": "execute_result"
    }
   ],
   "source": [
    "sym.integrate(x**10*sym.exp(x),(x,1,t))"
   ]
  },
  {
   "cell_type": "markdown",
   "id": "b9d9fdf1",
   "metadata": {},
   "source": [
    "### Integrais improprias"
   ]
  },
  {
   "cell_type": "markdown",
   "id": "08d2de29",
   "metadata": {},
   "source": [
    "$$\\int_0^{\\infty} \\frac{16 \\tan^{-1}(x)}{1 + x^2} dx$$"
   ]
  },
  {
   "cell_type": "code",
   "execution_count": 87,
   "id": "6412b85f",
   "metadata": {},
   "outputs": [
    {
     "data": {
      "text/latex": [
       "$\\displaystyle 2 \\pi^{2}$"
      ],
      "text/plain": [
       "2*pi**2"
      ]
     },
     "execution_count": 87,
     "metadata": {},
     "output_type": "execute_result"
    }
   ],
   "source": [
    "sym.integrate((16 * sym.atan(x))/(1+x**2),(x, 0 , sym.oo))"
   ]
  },
  {
   "cell_type": "markdown",
   "id": "368f03ad",
   "metadata": {},
   "source": [
    "### Sequencias  e Series"
   ]
  },
  {
   "cell_type": "markdown",
   "id": "5800c35e",
   "metadata": {},
   "source": [
    "$$\\sum_{n=0} ^{\\infty} \\frac{6}{4^n}$$"
   ]
  },
  {
   "cell_type": "code",
   "execution_count": 88,
   "id": "e55ab4d3",
   "metadata": {},
   "outputs": [],
   "source": [
    "n = sym.symbols(\"n\")"
   ]
  },
  {
   "cell_type": "code",
   "execution_count": 91,
   "id": "a2ac62b3",
   "metadata": {},
   "outputs": [
    {
     "data": {
      "text/latex": [
       "$\\displaystyle \\sum_{n=0}^{\\infty} 6 \\cdot 4^{- n}$"
      ],
      "text/plain": [
       "Sum(6/4**n, (n, 0, oo))"
      ]
     },
     "execution_count": 91,
     "metadata": {},
     "output_type": "execute_result"
    }
   ],
   "source": [
    "sym.Sum(6/4**n, (n, 0, sym.oo))   #sympy não resolve o problema"
   ]
  },
  {
   "cell_type": "code",
   "execution_count": 93,
   "id": "5a468183",
   "metadata": {},
   "outputs": [
    {
     "data": {
      "text/latex": [
       "$\\displaystyle 8$"
      ],
      "text/plain": [
       "8"
      ]
     },
     "execution_count": 93,
     "metadata": {},
     "output_type": "execute_result"
    }
   ],
   "source": [
    "sym.Sum(6/4**n, (n, 0, sym.oo)).doit()   #com doit(), resolve!!"
   ]
  },
  {
   "cell_type": "markdown",
   "id": "20422e83",
   "metadata": {},
   "source": [
    "$$\\sum_{n=0} ^{\\infty} \\frac{2^{n+1}}{5^n}$$"
   ]
  },
  {
   "cell_type": "code",
   "execution_count": 98,
   "id": "68f62235",
   "metadata": {},
   "outputs": [
    {
     "data": {
      "text/latex": [
       "$\\displaystyle \\frac{10}{3}$"
      ],
      "text/plain": [
       "10/3"
      ]
     },
     "execution_count": 98,
     "metadata": {},
     "output_type": "execute_result"
    }
   ],
   "source": [
    "sym.Sum(((2**(n+1))/(5**n)),(n,0, sym.oo)).doit()"
   ]
  },
  {
   "cell_type": "markdown",
   "id": "70571674",
   "metadata": {},
   "source": [
    "$$\\sum_{n=1} ^{\\infty} \\frac{\\tan^{-1}(n)}{n^{1.1}}$$"
   ]
  },
  {
   "cell_type": "code",
   "execution_count": 102,
   "id": "3b496a04",
   "metadata": {},
   "outputs": [
    {
     "data": {
      "text/latex": [
       "$\\displaystyle \\sum_{n=1}^{\\infty} \\frac{\\operatorname{atan}{\\left(n \\right)}}{n^{\\frac{11}{10}}}$"
      ],
      "text/plain": [
       "Sum(atan(n)/n**(11/10), (n, 1, oo))"
      ]
     },
     "execution_count": 102,
     "metadata": {},
     "output_type": "execute_result"
    }
   ],
   "source": [
    "sym.Sum(sym.atan(n)/n**(sym.Rational(11,10)),(n,1, sym.oo)).doit()  #muito complicado para resolver"
   ]
  },
  {
   "cell_type": "code",
   "execution_count": 103,
   "id": "ab6b7bac",
   "metadata": {},
   "outputs": [
    {
     "data": {
      "text/latex": [
       "$\\displaystyle 15.3028821020457$"
      ],
      "text/plain": [
       "15.3028821020457"
      ]
     },
     "execution_count": 103,
     "metadata": {},
     "output_type": "execute_result"
    }
   ],
   "source": [
    "sym.Sum(sym.atan(n)/n**(sym.Rational(11,10)),(n,1, sym.oo)).n() #faz uma aproximação"
   ]
  },
  {
   "cell_type": "code",
   "execution_count": null,
   "id": "dba12a7a",
   "metadata": {},
   "outputs": [],
   "source": []
  }
 ],
 "metadata": {
  "kernelspec": {
   "display_name": "Python 3 (ipykernel)",
   "language": "python",
   "name": "python3"
  },
  "language_info": {
   "codemirror_mode": {
    "name": "ipython",
    "version": 3
   },
   "file_extension": ".py",
   "mimetype": "text/x-python",
   "name": "python",
   "nbconvert_exporter": "python",
   "pygments_lexer": "ipython3",
   "version": "3.11.7"
  }
 },
 "nbformat": 4,
 "nbformat_minor": 5
}
