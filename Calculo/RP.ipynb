{
 "cells": [
  {
   "cell_type": "markdown",
   "id": "2c8a6a05-c519-4003-8ff3-e5b075c4728e",
   "metadata": {},
   "source": [
    "# 1\n",
    "Utilizando as regras de diferenciação, calcule as derivadas de primeira e segunda\n",
    "ordens de cada uma das funções a seguir:\n",
    "\n",
    "a) 𝑓(𝑥) = 3𝑥 − 8\n",
    "\n",
    "b) 𝑔(𝑥) = − 14 𝑥6 + 6𝑥3 − 8𝑥\n",
    "\n",
    "c) ℎ(𝑥) = 3,5𝑥3 − 1,2𝑥2 − 3\n",
    "\n",
    "d) 𝑟(𝑥) = 𝜋"
   ]
  },
  {
   "cell_type": "markdown",
   "id": "2f8e54a8-baed-4070-bb12-c6fb69e10494",
   "metadata": {},
   "source": [
    "$$a)   \\frac{\\partial }{\\partial x}f= \\frac{\\partial}{\\partial x}3x - \\frac{\\partial }{\\partial x}8 = 3\\frac{\\partial}{\\partial x}x-0=\n",
    "1(3(x^{1-1}))=3$$\n",
    "\n",
    "$$b)\\frac{d}{dx}(-14x^6+6x^3-8x)= \\frac{d}{dx}(-14x^6)+\\frac{d}{dx}(6x^3)-\\frac{d}{dx}(8x)=-14\\frac{d}{dx}(x^6)+6\\frac{d}{dx}(x^3)-8\\frac{d}{dx}(x)=-14\\times 6(x^5)+6\\times 3(x^2)-8(1) = -84x^5+18x^2-8$$\n",
    "\n",
    "$$c)\\frac{d}{dx}(3.5x^3-12x^2-3)=3.5\\frac{d}{dx}(x^3)-1.2\\frac{d}{dx}(x^2)-1\\frac{d}{dx}(3)=10.5x^2-2.4x$$\n",
    "\n",
    "$$d)\\frac{d}{dx}(\\pi)= 0 $$"
   ]
  },
  {
   "cell_type": "markdown",
   "id": "c6c4e0a1-dad6-448b-841f-8594e8f1f6f5",
   "metadata": {},
   "source": [
    "# 2\n",
    "Seja a função 𝑓(𝑥) = 𝑥3 − 3𝑥 + 5, representada pelo gráfico a seguir\n",
    "- Determine a expressão algébrica da reta tangente à curva quando 𝑥=2\n",
    "- Represente no gráfico a reta tangente determinada no item anterior\n",
    "- A função 𝑓(𝑥) tem alguma tangente horizontal? Mostre por meio de\n",
    "cálculos.\n",
    "Se a função 𝑓(𝑥) tem alguma tangente horizontal, determine em quais pontos e\n",
    "represente-as no gráfico"
   ]
  },
  {
   "cell_type": "code",
   "execution_count": 11,
   "id": "54cdc23b-5a9b-446b-ab6e-b3d5b5991b2e",
   "metadata": {},
   "outputs": [],
   "source": [
    "import matplotlib.pyplot as plt\n",
    "import sympy as sym\n",
    "import numpy as np"
   ]
  },
  {
   "cell_type": "code",
   "execution_count": 4,
   "id": "ebdcee07-2b1c-4185-8957-cc3014bc7856",
   "metadata": {},
   "outputs": [
    {
     "data": {
      "text/latex": [
       "$\\displaystyle 7$"
      ],
      "text/plain": [
       "7"
      ]
     },
     "execution_count": 4,
     "metadata": {},
     "output_type": "execute_result"
    }
   ],
   "source": [
    "x = sym.symbols('x')\n",
    "f = x**3-3*x+5\n",
    "f.subs(x,2)"
   ]
  },
  {
   "cell_type": "code",
   "execution_count": 6,
   "id": "951fc864-7753-4a30-89a7-c6bd254b4676",
   "metadata": {},
   "outputs": [
    {
     "data": {
      "text/latex": [
       "$\\displaystyle 3 x^{2} - 3$"
      ],
      "text/plain": [
       "3*x**2 - 3"
      ]
     },
     "execution_count": 6,
     "metadata": {},
     "output_type": "execute_result"
    }
   ],
   "source": [
    "# derivada\n",
    "f1 = sym.diff(f)\n",
    "f1"
   ]
  },
  {
   "cell_type": "markdown",
   "id": "16287852-c7da-430a-903b-b376c3da5dd7",
   "metadata": {},
   "source": [
    "$$y-y_0=m(x-x_0)$$\n",
    "\n",
    "$$y-7= 9(x-2)$$\n",
    "\n",
    "$$y=9x-18+7$$\n",
    "\n",
    "$$y = 9x-11$$"
   ]
  },
  {
   "cell_type": "code",
   "execution_count": 7,
   "id": "c3c587cc-ea5b-497d-86ad-fdfd1d574882",
   "metadata": {},
   "outputs": [
    {
     "data": {
      "text/plain": [
       "[-1, 1]"
      ]
     },
     "execution_count": 7,
     "metadata": {},
     "output_type": "execute_result"
    }
   ],
   "source": [
    "# raiz da derivada\n",
    "sym.solve(f1)"
   ]
  },
  {
   "cell_type": "code",
   "execution_count": 36,
   "id": "70510154-5ad7-407f-855c-d332553da10c",
   "metadata": {},
   "outputs": [
    {
     "data": {
      "text/latex": [
       "$\\displaystyle 7$"
      ],
      "text/plain": [
       "7"
      ]
     },
     "execution_count": 36,
     "metadata": {},
     "output_type": "execute_result"
    }
   ],
   "source": [
    "# ponto crítico (-1,7)\n",
    "f.subs(x,-1)"
   ]
  },
  {
   "cell_type": "code",
   "execution_count": 35,
   "id": "a7c48c11-c408-4276-830e-2a485f8e6279",
   "metadata": {},
   "outputs": [
    {
     "data": {
      "text/latex": [
       "$\\displaystyle 3$"
      ],
      "text/plain": [
       "3"
      ]
     },
     "execution_count": 35,
     "metadata": {},
     "output_type": "execute_result"
    }
   ],
   "source": [
    "# ponto crítico (1,3)\n",
    "f.subs(x,1)"
   ]
  },
  {
   "cell_type": "markdown",
   "id": "28b0ca01-4069-4861-bd4a-f6462e0944dc",
   "metadata": {},
   "source": [
    "## Gráfico"
   ]
  },
  {
   "cell_type": "code",
   "execution_count": 16,
   "id": "717f2a9f-c3dd-47d8-98bd-4cdfc46ff465",
   "metadata": {},
   "outputs": [],
   "source": [
    "def f3(x,a,b,c,d):\n",
    "    return a*x**3+b*x**2+c*x+d"
   ]
  },
  {
   "cell_type": "code",
   "execution_count": 22,
   "id": "708b2ef0-6916-4ea1-b044-9b7100b3b4ac",
   "metadata": {},
   "outputs": [],
   "source": [
    "dominio = np.linspace(-1.2,2.2,50)\n",
    "imagem = f3(dominio, 1,0,-3,5)"
   ]
  },
  {
   "cell_type": "code",
   "execution_count": 31,
   "id": "1abbc9a0-c7d0-4bb1-8ee1-7f2095f70e72",
   "metadata": {},
   "outputs": [],
   "source": [
    "dominio_reta = np.linspace(1.7,2.3,10)\n",
    "imagem_reta = f3(dominio_reta, 0,0,9,-11)"
   ]
  },
  {
   "cell_type": "code",
   "execution_count": 41,
   "id": "b21b6929-7f92-49ac-8f33-e5eb1382ee3c",
   "metadata": {},
   "outputs": [
    {
     "data": {
      "image/png": "[encoded data removed]",
      "text/plain": [
       "<Figure size 768x576 with 1 Axes>"
      ]
     },
     "metadata": {},
     "output_type": "display_data"
    }
   ],
   "source": [
    "plt.figure(num=0,dpi=120)\n",
    "plt.grid(True, which='both')\n",
    "plt.plot(dominio, imagem, label=f'$x^3-3x+5$')\n",
    "plt.plot(dominio_reta, imagem_reta, label=f'$y=9x-11$')\n",
    "plt.scatter(-1,7,label='(-1,7)')\n",
    "plt.scatter(1,3, label='(1,3)')\n",
    "plt.plot((-2,0),(7,7))\n",
    "plt.plot((0,2),(3,3))\n",
    "plt.legend()\n",
    "plt.show()"
   ]
  },
  {
   "cell_type": "markdown",
   "id": "9a9054a6-e125-487e-93d6-25b1d28a0ff1",
   "metadata": {},
   "source": [
    "# 3\n",
    "Calcular a área da região limitada, conforme especificação a seguir:\n",
    "- acima pela função $f(x)= x+2$,\n",
    "- abaixo pela função $g(x)=\\frac14 x^2$,\n",
    "- laterais por 𝑥 = 1 e 𝑥 = 4."
   ]
  },
  {
   "cell_type": "markdown",
   "id": "1520ac47-d0fc-4005-b137-32f211046bf7",
   "metadata": {},
   "source": [
    "$$\\int f(x)-g(x)$$"
   ]
  },
  {
   "cell_type": "code",
   "execution_count": 43,
   "id": "a96b8bfe-2047-41b5-a86b-0036aab5767d",
   "metadata": {},
   "outputs": [],
   "source": [
    "f,g = sym.symbols('f g',cls=sym.Function)\n",
    "x = sym.symbols('x')"
   ]
  },
  {
   "cell_type": "code",
   "execution_count": 44,
   "id": "1db99cf5-a06a-4d50-b21b-9bd65e09d51d",
   "metadata": {},
   "outputs": [],
   "source": [
    "f = x+2"
   ]
  },
  {
   "cell_type": "code",
   "execution_count": 48,
   "id": "daec7c93-c84e-43c0-b92b-f738c2a642af",
   "metadata": {},
   "outputs": [
    {
     "data": {
      "text/latex": [
       "$\\displaystyle \\frac{x^{2}}{4}$"
      ],
      "text/plain": [
       "x**2/4"
      ]
     },
     "execution_count": 48,
     "metadata": {},
     "output_type": "execute_result"
    }
   ],
   "source": [
    "g = sym.Rational(1,4)*x**2\n",
    "g"
   ]
  },
  {
   "cell_type": "code",
   "execution_count": 52,
   "id": "ea00f562-06e0-47b1-a430-ddb8a5ee8565",
   "metadata": {},
   "outputs": [
    {
     "data": {
      "text/latex": [
       "$\\displaystyle \\frac{33}{4}$"
      ],
      "text/plain": [
       "33/4"
      ]
     },
     "execution_count": 52,
     "metadata": {},
     "output_type": "execute_result"
    }
   ],
   "source": [
    "# calculo da área\n",
    "sym.integrate(f-g,(x,1,4))"
   ]
  },
  {
   "cell_type": "code",
   "execution_count": 51,
   "id": "0d0e3386-22fc-40de-90d2-5ba65811daa1",
   "metadata": {},
   "outputs": [
    {
     "data": {
      "text/latex": [
       "$\\displaystyle - \\frac{x^{3}}{12} + \\frac{x^{2}}{2} + 2 x$"
      ],
      "text/plain": [
       "-x**3/12 + x**2/2 + 2*x"
      ]
     },
     "execution_count": 51,
     "metadata": {},
     "output_type": "execute_result"
    }
   ],
   "source": [
    "sym.integrate(f-g)"
   ]
  },
  {
   "cell_type": "markdown",
   "id": "4c8be829-39ca-422b-a976-5843bc42dac9",
   "metadata": {},
   "source": [
    "$$\\int f(x)-g(x)=\\int_1^4 x+2 - \\int_1^4 \\frac 14x^2$$\n",
    "\n",
    "$$\\frac{x^2}{2}+2x-\\frac{x^3}{12}\\bigg |_1^4$$\n",
    "\n",
    "$$\\frac{4^2}{2}+8-\\frac{4^3}{12}-\\bigg(\\frac12 +2-\\frac{1}{12}\\bigg)$$\n",
    "\n",
    "$$16-\\frac{32}{6}-\\bigg(\\frac{6+24-1}{12}\\bigg)$$\n",
    "\n",
    "$$\\frac{192-64-6-24+1}{12}= \\frac{99}{12}=\\frac{33}{4}$$"
   ]
  },
  {
   "cell_type": "markdown",
   "id": "5d6ce32c-f51d-4b84-a3a0-79fb92a8c955",
   "metadata": {},
   "source": [
    "# 4\n",
    "Represente graficamente a região indicada na questão 3"
   ]
  },
  {
   "cell_type": "code",
   "execution_count": 57,
   "id": "d0052171-9bd6-40a2-a462-8943c8b7a7b1",
   "metadata": {},
   "outputs": [],
   "source": [
    "dominio4 = np.linspace(1,4,20)\n",
    "imagem4 = f3(dominio4,0,0,1,2)"
   ]
  },
  {
   "cell_type": "code",
   "execution_count": 58,
   "id": "15dcd907-e1b8-4822-9964-ded4a7521571",
   "metadata": {},
   "outputs": [],
   "source": [
    "imagem41 = f3(dominio4,0,1/4,0,0)"
   ]
  },
  {
   "cell_type": "code",
   "execution_count": 66,
   "id": "898a4867-7799-45eb-a0f5-c2f87a2863ac",
   "metadata": {},
   "outputs": [
    {
     "data": {
      "image/png": "[encoded data removed]",
      "text/plain": [
       "<Figure size 640x480 with 1 Axes>"
      ]
     },
     "metadata": {},
     "output_type": "display_data"
    }
   ],
   "source": [
    "plt.grid(True, which='both')\n",
    "plt.plot(dominio4, imagem4)\n",
    "plt.plot(dominio4, imagem41)\n",
    "plt.plot((dominio4, dominio4), (imagem4,imagem41))\n",
    "plt.show()"
   ]
  },
  {
   "cell_type": "markdown",
   "id": "9f30fba4-3726-4a7b-aa64-74ab6dd0d78c",
   "metadata": {},
   "source": [
    "# 5\n",
    "\n",
    "Utilizando as regras de integração, calcule as integrais a seguir.\n",
    "\n",
    "- $f(x)= \\int 3x^2 -2 dx$\n",
    "- $g(x)=\\int \\frac13 x^3-2.5x dx$\n",
    "- $h(x)= \\int \\frac x4  dx$"
   ]
  },
  {
   "cell_type": "code",
   "execution_count": null,
   "id": "594c7d53-4c8d-47c8-8601-208ed28b3181",
   "metadata": {},
   "outputs": [],
   "source": []
  }
 ],
 "metadata": {
  "kernelspec": {
   "display_name": "Python 3 (ipykernel)",
   "language": "python",
   "name": "python3"
  },
  "language_info": {
   "codemirror_mode": {
    "name": "ipython",
    "version": 3
   },
   "file_extension": ".py",
   "mimetype": "text/x-python",
   "name": "python",
   "nbconvert_exporter": "python",
   "pygments_lexer": "ipython3",
   "version": "3.11.7"
  }
 },
 "nbformat": 4,
 "nbformat_minor": 5
}
