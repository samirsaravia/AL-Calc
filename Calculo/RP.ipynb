{
 "cells": [
  {
   "cell_type": "markdown",
   "id": "a075964e-3612-4e26-b0fd-578db3b1efc7",
   "metadata": {},
   "source": [
    "### Samir Saravia castro"
   ]
  },
  {
   "cell_type": "markdown",
   "id": "2c8a6a05-c519-4003-8ff3-e5b075c4728e",
   "metadata": {},
   "source": [
    "# 1\n",
    "Utilizando as regras de diferenciação, calcule as derivadas de primeira e segunda\n",
    "ordens de cada uma das funções a seguir:\n",
    "\n",
    "a) 𝑓(𝑥) = 3𝑥 − 8\n",
    "\n",
    "b) 𝑔(𝑥) = − 14 𝑥6 + 6𝑥3 − 8𝑥\n",
    "\n",
    "c) ℎ(𝑥) = 3,5𝑥3 − 1,2𝑥2 − 3\n",
    "\n",
    "d) 𝑟(𝑥) = 𝜋"
   ]
  },
  {
   "cell_type": "markdown",
   "id": "2f8e54a8-baed-4070-bb12-c6fb69e10494",
   "metadata": {},
   "source": [
    "$$Resposta$$\n",
    "a)\n",
    "- $$\\frac{\\partial }{\\partial x}f= \\frac{\\partial}{\\partial x}3x - \\frac{\\partial }{\\partial x}8 = 3\\frac{\\partial}{\\partial x}x-0=\n",
    "1(3(x^{1-1}))=3$$\n",
    "\n",
    "- $$\\frac{d'}{dx}3 = 0$$\n",
    "\n",
    "b)\n",
    "- $$\\frac{d}{dx}(-14x^6+6x^3-8x)=\\frac{d}{dx}(-14x^6)+\\frac{d}{dx}(6x^3)-\\frac{d}{dx}(-8x)=-14\\frac{d}{dx}x^6+6\\frac{d}{dx}x^3-8\\frac{d}{dx}(x)=$$\n",
    "\n",
    "  $$=-84x^5+18x^2-8$$\n",
    "\n",
    "  \n",
    "- $$\\frac{d'}{dx}(-84x^5+18x^2-8) = \\frac{d'}{dx}(-84x^5)+\\frac{d'}{dx}(+18x^2)-\\frac{d'}{dx}(-8)= -84\\frac{d'}{dx}x^5+18\\frac{d'}{dx}x^2-0 = -420x^4+36x$$\n",
    "\n",
    "c)\n",
    "- $$\\frac{d}{dx}(3.5x^3-1.2x^2-3)=3.5\\frac{d}{dx}(x^3)-1.2\\frac{d}{dx}(x^2)-1\\frac{d}{dx}(3)=10.5x^2-2.4x$$\n",
    "\n",
    "- $$\\frac{d'}{dx}(10.5x^2-2.4x) = 10.5\\frac{d'}{dx}(x^2)-2.4\\frac{d'}{dx}(x)=21x-2.4$$\n",
    "\n",
    "d)\n",
    "\n",
    "- $$\\frac{d}{dx}(\\pi)= 0 $$\n",
    "\n",
    "- $$\\frac{d'}{dx}0  = 0$$"
   ]
  },
  {
   "cell_type": "markdown",
   "id": "c6c4e0a1-dad6-448b-841f-8594e8f1f6f5",
   "metadata": {},
   "source": [
    "# 2\n",
    "Seja a função 𝑓(𝑥) = 𝑥3 − 3𝑥 + 5, representada pelo gráfico a seguir\n",
    "- Determine a expressão algébrica da reta tangente à curva quando 𝑥=2\n",
    "- Represente no gráfico a reta tangente determinada no item anterior\n",
    "- A função 𝑓(𝑥) tem alguma tangente horizontal? Mostre por meio de\n",
    "cálculos.\n",
    "Se a função 𝑓(𝑥) tem alguma tangente horizontal, determine em quais pontos e\n",
    "represente-as no gráfico"
   ]
  },
  {
   "cell_type": "code",
   "execution_count": 1,
   "id": "54cdc23b-5a9b-446b-ab6e-b3d5b5991b2e",
   "metadata": {},
   "outputs": [],
   "source": [
    "import matplotlib.pyplot as plt\n",
    "import sympy as sym\n",
    "import numpy as np"
   ]
  },
  {
   "cell_type": "code",
   "execution_count": 2,
   "id": "ebdcee07-2b1c-4185-8957-cc3014bc7856",
   "metadata": {},
   "outputs": [
    {
     "data": {
      "text/latex": [
       "$\\displaystyle 7$"
      ],
      "text/plain": [
       "7"
      ]
     },
     "execution_count": 2,
     "metadata": {},
     "output_type": "execute_result"
    }
   ],
   "source": [
    "x = sym.symbols('x')\n",
    "f = x**3-3*x+5\n",
    "f.subs(x,2)"
   ]
  },
  {
   "cell_type": "code",
   "execution_count": 3,
   "id": "951fc864-7753-4a30-89a7-c6bd254b4676",
   "metadata": {},
   "outputs": [
    {
     "data": {
      "text/latex": [
       "$\\displaystyle 3 x^{2} - 3$"
      ],
      "text/plain": [
       "3*x**2 - 3"
      ]
     },
     "execution_count": 3,
     "metadata": {},
     "output_type": "execute_result"
    }
   ],
   "source": [
    "# derivada\n",
    "f1 = sym.diff(f)\n",
    "f1"
   ]
  },
  {
   "cell_type": "markdown",
   "id": "16287852-c7da-430a-903b-b376c3da5dd7",
   "metadata": {},
   "source": [
    "$$Resposta$$\n",
    "$$y-y_0=m(x-x_0)$$\n",
    "\n",
    "$$y-7= 9(x-2)$$\n",
    "\n",
    "$$y=9x-18+7$$\n",
    "\n",
    "$$y = 9x-11$$"
   ]
  },
  {
   "cell_type": "code",
   "execution_count": 4,
   "id": "c3c587cc-ea5b-497d-86ad-fdfd1d574882",
   "metadata": {},
   "outputs": [
    {
     "data": {
      "text/plain": [
       "[-1, 1]"
      ]
     },
     "execution_count": 4,
     "metadata": {},
     "output_type": "execute_result"
    }
   ],
   "source": [
    "# raiz da derivada\n",
    "sym.solve(f1)"
   ]
  },
  {
   "cell_type": "code",
   "execution_count": 5,
   "id": "70510154-5ad7-407f-855c-d332553da10c",
   "metadata": {},
   "outputs": [
    {
     "data": {
      "text/latex": [
       "$\\displaystyle 7$"
      ],
      "text/plain": [
       "7"
      ]
     },
     "execution_count": 5,
     "metadata": {},
     "output_type": "execute_result"
    }
   ],
   "source": [
    "# ponto crítico (-1,7)\n",
    "f.subs(x,-1)"
   ]
  },
  {
   "cell_type": "code",
   "execution_count": 6,
   "id": "a7c48c11-c408-4276-830e-2a485f8e6279",
   "metadata": {},
   "outputs": [
    {
     "data": {
      "text/latex": [
       "$\\displaystyle 3$"
      ],
      "text/plain": [
       "3"
      ]
     },
     "execution_count": 6,
     "metadata": {},
     "output_type": "execute_result"
    }
   ],
   "source": [
    "# ponto crítico (1,3)\n",
    "f.subs(x,1)"
   ]
  },
  {
   "cell_type": "markdown",
   "id": "32a40821-a1da-478f-8aab-3e7be6b72d69",
   "metadata": {},
   "source": [
    "Resposta da tangente nos pontos\n",
    "$$(-1,7) ; (1,3)$$"
   ]
  },
  {
   "cell_type": "markdown",
   "id": "28b0ca01-4069-4861-bd4a-f6462e0944dc",
   "metadata": {},
   "source": [
    "## Gráfico"
   ]
  },
  {
   "cell_type": "code",
   "execution_count": 7,
   "id": "717f2a9f-c3dd-47d8-98bd-4cdfc46ff465",
   "metadata": {},
   "outputs": [],
   "source": [
    "def f3(x,a,b,c,d):\n",
    "    return a*x**3+b*x**2+c*x+d"
   ]
  },
  {
   "cell_type": "code",
   "execution_count": 8,
   "id": "708b2ef0-6916-4ea1-b044-9b7100b3b4ac",
   "metadata": {},
   "outputs": [],
   "source": [
    "dominio = np.linspace(-1.2,2.2,50)\n",
    "imagem = f3(dominio, 1,0,-3,5)"
   ]
  },
  {
   "cell_type": "code",
   "execution_count": 9,
   "id": "1abbc9a0-c7d0-4bb1-8ee1-7f2095f70e72",
   "metadata": {},
   "outputs": [],
   "source": [
    "dominio_reta = np.linspace(1.7,2.3,10)\n",
    "imagem_reta = f3(dominio_reta, 0,0,9,-11)"
   ]
  },
  {
   "cell_type": "code",
   "execution_count": 10,
   "id": "b21b6929-7f92-49ac-8f33-e5eb1382ee3c",
   "metadata": {},
   "outputs": [
    {
     "data": {
      "image/png": "[encoded data removed]",
      "text/plain": [
       "<Figure size 768x576 with 1 Axes>"
      ]
     },
     "metadata": {},
     "output_type": "display_data"
    }
   ],
   "source": [
    "plt.figure(num=0,dpi=120)\n",
    "plt.grid(True, which='both')\n",
    "plt.plot(dominio, imagem, label=f'$x^3-3x+5$')\n",
    "plt.plot(dominio_reta, imagem_reta, label=f'$y=9x-11$')\n",
    "plt.scatter(-1,7,label='(-1,7)')\n",
    "plt.scatter(1,3, label='(1,3)')\n",
    "plt.plot((-2,0),(7,7))\n",
    "plt.plot((0,2),(3,3))\n",
    "plt.legend()\n",
    "plt.show()"
   ]
  },
  {
   "cell_type": "markdown",
   "id": "9a9054a6-e125-487e-93d6-25b1d28a0ff1",
   "metadata": {},
   "source": [
    "# 3\n",
    "Calcular a área da região limitada, conforme especificação a seguir:\n",
    "- acima pela função $f(x)= x+2$,\n",
    "- abaixo pela função $g(x)=\\frac14 x^2$,\n",
    "- laterais por 𝑥 = 1 e 𝑥 = 4."
   ]
  },
  {
   "cell_type": "markdown",
   "id": "1520ac47-d0fc-4005-b137-32f211046bf7",
   "metadata": {},
   "source": [
    "$$\\int f(x)-g(x)$$"
   ]
  },
  {
   "cell_type": "code",
   "execution_count": 11,
   "id": "a96b8bfe-2047-41b5-a86b-0036aab5767d",
   "metadata": {},
   "outputs": [],
   "source": [
    "f,g = sym.symbols('f g',cls=sym.Function)\n",
    "x = sym.symbols('x')"
   ]
  },
  {
   "cell_type": "code",
   "execution_count": 12,
   "id": "1db99cf5-a06a-4d50-b21b-9bd65e09d51d",
   "metadata": {},
   "outputs": [],
   "source": [
    "f = x+2"
   ]
  },
  {
   "cell_type": "code",
   "execution_count": 13,
   "id": "daec7c93-c84e-43c0-b92b-f738c2a642af",
   "metadata": {},
   "outputs": [
    {
     "data": {
      "text/latex": [
       "$\\displaystyle \\frac{x^{2}}{4}$"
      ],
      "text/plain": [
       "x**2/4"
      ]
     },
     "execution_count": 13,
     "metadata": {},
     "output_type": "execute_result"
    }
   ],
   "source": [
    "g = sym.Rational(1,4)*x**2\n",
    "g"
   ]
  },
  {
   "cell_type": "code",
   "execution_count": 14,
   "id": "ea00f562-06e0-47b1-a430-ddb8a5ee8565",
   "metadata": {},
   "outputs": [
    {
     "data": {
      "text/latex": [
       "$\\displaystyle \\frac{33}{4}$"
      ],
      "text/plain": [
       "33/4"
      ]
     },
     "execution_count": 14,
     "metadata": {},
     "output_type": "execute_result"
    }
   ],
   "source": [
    "# calculo da área\n",
    "sym.integrate(f-g,(x,1,4))"
   ]
  },
  {
   "cell_type": "code",
   "execution_count": 15,
   "id": "0d0e3386-22fc-40de-90d2-5ba65811daa1",
   "metadata": {},
   "outputs": [
    {
     "data": {
      "text/latex": [
       "$\\displaystyle - \\frac{x^{3}}{12} + \\frac{x^{2}}{2} + 2 x$"
      ],
      "text/plain": [
       "-x**3/12 + x**2/2 + 2*x"
      ]
     },
     "execution_count": 15,
     "metadata": {},
     "output_type": "execute_result"
    }
   ],
   "source": [
    "sym.integrate(f-g)"
   ]
  },
  {
   "cell_type": "markdown",
   "id": "4c8be829-39ca-422b-a976-5843bc42dac9",
   "metadata": {},
   "source": [
    "$$Resposta$$\n",
    "$$\\int f(x)-g(x)=\\int_1^4 x+2 - \\int_1^4 \\frac 14x^2$$\n",
    "\n",
    "$$\\frac{x^2}{2}+2x-\\frac{x^3}{12}\\bigg |_1^4$$\n",
    "\n",
    "$$\\frac{4^2}{2}+8-\\frac{4^3}{12}-\\bigg(\\frac12 +2-\\frac{1}{12}\\bigg)$$\n",
    "\n",
    "$$16-\\frac{32}{6}-\\bigg(\\frac{6+24-1}{12}\\bigg)$$\n",
    "\n",
    "$$\\frac{192-64-6-24+1}{12}= \\frac{99}{12}=\\frac{33}{4}$$"
   ]
  },
  {
   "cell_type": "markdown",
   "id": "5d6ce32c-f51d-4b84-a3a0-79fb92a8c955",
   "metadata": {},
   "source": [
    "# 4\n",
    "Represente graficamente a região indicada na questão 3"
   ]
  },
  {
   "cell_type": "code",
   "execution_count": 16,
   "id": "d0052171-9bd6-40a2-a462-8943c8b7a7b1",
   "metadata": {},
   "outputs": [],
   "source": [
    "dominio4 = np.linspace(1,4,20)\n",
    "imagem4 = f3(dominio4,0,0,1,2)"
   ]
  },
  {
   "cell_type": "code",
   "execution_count": 17,
   "id": "15dcd907-e1b8-4822-9964-ded4a7521571",
   "metadata": {},
   "outputs": [],
   "source": [
    "imagem41 = f3(dominio4,0,1/4,0,0)"
   ]
  },
  {
   "cell_type": "code",
   "execution_count": 18,
   "id": "898a4867-7799-45eb-a0f5-c2f87a2863ac",
   "metadata": {},
   "outputs": [
    {
     "data": {
      "image/png": "[encoded data removed]",
      "text/plain": [
       "<Figure size 640x480 with 1 Axes>"
      ]
     },
     "metadata": {},
     "output_type": "display_data"
    }
   ],
   "source": [
    "plt.grid(True, which='both')\n",
    "plt.plot(dominio4, imagem4)\n",
    "plt.plot(dominio4, imagem41)\n",
    "plt.plot((dominio4, dominio4), (imagem4,imagem41))\n",
    "plt.show()"
   ]
  },
  {
   "cell_type": "markdown",
   "id": "9f30fba4-3726-4a7b-aa64-74ab6dd0d78c",
   "metadata": {},
   "source": [
    "# 5\n",
    "\n",
    "Utilizando as regras de integração, calcule as integrais a seguir.\n",
    "\n",
    "- $f(x)= \\int 3x^2 -2 \\text{ dx}$\n",
    "- $g(x)=\\int \\frac13 x^3-2.5x \\text{ dx}$\n",
    "- $h(x)= \\int \\frac x4  \\text{ dx}$\n",
    "- $i(x)= \\int_{-1}^3-9x \\text{ dx}$\n",
    "- $r(x)= \\int_0^{\\frac23}3,14t^2 \\text{ dt} $"
   ]
  },
  {
   "cell_type": "code",
   "execution_count": 19,
   "id": "594c7d53-4c8d-47c8-8601-208ed28b3181",
   "metadata": {},
   "outputs": [
    {
     "data": {
      "text/latex": [
       "$\\displaystyle \\frac{3 x^{4}}{4} - 2 x$"
      ],
      "text/plain": [
       "3*x**4/4 - 2*x"
      ]
     },
     "execution_count": 19,
     "metadata": {},
     "output_type": "execute_result"
    }
   ],
   "source": [
    "# f(x)\n",
    "f5 = 3*x**3-2\n",
    "sym.integrate(f5,x)"
   ]
  },
  {
   "cell_type": "code",
   "execution_count": 20,
   "id": "0c25b4b7-cdb2-43e6-b2ce-1bf59161a95b",
   "metadata": {},
   "outputs": [
    {
     "data": {
      "text/latex": [
       "$\\displaystyle 0.0833333333333333 x^{4} - 1.25 x^{2}$"
      ],
      "text/plain": [
       "0.0833333333333333*x**4 - 1.25*x**2"
      ]
     },
     "execution_count": 20,
     "metadata": {},
     "output_type": "execute_result"
    }
   ],
   "source": [
    "#g(x)\n",
    "f51 = sym.Rational(1,3)*x**3-2.5*x\n",
    "sym.integrate(f51,x)"
   ]
  },
  {
   "cell_type": "code",
   "execution_count": 21,
   "id": "65719bca-f33d-4a24-b163-f4df57cb7b8a",
   "metadata": {},
   "outputs": [
    {
     "data": {
      "text/latex": [
       "$\\displaystyle \\frac{x^{2}}{8}$"
      ],
      "text/plain": [
       "x**2/8"
      ]
     },
     "execution_count": 21,
     "metadata": {},
     "output_type": "execute_result"
    }
   ],
   "source": [
    "#h(x)\n",
    "f52 = sym.Rational(1,4)*x\n",
    "sym.integrate(f52)"
   ]
  },
  {
   "cell_type": "code",
   "execution_count": 22,
   "id": "02ba8e61-7803-4d50-9b27-5d7d14fd2946",
   "metadata": {},
   "outputs": [
    {
     "data": {
      "text/latex": [
       "$\\displaystyle -36$"
      ],
      "text/plain": [
       "-36"
      ]
     },
     "execution_count": 22,
     "metadata": {},
     "output_type": "execute_result"
    }
   ],
   "source": [
    "#i(x)\n",
    "i = -9*x\n",
    "sym.integrate(i,(x,-1,3))"
   ]
  },
  {
   "cell_type": "code",
   "execution_count": 23,
   "id": "c80d703c-51c2-424b-be2d-2b0fd1c8a97a",
   "metadata": {},
   "outputs": [
    {
     "data": {
      "text/latex": [
       "$\\displaystyle 0.310123456790123$"
      ],
      "text/plain": [
       "0.310123456790123"
      ]
     },
     "execution_count": 23,
     "metadata": {},
     "output_type": "execute_result"
    }
   ],
   "source": [
    "#r(x)\n",
    "t = sym.symbols('t')\n",
    "r = 3.14*t**2\n",
    "sym.integrate(r,(t,0,sym.Rational(2,3)))"
   ]
  },
  {
   "cell_type": "markdown",
   "id": "8810571f-566e-407b-9b69-ee6579185143",
   "metadata": {},
   "source": [
    "$$Resposta$$\n",
    "$$f(x)= \\frac{3x^4}{4}-2x+C$$\n",
    "\n",
    "$$g(x)= \\frac{1}{12}x^4-1.25x^2+C$$\n",
    "\n",
    "$$h(x)=\\frac{x^2}{8}+C$$\n",
    "\n",
    "$$i(x)=-36$$\n",
    "\n",
    "$$r(x)= \\frac{3,14x^3}{3}\\bigg|_0^{\\frac23}=\\frac{25.12}{81}$$"
   ]
  },
  {
   "cell_type": "markdown",
   "id": "0207e185-bf22-4929-9355-ed79b6480d50",
   "metadata": {},
   "source": [
    "# 6\n",
    "\n",
    "Considere a produção de cana de açucar há a necessidade de inserir alguns nutrientes no solo. O óxido de potássio, $K_2O$ é um dos nutrientes usados para melhorar a produção em lavouras de cana de açúcar. Adicionando-se a quantidade de nutrientes $n$, dad em quilogramas por hectare, tem-se a produção P dad em toneladas por hectare e representada pela expressão. $$P(n)=-0,000898n^2+0,2571n+42$$\n",
    "\n",
    "\n",
    "- a) o que representa $P'(70)$ na situação?\n",
    "- b) O valor de $n$ que dá a máxima produção de cana de açúcar é obtido encontrando o ponto de máximo da função, ou seja, o vértice da parábola. Calcular a quantidade de nutrientes e a produção máxima da lavoura."
   ]
  },
  {
   "cell_type": "code",
   "execution_count": 24,
   "id": "c0e40e34-3dba-4579-adc9-e6838a9fd867",
   "metadata": {},
   "outputs": [
    {
     "data": {
      "text/latex": [
       "$\\displaystyle - 0.000898 n^{2} + 0.2571 n + 42$"
      ],
      "text/plain": [
       "-0.000898*n**2 + 0.2571*n + 42"
      ]
     },
     "execution_count": 24,
     "metadata": {},
     "output_type": "execute_result"
    }
   ],
   "source": [
    "n = sym.symbols('n')\n",
    "P = -0.000898*n**2+0.2571*n+42\n",
    "P"
   ]
  },
  {
   "cell_type": "code",
   "execution_count": 25,
   "id": "3b2bc9df-fc8d-4ce2-b3aa-76163fe0c147",
   "metadata": {},
   "outputs": [
    {
     "data": {
      "text/latex": [
       "$\\displaystyle 0.2571 - 0.001796 n$"
      ],
      "text/plain": [
       "0.2571 - 0.001796*n"
      ]
     },
     "execution_count": 25,
     "metadata": {},
     "output_type": "execute_result"
    }
   ],
   "source": [
    "# derivada 1\n",
    "P1 = sym.diff(P)\n",
    "P1"
   ]
  },
  {
   "cell_type": "code",
   "execution_count": 26,
   "id": "85c99e3f-4396-438b-b244-e69e8313b99d",
   "metadata": {},
   "outputs": [
    {
     "data": {
      "text/plain": [
       "[143.151447661470]"
      ]
     },
     "execution_count": 26,
     "metadata": {},
     "output_type": "execute_result"
    }
   ],
   "source": [
    "# Derivada igual a zero\n",
    "Pr = sym.solve(P1)\n",
    "Pr"
   ]
  },
  {
   "cell_type": "code",
   "execution_count": 27,
   "id": "2cf93763-421a-4c30-87ec-45503bbc1868",
   "metadata": {},
   "outputs": [
    {
     "data": {
      "text/latex": [
       "$\\displaystyle 60.402118596882$"
      ],
      "text/plain": [
       "60.4021185968820"
      ]
     },
     "execution_count": 27,
     "metadata": {},
     "output_type": "execute_result"
    }
   ],
   "source": [
    "# encontrando a imagem do vértice\n",
    "P1v = P.subs(n,Pr[0])\n",
    "P1v"
   ]
  },
  {
   "cell_type": "code",
   "execution_count": 28,
   "id": "f0d37208-2a24-40ea-be09-37fc30ad8f6e",
   "metadata": {},
   "outputs": [],
   "source": [
    "dominio_p = np.linspace(0,200,200)\n",
    "imagem_p = f3(dominio_p,0,-0.000898,0.2571,42)\n",
    "dominio_derivada =  np.linspace(0,200,200)\n",
    "imagem_derivada = f3(dominio_derivada,0,0,-0.001796,0.2571)"
   ]
  },
  {
   "cell_type": "code",
   "execution_count": 32,
   "id": "77846c37-9bfe-409e-a003-fd2e0e7d7b5d",
   "metadata": {
    "scrolled": true
   },
   "outputs": [
    {
     "data": {
      "image/png": "[encoded data removed]",
      "text/plain": [
       "<Figure size 768x576 with 1 Axes>"
      ]
     },
     "metadata": {},
     "output_type": "display_data"
    }
   ],
   "source": [
    "plt.figure(num=1, dpi=120)\n",
    "plt.grid(True, which='both')\n",
    "plt.plot(dominio_p, imagem_p)\n",
    "plt.plot(dominio_derivada, imagem_derivada)\n",
    "plt.scatter(70,0.13138, label=f\"(70;0.13)\")\n",
    "plt.scatter(Pr[0],P1v, label=f\"({round(Pr[0])};{round(P1v)})\")\n",
    "plt.legend()\n",
    "plt.xlim(50,150)\n",
    "plt.show()"
   ]
  },
  {
   "cell_type": "code",
   "execution_count": 30,
   "id": "670b3fc1-c527-47fb-a37f-e12fb8be6cd1",
   "metadata": {},
   "outputs": [
    {
     "data": {
      "text/latex": [
       "$\\displaystyle 0.13138$"
      ],
      "text/plain": [
       "0.131380000000000"
      ]
     },
     "execution_count": 30,
     "metadata": {},
     "output_type": "execute_result"
    }
   ],
   "source": [
    "P1.subs(n,70)"
   ]
  },
  {
   "cell_type": "markdown",
   "id": "65e211cd-c233-43d6-a594-2dfc9a1a84d2",
   "metadata": {},
   "source": [
    "$$resposta$$\n",
    "a) Taxa de variação da produção ao adicionar $70Kg/ha$ de nutrientes.\n",
    "\n",
    "\n",
    "b) A quantidade de nutrientes $n\\approx 143Kg/ha$ para uma produção de $P\\approx 60T/ha$"
   ]
  }
 ],
 "metadata": {
  "kernelspec": {
   "display_name": "Python 3 (ipykernel)",
   "language": "python",
   "name": "python3"
  },
  "language_info": {
   "codemirror_mode": {
    "name": "ipython",
    "version": 3
   },
   "file_extension": ".py",
   "mimetype": "text/x-python",
   "name": "python",
   "nbconvert_exporter": "python",
   "pygments_lexer": "ipython3",
   "version": "3.12.2"
  }
 },
 "nbformat": 4,
 "nbformat_minor": 5
}
