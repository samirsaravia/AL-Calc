{
 "cells": [
  {
   "cell_type": "markdown",
   "id": "3e1a1f31",
   "metadata": {},
   "source": [
    "# Funções para prever progressão polinomial"
   ]
  },
  {
   "cell_type": "code",
   "execution_count": 106,
   "id": "fd94e9c6",
   "metadata": {},
   "outputs": [
    {
     "data": {
      "image/png": "[encoded data removed]",
      "text/plain": [
       "<Figure size 640x480 with 1 Axes>"
      ]
     },
     "metadata": {},
     "output_type": "display_data"
    },
    {
     "name": "stdout",
     "output_type": "stream",
     "text": [
      "4.399999999999994  +3.627142857142861x**1 -0.5928571428571435x**2\n",
      "RPM 3.060000000000002\tKm 9.94778000000000\n"
     ]
    },
    {
     "data": {
      "image/png": "[encoded data removed]",
      "text/plain": [
       "<Figure size 640x480 with 1 Axes>"
      ]
     },
     "metadata": {},
     "output_type": "display_data"
    }
   ],
   "source": [
    "import matplotlib.pyplot as plt\n",
    "import numpy as np\n",
    "import sympy as sym\n",
    "from sklearn.linear_model import LinearRegression\n",
    "from sklearn.preprocessing import PolynomialFeatures\n",
    "\n",
    "\n",
    "\n",
    "def main():\n",
    "    x = [1,2,3,4,5]\n",
    "    y = [7.5,9,10.4,9.1,7.8]\n",
    "    grau = 2\n",
    "    cord_x, cord_y = plano_cart(x, y)\n",
    "    plot_x, plot_y, an, c = f(cord_x, cord_y, grau)\n",
    "    plot_plano(plot_x, plot_y, x, y, grau)\n",
    "    eq_formatada(an,c)\n",
    "    formula(an,c,x)\n",
    "    \n",
    "    \n",
    "def plano_cart(listax:list, listay:list) -> list:\n",
    "    \"\"\"\n",
    "     Transforma a lista 1D em 2D\n",
    "    :param listax: Valores em x\n",
    "    :type listax: lista\n",
    "    :return : matriz em 2D\n",
    "    :rtype : lista\n",
    "    \"\"\"\n",
    "    if len(listax) == len(listay):\n",
    "        x = np.array([listax]).reshape(-1,1)\n",
    "        y = np.array([listay]).reshape(-1,1)\n",
    "    else:\n",
    "        print(\"Tamanho das listas está diferente\")\n",
    "    return (x, y)\n",
    "\n",
    "\n",
    "def f(x:list, y:list, grau:int) -> list:\n",
    "    \"\"\"\n",
    "    Regressão linear e polinomial\n",
    "    :param x,y: valores formatados em 2D\n",
    "    :param grau: inteiro\n",
    "    :return: lista com os valores polinomiais treinados com os valores \n",
    "            originais (x,y), e os coeficientes x^1,x^2,...x^n, \n",
    "            intercept que representa o valor sem a variável.\n",
    "    :rtype :  list \n",
    "    \"\"\"\n",
    "    poly_features = PolynomialFeatures(degree = grau, include_bias = False)\n",
    "    X_poly = poly_features.fit_transform(x)\n",
    "    model = LinearRegression()\n",
    "    model.fit(X_poly, y)\n",
    "    X_vals = np.linspace(np.min(x) - 1,np.max(x) + 1,100).reshape(-1,1)\n",
    "    X_vals_poly = poly_features.transform(X_vals)\n",
    "    y_vals = model.predict(X_vals_poly)\n",
    "    coeficientes = model.coef_\n",
    "    intercept = model.intercept_\n",
    "    return (X_vals, y_vals, coeficientes, intercept)\n",
    "\n",
    "\n",
    "def plot_plano(cord_x:list, cord_y:list,x:list, y:list, grau):\n",
    "    \"\"\"\n",
    "    Plota os gráficos das coordenadas e da regressão polinomial\n",
    "    :param cord_x: coordenadas x, já treinadas\n",
    "    :param cord_y: coordenadas y, já treinadas\n",
    "    :return : None\n",
    "    \"\"\"\n",
    "    if 0 < grau <9:\n",
    "        plt.scatter(x,y)\n",
    "        plt.plot(cord_x, cord_y, color=\"r\")\n",
    "        plt.ylim(np.min(cord_y) - 1, np.max(cord_y) + 1)\n",
    "        plt.grid(True, which = \"both\")\n",
    "        plt.show()\n",
    "    else:\n",
    "        plt.scatter(x,y)\n",
    "        plt.plot(cord_x, cord_y, color=\"r\")\n",
    "        plt.ylim(-20,50)\n",
    "        plt.grid(True, which = \"both\")\n",
    "        plt.show()\n",
    "\n",
    "    \n",
    "def eq_formatada(coeficientes:list, plano_corte:list) -> None:\n",
    "    \"\"\"\n",
    "    Formatação da Equação Polinomial encontrada\n",
    "    :param coeficientes: uma lista com os valores retornados já treinados\n",
    "    :param plano_corte: uma lista com um valor, termo independente\n",
    "    :return : None\n",
    "    \"\"\"\n",
    "    fold_x = []\n",
    "    for i in range(len(coeficientes[0])):\n",
    "        if coeficientes[0][i] == 0:\n",
    "            pass\n",
    "        else:\n",
    "            fold_x.append(coeficientes[0][i])\n",
    "    x = sym.symbols('x')\n",
    "    formula = ''\n",
    "    for i in range(len(fold_x)):\n",
    "        if fold_x[i] > 0 :\n",
    "            formula += f\" +{fold_x[i]}{x}**{i+1}\"\n",
    "        else:\n",
    "            formula += f\" {fold_x[i]}{x}**{i+1}\"\n",
    "    print(plano_corte[0],formula)\n",
    "\n",
    "    \n",
    "def formula(coeficientes:list, plano_corte:list, listax:list) -> None:\n",
    "    sym.init_printing(\"mathjax\")\n",
    "    x = sym.symbols(\"x\")\n",
    "    fold_dict = {}\n",
    "    formula = 0\n",
    "    fold_dict[0] = plano_corte[0] # no dic o 1º valor é o termo indep.\n",
    "    \n",
    "    for valor in range(len(coeficientes[0])):\n",
    "        # com essa iteração popula a formula \n",
    "        fold_dict[valor + 1] = coeficientes[0][valor]*x**(valor + 1)    \n",
    "    for value in fold_dict.values():\n",
    "        formula += value\n",
    "    dados_x = np.arange(min(listax), max(listax)+ .1,.01)\n",
    "    dados_y = []\n",
    "    \n",
    "    for i in dados_x:\n",
    "        dados_y.append(formula.subs(x, i))\n",
    "    \n",
    "    dados_dicionario_completo = dict()\n",
    "    for i in range(len(dados_x)):\n",
    "        dados_dicionario_completo[dados_x[i]] = dados_y[i]\n",
    "        #print(f\"{i+1}\\t{dados_x[i]:.3f} : {dados_y[i]:.4f}\")\n",
    "    m = max(dados_dicionario_completo, key=lambda x:dados_dicionario_completo[x])\n",
    "    print(f\"RPM {m}\\tKm {dados_dicionario_completo[m]}\")\n",
    "    \n",
    "    \n",
    "        \n",
    "if __name__==\"__main__\":\n",
    "    main()"
   ]
  },
  {
   "cell_type": "code",
   "execution_count": null,
   "id": "9c5d4888",
   "metadata": {},
   "outputs": [],
   "source": []
  }
 ],
 "metadata": {
  "kernelspec": {
   "display_name": "Python 3 (ipykernel)",
   "language": "python",
   "name": "python3"
  },
  "language_info": {
   "codemirror_mode": {
    "name": "ipython",
    "version": 3
   },
   "file_extension": ".py",
   "mimetype": "text/x-python",
   "name": "python",
   "nbconvert_exporter": "python",
   "pygments_lexer": "ipython3",
   "version": "3.11.7"
  }
 },
 "nbformat": 4,
 "nbformat_minor": 5
}
