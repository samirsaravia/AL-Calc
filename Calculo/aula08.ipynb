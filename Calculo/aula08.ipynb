{
 "cells": [
  {
   "cell_type": "code",
   "execution_count": 1,
   "id": "b266a810-03ec-43c2-8f81-388b0830f833",
   "metadata": {},
   "outputs": [],
   "source": [
    "from sympy import *"
   ]
  },
  {
   "cell_type": "code",
   "execution_count": 2,
   "id": "e9d4b8a3-f98e-45b5-83d9-10a70ee8d862",
   "metadata": {},
   "outputs": [],
   "source": [
    "x,t = symbols(\"x t\")"
   ]
  },
  {
   "cell_type": "code",
   "execution_count": 3,
   "id": "4936cfa7-50f3-4bd5-8662-fca81d2e48eb",
   "metadata": {},
   "outputs": [],
   "source": [
    "init_printing(\"mathjax\")"
   ]
  },
  {
   "cell_type": "code",
   "execution_count": 4,
   "id": "bf26dda6-631b-40e8-80bd-8345b43743b8",
   "metadata": {},
   "outputs": [
    {
     "data": {
      "image/png": "[encoded data removed]",
      "text/latex": [
       "$\\displaystyle x e^{2 x}$"
      ],
      "text/plain": [
       "   2⋅x\n",
       "x⋅ℯ   "
      ]
     },
     "execution_count": 4,
     "metadata": {},
     "output_type": "execute_result"
    }
   ],
   "source": [
    "e1 = x*exp(2*x)\n",
    "e1"
   ]
  },
  {
   "cell_type": "code",
   "execution_count": 5,
   "id": "4b1e4370-ceb0-4cf6-a676-1a9a9b315dad",
   "metadata": {},
   "outputs": [
    {
     "data": {
      "image/png": "[encoded data removed]",
      "text/latex": [
       "$\\displaystyle \\frac{\\left(2 x - 1\\right) e^{2 x}}{4}$"
      ],
      "text/plain": [
       "           2⋅x\n",
       "(2⋅x - 1)⋅ℯ   \n",
       "──────────────\n",
       "      4       "
      ]
     },
     "execution_count": 5,
     "metadata": {},
     "output_type": "execute_result"
    }
   ],
   "source": [
    "integrate(e1,x)"
   ]
  },
  {
   "cell_type": "code",
   "execution_count": 6,
   "id": "b45e4dc4-19dc-492d-a75e-438947d7c96b",
   "metadata": {},
   "outputs": [
    {
     "data": {
      "image/png": "[encoded data removed]",
      "text/latex": [
       "$\\displaystyle x \\cos{\\left(5 x \\right)}$"
      ],
      "text/plain": [
       "x⋅cos(5⋅x)"
      ]
     },
     "execution_count": 6,
     "metadata": {},
     "output_type": "execute_result"
    }
   ],
   "source": [
    "e2 = x*cos(5*x)\n",
    "e2"
   ]
  },
  {
   "cell_type": "code",
   "execution_count": 7,
   "id": "137b75d5-ceee-4064-b7b1-86187790dfb0",
   "metadata": {},
   "outputs": [
    {
     "data": {
      "image/png": "[encoded data removed]",
      "text/latex": [
       "$\\displaystyle \\frac{x \\sin{\\left(5 x \\right)}}{5} + \\frac{\\cos{\\left(5 x \\right)}}{25}$"
      ],
      "text/plain": [
       "x⋅sin(5⋅x)   cos(5⋅x)\n",
       "────────── + ────────\n",
       "    5           25   "
      ]
     },
     "execution_count": 7,
     "metadata": {},
     "output_type": "execute_result"
    }
   ],
   "source": [
    "integrate(e2,x)"
   ]
  },
  {
   "cell_type": "code",
   "execution_count": null,
   "id": "77de6fa1-4465-46c2-b6eb-709d842ef3b2",
   "metadata": {},
   "outputs": [],
   "source": []
  }
 ],
 "metadata": {
  "kernelspec": {
   "display_name": "Python 3 (ipykernel)",
   "language": "python",
   "name": "python3"
  },
  "language_info": {
   "codemirror_mode": {
    "name": "ipython",
    "version": 3
   },
   "file_extension": ".py",
   "mimetype": "text/x-python",
   "name": "python",
   "nbconvert_exporter": "python",
   "pygments_lexer": "ipython3",
   "version": "3.11.7"
  }
 },
 "nbformat": 4,
 "nbformat_minor": 5
}
