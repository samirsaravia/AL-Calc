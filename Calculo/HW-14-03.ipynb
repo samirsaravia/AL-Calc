{
 "cells": [
  {
   "cell_type": "markdown",
   "id": "4e059841",
   "metadata": {},
   "source": [
    "## Seja $$f(x) = 3x^2+2x-5$$"
   ]
  },
  {
   "cell_type": "markdown",
   "id": "88ba5229",
   "metadata": {},
   "source": [
    "* Represente graficamente esta função\n",
    "* Sabendo que $f'(x)= \\lim_{h\\to 0}\\frac{f(x+h)-f(x)}{h}$ , calcule f'(x)\n",
    "* Determine a reta tangente à curva f(x) em x=2 e represente-a no gráfico"
   ]
  },
  {
   "cell_type": "code",
   "execution_count": 1,
   "id": "1d3a7e9a",
   "metadata": {},
   "outputs": [],
   "source": [
    "import matplotlib.pyplot as plt\n",
    "from math import sqrt \n",
    "import sympy as sym\n",
    "import numpy as np"
   ]
  },
  {
   "cell_type": "code",
   "execution_count": 2,
   "id": "883d7700",
   "metadata": {},
   "outputs": [],
   "source": [
    "def main():\n",
    "    global x\n",
    "    a,b,c = 3,2,-5\n",
    "    x_list = np.linspace(-2,2, num=100)\n",
    "    y_list = f(x_list,a,b,c)\n",
    "    x_lista_reta = np.linspace(0.5,2.5,10)\n",
    "    y_lista_reta = f(x_lista_reta, 0,14,-17)\n",
    "    x1, x2 = bhaskara(a,b,c)\n",
    "    x = sym.symbols(\"x\")\n",
    "    v_x,v_y = vertices(a,b,c)\n",
    "    grafico(x_list,y_list, \"3x^2+2x-5\",(x1,x2), (0,0), v_x, v_y,x_lista_reta, y_lista_reta)"
   ]
  },
  {
   "cell_type": "code",
   "execution_count": 3,
   "id": "ee408431",
   "metadata": {},
   "outputs": [],
   "source": [
    "def f(x,a,b,c):\n",
    "    return a * x**2 + b * x + c"
   ]
  },
  {
   "cell_type": "code",
   "execution_count": 4,
   "id": "783f354e",
   "metadata": {},
   "outputs": [],
   "source": [
    "def third_deg(x, a, b, c, d):\n",
    "    return a*x**3+b*x**2+c*x+d"
   ]
  },
  {
   "cell_type": "code",
   "execution_count": 5,
   "id": "57c53209",
   "metadata": {},
   "outputs": [],
   "source": [
    "def bhaskara(a,b,c):\n",
    "    delta = (b*b) - (4*a*c)\n",
    "    if delta < 0 :\n",
    "        return \"Não tem raizes reais\"\n",
    "    elif delta == 0:\n",
    "        x = -b / (2*a)\n",
    "        return x\n",
    "    else:\n",
    "        raiz = sqrt(delta)\n",
    "        x1 = (-b + raiz)/(2*a)\n",
    "        x2 = (-b - raiz)/(2*a)\n",
    "        return [x1, x2]"
   ]
  },
  {
   "cell_type": "code",
   "execution_count": 6,
   "id": "c95cf566",
   "metadata": {},
   "outputs": [],
   "source": [
    "def grafico(xlista:list, ylista:list, formula:str,raiz_x=0,raiz_y=0, vert_x=0, vert_y=0,x_lista_reta=0, y_lista_reta=0) -> None:\n",
    "    plt.figure(num=0, dpi=120)\n",
    "    plt.plot(xlista, ylista, label=f\"${formula}$\")\n",
    "    plt.plot(x_lista_reta,y_lista_reta, color=\"magenta\", label=\"14x−17\")\n",
    "    plt.scatter(raiz_x,raiz_y, color=\"r\", label=f\"raizes{raiz_x}\")\n",
    "    plt.scatter(vert_x, vert_y, color=\"g\", label=f\"vertice [{vert_x:.2f},{vert_y:.2f}]\")\n",
    "    plt.scatter(2,11)\n",
    "    plt.legend()\n",
    "    plt.grid(True, which=\"both\")\n",
    "    #plt.savefig(\"mat.svg\",format=\"svg\")\n",
    "    plt.show()"
   ]
  },
  {
   "cell_type": "code",
   "execution_count": 7,
   "id": "b0f2c663",
   "metadata": {},
   "outputs": [],
   "source": [
    "def vertices(a,b,c):\n",
    "    x_vertice = -b/(2*a)\n",
    "    y_vertice = -(b**2 - (4*a*c))/(4*a)\n",
    "    return [x_vertice,y_vertice]"
   ]
  },
  {
   "cell_type": "code",
   "execution_count": 8,
   "id": "7b571e0b",
   "metadata": {},
   "outputs": [],
   "source": [
    "\n",
    "def res_probl(equacao,y=0):\n",
    "    sym.init_printing(\"mathjax\")    \n",
    "    equation = sym.Eq(equacao,y)\n",
    "    solution = sym.solve(equation,x)\n",
    "    return solution"
   ]
  },
  {
   "cell_type": "markdown",
   "id": "c8cb710f",
   "metadata": {},
   "source": [
    "## Calculando a derivada \n",
    "\n",
    "Pela definição $f'(x)= \\lim_{h\\to 0}\\frac{f(x+h)-f(x)}{h}$\n"
   ]
  },
  {
   "cell_type": "code",
   "execution_count": 9,
   "id": "1e4dd70d",
   "metadata": {},
   "outputs": [
    {
     "data": {
      "text/latex": [
       "$\\displaystyle 6 x + 2$"
      ],
      "text/plain": [
       "6*x + 2"
      ]
     },
     "execution_count": 9,
     "metadata": {},
     "output_type": "execute_result"
    }
   ],
   "source": [
    "g, y, h= sym.symbols(\"g y h\", cls=sym.Function)\n",
    "x, h = sym.symbols(\"x h\")\n",
    "u = sym.limit(((3*(x+h)**2+2*(x+h)-5) - (3*x**2+2*x-5)) / h, h,0)\n",
    "u"
   ]
  },
  {
   "cell_type": "code",
   "execution_count": 10,
   "id": "a88a4b33",
   "metadata": {},
   "outputs": [
    {
     "data": {
      "text/latex": [
       "$\\displaystyle 14$"
      ],
      "text/plain": [
       "14"
      ]
     },
     "execution_count": 10,
     "metadata": {},
     "output_type": "execute_result"
    }
   ],
   "source": [
    "u1 = u.subs(x,2)  # substituindo x=2, tornando-se o coeficiente angular no ponto x=2\n",
    "u1"
   ]
  },
  {
   "cell_type": "markdown",
   "id": "e31de214",
   "metadata": {},
   "source": [
    "Equação da reta"
   ]
  },
  {
   "cell_type": "code",
   "execution_count": 11,
   "id": "29780009",
   "metadata": {},
   "outputs": [
    {
     "data": {
      "text/latex": [
       "$\\displaystyle 14 x - 17$"
      ],
      "text/plain": [
       "14*x - 17"
      ]
     },
     "execution_count": 11,
     "metadata": {},
     "output_type": "execute_result"
    }
   ],
   "source": [
    "y = u1*(x - 2) + 11\n",
    "y"
   ]
  },
  {
   "cell_type": "code",
   "execution_count": 12,
   "id": "6712add9",
   "metadata": {},
   "outputs": [
    {
     "data": {
      "text/latex": [
       "$\\displaystyle 11$"
      ],
      "text/plain": [
       "11"
      ]
     },
     "execution_count": 12,
     "metadata": {},
     "output_type": "execute_result"
    }
   ],
   "source": [
    "y.subs(x,2)"
   ]
  },
  {
   "cell_type": "code",
   "execution_count": 13,
   "id": "27d18e57",
   "metadata": {},
   "outputs": [
    {
     "data": {
      "image/png": "[encoded data removed]",
      "text/plain": [
       "<Figure size 768x576 with 1 Axes>"
      ]
     },
     "metadata": {},
     "output_type": "display_data"
    }
   ],
   "source": [
    "if __name__==\"__main__\":\n",
    "    main()"
   ]
  },
  {
   "cell_type": "markdown",
   "id": "9860a2f2",
   "metadata": {},
   "source": [
    "Use a definição de derivada para mostrar que, se $f(x)= \\frac1x$ então, $f'(x)=-\\frac{1}{x^2}$"
   ]
  },
  {
   "cell_type": "code",
   "execution_count": 14,
   "id": "e5dcaf17",
   "metadata": {},
   "outputs": [
    {
     "data": {
      "text/latex": [
       "$\\displaystyle - \\frac{1}{x^{2}}$"
      ],
      "text/plain": [
       "-1/x**2"
      ]
     },
     "execution_count": 14,
     "metadata": {},
     "output_type": "execute_result"
    }
   ],
   "source": [
    "g = 1/x\n",
    "sym.diff(g,x)  #usando a regra da potência"
   ]
  },
  {
   "cell_type": "code",
   "execution_count": 15,
   "id": "1120813d",
   "metadata": {},
   "outputs": [
    {
     "data": {
      "text/latex": [
       "$\\displaystyle - \\frac{1}{x^{2}}$"
      ],
      "text/plain": [
       "-1/x**2"
      ]
     },
     "execution_count": 15,
     "metadata": {},
     "output_type": "execute_result"
    }
   ],
   "source": [
    "sym.limit(((1/(x+h))-(1/x))/h,h,0)  #usando a definição de limite"
   ]
  },
  {
   "cell_type": "markdown",
   "id": "ff09629c",
   "metadata": {},
   "source": [
    "$f(x)=\\frac1x$\n",
    "$$f'(x)= \\lim_{h\\to0}\\frac{f(x+h)-f(x)}{h}$$\n",
    "\n",
    "\n",
    "$$\\lim_{h\\to0}\\frac{\\frac{1}{x+h}-\\frac1x}{h}$$\n",
    "\n",
    "\n",
    "$$\\lim_{h\\to0}\\frac{\\frac{x - (x+h)}{(x+h)(x)}}{h}$$\n",
    "\n",
    "\n",
    "$$\\lim_{h\\to0}\\frac{\\frac{x-x-h}{x^2+xh}}{h}$$\n",
    "\n",
    "\n",
    "$$\\lim_{h\\to0}\\frac{-h}{x^2+xh}\\times \\frac1h$$\n",
    "\n",
    "\n",
    "$$\\lim_{h\\to0}\\frac{-1}{x^2+xh}$$"
   ]
  },
  {
   "cell_type": "markdown",
   "id": "e1a76643",
   "metadata": {},
   "source": [
    "## 2 $f(x)=3x^3-6x^2+2$\n",
    "A curva $f(x)=3x^3-6x^2+2$ tem alguma tangente horizontal, ou seja, com $f'(x)=0$?\n",
    "\n",
    "Se tiver, mostre algebricamente onde está"
   ]
  },
  {
   "cell_type": "code",
   "execution_count": 16,
   "id": "ef6b8740",
   "metadata": {},
   "outputs": [],
   "source": [
    "r = sym.symbols(\"r\", cls=sym.Function)\n",
    "r = 3*x**3-6*x**2+2  # função f(x) = r(x)"
   ]
  },
  {
   "cell_type": "code",
   "execution_count": 17,
   "id": "3db9aea4",
   "metadata": {},
   "outputs": [
    {
     "data": {
      "text/latex": [
       "$\\displaystyle 9 x^{2} - 12 x$"
      ],
      "text/plain": [
       "9*x**2 - 12*x"
      ]
     },
     "execution_count": 17,
     "metadata": {},
     "output_type": "execute_result"
    }
   ],
   "source": [
    "sym.diff(3*x**3-6*x**2+2,x)  # derivada, ou seja, f'(x)"
   ]
  },
  {
   "cell_type": "code",
   "execution_count": 18,
   "id": "0c734b05",
   "metadata": {},
   "outputs": [],
   "source": [
    "x1,x2 = bhaskara(9,-12,0)"
   ]
  },
  {
   "cell_type": "code",
   "execution_count": 19,
   "id": "ecca3ef7",
   "metadata": {},
   "outputs": [],
   "source": [
    "y1 = r.subs(x,1.33)   #[1.33,-1.555489]\n",
    "y2 = r.subs(x,0)  #[0,2]"
   ]
  },
  {
   "cell_type": "code",
   "execution_count": 20,
   "id": "e48804ff",
   "metadata": {},
   "outputs": [],
   "source": [
    "lx_seg = np.linspace(-0.5,1.5,15)\n",
    "ly_seg = third_deg(lx_seg,0,9,-12,0)"
   ]
  },
  {
   "cell_type": "code",
   "execution_count": 21,
   "id": "611cad5b",
   "metadata": {},
   "outputs": [],
   "source": [
    "x_lista2 = np.linspace(-0.7,2,50)\n",
    "y_lista2 = third_deg(x_lista2,3,-6,0,2)"
   ]
  },
  {
   "cell_type": "code",
   "execution_count": 22,
   "id": "b35c2055",
   "metadata": {},
   "outputs": [
    {
     "data": {
      "image/png": "[encoded data removed]",
      "text/plain": [
       "<Figure size 768x576 with 1 Axes>"
      ]
     },
     "metadata": {},
     "output_type": "display_data"
    }
   ],
   "source": [
    "plt.figure(num=0, dpi=120)\n",
    "plt.grid(True, which=\"both\")\n",
    "plt.plot(x_lista2, y_lista2, label=f\"$3x^3-6x^2+2$\")\n",
    "plt.plot(lx_seg, ly_seg, color=\"y\", label=f\"$9x^2-12x$\")\n",
    "\n",
    "plt.scatter(x1,y1, color=\"r\",label=f\"[{x1:.1f},{y1:.1f}]\")\n",
    "plt.scatter(x2,y2, color=\"b\", label=f\"[{x2:.1f},{y2:.1f}]\")\n",
    "plt.legend()\n",
    "plt.show()"
   ]
  },
  {
   "cell_type": "markdown",
   "id": "298d24c0",
   "metadata": {},
   "source": [
    "## 3. $f(x)=x^2+1$\n",
    "\n",
    "Faça um esboço do gráfico da função $f(x)=x^2+1$ e de suas retas tangentes nos pontos de abscissas x=1,x=-2"
   ]
  },
  {
   "cell_type": "code",
   "execution_count": 34,
   "id": "dd80e9e6",
   "metadata": {},
   "outputs": [],
   "source": [
    "fun_third = x**2+1"
   ]
  },
  {
   "cell_type": "code",
   "execution_count": 44,
   "id": "1e0b2daf",
   "metadata": {},
   "outputs": [],
   "source": [
    "der_third = sym.diff(fun_third,x)  # derivada de x²+1"
   ]
  },
  {
   "cell_type": "markdown",
   "id": "c6d1792d",
   "metadata": {},
   "source": [
    "Substituindo na derivada, $f'(x)=2x$ , x=1,x=-2"
   ]
  },
  {
   "cell_type": "code",
   "execution_count": 48,
   "id": "7eb4c201",
   "metadata": {},
   "outputs": [],
   "source": [
    "y1_third = der_third.subs(x,1) #2\n",
    "y2_third = der_third.subs(x,-2)  #-4"
   ]
  },
  {
   "cell_type": "markdown",
   "id": "a166fc9e",
   "metadata": {},
   "source": [
    "Para x = 1"
   ]
  },
  {
   "cell_type": "code",
   "execution_count": 49,
   "id": "2720c6b4",
   "metadata": {},
   "outputs": [
    {
     "name": "stdout",
     "output_type": "stream",
     "text": [
      "2\n"
     ]
    }
   ],
   "source": [
    "print(fun_third.subs(x,1))"
   ]
  },
  {
   "cell_type": "markdown",
   "id": "2a2d0229",
   "metadata": {},
   "source": [
    "$$y-y_0=m(x-x_0)$$\n",
    "$$y-2=2(x-1)$$\n",
    "$$y = 2x -2 +2$$\n",
    "$$y = 2x$$"
   ]
  },
  {
   "cell_type": "markdown",
   "id": "e50e4498",
   "metadata": {},
   "source": [
    "Para x = -2"
   ]
  },
  {
   "cell_type": "code",
   "execution_count": 46,
   "id": "c7aa4c6d",
   "metadata": {},
   "outputs": [
    {
     "name": "stdout",
     "output_type": "stream",
     "text": [
      "5\n"
     ]
    }
   ],
   "source": [
    "print(fun_third.subs(x,-2))"
   ]
  },
  {
   "cell_type": "markdown",
   "id": "28bc0c01",
   "metadata": {},
   "source": [
    "$$y-y_0=m(x-x_0)$$\n",
    "$$y - 5=-4(x -(-2))$$\n",
    "$$y = -4(x + 2)+5$$\n",
    "$$y = -4x -8 + 5$$\n",
    "$$y = -4x -3$$"
   ]
  },
  {
   "cell_type": "code",
   "execution_count": 119,
   "id": "c4de70d3",
   "metadata": {},
   "outputs": [],
   "source": [
    "x_third = np.linspace(-2.2,1.5,50)\n",
    "y_third = third_deg(x_third,0,1,0,1)\n",
    "\n",
    "x_third_reta1= np.linspace(-0.2,1.5,10)\n",
    "x_third_reta2 = np.linspace(-2.2,-1,10)\n",
    "y_third_reta1 = third_deg(x_third_reta1,0,0,2,0)\n",
    "y_third_reta2 = third_deg(x_third_reta2,0,0,-4,-3)"
   ]
  },
  {
   "cell_type": "code",
   "execution_count": 120,
   "id": "d9d93815",
   "metadata": {},
   "outputs": [
    {
     "data": {
      "image/png": "[encoded data removed]",
      "text/plain": [
       "<Figure size 768x576 with 1 Axes>"
      ]
     },
     "metadata": {},
     "output_type": "display_data"
    }
   ],
   "source": [
    "plt.figure(num=0, dpi=120)\n",
    "plt.plot(x_third, y_third, label=f\"$x^2+1$\") # equação\n",
    "plt.plot(x_third_reta1, y_third_reta1, color=\"g\", label=\"y=2x\") #tangente\n",
    "plt.plot(x_third_reta2, y_third_reta2, label=\"y=-4x-3\")  #tangente\n",
    "plt.grid(True, which=\"both\")\n",
    "plt.legend()\n",
    "plt.show()"
   ]
  },
  {
   "cell_type": "code",
   "execution_count": 121,
   "id": "ff9f9b1d",
   "metadata": {},
   "outputs": [
    {
     "data": {
      "text/plain": [
       "'Não tem raizes reais'"
      ]
     },
     "execution_count": 121,
     "metadata": {},
     "output_type": "execute_result"
    }
   ],
   "source": [
    "bhaskara(1,0,1)"
   ]
  },
  {
   "cell_type": "code",
   "execution_count": 122,
   "id": "a110f3f2",
   "metadata": {},
   "outputs": [
    {
     "data": {
      "image/png": "[encoded data removed]",
      "text/latex": [
       "$\\displaystyle \\left[ - i, \\  i\\right]$"
      ],
      "text/plain": [
       "[-ⅈ, ⅈ]"
      ]
     },
     "execution_count": 122,
     "metadata": {},
     "output_type": "execute_result"
    }
   ],
   "source": [
    "res_probl(x**2+1) # as raizes"
   ]
  },
  {
   "cell_type": "markdown",
   "id": "9822da6a",
   "metadata": {},
   "source": [
    "## 4.  Derivadas\n",
    "\n",
    "Determine a derivada das funções a seguir. Pode ser feito o uso das regras de diferenciação\n",
    "\n",
    "* $y=x^2+x+8$\n",
    "* $y=5t^3-3t^5$\n",
    "* $g(x)=\\frac{4x^3}{3}-4$\n",
    "* $y=3x^{-2}-\\frac1x$"
   ]
  },
  {
   "cell_type": "markdown",
   "id": "6b2b2818",
   "metadata": {},
   "source": [
    "$$y=x^2+x+8$$"
   ]
  },
  {
   "cell_type": "code",
   "execution_count": 124,
   "id": "907152f5",
   "metadata": {},
   "outputs": [
    {
     "data": {
      "image/png": "[encoded data removed]",
      "text/latex": [
       "$\\displaystyle 2 x + 1$"
      ],
      "text/plain": [
       "2⋅x + 1"
      ]
     },
     "execution_count": 124,
     "metadata": {},
     "output_type": "execute_result"
    }
   ],
   "source": [
    "sym.diff(x**2+x+8,x)"
   ]
  },
  {
   "cell_type": "markdown",
   "id": "44bddf72",
   "metadata": {},
   "source": [
    "$$\\lim_{h\\to0}\\frac{f(x+h)-f(x)}{h}$$\n",
    "\n",
    "$$\\lim_{h\\to0}\\frac{((x+h)^2+(x+h)+8)- (x^2+x+8)}{h}$$\n",
    "\n",
    "$$\\lim_{h\\to0}\\frac{((x^2+2xh+h^2)+ x+h+8)- x^2-x-8)}{h}$$\n",
    "\n",
    "\n",
    "$$\\lim_{h\\to0}\\frac{2xh+h^2+h}{h}$$\n",
    "\n",
    "$$\\lim_{h\\to0}\\frac{h(2x+h+1)}{h}$$\n",
    "\n",
    "$$\\lim_{h\\to0} 2x+h+1$$\n",
    "\n"
   ]
  },
  {
   "cell_type": "markdown",
   "id": "58c5f6ff",
   "metadata": {},
   "source": [
    "$$y=5t^3-3t^5$$"
   ]
  },
  {
   "cell_type": "code",
   "execution_count": 130,
   "id": "4da6c0c8",
   "metadata": {},
   "outputs": [],
   "source": [
    "t = sym.symbols(\"t\")"
   ]
  },
  {
   "cell_type": "code",
   "execution_count": 133,
   "id": "5f0d40cd",
   "metadata": {},
   "outputs": [
    {
     "data": {
      "image/png": "[encoded data removed]",
      "text/latex": [
       "$\\displaystyle - 5 \\cdot 3^{t^{5}} t^{4} \\log{\\left(3 \\right)} + 15 t^{2}$"
      ],
      "text/plain": [
       "     ⎛ 5⎞                  \n",
       "     ⎝t ⎠  4              2\n",
       "- 5⋅3    ⋅t ⋅log(3) + 15⋅t "
      ]
     },
     "execution_count": 133,
     "metadata": {},
     "output_type": "execute_result"
    }
   ],
   "source": [
    "sym.diff(5*t**3-3**t**5,t)"
   ]
  },
  {
   "cell_type": "code",
   "execution_count": 135,
   "id": "c1ddd060",
   "metadata": {},
   "outputs": [
    {
     "data": {
      "image/png": "[encoded data removed]",
      "text/latex": [
       "$\\displaystyle - 15 t^{4} + 15 t^{2}$"
      ],
      "text/plain": [
       "      4       2\n",
       "- 15⋅t  + 15⋅t "
      ]
     },
     "execution_count": 135,
     "metadata": {},
     "output_type": "execute_result"
    }
   ],
   "source": [
    "sym.limit(((5*(t+h)**3-3*(t+h)**5)-(5*t**3-3*t**5))/h, h,0)"
   ]
  },
  {
   "cell_type": "markdown",
   "id": "96a3a773",
   "metadata": {},
   "source": [
    "$$g(x)=\\frac{4x^3}{3}-4$$"
   ]
  },
  {
   "cell_type": "code",
   "execution_count": 137,
   "id": "5bc261a5",
   "metadata": {},
   "outputs": [
    {
     "data": {
      "image/png": "[encoded data removed]",
      "text/latex": [
       "$\\displaystyle 4 x^{2}$"
      ],
      "text/plain": [
       "   2\n",
       "4⋅x "
      ]
     },
     "execution_count": 137,
     "metadata": {},
     "output_type": "execute_result"
    }
   ],
   "source": [
    "sym.diff(((4*x**3)/3)-4,x)"
   ]
  },
  {
   "cell_type": "code",
   "execution_count": 146,
   "id": "406494ad",
   "metadata": {},
   "outputs": [
    {
     "data": {
      "image/png": "[encoded data removed]",
      "text/latex": [
       "$\\displaystyle 4 x^{2}$"
      ],
      "text/plain": [
       "   2\n",
       "4⋅x "
      ]
     },
     "execution_count": 146,
     "metadata": {},
     "output_type": "execute_result"
    }
   ],
   "source": [
    "sym.limit(((((4*(x+h)**3)/3)-4)-(((4*x**3)/3)-4))/h, h,0)"
   ]
  },
  {
   "cell_type": "markdown",
   "id": "ea65638d",
   "metadata": {},
   "source": [
    "$$y=3x^{-2}-\\frac1x$$"
   ]
  },
  {
   "cell_type": "code",
   "execution_count": 147,
   "id": "2f679259",
   "metadata": {},
   "outputs": [
    {
     "data": {
      "image/png": "[encoded data removed]",
      "text/latex": [
       "$\\displaystyle - \\frac{1}{x} + \\frac{3}{x^{2}}$"
      ],
      "text/plain": [
       "  1   3 \n",
       "- ─ + ──\n",
       "  x    2\n",
       "      x "
      ]
     },
     "execution_count": 147,
     "metadata": {},
     "output_type": "execute_result"
    }
   ],
   "source": [
    "3*x**(-2)-(1/x)"
   ]
  },
  {
   "cell_type": "code",
   "execution_count": null,
   "id": "ddf1836e",
   "metadata": {},
   "outputs": [],
   "source": []
  }
 ],
 "metadata": {
  "kernelspec": {
   "display_name": "Python 3 (ipykernel)",
   "language": "python",
   "name": "python3"
  },
  "language_info": {
   "codemirror_mode": {
    "name": "ipython",
    "version": 3
   },
   "file_extension": ".py",
   "mimetype": "text/x-python",
   "name": "python",
   "nbconvert_exporter": "python",
   "pygments_lexer": "ipython3",
   "version": "3.11.7"
  }
 },
 "nbformat": 4,
 "nbformat_minor": 5
}
