{
 "cells": [
  {
   "cell_type": "code",
   "execution_count": 1,
   "id": "eae91dd7-c4b9-4172-81ab-20e794fec0e0",
   "metadata": {},
   "outputs": [],
   "source": [
    "import sympy as sym\n",
    "from sympy import *"
   ]
  },
  {
   "cell_type": "code",
   "execution_count": 2,
   "id": "b83c634d-f092-4ad4-a23f-e95fc45e45f3",
   "metadata": {},
   "outputs": [],
   "source": [
    "sym.init_printing(\"mathjax\")\n",
    "x = sym.symbols('x')"
   ]
  },
  {
   "cell_type": "code",
   "execution_count": 3,
   "id": "091f0606-05f0-4746-8efa-d4a96fe28d1a",
   "metadata": {},
   "outputs": [],
   "source": [
    "h, f, g = sym.symbols(\"h f g\", cls=sym.Function)   # tem que definir que f e g são funções\n",
    "g = sym.sin(x)\n",
    "f = sym.cos(x)\n",
    "h = g/f"
   ]
  },
  {
   "cell_type": "code",
   "execution_count": 4,
   "id": "d914b12f-b1bd-4228-9b38-89ad6aa562fe",
   "metadata": {},
   "outputs": [
    {
     "data": {
      "image/png": "[encoded data removed]",
      "text/latex": [
       "$\\displaystyle \\frac{\\sin^{2}{\\left(x \\right)}}{\\cos^{2}{\\left(x \\right)}} + 1$"
      ],
      "text/plain": [
       "   2       \n",
       "sin (x)    \n",
       "─────── + 1\n",
       "   2       \n",
       "cos (x)    "
      ]
     },
     "execution_count": 4,
     "metadata": {},
     "output_type": "execute_result"
    }
   ],
   "source": [
    "sym.diff(h, x)"
   ]
  },
  {
   "cell_type": "code",
   "execution_count": 5,
   "id": "66d76301-1081-4ae3-ae7b-d61d403320ec",
   "metadata": {},
   "outputs": [
    {
     "data": {
      "image/png": "[encoded data removed]",
      "text/latex": [
       "$\\displaystyle \\frac{\\partial^{n}}{\\partial x^{n}} \\left(a x + b\\right)^{m}$"
      ],
      "text/plain": [
       "  n            \n",
       " ∂ ⎛         m⎞\n",
       "───⎝(a⋅x + b) ⎠\n",
       "  n            \n",
       "∂x             "
      ]
     },
     "execution_count": 5,
     "metadata": {},
     "output_type": "execute_result"
    }
   ],
   "source": [
    "m, n, a, b = sym.symbols('m n a b')\n",
    "expr = (a*x + b)**m\n",
    "expr.diff((x, n))"
   ]
  },
  {
   "cell_type": "code",
   "execution_count": 6,
   "id": "bedafcd3-f14f-4ca4-b40f-5abac8c15971",
   "metadata": {},
   "outputs": [
    {
     "data": {
      "image/png": "[encoded data removed]",
      "text/latex": [
       "$\\displaystyle - \\cot^{2}{\\left(x \\right)} - 1$"
      ],
      "text/plain": [
       "     2       \n",
       "- cot (x) - 1"
      ]
     },
     "execution_count": 6,
     "metadata": {},
     "output_type": "execute_result"
    }
   ],
   "source": [
    "f = sym.cot(x)\n",
    "sym.diff(f,x)"
   ]
  },
  {
   "cell_type": "code",
   "execution_count": 7,
   "id": "7bd52cba-bbd5-4089-8f1a-00e82934eace",
   "metadata": {},
   "outputs": [
    {
     "data": {
      "image/png": "[encoded data removed]",
      "text/latex": [
       "$\\displaystyle \\frac{\\cos{\\left(x \\right)}}{\\sin{\\left(x \\right)}}$"
      ],
      "text/plain": [
       "cos(x)\n",
       "──────\n",
       "sin(x)"
      ]
     },
     "execution_count": 7,
     "metadata": {},
     "output_type": "execute_result"
    }
   ],
   "source": [
    "f  = 1/ (sin(x)/cos(x))\n",
    "f"
   ]
  },
  {
   "cell_type": "code",
   "execution_count": 8,
   "id": "57d89927-5403-4df4-be75-2fba6bd37de1",
   "metadata": {},
   "outputs": [
    {
     "data": {
      "image/png": "[encoded data removed]",
      "text/latex": [
       "$\\displaystyle -1 - \\frac{\\cos^{2}{\\left(x \\right)}}{\\sin^{2}{\\left(x \\right)}}$"
      ],
      "text/plain": [
       "        2   \n",
       "     cos (x)\n",
       "-1 - ───────\n",
       "        2   \n",
       "     sin (x)"
      ]
     },
     "execution_count": 8,
     "metadata": {},
     "output_type": "execute_result"
    }
   ],
   "source": [
    "diff(f,x)"
   ]
  },
  {
   "cell_type": "markdown",
   "id": "532677df-b767-4e5e-9e1c-fba71da4e61e",
   "metadata": {},
   "source": [
    "## Regras de diferenciação"
   ]
  },
  {
   "cell_type": "code",
   "execution_count": 36,
   "id": "c752fa05-0d63-4122-9007-97b177d6bf37",
   "metadata": {},
   "outputs": [
    {
     "data": {
      "image/png": "[encoded data removed]",
      "text/latex": [
       "$\\displaystyle \\frac{\\sec{\\left(x \\right)}}{\\tan{\\left(x \\right)} + 1}$"
      ],
      "text/plain": [
       "  sec(x)  \n",
       "──────────\n",
       "tan(x) + 1"
      ]
     },
     "execution_count": 36,
     "metadata": {},
     "output_type": "execute_result"
    }
   ],
   "source": [
    "a1 = sec(x)/(1+tan(x))\n",
    "a1"
   ]
  },
  {
   "cell_type": "code",
   "execution_count": 37,
   "id": "18b7e570-41c8-4f9b-862b-c5210b4eb55a",
   "metadata": {},
   "outputs": [
    {
     "data": {
      "image/png": "[encoded data removed]",
      "text/latex": [
       "$\\displaystyle \\frac{\\tan{\\left(x \\right)} \\sec{\\left(x \\right)}}{\\tan{\\left(x \\right)} + 1} + \\frac{\\left(- \\tan^{2}{\\left(x \\right)} - 1\\right) \\sec{\\left(x \\right)}}{\\left(\\tan{\\left(x \\right)} + 1\\right)^{2}}$"
      ],
      "text/plain": [
       "                ⎛     2       ⎞       \n",
       "tan(x)⋅sec(x)   ⎝- tan (x) - 1⎠⋅sec(x)\n",
       "───────────── + ──────────────────────\n",
       "  tan(x) + 1                    2     \n",
       "                    (tan(x) + 1)      "
      ]
     },
     "execution_count": 37,
     "metadata": {},
     "output_type": "execute_result"
    }
   ],
   "source": [
    "diff(a1,x)"
   ]
  },
  {
   "cell_type": "code",
   "execution_count": 38,
   "id": "f09b7935-a1e3-44bf-b156-ecc7f592de45",
   "metadata": {},
   "outputs": [
    {
     "data": {
      "image/png": "[encoded data removed]",
      "text/latex": [
       "$\\displaystyle x \\sin{\\left(x \\right)}$"
      ],
      "text/plain": [
       "x⋅sin(x)"
      ]
     },
     "execution_count": 38,
     "metadata": {},
     "output_type": "execute_result"
    }
   ],
   "source": [
    "a2 = x*sin(x)\n",
    "a2"
   ]
  },
  {
   "cell_type": "code",
   "execution_count": 39,
   "id": "c8e31357-5879-4499-a8c7-45dab5b006ec",
   "metadata": {},
   "outputs": [
    {
     "data": {
      "image/png": "[encoded data removed]",
      "text/latex": [
       "$\\displaystyle x \\cos{\\left(x \\right)} + \\sin{\\left(x \\right)}$"
      ],
      "text/plain": [
       "x⋅cos(x) + sin(x)"
      ]
     },
     "execution_count": 39,
     "metadata": {},
     "output_type": "execute_result"
    }
   ],
   "source": [
    "diff(a2,x)"
   ]
  },
  {
   "cell_type": "code",
   "execution_count": 40,
   "id": "63f49707-0e3b-4007-921a-5eea25ec7661",
   "metadata": {},
   "outputs": [
    {
     "data": {
      "image/png": "[encoded data removed]",
      "text/latex": [
       "$\\displaystyle e^{x}$"
      ],
      "text/plain": [
       " x\n",
       "ℯ "
      ]
     },
     "execution_count": 40,
     "metadata": {},
     "output_type": "execute_result"
    }
   ],
   "source": [
    "e1 = exp(x)\n",
    "e1"
   ]
  },
  {
   "cell_type": "code",
   "execution_count": 41,
   "id": "b05f60ec-4fcf-434b-8c74-fd802e2d9715",
   "metadata": {},
   "outputs": [
    {
     "data": {
      "image/png": "[encoded data removed]",
      "text/latex": [
       "$\\displaystyle e^{x}$"
      ],
      "text/plain": [
       " x\n",
       "ℯ "
      ]
     },
     "execution_count": 41,
     "metadata": {},
     "output_type": "execute_result"
    }
   ],
   "source": [
    "diff(e1)"
   ]
  },
  {
   "cell_type": "code",
   "execution_count": 42,
   "id": "a3084df4-c946-4270-8e62-7ecdb66ef408",
   "metadata": {},
   "outputs": [
    {
     "data": {
      "image/png": "[encoded data removed]",
      "text/latex": [
       "$\\displaystyle 3^{x}$"
      ],
      "text/plain": [
       " x\n",
       "3 "
      ]
     },
     "execution_count": 42,
     "metadata": {},
     "output_type": "execute_result"
    }
   ],
   "source": [
    "e2 = 3**x\n",
    "e2"
   ]
  },
  {
   "cell_type": "code",
   "execution_count": 43,
   "id": "9e709ceb-6714-4b5d-9af5-8bec80356700",
   "metadata": {},
   "outputs": [
    {
     "data": {
      "image/png": "[encoded data removed]",
      "text/latex": [
       "$\\displaystyle 3^{x} \\log{\\left(3 \\right)}$"
      ],
      "text/plain": [
       " x       \n",
       "3 ⋅log(3)"
      ]
     },
     "execution_count": 43,
     "metadata": {},
     "output_type": "execute_result"
    }
   ],
   "source": [
    "diff(e2)"
   ]
  },
  {
   "cell_type": "code",
   "execution_count": 44,
   "id": "2d7b7d58-8f14-47e4-88a1-491bd0a24fbe",
   "metadata": {},
   "outputs": [
    {
     "data": {
      "image/png": "[encoded data removed]",
      "text/latex": [
       "$\\displaystyle \\left(x^{3} + 2 x\\right) e^{x}$"
      ],
      "text/plain": [
       "⎛ 3      ⎞  x\n",
       "⎝x  + 2⋅x⎠⋅ℯ "
      ]
     },
     "execution_count": 44,
     "metadata": {},
     "output_type": "execute_result"
    }
   ],
   "source": [
    "e3 = (x**3+2*x)*exp(x)\n",
    "e3"
   ]
  },
  {
   "cell_type": "code",
   "execution_count": 45,
   "id": "29a79e0d-83fe-4dfd-8aa3-7e08b253327e",
   "metadata": {},
   "outputs": [
    {
     "data": {
      "image/png": "[encoded data removed]",
      "text/latex": [
       "$\\displaystyle \\left(3 x^{2} + 2\\right) e^{x} + \\left(x^{3} + 2 x\\right) e^{x}$"
      ],
      "text/plain": [
       "⎛   2    ⎞  x   ⎛ 3      ⎞  x\n",
       "⎝3⋅x  + 2⎠⋅ℯ  + ⎝x  + 2⋅x⎠⋅ℯ "
      ]
     },
     "execution_count": 45,
     "metadata": {},
     "output_type": "execute_result"
    }
   ],
   "source": [
    "diff(e3,x)"
   ]
  },
  {
   "cell_type": "code",
   "execution_count": 46,
   "id": "35cb83b9-86fd-4b4a-92f4-d37bae7c6472",
   "metadata": {},
   "outputs": [
    {
     "data": {
      "image/png": "[encoded data removed]",
      "text/latex": [
       "$\\displaystyle x^{4} e^{x}$"
      ],
      "text/plain": [
       " 4  x\n",
       "x ⋅ℯ "
      ]
     },
     "execution_count": 46,
     "metadata": {},
     "output_type": "execute_result"
    }
   ],
   "source": [
    "e4 = x**4*exp(x)\n",
    "e4"
   ]
  },
  {
   "cell_type": "code",
   "execution_count": 48,
   "id": "d773d219-9309-497c-86a2-a8f184778ac4",
   "metadata": {},
   "outputs": [
    {
     "data": {
      "image/png": "[encoded data removed]",
      "text/latex": [
       "$\\displaystyle x^{4} e^{x} + 4 x^{3} e^{x}$"
      ],
      "text/plain": [
       " 4  x      3  x\n",
       "x ⋅ℯ  + 4⋅x ⋅ℯ "
      ]
     },
     "execution_count": 48,
     "metadata": {},
     "output_type": "execute_result"
    }
   ],
   "source": [
    "diff(e4,x)"
   ]
  },
  {
   "cell_type": "code",
   "execution_count": 49,
   "id": "2a48d08e-bc4e-4c76-bbc1-7893e52902e4",
   "metadata": {},
   "outputs": [
    {
     "data": {
      "image/png": "[encoded data removed]",
      "text/latex": [
       "$\\displaystyle 2^{x} + 5 x$"
      ],
      "text/plain": [
       " x      \n",
       "2  + 5⋅x"
      ]
     },
     "execution_count": 49,
     "metadata": {},
     "output_type": "execute_result"
    }
   ],
   "source": [
    "e5 = 2**x+5*x\n",
    "e5"
   ]
  },
  {
   "cell_type": "code",
   "execution_count": 50,
   "id": "34d01321-ab6a-423c-9219-b6b0f5c12dab",
   "metadata": {},
   "outputs": [
    {
     "data": {
      "image/png": "[encoded data removed]",
      "text/latex": [
       "$\\displaystyle 2^{x} \\log{\\left(2 \\right)} + 5$"
      ],
      "text/plain": [
       " x           \n",
       "2 ⋅log(2) + 5"
      ]
     },
     "execution_count": 50,
     "metadata": {},
     "output_type": "execute_result"
    }
   ],
   "source": [
    "diff(e5,x)"
   ]
  },
  {
   "cell_type": "code",
   "execution_count": 51,
   "id": "e72ad544-4beb-49a8-8991-25deb58a9c31",
   "metadata": {},
   "outputs": [
    {
     "data": {
      "image/png": "[encoded data removed]",
      "text/latex": [
       "$\\displaystyle \\frac{e^{x}}{x^{2}}$"
      ],
      "text/plain": [
       " x\n",
       "ℯ \n",
       "──\n",
       " 2\n",
       "x "
      ]
     },
     "execution_count": 51,
     "metadata": {},
     "output_type": "execute_result"
    }
   ],
   "source": [
    "e6 = exp(x)/x**2\n",
    "e6"
   ]
  },
  {
   "cell_type": "code",
   "execution_count": 52,
   "id": "402a2cff-e31a-4fec-badf-13af63e14fd2",
   "metadata": {},
   "outputs": [
    {
     "data": {
      "image/png": "[encoded data removed]",
      "text/latex": [
       "$\\displaystyle \\frac{e^{x}}{x^{2}} - \\frac{2 e^{x}}{x^{3}}$"
      ],
      "text/plain": [
       " x      x\n",
       "ℯ    2⋅ℯ \n",
       "── - ────\n",
       " 2     3 \n",
       "x     x  "
      ]
     },
     "execution_count": 52,
     "metadata": {},
     "output_type": "execute_result"
    }
   ],
   "source": [
    "diff(e6,x)"
   ]
  },
  {
   "cell_type": "code",
   "execution_count": null,
   "id": "8928c439-f874-47da-ade9-413cbda36e18",
   "metadata": {},
   "outputs": [],
   "source": []
  }
 ],
 "metadata": {
  "kernelspec": {
   "display_name": "Python 3 (ipykernel)",
   "language": "python",
   "name": "python3"
  },
  "language_info": {
   "codemirror_mode": {
    "name": "ipython",
    "version": 3
   },
   "file_extension": ".py",
   "mimetype": "text/x-python",
   "name": "python",
   "nbconvert_exporter": "python",
   "pygments_lexer": "ipython3",
   "version": "3.11.7"
  }
 },
 "nbformat": 4,
 "nbformat_minor": 5
}
