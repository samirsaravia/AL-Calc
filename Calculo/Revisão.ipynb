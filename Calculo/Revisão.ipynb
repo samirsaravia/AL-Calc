{
 "cells": [
  {
   "cell_type": "code",
   "execution_count": 31,
   "id": "eae91dd7-c4b9-4172-81ab-20e794fec0e0",
   "metadata": {},
   "outputs": [],
   "source": [
    "import sympy as sym\n",
    "from sympy import *"
   ]
  },
  {
   "cell_type": "code",
   "execution_count": 8,
   "id": "b83c634d-f092-4ad4-a23f-e95fc45e45f3",
   "metadata": {},
   "outputs": [],
   "source": [
    "smp.init_printing(\"mathjax\")\n",
    "x = sym.symbols('x')"
   ]
  },
  {
   "cell_type": "code",
   "execution_count": 16,
   "id": "091f0606-05f0-4746-8efa-d4a96fe28d1a",
   "metadata": {},
   "outputs": [],
   "source": [
    "h, f, g = sym.symbols(\"h f g\", cls=sym.Function)   # tem que definir que f e g são funções\n",
    "g = sym.sin(x)\n",
    "f = sym.cos(x)\n",
    "h = g/f"
   ]
  },
  {
   "cell_type": "code",
   "execution_count": 17,
   "id": "d914b12f-b1bd-4228-9b38-89ad6aa562fe",
   "metadata": {},
   "outputs": [
    {
     "data": {
      "image/png": "[encoded data removed]",
      "text/latex": [
       "$\\displaystyle \\frac{\\sin^{2}{\\left(x \\right)}}{\\cos^{2}{\\left(x \\right)}} + 1$"
      ],
      "text/plain": [
       "   2       \n",
       "sin (x)    \n",
       "─────── + 1\n",
       "   2       \n",
       "cos (x)    "
      ]
     },
     "execution_count": 17,
     "metadata": {},
     "output_type": "execute_result"
    }
   ],
   "source": [
    "sym.diff(h, x)"
   ]
  },
  {
   "cell_type": "code",
   "execution_count": 13,
   "id": "66d76301-1081-4ae3-ae7b-d61d403320ec",
   "metadata": {},
   "outputs": [
    {
     "data": {
      "image/png": "[encoded data removed]",
      "text/latex": [
       "$\\displaystyle \\frac{\\partial^{n}}{\\partial x^{n}} \\left(a x + b\\right)^{m}$"
      ],
      "text/plain": [
       "  n            \n",
       " ∂ ⎛         m⎞\n",
       "───⎝(a⋅x + b) ⎠\n",
       "  n            \n",
       "∂x             "
      ]
     },
     "execution_count": 13,
     "metadata": {},
     "output_type": "execute_result"
    }
   ],
   "source": [
    "m, n, a, b = sym.symbols('m n a b')\n",
    "expr = (a*x + b)**m\n",
    "expr.diff((x, n))"
   ]
  },
  {
   "cell_type": "code",
   "execution_count": 23,
   "id": "bedafcd3-f14f-4ca4-b40f-5abac8c15971",
   "metadata": {},
   "outputs": [
    {
     "data": {
      "image/png": "[encoded data removed]",
      "text/latex": [
       "$\\displaystyle - \\cot^{2}{\\left(x \\right)} - 1$"
      ],
      "text/plain": [
       "     2       \n",
       "- cot (x) - 1"
      ]
     },
     "execution_count": 23,
     "metadata": {},
     "output_type": "execute_result"
    }
   ],
   "source": [
    "f = sym.cot(x)\n",
    "sym.diff(f,x)"
   ]
  },
  {
   "cell_type": "code",
   "execution_count": 32,
   "id": "7bd52cba-bbd5-4089-8f1a-00e82934eace",
   "metadata": {},
   "outputs": [
    {
     "data": {
      "image/png": "[encoded data removed]",
      "text/latex": [
       "$\\displaystyle \\frac{\\cos{\\left(x \\right)}}{\\sin{\\left(x \\right)}}$"
      ],
      "text/plain": [
       "cos(x)\n",
       "──────\n",
       "sin(x)"
      ]
     },
     "execution_count": 32,
     "metadata": {},
     "output_type": "execute_result"
    }
   ],
   "source": [
    "f  = 1/ (sin(x)/cos(x))\n",
    "f"
   ]
  },
  {
   "cell_type": "code",
   "execution_count": 33,
   "id": "57d89927-5403-4df4-be75-2fba6bd37de1",
   "metadata": {},
   "outputs": [
    {
     "data": {
      "image/png": "[encoded data removed]",
      "text/latex": [
       "$\\displaystyle -1 - \\frac{\\cos^{2}{\\left(x \\right)}}{\\sin^{2}{\\left(x \\right)}}$"
      ],
      "text/plain": [
       "        2   \n",
       "     cos (x)\n",
       "-1 - ───────\n",
       "        2   \n",
       "     sin (x)"
      ]
     },
     "execution_count": 33,
     "metadata": {},
     "output_type": "execute_result"
    }
   ],
   "source": [
    "diff(f,x)"
   ]
  },
  {
   "cell_type": "code",
   "execution_count": null,
   "id": "b9d0ac8d-d718-4191-9160-44606ea7098b",
   "metadata": {},
   "outputs": [],
   "source": []
  }
 ],
 "metadata": {
  "kernelspec": {
   "display_name": "Python 3 (ipykernel)",
   "language": "python",
   "name": "python3"
  },
  "language_info": {
   "codemirror_mode": {
    "name": "ipython",
    "version": 3
   },
   "file_extension": ".py",
   "mimetype": "text/x-python",
   "name": "python",
   "nbconvert_exporter": "python",
   "pygments_lexer": "ipython3",
   "version": "3.12.2"
  }
 },
 "nbformat": 4,
 "nbformat_minor": 5
}
