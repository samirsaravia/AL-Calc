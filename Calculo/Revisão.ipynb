{
 "cells": [
  {
   "cell_type": "code",
   "execution_count": 1,
   "id": "eae91dd7-c4b9-4172-81ab-20e794fec0e0",
   "metadata": {},
   "outputs": [],
   "source": [
    "import sympy as sym\n",
    "from sympy import *"
   ]
  },
  {
   "cell_type": "code",
   "execution_count": 2,
   "id": "b83c634d-f092-4ad4-a23f-e95fc45e45f3",
   "metadata": {},
   "outputs": [],
   "source": [
    "sym.init_printing(\"mathjax\")\n",
    "x = sym.symbols('x')"
   ]
  },
  {
   "cell_type": "code",
   "execution_count": 3,
   "id": "091f0606-05f0-4746-8efa-d4a96fe28d1a",
   "metadata": {},
   "outputs": [],
   "source": [
    "h, f, g = sym.symbols(\"h f g\", cls=sym.Function)   # tem que definir que f e g são funções\n",
    "g = sym.sin(x)\n",
    "f = sym.cos(x)\n",
    "h = g/f"
   ]
  },
  {
   "cell_type": "code",
   "execution_count": 4,
   "id": "d914b12f-b1bd-4228-9b38-89ad6aa562fe",
   "metadata": {},
   "outputs": [
    {
     "data": {
      "image/png": "[encoded data removed]",
      "text/latex": [
       "$\\displaystyle \\frac{\\sin^{2}{\\left(x \\right)}}{\\cos^{2}{\\left(x \\right)}} + 1$"
      ],
      "text/plain": [
       "   2       \n",
       "sin (x)    \n",
       "─────── + 1\n",
       "   2       \n",
       "cos (x)    "
      ]
     },
     "execution_count": 4,
     "metadata": {},
     "output_type": "execute_result"
    }
   ],
   "source": [
    "sym.diff(h, x)"
   ]
  },
  {
   "cell_type": "code",
   "execution_count": 5,
   "id": "66d76301-1081-4ae3-ae7b-d61d403320ec",
   "metadata": {},
   "outputs": [
    {
     "data": {
      "image/png": "[encoded data removed]",
      "text/latex": [
       "$\\displaystyle \\frac{\\partial^{n}}{\\partial x^{n}} \\left(a x + b\\right)^{m}$"
      ],
      "text/plain": [
       "  n            \n",
       " ∂ ⎛         m⎞\n",
       "───⎝(a⋅x + b) ⎠\n",
       "  n            \n",
       "∂x             "
      ]
     },
     "execution_count": 5,
     "metadata": {},
     "output_type": "execute_result"
    }
   ],
   "source": [
    "m, n, a, b = sym.symbols('m n a b')\n",
    "expr = (a*x + b)**m\n",
    "expr.diff((x, n))"
   ]
  },
  {
   "cell_type": "code",
   "execution_count": 6,
   "id": "bedafcd3-f14f-4ca4-b40f-5abac8c15971",
   "metadata": {},
   "outputs": [
    {
     "data": {
      "image/png": "[encoded data removed]",
      "text/latex": [
       "$\\displaystyle - \\cot^{2}{\\left(x \\right)} - 1$"
      ],
      "text/plain": [
       "     2       \n",
       "- cot (x) - 1"
      ]
     },
     "execution_count": 6,
     "metadata": {},
     "output_type": "execute_result"
    }
   ],
   "source": [
    "f = sym.cot(x)\n",
    "sym.diff(f,x)"
   ]
  },
  {
   "cell_type": "code",
   "execution_count": 7,
   "id": "7bd52cba-bbd5-4089-8f1a-00e82934eace",
   "metadata": {},
   "outputs": [
    {
     "data": {
      "image/png": "[encoded data removed]",
      "text/latex": [
       "$\\displaystyle \\frac{\\cos{\\left(x \\right)}}{\\sin{\\left(x \\right)}}$"
      ],
      "text/plain": [
       "cos(x)\n",
       "──────\n",
       "sin(x)"
      ]
     },
     "execution_count": 7,
     "metadata": {},
     "output_type": "execute_result"
    }
   ],
   "source": [
    "f  = 1/ (sin(x)/cos(x))\n",
    "f"
   ]
  },
  {
   "cell_type": "code",
   "execution_count": 8,
   "id": "57d89927-5403-4df4-be75-2fba6bd37de1",
   "metadata": {},
   "outputs": [
    {
     "data": {
      "image/png": "[encoded data removed]",
      "text/latex": [
       "$\\displaystyle -1 - \\frac{\\cos^{2}{\\left(x \\right)}}{\\sin^{2}{\\left(x \\right)}}$"
      ],
      "text/plain": [
       "        2   \n",
       "     cos (x)\n",
       "-1 - ───────\n",
       "        2   \n",
       "     sin (x)"
      ]
     },
     "execution_count": 8,
     "metadata": {},
     "output_type": "execute_result"
    }
   ],
   "source": [
    "diff(f,x)"
   ]
  },
  {
   "cell_type": "markdown",
   "id": "532677df-b767-4e5e-9e1c-fba71da4e61e",
   "metadata": {},
   "source": [
    "## Regras de diferenciação"
   ]
  },
  {
   "cell_type": "code",
   "execution_count": 9,
   "id": "c752fa05-0d63-4122-9007-97b177d6bf37",
   "metadata": {},
   "outputs": [
    {
     "data": {
      "image/png": "[encoded data removed]",
      "text/latex": [
       "$\\displaystyle \\frac{\\sec{\\left(x \\right)}}{\\tan{\\left(x \\right)} + 1}$"
      ],
      "text/plain": [
       "  sec(x)  \n",
       "──────────\n",
       "tan(x) + 1"
      ]
     },
     "execution_count": 9,
     "metadata": {},
     "output_type": "execute_result"
    }
   ],
   "source": [
    "a1 = sec(x)/(1+tan(x))\n",
    "a1"
   ]
  },
  {
   "cell_type": "code",
   "execution_count": 10,
   "id": "18b7e570-41c8-4f9b-862b-c5210b4eb55a",
   "metadata": {},
   "outputs": [
    {
     "data": {
      "image/png": "[encoded data removed]",
      "text/latex": [
       "$\\displaystyle \\frac{\\tan{\\left(x \\right)} \\sec{\\left(x \\right)}}{\\tan{\\left(x \\right)} + 1} + \\frac{\\left(- \\tan^{2}{\\left(x \\right)} - 1\\right) \\sec{\\left(x \\right)}}{\\left(\\tan{\\left(x \\right)} + 1\\right)^{2}}$"
      ],
      "text/plain": [
       "                ⎛     2       ⎞       \n",
       "tan(x)⋅sec(x)   ⎝- tan (x) - 1⎠⋅sec(x)\n",
       "───────────── + ──────────────────────\n",
       "  tan(x) + 1                    2     \n",
       "                    (tan(x) + 1)      "
      ]
     },
     "execution_count": 10,
     "metadata": {},
     "output_type": "execute_result"
    }
   ],
   "source": [
    "diff(a1,x)"
   ]
  },
  {
   "cell_type": "code",
   "execution_count": 11,
   "id": "f09b7935-a1e3-44bf-b156-ecc7f592de45",
   "metadata": {},
   "outputs": [
    {
     "data": {
      "image/png": "[encoded data removed]",
      "text/latex": [
       "$\\displaystyle x \\sin{\\left(x \\right)}$"
      ],
      "text/plain": [
       "x⋅sin(x)"
      ]
     },
     "execution_count": 11,
     "metadata": {},
     "output_type": "execute_result"
    }
   ],
   "source": [
    "a2 = x*sin(x)\n",
    "a2"
   ]
  },
  {
   "cell_type": "code",
   "execution_count": 12,
   "id": "c8e31357-5879-4499-a8c7-45dab5b006ec",
   "metadata": {},
   "outputs": [
    {
     "data": {
      "image/png": "[encoded data removed]",
      "text/latex": [
       "$\\displaystyle x \\cos{\\left(x \\right)} + \\sin{\\left(x \\right)}$"
      ],
      "text/plain": [
       "x⋅cos(x) + sin(x)"
      ]
     },
     "execution_count": 12,
     "metadata": {},
     "output_type": "execute_result"
    }
   ],
   "source": [
    "diff(a2,x)"
   ]
  },
  {
   "cell_type": "code",
   "execution_count": 13,
   "id": "63f49707-0e3b-4007-921a-5eea25ec7661",
   "metadata": {},
   "outputs": [
    {
     "data": {
      "image/png": "[encoded data removed]",
      "text/latex": [
       "$\\displaystyle e^{x}$"
      ],
      "text/plain": [
       " x\n",
       "ℯ "
      ]
     },
     "execution_count": 13,
     "metadata": {},
     "output_type": "execute_result"
    }
   ],
   "source": [
    "e1 = exp(x)\n",
    "e1"
   ]
  },
  {
   "cell_type": "code",
   "execution_count": 14,
   "id": "b05f60ec-4fcf-434b-8c74-fd802e2d9715",
   "metadata": {},
   "outputs": [
    {
     "data": {
      "image/png": "[encoded data removed]",
      "text/latex": [
       "$\\displaystyle e^{x}$"
      ],
      "text/plain": [
       " x\n",
       "ℯ "
      ]
     },
     "execution_count": 14,
     "metadata": {},
     "output_type": "execute_result"
    }
   ],
   "source": [
    "diff(e1)"
   ]
  },
  {
   "cell_type": "code",
   "execution_count": 15,
   "id": "a3084df4-c946-4270-8e62-7ecdb66ef408",
   "metadata": {},
   "outputs": [
    {
     "data": {
      "image/png": "[encoded data removed]",
      "text/latex": [
       "$\\displaystyle 3^{x}$"
      ],
      "text/plain": [
       " x\n",
       "3 "
      ]
     },
     "execution_count": 15,
     "metadata": {},
     "output_type": "execute_result"
    }
   ],
   "source": [
    "e2 = 3**x\n",
    "e2"
   ]
  },
  {
   "cell_type": "code",
   "execution_count": 16,
   "id": "9e709ceb-6714-4b5d-9af5-8bec80356700",
   "metadata": {},
   "outputs": [
    {
     "data": {
      "image/png": "[encoded data removed]",
      "text/latex": [
       "$\\displaystyle 3^{x} \\log{\\left(3 \\right)}$"
      ],
      "text/plain": [
       " x       \n",
       "3 ⋅log(3)"
      ]
     },
     "execution_count": 16,
     "metadata": {},
     "output_type": "execute_result"
    }
   ],
   "source": [
    "diff(e2)"
   ]
  },
  {
   "cell_type": "code",
   "execution_count": 17,
   "id": "2d7b7d58-8f14-47e4-88a1-491bd0a24fbe",
   "metadata": {},
   "outputs": [
    {
     "data": {
      "image/png": "[encoded data removed]",
      "text/latex": [
       "$\\displaystyle \\left(x^{3} + 2 x\\right) e^{x}$"
      ],
      "text/plain": [
       "⎛ 3      ⎞  x\n",
       "⎝x  + 2⋅x⎠⋅ℯ "
      ]
     },
     "execution_count": 17,
     "metadata": {},
     "output_type": "execute_result"
    }
   ],
   "source": [
    "e3 = (x**3+2*x)*exp(x)\n",
    "e3"
   ]
  },
  {
   "cell_type": "code",
   "execution_count": 18,
   "id": "29a79e0d-83fe-4dfd-8aa3-7e08b253327e",
   "metadata": {},
   "outputs": [
    {
     "data": {
      "image/png": "[encoded data removed]",
      "text/latex": [
       "$\\displaystyle \\left(3 x^{2} + 2\\right) e^{x} + \\left(x^{3} + 2 x\\right) e^{x}$"
      ],
      "text/plain": [
       "⎛   2    ⎞  x   ⎛ 3      ⎞  x\n",
       "⎝3⋅x  + 2⎠⋅ℯ  + ⎝x  + 2⋅x⎠⋅ℯ "
      ]
     },
     "execution_count": 18,
     "metadata": {},
     "output_type": "execute_result"
    }
   ],
   "source": [
    "diff(e3,x)"
   ]
  },
  {
   "cell_type": "code",
   "execution_count": 19,
   "id": "35cb83b9-86fd-4b4a-92f4-d37bae7c6472",
   "metadata": {},
   "outputs": [
    {
     "data": {
      "image/png": "[encoded data removed]",
      "text/latex": [
       "$\\displaystyle x^{4} e^{x}$"
      ],
      "text/plain": [
       " 4  x\n",
       "x ⋅ℯ "
      ]
     },
     "execution_count": 19,
     "metadata": {},
     "output_type": "execute_result"
    }
   ],
   "source": [
    "e4 = x**4*exp(x)\n",
    "e4"
   ]
  },
  {
   "cell_type": "code",
   "execution_count": 20,
   "id": "d773d219-9309-497c-86a2-a8f184778ac4",
   "metadata": {},
   "outputs": [
    {
     "data": {
      "image/png": "[encoded data removed]",
      "text/latex": [
       "$\\displaystyle x^{4} e^{x} + 4 x^{3} e^{x}$"
      ],
      "text/plain": [
       " 4  x      3  x\n",
       "x ⋅ℯ  + 4⋅x ⋅ℯ "
      ]
     },
     "execution_count": 20,
     "metadata": {},
     "output_type": "execute_result"
    }
   ],
   "source": [
    "diff(e4,x)"
   ]
  },
  {
   "cell_type": "code",
   "execution_count": 21,
   "id": "2a48d08e-bc4e-4c76-bbc1-7893e52902e4",
   "metadata": {},
   "outputs": [
    {
     "data": {
      "image/png": "[encoded data removed]",
      "text/latex": [
       "$\\displaystyle 2^{x} + 5 x$"
      ],
      "text/plain": [
       " x      \n",
       "2  + 5⋅x"
      ]
     },
     "execution_count": 21,
     "metadata": {},
     "output_type": "execute_result"
    }
   ],
   "source": [
    "e5 = 2**x+5*x\n",
    "e5"
   ]
  },
  {
   "cell_type": "code",
   "execution_count": 22,
   "id": "34d01321-ab6a-423c-9219-b6b0f5c12dab",
   "metadata": {},
   "outputs": [
    {
     "data": {
      "image/png": "[encoded data removed]",
      "text/latex": [
       "$\\displaystyle 2^{x} \\log{\\left(2 \\right)} + 5$"
      ],
      "text/plain": [
       " x           \n",
       "2 ⋅log(2) + 5"
      ]
     },
     "execution_count": 22,
     "metadata": {},
     "output_type": "execute_result"
    }
   ],
   "source": [
    "diff(e5,x)"
   ]
  },
  {
   "cell_type": "code",
   "execution_count": 23,
   "id": "e72ad544-4beb-49a8-8991-25deb58a9c31",
   "metadata": {},
   "outputs": [
    {
     "data": {
      "image/png": "[encoded data removed]",
      "text/latex": [
       "$\\displaystyle \\frac{e^{x}}{x^{2}}$"
      ],
      "text/plain": [
       " x\n",
       "ℯ \n",
       "──\n",
       " 2\n",
       "x "
      ]
     },
     "execution_count": 23,
     "metadata": {},
     "output_type": "execute_result"
    }
   ],
   "source": [
    "e6 = exp(x)/x**2\n",
    "e6"
   ]
  },
  {
   "cell_type": "code",
   "execution_count": 24,
   "id": "402a2cff-e31a-4fec-badf-13af63e14fd2",
   "metadata": {},
   "outputs": [
    {
     "data": {
      "image/png": "[encoded data removed]",
      "text/latex": [
       "$\\displaystyle \\frac{e^{x}}{x^{2}} - \\frac{2 e^{x}}{x^{3}}$"
      ],
      "text/plain": [
       " x      x\n",
       "ℯ    2⋅ℯ \n",
       "── - ────\n",
       " 2     3 \n",
       "x     x  "
      ]
     },
     "execution_count": 24,
     "metadata": {},
     "output_type": "execute_result"
    }
   ],
   "source": [
    "diff(e6,x)"
   ]
  },
  {
   "cell_type": "markdown",
   "id": "4abb5783-1314-44ed-b182-5d712d626df4",
   "metadata": {},
   "source": [
    "## RProblemas"
   ]
  },
  {
   "cell_type": "code",
   "execution_count": 25,
   "id": "036f482d-6fa6-4465-95d1-3f193af1caf2",
   "metadata": {},
   "outputs": [],
   "source": [
    "y = symbols(\"y\")"
   ]
  },
  {
   "cell_type": "code",
   "execution_count": 26,
   "id": "1bf27158-5b80-41dc-a962-d9f4bff32990",
   "metadata": {},
   "outputs": [
    {
     "data": {
      "image/png": "[encoded data removed]",
      "text/latex": [
       "$\\displaystyle \\cos{\\left(x \\right)} + \\frac{1}{x^{4}}$"
      ],
      "text/plain": [
       "         1 \n",
       "cos(x) + ──\n",
       "          4\n",
       "         x "
      ]
     },
     "execution_count": 26,
     "metadata": {},
     "output_type": "execute_result"
    }
   ],
   "source": [
    "y = x**(-4)+ cos(x)\n",
    "y"
   ]
  },
  {
   "cell_type": "code",
   "execution_count": 30,
   "id": "e75fdbe7-943b-4e4b-bb46-d6906463e3a0",
   "metadata": {},
   "outputs": [
    {
     "data": {
      "image/png": "[encoded data removed]",
      "text/latex": [
       "$\\displaystyle - \\sin{\\left(x \\right)} - \\frac{4}{x^{5}}$"
      ],
      "text/plain": [
       "          4 \n",
       "-sin(x) - ──\n",
       "           5\n",
       "          x "
      ]
     },
     "execution_count": 30,
     "metadata": {},
     "output_type": "execute_result"
    }
   ],
   "source": [
    "diff(y, x)"
   ]
  },
  {
   "cell_type": "code",
   "execution_count": 32,
   "id": "079379ed-24c8-434e-bafe-a14425438b37",
   "metadata": {},
   "outputs": [
    {
     "data": {
      "image/png": "[encoded data removed]",
      "text/latex": [
       "$\\displaystyle 0$"
      ],
      "text/plain": [
       "0"
      ]
     },
     "execution_count": 32,
     "metadata": {},
     "output_type": "execute_result"
    }
   ],
   "source": [
    "y1 = cos(x)\n",
    "(diff(y1, x)).subs(x, 0)"
   ]
  },
  {
   "cell_type": "code",
   "execution_count": 33,
   "id": "501ed10e-2d87-4063-904b-28e0deb101d3",
   "metadata": {},
   "outputs": [
    {
     "data": {
      "image/png": "[encoded data removed]",
      "text/latex": [
       "$\\displaystyle 1$"
      ],
      "text/plain": [
       "1"
      ]
     },
     "execution_count": 33,
     "metadata": {},
     "output_type": "execute_result"
    }
   ],
   "source": [
    "y2 =  sin(x)\n",
    "diff(y2,x).subs(x,0)"
   ]
  },
  {
   "cell_type": "code",
   "execution_count": 38,
   "id": "3a288369-1b74-4213-962f-fea952883ca2",
   "metadata": {},
   "outputs": [
    {
     "data": {
      "image/png": "[encoded data removed]",
      "text/latex": [
       "$\\displaystyle \\frac{1}{x}$"
      ],
      "text/plain": [
       "1\n",
       "─\n",
       "x"
      ]
     },
     "execution_count": 38,
     "metadata": {},
     "output_type": "execute_result"
    }
   ],
   "source": [
    "y3 = log(x)\n",
    "diff(y3, x)"
   ]
  },
  {
   "cell_type": "code",
   "execution_count": 39,
   "id": "32e6ccc1-aea9-4b11-aeaf-898fc8ed10b5",
   "metadata": {},
   "outputs": [
    {
     "data": {
      "image/png": "[encoded data removed]",
      "text/latex": [
       "$\\displaystyle x^{2} - e^{x}$"
      ],
      "text/plain": [
       " 2    x\n",
       "x  - ℯ "
      ]
     },
     "execution_count": 39,
     "metadata": {},
     "output_type": "execute_result"
    }
   ],
   "source": [
    "y4 = x**2- exp(x)\n",
    "y4"
   ]
  },
  {
   "cell_type": "code",
   "execution_count": 41,
   "id": "1e0f4126-69b3-4044-bdeb-da91c272e01a",
   "metadata": {},
   "outputs": [
    {
     "data": {
      "image/png": "[encoded data removed]",
      "text/latex": [
       "$\\displaystyle -1$"
      ],
      "text/plain": [
       "-1"
      ]
     },
     "execution_count": 41,
     "metadata": {},
     "output_type": "execute_result"
    }
   ],
   "source": [
    "diff(y4,x).subs(x,0)"
   ]
  },
  {
   "cell_type": "code",
   "execution_count": 44,
   "id": "92c1e526-f493-41ed-88e5-6a9610f2ab36",
   "metadata": {},
   "outputs": [
    {
     "data": {
      "image/png": "[encoded data removed]",
      "text/latex": [
       "$\\displaystyle 5^{x} \\log{\\left(5 \\right)}$"
      ],
      "text/plain": [
       " x       \n",
       "5 ⋅log(5)"
      ]
     },
     "execution_count": 44,
     "metadata": {},
     "output_type": "execute_result"
    }
   ],
   "source": [
    "y5 = 5**x\n",
    "diff(y5,x)"
   ]
  },
  {
   "cell_type": "markdown",
   "id": "b7c69dd9-ea09-4ac8-9ac4-c402a6705e49",
   "metadata": {},
   "source": [
    "Um grupo de estudantes de Licenciatura em Química investigou o valor do pH do solo do lago Igapó ao se aproximar da margem. Para isso, a partir de uma distância de 2.5m da margem, coletou amostras de solo de 0.5, 0.5 m até chegar da margem do lago, concluindo que esse fenômeno pode ser representado pelo modelo matemático : $$H(s)=6,64(1- e^{-1,66s})$$ \n",
    "\n",
    "em que s representa distância da localidade fixa até a margem (em m) e H(s) o pH de acordo com a distância. Os estudantes consideram, por hipótese, que o valor do pH do solo não ultrapassa ao da água (pH da água no lago Igapó é de 6,78)"
   ]
  },
  {
   "cell_type": "code",
   "execution_count": 52,
   "id": "f44225bb-5c98-4615-94f3-3f4b5c8e5536",
   "metadata": {},
   "outputs": [
    {
     "data": {
      "image/png": "[encoded data removed]",
      "text/latex": [
       "$\\displaystyle 6.64 - 6.64 e^{- 1.66 s}$"
      ],
      "text/plain": [
       "             -1.66⋅s\n",
       "6.64 - 6.64⋅ℯ       "
      ]
     },
     "execution_count": 52,
     "metadata": {},
     "output_type": "execute_result"
    }
   ],
   "source": [
    "s = symbols(\"s\")\n",
    "ph = 6.64*(1-exp(-1.66*s))\n",
    "ph"
   ]
  },
  {
   "cell_type": "code",
   "execution_count": 69,
   "id": "75e70621-fead-4e32-91d5-2b05b556740b",
   "metadata": {},
   "outputs": [
    {
     "data": {
      "image/png": "[encoded data removed]",
      "text/latex": [
       "$\\displaystyle 11.0224 e^{- 1.66 s}$"
      ],
      "text/plain": [
       "         -1.66⋅s\n",
       "11.0224⋅ℯ       "
      ]
     },
     "execution_count": 69,
     "metadata": {},
     "output_type": "execute_result"
    }
   ],
   "source": [
    "s1 = diff(ph,s)\n",
    "s1"
   ]
  },
  {
   "cell_type": "code",
   "execution_count": 71,
   "id": "0ae7e1d9-6c7e-4cee-981b-d148c237ee8f",
   "metadata": {},
   "outputs": [
    {
     "data": {
      "image/png": "[encoded data removed]",
      "text/latex": [
       "$\\displaystyle \\text{False}$"
      ],
      "text/plain": [
       "False"
      ]
     },
     "execution_count": 71,
     "metadata": {},
     "output_type": "execute_result"
    }
   ],
   "source": [
    "s1.subs(s,1) < s1.subs(s,2.5)"
   ]
  },
  {
   "cell_type": "code",
   "execution_count": 72,
   "id": "b7193498-3bd5-46ae-96ed-6be5f458a6cf",
   "metadata": {},
   "outputs": [
    {
     "data": {
      "image/png": "[encoded data removed]",
      "text/latex": [
       "$\\displaystyle \\text{True}$"
      ],
      "text/plain": [
       "True"
      ]
     },
     "execution_count": 72,
     "metadata": {},
     "output_type": "execute_result"
    }
   ],
   "source": [
    "s1.subs(s,1) > s1.subs(s,2.5)"
   ]
  },
  {
   "cell_type": "code",
   "execution_count": 73,
   "id": "c6d624b7-cf8f-49c4-9389-593cab89dd56",
   "metadata": {},
   "outputs": [
    {
     "data": {
      "image/png": "[encoded data removed]",
      "text/latex": [
       "$\\displaystyle \\text{False}$"
      ],
      "text/plain": [
       "False"
      ]
     },
     "execution_count": 73,
     "metadata": {},
     "output_type": "execute_result"
    }
   ],
   "source": [
    "s1.subs(s,2.5) < 0"
   ]
  },
  {
   "cell_type": "code",
   "execution_count": 87,
   "id": "905c2a01-61fc-4104-b79d-debafa8e9db7",
   "metadata": {},
   "outputs": [
    {
     "data": {
      "image/png": "[encoded data removed]",
      "text/latex": [
       "$\\displaystyle 11.0224$"
      ],
      "text/plain": [
       "11.0224000000000"
      ]
     },
     "execution_count": 87,
     "metadata": {},
     "output_type": "execute_result"
    }
   ],
   "source": [
    "s1.subs(s,0)"
   ]
  },
  {
   "cell_type": "code",
   "execution_count": 89,
   "id": "88fb8076-c308-46b6-84a9-809f1ef0fb5d",
   "metadata": {},
   "outputs": [
    {
     "data": {
      "image/png": "[encoded data removed]",
      "text/latex": [
       "$\\displaystyle -18.297184$"
      ],
      "text/plain": [
       "-18.2971840000000"
      ]
     },
     "execution_count": 89,
     "metadata": {},
     "output_type": "execute_result"
    }
   ],
   "source": [
    "diff(s1,s).subs(s,0)"
   ]
  },
  {
   "cell_type": "markdown",
   "id": "25d7f188-7094-440b-8a70-759fe3c0c75a",
   "metadata": {},
   "source": [
    "Um grupo de alunos do curso de tecnologia de alimentos da UTFPR estudou a torra de grãos de café e determinaram que, em torra branda, a temperatura  dos grãos de café da espécie Conilon em função do tempo (minutos) pode ser representada pelo modelo matemático $$T(t)=112,9 e^{0,0907t}$$"
   ]
  },
  {
   "cell_type": "code",
   "execution_count": 113,
   "id": "7256f5e9-f30d-4e8b-98ee-fa7f27df6ae7",
   "metadata": {},
   "outputs": [
    {
     "data": {
      "image/png": "[encoded data removed]",
      "text/latex": [
       "$\\displaystyle 112.9 e^{0.0907 t}$"
      ],
      "text/plain": [
       "       0.0907⋅t\n",
       "112.9⋅ℯ        "
      ]
     },
     "execution_count": 113,
     "metadata": {},
     "output_type": "execute_result"
    }
   ],
   "source": [
    "t = symbols(\"t\")\n",
    "T1 = 112.9* exp(0.0907*t)\n",
    "T1"
   ]
  },
  {
   "cell_type": "code",
   "execution_count": 115,
   "id": "f185e2f4-f741-4e3c-825f-f964cadd1d62",
   "metadata": {},
   "outputs": [
    {
     "data": {
      "image/png": "[encoded data removed]",
      "text/latex": [
       "$\\displaystyle 10.24003$"
      ],
      "text/plain": [
       "10.2400300000000"
      ]
     },
     "execution_count": 115,
     "metadata": {},
     "output_type": "execute_result"
    }
   ],
   "source": [
    "diff(T1,t).subs(t,0)"
   ]
  },
  {
   "cell_type": "code",
   "execution_count": 116,
   "id": "a6ebfcab-c35d-45bc-a247-f23313284a85",
   "metadata": {},
   "outputs": [
    {
     "data": {
      "image/png": "[encoded data removed]",
      "text/latex": [
       "$\\displaystyle 10.24003 e^{0.0907 t}$"
      ],
      "text/plain": [
       "          0.0907⋅t\n",
       "10.24003⋅ℯ        "
      ]
     },
     "execution_count": 116,
     "metadata": {},
     "output_type": "execute_result"
    }
   ],
   "source": [
    "diff(T1,t)"
   ]
  },
  {
   "cell_type": "markdown",
   "id": "5b11c830-7978-4c8c-a15b-bf8c803f1994",
   "metadata": {},
   "source": [
    "Resolver"
   ]
  },
  {
   "cell_type": "code",
   "execution_count": 118,
   "id": "0a0dd4f7-d084-407a-9eb2-0f1f256572a6",
   "metadata": {},
   "outputs": [
    {
     "data": {
      "image/png": "[encoded data removed]",
      "text/latex": [
       "$\\displaystyle \\left(x + 1\\right)^{2} \\left(x + 2\\right)^{3}$"
      ],
      "text/plain": [
       "       2        3\n",
       "(x + 1) ⋅(x + 2) "
      ]
     },
     "execution_count": 118,
     "metadata": {},
     "output_type": "execute_result"
    }
   ],
   "source": [
    "fx = (x+1)**2 * (x+2)**3\n",
    "fx"
   ]
  },
  {
   "cell_type": "code",
   "execution_count": 120,
   "id": "4503371b-088f-4a0f-9293-d75c5d20e693",
   "metadata": {},
   "outputs": [
    {
     "data": {
      "image/png": "[encoded data removed]",
      "text/latex": [
       "$\\displaystyle 28$"
      ],
      "text/plain": [
       "28"
      ]
     },
     "execution_count": 120,
     "metadata": {},
     "output_type": "execute_result"
    }
   ],
   "source": [
    "diff(fx,x).subs(x,0)"
   ]
  },
  {
   "cell_type": "markdown",
   "id": "a376990a-2010-4a29-a49a-3202296d74e3",
   "metadata": {},
   "source": [
    "## 5"
   ]
  },
  {
   "cell_type": "code",
   "execution_count": 121,
   "id": "82c9a4fd-22bf-49d3-b79a-e692fe5b1252",
   "metadata": {},
   "outputs": [
    {
     "data": {
      "image/png": "[encoded data removed]",
      "text/latex": [
       "$\\displaystyle \\left(x^{2} - 1\\right)^{9} - \\sin{\\left(3 x \\right)} + e^{- 2 x}$"
      ],
      "text/plain": [
       "        9                   \n",
       "⎛ 2    ⎞                -2⋅x\n",
       "⎝x  - 1⎠  - sin(3⋅x) + ℯ    "
      ]
     },
     "execution_count": 121,
     "metadata": {},
     "output_type": "execute_result"
    }
   ],
   "source": [
    "h = exp(-2*x)+(x**2-1)**9-sin(3*x)\n",
    "h"
   ]
  },
  {
   "cell_type": "code",
   "execution_count": 122,
   "id": "5c8bed3b-cfc0-4289-9961-21ff82426421",
   "metadata": {},
   "outputs": [
    {
     "data": {
      "image/png": "[encoded data removed]",
      "text/latex": [
       "$\\displaystyle 18 x \\left(x^{2} - 1\\right)^{8} - 3 \\cos{\\left(3 x \\right)} - 2 e^{- 2 x}$"
      ],
      "text/plain": [
       "             8                       \n",
       "     ⎛ 2    ⎞                    -2⋅x\n",
       "18⋅x⋅⎝x  - 1⎠  - 3⋅cos(3⋅x) - 2⋅ℯ    "
      ]
     },
     "execution_count": 122,
     "metadata": {},
     "output_type": "execute_result"
    }
   ],
   "source": [
    "diff(h,x)"
   ]
  },
  {
   "cell_type": "markdown",
   "id": "e09a011f-ef37-42a6-a01d-4dd0ca690c0e",
   "metadata": {},
   "source": [
    "## 6"
   ]
  },
  {
   "cell_type": "code",
   "execution_count": 123,
   "id": "c653013d-63ec-42fe-ad90-64346bf2333a",
   "metadata": {},
   "outputs": [
    {
     "data": {
      "image/png": "[encoded data removed]",
      "text/latex": [
       "$\\displaystyle e^{\\sin{\\left(x \\right)}}$"
      ],
      "text/plain": [
       " sin(x)\n",
       "ℯ      "
      ]
     },
     "execution_count": 123,
     "metadata": {},
     "output_type": "execute_result"
    }
   ],
   "source": [
    "h1 = exp(sin(x))\n",
    "h1"
   ]
  },
  {
   "cell_type": "code",
   "execution_count": 125,
   "id": "2c6368a9-484c-4977-adf5-201c793600c7",
   "metadata": {},
   "outputs": [
    {
     "data": {
      "image/png": "[encoded data removed]",
      "text/latex": [
       "$\\displaystyle 1$"
      ],
      "text/plain": [
       "1"
      ]
     },
     "execution_count": 125,
     "metadata": {},
     "output_type": "execute_result"
    }
   ],
   "source": [
    "diff(h1,x).subs(x,0)"
   ]
  },
  {
   "cell_type": "markdown",
   "id": "2045a2ed-4132-4ade-b6b0-4fc0c625864e",
   "metadata": {},
   "source": [
    "## 7"
   ]
  },
  {
   "cell_type": "code",
   "execution_count": 126,
   "id": "be158d64-ca74-4d20-87e9-54431049a07a",
   "metadata": {},
   "outputs": [
    {
     "data": {
      "image/png": "[encoded data removed]",
      "text/latex": [
       "$\\displaystyle x^{2} \\cos{\\left(x \\right)}$"
      ],
      "text/plain": [
       " 2       \n",
       "x ⋅cos(x)"
      ]
     },
     "execution_count": 126,
     "metadata": {},
     "output_type": "execute_result"
    }
   ],
   "source": [
    "d = x**2*cos(x)\n",
    "d"
   ]
  },
  {
   "cell_type": "code",
   "execution_count": 128,
   "id": "366297f3-e4e3-442c-b808-380e71834ff7",
   "metadata": {},
   "outputs": [
    {
     "data": {
      "image/png": "[encoded data removed]",
      "text/latex": [
       "$\\displaystyle 0$"
      ],
      "text/plain": [
       "0"
      ]
     },
     "execution_count": 128,
     "metadata": {},
     "output_type": "execute_result"
    }
   ],
   "source": [
    "diff(d,x).subs(x,0)"
   ]
  },
  {
   "cell_type": "markdown",
   "id": "497dc170-6007-4264-811e-2f93ee57b054",
   "metadata": {},
   "source": [
    "## 8"
   ]
  },
  {
   "cell_type": "code",
   "execution_count": 129,
   "id": "59c9155b-9257-40e3-b71e-1dcb92826059",
   "metadata": {},
   "outputs": [],
   "source": [
    "u = 1\n",
    "v = 2\n",
    "u1 = 3\n",
    "v1 = 5"
   ]
  },
  {
   "cell_type": "code",
   "execution_count": 131,
   "id": "9a684403-8380-4395-b684-682c84ac2251",
   "metadata": {},
   "outputs": [
    {
     "data": {
      "image/png": "[encoded data removed]",
      "text/latex": [
       "$\\displaystyle 2$"
      ],
      "text/plain": [
       "2"
      ]
     },
     "execution_count": 131,
     "metadata": {},
     "output_type": "execute_result"
    }
   ],
   "source": [
    "w =  u * v\n",
    "w"
   ]
  },
  {
   "cell_type": "code",
   "execution_count": 133,
   "id": "31823812-b57a-498a-be09-d576901bedc1",
   "metadata": {},
   "outputs": [
    {
     "data": {
      "image/png": "[encoded data removed]",
      "text/latex": [
       "$\\displaystyle 3 x$"
      ],
      "text/plain": [
       "3⋅x"
      ]
     },
     "execution_count": 133,
     "metadata": {},
     "output_type": "execute_result"
    }
   ],
   "source": [
    "integrate(u1,x)"
   ]
  },
  {
   "cell_type": "code",
   "execution_count": 134,
   "id": "3bcd303d-a95d-45d6-b60d-3b03bb282d12",
   "metadata": {},
   "outputs": [
    {
     "data": {
      "image/png": "[encoded data removed]",
      "text/latex": [
       "$\\displaystyle 5 x$"
      ],
      "text/plain": [
       "5⋅x"
      ]
     },
     "execution_count": 134,
     "metadata": {},
     "output_type": "execute_result"
    }
   ],
   "source": [
    "integrate(v1, x)"
   ]
  },
  {
   "cell_type": "code",
   "execution_count": null,
   "id": "145b75cc-959b-4c8e-b830-7e3199138119",
   "metadata": {},
   "outputs": [],
   "source": []
  }
 ],
 "metadata": {
  "kernelspec": {
   "display_name": "Python 3 (ipykernel)",
   "language": "python",
   "name": "python3"
  },
  "language_info": {
   "codemirror_mode": {
    "name": "ipython",
    "version": 3
   },
   "file_extension": ".py",
   "mimetype": "text/x-python",
   "name": "python",
   "nbconvert_exporter": "python",
   "pygments_lexer": "ipython3",
   "version": "3.12.2"
  }
 },
 "nbformat": 4,
 "nbformat_minor": 5
}
