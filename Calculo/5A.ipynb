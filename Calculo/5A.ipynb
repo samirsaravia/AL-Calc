{
 "cells": [
  {
   "cell_type": "code",
   "execution_count": 1,
   "id": "a19f7d57-2bd0-4508-b93b-7755289d88ad",
   "metadata": {},
   "outputs": [],
   "source": [
    "from sympy import *"
   ]
  },
  {
   "cell_type": "code",
   "execution_count": 2,
   "id": "e04b2409-81ea-44da-acc4-50350d5cc73b",
   "metadata": {},
   "outputs": [],
   "source": [
    "init_printing(\"mathjax\")\n",
    "x,y,t,w,v = symbols(\"x y t w v\")"
   ]
  },
  {
   "cell_type": "code",
   "execution_count": 3,
   "id": "4d0b10ad-8d50-4709-88eb-d039399883af",
   "metadata": {},
   "outputs": [
    {
     "data": {
      "image/png": "[encoded data removed]",
      "text/latex": [
       "$\\displaystyle \\log{\\left(x^{2} \\right)}$"
      ],
      "text/plain": [
       "   ⎛ 2⎞\n",
       "log⎝x ⎠"
      ]
     },
     "execution_count": 3,
     "metadata": {},
     "output_type": "execute_result"
    }
   ],
   "source": [
    "a1 = ln(x**2)\n",
    "a1"
   ]
  },
  {
   "cell_type": "code",
   "execution_count": 4,
   "id": "5ad9fd01-5c04-4ca1-87c6-3c4bccd09ab3",
   "metadata": {},
   "outputs": [
    {
     "data": {
      "image/png": "[encoded data removed]",
      "text/latex": [
       "$\\displaystyle 2$"
      ],
      "text/plain": [
       "2"
      ]
     },
     "execution_count": 4,
     "metadata": {},
     "output_type": "execute_result"
    }
   ],
   "source": [
    "integrate(a1,(x,1,exp(1)))"
   ]
  },
  {
   "cell_type": "code",
   "execution_count": 5,
   "id": "e82cbc85-0b6d-4652-9dfa-04b5614bcb60",
   "metadata": {},
   "outputs": [
    {
     "data": {
      "image/png": "[encoded data removed]",
      "text/latex": [
       "$\\displaystyle e$"
      ],
      "text/plain": [
       "ℯ"
      ]
     },
     "execution_count": 5,
     "metadata": {},
     "output_type": "execute_result"
    }
   ],
   "source": [
    "exp(1)"
   ]
  },
  {
   "cell_type": "code",
   "execution_count": 6,
   "id": "34029460-3df3-460a-aa1d-530dc5004584",
   "metadata": {},
   "outputs": [
    {
     "data": {
      "image/png": "[encoded data removed]",
      "text/latex": [
       "$\\displaystyle x \\sin{\\left(x \\right)}$"
      ],
      "text/plain": [
       "x⋅sin(x)"
      ]
     },
     "execution_count": 6,
     "metadata": {},
     "output_type": "execute_result"
    }
   ],
   "source": [
    "a2 = x* sin(x)\n",
    "a2"
   ]
  },
  {
   "cell_type": "code",
   "execution_count": 7,
   "id": "e60b905f-1f9d-4cbf-87a1-6f38e5cf8ef1",
   "metadata": {},
   "outputs": [
    {
     "data": {
      "image/png": "[encoded data removed]",
      "text/latex": [
       "$\\displaystyle 0.301168678939757$"
      ],
      "text/plain": [
       "0.301168678939757"
      ]
     },
     "execution_count": 7,
     "metadata": {},
     "output_type": "execute_result"
    }
   ],
   "source": [
    "integrate(a2,(x,0,1)).evalf()"
   ]
  },
  {
   "cell_type": "code",
   "execution_count": 8,
   "id": "a1a2037f-fbf1-4380-a9b8-7c2df50f1276",
   "metadata": {},
   "outputs": [
    {
     "data": {
      "image/png": "[encoded data removed]",
      "text/latex": [
       "$\\displaystyle \\frac{\\log{\\left(x \\right)}}{x}$"
      ],
      "text/plain": [
       "log(x)\n",
       "──────\n",
       "  x   "
      ]
     },
     "execution_count": 8,
     "metadata": {},
     "output_type": "execute_result"
    }
   ],
   "source": [
    "a3 = ln(x)/x\n",
    "a3"
   ]
  },
  {
   "cell_type": "code",
   "execution_count": 9,
   "id": "5c4eb166-1887-44cf-8ab8-c5d7eeba70f0",
   "metadata": {},
   "outputs": [
    {
     "data": {
      "image/png": "[encoded data removed]",
      "text/latex": [
       "$\\displaystyle -\\infty$"
      ],
      "text/plain": [
       "-∞"
      ]
     },
     "execution_count": 9,
     "metadata": {},
     "output_type": "execute_result"
    }
   ],
   "source": [
    "integrate(a3,(x,0,1))"
   ]
  },
  {
   "cell_type": "code",
   "execution_count": 10,
   "id": "6ecee22c-122b-47d5-a8ca-c09c50ff1240",
   "metadata": {},
   "outputs": [
    {
     "data": {
      "image/png": "[encoded data removed]",
      "text/latex": [
       "$\\displaystyle \\left(e^{x} + 4\\right) e^{- x}$"
      ],
      "text/plain": [
       "⎛ x    ⎞  -x\n",
       "⎝ℯ  + 4⎠⋅ℯ  "
      ]
     },
     "execution_count": 10,
     "metadata": {},
     "output_type": "execute_result"
    }
   ],
   "source": [
    "e4 = (exp(x)+4)/exp(x)\n",
    "e4"
   ]
  },
  {
   "cell_type": "code",
   "execution_count": 11,
   "id": "52331046-7d40-48c8-ba0e-be5be6e5e3a1",
   "metadata": {},
   "outputs": [
    {
     "data": {
      "image/png": "[encoded data removed]",
      "text/latex": [
       "$\\displaystyle 3.52848223531423$"
      ],
      "text/plain": [
       "3.52848223531423"
      ]
     },
     "execution_count": 11,
     "metadata": {},
     "output_type": "execute_result"
    }
   ],
   "source": [
    "integrate(e4,(x,0,1)).evalf()"
   ]
  },
  {
   "cell_type": "code",
   "execution_count": 12,
   "id": "f00b47e4-cc7e-43b3-b37a-9b0165286221",
   "metadata": {},
   "outputs": [
    {
     "data": {
      "image/png": "[encoded data removed]",
      "text/latex": [
       "$\\displaystyle x e^{x^{2}}$"
      ],
      "text/plain": [
       "   ⎛ 2⎞\n",
       "   ⎝x ⎠\n",
       "x⋅ℯ    "
      ]
     },
     "execution_count": 12,
     "metadata": {},
     "output_type": "execute_result"
    }
   ],
   "source": [
    "b1 = x*exp(x**2)\n",
    "b1"
   ]
  },
  {
   "cell_type": "code",
   "execution_count": 13,
   "id": "8e84e9c9-78dd-4df0-b927-6807a3e4a6c7",
   "metadata": {},
   "outputs": [
    {
     "data": {
      "image/png": "[encoded data removed]",
      "text/latex": [
       "$\\displaystyle 0$"
      ],
      "text/plain": [
       "0"
      ]
     },
     "execution_count": 13,
     "metadata": {},
     "output_type": "execute_result"
    }
   ],
   "source": [
    "integrate(b1,(x,-sqrt(ln(7)),sqrt(ln(7))))"
   ]
  },
  {
   "cell_type": "code",
   "execution_count": 14,
   "id": "e8a56697-1404-4df8-ab2a-3932d7e0fb65",
   "metadata": {},
   "outputs": [
    {
     "data": {
      "image/png": "[encoded data removed]",
      "text/latex": [
       "$\\displaystyle x \\log{\\left(x \\right)}$"
      ],
      "text/plain": [
       "x⋅log(x)"
      ]
     },
     "execution_count": 14,
     "metadata": {},
     "output_type": "execute_result"
    }
   ],
   "source": [
    "c1 = x *ln(x)\n",
    "c1"
   ]
  },
  {
   "cell_type": "code",
   "execution_count": 15,
   "id": "d316ce2e-62a8-4011-945b-ccfcc4a2cb00",
   "metadata": {},
   "outputs": [
    {
     "data": {
      "image/png": "[encoded data removed]",
      "text/latex": [
       "$\\displaystyle \\frac{x^{2} \\log{\\left(x \\right)}}{2} - \\frac{x^{2}}{4}$"
      ],
      "text/plain": [
       " 2           2\n",
       "x ⋅log(x)   x \n",
       "───────── - ──\n",
       "    2       4 "
      ]
     },
     "execution_count": 15,
     "metadata": {},
     "output_type": "execute_result"
    }
   ],
   "source": [
    "integrate(c1,x)"
   ]
  },
  {
   "cell_type": "code",
   "execution_count": 16,
   "id": "8702c19e-488c-42ea-8799-a31543ed1eeb",
   "metadata": {},
   "outputs": [
    {
     "data": {
      "image/png": "[encoded data removed]",
      "text/latex": [
       "$\\displaystyle x \\sin{\\left(x \\right)}$"
      ],
      "text/plain": [
       "x⋅sin(x)"
      ]
     },
     "execution_count": 16,
     "metadata": {},
     "output_type": "execute_result"
    }
   ],
   "source": [
    "d1 = x*sin(x)\n",
    "d1"
   ]
  },
  {
   "cell_type": "code",
   "execution_count": 17,
   "id": "bfb0fb4c-82b3-4f2e-b0e7-34262f5eb112",
   "metadata": {},
   "outputs": [
    {
     "data": {
      "image/png": "[encoded data removed]",
      "text/latex": [
       "$\\displaystyle \\pi$"
      ],
      "text/plain": [
       "π"
      ]
     },
     "execution_count": 17,
     "metadata": {},
     "output_type": "execute_result"
    }
   ],
   "source": [
    "integrate(d1,(x,0,pi))"
   ]
  },
  {
   "cell_type": "code",
   "execution_count": 18,
   "id": "716dea7f-0441-4571-9a45-9f49d25ac075",
   "metadata": {},
   "outputs": [
    {
     "data": {
      "image/png": "[encoded data removed]",
      "text/latex": [
       "$\\displaystyle \\frac{\\log{\\left(x \\right)}^{2}}{x}$"
      ],
      "text/plain": [
       "   2   \n",
       "log (x)\n",
       "───────\n",
       "   x   "
      ]
     },
     "execution_count": 18,
     "metadata": {},
     "output_type": "execute_result"
    }
   ],
   "source": [
    "f1 = (ln(x))**2/x\n",
    "f1"
   ]
  },
  {
   "cell_type": "code",
   "execution_count": 19,
   "id": "a9cb032a-7d71-4abd-a240-cc762b7e309a",
   "metadata": {},
   "outputs": [
    {
     "data": {
      "image/png": "[encoded data removed]",
      "text/latex": [
       "$\\displaystyle \\frac{\\log{\\left(x \\right)}^{3}}{3}$"
      ],
      "text/plain": [
       "   3   \n",
       "log (x)\n",
       "───────\n",
       "   3   "
      ]
     },
     "execution_count": 19,
     "metadata": {},
     "output_type": "execute_result"
    }
   ],
   "source": [
    "integrate(f1,x)"
   ]
  },
  {
   "cell_type": "code",
   "execution_count": 20,
   "id": "2cd0bb18-e908-414e-b82d-4ad0b5408951",
   "metadata": {},
   "outputs": [
    {
     "data": {
      "image/png": "[encoded data removed]",
      "text/latex": [
       "$\\displaystyle \\sin{\\left(x \\right)} \\cos{\\left(x \\right)}$"
      ],
      "text/plain": [
       "sin(x)⋅cos(x)"
      ]
     },
     "execution_count": 20,
     "metadata": {},
     "output_type": "execute_result"
    }
   ],
   "source": [
    "f2 = sin(x)*cos(x)\n",
    "f2"
   ]
  },
  {
   "cell_type": "code",
   "execution_count": 21,
   "id": "b0dbdf61-42d0-42a7-97a9-ac966061c0af",
   "metadata": {},
   "outputs": [
    {
     "data": {
      "image/png": "[encoded data removed]",
      "text/latex": [
       "$\\displaystyle \\frac{\\sin^{2}{\\left(x \\right)}}{2}$"
      ],
      "text/plain": [
       "   2   \n",
       "sin (x)\n",
       "───────\n",
       "   2   "
      ]
     },
     "execution_count": 21,
     "metadata": {},
     "output_type": "execute_result"
    }
   ],
   "source": [
    "integrate(f2,x)"
   ]
  },
  {
   "cell_type": "code",
   "execution_count": 22,
   "id": "7e3cef88-0aff-44ac-8e74-7667a0822af4",
   "metadata": {},
   "outputs": [
    {
     "data": {
      "image/png": "[encoded data removed]",
      "text/latex": [
       "$\\displaystyle e^{w x}$"
      ],
      "text/plain": [
       " w⋅x\n",
       "ℯ   "
      ]
     },
     "execution_count": 22,
     "metadata": {},
     "output_type": "execute_result"
    }
   ],
   "source": [
    "f3 = exp(w*x)\n",
    "f3"
   ]
  },
  {
   "cell_type": "code",
   "execution_count": 23,
   "id": "01aeb1bb-ae19-4c66-b5c7-4a30a4e64d24",
   "metadata": {},
   "outputs": [
    {
     "data": {
      "text/latex": [
       "$\\displaystyle \\begin{cases} \\frac{e^{w x}}{w} & \\text{for}\\: w \\neq 0 \\\\x & \\text{otherwise} \\end{cases}$"
      ],
      "text/plain": [
       "⎧ w⋅x           \n",
       "⎪ℯ              \n",
       "⎪────  for w ≠ 0\n",
       "⎨ w             \n",
       "⎪               \n",
       "⎪ x    otherwise\n",
       "⎩               "
      ]
     },
     "execution_count": 23,
     "metadata": {},
     "output_type": "execute_result"
    }
   ],
   "source": [
    "integrate(f3,x)"
   ]
  },
  {
   "cell_type": "markdown",
   "id": "f7a2f81e-db2c-4a8d-9d15-3a32872418bc",
   "metadata": {},
   "source": [
    "## homework"
   ]
  },
  {
   "cell_type": "code",
   "execution_count": 24,
   "id": "8335bb4f-dcdb-46e1-b1f2-fcff77642feb",
   "metadata": {},
   "outputs": [
    {
     "data": {
      "image/png": "[encoded data removed]",
      "text/latex": [
       "$\\displaystyle \\log{\\left(x \\right)}$"
      ],
      "text/plain": [
       "log(x)"
      ]
     },
     "execution_count": 24,
     "metadata": {},
     "output_type": "execute_result"
    }
   ],
   "source": [
    "g1 = ln(x)\n",
    "g1"
   ]
  },
  {
   "cell_type": "code",
   "execution_count": 25,
   "id": "1e13f2df-4762-4987-a2e4-cf5c9f716276",
   "metadata": {},
   "outputs": [
    {
     "data": {
      "image/png": "[encoded data removed]",
      "text/latex": [
       "$\\displaystyle x \\log{\\left(x \\right)} - x$"
      ],
      "text/plain": [
       "x⋅log(x) - x"
      ]
     },
     "execution_count": 25,
     "metadata": {},
     "output_type": "execute_result"
    }
   ],
   "source": [
    "integrate(g1,x)"
   ]
  },
  {
   "cell_type": "code",
   "execution_count": 26,
   "id": "1179a075-029c-4926-af31-7c95e2d31d98",
   "metadata": {},
   "outputs": [
    {
     "data": {
      "image/png": "[encoded data removed]",
      "text/latex": [
       "$\\displaystyle 2 e^{2 x}$"
      ],
      "text/plain": [
       "   2⋅x\n",
       "2⋅ℯ   "
      ]
     },
     "execution_count": 26,
     "metadata": {},
     "output_type": "execute_result"
    }
   ],
   "source": [
    "diff(exp(2*x),x)"
   ]
  },
  {
   "cell_type": "code",
   "execution_count": 27,
   "id": "bd434530-cf76-48cd-b43e-ea84ab2b5ef9",
   "metadata": {},
   "outputs": [
    {
     "data": {
      "image/png": "[encoded data removed]",
      "text/latex": [
       "$\\displaystyle x e^{2 x}$"
      ],
      "text/plain": [
       "   2⋅x\n",
       "x⋅ℯ   "
      ]
     },
     "execution_count": 27,
     "metadata": {},
     "output_type": "execute_result"
    }
   ],
   "source": [
    "g2 = x*exp(2*x)\n",
    "g2"
   ]
  },
  {
   "cell_type": "code",
   "execution_count": 28,
   "id": "fcc05a65-e5eb-4dbc-af5a-3b272a46be60",
   "metadata": {},
   "outputs": [
    {
     "data": {
      "image/png": "[encoded data removed]",
      "text/latex": [
       "$\\displaystyle \\frac{\\left(2 x - 1\\right) e^{2 x}}{4}$"
      ],
      "text/plain": [
       "           2⋅x\n",
       "(2⋅x - 1)⋅ℯ   \n",
       "──────────────\n",
       "      4       "
      ]
     },
     "execution_count": 28,
     "metadata": {},
     "output_type": "execute_result"
    }
   ],
   "source": [
    "integrate(g2,x)"
   ]
  },
  {
   "cell_type": "code",
   "execution_count": 29,
   "id": "afb9abfb-ac77-45f5-ba49-3a0c43b69da1",
   "metadata": {},
   "outputs": [
    {
     "data": {
      "image/png": "[encoded data removed]",
      "text/latex": [
       "$\\displaystyle \\frac{e^{2 x}}{2}$"
      ],
      "text/plain": [
       " 2⋅x\n",
       "ℯ   \n",
       "────\n",
       " 2  "
      ]
     },
     "execution_count": 29,
     "metadata": {},
     "output_type": "execute_result"
    }
   ],
   "source": [
    "integrate(exp(2*x),x)"
   ]
  },
  {
   "cell_type": "code",
   "execution_count": 30,
   "id": "d0afbbc3-4f69-4cdf-a234-68ee140f4fbd",
   "metadata": {},
   "outputs": [
    {
     "data": {
      "image/png": "[encoded data removed]",
      "text/latex": [
       "$\\displaystyle x e^{x}$"
      ],
      "text/plain": [
       "   x\n",
       "x⋅ℯ "
      ]
     },
     "execution_count": 30,
     "metadata": {},
     "output_type": "execute_result"
    }
   ],
   "source": [
    "g3 = x*exp(x)\n",
    "g3"
   ]
  },
  {
   "cell_type": "code",
   "execution_count": 31,
   "id": "b657c6a4-6f51-4dd3-b3fa-a07b613464ac",
   "metadata": {},
   "outputs": [
    {
     "data": {
      "image/png": "[encoded data removed]",
      "text/latex": [
       "$\\displaystyle \\left(x - 1\\right) e^{x}$"
      ],
      "text/plain": [
       "         x\n",
       "(x - 1)⋅ℯ "
      ]
     },
     "execution_count": 31,
     "metadata": {},
     "output_type": "execute_result"
    }
   ],
   "source": [
    "integrate(g3,x)"
   ]
  },
  {
   "cell_type": "code",
   "execution_count": 32,
   "id": "ef9624da-47da-4bda-8813-47fe0751e84f",
   "metadata": {},
   "outputs": [
    {
     "data": {
      "image/png": "[encoded data removed]",
      "text/latex": [
       "$\\displaystyle t^{4} \\log{\\left(t \\right)}$"
      ],
      "text/plain": [
       " 4       \n",
       "t ⋅log(t)"
      ]
     },
     "execution_count": 32,
     "metadata": {},
     "output_type": "execute_result"
    }
   ],
   "source": [
    "g5 = t**4*ln(t)\n",
    "g5"
   ]
  },
  {
   "cell_type": "code",
   "execution_count": 33,
   "id": "40c8a2b0-bacb-4cea-886f-2b676c117465",
   "metadata": {},
   "outputs": [
    {
     "data": {
      "image/png": "[encoded data removed]",
      "text/latex": [
       "$\\displaystyle \\frac{t^{5} \\log{\\left(t \\right)}}{5} - \\frac{t^{5}}{25}$"
      ],
      "text/plain": [
       " 5           5\n",
       "t ⋅log(t)   t \n",
       "───────── - ──\n",
       "    5       25"
      ]
     },
     "execution_count": 33,
     "metadata": {},
     "output_type": "execute_result"
    }
   ],
   "source": [
    "integrate(g5,t)"
   ]
  },
  {
   "cell_type": "code",
   "execution_count": 34,
   "id": "97521a61-9e9c-4652-932c-4c92f4ce9fc9",
   "metadata": {},
   "outputs": [
    {
     "data": {
      "image/png": "[encoded data removed]",
      "text/latex": [
       "$\\displaystyle - \\cos{\\left(x \\right)}$"
      ],
      "text/plain": [
       "-cos(x)"
      ]
     },
     "execution_count": 34,
     "metadata": {},
     "output_type": "execute_result"
    }
   ],
   "source": [
    "integrate(sin(x),x)"
   ]
  },
  {
   "cell_type": "code",
   "execution_count": 35,
   "id": "0af59e24-5d5b-489a-8fa9-f0060d7bbf41",
   "metadata": {},
   "outputs": [
    {
     "data": {
      "image/png": "[encoded data removed]",
      "text/latex": [
       "$\\displaystyle x \\sin{\\left(x \\right)}$"
      ],
      "text/plain": [
       "x⋅sin(x)"
      ]
     },
     "execution_count": 35,
     "metadata": {},
     "output_type": "execute_result"
    }
   ],
   "source": [
    "g6 =x*sin(x)\n",
    "g6"
   ]
  },
  {
   "cell_type": "code",
   "execution_count": 36,
   "id": "c5a877d9-efda-4dc7-bf4d-937cf9e8fda1",
   "metadata": {},
   "outputs": [
    {
     "data": {
      "image/png": "[encoded data removed]",
      "text/latex": [
       "$\\displaystyle - x \\cos{\\left(x \\right)} + \\sin{\\left(x \\right)}$"
      ],
      "text/plain": [
       "-x⋅cos(x) + sin(x)"
      ]
     },
     "execution_count": 36,
     "metadata": {},
     "output_type": "execute_result"
    }
   ],
   "source": [
    "integrate(g6,x)"
   ]
  },
  {
   "cell_type": "code",
   "execution_count": 37,
   "id": "fe859b2e-e0d7-41a3-b657-0116a7e5dbb5",
   "metadata": {},
   "outputs": [
    {
     "data": {
      "image/png": "[encoded data removed]",
      "text/latex": [
       "$\\displaystyle \\frac{\\sin{\\left(5 x \\right)}}{5}$"
      ],
      "text/plain": [
       "sin(5⋅x)\n",
       "────────\n",
       "   5    "
      ]
     },
     "execution_count": 37,
     "metadata": {},
     "output_type": "execute_result"
    }
   ],
   "source": [
    "integrate(cos(5*x),x)"
   ]
  },
  {
   "cell_type": "code",
   "execution_count": 39,
   "id": "c5b197ad-833d-410a-bc99-e8ec695fabd7",
   "metadata": {},
   "outputs": [
    {
     "data": {
      "image/png": "[encoded data removed]",
      "text/latex": [
       "$\\displaystyle \\sin{\\left(x \\right)}$"
      ],
      "text/plain": [
       "sin(x)"
      ]
     },
     "execution_count": 39,
     "metadata": {},
     "output_type": "execute_result"
    }
   ],
   "source": [
    "integrate(cos(x),x)"
   ]
  },
  {
   "cell_type": "code",
   "execution_count": 40,
   "id": "7d2ea80a-c340-49df-b2b3-396c5df5a07d",
   "metadata": {},
   "outputs": [
    {
     "data": {
      "image/png": "[encoded data removed]",
      "text/latex": [
       "$\\displaystyle x \\cos{\\left(5 x \\right)}$"
      ],
      "text/plain": [
       "x⋅cos(5⋅x)"
      ]
     },
     "execution_count": 40,
     "metadata": {},
     "output_type": "execute_result"
    }
   ],
   "source": [
    "g7 = x*cos(5*x)\n",
    "g7"
   ]
  },
  {
   "cell_type": "code",
   "execution_count": 41,
   "id": "45377964-f68d-4b33-af01-3728e243a40a",
   "metadata": {},
   "outputs": [
    {
     "data": {
      "image/png": "[encoded data removed]",
      "text/latex": [
       "$\\displaystyle \\frac{x \\sin{\\left(5 x \\right)}}{5} + \\frac{\\cos{\\left(5 x \\right)}}{25}$"
      ],
      "text/plain": [
       "x⋅sin(5⋅x)   cos(5⋅x)\n",
       "────────── + ────────\n",
       "    5           25   "
      ]
     },
     "execution_count": 41,
     "metadata": {},
     "output_type": "execute_result"
    }
   ],
   "source": [
    "integrate(g7,x)"
   ]
  },
  {
   "cell_type": "code",
   "execution_count": null,
   "id": "5d854607-c41e-41a4-a96f-fd8a3a403662",
   "metadata": {},
   "outputs": [],
   "source": []
  }
 ],
 "metadata": {
  "kernelspec": {
   "display_name": "Python 3 (ipykernel)",
   "language": "python",
   "name": "python3"
  },
  "language_info": {
   "codemirror_mode": {
    "name": "ipython",
    "version": 3
   },
   "file_extension": ".py",
   "mimetype": "text/x-python",
   "name": "python",
   "nbconvert_exporter": "python",
   "pygments_lexer": "ipython3",
   "version": "3.11.7"
  }
 },
 "nbformat": 4,
 "nbformat_minor": 5
}
