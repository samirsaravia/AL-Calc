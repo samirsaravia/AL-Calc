{
 "cells": [
  {
   "cell_type": "markdown",
   "id": "e26274a9-c226-445d-b531-e64d4f97495a",
   "metadata": {},
   "source": [
    "# Resolução da Prova 2\n",
    "## Samir Saravia Castro"
   ]
  },
  {
   "cell_type": "code",
   "execution_count": 1,
   "id": "74152829-f87a-438a-ade8-8973032a21a9",
   "metadata": {},
   "outputs": [],
   "source": [
    "from sympy import *"
   ]
  },
  {
   "cell_type": "code",
   "execution_count": 2,
   "id": "08657720-9275-4bfd-a9c7-e0d9b01413e9",
   "metadata": {},
   "outputs": [],
   "source": [
    "init_printing(\"mathjax\")\n",
    "x,t = symbols(\"x t\")"
   ]
  },
  {
   "cell_type": "markdown",
   "id": "6bf37c64-d83b-4a2c-92b2-dbf9f1c61c61",
   "metadata": {},
   "source": [
    "Utilizando a regra da cadeia, determine a derivada de cada uma das funções a seguir:\n",
    "\n",
    "a) $y=20(2e^x+2)^5$"
   ]
  },
  {
   "cell_type": "code",
   "execution_count": 3,
   "id": "b3fe1e73-b274-4e7e-8f21-01290ac50b60",
   "metadata": {},
   "outputs": [
    {
     "data": {
      "image/png": "[encoded data removed]",
      "text/latex": [
       "$\\displaystyle 20 \\left(2 e^{x} + 2\\right)^{5}$"
      ],
      "text/plain": [
       "             5\n",
       "   ⎛   x    ⎞ \n",
       "20⋅⎝2⋅ℯ  + 2⎠ "
      ]
     },
     "execution_count": 3,
     "metadata": {},
     "output_type": "execute_result"
    }
   ],
   "source": [
    "a1 = 20*(2*exp(x)+2)**5\n",
    "a1"
   ]
  },
  {
   "cell_type": "code",
   "execution_count": 4,
   "id": "d4ba2b46-1e60-42f8-ae5a-ddc06958ef98",
   "metadata": {},
   "outputs": [
    {
     "data": {
      "image/png": "[encoded data removed]",
      "text/latex": [
       "$\\displaystyle 200 \\left(2 e^{x} + 2\\right)^{4} e^{x}$"
      ],
      "text/plain": [
       "              4   \n",
       "    ⎛   x    ⎞   x\n",
       "200⋅⎝2⋅ℯ  + 2⎠ ⋅ℯ "
      ]
     },
     "execution_count": 4,
     "metadata": {},
     "output_type": "execute_result"
    }
   ],
   "source": [
    "diff(a1,x)"
   ]
  },
  {
   "cell_type": "markdown",
   "id": "ff8feb2f-ebaf-4001-a7a2-c6efa3a0bee7",
   "metadata": {},
   "source": [
    "$$u = (2e^x+5)$$\n",
    "$$u'= 2e^x$$\n",
    "\n",
    "$$y = 20(u)^5$$\n",
    "\n",
    "$$y = 100(u)^42e^x$$\n",
    "\n",
    "$$y =200(2e^x+2)^4 e^x$$"
   ]
  },
  {
   "cell_type": "code",
   "execution_count": 5,
   "id": "cc9412b2-4838-4b38-9275-d9965f31fc1a",
   "metadata": {},
   "outputs": [
    {
     "data": {
      "image/png": "[encoded data removed]",
      "text/latex": [
       "$\\displaystyle 2 \\cos{\\left(3 x \\right)}$"
      ],
      "text/plain": [
       "2⋅cos(3⋅x)"
      ]
     },
     "execution_count": 5,
     "metadata": {},
     "output_type": "execute_result"
    }
   ],
   "source": [
    "b1 = 2*cos(3*x)\n",
    "b1"
   ]
  },
  {
   "cell_type": "code",
   "execution_count": 6,
   "id": "9abc8bde-4069-4b8e-a5aa-94f554de0cd4",
   "metadata": {},
   "outputs": [
    {
     "data": {
      "image/png": "[encoded data removed]",
      "text/latex": [
       "$\\displaystyle - 6 \\sin{\\left(3 x \\right)}$"
      ],
      "text/plain": [
       "-6⋅sin(3⋅x)"
      ]
     },
     "execution_count": 6,
     "metadata": {},
     "output_type": "execute_result"
    }
   ],
   "source": [
    "diff(b1,x)"
   ]
  },
  {
   "cell_type": "markdown",
   "id": "f34fceca-f9bc-4cbb-bd56-1f911a61eff3",
   "metadata": {},
   "source": [
    "$$f(x) = 2 cos(3x)$$\n",
    "\n",
    "$$u =3x$$\n",
    "\n",
    "$$u'=3$$\n",
    "\n",
    "$$f(u)=2 cos(u)$$\n",
    "\n",
    "$$f'(u) = -2 sen(u)u'$$\n",
    "\n",
    "$$f'(x)= -2sen(3x)(3)$$\n",
    "$$f'(x)= -6sen(3x)$$"
   ]
  },
  {
   "cell_type": "code",
   "execution_count": 7,
   "id": "bf415411-70d8-4220-a859-8f498e787a7c",
   "metadata": {},
   "outputs": [
    {
     "data": {
      "image/png": "[encoded data removed]",
      "text/latex": [
       "$\\displaystyle 8^{x + 1}$"
      ],
      "text/plain": [
       " x + 1\n",
       "8     "
      ]
     },
     "execution_count": 7,
     "metadata": {},
     "output_type": "execute_result"
    }
   ],
   "source": [
    "c1 = 8**(x+1)\n",
    "c1"
   ]
  },
  {
   "cell_type": "code",
   "execution_count": 8,
   "id": "fbd4a57d-e6d6-45b5-a410-7646f3b67752",
   "metadata": {},
   "outputs": [
    {
     "data": {
      "image/png": "[encoded data removed]",
      "text/latex": [
       "$\\displaystyle 8^{x + 1} \\log{\\left(8 \\right)}$"
      ],
      "text/plain": [
       " x + 1       \n",
       "8     ⋅log(8)"
      ]
     },
     "execution_count": 8,
     "metadata": {},
     "output_type": "execute_result"
    }
   ],
   "source": [
    "diff(c1,x)"
   ]
  },
  {
   "cell_type": "code",
   "execution_count": 9,
   "id": "702329f2-59c7-4cd1-8690-e397d8c0f347",
   "metadata": {},
   "outputs": [
    {
     "data": {
      "image/png": "[encoded data removed]",
      "text/latex": [
       "$\\displaystyle \\tan{\\left(x^{2} + 2 \\right)}$"
      ],
      "text/plain": [
       "   ⎛ 2    ⎞\n",
       "tan⎝x  + 2⎠"
      ]
     },
     "execution_count": 9,
     "metadata": {},
     "output_type": "execute_result"
    }
   ],
   "source": [
    "d1 = tan(x**2+2)\n",
    "d1"
   ]
  },
  {
   "cell_type": "code",
   "execution_count": 10,
   "id": "a93a0446-720b-4996-a80f-f25429956df3",
   "metadata": {},
   "outputs": [
    {
     "data": {
      "image/png": "[encoded data removed]",
      "text/latex": [
       "$\\displaystyle 2 x \\left(\\tan^{2}{\\left(x^{2} + 2 \\right)} + 1\\right)$"
      ],
      "text/plain": [
       "    ⎛   2⎛ 2    ⎞    ⎞\n",
       "2⋅x⋅⎝tan ⎝x  + 2⎠ + 1⎠"
      ]
     },
     "execution_count": 10,
     "metadata": {},
     "output_type": "execute_result"
    }
   ],
   "source": [
    "diff(d1,x)"
   ]
  },
  {
   "cell_type": "code",
   "execution_count": 11,
   "id": "d9eb867e-1a49-4521-8b4f-b3e0c5ebccfc",
   "metadata": {},
   "outputs": [
    {
     "data": {
      "image/png": "[encoded data removed]",
      "text/latex": [
       "$\\displaystyle \\log{\\left(x^{3} \\right)}$"
      ],
      "text/plain": [
       "   ⎛ 3⎞\n",
       "log⎝x ⎠"
      ]
     },
     "execution_count": 11,
     "metadata": {},
     "output_type": "execute_result"
    }
   ],
   "source": [
    "e1 = ln(x**3)\n",
    "e1"
   ]
  },
  {
   "cell_type": "code",
   "execution_count": 12,
   "id": "38b69e37-cb2e-4fd0-9e5a-e6680b0a5df8",
   "metadata": {},
   "outputs": [
    {
     "data": {
      "image/png": "[encoded data removed]",
      "text/latex": [
       "$\\displaystyle \\frac{3}{x}$"
      ],
      "text/plain": [
       "3\n",
       "─\n",
       "x"
      ]
     },
     "execution_count": 12,
     "metadata": {},
     "output_type": "execute_result"
    }
   ],
   "source": [
    "diff(e1,x)"
   ]
  },
  {
   "cell_type": "code",
   "execution_count": 13,
   "id": "8d541ecf-19af-4466-8b36-3c7abc53587f",
   "metadata": {},
   "outputs": [
    {
     "data": {
      "image/png": "[encoded data removed]",
      "text/latex": [
       "$\\displaystyle e^{\\sqrt{x - 3}}$"
      ],
      "text/plain": [
       "   _______\n",
       " ╲╱ x - 3 \n",
       "ℯ         "
      ]
     },
     "execution_count": 13,
     "metadata": {},
     "output_type": "execute_result"
    }
   ],
   "source": [
    "a2 = exp(sqrt(x-3))\n",
    "a2"
   ]
  },
  {
   "cell_type": "code",
   "execution_count": 14,
   "id": "fbf18848-5344-46d6-85b8-efd4389ea2c4",
   "metadata": {},
   "outputs": [
    {
     "data": {
      "image/png": "[encoded data removed]",
      "text/latex": [
       "$\\displaystyle \\frac{e^{\\sqrt{x - 3}}}{2 \\sqrt{x - 3}}$"
      ],
      "text/plain": [
       "    _______\n",
       "  ╲╱ x - 3 \n",
       " ℯ         \n",
       "───────────\n",
       "    _______\n",
       "2⋅╲╱ x - 3 "
      ]
     },
     "execution_count": 14,
     "metadata": {},
     "output_type": "execute_result"
    }
   ],
   "source": [
    "diff(a2,x)"
   ]
  },
  {
   "cell_type": "code",
   "execution_count": 15,
   "id": "e063472a-71b0-4ef4-9629-2d5fad1dec17",
   "metadata": {},
   "outputs": [
    {
     "data": {
      "image/png": "[encoded data removed]",
      "text/latex": [
       "$\\displaystyle \\frac{e}{2}$"
      ],
      "text/plain": [
       "ℯ\n",
       "─\n",
       "2"
      ]
     },
     "execution_count": 15,
     "metadata": {},
     "output_type": "execute_result"
    }
   ],
   "source": [
    "diff(a2,x).subs(x,4)"
   ]
  },
  {
   "cell_type": "code",
   "execution_count": 16,
   "id": "cd1dec28-81f1-4b56-aa94-a0cc15275e35",
   "metadata": {},
   "outputs": [
    {
     "data": {
      "image/png": "[encoded data removed]",
      "text/latex": [
       "$\\displaystyle x \\sec{\\left(x \\right)}$"
      ],
      "text/plain": [
       "x⋅sec(x)"
      ]
     },
     "execution_count": 16,
     "metadata": {},
     "output_type": "execute_result"
    }
   ],
   "source": [
    "a3 = x*sec(x)\n",
    "a3"
   ]
  },
  {
   "cell_type": "code",
   "execution_count": 17,
   "id": "45451140-f7a1-47eb-9ccc-356e77ad18b8",
   "metadata": {},
   "outputs": [
    {
     "data": {
      "image/png": "[encoded data removed]",
      "text/latex": [
       "$\\displaystyle x \\tan{\\left(x \\right)} \\sec{\\left(x \\right)} + \\sec{\\left(x \\right)}$"
      ],
      "text/plain": [
       "x⋅tan(x)⋅sec(x) + sec(x)"
      ]
     },
     "execution_count": 17,
     "metadata": {},
     "output_type": "execute_result"
    }
   ],
   "source": [
    "diff(a3,x)"
   ]
  },
  {
   "cell_type": "code",
   "execution_count": 18,
   "id": "25130a75-830b-43de-bb70-fdae19603d3b",
   "metadata": {},
   "outputs": [
    {
     "data": {
      "image/png": "[encoded data removed]",
      "text/latex": [
       "$\\displaystyle 2^{x} + \\log{\\left(x \\right)}$"
      ],
      "text/plain": [
       " x         \n",
       "2  + log(x)"
      ]
     },
     "execution_count": 18,
     "metadata": {},
     "output_type": "execute_result"
    }
   ],
   "source": [
    "b3 = 2**x+ln(x)\n",
    "b3"
   ]
  },
  {
   "cell_type": "code",
   "execution_count": 19,
   "id": "7a0651d5-0804-418a-a3bd-d85d3d6ecec5",
   "metadata": {},
   "outputs": [
    {
     "data": {
      "image/png": "[encoded data removed]",
      "text/latex": [
       "$\\displaystyle 2^{x} \\log{\\left(2 \\right)} + \\frac{1}{x}$"
      ],
      "text/plain": [
       " x          1\n",
       "2 ⋅log(2) + ─\n",
       "            x"
      ]
     },
     "execution_count": 19,
     "metadata": {},
     "output_type": "execute_result"
    }
   ],
   "source": [
    "diff(b3,x)"
   ]
  },
  {
   "cell_type": "code",
   "execution_count": 21,
   "id": "1f43d73e-0dcc-4da4-acc2-41fef29b0ef0",
   "metadata": {},
   "outputs": [
    {
     "data": {
      "image/png": "[encoded data removed]",
      "text/latex": [
       "$\\displaystyle \\frac{x^{2}}{\\log{\\left(x \\right)}}$"
      ],
      "text/plain": [
       "   2  \n",
       "  x   \n",
       "──────\n",
       "log(x)"
      ]
     },
     "execution_count": 21,
     "metadata": {},
     "output_type": "execute_result"
    }
   ],
   "source": [
    "c3  = x**2/ln(x)\n",
    "c3"
   ]
  },
  {
   "cell_type": "code",
   "execution_count": 22,
   "id": "899dcdd8-51a4-4e5c-843e-2cf2c19d388b",
   "metadata": {},
   "outputs": [
    {
     "data": {
      "image/png": "[encoded data removed]",
      "text/latex": [
       "$\\displaystyle \\frac{2 x}{\\log{\\left(x \\right)}} - \\frac{x}{\\log{\\left(x \\right)}^{2}}$"
      ],
      "text/plain": [
       " 2⋅x        x   \n",
       "────── - ───────\n",
       "log(x)      2   \n",
       "         log (x)"
      ]
     },
     "execution_count": 22,
     "metadata": {},
     "output_type": "execute_result"
    }
   ],
   "source": [
    "diff(c3,x)"
   ]
  },
  {
   "cell_type": "code",
   "execution_count": 24,
   "id": "4641c5bc-a8cf-4d1a-9591-186b109d4f12",
   "metadata": {},
   "outputs": [
    {
     "data": {
      "image/png": "[encoded data removed]",
      "text/latex": [
       "$\\displaystyle 249.1$"
      ],
      "text/plain": [
       "249.10000000000002"
      ]
     },
     "execution_count": 24,
     "metadata": {},
     "output_type": "execute_result"
    }
   ],
   "source": [
    "235*1.06"
   ]
  },
  {
   "cell_type": "code",
   "execution_count": 25,
   "id": "2518eefe-7052-4d8b-8c3b-69d19e90e98a",
   "metadata": {},
   "outputs": [
    {
     "data": {
      "image/png": "[encoded data removed]",
      "text/latex": [
       "$\\displaystyle 0.14335$"
      ],
      "text/plain": [
       "0.14335"
      ]
     },
     "execution_count": 25,
     "metadata": {},
     "output_type": "execute_result"
    }
   ],
   "source": [
    "235*0.00061"
   ]
  },
  {
   "cell_type": "code",
   "execution_count": 28,
   "id": "207b9bff-89c8-433a-bc98-42978548a80a",
   "metadata": {},
   "outputs": [
    {
     "data": {
      "image/png": "[encoded data removed]",
      "text/latex": [
       "$\\displaystyle 249.1 - 235 e^{- 0.00061 x}$"
      ],
      "text/plain": [
       "             -0.00061⋅x\n",
       "249.1 - 235⋅ℯ          "
      ]
     },
     "execution_count": 28,
     "metadata": {},
     "output_type": "execute_result"
    }
   ],
   "source": [
    "g1 = 235*(1.06-exp(-0.00061*x))\n",
    "g1"
   ]
  },
  {
   "cell_type": "code",
   "execution_count": 31,
   "id": "cd36d734-b543-4b2a-b1f9-c4a555dee935",
   "metadata": {},
   "outputs": [
    {
     "data": {
      "image/png": "[encoded data removed]",
      "text/latex": [
       "$\\displaystyle 0.138198242244799$"
      ],
      "text/plain": [
       "0.138198242244799"
      ]
     },
     "execution_count": 31,
     "metadata": {},
     "output_type": "execute_result"
    }
   ],
   "source": [
    "diff(g1,x).subs(x,60)"
   ]
  },
  {
   "cell_type": "markdown",
   "id": "4d1f5b39-40bb-47ac-bfc6-8796f4727e68",
   "metadata": {},
   "source": [
    "$g(t)=e^{-2t}cos(4t)$"
   ]
  },
  {
   "cell_type": "markdown",
   "id": "16d7e002-0b67-436f-909e-4fa7c4a6ad20",
   "metadata": {},
   "source": [
    "$g'(t)= -4e^{-2t}sen(4t)-2e^{-2t}cos(4t)$"
   ]
  },
  {
   "cell_type": "code",
   "execution_count": null,
   "id": "31d29373-2178-4504-8a6d-4add1d3be7d7",
   "metadata": {},
   "outputs": [],
   "source": []
  }
 ],
 "metadata": {
  "kernelspec": {
   "display_name": "Python 3 (ipykernel)",
   "language": "python",
   "name": "python3"
  },
  "language_info": {
   "codemirror_mode": {
    "name": "ipython",
    "version": 3
   },
   "file_extension": ".py",
   "mimetype": "text/x-python",
   "name": "python",
   "nbconvert_exporter": "python",
   "pygments_lexer": "ipython3",
   "version": "3.12.2"
  }
 },
 "nbformat": 4,
 "nbformat_minor": 5
}
