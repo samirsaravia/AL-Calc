{
 "cells": [
  {
   "cell_type": "markdown",
   "id": "6c4fad08-18cc-4457-9484-aa6cfc27e3c6",
   "metadata": {},
   "source": [
    "# Lista Derivadas 2\n",
    "\n",
    "## 1\n",
    "\n",
    "\n",
    "Se $f(x)=10x^9-4x^7+9x^5+8x^2+3x$, determine todas as derivadas de ordem superior possíveis"
   ]
  },
  {
   "cell_type": "code",
   "execution_count": 1,
   "id": "410f071b-901c-467f-9e56-85e4ddf069b4",
   "metadata": {},
   "outputs": [],
   "source": [
    "import sympy as sym"
   ]
  },
  {
   "cell_type": "code",
   "execution_count": 2,
   "id": "978eb761-8142-4b81-984d-61b66cefd078",
   "metadata": {},
   "outputs": [],
   "source": [
    "sym.init_printing(\"mathjax\")\n",
    "x = sym.symbols(\"x\")"
   ]
  },
  {
   "cell_type": "code",
   "execution_count": 3,
   "id": "5c4d0c44-250b-4dcd-ba24-01433df54259",
   "metadata": {},
   "outputs": [
    {
     "data": {
      "image/png": "[encoded data removed]",
      "text/latex": [
       "$\\displaystyle 10 x^{9} - 4 x^{7} + 9 x^{5} + 8 x^{2} + 3 x$"
      ],
      "text/plain": [
       "    9      7      5      2      \n",
       "10⋅x  - 4⋅x  + 9⋅x  + 8⋅x  + 3⋅x"
      ]
     },
     "execution_count": 3,
     "metadata": {},
     "output_type": "execute_result"
    }
   ],
   "source": [
    "f = 10*x**9-4*x**7+9*x**5+8*x**2+3*x\n",
    "f"
   ]
  },
  {
   "cell_type": "code",
   "execution_count": 4,
   "id": "7ef07378-c601-4a8c-92fb-f1b5ef33e7e1",
   "metadata": {},
   "outputs": [
    {
     "data": {
      "image/png": "[encoded data removed]",
      "text/latex": [
       "$\\displaystyle 90 x^{8} - 28 x^{6} + 45 x^{4} + 16 x + 3$"
      ],
      "text/plain": [
       "    8       6       4           \n",
       "90⋅x  - 28⋅x  + 45⋅x  + 16⋅x + 3"
      ]
     },
     "execution_count": 4,
     "metadata": {},
     "output_type": "execute_result"
    }
   ],
   "source": [
    "f1 = sym.diff(f)\n",
    "f1"
   ]
  },
  {
   "cell_type": "code",
   "execution_count": 5,
   "id": "95618e55-bbce-42e6-82b7-b2a5d8d81401",
   "metadata": {},
   "outputs": [
    {
     "data": {
      "image/png": "[encoded data removed]",
      "text/latex": [
       "$\\displaystyle 720 x^{7} - 168 x^{5} + 180 x^{3} + 16$"
      ],
      "text/plain": [
       "     7        5        3     \n",
       "720⋅x  - 168⋅x  + 180⋅x  + 16"
      ]
     },
     "execution_count": 5,
     "metadata": {},
     "output_type": "execute_result"
    }
   ],
   "source": [
    "f2 = sym.diff(f1)\n",
    "f2"
   ]
  },
  {
   "cell_type": "code",
   "execution_count": 6,
   "id": "6803d06f-e724-454f-8990-b3c946206e08",
   "metadata": {},
   "outputs": [
    {
     "data": {
      "image/png": "[encoded data removed]",
      "text/latex": [
       "$\\displaystyle 5040 x^{6} - 840 x^{4} + 540 x^{2}$"
      ],
      "text/plain": [
       "      6        4        2\n",
       "5040⋅x  - 840⋅x  + 540⋅x "
      ]
     },
     "execution_count": 6,
     "metadata": {},
     "output_type": "execute_result"
    }
   ],
   "source": [
    "f3 = sym.diff(f2)\n",
    "f3"
   ]
  },
  {
   "cell_type": "code",
   "execution_count": 7,
   "id": "0c820cf3-c63b-4da4-b6c7-085de4ab561c",
   "metadata": {},
   "outputs": [
    {
     "data": {
      "image/png": "[encoded data removed]",
      "text/latex": [
       "$\\displaystyle 30240 x^{5} - 3360 x^{3} + 1080 x$"
      ],
      "text/plain": [
       "       5         3         \n",
       "30240⋅x  - 3360⋅x  + 1080⋅x"
      ]
     },
     "execution_count": 7,
     "metadata": {},
     "output_type": "execute_result"
    }
   ],
   "source": [
    "f4 = sym.diff(f3)\n",
    "f4"
   ]
  },
  {
   "cell_type": "code",
   "execution_count": 8,
   "id": "0a388e37-0412-4ca2-b19b-fbc50d3004c5",
   "metadata": {},
   "outputs": [
    {
     "data": {
      "image/png": "[encoded data removed]",
      "text/latex": [
       "$\\displaystyle 151200 x^{4} - 10080 x^{2} + 1080$"
      ],
      "text/plain": [
       "        4          2       \n",
       "151200⋅x  - 10080⋅x  + 1080"
      ]
     },
     "execution_count": 8,
     "metadata": {},
     "output_type": "execute_result"
    }
   ],
   "source": [
    "f5= sym.diff(f4)\n",
    "f5"
   ]
  },
  {
   "cell_type": "code",
   "execution_count": 9,
   "id": "11b6757e-05cc-4341-b405-d56ce66f0963",
   "metadata": {},
   "outputs": [
    {
     "data": {
      "image/png": "[encoded data removed]",
      "text/latex": [
       "$\\displaystyle 604800 x^{3} - 20160 x$"
      ],
      "text/plain": [
       "        3          \n",
       "604800⋅x  - 20160⋅x"
      ]
     },
     "execution_count": 9,
     "metadata": {},
     "output_type": "execute_result"
    }
   ],
   "source": [
    "f6 = sym.diff(f5)\n",
    "f6"
   ]
  },
  {
   "cell_type": "code",
   "execution_count": 10,
   "id": "58ba252e-5a22-4113-b3ba-ca76658bf919",
   "metadata": {},
   "outputs": [
    {
     "data": {
      "image/png": "[encoded data removed]",
      "text/latex": [
       "$\\displaystyle 1814400 x^{2} - 20160$"
      ],
      "text/plain": [
       "         2        \n",
       "1814400⋅x  - 20160"
      ]
     },
     "execution_count": 10,
     "metadata": {},
     "output_type": "execute_result"
    }
   ],
   "source": [
    "f7 = sym.diff(f6)\n",
    "f7"
   ]
  },
  {
   "cell_type": "code",
   "execution_count": 11,
   "id": "5fae7475-f37f-47c6-888e-03364b8acfc1",
   "metadata": {},
   "outputs": [
    {
     "data": {
      "image/png": "[encoded data removed]",
      "text/latex": [
       "$\\displaystyle 3628800 x$"
      ],
      "text/plain": [
       "3628800⋅x"
      ]
     },
     "execution_count": 11,
     "metadata": {},
     "output_type": "execute_result"
    }
   ],
   "source": [
    "f8 = sym.diff(f7)\n",
    "f8"
   ]
  },
  {
   "cell_type": "code",
   "execution_count": 12,
   "id": "f1eb188d-b1ee-4bb4-86ca-e845ab94413f",
   "metadata": {},
   "outputs": [
    {
     "data": {
      "image/png": "[encoded data removed]",
      "text/latex": [
       "$\\displaystyle 3628800$"
      ],
      "text/plain": [
       "3628800"
      ]
     },
     "execution_count": 12,
     "metadata": {},
     "output_type": "execute_result"
    }
   ],
   "source": [
    "f9 = sym.diff(f8)\n",
    "f9"
   ]
  },
  {
   "cell_type": "markdown",
   "id": "8da99606-3493-4c22-bb4f-4f2e089e5ffc",
   "metadata": {},
   "source": [
    "## 2\n",
    "\n",
    "\n",
    "Determine as derivadas primeira e segunda de cada uma das funções\n",
    "\n",
    "\n",
    "a) $f(x)=x^5-2x^3+x$\n",
    "\n",
    "b) $g(s)=2s^4-4s^3+7s-1$"
   ]
  },
  {
   "cell_type": "code",
   "execution_count": 13,
   "id": "80e2bb95-87d5-4d75-b119-7c10f583aca4",
   "metadata": {},
   "outputs": [],
   "source": [
    "f, g = sym.symbols(\"f g\", cls=sym.Function)\n",
    "s = sym.symbols(\"s\")"
   ]
  },
  {
   "cell_type": "code",
   "execution_count": 14,
   "id": "739ac238-5640-4a08-95a7-f0560642c37a",
   "metadata": {},
   "outputs": [
    {
     "data": {
      "image/png": "[encoded data removed]",
      "text/latex": [
       "$\\displaystyle x^{5} - 2 x^{3} + x$"
      ],
      "text/plain": [
       " 5      3    \n",
       "x  - 2⋅x  + x"
      ]
     },
     "execution_count": 14,
     "metadata": {},
     "output_type": "execute_result"
    }
   ],
   "source": [
    "f = x**5-2*x**3+x\n",
    "f"
   ]
  },
  {
   "cell_type": "code",
   "execution_count": 15,
   "id": "5b3a2ad6-25b8-4b39-a047-89ac07270817",
   "metadata": {},
   "outputs": [
    {
     "data": {
      "image/png": "[encoded data removed]",
      "text/latex": [
       "$\\displaystyle 5 x^{4} - 6 x^{2} + 1$"
      ],
      "text/plain": [
       "   4      2    \n",
       "5⋅x  - 6⋅x  + 1"
      ]
     },
     "execution_count": 15,
     "metadata": {},
     "output_type": "execute_result"
    }
   ],
   "source": [
    "f_1 = sym.diff(f)\n",
    "f_1"
   ]
  },
  {
   "cell_type": "code",
   "execution_count": 16,
   "id": "98f8c4ec-a336-4553-ac51-4cb856ec8430",
   "metadata": {},
   "outputs": [
    {
     "data": {
      "image/png": "[encoded data removed]",
      "text/latex": [
       "$\\displaystyle 20 x^{3} - 12 x$"
      ],
      "text/plain": [
       "    3       \n",
       "20⋅x  - 12⋅x"
      ]
     },
     "execution_count": 16,
     "metadata": {},
     "output_type": "execute_result"
    }
   ],
   "source": [
    "f_2 = sym.diff(f_1)\n",
    "f_2"
   ]
  },
  {
   "cell_type": "code",
   "execution_count": 17,
   "id": "b2427f4a-5b24-4321-8d01-aff197efd687",
   "metadata": {},
   "outputs": [
    {
     "data": {
      "image/png": "[encoded data removed]",
      "text/latex": [
       "$\\displaystyle 2 s^{4} - 4 s^{3} + 7 s - 1$"
      ],
      "text/plain": [
       "   4      3          \n",
       "2⋅s  - 4⋅s  + 7⋅s - 1"
      ]
     },
     "execution_count": 17,
     "metadata": {},
     "output_type": "execute_result"
    }
   ],
   "source": [
    "g = 2*s**4-4*s**3+7*s-1\n",
    "g"
   ]
  },
  {
   "cell_type": "code",
   "execution_count": 18,
   "id": "471d3c77-cb33-47a7-a800-1108a473f45c",
   "metadata": {},
   "outputs": [
    {
     "data": {
      "image/png": "[encoded data removed]",
      "text/latex": [
       "$\\displaystyle 8 s^{3} - 12 s^{2} + 7$"
      ],
      "text/plain": [
       "   3       2    \n",
       "8⋅s  - 12⋅s  + 7"
      ]
     },
     "execution_count": 18,
     "metadata": {},
     "output_type": "execute_result"
    }
   ],
   "source": [
    "g1 = sym.diff(g)\n",
    "g1"
   ]
  },
  {
   "cell_type": "code",
   "execution_count": 19,
   "id": "6990c3f1-26ad-49b6-a6b2-f5d42d69070b",
   "metadata": {},
   "outputs": [
    {
     "data": {
      "image/png": "[encoded data removed]",
      "text/latex": [
       "$\\displaystyle 24 s^{2} - 24 s$"
      ],
      "text/plain": [
       "    2       \n",
       "24⋅s  - 24⋅s"
      ]
     },
     "execution_count": 19,
     "metadata": {},
     "output_type": "execute_result"
    }
   ],
   "source": [
    "g2 = sym.diff(g1)\n",
    "g2"
   ]
  },
  {
   "cell_type": "markdown",
   "id": "ba7df42d-7ec9-4cba-ae34-2b279a524c64",
   "metadata": {},
   "source": [
    "## 3 \n",
    "\n",
    "\n",
    "Um fazendeiro tem 1200 m de cerca e quer cercar um campo retangular que está na margem de um rio reto. Ele não precisa de cerca ao lado do rio. Quais são as dimensões do campo que tem maior área?"
   ]
  },
  {
   "cell_type": "markdown",
   "id": "68501301-f67b-4bcf-b34d-c316350ba036",
   "metadata": {},
   "source": [
    "Como a figura é retangular, as bases foram denominadas x(**base**), e altura h. Dessa forma o perímetro é: $1200=2x+h$, isolando h, tem $h = 1200-2x$\n",
    "\n",
    "A área: $A=x\\times h$\n",
    "\n",
    "substituindo h em A:\n",
    "\n",
    "$$A=-2x^2+1200x$$"
   ]
  },
  {
   "cell_type": "code",
   "execution_count": 20,
   "id": "c754590c-1043-4ab3-84cd-b8c68ac74a7e",
   "metadata": {},
   "outputs": [
    {
     "data": {
      "image/png": "[encoded data removed]",
      "text/latex": [
       "$\\displaystyle \\left[ 0, \\  600\\right]$"
      ],
      "text/plain": [
       "[0, 600]"
      ]
     },
     "execution_count": 20,
     "metadata": {},
     "output_type": "execute_result"
    }
   ],
   "source": [
    "sym.solve(-2*x**2+1200*x)"
   ]
  },
  {
   "cell_type": "markdown",
   "id": "6526ca36-2b8c-4191-832d-fb5eb95382e1",
   "metadata": {},
   "source": [
    "Os pontos críticos são no $x_1=0$  e $x_2=600$"
   ]
  },
  {
   "cell_type": "markdown",
   "id": "de98306f-0c37-460f-b04c-7d22a8860a95",
   "metadata": {},
   "source": [
    "Integrando $-2x^2+1200x$, para visualizar a função"
   ]
  },
  {
   "cell_type": "code",
   "execution_count": 21,
   "id": "596df9a7-2e8e-44d1-83a1-33684ad0c756",
   "metadata": {},
   "outputs": [
    {
     "data": {
      "image/png": "[encoded data removed]",
      "text/latex": [
       "$\\displaystyle - \\frac{2 x^{3}}{3} + 600 x^{2}$"
      ],
      "text/plain": [
       "     3         \n",
       "  2⋅x         2\n",
       "- ──── + 600⋅x \n",
       "   3           "
      ]
     },
     "execution_count": 21,
     "metadata": {},
     "output_type": "execute_result"
    }
   ],
   "source": [
    "sym.integrate(-2*x**2+1200*x)"
   ]
  },
  {
   "cell_type": "code",
   "execution_count": 22,
   "id": "dba75c49-b4cc-47b4-a563-2603ce47a9e5",
   "metadata": {},
   "outputs": [],
   "source": [
    "import numpy as np\n",
    "import matplotlib.pyplot as plt"
   ]
  },
  {
   "cell_type": "code",
   "execution_count": 23,
   "id": "b9ef503f-9630-4579-9c11-1ae99f6bc0db",
   "metadata": {},
   "outputs": [],
   "source": [
    "x1l = np.linspace(0,650,100) # domínio"
   ]
  },
  {
   "cell_type": "code",
   "execution_count": 24,
   "id": "ddd7a78d-13bb-4e73-85f8-0731a83784dd",
   "metadata": {},
   "outputs": [],
   "source": [
    "def f(x,a,b,c,d):\n",
    "    return a*x**3+b*x**2+c*x+d"
   ]
  },
  {
   "cell_type": "code",
   "execution_count": 25,
   "id": "797a26a9-e402-48cd-90e1-ab66bd242451",
   "metadata": {},
   "outputs": [],
   "source": [
    "y1l = f(x1l, -2/3,600,0,0)  # imagem"
   ]
  },
  {
   "cell_type": "code",
   "execution_count": 26,
   "id": "cc6802b6-3db6-4ae8-802c-92bfd97941e7",
   "metadata": {},
   "outputs": [
    {
     "data": {
      "image/png": "[encoded data removed]",
      "text/plain": [
       "<Figure size 576x432 with 1 Axes>"
      ]
     },
     "metadata": {},
     "output_type": "display_data"
    }
   ],
   "source": [
    "plt.figure(num=0, dpi=90)\n",
    "plt.plot(x1l,y1l,label=\"$-2x^3/3 +600x^2$\")\n",
    "plt.scatter(600,72000000)\n",
    "plt.grid(True, which=\"both\")\n",
    "plt.legend()\n",
    "plt.show()"
   ]
  },
  {
   "cell_type": "markdown",
   "id": "76568976-5473-4c5e-bf98-2335bc2308c2",
   "metadata": {},
   "source": [
    "## 4\n",
    "\n",
    "Um tanque de água cônico com vértice para baixo tem um raio de 10 m no topo e uma altura de 24 m. Se a água fluir dentro do tanque a uma taxa de $20 m^3/min$ , com que velocidade sua profundidade estará crescendo quando ela tiver 16 m de profundidade?"
   ]
  },
  {
   "cell_type": "code",
   "execution_count": null,
   "id": "19188523-020f-4b35-ae05-2e9c745bfaa9",
   "metadata": {},
   "outputs": [],
   "source": [
    "\n"
   ]
  },
  {
   "cell_type": "code",
   "execution_count": null,
   "id": "21f3add3-96e7-42bf-9daf-613af2311810",
   "metadata": {},
   "outputs": [],
   "source": []
  },
  {
   "cell_type": "markdown",
   "id": "8606e496-0d9e-4361-b514-c413ef669d52",
   "metadata": {},
   "source": [
    "## 5\n",
    "\n",
    "Calcule os pontos críticos de cada função:\n",
    "\n",
    "$f(x) = x^3+7x^2-5x$\n",
    "\n",
    "$f(x)= 2x^3-2x^2-16x+1$\n",
    "\n",
    "$f(x) = x^4+4x^3-2x^2-12x$"
   ]
  },
  {
   "cell_type": "markdown",
   "id": "6b10e278-921e-46bf-b234-adbb032600e0",
   "metadata": {},
   "source": [
    "$$f(x)=x^3+7x^2-5x$$"
   ]
  },
  {
   "cell_type": "code",
   "execution_count": 27,
   "id": "8e3fb6f0-973c-402a-849b-9b0dd6169a77",
   "metadata": {},
   "outputs": [],
   "source": [
    "e5 = x**3+7*x**2-5*x"
   ]
  },
  {
   "cell_type": "code",
   "execution_count": 28,
   "id": "b3abf7fb-6484-4e19-b514-21a25daffca1",
   "metadata": {},
   "outputs": [
    {
     "data": {
      "image/png": "[encoded data removed]",
      "text/latex": [
       "$\\displaystyle \\left[ -5, \\  \\frac{1}{3}\\right]$"
      ],
      "text/plain": [
       "[-5, 1/3]"
      ]
     },
     "execution_count": 28,
     "metadata": {},
     "output_type": "execute_result"
    }
   ],
   "source": [
    "sym.solve(sym.diff(e5))"
   ]
  },
  {
   "cell_type": "code",
   "execution_count": 29,
   "id": "22be4941-945a-4be1-8da8-edc0bfccd1c8",
   "metadata": {},
   "outputs": [
    {
     "data": {
      "image/png": "[encoded data removed]",
      "text/latex": [
       "$\\displaystyle -0.851851851851852$"
      ],
      "text/plain": [
       "-0.851851851851852"
      ]
     },
     "execution_count": 29,
     "metadata": {},
     "output_type": "execute_result"
    }
   ],
   "source": [
    "e5.subs(x,1/3)"
   ]
  },
  {
   "cell_type": "code",
   "execution_count": 30,
   "id": "6a22c0b6-78c1-45b0-ba7b-d986450ebdf1",
   "metadata": {},
   "outputs": [],
   "source": [
    "x5l = np.linspace(-6,1,50)\n",
    "y5l = f(x5l,1,7,-5,0)"
   ]
  },
  {
   "cell_type": "code",
   "execution_count": 31,
   "id": "78fc3cca-ac9d-4549-bf13-8900b63789ad",
   "metadata": {},
   "outputs": [
    {
     "data": {
      "image/png": "[encoded data removed]",
      "text/plain": [
       "<Figure size 640x480 with 1 Axes>"
      ]
     },
     "metadata": {},
     "output_type": "display_data"
    }
   ],
   "source": [
    "plt.grid(True, which=\"both\")\n",
    "plt.plot(x5l,y5l)\n",
    "plt.scatter((-5,1/3),(75,-0.85), label=\"[-5,75][1/3,-0.85]\",color=\"r\")\n",
    "plt.legend()\n",
    "plt.show()"
   ]
  },
  {
   "cell_type": "markdown",
   "id": "53290184-2a13-4cf6-84be-4bab4ba7d737",
   "metadata": {},
   "source": [
    "$$f(x)= 2x^3-2x^2-16x+1$$"
   ]
  },
  {
   "cell_type": "code",
   "execution_count": 32,
   "id": "44722f81-427d-4a42-8a00-21c594648cb7",
   "metadata": {},
   "outputs": [],
   "source": [
    "e2 = 2*x**3-2*x**2-16*x+1"
   ]
  },
  {
   "cell_type": "code",
   "execution_count": 33,
   "id": "44a15abd-4b18-41dd-9f53-9d3cddf1f467",
   "metadata": {},
   "outputs": [],
   "source": [
    "e21 = sym.diff(e2)"
   ]
  },
  {
   "cell_type": "code",
   "execution_count": 34,
   "id": "c1a66286-ae9a-4f81-97a7-35de50223fb6",
   "metadata": {},
   "outputs": [
    {
     "data": {
      "image/png": "[encoded data removed]",
      "text/latex": [
       "$\\displaystyle \\left[ - \\frac{4}{3}, \\  2\\right]$"
      ],
      "text/plain": [
       "[-4/3, 2]"
      ]
     },
     "execution_count": 34,
     "metadata": {},
     "output_type": "execute_result"
    }
   ],
   "source": [
    "sym.solve(e21)"
   ]
  },
  {
   "cell_type": "code",
   "execution_count": 35,
   "id": "86b7de92-d631-4710-8a1e-2c1ce00afabb",
   "metadata": {},
   "outputs": [
    {
     "data": {
      "image/png": "[encoded data removed]",
      "text/latex": [
       "$\\displaystyle 14.037037037037$"
      ],
      "text/plain": [
       "14.0370370370370"
      ]
     },
     "execution_count": 35,
     "metadata": {},
     "output_type": "execute_result"
    }
   ],
   "source": [
    "e2.subs(x,-4/3)"
   ]
  },
  {
   "cell_type": "code",
   "execution_count": 36,
   "id": "d2089354-ff69-451f-99f8-ca310db9e2b8",
   "metadata": {},
   "outputs": [
    {
     "data": {
      "image/png": "[encoded data removed]",
      "text/latex": [
       "$\\displaystyle -23$"
      ],
      "text/plain": [
       "-23"
      ]
     },
     "execution_count": 36,
     "metadata": {},
     "output_type": "execute_result"
    }
   ],
   "source": [
    "e2.subs(x,2)"
   ]
  },
  {
   "cell_type": "code",
   "execution_count": 37,
   "id": "f8e45785-f427-4927-920d-8f3493ef0c81",
   "metadata": {},
   "outputs": [],
   "source": [
    "x51l = np.linspace(-2,3,50)\n",
    "y51l = f(x51l,2,-2,-16,1)"
   ]
  },
  {
   "cell_type": "code",
   "execution_count": 38,
   "id": "d0674056-0156-4e3b-8b29-299ee698afe5",
   "metadata": {},
   "outputs": [
    {
     "data": {
      "image/png": "[encoded data removed]",
      "text/plain": [
       "<Figure size 640x480 with 1 Axes>"
      ]
     },
     "metadata": {},
     "output_type": "display_data"
    }
   ],
   "source": [
    "plt.grid(True, which=\"both\")\n",
    "plt.plot(x51l,y51l)\n",
    "plt.scatter((-4/3,2),(14.03,-23),color=\"r\",label=\"[-4/3,14.03] [2,-23]\")\n",
    "plt.legend()\n",
    "plt.show()"
   ]
  },
  {
   "cell_type": "markdown",
   "id": "56d074d4-75fb-4f9a-8c2a-1193ab1437e5",
   "metadata": {},
   "source": [
    "$$f(x) = x^4+4x^3-2x^2-12x$$"
   ]
  },
  {
   "cell_type": "code",
   "execution_count": 39,
   "id": "670b9237-2b18-468b-833d-23af3c273ed5",
   "metadata": {},
   "outputs": [
    {
     "data": {
      "image/png": "[encoded data removed]",
      "text/latex": [
       "$\\displaystyle x^{4} + 4 x^{3} - 2 x^{2} - 12 x$"
      ],
      "text/plain": [
       " 4      3      2       \n",
       "x  + 4⋅x  - 2⋅x  - 12⋅x"
      ]
     },
     "execution_count": 39,
     "metadata": {},
     "output_type": "execute_result"
    }
   ],
   "source": [
    "e3 = x**4+4*x**3-2*x**2-12*x\n",
    "e3"
   ]
  },
  {
   "cell_type": "code",
   "execution_count": 40,
   "id": "821a91cf-e2d2-4677-b885-d442e660e970",
   "metadata": {},
   "outputs": [
    {
     "data": {
      "image/png": "[encoded data removed]",
      "text/latex": [
       "$\\displaystyle 4 x^{3} + 12 x^{2} - 4 x - 12$"
      ],
      "text/plain": [
       "   3       2           \n",
       "4⋅x  + 12⋅x  - 4⋅x - 12"
      ]
     },
     "execution_count": 40,
     "metadata": {},
     "output_type": "execute_result"
    }
   ],
   "source": [
    "e31 = sym.diff(e3)\n",
    "e31"
   ]
  },
  {
   "cell_type": "code",
   "execution_count": 41,
   "id": "927fd402-bc04-41d8-993d-797df8e1c57d",
   "metadata": {},
   "outputs": [
    {
     "data": {
      "image/png": "[encoded data removed]",
      "text/latex": [
       "$\\displaystyle \\left[ -3, \\  -1, \\  1\\right]$"
      ],
      "text/plain": [
       "[-3, -1, 1]"
      ]
     },
     "execution_count": 41,
     "metadata": {},
     "output_type": "execute_result"
    }
   ],
   "source": [
    "sym.solve(e31)"
   ]
  },
  {
   "cell_type": "code",
   "execution_count": 42,
   "id": "1664d8c5-58b1-49be-babe-2b62297fbf6a",
   "metadata": {},
   "outputs": [
    {
     "name": "stdout",
     "output_type": "stream",
     "text": [
      "-9\n",
      "7\n",
      "-9\n"
     ]
    }
   ],
   "source": [
    "print(e3.subs(x,-3))\n",
    "print(e3.subs(x,-1))\n",
    "print(e3.subs(x,1))"
   ]
  },
  {
   "cell_type": "code",
   "execution_count": 43,
   "id": "99df14cf-60fc-48b0-a417-34f15e09400e",
   "metadata": {},
   "outputs": [],
   "source": [
    "def f4(x,a,b,c,d,e):\n",
    "    return a*x**4+b*x**3+c*x**2+d*x+e"
   ]
  },
  {
   "cell_type": "code",
   "execution_count": 44,
   "id": "4a233cd0-3a91-4f17-9cf0-b63da05e5f05",
   "metadata": {},
   "outputs": [],
   "source": [
    "x3l = np.linspace(-4,2,50)\n",
    "y3l = f4(x3l,1,4,-2,-12,0)"
   ]
  },
  {
   "cell_type": "code",
   "execution_count": 45,
   "id": "f5d9b1b0-8cc8-41d3-a4f0-21656956b140",
   "metadata": {},
   "outputs": [
    {
     "data": {
      "image/png": "[encoded data removed]",
      "text/plain": [
       "<Figure size 640x480 with 1 Axes>"
      ]
     },
     "metadata": {},
     "output_type": "display_data"
    }
   ],
   "source": [
    "plt.grid(True, which=\"both\")\n",
    "plt.plot(x3l,y3l)\n",
    "plt.scatter((-3,-1,1),(-9,7,-9),color=\"r\")\n",
    "plt.show()"
   ]
  },
  {
   "cell_type": "markdown",
   "id": "120f7408-51f4-4f04-a17c-74cab43ef51b",
   "metadata": {},
   "source": [
    "## 6\n",
    "\n",
    "Mostre que 5 é um número crítico na função $g(x)=2+(x-5)^3$"
   ]
  },
  {
   "cell_type": "code",
   "execution_count": 46,
   "id": "a13a4328-38eb-4ff0-9161-a5edec8e7eec",
   "metadata": {},
   "outputs": [
    {
     "data": {
      "image/png": "[encoded data removed]",
      "text/latex": [
       "$\\displaystyle \\left(x - 5\\right)^{3} + 2$"
      ],
      "text/plain": [
       "       3    \n",
       "(x - 5)  + 2"
      ]
     },
     "execution_count": 46,
     "metadata": {},
     "output_type": "execute_result"
    }
   ],
   "source": [
    "e6 = 2+(x-5)**3\n",
    "e6"
   ]
  },
  {
   "cell_type": "code",
   "execution_count": 47,
   "id": "12f58fa3-7547-437c-8100-b1a8c002f3eb",
   "metadata": {},
   "outputs": [
    {
     "data": {
      "image/png": "[encoded data removed]",
      "text/latex": [
       "$\\displaystyle \\left[ x^{3} - 15 x^{2} + 75 x - 123\\right]$"
      ],
      "text/plain": [
       "⎡ 3       2             ⎤\n",
       "⎣x  - 15⋅x  + 75⋅x - 123⎦"
      ]
     },
     "execution_count": 47,
     "metadata": {},
     "output_type": "execute_result"
    }
   ],
   "source": [
    "ed = sym.decompose(e6)\n",
    "ed"
   ]
  },
  {
   "cell_type": "code",
   "execution_count": 48,
   "id": "a01cb972-7fb6-43b5-9ee1-1afd5ad22b28",
   "metadata": {},
   "outputs": [],
   "source": [
    "e61 = sym.diff(e6)"
   ]
  },
  {
   "cell_type": "code",
   "execution_count": 49,
   "id": "ab9d5179-a2a5-4709-b1b6-2e5b3c98da64",
   "metadata": {},
   "outputs": [
    {
     "data": {
      "image/png": "[encoded data removed]",
      "text/latex": [
       "$\\displaystyle \\left[ 5\\right]$"
      ],
      "text/plain": [
       "[5]"
      ]
     },
     "execution_count": 49,
     "metadata": {},
     "output_type": "execute_result"
    }
   ],
   "source": [
    "sym.solve(e61)"
   ]
  },
  {
   "cell_type": "code",
   "execution_count": 50,
   "id": "8e484ce7-cdca-4519-b4fc-26c7752b3efa",
   "metadata": {},
   "outputs": [
    {
     "data": {
      "image/png": "[encoded data removed]",
      "text/latex": [
       "$\\displaystyle 2$"
      ],
      "text/plain": [
       "2"
      ]
     },
     "execution_count": 50,
     "metadata": {},
     "output_type": "execute_result"
    }
   ],
   "source": [
    "e6.subs(x,5)"
   ]
  },
  {
   "cell_type": "code",
   "execution_count": 51,
   "id": "cd8459d9-786d-4a7d-9c54-f47db5ec0a2d",
   "metadata": {},
   "outputs": [],
   "source": [
    "x6l = np.linspace(4.990,5.01,50)\n",
    "y6l = f(x6l, 1,-15,75,-123)"
   ]
  },
  {
   "cell_type": "code",
   "execution_count": 52,
   "id": "a38f5b8e-b2b0-42f7-8feb-0e88452a5ccf",
   "metadata": {},
   "outputs": [
    {
     "data": {
      "image/png": "[encoded data removed]",
      "text/plain": [
       "<Figure size 640x480 with 1 Axes>"
      ]
     },
     "metadata": {},
     "output_type": "display_data"
    }
   ],
   "source": [
    "plt.grid(True, which=\"both\")\n",
    "plt.plot(x6l,y6l)\n",
    "plt.scatter(5,2,color=\"r\")\n",
    "plt.show()"
   ]
  },
  {
   "cell_type": "markdown",
   "id": "5b188243-cd3e-48c6-8af2-98de8de38fda",
   "metadata": {},
   "source": [
    "## 7\n",
    "\n",
    "Para cada função a seguir, determine:\n",
    "\n",
    "- Os intervalos nos quais $f$ é crescente\n",
    "- Os intervalos nos quais $f$ é descrescente\n",
    "- Os intervalos abertos nos quais $f$ é côncava para cima\n",
    "- Os intervalos abertos nos quais $f$ é côncava para baixo\n",
    "- As coordenadas dos pontos de inflexão\n",
    "\n",
    "\n",
    "$f(x)= x^2-3x+8$\n",
    "\n",
    "$f(x) =5-4x-x^2$\n",
    "\n",
    "$f(x) = (2x+1)^3$"
   ]
  },
  {
   "cell_type": "markdown",
   "id": "11da0ee9-72fb-4213-8b5e-81e825d23e6f",
   "metadata": {},
   "source": [
    "$$f(x)=x^2-3x+8$$"
   ]
  },
  {
   "cell_type": "code",
   "execution_count": 78,
   "id": "78d4cc2c-31a2-4d69-90e9-a7d8c7c9d4fb",
   "metadata": {},
   "outputs": [],
   "source": [
    "#equação\n",
    "e7 = x**2-3*x+8"
   ]
  },
  {
   "cell_type": "code",
   "execution_count": 70,
   "id": "6d3d22b2-1546-47d1-8f70-cd2876da2397",
   "metadata": {},
   "outputs": [
    {
     "data": {
      "image/png": "[encoded data removed]",
      "text/latex": [
       "$\\displaystyle \\left[ \\frac{3}{2}\\right]$"
      ],
      "text/plain": [
       "[3/2]"
      ]
     },
     "execution_count": 70,
     "metadata": {},
     "output_type": "execute_result"
    }
   ],
   "source": [
    "# 1 derivada, logo encontra as raízes da derivada\n",
    "e71 = sym.diff(e7)\n",
    "sym.solve(e71)"
   ]
  },
  {
   "cell_type": "code",
   "execution_count": 79,
   "id": "b1ec9ee6-a9be-4751-a7dc-1d05e3587ea6",
   "metadata": {},
   "outputs": [
    {
     "data": {
      "image/png": "[encoded data removed]",
      "text/latex": [
       "$\\displaystyle 5.75$"
      ],
      "text/plain": [
       "5.75000000000000"
      ]
     },
     "execution_count": 79,
     "metadata": {},
     "output_type": "execute_result"
    }
   ],
   "source": [
    "# imagem da 1 derivada\n",
    "e7.subs(x,3/2)"
   ]
  },
  {
   "cell_type": "code",
   "execution_count": 74,
   "id": "df8ff1aa-f0d7-44e5-9ea0-e2b8c7d33de1",
   "metadata": {},
   "outputs": [
    {
     "data": {
      "image/png": "[encoded data removed]",
      "text/latex": [
       "$\\displaystyle 2$"
      ],
      "text/plain": [
       "2"
      ]
     },
     "execution_count": 74,
     "metadata": {},
     "output_type": "execute_result"
    }
   ],
   "source": [
    "#2 derivada\n",
    "sym.diff(e71)"
   ]
  },
  {
   "cell_type": "code",
   "execution_count": 80,
   "id": "db07e921-8304-4f77-b3fe-79efc3169ab7",
   "metadata": {},
   "outputs": [
    {
     "data": {
      "image/png": "[encoded data removed]",
      "text/latex": [
       "$\\displaystyle 6$"
      ],
      "text/plain": [
       "6"
      ]
     },
     "execution_count": 80,
     "metadata": {},
     "output_type": "execute_result"
    }
   ],
   "source": [
    "# imagem da 2 derivada\n",
    "e7.subs(x,2)"
   ]
  },
  {
   "cell_type": "markdown",
   "id": "f7dda3a4-ca32-4402-85fb-994fa8fc626b",
   "metadata": {},
   "source": [
    "Criando um domínio e imagem utilizando a equação $f(x)=x^2-3x+8$"
   ]
  },
  {
   "cell_type": "code",
   "execution_count": 56,
   "id": "4c4147cf-d859-4da1-9907-0cbdf9b5450b",
   "metadata": {},
   "outputs": [],
   "source": [
    "x7l = np.linspace(-1,4,30)\n",
    "y7l = f4(x7l,0,0,1,-3,8)"
   ]
  },
  {
   "cell_type": "code",
   "execution_count": 57,
   "id": "d4b6a603-6a15-4632-a3e1-2b329ecae323",
   "metadata": {},
   "outputs": [],
   "source": [
    "x71l = np.linspace(1,2,30)\n",
    "y71l = f4(x71l,0,0,0,2,-3)"
   ]
  },
  {
   "cell_type": "code",
   "execution_count": 58,
   "id": "3ce87ea5-e836-4766-b4b4-9139b2150958",
   "metadata": {},
   "outputs": [
    {
     "data": {
      "image/png": "[encoded data removed]",
      "text/plain": [
       "<Figure size 640x480 with 1 Axes>"
      ]
     },
     "metadata": {},
     "output_type": "display_data"
    }
   ],
   "source": [
    "plt.grid(True, which=\"both\")\n",
    "plt.plot(x7l,y7l, label=\"$f(x)=x^2-3x+8$\")\n",
    "plt.plot(x71l,y71l, label=\"$f'(x)=2x-3$\")\n",
    "plt.plot((3/2,1.5),(0,5.75))\n",
    "plt.scatter((3/2,1.5),(0,5.75),color=\"r\",label=\"[1.5;5.75]  [1.5;0]\")\n",
    "plt.scatter(2,6)\n",
    "plt.legend()\n",
    "plt.show()"
   ]
  },
  {
   "cell_type": "markdown",
   "id": "05d3a73e-bc34-469a-b5fa-a897537dd618",
   "metadata": {},
   "source": [
    "- Crescente $(1.5,+\\infty)$\n",
    "- Decrescente $(-\\infty,1.5)$\n",
    "- Concava para cima, pois a segunda derivada é positivo (2)\n",
    "- O ponto de inflexão é (2,6)"
   ]
  },
  {
   "cell_type": "markdown",
   "id": "082403bf-0e18-4c42-ba29-818617d19cf9",
   "metadata": {},
   "source": [
    "$$f(x) = - x^2-4x+5$$"
   ]
  },
  {
   "cell_type": "code",
   "execution_count": 59,
   "id": "db0a7a64-9102-4784-a0e3-f4db4936aca3",
   "metadata": {},
   "outputs": [],
   "source": [
    "# equação\n",
    "e72 = -x**2-4*x+5"
   ]
  },
  {
   "cell_type": "code",
   "execution_count": 76,
   "id": "c92b2ac8-2827-4f18-b7e9-ff609e1430f1",
   "metadata": {},
   "outputs": [
    {
     "data": {
      "image/png": "[encoded data removed]",
      "text/latex": [
       "$\\displaystyle - 2 x - 4$"
      ],
      "text/plain": [
       "-2⋅x - 4"
      ]
     },
     "execution_count": 76,
     "metadata": {},
     "output_type": "execute_result"
    }
   ],
   "source": [
    "# 1 derivada\n",
    "e7_der1 = sym.diff(e72)\n",
    "e7_der1"
   ]
  },
  {
   "cell_type": "code",
   "execution_count": 67,
   "id": "10046604-7cdc-4db0-aff4-96a58aca08f6",
   "metadata": {},
   "outputs": [
    {
     "data": {
      "image/png": "[encoded data removed]",
      "text/latex": [
       "$\\displaystyle 9$"
      ],
      "text/plain": [
       "9"
      ]
     },
     "execution_count": 67,
     "metadata": {},
     "output_type": "execute_result"
    }
   ],
   "source": [
    "# raiz da 1 derivada é -2, encontrando a imagem de -2\n",
    "e72.subs(x,-2)"
   ]
  },
  {
   "cell_type": "code",
   "execution_count": 81,
   "id": "2d1cb0f9-9abc-485a-9926-b44fa459d6df",
   "metadata": {},
   "outputs": [
    {
     "data": {
      "image/png": "[encoded data removed]",
      "text/latex": [
       "$\\displaystyle -2$"
      ],
      "text/plain": [
       "-2"
      ]
     },
     "execution_count": 81,
     "metadata": {},
     "output_type": "execute_result"
    }
   ],
   "source": [
    "# 2 derivada\n",
    "e_d2 = sym.diff(e7_der1)\n",
    "e_d2"
   ]
  },
  {
   "cell_type": "code",
   "execution_count": 82,
   "id": "9efa75b4-8aab-48dc-ab32-ad0aeee6464c",
   "metadata": {},
   "outputs": [
    {
     "data": {
      "image/png": "[encoded data removed]",
      "text/latex": [
       "$\\displaystyle 9$"
      ],
      "text/plain": [
       "9"
      ]
     },
     "execution_count": 82,
     "metadata": {},
     "output_type": "execute_result"
    }
   ],
   "source": [
    "# imagem da 2 derivada\n",
    "e72.subs(x,-2)"
   ]
  },
  {
   "cell_type": "markdown",
   "id": "7a3292e9-9a0d-44f2-b6de-d706d80159d6",
   "metadata": {},
   "source": [
    "Criando o gráfico para visualização"
   ]
  },
  {
   "cell_type": "code",
   "execution_count": 62,
   "id": "2b370d3c-a75a-49c3-bffe-37ef26359226",
   "metadata": {},
   "outputs": [],
   "source": [
    "x72l = np.linspace(-3,0,50)\n",
    "y72l = f4(x72l,0,0,-1,-4,5)"
   ]
  },
  {
   "cell_type": "code",
   "execution_count": 63,
   "id": "89d08cc8-bf01-4550-a1c6-e160cb27dd4b",
   "metadata": {},
   "outputs": [],
   "source": [
    "x7_derl = np.linspace(-2.5,-1.5,50)\n",
    "y7_derl = f4(x7_derl, 0,0,0,-2,-4)"
   ]
  },
  {
   "cell_type": "code",
   "execution_count": 136,
   "id": "558f5e70-767e-4a79-874b-6466e339d4b9",
   "metadata": {},
   "outputs": [
    {
     "data": {
      "image/png": "[encoded data removed]",
      "text/plain": [
       "<Figure size 640x480 with 1 Axes>"
      ]
     },
     "metadata": {},
     "output_type": "display_data"
    }
   ],
   "source": [
    "plt.grid(True, which=\"both\")\n",
    "plt.plot(x72l,y72l, label=f'$-x^2-4x+5$')\n",
    "plt.plot(x7_derl,y7_derl, label='derivada')\n",
    "plt.plot((-2,-2),(9,0))\n",
    "plt.scatter(-2,9,color=\"r\")\n",
    "plt.legend()\n",
    "plt.show()"
   ]
  },
  {
   "cell_type": "markdown",
   "id": "56b07891-2b9c-4acc-b243-63776e901829",
   "metadata": {},
   "source": [
    "- Crescente, no intervalo de $(-\\infty ;9)$ é\n",
    "- Decrescente, no intervalo de $(9,-\\infty)$\n",
    "- Concacavidade para baixo em todo seu domínio, pois a segunda derivada é negativa (-2)\n",
    "- Ponto de inflexão (-2,9)"
   ]
  },
  {
   "cell_type": "markdown",
   "id": "03b1ed42-67d3-4dae-96ec-420fb55cca21",
   "metadata": {},
   "source": [
    "$$f(x) = (2x+1)^3$$"
   ]
  },
  {
   "cell_type": "code",
   "execution_count": 84,
   "id": "14912c98-31fb-4a7d-bd9d-a81fba50f24b",
   "metadata": {},
   "outputs": [],
   "source": [
    "# equação\n",
    "e73 = (2*x+1)**3"
   ]
  },
  {
   "cell_type": "code",
   "execution_count": 94,
   "id": "82aaa749-4941-4d45-aacb-19ece4d910f4",
   "metadata": {},
   "outputs": [
    {
     "data": {
      "image/png": "[encoded data removed]",
      "text/latex": [
       "$\\displaystyle 8 x^{3} + 12 x^{2} + 6 x + 1$"
      ],
      "text/plain": [
       "   3       2          \n",
       "8⋅x  + 12⋅x  + 6⋅x + 1"
      ]
     },
     "execution_count": 94,
     "metadata": {},
     "output_type": "execute_result"
    }
   ],
   "source": [
    "e73_d = sym.decompose(e73)\n",
    "e73_d[0]1"
   ]
  },
  {
   "cell_type": "code",
   "execution_count": 96,
   "id": "db50dfae-95e2-4bd0-aa1e-d50dff42482b",
   "metadata": {},
   "outputs": [
    {
     "data": {
      "image/png": "[encoded data removed]",
      "text/latex": [
       "$\\displaystyle 24 x^{2} + 24 x + 6$"
      ],
      "text/plain": [
       "    2           \n",
       "24⋅x  + 24⋅x + 6"
      ]
     },
     "execution_count": 96,
     "metadata": {},
     "output_type": "execute_result"
    }
   ],
   "source": [
    "# 1 derivada\n",
    "e731 = sym.diff(e73_d[0])\n",
    "e731"
   ]
  },
  {
   "cell_type": "code",
   "execution_count": 97,
   "id": "c2a401f3-aa4f-44ce-93b7-ddcffbcd8044",
   "metadata": {},
   "outputs": [
    {
     "data": {
      "image/png": "[encoded data removed]",
      "text/latex": [
       "$\\displaystyle \\left[ - \\frac{1}{2}\\right]$"
      ],
      "text/plain": [
       "[-1/2]"
      ]
     },
     "execution_count": 97,
     "metadata": {},
     "output_type": "execute_result"
    }
   ],
   "source": [
    "# raizes da 1 derivada\n",
    "sym.solve(e731)"
   ]
  },
  {
   "cell_type": "code",
   "execution_count": 98,
   "id": "817773db-bdde-4b1b-8d41-730a195c88be",
   "metadata": {},
   "outputs": [
    {
     "data": {
      "image/png": "[encoded data removed]",
      "text/latex": [
       "$\\displaystyle 0$"
      ],
      "text/plain": [
       "0"
      ]
     },
     "execution_count": 98,
     "metadata": {},
     "output_type": "execute_result"
    }
   ],
   "source": [
    "e73.subs(x,-1/2)"
   ]
  },
  {
   "cell_type": "code",
   "execution_count": 101,
   "id": "e983b8db-7f4b-4a8c-8473-04de435a19b8",
   "metadata": {},
   "outputs": [
    {
     "data": {
      "image/png": "[encoded data removed]",
      "text/latex": [
       "$\\displaystyle 48 x + 24$"
      ],
      "text/plain": [
       "48⋅x + 24"
      ]
     },
     "execution_count": 101,
     "metadata": {},
     "output_type": "execute_result"
    }
   ],
   "source": [
    "# 2 derivada\n",
    "e732 = sym.diff(e731)\n",
    "e732"
   ]
  },
  {
   "cell_type": "code",
   "execution_count": 102,
   "id": "0fd34680-3cd4-411a-9b5d-9f94d5652f3b",
   "metadata": {},
   "outputs": [
    {
     "data": {
      "image/png": "[encoded data removed]",
      "text/latex": [
       "$\\displaystyle \\left[ - \\frac{1}{2}\\right]$"
      ],
      "text/plain": [
       "[-1/2]"
      ]
     },
     "execution_count": 102,
     "metadata": {},
     "output_type": "execute_result"
    }
   ],
   "source": [
    "# raizes da 2 derivada\n",
    "sym.solve(e732)"
   ]
  },
  {
   "cell_type": "code",
   "execution_count": 103,
   "id": "b636f144-5a02-4446-82e1-967bdb950442",
   "metadata": {},
   "outputs": [
    {
     "data": {
      "image/png": "[encoded data removed]",
      "text/latex": [
       "$\\displaystyle 0$"
      ],
      "text/plain": [
       "0"
      ]
     },
     "execution_count": 103,
     "metadata": {},
     "output_type": "execute_result"
    }
   ],
   "source": [
    "# imagem da raíz da 2 derivada\n",
    "e73_d[0].subs(x,-1/2)"
   ]
  },
  {
   "cell_type": "markdown",
   "id": "07954f7d-6fa3-4bb5-8349-72a523744547",
   "metadata": {},
   "source": [
    "Criando o gráfico para visualização"
   ]
  },
  {
   "cell_type": "code",
   "execution_count": 125,
   "id": "22411a43-5090-4a1f-b878-36f6f538a7cc",
   "metadata": {},
   "outputs": [],
   "source": [
    "x73l = np.linspace(-1.7,0.7,50)\n",
    "y73l = f(x73l,8,12,6,1)"
   ]
  },
  {
   "cell_type": "code",
   "execution_count": 129,
   "id": "24610ca5-cc7e-481d-9fbf-9c385fcb6bb2",
   "metadata": {},
   "outputs": [],
   "source": [
    "x731l = np.linspace(-1.5,0.5,50)\n",
    "y731l = f(x731l,0,24,24,6)"
   ]
  },
  {
   "cell_type": "code",
   "execution_count": 133,
   "id": "90e9688b-ddcf-4cf5-b2a2-cafa2410d853",
   "metadata": {},
   "outputs": [
    {
     "data": {
      "image/png": "[encoded data removed]",
      "text/plain": [
       "<Figure size 640x480 with 1 Axes>"
      ]
     },
     "metadata": {},
     "output_type": "display_data"
    }
   ],
   "source": [
    "plt.grid(True, which=\"both\")\n",
    "plt.plot((x73l,x731l), (y73l,y731l))\n",
    "plt.plot(x731l, y731l)\n",
    "plt.plot(x73l,y73l)\n",
    "plt.scatter(-1/2,0, color=\"r\")\n",
    "plt.show()"
   ]
  },
  {
   "cell_type": "markdown",
   "id": "b9954d7c-dbf5-499e-a9f1-ded436769c00",
   "metadata": {},
   "source": [
    "- Descrescente no intervalo $(-\\infty,-\\frac12)$\n",
    "- Crescente no intervalo $(-\\frac12,+\\infty)$\n",
    "- Concavidade para baixo no intervalo $(-\\infty,-\\frac12)$, pois esse domínio na 2˚ derivada $48x+24$ é negativo\n",
    "- Concavidade para cima no intervalo $(-\\frac12, +\\infty)$, pois esse domínio na 2˚ derivada é positivo\n",
    "- Ponto de inflexão $(-\\frac12,0)$ pois a raíz da 2 derivada é -1/2"
   ]
  },
  {
   "cell_type": "markdown",
   "id": "a6d8797d-3f8c-47ef-bd4f-aff8441feb1b",
   "metadata": {},
   "source": [
    "## 8\n",
    "\n",
    "Calcule os calores máximo e mínimo absoluto de $f$ nos intervalos fechados dados e indique onde ocorrem esses valores\n",
    "\n",
    "$f(x)=4x^2-12x+10 [1,2]$\n",
    "\n",
    "$f(x)=8x-x^2;[0,6]$\n",
    "\n",
    "$f(x)=(x-2)^3;[1,4]$"
   ]
  },
  {
   "cell_type": "code",
   "execution_count": null,
   "id": "c35651d3-d16b-42b8-8151-96a855f127cd",
   "metadata": {},
   "outputs": [],
   "source": []
  },
  {
   "cell_type": "code",
   "execution_count": null,
   "id": "e846e9cd-e5ac-4297-b471-a04dba05d6c8",
   "metadata": {},
   "outputs": [],
   "source": []
  },
  {
   "cell_type": "code",
   "execution_count": null,
   "id": "54e9194f-a252-4684-b0f3-ae3a6278c9f2",
   "metadata": {},
   "outputs": [],
   "source": []
  },
  {
   "cell_type": "code",
   "execution_count": null,
   "id": "a64b8a76-c34e-491e-a173-12ee37944b24",
   "metadata": {},
   "outputs": [],
   "source": []
  },
  {
   "cell_type": "code",
   "execution_count": null,
   "id": "3c3d24b7-ae10-44e3-a710-b4fdeccddfcc",
   "metadata": {},
   "outputs": [],
   "source": []
  },
  {
   "cell_type": "code",
   "execution_count": null,
   "id": "1854080c-6555-46e5-a25b-14919058cf63",
   "metadata": {},
   "outputs": [],
   "source": [
    "\n"
   ]
  },
  {
   "cell_type": "code",
   "execution_count": null,
   "id": "197781f4-6fa7-412f-b4bd-c8394bf99610",
   "metadata": {},
   "outputs": [],
   "source": []
  }
 ],
 "metadata": {
  "kernelspec": {
   "display_name": "Python 3 (ipykernel)",
   "language": "python",
   "name": "python3"
  },
  "language_info": {
   "codemirror_mode": {
    "name": "ipython",
    "version": 3
   },
   "file_extension": ".py",
   "mimetype": "text/x-python",
   "name": "python",
   "nbconvert_exporter": "python",
   "pygments_lexer": "ipython3",
   "version": "3.11.7"
  }
 },
 "nbformat": 4,
 "nbformat_minor": 5
}
