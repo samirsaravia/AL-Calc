{
 "cells": [
  {
   "cell_type": "code",
   "execution_count": 34,
   "id": "92a98fe7",
   "metadata": {},
   "outputs": [],
   "source": [
    "import sympy as sym\n",
    "import numpy as np\n",
    "import matplotlib.pyplot as plt"
   ]
  },
  {
   "cell_type": "markdown",
   "id": "e2b94c32",
   "metadata": {},
   "source": [
    "## Funções\n",
    "\n",
    "Uma função matemática é uma releção entre conjuntos de números, onde cada elemento do conjunto de entrada(Domínio) é associado a exatamente um elemento do conjunto de saída (Contradomínio). Essa associação é feita por meio de uma regra ou operação matemática específica.\n",
    "\n",
    "\n",
    "Por exemplo a função quadrática $f(x)= x^2$ é uma função matemática que recebe um número $x$ como entrada e retorna o quadrado desse número como saída."
   ]
  },
  {
   "cell_type": "code",
   "execution_count": 8,
   "id": "b0160b6b",
   "metadata": {},
   "outputs": [],
   "source": [
    "x = sym.symbols(\"x\")\n",
    "def funcao(x,a):\n",
    "    return a*x**2"
   ]
  },
  {
   "cell_type": "code",
   "execution_count": 13,
   "id": "d26f37b7",
   "metadata": {},
   "outputs": [
    {
     "name": "stdout",
     "output_type": "stream",
     "text": [
      "[-10.   -8.9  -7.8  -6.7  -5.6  -4.5  -3.4  -2.3  -1.2  -0.1   1. ]\n"
     ]
    }
   ],
   "source": [
    "#domínio\n",
    "x_lista = np.linspace(-10,1,11)\n",
    "print(x_lista)"
   ]
  },
  {
   "cell_type": "code",
   "execution_count": 12,
   "id": "94982dfb",
   "metadata": {},
   "outputs": [
    {
     "name": "stdout",
     "output_type": "stream",
     "text": [
      "[1.000e+02 7.921e+01 6.084e+01 4.489e+01 3.136e+01 2.025e+01 1.156e+01\n",
      " 5.290e+00 1.440e+00 1.000e-02 1.000e+00]\n"
     ]
    }
   ],
   "source": [
    "#contradomínio\n",
    "y_lista = funcao(x_lista, 1)\n",
    "print(y_lista)"
   ]
  },
  {
   "cell_type": "markdown",
   "id": "65550162",
   "metadata": {},
   "source": [
    "## Limíte\n",
    "\n",
    "O limite em matemática é o valor ao qual uma função se aproxima quando sua variável independente se aproxima de um determinado ponto. Em termos simples, é entender para onde uma função está \"indo\" quando a variável se aproxima de um ponto específico. Isso é útil para compreender o comportamento das funções em pontos críticos e é fundamental no cálculo."
   ]
  },
  {
   "cell_type": "markdown",
   "id": "3a7e51e1",
   "metadata": {},
   "source": [
    "Exemplo : limite de $$f(x)= x^2$$\n",
    "\n",
    "\n",
    "$$f'(x)= \\lim_{h\\to 0}\\frac{f(x+h)- f(x)}{h}$$"
   ]
  },
  {
   "cell_type": "code",
   "execution_count": 19,
   "id": "1d3e2640",
   "metadata": {},
   "outputs": [
    {
     "data": {
      "text/latex": [
       "$\\displaystyle \\frac{- x^{2} + \\left(h + x\\right)^{2}}{h}$"
      ],
      "text/plain": [
       "(-x**2 + (h + x)**2)/h"
      ]
     },
     "execution_count": 19,
     "metadata": {},
     "output_type": "execute_result"
    }
   ],
   "source": [
    "h = sym.symbols(\"h\")\n",
    "f_limite = ((x+h)**2-x**2)/h\n",
    "f_limite"
   ]
  },
  {
   "cell_type": "code",
   "execution_count": 20,
   "id": "fdf7d318",
   "metadata": {},
   "outputs": [
    {
     "data": {
      "text/latex": [
       "$\\displaystyle 2 x$"
      ],
      "text/plain": [
       "2*x"
      ]
     },
     "execution_count": 20,
     "metadata": {},
     "output_type": "execute_result"
    }
   ],
   "source": [
    "sym.limit(f_limite,h,0)"
   ]
  },
  {
   "cell_type": "markdown",
   "id": "177289ea",
   "metadata": {},
   "source": [
    "##  Derivada\n",
    "\n",
    "A derivada de uma função em um ponto é uma medida da taxa de variação instantânea dessa função nesse ponto. Em outras palavras, é a inclinação da reta tangente à curva da função naquele ponto. A derivada indica como a função está mudando em relação à sua variável independente nesse ponto específico. Essencialmente, é a taxa de mudança da função em relação à sua variável independente em um ponto particular.\n"
   ]
  },
  {
   "cell_type": "markdown",
   "id": "70e9728c",
   "metadata": {},
   "source": [
    "Exemplo:  $$f(x)= x^2$$\n",
    "\n",
    "\n",
    "A Derivada é:"
   ]
  },
  {
   "cell_type": "code",
   "execution_count": 28,
   "id": "b4ba915f",
   "metadata": {},
   "outputs": [
    {
     "data": {
      "text/latex": [
       "$\\displaystyle x^{2}$"
      ],
      "text/plain": [
       "x**2"
      ]
     },
     "execution_count": 28,
     "metadata": {},
     "output_type": "execute_result"
    }
   ],
   "source": [
    "f1 = x**2\n",
    "f1"
   ]
  },
  {
   "cell_type": "code",
   "execution_count": 30,
   "id": "4ca0fda0",
   "metadata": {},
   "outputs": [
    {
     "data": {
      "text/latex": [
       "$\\displaystyle 2 x$"
      ],
      "text/plain": [
       "2*x"
      ]
     },
     "execution_count": 30,
     "metadata": {},
     "output_type": "execute_result"
    }
   ],
   "source": [
    "sym.diff(f1,x)"
   ]
  },
  {
   "cell_type": "markdown",
   "id": "49a8242a",
   "metadata": {},
   "source": [
    "## Primeira Derivada\n",
    "\n",
    "Se $f: R \\to R$ está definida em intervalo $[a,b]$ então:\n",
    "\n",
    "- Se $f(x) < 0$ temos que f(x) é decrescente em um determinado intervalo\n",
    "- Se $f(x) > 0$ temos que f(x) é crescente em um determinado intervalo\n",
    "- Se $f(x) = 0$ temos um ponto crítico."
   ]
  },
  {
   "cell_type": "markdown",
   "id": "5ca16939",
   "metadata": {},
   "source": [
    "Exemplo: $$f(x) = x^2+2$$\n",
    "\n",
    "A Derivada é $$f'(x)= 2x$$"
   ]
  },
  {
   "cell_type": "code",
   "execution_count": 36,
   "id": "eb10ac87",
   "metadata": {},
   "outputs": [],
   "source": [
    "x_lista_f = np.linspace(-2,2,10)\n",
    "x_lista_derivada = np.linspace(-1,2,10)"
   ]
  },
  {
   "cell_type": "code",
   "execution_count": 32,
   "id": "42683616",
   "metadata": {},
   "outputs": [],
   "source": [
    "def funcao2(x,a,b,c):\n",
    "    return a*x**2+b*x+c"
   ]
  },
  {
   "cell_type": "code",
   "execution_count": 37,
   "id": "f77c930d",
   "metadata": {},
   "outputs": [],
   "source": [
    "y_lista_f = funcao2(x_lista_f,1,0,2)\n",
    "y_lista_derivada = funcao2(x_lista_derivada,0,2,0)"
   ]
  },
  {
   "cell_type": "code",
   "execution_count": 42,
   "id": "7c2bc37d",
   "metadata": {},
   "outputs": [
    {
     "data": {
      "image/png": "[encoded data removed]",
      "text/plain": [
       "<Figure size 512x384 with 1 Axes>"
      ]
     },
     "metadata": {},
     "output_type": "display_data"
    }
   ],
   "source": [
    "plt.figure(num=0, dpi=80)\n",
    "plt.plot(x_lista_f, y_lista_f, label=f\"$x^2+2$\")\n",
    "plt.plot(x_lista_derivada, y_lista_derivada, label=\"2x\")\n",
    "plt.scatter(0,0)\n",
    "plt.grid(True, which=\"both\")\n",
    "plt.legend()\n",
    "plt.show()"
   ]
  },
  {
   "cell_type": "markdown",
   "id": "9f75a751",
   "metadata": {},
   "source": [
    "Nesse exemplo a interpretação gráfica da derivada é que para entradas acima de zero a função original é **crescente**, e para entradas menores de zero, a função original é **decrescente** e no ponto que corta o eixo 'x' há um ponto **crítico**."
   ]
  },
  {
   "cell_type": "markdown",
   "id": "462f56f5",
   "metadata": {},
   "source": [
    "## Segunda Derivada\n",
    "\n",
    "\n",
    "A segunda derivada de uma função é a derivada da sua derivada. Em termos simples, ela nos fornece informações sobre como a taxa de variação da função está mudando. Em outras palavras, a segunda derivada indica se a taxa de variação da função está aumentando, diminuindo ou permanecendo constante. A segunda derivada é importante para determinar o comportamento da função em relação a **pontos críticos**, como mínimos, máximos e pontos de inflexão. "
   ]
  },
  {
   "cell_type": "markdown",
   "id": "6cc399e2",
   "metadata": {},
   "source": [
    "- Segunda derivada, positiva, a concavidade para cima\n",
    "- Segunda derivada, negativa, a concavidade para baixo"
   ]
  },
  {
   "cell_type": "markdown",
   "id": "c7a595f8",
   "metadata": {},
   "source": [
    "Exemplo: $$f(x) = x^2$$\n",
    "\n",
    "\n",
    "Primeira Derivada :  $$f'(x)= 2x$$\n",
    "\n",
    "Segunda derivada:"
   ]
  },
  {
   "cell_type": "code",
   "execution_count": 43,
   "id": "a6e7dc5c",
   "metadata": {},
   "outputs": [
    {
     "data": {
      "text/latex": [
       "$\\displaystyle 2$"
      ],
      "text/plain": [
       "2"
      ]
     },
     "execution_count": 43,
     "metadata": {},
     "output_type": "execute_result"
    }
   ],
   "source": [
    "sym.diff(sym.diff(x**2))"
   ]
  },
  {
   "cell_type": "markdown",
   "id": "376c3b5b",
   "metadata": {},
   "source": [
    "Por tanto é positiva o que indica que a concavidade é voltada para cima."
   ]
  },
  {
   "cell_type": "code",
   "execution_count": null,
   "id": "e19972dc",
   "metadata": {},
   "outputs": [],
   "source": []
  }
 ],
 "metadata": {
  "kernelspec": {
   "display_name": "Python 3 (ipykernel)",
   "language": "python",
   "name": "python3"
  },
  "language_info": {
   "codemirror_mode": {
    "name": "ipython",
    "version": 3
   },
   "file_extension": ".py",
   "mimetype": "text/x-python",
   "name": "python",
   "nbconvert_exporter": "python",
   "pygments_lexer": "ipython3",
   "version": "3.11.7"
  }
 },
 "nbformat": 4,
 "nbformat_minor": 5
}
