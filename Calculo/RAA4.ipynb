{
 "cells": [
  {
   "cell_type": "code",
   "execution_count": 2,
   "id": "2230b0e8-3cd7-4eb3-bf11-37c84de51eb9",
   "metadata": {},
   "outputs": [],
   "source": [
    "from sympy import *"
   ]
  },
  {
   "cell_type": "code",
   "execution_count": 3,
   "id": "b86270c7-b5ca-46cf-a108-1681c4814cd1",
   "metadata": {},
   "outputs": [],
   "source": [
    "init_printing(\"mathjax\")"
   ]
  },
  {
   "cell_type": "code",
   "execution_count": 21,
   "id": "95641983-6697-4d15-a028-178f257c2181",
   "metadata": {},
   "outputs": [],
   "source": [
    "x,y,t,w,q,g,f,b = symbols(\"x y t w q g f b\")"
   ]
  },
  {
   "cell_type": "markdown",
   "id": "0dafb42b-c526-4335-8763-7abe02e9c7ef",
   "metadata": {},
   "source": [
    "## $f(x)=1+e^x$\n",
    "From 0 to 1"
   ]
  },
  {
   "cell_type": "code",
   "execution_count": 26,
   "id": "e2a6e0af-5eee-47a5-b972-b798679d080f",
   "metadata": {},
   "outputs": [
    {
     "data": {
      "image/png": "[encoded data removed]",
      "text/latex": [
       "$\\displaystyle e^{x} + 1$"
      ],
      "text/plain": [
       " x    \n",
       "ℯ  + 1"
      ]
     },
     "execution_count": 26,
     "metadata": {},
     "output_type": "execute_result"
    }
   ],
   "source": [
    "f0 = 1+ exp(x)\n",
    "f0"
   ]
  },
  {
   "cell_type": "code",
   "execution_count": 27,
   "id": "3a0d4f9e-60b2-4c17-b152-ff46c85a13c0",
   "metadata": {},
   "outputs": [
    {
     "data": {
      "image/png": "[encoded data removed]",
      "text/latex": [
       "$\\displaystyle 2.71828182845905$"
      ],
      "text/plain": [
       "2.71828182845905"
      ]
     },
     "execution_count": 27,
     "metadata": {},
     "output_type": "execute_result"
    }
   ],
   "source": [
    "integrate(f0,(x,0,1)).evalf()"
   ]
  },
  {
   "cell_type": "markdown",
   "id": "a1f7a85e-9b38-4d24-827b-040b16abfefa",
   "metadata": {},
   "source": [
    "## $f(x)= e^x$"
   ]
  },
  {
   "cell_type": "code",
   "execution_count": 15,
   "id": "1eeba205-db2b-4672-9eb7-739d9bb1d35f",
   "metadata": {},
   "outputs": [
    {
     "data": {
      "image/png": "[encoded data removed]",
      "text/latex": [
       "$\\displaystyle - e + e^{3}$"
      ],
      "text/plain": [
       "      3\n",
       "-ℯ + ℯ "
      ]
     },
     "execution_count": 15,
     "metadata": {},
     "output_type": "execute_result"
    }
   ],
   "source": [
    "f1 = integrate(exp(x),(x,1,3))\n",
    "f1"
   ]
  },
  {
   "cell_type": "code",
   "execution_count": 17,
   "id": "31d925fb-34d3-453f-8cb9-886509fc9f89",
   "metadata": {},
   "outputs": [
    {
     "data": {
      "image/png": "[encoded data removed]",
      "text/latex": [
       "$\\displaystyle 7$"
      ],
      "text/plain": [
       "7"
      ]
     },
     "execution_count": 17,
     "metadata": {},
     "output_type": "execute_result"
    }
   ],
   "source": [
    "f2 = integrate(exp(x),(x,0,log(8)))\n",
    "f2"
   ]
  },
  {
   "cell_type": "code",
   "execution_count": 19,
   "id": "2e4874c4-edc3-4086-9ec6-1189cbd0f122",
   "metadata": {},
   "outputs": [
    {
     "data": {
      "image/png": "[encoded data removed]",
      "text/latex": [
       "$\\displaystyle -1 + e$"
      ],
      "text/plain": [
       "-1 + ℯ"
      ]
     },
     "execution_count": 19,
     "metadata": {},
     "output_type": "execute_result"
    }
   ],
   "source": [
    "f3 = integrate(exp(x),(x,0,1))\n",
    "f3"
   ]
  },
  {
   "cell_type": "code",
   "execution_count": 20,
   "id": "52cd6566-b166-4bd1-a7dd-d37ba62dc3a2",
   "metadata": {},
   "outputs": [
    {
     "data": {
      "image/png": "[encoded data removed]",
      "text/latex": [
       "$\\displaystyle 1 - e^{-1}$"
      ],
      "text/plain": [
       "     -1\n",
       "1 - ℯ  "
      ]
     },
     "execution_count": 20,
     "metadata": {},
     "output_type": "execute_result"
    }
   ],
   "source": [
    "f4 = integrate(exp(x),(x,-1,0))\n",
    "f4"
   ]
  },
  {
   "cell_type": "markdown",
   "id": "f9c2c818-256d-4f8b-a8ab-7f7723080d62",
   "metadata": {},
   "source": [
    "## $\\int_3^b 3x^2 dx = 37$"
   ]
  },
  {
   "cell_type": "code",
   "execution_count": 22,
   "id": "130d9c95-e28a-47d4-adf8-9a651f8fac0b",
   "metadata": {},
   "outputs": [
    {
     "data": {
      "image/png": "[encoded data removed]",
      "text/latex": [
       "$\\displaystyle b^{3} - 27$"
      ],
      "text/plain": [
       " 3     \n",
       "b  - 27"
      ]
     },
     "execution_count": 22,
     "metadata": {},
     "output_type": "execute_result"
    }
   ],
   "source": [
    "s1 = integrate(3*x**2,(x,3,b))\n",
    "s1"
   ]
  },
  {
   "cell_type": "code",
   "execution_count": 25,
   "id": "df7d386a-2f36-4777-bf09-fe23f17f1294",
   "metadata": {},
   "outputs": [
    {
     "data": {
      "image/png": "[encoded data removed]",
      "text/latex": [
       "$\\displaystyle \\left[ 4, \\  -2 - 2 \\sqrt{3} i, \\  -2 + 2 \\sqrt{3} i\\right]$"
      ],
      "text/plain": [
       "[4, -2 - 2⋅√3⋅ⅈ, -2 + 2⋅√3⋅ⅈ]"
      ]
     },
     "execution_count": 25,
     "metadata": {},
     "output_type": "execute_result"
    }
   ],
   "source": [
    "solve(Eq(integrate(3*x**2,(x,3,b)),37),b)"
   ]
  },
  {
   "cell_type": "markdown",
   "id": "5ac2170c-030c-4c07-8533-e3395f942b4a",
   "metadata": {},
   "source": [
    "## $y=1+cos x$"
   ]
  },
  {
   "cell_type": "code",
   "execution_count": 28,
   "id": "e1d699d4-273d-41d0-8835-c7f656068c6a",
   "metadata": {},
   "outputs": [
    {
     "data": {
      "image/png": "[encoded data removed]",
      "text/latex": [
       "$\\displaystyle \\cos{\\left(x \\right)} + 1$"
      ],
      "text/plain": [
       "cos(x) + 1"
      ]
     },
     "execution_count": 28,
     "metadata": {},
     "output_type": "execute_result"
    }
   ],
   "source": [
    "y1 = 1+cos(x)\n",
    "y1"
   ]
  },
  {
   "cell_type": "code",
   "execution_count": 29,
   "id": "6761f8c9-f215-43e4-a3b4-f83a9209250e",
   "metadata": {},
   "outputs": [
    {
     "data": {
      "image/png": "[encoded data removed]",
      "text/latex": [
       "$\\displaystyle \\pi$"
      ],
      "text/plain": [
       "π"
      ]
     },
     "execution_count": 29,
     "metadata": {},
     "output_type": "execute_result"
    }
   ],
   "source": [
    "integrate(y1,(x,0,pi))"
   ]
  },
  {
   "cell_type": "code",
   "execution_count": 30,
   "id": "3342672e-9165-47b9-9740-bf4e29cc23d8",
   "metadata": {},
   "outputs": [
    {
     "data": {
      "image/png": "[encoded data removed]",
      "text/latex": [
       "$\\displaystyle x + \\sin{\\left(x \\right)}$"
      ],
      "text/plain": [
       "x + sin(x)"
      ]
     },
     "execution_count": 30,
     "metadata": {},
     "output_type": "execute_result"
    }
   ],
   "source": [
    "integrate(y1,x)"
   ]
  },
  {
   "cell_type": "code",
   "execution_count": null,
   "id": "ad2c66d5-18aa-4c36-acea-19fa4c7052c9",
   "metadata": {},
   "outputs": [],
   "source": []
  }
 ],
 "metadata": {
  "kernelspec": {
   "display_name": "Python 3 (ipykernel)",
   "language": "python",
   "name": "python3"
  },
  "language_info": {
   "codemirror_mode": {
    "name": "ipython",
    "version": 3
   },
   "file_extension": ".py",
   "mimetype": "text/x-python",
   "name": "python",
   "nbconvert_exporter": "python",
   "pygments_lexer": "ipython3",
   "version": "3.12.2"
  }
 },
 "nbformat": 4,
 "nbformat_minor": 5
}
