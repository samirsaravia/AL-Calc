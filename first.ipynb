{
 "cells": [
  {
   "cell_type": "markdown",
   "id": "c1c75e66-9d28-4e67-a92f-78c238871446",
   "metadata": {},
   "source": [
    "## Importing the sympy library"
   ]
  },
  {
   "cell_type": "code",
   "execution_count": 2,
   "id": "4b5bda1d-7a73-4be1-9ce3-1c049bf82e2a",
   "metadata": {},
   "outputs": [],
   "source": [
    "# import sympe and use an abbreviation\n",
    "import sympy as sym"
   ]
  },
  {
   "cell_type": "markdown",
   "id": "6963a032-a20d-439e-96ec-3fabf52415d3",
   "metadata": {},
   "source": [
    "## Enabling Latex printing"
   ]
  },
  {
   "cell_type": "code",
   "execution_count": 3,
   "id": "b151f7df-3896-4533-afa1-0bb2945ce75a",
   "metadata": {},
   "outputs": [],
   "source": [
    "# using init_printing\n",
    "sym.init_printing(\"mathjax\")"
   ]
  },
  {
   "cell_type": "markdown",
   "id": "d8384bde-837a-4d8c-86a3-bfd750b18663",
   "metadata": {},
   "source": [
    "## Using the Matrix function"
   ]
  },
  {
   "cell_type": "code",
   "execution_count": 4,
   "id": "3d70e912-3874-40ae-ba00-76d8e6803f78",
   "metadata": {},
   "outputs": [
    {
     "data": {
      "text/latex": [
       "$\\displaystyle \\left[\\begin{matrix}3 & 4\\\\5 & 7\\end{matrix}\\right]$"
      ],
      "text/plain": [
       "⎡3  4⎤\n",
       "⎢    ⎥\n",
       "⎣5  7⎦"
      ]
     },
     "execution_count": 4,
     "metadata": {},
     "output_type": "execute_result"
    }
   ],
   "source": [
    "#creating a 2 x 2 matrix\n",
    "sym.Matrix([[3, 4],[5, 7]])"
   ]
  },
  {
   "cell_type": "markdown",
   "id": "1f41c6b7-cd82-4ba1-977d-dc281bdc73f2",
   "metadata": {},
   "source": [
    "## In-built matrices"
   ]
  },
  {
   "cell_type": "code",
   "execution_count": 5,
   "id": "e48c6cc2-ce87-467c-9032-2b4d8879e518",
   "metadata": {},
   "outputs": [
    {
     "data": {
      "text/latex": [
       "$\\displaystyle \\left[\\begin{matrix}1 & 0 & 0\\\\0 & 1 & 0\\\\0 & 0 & 1\\end{matrix}\\right]$"
      ],
      "text/plain": [
       "⎡1  0  0⎤\n",
       "⎢       ⎥\n",
       "⎢0  1  0⎥\n",
       "⎢       ⎥\n",
       "⎣0  0  1⎦"
      ]
     },
     "execution_count": 5,
     "metadata": {},
     "output_type": "execute_result"
    }
   ],
   "source": [
    "# Identity matrix\n",
    "sym.eye(3)"
   ]
  },
  {
   "cell_type": "code",
   "execution_count": 6,
   "id": "2f53d50f-87ff-4fa6-87ef-0e0755c9820d",
   "metadata": {},
   "outputs": [
    {
     "data": {
      "text/latex": [
       "$\\displaystyle \\left[\\begin{matrix}0 & 0 & 0\\\\0 & 0 & 0\\\\0 & 0 & 0\\end{matrix}\\right]$"
      ],
      "text/plain": [
       "⎡0  0  0⎤\n",
       "⎢       ⎥\n",
       "⎢0  0  0⎥\n",
       "⎢       ⎥\n",
       "⎣0  0  0⎦"
      ]
     },
     "execution_count": 6,
     "metadata": {},
     "output_type": "execute_result"
    }
   ],
   "source": [
    "#All zeros, 3 x 3 matrix\n",
    "sym.zeros(3)"
   ]
  },
  {
   "cell_type": "code",
   "execution_count": 7,
   "id": "f2cd8d0c-3014-4c8e-af4e-800f3a1c6be0",
   "metadata": {},
   "outputs": [
    {
     "data": {
      "text/latex": [
       "$\\displaystyle \\left[\\begin{matrix}1 & 1 & 1 & 1\\\\1 & 1 & 1 & 1\\\\1 & 1 & 1 & 1\\\\1 & 1 & 1 & 1\\end{matrix}\\right]$"
      ],
      "text/plain": [
       "⎡1  1  1  1⎤\n",
       "⎢          ⎥\n",
       "⎢1  1  1  1⎥\n",
       "⎢          ⎥\n",
       "⎢1  1  1  1⎥\n",
       "⎢          ⎥\n",
       "⎣1  1  1  1⎦"
      ]
     },
     "execution_count": 7,
     "metadata": {},
     "output_type": "execute_result"
    }
   ],
   "source": [
    "#ALl ones, 4 x 4 matrix\n",
    "sym.ones(4)"
   ]
  },
  {
   "cell_type": "code",
   "execution_count": 9,
   "id": "d3005bfd-b60e-43ac-9a1c-b338c4bb9832",
   "metadata": {},
   "outputs": [
    {
     "data": {
      "text/latex": [
       "$\\displaystyle \\left[\\begin{matrix}3 & 0 & 0 & 0 & 0\\\\0 & 4 & 0 & 0 & 0\\\\0 & 0 & 5 & 0 & 0\\\\0 & 0 & 0 & 2 & 0\\\\0 & 0 & 0 & 0 & 1\\end{matrix}\\right]$"
      ],
      "text/plain": [
       "⎡3  0  0  0  0⎤\n",
       "⎢             ⎥\n",
       "⎢0  4  0  0  0⎥\n",
       "⎢             ⎥\n",
       "⎢0  0  5  0  0⎥\n",
       "⎢             ⎥\n",
       "⎢0  0  0  2  0⎥\n",
       "⎢             ⎥\n",
       "⎣0  0  0  0  1⎦"
      ]
     },
     "execution_count": 9,
     "metadata": {},
     "output_type": "execute_result"
    }
   ],
   "source": [
    "# A diagonal matrix\n",
    "sym.diag(3,4,5,2,1)"
   ]
  },
  {
   "cell_type": "markdown",
   "id": "624d067f-55a9-4f94-91ff-a93919ac0ae1",
   "metadata": {},
   "source": [
    "## Saving a matrix object in a computer variable"
   ]
  },
  {
   "cell_type": "code",
   "execution_count": 14,
   "id": "f6701810-62c1-4f9e-bd43-bfda2bd169f3",
   "metadata": {},
   "outputs": [],
   "source": [
    "#creating the computer variable, A, that holds a 4x4 matrix\n",
    "# a semi-colon supresses screen output\n",
    "A = sym.Matrix([[1,2,3,4],[5,6,7,8],[9,10,11,12],[13,14,15,16]]);"
   ]
  },
  {
   "cell_type": "code",
   "execution_count": 13,
   "id": "a957b3bc-6171-4bde-8bbf-4b3a4709ef1e",
   "metadata": {},
   "outputs": [
    {
     "data": {
      "text/latex": [
       "$\\displaystyle \\left[\\begin{matrix}1 & 2 & 3 & 4\\\\5 & 6 & 7 & 8\\\\9 & 10 & 11 & 12\\\\13 & 14 & 15 & 16\\end{matrix}\\right]$"
      ],
      "text/plain": [
       "⎡1   2   3   4 ⎤\n",
       "⎢              ⎥\n",
       "⎢5   6   7   8 ⎥\n",
       "⎢              ⎥\n",
       "⎢9   10  11  12⎥\n",
       "⎢              ⎥\n",
       "⎣13  14  15  16⎦"
      ]
     },
     "execution_count": 13,
     "metadata": {},
     "output_type": "execute_result"
    }
   ],
   "source": [
    "A"
   ]
  },
  {
   "cell_type": "code",
   "execution_count": 15,
   "id": "1112c3ba-cba0-48b0-9259-c9f21b30c29f",
   "metadata": {},
   "outputs": [
    {
     "data": {
      "text/plain": [
       "sympy.matrices.dense.MutableDenseMatrix"
      ]
     },
     "execution_count": 15,
     "metadata": {},
     "output_type": "execute_result"
    }
   ],
   "source": [
    "type(A)"
   ]
  },
  {
   "cell_type": "markdown",
   "id": "b48a53e4-753b-4563-a3e6-17838d3a64fc",
   "metadata": {},
   "source": [
    "## Accessing elements of a matrix using addressing"
   ]
  },
  {
   "cell_type": "code",
   "execution_count": 16,
   "id": "3c85bbd8-ec3f-4d81-a369-025df0bf4747",
   "metadata": {},
   "outputs": [
    {
     "data": {
      "image/png": "[encoded data removed]",
      "text/latex": [
       "$\\displaystyle 1$"
      ],
      "text/plain": [
       "1"
      ]
     },
     "execution_count": 16,
     "metadata": {},
     "output_type": "execute_result"
    }
   ],
   "source": [
    "# The element in row 1, col 1\n",
    "A[0,0]"
   ]
  },
  {
   "cell_type": "code",
   "execution_count": 17,
   "id": "f7ca95df-c8f6-45d1-bf94-51a1e53127d8",
   "metadata": {},
   "outputs": [
    {
     "data": {
      "image/png": "[encoded data removed]",
      "text/latex": [
       "$\\displaystyle 10$"
      ],
      "text/plain": [
       "10"
      ]
     },
     "execution_count": 17,
     "metadata": {},
     "output_type": "execute_result"
    }
   ],
   "source": [
    "#the element in row 3, col 2\n",
    "A[3-1,2-1]"
   ]
  },
  {
   "cell_type": "code",
   "execution_count": 19,
   "id": "03c83675-6658-4434-b81f-a1a4c55cdcd3",
   "metadata": {},
   "outputs": [
    {
     "data": {
      "text/latex": [
       "$\\displaystyle \\left[\\begin{matrix}1 & 2 & 3 & 4\\end{matrix}\\right]$"
      ],
      "text/plain": [
       "[1  2  3  4]"
      ]
     },
     "execution_count": 19,
     "metadata": {},
     "output_type": "execute_result"
    }
   ],
   "source": [
    "# ELements in row 1\n",
    "A[0, 0:4]"
   ]
  },
  {
   "cell_type": "code",
   "execution_count": 20,
   "id": "f582f304-5b2b-4a9b-98bf-9f9bd673c84d",
   "metadata": {},
   "outputs": [
    {
     "data": {
      "text/latex": [
       "$\\displaystyle \\left[\\begin{matrix}1 & 2 & 3 & 4\\end{matrix}\\right]$"
      ],
      "text/plain": [
       "[1  2  3  4]"
      ]
     },
     "execution_count": 20,
     "metadata": {},
     "output_type": "execute_result"
    }
   ],
   "source": [
    "A[0,:]"
   ]
  },
  {
   "cell_type": "code",
   "execution_count": 21,
   "id": "d0eb13ee-f398-42a0-bc32-611a96522175",
   "metadata": {},
   "outputs": [
    {
     "data": {
      "text/latex": [
       "$\\displaystyle \\left[\\begin{matrix}7 & 8\\\\11 & 12\\\\15 & 16\\end{matrix}\\right]$"
      ],
      "text/plain": [
       "⎡7   8 ⎤\n",
       "⎢      ⎥\n",
       "⎢11  12⎥\n",
       "⎢      ⎥\n",
       "⎣15  16⎦"
      ]
     },
     "execution_count": 21,
     "metadata": {},
     "output_type": "execute_result"
    }
   ],
   "source": [
    "A[1:4, 2:4]"
   ]
  },
  {
   "cell_type": "code",
   "execution_count": 22,
   "id": "67234e3d-5c2f-40c7-9d10-7cc97078eea8",
   "metadata": {},
   "outputs": [
    {
     "data": {
      "text/latex": [
       "$\\displaystyle \\left[\\begin{matrix}2 & 4\\\\6 & 8\\\\10 & 12\\\\14 & 16\\end{matrix}\\right]$"
      ],
      "text/plain": [
       "⎡2   4 ⎤\n",
       "⎢      ⎥\n",
       "⎢6   8 ⎥\n",
       "⎢      ⎥\n",
       "⎢10  12⎥\n",
       "⎢      ⎥\n",
       "⎣14  16⎦"
      ]
     },
     "execution_count": 22,
     "metadata": {},
     "output_type": "execute_result"
    }
   ],
   "source": [
    "A[:, (1,3)]"
   ]
  },
  {
   "cell_type": "markdown",
   "id": "d2c86846-2b8b-41f5-b789-fdc9e573d629",
   "metadata": {},
   "source": [
    "## Matrix arithmetic"
   ]
  },
  {
   "cell_type": "code",
   "execution_count": 23,
   "id": "f987cecd-a3ef-4121-8693-0804f4c77545",
   "metadata": {},
   "outputs": [],
   "source": [
    "x , y = sym.symbols(\"x y\")"
   ]
  },
  {
   "cell_type": "code",
   "execution_count": 24,
   "id": "94a309a4-7a96-4178-a1a1-0af3dee6864a",
   "metadata": {},
   "outputs": [
    {
     "data": {
      "image/png": "[encoded data removed]",
      "text/latex": [
       "$\\displaystyle x^{2}$"
      ],
      "text/plain": [
       " 2\n",
       "x "
      ]
     },
     "execution_count": 24,
     "metadata": {},
     "output_type": "execute_result"
    }
   ],
   "source": [
    "x**2"
   ]
  },
  {
   "cell_type": "code",
   "execution_count": 25,
   "id": "c66f0d1d-26ab-4008-8515-51ac8a8e438d",
   "metadata": {},
   "outputs": [],
   "source": [
    "a11, a12, a21, a22, b11, b12, b21, b22 = sym.symbols(\"a11 a12 a21 a22 b11 b12 b21 b22\")"
   ]
  },
  {
   "cell_type": "code",
   "execution_count": 27,
   "id": "3549b1fd-1631-4468-b1d4-68ecfaf59c0a",
   "metadata": {},
   "outputs": [],
   "source": [
    "A = sym.Matrix([[a11, a12],[a21, a22]])\n",
    "B = sym.Matrix([[b11, b12],[b21, b22]])"
   ]
  },
  {
   "cell_type": "code",
   "execution_count": 29,
   "id": "f710c8db-91b4-4394-84ab-3af3748496ff",
   "metadata": {},
   "outputs": [
    {
     "data": {
      "image/png": "[encoded data removed]",
      "text/latex": [
       "$\\displaystyle \\left( 2, \\  2\\right)$"
      ],
      "text/plain": [
       "(2, 2)"
      ]
     },
     "execution_count": 29,
     "metadata": {},
     "output_type": "execute_result"
    }
   ],
   "source": [
    "A.shape"
   ]
  },
  {
   "cell_type": "code",
   "execution_count": 30,
   "id": "4547a5cc-b7d9-44a3-98fd-fd49526db7b8",
   "metadata": {},
   "outputs": [
    {
     "data": {
      "text/latex": [
       "$\\displaystyle \\left[\\begin{matrix}a_{11} & a_{12}\\\\a_{21} & a_{22}\\end{matrix}\\right]$"
      ],
      "text/plain": [
       "⎡a₁₁  a₁₂⎤\n",
       "⎢        ⎥\n",
       "⎣a₂₁  a₂₂⎦"
      ]
     },
     "execution_count": 30,
     "metadata": {},
     "output_type": "execute_result"
    }
   ],
   "source": [
    "A"
   ]
  },
  {
   "cell_type": "code",
   "execution_count": 38,
   "id": "9482e27b-241d-44dd-8814-c9ba5a9a26c3",
   "metadata": {},
   "outputs": [
    {
     "data": {
      "text/latex": [
       "$\\displaystyle \\left[\\begin{matrix}b_{11} & b_{12}\\\\b_{21} & b_{22}\\end{matrix}\\right]$"
      ],
      "text/plain": [
       "⎡b₁₁  b₁₂⎤\n",
       "⎢        ⎥\n",
       "⎣b₂₁  b₂₂⎦"
      ]
     },
     "execution_count": 38,
     "metadata": {},
     "output_type": "execute_result"
    }
   ],
   "source": [
    "B"
   ]
  },
  {
   "cell_type": "code",
   "execution_count": 39,
   "id": "40510bfb-f8f7-49d1-8545-17c5cf64f61a",
   "metadata": {},
   "outputs": [
    {
     "data": {
      "text/latex": [
       "$\\displaystyle \\left[\\begin{matrix}3 a_{11} & 3 a_{12}\\\\3 a_{21} & 3 a_{22}\\end{matrix}\\right]$"
      ],
      "text/plain": [
       "⎡3⋅a₁₁  3⋅a₁₂⎤\n",
       "⎢            ⎥\n",
       "⎣3⋅a₂₁  3⋅a₂₂⎦"
      ]
     },
     "execution_count": 39,
     "metadata": {},
     "output_type": "execute_result"
    }
   ],
   "source": [
    "3*A"
   ]
  },
  {
   "cell_type": "code",
   "execution_count": 40,
   "id": "27d2db0c-36b2-4f8b-a2d7-6377c32c20ea",
   "metadata": {},
   "outputs": [
    {
     "data": {
      "text/latex": [
       "$\\displaystyle \\left[\\begin{matrix}a_{11} + b_{11} & a_{12} + b_{12}\\\\a_{21} + b_{21} & a_{22} + b_{22}\\end{matrix}\\right]$"
      ],
      "text/plain": [
       "⎡a₁₁ + b₁₁  a₁₂ + b₁₂⎤\n",
       "⎢                    ⎥\n",
       "⎣a₂₁ + b₂₁  a₂₂ + b₂₂⎦"
      ]
     },
     "execution_count": 40,
     "metadata": {},
     "output_type": "execute_result"
    }
   ],
   "source": [
    "A+B"
   ]
  },
  {
   "cell_type": "code",
   "execution_count": 41,
   "id": "94ad4103-a7e6-4faa-bed8-caacaf9743f0",
   "metadata": {},
   "outputs": [
    {
     "data": {
      "text/latex": [
       "$\\displaystyle \\left[\\begin{matrix}a_{11} + b_{11} & a_{12} + b_{12}\\\\a_{21} + b_{21} & a_{22} + b_{22}\\end{matrix}\\right]$"
      ],
      "text/plain": [
       "⎡a₁₁ + b₁₁  a₁₂ + b₁₂⎤\n",
       "⎢                    ⎥\n",
       "⎣a₂₁ + b₂₁  a₂₂ + b₂₂⎦"
      ]
     },
     "execution_count": 41,
     "metadata": {},
     "output_type": "execute_result"
    }
   ],
   "source": [
    "B+A"
   ]
  },
  {
   "cell_type": "code",
   "execution_count": 42,
   "id": "3392675b-0665-4aa8-8d4b-b96809a0d70c",
   "metadata": {},
   "outputs": [
    {
     "data": {
      "text/latex": [
       "$\\displaystyle \\left[\\begin{matrix}a_{11} b_{11} + a_{12} b_{21} & a_{11} b_{12} + a_{12} b_{22}\\\\a_{21} b_{11} + a_{22} b_{21} & a_{21} b_{12} + a_{22} b_{22}\\end{matrix}\\right]$"
      ],
      "text/plain": [
       "⎡a₁₁⋅b₁₁ + a₁₂⋅b₂₁  a₁₁⋅b₁₂ + a₁₂⋅b₂₂⎤\n",
       "⎢                                    ⎥\n",
       "⎣a₂₁⋅b₁₁ + a₂₂⋅b₂₁  a₂₁⋅b₁₂ + a₂₂⋅b₂₂⎦"
      ]
     },
     "execution_count": 42,
     "metadata": {},
     "output_type": "execute_result"
    }
   ],
   "source": [
    "A*B"
   ]
  },
  {
   "cell_type": "code",
   "execution_count": 43,
   "id": "cd22e107-f087-42c4-89e9-394ecf031792",
   "metadata": {},
   "outputs": [
    {
     "data": {
      "image/png": "[encoded data removed]",
      "text/latex": [
       "$\\displaystyle \\left( 2, \\  2\\right)$"
      ],
      "text/plain": [
       "(2, 2)"
      ]
     },
     "execution_count": 43,
     "metadata": {},
     "output_type": "execute_result"
    }
   ],
   "source": [
    "(A*B).shape"
   ]
  },
  {
   "cell_type": "code",
   "execution_count": 44,
   "id": "7d72f4dc-ad46-414a-aa8b-8bd2be8147f5",
   "metadata": {},
   "outputs": [
    {
     "data": {
      "text/latex": [
       "$\\displaystyle \\left[\\begin{matrix}a_{11} b_{11} + a_{12} b_{21} & a_{11} b_{12} + a_{12} b_{22}\\\\a_{21} b_{11} + a_{22} b_{21} & a_{21} b_{12} + a_{22} b_{22}\\end{matrix}\\right]$"
      ],
      "text/plain": [
       "⎡a₁₁⋅b₁₁ + a₁₂⋅b₂₁  a₁₁⋅b₁₂ + a₁₂⋅b₂₂⎤\n",
       "⎢                                    ⎥\n",
       "⎣a₂₁⋅b₁₁ + a₂₂⋅b₂₁  a₂₁⋅b₁₂ + a₂₂⋅b₂₂⎦"
      ]
     },
     "execution_count": 44,
     "metadata": {},
     "output_type": "execute_result"
    }
   ],
   "source": [
    "A*B"
   ]
  },
  {
   "cell_type": "code",
   "execution_count": 45,
   "id": "ac8faa98-32c2-43eb-95bd-6d197ba0a52f",
   "metadata": {},
   "outputs": [
    {
     "data": {
      "text/latex": [
       "$\\displaystyle \\left[\\begin{matrix}a_{11} b_{11} + a_{21} b_{12} & a_{12} b_{11} + a_{22} b_{12}\\\\a_{11} b_{21} + a_{21} b_{22} & a_{12} b_{21} + a_{22} b_{22}\\end{matrix}\\right]$"
      ],
      "text/plain": [
       "⎡a₁₁⋅b₁₁ + a₂₁⋅b₁₂  a₁₂⋅b₁₁ + a₂₂⋅b₁₂⎤\n",
       "⎢                                    ⎥\n",
       "⎣a₁₁⋅b₂₁ + a₂₁⋅b₂₂  a₁₂⋅b₂₁ + a₂₂⋅b₂₂⎦"
      ]
     },
     "execution_count": 45,
     "metadata": {},
     "output_type": "execute_result"
    }
   ],
   "source": [
    "B*A"
   ]
  },
  {
   "cell_type": "markdown",
   "id": "175ab410-77e9-4b55-a968-abe294e6ce39",
   "metadata": {},
   "source": [
    "## LU decomposition"
   ]
  },
  {
   "cell_type": "code",
   "execution_count": 46,
   "id": "b435c0f4-2de1-4b9c-8832-d86d586907cc",
   "metadata": {},
   "outputs": [],
   "source": [
    "from sympy import Matrix"
   ]
  },
  {
   "cell_type": "code",
   "execution_count": 49,
   "id": "02c2f543-601b-412a-b2b9-e18354c78a04",
   "metadata": {},
   "outputs": [
    {
     "data": {
      "text/latex": [
       "$\\displaystyle \\left[\\begin{matrix}1 & 2 & 3\\\\4 & 5 & 6\\\\7 & 8 & 9\\end{matrix}\\right]$"
      ],
      "text/plain": [
       "⎡1  2  3⎤\n",
       "⎢       ⎥\n",
       "⎢4  5  6⎥\n",
       "⎢       ⎥\n",
       "⎣7  8  9⎦"
      ]
     },
     "execution_count": 49,
     "metadata": {},
     "output_type": "execute_result"
    }
   ],
   "source": [
    "C = Matrix([[1,2,3],[4,5,6],[7,8,9]])\n",
    "C"
   ]
  },
  {
   "cell_type": "code",
   "execution_count": 58,
   "id": "ec70c2a2-e03c-4725-a103-90e884cf9d16",
   "metadata": {},
   "outputs": [],
   "source": [
    "L, U, _ = C.LUdecomposition()"
   ]
  },
  {
   "cell_type": "code",
   "execution_count": 59,
   "id": "4ef6df6c-a21a-4a4f-8967-2f7e85ce72e8",
   "metadata": {},
   "outputs": [
    {
     "data": {
      "text/latex": [
       "$\\displaystyle \\left[\\begin{matrix}1 & 0 & 0\\\\4 & 1 & 0\\\\7 & 2 & 1\\end{matrix}\\right]$"
      ],
      "text/plain": [
       "⎡1  0  0⎤\n",
       "⎢       ⎥\n",
       "⎢4  1  0⎥\n",
       "⎢       ⎥\n",
       "⎣7  2  1⎦"
      ]
     },
     "execution_count": 59,
     "metadata": {},
     "output_type": "execute_result"
    }
   ],
   "source": [
    "L"
   ]
  },
  {
   "cell_type": "code",
   "execution_count": 60,
   "id": "0ac06c76-4525-43b5-b05f-95c4ff17e682",
   "metadata": {},
   "outputs": [
    {
     "data": {
      "text/latex": [
       "$\\displaystyle \\left[\\begin{matrix}1 & 2 & 3\\\\0 & -3 & -6\\\\0 & 0 & 0\\end{matrix}\\right]$"
      ],
      "text/plain": [
       "⎡1  2   3 ⎤\n",
       "⎢         ⎥\n",
       "⎢0  -3  -6⎥\n",
       "⎢         ⎥\n",
       "⎣0  0   0 ⎦"
      ]
     },
     "execution_count": 60,
     "metadata": {},
     "output_type": "execute_result"
    }
   ],
   "source": [
    "U"
   ]
  },
  {
   "cell_type": "code",
   "execution_count": 61,
   "id": "57c117ce-e673-46b9-9643-4ed89692aeef",
   "metadata": {},
   "outputs": [
    {
     "data": {
      "text/latex": [
       "$\\displaystyle \\left[\\begin{matrix}1 & 2 & 3\\\\4 & 5 & 6\\\\7 & 8 & 9\\end{matrix}\\right]$"
      ],
      "text/plain": [
       "⎡1  2  3⎤\n",
       "⎢       ⎥\n",
       "⎢4  5  6⎥\n",
       "⎢       ⎥\n",
       "⎣7  8  9⎦"
      ]
     },
     "execution_count": 61,
     "metadata": {},
     "output_type": "execute_result"
    }
   ],
   "source": [
    "L * U"
   ]
  },
  {
   "cell_type": "code",
   "execution_count": 62,
   "id": "6fbfd18e-d18d-4f8c-a3b3-3142bc96918f",
   "metadata": {},
   "outputs": [
    {
     "data": {
      "text/plain": [
       "True"
      ]
     },
     "execution_count": 62,
     "metadata": {},
     "output_type": "execute_result"
    }
   ],
   "source": [
    "C == L * U"
   ]
  },
  {
   "cell_type": "markdown",
   "id": "006e6ada-ec21-4597-99b2-a2ec06ddd764",
   "metadata": {},
   "source": [
    "## Matrix Inverse"
   ]
  },
  {
   "cell_type": "code",
   "execution_count": 63,
   "id": "ac245b29-4520-4778-ad75-c5cc61bdd2ac",
   "metadata": {},
   "outputs": [],
   "source": [
    "# from sympy import Matrix, init_printing"
   ]
  },
  {
   "cell_type": "markdown",
   "id": "fee25c98-75e1-44f3-82c2-1f255f783a43",
   "metadata": {},
   "source": [
    "$$ A \\underline{x} = \\underline{b} $$"
   ]
  },
  {
   "cell_type": "markdown",
   "id": "bdfa2f82-75d8-46e0-8037-6167384dd142",
   "metadata": {},
   "source": [
    "$$ \\underline{x} = {A}^{-1} \\underline{b} $$"
   ]
  },
  {
   "cell_type": "markdown",
   "id": "2644b356-4112-45fd-bdb3-35add4b1c573",
   "metadata": {},
   "source": [
    "### Inverse by elementary row operations"
   ]
  },
  {
   "cell_type": "code",
   "execution_count": 66,
   "id": "642c5530-9346-4e12-92e9-8f5ed327d850",
   "metadata": {},
   "outputs": [
    {
     "data": {
      "text/latex": [
       "$\\displaystyle \\left[\\begin{matrix}3 & 4 & 1 & 0\\\\4 & 5 & 0 & 1\\end{matrix}\\right]$"
      ],
      "text/plain": [
       "⎡3  4  1  0⎤\n",
       "⎢          ⎥\n",
       "⎣4  5  0  1⎦"
      ]
     },
     "execution_count": 66,
     "metadata": {},
     "output_type": "execute_result"
    }
   ],
   "source": [
    "A1 = Matrix([[3,4,1,0],[4,5,0,1]])\n",
    "A1"
   ]
  },
  {
   "cell_type": "code",
   "execution_count": 67,
   "id": "64f48bbd-b981-4bf3-ae66-fb99b2650f2b",
   "metadata": {},
   "outputs": [
    {
     "data": {
      "text/latex": [
       "$\\displaystyle \\left( \\left[\\begin{matrix}1 & 0 & -5 & 4\\\\0 & 1 & 4 & -3\\end{matrix}\\right], \\  \\left( 0, \\  1\\right)\\right)$"
      ],
      "text/plain": [
       "⎛⎡1  0  -5  4 ⎤        ⎞\n",
       "⎜⎢            ⎥, (0, 1)⎟\n",
       "⎝⎣0  1  4   -3⎦        ⎠"
      ]
     },
     "execution_count": 67,
     "metadata": {},
     "output_type": "execute_result"
    }
   ],
   "source": [
    "A1.rref()"
   ]
  },
  {
   "cell_type": "markdown",
   "id": "b431c92c-0f44-41a7-97e9-a86ab2f0e7bd",
   "metadata": {},
   "source": [
    "### Inverse through `inv()`"
   ]
  },
  {
   "cell_type": "code",
   "execution_count": 68,
   "id": "782ac3c6-4a02-4f63-8a89-c3be580d9d6f",
   "metadata": {},
   "outputs": [
    {
     "data": {
      "text/latex": [
       "$\\displaystyle \\left[\\begin{matrix}3 & 4\\\\4 & 5\\end{matrix}\\right]$"
      ],
      "text/plain": [
       "⎡3  4⎤\n",
       "⎢    ⎥\n",
       "⎣4  5⎦"
      ]
     },
     "execution_count": 68,
     "metadata": {},
     "output_type": "execute_result"
    }
   ],
   "source": [
    "A2 =  Matrix([[3,4],[4,5]])\n",
    "A2"
   ]
  },
  {
   "cell_type": "code",
   "execution_count": 69,
   "id": "dddf8b1b-b552-466e-9e2d-c9f6dfef838b",
   "metadata": {},
   "outputs": [
    {
     "data": {
      "text/latex": [
       "$\\displaystyle \\left[\\begin{matrix}-5 & 4\\\\4 & -3\\end{matrix}\\right]$"
      ],
      "text/plain": [
       "⎡-5  4 ⎤\n",
       "⎢      ⎥\n",
       "⎣4   -3⎦"
      ]
     },
     "execution_count": 69,
     "metadata": {},
     "output_type": "execute_result"
    }
   ],
   "source": [
    "A2.inv()"
   ]
  },
  {
   "cell_type": "code",
   "execution_count": 70,
   "id": "bb6eb8f5-886a-4205-bd6d-dd74cf4fe807",
   "metadata": {},
   "outputs": [
    {
     "data": {
      "text/latex": [
       "$\\displaystyle \\left[\\begin{matrix}-5 & 4\\\\4 & -3\\end{matrix}\\right]$"
      ],
      "text/plain": [
       "⎡-5  4 ⎤\n",
       "⎢      ⎥\n",
       "⎣4   -3⎦"
      ]
     },
     "execution_count": 70,
     "metadata": {},
     "output_type": "execute_result"
    }
   ],
   "source": [
    "A2.inv(method=\"LU\")"
   ]
  },
  {
   "cell_type": "markdown",
   "id": "e7d932ad-d362-4de0-aa91-0a519d03a256",
   "metadata": {},
   "source": [
    "## Null space of a matrix"
   ]
  },
  {
   "cell_type": "code",
   "execution_count": 71,
   "id": "768b1caa-1321-421f-9515-dd1cdecac547",
   "metadata": {},
   "outputs": [
    {
     "data": {
      "text/latex": [
       "$\\displaystyle \\left[\\begin{matrix}1 & 2 & 2 & 2\\\\2 & 4 & 6 & 8\\\\3 & 6 & 8 & 10\\end{matrix}\\right]$"
      ],
      "text/plain": [
       "⎡1  2  2  2 ⎤\n",
       "⎢           ⎥\n",
       "⎢2  4  6  8 ⎥\n",
       "⎢           ⎥\n",
       "⎣3  6  8  10⎦"
      ]
     },
     "execution_count": 71,
     "metadata": {},
     "output_type": "execute_result"
    }
   ],
   "source": [
    "S = Matrix([[1,2,2,2],[2,4,6,8],[3,6,8,10]])\n",
    "S"
   ]
  },
  {
   "cell_type": "code",
   "execution_count": 72,
   "id": "ed663a33-7f6d-4b4b-8bea-9111f6185256",
   "metadata": {},
   "outputs": [
    {
     "data": {
      "text/latex": [
       "$\\displaystyle \\left( \\left[\\begin{matrix}1 & 2 & 0 & -2\\\\0 & 0 & 1 & 2\\\\0 & 0 & 0 & 0\\end{matrix}\\right], \\  \\left( 0, \\  2\\right)\\right)$"
      ],
      "text/plain": [
       "⎛⎡1  2  0  -2⎤        ⎞\n",
       "⎜⎢           ⎥        ⎟\n",
       "⎜⎢0  0  1  2 ⎥, (0, 2)⎟\n",
       "⎜⎢           ⎥        ⎟\n",
       "⎝⎣0  0  0  0 ⎦        ⎠"
      ]
     },
     "execution_count": 72,
     "metadata": {},
     "output_type": "execute_result"
    }
   ],
   "source": [
    "S.rref()"
   ]
  },
  {
   "cell_type": "code",
   "execution_count": 73,
   "id": "4ede110f-b9fe-4b48-9008-7e20c1cc64cf",
   "metadata": {},
   "outputs": [
    {
     "data": {
      "text/latex": [
       "$\\displaystyle \\left[ \\left[\\begin{matrix}-2\\\\1\\\\0\\\\0\\end{matrix}\\right], \\  \\left[\\begin{matrix}2\\\\0\\\\-2\\\\1\\end{matrix}\\right]\\right]$"
      ],
      "text/plain": [
       "⎡⎡-2⎤  ⎡2 ⎤⎤\n",
       "⎢⎢  ⎥  ⎢  ⎥⎥\n",
       "⎢⎢1 ⎥  ⎢0 ⎥⎥\n",
       "⎢⎢  ⎥, ⎢  ⎥⎥\n",
       "⎢⎢0 ⎥  ⎢-2⎥⎥\n",
       "⎢⎢  ⎥  ⎢  ⎥⎥\n",
       "⎣⎣0 ⎦  ⎣1 ⎦⎦"
      ]
     },
     "execution_count": 73,
     "metadata": {},
     "output_type": "execute_result"
    }
   ],
   "source": [
    "S.nullspace()"
   ]
  },
  {
   "cell_type": "code",
   "execution_count": null,
   "id": "ee910cdf-3985-4b8e-b796-be3ec93f771c",
   "metadata": {},
   "outputs": [],
   "source": []
  }
 ],
 "metadata": {
  "kernelspec": {
   "display_name": "Python 3 (ipykernel)",
   "language": "python",
   "name": "python3"
  },
  "language_info": {
   "codemirror_mode": {
    "name": "ipython",
    "version": 3
   },
   "file_extension": ".py",
   "mimetype": "text/x-python",
   "name": "python",
   "nbconvert_exporter": "python",
   "pygments_lexer": "ipython3",
   "version": "3.11.7"
  },
  "widgets": {
   "application/vnd.jupyter.widget-state+json": {
    "state": {},
    "version_major": 2,
    "version_minor": 0
   }
  }
 },
 "nbformat": 4,
 "nbformat_minor": 5
}
