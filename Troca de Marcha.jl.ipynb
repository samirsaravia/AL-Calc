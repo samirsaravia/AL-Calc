{
 "cells": [
  {
   "cell_type": "markdown",
   "id": "5dac58d4",
   "metadata": {},
   "source": [
    "Escrito em Julia 1.10.2"
   ]
  },
  {
   "cell_type": "code",
   "execution_count": null,
   "id": "08a4ccef",
   "metadata": {},
   "outputs": [],
   "source": []
  }
 ],
 "metadata": {
  "kernelspec": {
   "display_name": "Julia 1.10.2",
   "language": "julia",
   "name": "julia-1.10"
  }
 },
 "nbformat": 4,
 "nbformat_minor": 5
}
